{
  "nbformat": 4,
  "nbformat_minor": 0,
  "metadata": {
    "colab": {
      "name": "政府地理資訊整理.ipynb",
      "provenance": [],
      "collapsed_sections": []
    },
    "kernelspec": {
      "name": "python3",
      "display_name": "Python 3"
    },
    "language_info": {
      "name": "python"
    }
  },
  "cells": [
    {
      "cell_type": "code",
      "metadata": {
        "id": "_7RyrbGTp4Pk"
      },
      "source": [
        "import re\n",
        "import time\n",
        "import os\n",
        "from datetime import datetime\n",
        "from bs4 import BeautifulSoup\n",
        "import pandas as pd\n",
        "import numpy as np\n",
        "from string import Template\n",
        "import urllib\n",
        "import json\n",
        "import pickle\n",
        "\n",
        "\n",
        "from pprint import pprint\n",
        "import sys\n",
        "\n",
        "import matplotlib.pyplot as plt\n",
        "\n",
        "from sklearn.cluster import KMeans\n",
        "from sklearn.metrics import silhouette_score,davies_bouldin_score,calinski_harabasz_score\n",
        "from sklearn.decomposition import PCA, SparsePCA\n",
        "from sklearn.manifold import Isomap\n",
        "from sklearn.manifold import TSNE\n",
        "from sklearn.preprocessing import StandardScaler, MinMaxScaler"
      ],
      "execution_count": 10,
      "outputs": []
    },
    {
      "cell_type": "code",
      "metadata": {
        "id": "_0j8NoROByZB"
      },
      "source": [
        "pd.set_option('display.max_rows', 500)\n"
      ],
      "execution_count": 11,
      "outputs": []
    },
    {
      "cell_type": "markdown",
      "metadata": {
        "id": "JOCq9UW5hwkK"
      },
      "source": [
        "## 對照表整併"
      ]
    },
    {
      "cell_type": "code",
      "metadata": {
        "id": "5pzjHlyEtb5s"
      },
      "source": [
        "## 經濟地理資訊平台API抓的資料\n",
        "\n",
        "with open('/content/drive/MyDrive/03_RESOURCE/GIS/gis_open_api.pickle', 'rb') as f:\n",
        "    api_data = pickle.load(f)"
      ],
      "execution_count": 16,
      "outputs": []
    },
    {
      "cell_type": "code",
      "metadata": {
        "id": "iUd_WS2XqiMf"
      },
      "source": [
        "\n",
        "# 分行爬蟲資訊\n",
        "\n",
        "## 各分行地址與基本資訊\n",
        "brn_df = pd.read_csv('/content/drive/MyDrive/03_RESOURCE/GIS/taishin_brn.csv').drop_duplicates()\n",
        "\n",
        "## 分行地址與點位\n",
        "brn_xy_df = pd.read_csv('/content/drive/MyDrive/03_RESOURCE/GIS/brn_xy_df.csv')\n",
        "\n",
        "## 合併並去掉重複\n",
        "brn_df = brn_df.merge(brn_xy_df,how='left' ,on = 'addr').copy()\n",
        "brn_df = brn_df.drop_duplicates()\n",
        "\n",
        "## 作為主表\n",
        "brn_code_df = brn_df[['brn', 'addr', 'lon', 'lat']]\n",
        "\n",
        "## 整理經濟三級發布區\n",
        "brn_code3_df = pd.DataFrame(\n",
        "    [(x,api_data[x]['code3_data']['ADMIV']['CODE3']) for x in list(api_data.keys()) if x !='南崁分行'],\n",
        "    columns = ['brn','eco_code3']\n",
        ")\n",
        "brn_code3_df = pd.concat([brn_code3_df, pd.DataFrame([['南崁分行','A6800005028']], columns=['brn','eco_code3'])])\n",
        "brn_code3_df = brn_code3_df.reset_index(drop=True)\n",
        "\n",
        "## 整理統計二級發布區\n",
        "brn_code2_df = pd.read_csv('/content/drive/MyDrive/03_RESOURCE/GIS/分行統計區代碼對照.csv', encoding='CP950')\n",
        "brn_code2_df = brn_code2_df[['ID','縣市', '鄉鎮市區', '村里', '二級發布區', '一級發布區', '最小統計區']].rename(\n",
        "    {\n",
        "      'ID': 'brn',\n",
        "      '縣市':'city',\n",
        "      '鄉鎮市區':'town',\n",
        "      '村里':'village',\n",
        "      '二級發布區':'code_2',\n",
        "      '一級發布區':'code_1',\n",
        "      '最小統計區':'code_min'\n",
        "    },\n",
        "    axis=1\n",
        ")\n",
        "\n",
        "# 整併\n",
        "brn_code_df = brn_code_df.merge(brn_code2_df, how='left', on=['brn'])\n",
        "brn_code_df = brn_code_df.merge(brn_code3_df, how='left', on=['brn'])\n",
        "\n",
        "# 資料清理\n",
        "## 處理異體字跟鄉鎮市區層級更名\n",
        "\n",
        "brn_code_df['town'] = brn_code_df['town'].replace('員林鎮', '員林市')\n",
        "brn_code_df.loc[brn_code_df['town']=='新店區','village'] = brn_code_df.loc[brn_code_df['town']=='新店區','village'].replace('五?里', '五峰里')\n"
      ],
      "execution_count": 17,
      "outputs": []
    },
    {
      "cell_type": "markdown",
      "metadata": {
        "id": "xsB2uyQLia2e"
      },
      "source": [
        "## 電信信令人口資料"
      ]
    },
    {
      "cell_type": "code",
      "metadata": {
        "id": "LW7OGS6XWw8h"
      },
      "source": [
        "## 電信信令人口資料\n",
        "tele_df = pd.read_csv('/content/drive/MyDrive/03_RESOURCE/GIS/109年11月行政區電信信令人口統計資料_鄉鎮市區.csv', encoding='CP950',skiprows=0)"
      ],
      "execution_count": 22,
      "outputs": []
    },
    {
      "cell_type": "code",
      "metadata": {
        "colab": {
          "base_uri": "https://localhost:8080/"
        },
        "id": "cKVkK9Q04Vvx",
        "outputId": "c7ee7b0a-574a-4e4b-f7d8-d07c50c143fc"
      },
      "source": [
        "tele_chi_nm = tele_df.iloc[0,:].copy()\n",
        "tele_chi_nm"
      ],
      "execution_count": 23,
      "outputs": [
        {
          "output_type": "execute_result",
          "data": {
            "text/plain": [
              "COUNTY_ID                       縣市代碼\n",
              "COUNTY                          縣市名稱\n",
              "TOWN_ID                       鄉鎮市區代碼\n",
              "TOWN                          鄉鎮市區名稱\n",
              "NIGHT_WORK                  平日夜間停留人數\n",
              "DAY_WORK(7:00~13:00)        平日上午活動人數\n",
              "DAY_WORK(13:00~19:00)       平日下午活動人數\n",
              "DAY_WORK                    平日日間活動人數\n",
              "NIGHT_WEEKEND               假日夜間停留人數\n",
              "DAY_WEEKEND(7:00~13:00)     假日上午活動人數\n",
              "DAY_WEEKEND(13:00~19:00)    假日下午活動人數\n",
              "DAY_WEEKEND                 假日日間活動人數\n",
              "MORNING_WORK                  平日早晨旅次\n",
              "MIDDAY_WORK                   平日中午旅次\n",
              "AFTERNOON_WORK                平日午後旅次\n",
              "EVENING_WORK                  平日晚上旅次\n",
              "MORNING_WEEKEND               假日早晨旅次\n",
              "MIDDAY_WEEKEND                假日中午旅次\n",
              "AFTERNOON_WEEKEND             假日午後旅次\n",
              "EVENING_WEEKEND               假日晚上旅次\n",
              "INFO_TIME                       資料時間\n",
              "Name: 0, dtype: object"
            ]
          },
          "metadata": {},
          "execution_count": 23
        }
      ]
    },
    {
      "cell_type": "code",
      "metadata": {
        "id": "dhmDM9J_4dJE"
      },
      "source": [
        "tele_df = tele_df.iloc[1:,:].copy()"
      ],
      "execution_count": 24,
      "outputs": []
    },
    {
      "cell_type": "code",
      "metadata": {
        "id": "c4fVQZqiZBgt"
      },
      "source": [
        "tele_df['day_night_ratio'] = tele_df['DAY_WORK(13:00~19:00)']/(tele_df['NIGHT_WORK']+1)"
      ],
      "execution_count": 27,
      "outputs": []
    },
    {
      "cell_type": "code",
      "metadata": {
        "id": "RCAbCgbbw_L5"
      },
      "source": [
        "tele_df['holiday_work_ratio'] = tele_df['NIGHT_WORK']/(tele_df['DAY_WORK']+1)"
      ],
      "execution_count": 28,
      "outputs": []
    },
    {
      "cell_type": "code",
      "metadata": {
        "id": "yXn_Cx_84_ef"
      },
      "source": [
        "tele_df = tele_df[['COUNTY','TOWN','day_night_ratio','holiday_work_ratio']]"
      ],
      "execution_count": 30,
      "outputs": []
    },
    {
      "cell_type": "code",
      "metadata": {
        "id": "z8C_zv9l5JZz"
      },
      "source": [
        "tele_df[['day_night_ratio','holiday_work_ratio']] = tele_df[['day_night_ratio','holiday_work_ratio']].astype(float)"
      ],
      "execution_count": 31,
      "outputs": []
    },
    {
      "cell_type": "markdown",
      "metadata": {
        "id": "xnKwb7Ozifli"
      },
      "source": [
        "## 周圍公司行號"
      ]
    },
    {
      "cell_type": "code",
      "metadata": {
        "id": "1mI-p8rCbGXn"
      },
      "source": [
        "# 公司行號工廠資訊\n",
        "\n",
        "poi_num_df = []\n",
        "for brn in list(api_data.keys()):\n",
        "    df = pd.DataFrame([list(api_data[brn]['around_num'].values())],columns=['factory_num','bu_num', 'cmp_num', 'stk_num'])\n",
        "    poi_num_df.append(df)\n",
        "poi_num_df = pd.concat(poi_num_df)\n",
        "poi_num_df['brn'] = list(api_data.keys())"
      ],
      "execution_count": 32,
      "outputs": []
    },
    {
      "cell_type": "code",
      "metadata": {
        "id": "JYcWuwYjrJvw"
      },
      "source": [
        "%%capture\n",
        "'''\n",
        "## openstreetmap資料\n",
        "import pickle\n",
        "with open('/content/drive/MyDrive/03_RESOURCE/GIS/brn_poi.pickle', 'rb') as f:\n",
        "  poi = pickle.load(f)\n",
        "'''"
      ],
      "execution_count": 33,
      "outputs": []
    },
    {
      "cell_type": "markdown",
      "metadata": {
        "id": "f5ZU3Uk7q2qN"
      },
      "source": [
        "## 人口"
      ]
    },
    {
      "cell_type": "code",
      "metadata": {
        "id": "cO03vZKpraqi"
      },
      "source": [
        "## 人口資料\n",
        "\n",
        "pop_ratio = pd.read_csv('/content/drive/MyDrive/03_RESOURCE/GIS/台灣二級統計區人口指標.csv')\n",
        "pop_data = pd.read_csv('/content/drive/MyDrive/03_RESOURCE/GIS/台灣二級統計區人口資料.csv')\n",
        "\n",
        "pop_ratio = pop_ratio.rename({'CODE2':'code_2'},axis=1)\n",
        "pop_data = pop_data.rename({'CODE2':'code_2'},axis=1)\n"
      ],
      "execution_count": 34,
      "outputs": []
    },
    {
      "cell_type": "markdown",
      "metadata": {
        "id": "9AcuBecqq4_j"
      },
      "source": [
        "## 年收"
      ]
    },
    {
      "cell_type": "code",
      "metadata": {
        "id": "UXfxf_mTtVbO"
      },
      "source": [
        "## 年收入資料 \n",
        "## 資料年度107年 單位千元\n",
        "sal_df = pd.read_csv('https://www.fia.gov.tw/WEB/fia/ias/ias106/106_165-9.csv')"
      ],
      "execution_count": 35,
      "outputs": []
    },
    {
      "cell_type": "markdown",
      "metadata": {
        "id": "IGxlEg0Cq-Gx"
      },
      "source": [
        "## 電子發票消費熱度"
      ]
    },
    {
      "cell_type": "code",
      "metadata": {
        "id": "1etezgmn56js"
      },
      "source": [
        "## 政府製作的消費熱度\n",
        "\n",
        "e_inv_ratio = pd.read_csv('https://sip.einvoice.nat.gov.tw/ods-main/ODS308E/download/691C0280-CEFB-488F-9E71-6AA4F39A41CD/1/1124193D-09F5-4711-AB9A-01848E3B88E4/0/?fileType=csv')"
      ],
      "execution_count": 36,
      "outputs": []
    },
    {
      "cell_type": "code",
      "metadata": {
        "id": "-zhyoUmjMLs6"
      },
      "source": [
        "## 刪除所有字串內空白\n",
        "\n",
        "def whitespace_remover(dataframe):\n",
        "    # iterating over the columns\n",
        "    for i in dataframe.columns:        \n",
        "        # checking datatype of each columns\n",
        "        if dataframe[i].dtype == 'object':       \n",
        "            # applying strip function on column\n",
        "            dataframe[i] = dataframe[i].str.replace('\\s+', '', regex=True)\n",
        "        else:              \n",
        "            # if condn. is False then it will do nothing.\n",
        "            pass"
      ],
      "execution_count": 37,
      "outputs": []
    },
    {
      "cell_type": "code",
      "metadata": {
        "id": "pg1fd8nc6K--"
      },
      "source": [
        "e_inv_ratio = e_inv_ratio[e_inv_ratio['年度']==2020][['縣市','鄉鎮市區', '村里','主行業別', '消費熱度計算來源', '張數指標', '銷售額指標']]\n",
        "e_inv_ratio.eval('綜合指標 = (張數指標+銷售額指標)/2', inplace=True)\n",
        "\n",
        "## groupby mean計算不同計算來源\n",
        "\n",
        "e_inv_ratio = e_inv_ratio.groupby(['縣市', '鄉鎮市區', '村里', '主行業別'])[['綜合指標']]\\\n",
        ".agg('mean')\\\n",
        ".reset_index(level=[0,1,2,3])\n",
        "\n",
        "e_inv_ratio = e_inv_ratio.pivot_table(index=['縣市', '鄉鎮市區', '村里'], columns = ['主行業別'], values = ['綜合指標']).fillna(0)\n",
        "e_inv_ratio.columns = ['_'.join(col) for col in e_inv_ratio.columns.values]\n",
        "e_inv_ratio = e_inv_ratio.reset_index()\n"
      ],
      "execution_count": 38,
      "outputs": []
    },
    {
      "cell_type": "code",
      "metadata": {
        "id": "e2yh-suRDwru"
      },
      "source": [
        "whitespace_remover(e_inv_ratio)"
      ],
      "execution_count": 39,
      "outputs": []
    },
    {
      "cell_type": "code",
      "metadata": {
        "id": "Cf2upghxADNv"
      },
      "source": [
        "e_inv_ratio.columns = ['city','town','village','hotel_ind', 'retail_ind', 'ctring_ind']"
      ],
      "execution_count": 40,
      "outputs": []
    },
    {
      "cell_type": "code",
      "metadata": {
        "id": "s6HnbgqDPPnN"
      },
      "source": [
        "e_inv_ratio['village'] = e_inv_ratio['village'].replace('羣賢里','群賢里')\n",
        "#e_inv_ratio.query('village.str.contains(\"賢\")', engine='python')"
      ],
      "execution_count": 41,
      "outputs": []
    },
    {
      "cell_type": "markdown",
      "metadata": {
        "id": "MiEgvO_Uuu93"
      },
      "source": [
        "電子發票消費熱度指標\n",
        "\n",
        "https://data.gov.tw/dataset/36843\n",
        "\n",
        "https://sip.einvoice.nat.gov.tw/ods-main/ODS308E/download/691C0280-CEFB-488F-9E71-6AA4F39A41CD/1/1124193D-09F5-4711-AB9A-01848E3B88E4/0/?fileType=csv\n",
        "\n",
        "finlab實價登錄爬蟲\n",
        "https://www.finlab.tw/real-estate-analasys-histograms/"
      ]
    },
    {
      "cell_type": "markdown",
      "metadata": {
        "id": "btyGwHsQTo75"
      },
      "source": [
        "## 開始整併"
      ]
    },
    {
      "cell_type": "code",
      "metadata": {
        "id": "e2_S7DQaTsvx",
        "colab": {
          "base_uri": "https://localhost:8080/",
          "height": 142
        },
        "outputId": "a7fc8ecb-434a-41fb-b47e-9c40203d93b7"
      },
      "source": [
        "'''\n",
        "性比例\t戶量\t人口密度  扶養比\t扶幼比\t扶老比\t老化指數\n",
        "'''\n",
        "pop_ratio.head(3)"
      ],
      "execution_count": 42,
      "outputs": [
        {
          "output_type": "execute_result",
          "data": {
            "text/html": [
              "<div>\n",
              "<style scoped>\n",
              "    .dataframe tbody tr th:only-of-type {\n",
              "        vertical-align: middle;\n",
              "    }\n",
              "\n",
              "    .dataframe tbody tr th {\n",
              "        vertical-align: top;\n",
              "    }\n",
              "\n",
              "    .dataframe thead th {\n",
              "        text-align: right;\n",
              "    }\n",
              "</style>\n",
              "<table border=\"1\" class=\"dataframe\">\n",
              "  <thead>\n",
              "    <tr style=\"text-align: right;\">\n",
              "      <th></th>\n",
              "      <th>city</th>\n",
              "      <th>code_2</th>\n",
              "      <th>M_F_RAT</th>\n",
              "      <th>P_H_CNT</th>\n",
              "      <th>P_DEN</th>\n",
              "      <th>DEPENDENCY_RAT</th>\n",
              "      <th>A0A14_A15A65_RAT</th>\n",
              "      <th>A65UP_A15A64_RAT</th>\n",
              "      <th>A65_A0A14_RAT</th>\n",
              "      <th>INFO_TIME</th>\n",
              "    </tr>\n",
              "  </thead>\n",
              "  <tbody>\n",
              "    <tr>\n",
              "      <th>0</th>\n",
              "      <td>南投縣</td>\n",
              "      <td>A0801-01</td>\n",
              "      <td>91.86</td>\n",
              "      <td>2.91</td>\n",
              "      <td>3512.41</td>\n",
              "      <td>52.33</td>\n",
              "      <td>27.77</td>\n",
              "      <td>24.56</td>\n",
              "      <td>88.45</td>\n",
              "      <td>109Y12M</td>\n",
              "    </tr>\n",
              "    <tr>\n",
              "      <th>1</th>\n",
              "      <td>南投縣</td>\n",
              "      <td>A0801-02</td>\n",
              "      <td>80.50</td>\n",
              "      <td>2.23</td>\n",
              "      <td>1568.15</td>\n",
              "      <td>94.48</td>\n",
              "      <td>20.04</td>\n",
              "      <td>74.44</td>\n",
              "      <td>371.56</td>\n",
              "      <td>109Y12M</td>\n",
              "    </tr>\n",
              "    <tr>\n",
              "      <th>2</th>\n",
              "      <td>南投縣</td>\n",
              "      <td>A0801-03</td>\n",
              "      <td>115.34</td>\n",
              "      <td>2.73</td>\n",
              "      <td>384.38</td>\n",
              "      <td>40.75</td>\n",
              "      <td>13.08</td>\n",
              "      <td>27.66</td>\n",
              "      <td>211.48</td>\n",
              "      <td>109Y12M</td>\n",
              "    </tr>\n",
              "  </tbody>\n",
              "</table>\n",
              "</div>"
            ],
            "text/plain": [
              "  city    code_2  M_F_RAT  ...  A65UP_A15A64_RAT  A65_A0A14_RAT  INFO_TIME\n",
              "0  南投縣  A0801-01    91.86  ...             24.56          88.45    109Y12M\n",
              "1  南投縣  A0801-02    80.50  ...             74.44         371.56    109Y12M\n",
              "2  南投縣  A0801-03   115.34  ...             27.66         211.48    109Y12M\n",
              "\n",
              "[3 rows x 10 columns]"
            ]
          },
          "metadata": {},
          "execution_count": 42
        }
      ]
    },
    {
      "cell_type": "code",
      "metadata": {
        "id": "FSCn8zUXWewU"
      },
      "source": [
        "sal_dict={\n",
        "  '縣市':'city',\n",
        "  '鄉鎮市區':'town',\n",
        "  '村里':'village',\n",
        "  '平均數':'sal_mean',\n",
        "  '中位數':'sal_med'\n",
        "}\n",
        "\n",
        "sal_df.columns = ['city', 'town', 'village', 'tax_unit_cnt', 'all_amt', 'sal_mean', 'sal_med', 'Q1', 'Q3', 'std', 's']\n",
        "sal_df['village'] = sal_df['village'].replace('羣賢里','群賢里')"
      ],
      "execution_count": 43,
      "outputs": []
    },
    {
      "cell_type": "code",
      "metadata": {
        "id": "80CneVBcNo2c"
      },
      "source": [
        "## 人口指標\n",
        "brn_gis_df = brn_code_df.merge(pop_ratio[['code_2','P_DEN','A65UP_A15A64_RAT']], how='left', left_on='code_2', right_on='code_2')\n",
        "\n",
        "## 年收\n",
        "brn_gis_df = brn_gis_df.merge(sal_df[['city', 'town', 'village','sal_mean', 'sal_med']], how='left', on=['town','city','village'])\n",
        "\n",
        "## 消費熱度\n",
        "brn_gis_df = brn_gis_df.merge(e_inv_ratio, how='left', on=['town','city','village'])\n",
        "\n",
        "\n",
        "## 公司行號工廠\n",
        "brn_gis_df = brn_gis_df.merge(poi_num_df, how='left', on='brn')\n",
        "\n",
        "## 電信信令 \n",
        "brn_gis_df = brn_gis_df.merge(\n",
        "  tele_df[['COUNTY','TOWN', 'day_night_ratio', 'holiday_work_ratio']],\n",
        "   how='left', \n",
        "   left_on=['city','town'],\n",
        "   right_on=['COUNTY','TOWN']\n",
        ")\n",
        "\n"
      ],
      "execution_count": 45,
      "outputs": []
    },
    {
      "cell_type": "code",
      "metadata": {
        "id": "LyAqINWFBVrV"
      },
      "source": [
        "feat_list = [\n",
        "    'P_DEN', 'A65UP_A15A64_RAT',\n",
        "    'sal_mean',  \n",
        "    'factory_num', 'bu_num', 'cmp_num', 'stk_num', \n",
        "    'hotel_ind', 'retail_ind', 'ctring_ind',\n",
        "    'day_night_ratio','holiday_work_ratio'\n",
        "]"
      ],
      "execution_count": 47,
      "outputs": []
    },
    {
      "cell_type": "code",
      "metadata": {
        "id": "GVq60t15cdeq",
        "colab": {
          "base_uri": "https://localhost:8080/",
          "height": 496
        },
        "outputId": "e94b7436-f72b-4fd2-faea-b92b1d8a4c26"
      },
      "source": [
        "arr = brn_gis_df[feat_list]\n",
        "brn_gis_df[['brn','city','town','village']+feat_list].head()"
      ],
      "execution_count": 48,
      "outputs": [
        {
          "output_type": "execute_result",
          "data": {
            "text/html": [
              "<div>\n",
              "<style scoped>\n",
              "    .dataframe tbody tr th:only-of-type {\n",
              "        vertical-align: middle;\n",
              "    }\n",
              "\n",
              "    .dataframe tbody tr th {\n",
              "        vertical-align: top;\n",
              "    }\n",
              "\n",
              "    .dataframe thead th {\n",
              "        text-align: right;\n",
              "    }\n",
              "</style>\n",
              "<table border=\"1\" class=\"dataframe\">\n",
              "  <thead>\n",
              "    <tr style=\"text-align: right;\">\n",
              "      <th></th>\n",
              "      <th>brn</th>\n",
              "      <th>city</th>\n",
              "      <th>town</th>\n",
              "      <th>village</th>\n",
              "      <th>P_DEN</th>\n",
              "      <th>A65UP_A15A64_RAT</th>\n",
              "      <th>sal_mean</th>\n",
              "      <th>factory_num</th>\n",
              "      <th>bu_num</th>\n",
              "      <th>cmp_num</th>\n",
              "      <th>stk_num</th>\n",
              "      <th>hotel_ind</th>\n",
              "      <th>retail_ind</th>\n",
              "      <th>ctring_ind</th>\n",
              "      <th>day_night_ratio</th>\n",
              "      <th>holiday_work_ratio</th>\n",
              "    </tr>\n",
              "  </thead>\n",
              "  <tbody>\n",
              "    <tr>\n",
              "      <th>0</th>\n",
              "      <td>營業部(總行)</td>\n",
              "      <td>臺北市</td>\n",
              "      <td>中山區</td>\n",
              "      <td>民安里</td>\n",
              "      <td>19921.56</td>\n",
              "      <td>34.61</td>\n",
              "      <td>1290</td>\n",
              "      <td>0</td>\n",
              "      <td>1369</td>\n",
              "      <td>5066</td>\n",
              "      <td>15</td>\n",
              "      <td>60.0</td>\n",
              "      <td>99.00</td>\n",
              "      <td>99.00</td>\n",
              "      <td>1.541318</td>\n",
              "      <td>0.665645</td>\n",
              "    </tr>\n",
              "    <tr>\n",
              "      <th>1</th>\n",
              "      <td>敦南分行</td>\n",
              "      <td>臺北市</td>\n",
              "      <td>大安區</td>\n",
              "      <td>敦安里</td>\n",
              "      <td>41990.78</td>\n",
              "      <td>34.41</td>\n",
              "      <td>2085</td>\n",
              "      <td>0</td>\n",
              "      <td>829</td>\n",
              "      <td>4887</td>\n",
              "      <td>11</td>\n",
              "      <td>73.5</td>\n",
              "      <td>89.75</td>\n",
              "      <td>80.00</td>\n",
              "      <td>1.481773</td>\n",
              "      <td>0.702457</td>\n",
              "    </tr>\n",
              "    <tr>\n",
              "      <th>2</th>\n",
              "      <td>新生分行</td>\n",
              "      <td>臺北市</td>\n",
              "      <td>中正區</td>\n",
              "      <td>幸市里</td>\n",
              "      <td>27008.20</td>\n",
              "      <td>36.09</td>\n",
              "      <td>2241</td>\n",
              "      <td>1</td>\n",
              "      <td>399</td>\n",
              "      <td>2574</td>\n",
              "      <td>14</td>\n",
              "      <td>0.0</td>\n",
              "      <td>92.00</td>\n",
              "      <td>91.75</td>\n",
              "      <td>1.883811</td>\n",
              "      <td>0.550355</td>\n",
              "    </tr>\n",
              "    <tr>\n",
              "      <th>3</th>\n",
              "      <td>新莊分行</td>\n",
              "      <td>新北市</td>\n",
              "      <td>新莊區</td>\n",
              "      <td>中華里</td>\n",
              "      <td>60972.12</td>\n",
              "      <td>15.98</td>\n",
              "      <td>1021</td>\n",
              "      <td>6</td>\n",
              "      <td>1793</td>\n",
              "      <td>1122</td>\n",
              "      <td>0</td>\n",
              "      <td>0.0</td>\n",
              "      <td>63.00</td>\n",
              "      <td>64.75</td>\n",
              "      <td>0.838921</td>\n",
              "      <td>1.183546</td>\n",
              "    </tr>\n",
              "    <tr>\n",
              "      <th>4</th>\n",
              "      <td>桃園分行</td>\n",
              "      <td>桃園市</td>\n",
              "      <td>桃園區</td>\n",
              "      <td>文明里</td>\n",
              "      <td>15269.66</td>\n",
              "      <td>28.40</td>\n",
              "      <td>915</td>\n",
              "      <td>19</td>\n",
              "      <td>656</td>\n",
              "      <td>637</td>\n",
              "      <td>1</td>\n",
              "      <td>0.0</td>\n",
              "      <td>55.50</td>\n",
              "      <td>60.75</td>\n",
              "      <td>0.909837</td>\n",
              "      <td>1.102585</td>\n",
              "    </tr>\n",
              "  </tbody>\n",
              "</table>\n",
              "</div>"
            ],
            "text/plain": [
              "       brn city town  ... ctring_ind  day_night_ratio  holiday_work_ratio\n",
              "0  營業部(總行)  臺北市  中山區  ...      99.00         1.541318            0.665645\n",
              "1     敦南分行  臺北市  大安區  ...      80.00         1.481773            0.702457\n",
              "2     新生分行  臺北市  中正區  ...      91.75         1.883811            0.550355\n",
              "3     新莊分行  新北市  新莊區  ...      64.75         0.838921            1.183546\n",
              "4     桃園分行  桃園市  桃園區  ...      60.75         0.909837            1.102585\n",
              "\n",
              "[5 rows x 16 columns]"
            ]
          },
          "metadata": {},
          "execution_count": 48
        }
      ]
    },
    {
      "cell_type": "code",
      "metadata": {
        "colab": {
          "base_uri": "https://localhost:8080/",
          "height": 69
        },
        "id": "zXbModb7QjgY",
        "outputId": "0db03214-b344-43d3-e02d-6bd71d891bec"
      },
      "source": [
        "brn_gis_df[brn_gis_df.isnull().any(axis=1)]"
      ],
      "execution_count": 49,
      "outputs": [
        {
          "output_type": "execute_result",
          "data": {
            "text/html": [
              "<div>\n",
              "<style scoped>\n",
              "    .dataframe tbody tr th:only-of-type {\n",
              "        vertical-align: middle;\n",
              "    }\n",
              "\n",
              "    .dataframe tbody tr th {\n",
              "        vertical-align: top;\n",
              "    }\n",
              "\n",
              "    .dataframe thead th {\n",
              "        text-align: right;\n",
              "    }\n",
              "</style>\n",
              "<table border=\"1\" class=\"dataframe\">\n",
              "  <thead>\n",
              "    <tr style=\"text-align: right;\">\n",
              "      <th></th>\n",
              "      <th>brn</th>\n",
              "      <th>addr</th>\n",
              "      <th>lon</th>\n",
              "      <th>lat</th>\n",
              "      <th>city</th>\n",
              "      <th>town</th>\n",
              "      <th>village</th>\n",
              "      <th>code_2</th>\n",
              "      <th>code_1</th>\n",
              "      <th>code_min</th>\n",
              "      <th>eco_code3</th>\n",
              "      <th>P_DEN</th>\n",
              "      <th>A65UP_A15A64_RAT</th>\n",
              "      <th>sal_mean</th>\n",
              "      <th>sal_med</th>\n",
              "      <th>hotel_ind</th>\n",
              "      <th>retail_ind</th>\n",
              "      <th>ctring_ind</th>\n",
              "      <th>factory_num</th>\n",
              "      <th>bu_num</th>\n",
              "      <th>cmp_num</th>\n",
              "      <th>stk_num</th>\n",
              "      <th>COUNTY</th>\n",
              "      <th>TOWN</th>\n",
              "      <th>day_night_ratio</th>\n",
              "      <th>holiday_work_ratio</th>\n",
              "    </tr>\n",
              "  </thead>\n",
              "  <tbody>\n",
              "  </tbody>\n",
              "</table>\n",
              "</div>"
            ],
            "text/plain": [
              "Empty DataFrame\n",
              "Columns: [brn, addr, lon, lat, city, town, village, code_2, code_1, code_min, eco_code3, P_DEN, A65UP_A15A64_RAT, sal_mean, sal_med, hotel_ind, retail_ind, ctring_ind, factory_num, bu_num, cmp_num, stk_num, COUNTY, TOWN, day_night_ratio, holiday_work_ratio]\n",
              "Index: []"
            ]
          },
          "metadata": {},
          "execution_count": 49
        }
      ]
    },
    {
      "cell_type": "markdown",
      "metadata": {
        "id": "woJhUhdnK-MO"
      },
      "source": [
        "## Cluster"
      ]
    },
    {
      "cell_type": "markdown",
      "metadata": {
        "id": "CSEhoRFhelI9"
      },
      "source": [
        "[觀光景點消費熱度分析-電子發票載具客源地區統計-資料集](https://sip.einvoice.nat.gov.tw/ods-main/ODS303E/691C0280-CEFB-488F-9E71-6AA4F39A41CD/30/Mjs=?FUNCTION_ID=ODS303E&BUILD_INFO=20211008-1333&SYSTEM_ID=ODS&SYSTEM_NAME=%E9%9A%A8%E9%81%B8&ENVIRONMENT_DISPLAY_NAME=&TITLE=%E6%AD%A1%E8%BF%8E%E8%92%9E%E8%87%A8+%E8%B2%A1%E6%94%BF%E9%83%A8%E9%9B%BB%E5%AD%90%E7%99%BC%E7%A5%A8+%E6%99%BA%E6%85%A7%E5%A5%BD%E7%94%9F%E6%B4%BB+%E6%9C%8D%E5%8B%99%E5%B9%B3%E5%8F%B0)\n",
        "\n",
        "[電信信令人口統計之建置、分析與應用](https://ws.moi.gov.tw/Download.ashx?u=LzAwMS9VcGxvYWQvNDAwL3JlbGZpbGUvMC8xNDk0NS85NzMxZjkxNi01MzU5LTQzZDktYmVlOS0zNjMyYTUwOTcxMDYucGRm&n=6Zu75L%2Bh5L%2Bh5Luk5Lq65Y%2Bj57Wx6KiI5LmL5bu6572u44CB5YiG5p6Q6IiH5oeJ55SoLnBkZg%3D%3D&icon=..pdf)"
      ]
    },
    {
      "cell_type": "code",
      "metadata": {
        "id": "9vuo2YwJF0wG"
      },
      "source": [
        "fnl_df = brn_gis_df[['brn','lon','lat','city','town','village']+feat_list]"
      ],
      "execution_count": 55,
      "outputs": []
    },
    {
      "cell_type": "code",
      "metadata": {
        "id": "JI3wVP83IEbL"
      },
      "source": [
        "fnl_df.insert(0,'lon_lat', brn_gis_df['lat'].astype(str)+','+brn_gis_df['lon'].astype(str))"
      ],
      "execution_count": 56,
      "outputs": []
    },
    {
      "cell_type": "code",
      "metadata": {
        "id": "GBn2CwZfgiTv"
      },
      "source": [
        "clstr_feat = [\n",
        "    'P_DEN', 'A65UP_A15A64_RAT',\n",
        "    'sal_mean',  \n",
        "    'factory_num', 'bu_num', 'cmp_num', 'stk_num', \n",
        "    'hotel_ind', 'retail_ind', 'ctring_ind',\n",
        "    'day_night_ratio','holiday_work_ratio'\n",
        "]"
      ],
      "execution_count": 57,
      "outputs": []
    },
    {
      "cell_type": "code",
      "metadata": {
        "id": "IYXEBiBbHo8R"
      },
      "source": [
        "from sklearn.preprocessing import StandardScaler\n",
        "from sklearn.decomposition import PCA"
      ],
      "execution_count": 58,
      "outputs": []
    },
    {
      "cell_type": "code",
      "metadata": {
        "id": "dA1QLxbhi_q0"
      },
      "source": [
        "clstr_arr = StandardScaler().fit_transform(fnl_df[clstr_feat])"
      ],
      "execution_count": 59,
      "outputs": []
    },
    {
      "cell_type": "code",
      "metadata": {
        "colab": {
          "base_uri": "https://localhost:8080/"
        },
        "id": "Zh95TkIjADpZ",
        "outputId": "981d3498-f607-47ae-d102-f1712113d074"
      },
      "source": [
        "pca = PCA(n_components=0.8)\n",
        "pca.fit(clstr_arr)"
      ],
      "execution_count": 60,
      "outputs": [
        {
          "output_type": "execute_result",
          "data": {
            "text/plain": [
              "PCA(n_components=0.8)"
            ]
          },
          "metadata": {},
          "execution_count": 60
        }
      ]
    },
    {
      "cell_type": "code",
      "metadata": {
        "id": "mCDkyG2jAUk0"
      },
      "source": [
        "clstr_arr = pca.fit_transform(clstr_arr)"
      ],
      "execution_count": 61,
      "outputs": []
    },
    {
      "cell_type": "code",
      "metadata": {
        "id": "vXHCuhqIkJOT"
      },
      "source": [
        "from sklearn.cluster import AgglomerativeClustering\n",
        "from sklearn.cluster import KMeans"
      ],
      "execution_count": 62,
      "outputs": []
    },
    {
      "cell_type": "code",
      "metadata": {
        "id": "bSYR_eWojI3b"
      },
      "source": [
        "clustering = AgglomerativeClustering(n_clusters=6).fit(clstr_arr)\n",
        "#clustering = KMeans(n_clusters=5, max_iter=5000).fit(clstr_arr)\n"
      ],
      "execution_count": 63,
      "outputs": []
    },
    {
      "cell_type": "code",
      "metadata": {
        "id": "UmiGaQOjkKpj",
        "colab": {
          "base_uri": "https://localhost:8080/"
        },
        "outputId": "eb44bbeb-83d9-414b-e6c8-847d32c4810d"
      },
      "source": [
        "fnl_df.loc[:,'clstr'] = clustering.labels_"
      ],
      "execution_count": 66,
      "outputs": [
        {
          "output_type": "stream",
          "name": "stderr",
          "text": [
            "/usr/local/lib/python3.7/dist-packages/pandas/core/indexing.py:1743: SettingWithCopyWarning: \n",
            "A value is trying to be set on a copy of a slice from a DataFrame.\n",
            "Try using .loc[row_indexer,col_indexer] = value instead\n",
            "\n",
            "See the caveats in the documentation: https://pandas.pydata.org/pandas-docs/stable/user_guide/indexing.html#returning-a-view-versus-a-copy\n",
            "  isetter(ilocs[0], value)\n"
          ]
        }
      ]
    },
    {
      "cell_type": "markdown",
      "metadata": {
        "id": "lLxaaeyZhuw1"
      },
      "source": [
        "- 群0 住宅區、科技園區\n",
        "  - 人口密度中位數低\n",
        "  - 戶籍人口老化指數不高(竹科周圍人口偏年輕)\n",
        "  - 周圍商家數、公司數比較少 \n",
        "- 群1 北國經濟重鎮\n",
        "  - 戶籍人口老化程度高\n",
        "  - 周圍公司行號、上市櫃公司數爆表\n",
        "- 群2 遼闊地帶\n",
        "  - 路很大、很好騎\n",
        "- 群3 工廠重鎮\n",
        "  - 周圍工廠超級多\n",
        "  - 人口密度很高\n",
        "- 群4 尊榮住宅區\n",
        "  - 鬧中取靜、尊榮華貴\n",
        "- 群5 外圍高密度\n",
        "  - 多為台北市中心外的蛋白區，戶籍人口密度高\n",
        "  - 公司行號、商家數次之"
      ]
    },
    {
      "cell_type": "code",
      "metadata": {
        "colab": {
          "base_uri": "https://localhost:8080/"
        },
        "id": "KJRU_DZX7Bhy",
        "outputId": "884bda6b-f29f-46fe-856c-1314f4198d24"
      },
      "source": [
        "fnl_df['clstr'].value_counts().sort_index()"
      ],
      "execution_count": 71,
      "outputs": [
        {
          "output_type": "execute_result",
          "data": {
            "text/plain": [
              "0    44\n",
              "1    17\n",
              "2    18\n",
              "3    11\n",
              "4     2\n",
              "5    12\n",
              "Name: clstr, dtype: int64"
            ]
          },
          "metadata": {},
          "execution_count": 71
        }
      ]
    },
    {
      "cell_type": "code",
      "metadata": {
        "id": "1UVbs8gQkQUt",
        "colab": {
          "base_uri": "https://localhost:8080/"
        },
        "outputId": "d828f10f-8187-4624-b1f5-526dfeeb1cc0"
      },
      "source": [
        "brn_list = []\n",
        "\n",
        "for i in range(0,6):\n",
        "  print('群'+str(i))\n",
        "  print(list(fnl_df[fnl_df['clstr']==i]['brn']))\n",
        "  haha.append(fnl_df[fnl_df['clstr']==i]['brn'].reset_index(drop=True))"
      ],
      "execution_count": 72,
      "outputs": [
        {
          "output_type": "stream",
          "name": "stdout",
          "text": [
            "群0\n",
            "['台中分行', '高雄分行', '台南分行', '中壢分行', '蘆洲分行', '天母分行', '大里分行', '豐原分行', '新竹分行', '北台中分行', '永福分行', '屏東分行', '龍潭分行', '崇德分行', '後甲分行', '海佃分行', '鳳山分行', '太平分行', '北高雄分行', '逢甲分行', '竹科分行', '南屯分行', '民權分行', '三民分行', '北新店分行', '府城分行', '北桃園分行', '大墩分行', '延平分行', '南崁分行', '文心分行', '岡山分行', '大雅分行', '成功分行', '石牌分行', '永康分行', '新板分行', '永華分行', '關東橋分行', '南寮分行', '市府分行', '竹南分行', '景美分行', '雄科分行']\n",
            "群1\n",
            "['營業部(總行)', '敦南分行', '南京東路分行', '信託部', '國外部', '國際金融業務分行', '信義分行', '建橋分行', '內湖分行', '西門分行', '敦北分行', '忠孝分行', '復興分行', '建北分行', '基隆路分行', '南松山分行', '南港分行']\n",
            "群2\n",
            "['桃園分行', '苓雅分行', '嘉義分行', '花蓮分行', '七賢分行', '金華分行', '彰化分行', '五甲分行', '東基隆分行', '北大分行', '竹北分行', '八德分行', '員林分行', '右昌分行', '沙鹿分行', '羅東分行', '文山分行', '副都心分行']\n",
            "群3\n",
            "['新生分行', '大安分行', '古亭分行', '民生分行', '和平分行', '大直分行', '南門分行', '松江分行', '北師分行', '松德分行', '東湖分行']\n",
            "群4\n",
            "['南新莊分行', '汐止分行']\n",
            "群5\n",
            "['新莊分行', '板橋分行', '中和分行', '三重分行', '永和分行', '板南分行', '三和分行', '東高雄分行', '新店分行', '景平分行', '淡水分行', '江翠分行']\n"
          ]
        }
      ]
    },
    {
      "cell_type": "code",
      "metadata": {
        "id": "ynbRIuMZXqTB"
      },
      "source": [
        "#pd.DataFrame(pd.concat(haha,axis=0,sort=True))"
      ],
      "execution_count": 76,
      "outputs": []
    },
    {
      "cell_type": "code",
      "metadata": {
        "colab": {
          "base_uri": "https://localhost:8080/",
          "height": 421
        },
        "id": "-7oLrv538p0u",
        "outputId": "fe9e4ff2-d551-4c9e-d85d-88a6130cf855"
      },
      "source": [
        "agg_df = fnl_df.groupby('clstr')[feat_list].describe().T\n",
        "agg_df.iloc[agg_df.index.get_level_values(1)=='mean']#.to_csv('brn_stat.csv')"
      ],
      "execution_count": 75,
      "outputs": [
        {
          "output_type": "execute_result",
          "data": {
            "text/html": [
              "<div>\n",
              "<style scoped>\n",
              "    .dataframe tbody tr th:only-of-type {\n",
              "        vertical-align: middle;\n",
              "    }\n",
              "\n",
              "    .dataframe tbody tr th {\n",
              "        vertical-align: top;\n",
              "    }\n",
              "\n",
              "    .dataframe thead th {\n",
              "        text-align: right;\n",
              "    }\n",
              "</style>\n",
              "<table border=\"1\" class=\"dataframe\">\n",
              "  <thead>\n",
              "    <tr style=\"text-align: right;\">\n",
              "      <th></th>\n",
              "      <th>clstr</th>\n",
              "      <th>0</th>\n",
              "      <th>1</th>\n",
              "      <th>2</th>\n",
              "      <th>3</th>\n",
              "      <th>4</th>\n",
              "      <th>5</th>\n",
              "    </tr>\n",
              "  </thead>\n",
              "  <tbody>\n",
              "    <tr>\n",
              "      <th>P_DEN</th>\n",
              "      <th>mean</th>\n",
              "      <td>20308.022500</td>\n",
              "      <td>24010.448824</td>\n",
              "      <td>18546.694444</td>\n",
              "      <td>52447.912727</td>\n",
              "      <td>43800.685000</td>\n",
              "      <td>48870.373333</td>\n",
              "    </tr>\n",
              "    <tr>\n",
              "      <th>A65UP_A15A64_RAT</th>\n",
              "      <th>mean</th>\n",
              "      <td>19.832727</td>\n",
              "      <td>29.961176</td>\n",
              "      <td>25.524444</td>\n",
              "      <td>28.000000</td>\n",
              "      <td>15.860000</td>\n",
              "      <td>24.272500</td>\n",
              "    </tr>\n",
              "    <tr>\n",
              "      <th>sal_mean</th>\n",
              "      <th>mean</th>\n",
              "      <td>1209.931818</td>\n",
              "      <td>1613.882353</td>\n",
              "      <td>912.444444</td>\n",
              "      <td>1535.545455</td>\n",
              "      <td>769.500000</td>\n",
              "      <td>977.000000</td>\n",
              "    </tr>\n",
              "    <tr>\n",
              "      <th>factory_num</th>\n",
              "      <th>mean</th>\n",
              "      <td>9.704545</td>\n",
              "      <td>4.117647</td>\n",
              "      <td>7.111111</td>\n",
              "      <td>0.727273</td>\n",
              "      <td>133.000000</td>\n",
              "      <td>13.166667</td>\n",
              "    </tr>\n",
              "    <tr>\n",
              "      <th>bu_num</th>\n",
              "      <th>mean</th>\n",
              "      <td>657.090909</td>\n",
              "      <td>834.705882</td>\n",
              "      <td>1093.277778</td>\n",
              "      <td>571.818182</td>\n",
              "      <td>836.500000</td>\n",
              "      <td>1991.750000</td>\n",
              "    </tr>\n",
              "    <tr>\n",
              "      <th>cmp_num</th>\n",
              "      <th>mean</th>\n",
              "      <td>683.204545</td>\n",
              "      <td>4874.588235</td>\n",
              "      <td>528.666667</td>\n",
              "      <td>2013.181818</td>\n",
              "      <td>875.000000</td>\n",
              "      <td>1050.583333</td>\n",
              "    </tr>\n",
              "    <tr>\n",
              "      <th>stk_num</th>\n",
              "      <th>mean</th>\n",
              "      <td>1.227273</td>\n",
              "      <td>29.117647</td>\n",
              "      <td>0.444444</td>\n",
              "      <td>6.818182</td>\n",
              "      <td>2.000000</td>\n",
              "      <td>1.000000</td>\n",
              "    </tr>\n",
              "    <tr>\n",
              "      <th>hotel_ind</th>\n",
              "      <th>mean</th>\n",
              "      <td>36.596591</td>\n",
              "      <td>63.970588</td>\n",
              "      <td>33.777778</td>\n",
              "      <td>15.750000</td>\n",
              "      <td>0.000000</td>\n",
              "      <td>9.145833</td>\n",
              "    </tr>\n",
              "    <tr>\n",
              "      <th>retail_ind</th>\n",
              "      <th>mean</th>\n",
              "      <td>87.767045</td>\n",
              "      <td>94.602941</td>\n",
              "      <td>52.111111</td>\n",
              "      <td>85.545455</td>\n",
              "      <td>84.750000</td>\n",
              "      <td>51.708333</td>\n",
              "    </tr>\n",
              "    <tr>\n",
              "      <th>ctring_ind</th>\n",
              "      <th>mean</th>\n",
              "      <td>89.676136</td>\n",
              "      <td>94.352941</td>\n",
              "      <td>59.000000</td>\n",
              "      <td>85.068182</td>\n",
              "      <td>87.500000</td>\n",
              "      <td>65.041667</td>\n",
              "    </tr>\n",
              "    <tr>\n",
              "      <th>day_night_ratio</th>\n",
              "      <th>mean</th>\n",
              "      <td>1.006186</td>\n",
              "      <td>1.501108</td>\n",
              "      <td>0.938551</td>\n",
              "      <td>1.581145</td>\n",
              "      <td>0.849221</td>\n",
              "      <td>0.801746</td>\n",
              "    </tr>\n",
              "    <tr>\n",
              "      <th>holiday_work_ratio</th>\n",
              "      <th>mean</th>\n",
              "      <td>1.018590</td>\n",
              "      <td>0.686438</td>\n",
              "      <td>1.081809</td>\n",
              "      <td>0.660189</td>\n",
              "      <td>1.161248</td>\n",
              "      <td>1.237646</td>\n",
              "    </tr>\n",
              "  </tbody>\n",
              "</table>\n",
              "</div>"
            ],
            "text/plain": [
              "clstr                               0             1  ...             4             5\n",
              "P_DEN              mean  20308.022500  24010.448824  ...  43800.685000  48870.373333\n",
              "A65UP_A15A64_RAT   mean     19.832727     29.961176  ...     15.860000     24.272500\n",
              "sal_mean           mean   1209.931818   1613.882353  ...    769.500000    977.000000\n",
              "factory_num        mean      9.704545      4.117647  ...    133.000000     13.166667\n",
              "bu_num             mean    657.090909    834.705882  ...    836.500000   1991.750000\n",
              "cmp_num            mean    683.204545   4874.588235  ...    875.000000   1050.583333\n",
              "stk_num            mean      1.227273     29.117647  ...      2.000000      1.000000\n",
              "hotel_ind          mean     36.596591     63.970588  ...      0.000000      9.145833\n",
              "retail_ind         mean     87.767045     94.602941  ...     84.750000     51.708333\n",
              "ctring_ind         mean     89.676136     94.352941  ...     87.500000     65.041667\n",
              "day_night_ratio    mean      1.006186      1.501108  ...      0.849221      0.801746\n",
              "holiday_work_ratio mean      1.018590      0.686438  ...      1.161248      1.237646\n",
              "\n",
              "[12 rows x 6 columns]"
            ]
          },
          "metadata": {},
          "execution_count": 75
        }
      ]
    }
  ]
}