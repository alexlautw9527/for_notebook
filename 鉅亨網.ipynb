{
  "cells": [
    {
      "cell_type": "markdown",
      "metadata": {
        "id": "e-brOZZifiT8"
      },
      "source": [
        "# 初始設定"
      ]
    },
    {
      "cell_type": "code",
      "execution_count": null,
      "metadata": {
        "id": "5PPCcAlNk0qs"
      },
      "outputs": [],
      "source": [
        "%%capture\n",
        "!pip install transformers\n",
        "!pip install gdown\n",
        "!pip install opencc-python-reimplemented\n",
        "!pip install googletrans==3.1.0a0\n",
        "!pip install fake_useragent"
      ]
    },
    {
      "cell_type": "code",
      "execution_count": null,
      "metadata": {
        "id": "uSodDKDFzQeG"
      },
      "outputs": [],
      "source": [
        "import torch\n",
        "import numpy as np\n",
        "import pandas as pd\n",
        "import re"
      ]
    },
    {
      "cell_type": "code",
      "execution_count": null,
      "metadata": {
        "id": "J607x67mXyur"
      },
      "outputs": [],
      "source": [
        "from transformers import BertModel, BertTokenizer\n",
        "PATH = '/content/FinBERT_L-12_H-768_A-12_pytorch'"
      ]
    },
    {
      "cell_type": "code",
      "execution_count": null,
      "metadata": {
        "id": "3SqHaeLpX3dM"
      },
      "outputs": [],
      "source": [
        "import requests\n",
        "from bs4 import BeautifulSoup\n",
        "from fake_useragent import UserAgent\n"
      ]
    },
    {
      "cell_type": "code",
      "execution_count": null,
      "metadata": {
        "id": "7Io2dAqz9j3S"
      },
      "outputs": [],
      "source": [
        "import time\n",
        "import datetime as dt\n",
        "import time\n",
        "import tqdm"
      ]
    },
    {
      "cell_type": "code",
      "execution_count": null,
      "metadata": {
        "id": "IgoewQgH58DB"
      },
      "outputs": [],
      "source": [
        "from opencc import OpenCC\n",
        "cc = OpenCC('t2s')"
      ]
    },
    {
      "cell_type": "code",
      "execution_count": null,
      "metadata": {
        "id": "yI2jmfXtx4rA"
      },
      "outputs": [],
      "source": [
        "#!gdown https://drive.google.com/uc?id=1qW1YWtw3q9Q28QThrIY-rDU9Gl-SLIKO\n",
        "#!unzip /content/FinBERT_L-12_H-768_A-12_pytorch.zip"
      ]
    },
    {
      "cell_type": "markdown",
      "metadata": {
        "id": "9nbtOxLCVplM"
      },
      "source": [
        "# 財金BERT"
      ]
    },
    {
      "cell_type": "code",
      "execution_count": null,
      "metadata": {
        "id": "eSj-CMFhyunj"
      },
      "outputs": [],
      "source": [
        "tokenizer = BertTokenizer.from_pretrained(PATH ,local_files_only=True)\n",
        "model = BertModel.from_pretrained(PATH ,local_files_only=True)"
      ]
    },
    {
      "cell_type": "code",
      "execution_count": null,
      "metadata": {
        "id": "ECJLJOaX1T5G"
      },
      "outputs": [],
      "source": [
        "sector_dict = {\n",
        "'健護': '醫療保健服務類股',\n",
        "'科技': '科技類股', \n",
        "'公用事業': '公用事業類股',\n",
        "'生技':'生技類股', \n",
        "'能源':'能源類股',\n",
        "'替代能源':'替代能源類股',\n",
        "'消費':'消費品類股',\n",
        "'金融':'金融類股', \n",
        "'礦業':'礦業',\n",
        "'天然資源':'天然資源', \n",
        "'貴金屬現貨':'貴金屬',\n",
        "'農產品':'農產品',\n",
        "'貴金屬類股':'貴金屬',\n",
        "}"
      ]
    },
    {
      "cell_type": "code",
      "execution_count": null,
      "metadata": {
        "id": "J-vIxrf41PCa"
      },
      "outputs": [],
      "source": [
        "mkt_dict= [\n",
        "'新興市場債',\n",
        "'高收益債',\n",
        "'全球債',\n",
        "'投資等級公司債',\n",
        "'美國公債',\n",
        "'亞債',\n",
        "'REITs不動產投資信託',\n",
        "'新臺幣類貨幣',\n",
        "'外幣類貨幣',\n",
        "'亞太股市', '美國股市', '全球新興市場', \n",
        "'全球型股市', '大中華股市', '中國A股', '印度股市','歐洲股市', \n",
        "'東南亞股市', '拉丁美洲股市', \n",
        "'韓國股市', '新興歐洲股市', '德國股市', '台灣股市','俄羅斯股市',\n",
        "'中國H股', '日本股市', '英國股市','泰國股市',\n",
        "'香港股市', '澳洲股市', '印尼股市', '巴西股市', '歐非中東股市'\n",
        "]\n"
      ]
    },
    {
      "cell_type": "code",
      "execution_count": null,
      "metadata": {
        "id": "5kh-1eUE3rqZ"
      },
      "outputs": [],
      "source": [
        "mkt_dict = {x:x for x in mkt_dict}\n",
        "mkt_dict['亞債'] = '亞洲債券'\n",
        "mkt_dict['REITs不動產投資信託'] = '不動產'"
      ]
    },
    {
      "cell_type": "code",
      "execution_count": null,
      "metadata": {
        "id": "Z8FFfHT64XWY"
      },
      "outputs": [],
      "source": [
        "total_sec_dict = {**sector_dict, **mkt_dict}"
      ]
    },
    {
      "cell_type": "code",
      "execution_count": null,
      "metadata": {
        "id": "nFw0cRYL5Pgv"
      },
      "outputs": [],
      "source": [
        "sentences = list(set(total_sec_dict.values()))\n",
        "sentences = [cc.convert(x) for x in sentences]"
      ]
    },
    {
      "cell_type": "code",
      "execution_count": null,
      "metadata": {
        "id": "6xqHjsUqzNHK"
      },
      "outputs": [],
      "source": [
        "inputs = tokenizer(sentences, padding=True, return_tensors=\"pt\")\n"
      ]
    },
    {
      "cell_type": "code",
      "execution_count": null,
      "metadata": {
        "id": "pCIKFK1GzNdl"
      },
      "outputs": [],
      "source": [
        "## 單純forward pass 沒要計算梯度\n",
        "with torch.no_grad():\n",
        "  outputs = model(**inputs)"
      ]
    },
    {
      "cell_type": "code",
      "execution_count": null,
      "metadata": {
        "id": "WTjCxA4PzPZ0"
      },
      "outputs": [],
      "source": [
        "x = outputs['last_hidden_state']\n",
        "np.savetxt('bert_mkt_emb.tsv', x[:,0].cpu().detach().numpy(), delimiter=\"\\t\")\n",
        "pd.DataFrame(sentences).to_csv('bert_mkt_emb_meta.tsv', header=False, index=False, sep=\"\\t\")"
      ]
    },
    {
      "cell_type": "markdown",
      "metadata": {
        "id": "Mz_Yj3-iVrtq"
      },
      "source": [
        "# 鉅亨網爬蟲 初步整理\n"
      ]
    },
    {
      "cell_type": "markdown",
      "metadata": {
        "id": "6juvytl7mk1t"
      },
      "source": [
        "設定UserAgent"
      ]
    },
    {
      "cell_type": "code",
      "execution_count": null,
      "metadata": {
        "id": "I65rxFawmi-A",
        "colab": {
          "base_uri": "https://localhost:8080/"
        },
        "outputId": "e36d8eb3-7b4a-4505-e782-744b7764e066"
      },
      "outputs": [
        {
          "output_type": "stream",
          "name": "stderr",
          "text": [
            "Error occurred during loading data. Trying to use cache server https://fake-useragent.herokuapp.com/browsers/0.1.11\n",
            "Traceback (most recent call last):\n",
            "  File \"/usr/local/lib/python3.7/dist-packages/fake_useragent/utils.py\", line 154, in load\n",
            "    for item in get_browsers(verify_ssl=verify_ssl):\n",
            "  File \"/usr/local/lib/python3.7/dist-packages/fake_useragent/utils.py\", line 99, in get_browsers\n",
            "    html = html.split('<table class=\"w3-table-all notranslate\">')[1]\n",
            "IndexError: list index out of range\n"
          ]
        }
      ],
      "source": [
        "ua = UserAgent()\n",
        "headers = {'user-agent': ua.random}"
      ]
    },
    {
      "cell_type": "code",
      "execution_count": null,
      "metadata": {
        "colab": {
          "base_uri": "https://localhost:8080/"
        },
        "id": "UHxNjucOmrbr",
        "outputId": "35f19b32-fd15-48cd-c6eb-e0875ceaec65"
      },
      "outputs": [
        {
          "output_type": "execute_result",
          "data": {
            "text/plain": [
              "{'user-agent': 'Mozilla/4.0 (compatible; MSIE 8.0; Windows NT 6.1; WOW64; Trident/4.0; SLCC2; Media Center PC 6.0; InfoPath.2; MS-RTC LM 8)'}"
            ]
          },
          "metadata": {},
          "execution_count": 9
        }
      ],
      "source": [
        "headers"
      ]
    },
    {
      "cell_type": "markdown",
      "metadata": {
        "id": "S4052ZUrmuo4"
      },
      "source": [
        "## 原始方法 \n",
        "直接從頁面爬取"
      ]
    },
    {
      "cell_type": "code",
      "execution_count": null,
      "metadata": {
        "id": "wtqC0cdAYc1Q",
        "colab": {
          "base_uri": "https://localhost:8080/"
        },
        "outputId": "f07a90d6-714c-4b5d-b925-ec6b70f8c14a"
      },
      "outputs": [
        {
          "output_type": "execute_result",
          "data": {
            "text/plain": [
              "['德外送巨頭Delivery Hero縮減Foodpanda德國業務、出售日本事業',\n",
              " '鉅亨美股雷達：拜登呼籲美國人接種加強針 馬斯克稱已賣足夠的特斯拉股票',\n",
              " '奇景光電推新一代車用TCON 明年CES亮相',\n",
              " '拓展陸地物流版圖 馬士基斥資36億美元收購香港利豐物流',\n",
              " '中國有條件批准SK海力士收購英特爾NAND業務',\n",
              " '大馬暴雨釀災 Panasonic和多家日系車廠被迫停工',\n",
              " '泰國央行連13次維持利率不變 關注Omicron變種病毒威脅',\n",
              " '日本首度傳出Omicron社區感染 共4人確診',\n",
              " '馬斯克稱已經賣了「足夠多」股票 抨擊加州稅收過高',\n",
              " '美國公司第3季庫藏規模創新紀錄 資本支出仍少於疫情前',\n",
              " '全球最大離岸風電場正式運作 已經首度發電',\n",
              " '〈2022美股展望〉美股僅剩五大科技巨頭撐場 明年多頭現疲軟跡象',\n",
              " '檢調：波音義大利供應商出包 瑕疵零件逾4000個',\n",
              " 'OLED電視累計銷量突破2000萬台 LGD相關部門可望首度轉虧為盈',\n",
              " '〈2022美股展望〉華爾街明年怎麼看美股？三大重點一次掌握',\n",
              " '供應瓶頸不是重點 Nike股價暗示明年消費力道才是市場焦點',\n",
              " '紐約市防範Omicron擴散 打加強劑可拿100美元',\n",
              " '特斯拉利空逐漸鈍化 四大催化劑有望帶領多頭重拾信心',\n",
              " 'AT&T甩燙手山芋 微軟買下Xandr程序化廣告公司',\n",
              " '抗疫將迎里程碑 FDA傳本周批准Merck、輝瑞口服藥',\n",
              " '美股重點新聞摘要2021年12月22日',\n",
              " 'AZ傳與牛津大學開始合作開發抗Omicron疫苗',\n",
              " '蘋果加入3A頂級信評俱樂部 穆迪看好流動性和獲利前景',\n",
              " '擔憂Omicron疫情 Meta、推特、Pinterest宣布不參加明年CES',\n",
              " '拜登與世衛不同調 美CDC稱兩劑疫苗可能不夠',\n",
              " '〈美股熱門股〉軟體公司Citrix Systems漲逾13% 傳Elliott和Vista競購',\n",
              " '食物中毒產線停滯 路透：鴻海印度清奈廠本周將繼續關閉',\n",
              " '〈美股盤後〉美光瘋漲逾10% 道瓊收紅逾560點',\n",
              " '調查：蘋果iPhone稱霸全球5G市場 三星超車OPPO',\n",
              " '〈美股熱門股〉美光財報、財測俱佳 分析師齊唱旺 盤中漲逾10%']"
            ]
          },
          "metadata": {},
          "execution_count": 14
        }
      ],
      "source": [
        "res = requests.get('https://news.cnyes.com/news/cat/wd_stock')\n",
        "soup = BeautifulSoup(res.text, 'html.parser')\n",
        "\n",
        "\n",
        "news_list = soup.find_all(\"a\", attrs={\"class\":\"_1Zdp\"})\n",
        "[x['href'] for x in news_list]\n",
        "[x.find('h3').get_text(strip=True) for x in news_list]\n",
        "\n",
        "## .get_text(strip=True) 可避免不必用空白符亂碼"
      ]
    },
    {
      "cell_type": "markdown",
      "metadata": {
        "id": "T4RBnDS2m1eR"
      },
      "source": [
        "## 將資料起訖日轉換成unix timestamp\n",
        "\n",
        "一種時間格式，從UTC1970年1月1日0時0分0秒起至現在的總秒數\n"
      ]
    },
    {
      "cell_type": "code",
      "source": [
        "dt.date(2021,1,1).timetuple()"
      ],
      "metadata": {
        "colab": {
          "base_uri": "https://localhost:8080/"
        },
        "id": "i_xNtEokk8gq",
        "outputId": "28dc9018-ef21-4248-f45f-575ae9b99f93"
      },
      "execution_count": null,
      "outputs": [
        {
          "output_type": "execute_result",
          "data": {
            "text/plain": [
              "time.struct_time(tm_year=2021, tm_mon=1, tm_mday=1, tm_hour=0, tm_min=0, tm_sec=0, tm_wday=4, tm_yday=1, tm_isdst=-1)"
            ]
          },
          "metadata": {},
          "execution_count": 15
        }
      ]
    },
    {
      "cell_type": "code",
      "source": [
        "time.mktime(dt.date(2021,1,1).timetuple())"
      ],
      "metadata": {
        "colab": {
          "base_uri": "https://localhost:8080/"
        },
        "id": "JJBBG1V-k9vT",
        "outputId": "16888d61-21bf-4a88-c71e-540506331615"
      },
      "execution_count": null,
      "outputs": [
        {
          "output_type": "execute_result",
          "data": {
            "text/plain": [
              "1609459200.0"
            ]
          },
          "metadata": {},
          "execution_count": 16
        }
      ]
    },
    {
      "cell_type": "code",
      "execution_count": null,
      "metadata": {
        "id": "WDJx3VtS9hSu"
      },
      "outputs": [],
      "source": [
        "## 將資料起迄日轉換unix timestamp\n",
        "## 從20210101 - 20211115\n",
        "start_unix_timestamp = int(time.mktime(dt.date(2021,1,1).timetuple()))\n",
        "end_unix_timestamp = int(time.mktime(dt.date(2021,11,15).timetuple()))"
      ]
    },
    {
      "cell_type": "markdown",
      "metadata": {
        "id": "Og08cnLQnUg5"
      },
      "source": [
        "## 直接爬內部API \n",
        "方便，又很多東西可以挖"
      ]
    },
    {
      "cell_type": "markdown",
      "metadata": {
        "id": "7TERcuW3oBB-"
      },
      "source": [
        "格式化字串(format string) 小教學"
      ]
    },
    {
      "cell_type": "code",
      "execution_count": null,
      "metadata": {
        "colab": {
          "base_uri": "https://localhost:8080/"
        },
        "id": "PM_94Xpanyu0",
        "outputId": "c74717de-42db-4ded-ff77-6aba088a8154"
      },
      "outputs": [
        {
          "output_type": "stream",
          "name": "stdout",
          "text": [
            "hi, Hello!\n",
            "hi, I am Alex\n"
          ]
        }
      ],
      "source": [
        "print('hi, {}'.format('Hello!'))\n",
        "\n",
        "print('hi, I am {name}'.format(name = 'Alex'))"
      ]
    },
    {
      "cell_type": "markdown",
      "metadata": {
        "id": "6T1uXWHEnj1l"
      },
      "source": [
        "將起訖日參數填入，爬取第一頁\n",
        "從回傳的資料以此先得知總共有幾頁要爬"
      ]
    },
    {
      "cell_type": "code",
      "execution_count": null,
      "metadata": {
        "id": "3PMpVrrPZ5fX"
      },
      "outputs": [],
      "source": [
        "url_api = 'https://api.cnyes.com/media/api/v1/newslist/category/tw_stock?startAt={}&endAt={}&limit=30&page={}'.format(\n",
        "    start_unix_timestamp, \n",
        "    end_unix_timestamp, \n",
        "    1\n",
        ")\n",
        "res = requests.get(url_api, headers=headers)\n",
        "res_json = res.json()"
      ]
    },
    {
      "cell_type": "code",
      "source": [
        "url_api"
      ],
      "metadata": {
        "colab": {
          "base_uri": "https://localhost:8080/",
          "height": 35
        },
        "id": "dw1JFk5XlMac",
        "outputId": "d5dde552-b6e6-4f41-bbc8-2adc2eb7aa85"
      },
      "execution_count": null,
      "outputs": [
        {
          "output_type": "execute_result",
          "data": {
            "application/vnd.google.colaboratory.intrinsic+json": {
              "type": "string"
            },
            "text/plain": [
              "'https://api.cnyes.com/media/api/v1/newslist/category/tw_stock?startAt=1609459200&endAt=1636934400&limit=30&page=1'"
            ]
          },
          "metadata": {},
          "execution_count": 23
        }
      ]
    },
    {
      "cell_type": "code",
      "execution_count": null,
      "metadata": {
        "colab": {
          "base_uri": "https://localhost:8080/"
        },
        "id": "J7lkV1wB-a9k",
        "outputId": "004044b2-46f5-49f5-baf9-8c8a26afe1ba"
      },
      "outputs": [
        {
          "output_type": "execute_result",
          "data": {
            "text/plain": [
              "613"
            ]
          },
          "metadata": {},
          "execution_count": 22
        }
      ],
      "source": [
        "last_page = res_json['items']['last_page']\n",
        "last_page"
      ]
    },
    {
      "cell_type": "markdown",
      "metadata": {
        "id": "GO06ykkppDnq"
      },
      "source": [
        "開始把613頁全爬完"
      ]
    },
    {
      "cell_type": "code",
      "execution_count": null,
      "metadata": {
        "colab": {
          "base_uri": "https://localhost:8080/"
        },
        "id": "gAk1bWHr8yEG",
        "outputId": "66a024b3-f957-45b7-d5fb-72f0fc28b351"
      },
      "outputs": [
        {
          "name": "stderr",
          "output_type": "stream",
          "text": [
            "100%|██████████| 613/613 [23:20<00:00,  2.29s/it]\n"
          ]
        }
      ],
      "source": [
        "news_data_list = []\n",
        "\n",
        "for i in tqdm.tqdm(range(1,last_page+1)):\n",
        "  url_api = 'https://api.cnyes.com/media/api/v1/newslist/category/tw_stock?startAt={}&endAt={}&limit=30&page={}'.format(start_unix_timestamp, end_unix_timestamp, i)\n",
        "  res = requests.get(url_api, headers=headers)\n",
        "  res_json = res.json()\n",
        "  news_data_list.append(res_json)\n",
        "  time.sleep(1)"
      ]
    },
    {
      "cell_type": "markdown",
      "metadata": {
        "id": "4mws9BtVpJJF"
      },
      "source": [
        "寫入pickle"
      ]
    },
    {
      "cell_type": "code",
      "execution_count": null,
      "metadata": {
        "colab": {
          "base_uri": "https://localhost:8080/",
          "height": 35
        },
        "id": "-dTveBS_NbxH",
        "outputId": "5b44633a-45b7-44f7-c72f-7ccd669e4eb7"
      },
      "outputs": [
        {
          "data": {
            "application/vnd.google.colaboratory.intrinsic+json": {
              "type": "string"
            },
            "text/plain": [
              "\"\\nwith open('鉅亨網2021新聞.pickle', 'wb') as f:\\n  pickle.dump(news_data_list, f)\\n\""
            ]
          },
          "execution_count": 32,
          "metadata": {},
          "output_type": "execute_result"
        }
      ],
      "source": [
        "import pickle\n",
        "'''\n",
        "with open('鉅亨網2021新聞.pickle', 'wb') as f:\n",
        "  pickle.dump(news_data_list, f)\n",
        "'''"
      ]
    },
    {
      "cell_type": "markdown",
      "metadata": {
        "id": "u5c-h2trnC_x"
      },
      "source": [
        "# 資料讀入"
      ]
    },
    {
      "cell_type": "code",
      "execution_count": null,
      "metadata": {
        "id": "05sL2x98cy69"
      },
      "outputs": [],
      "source": [
        "import pickle"
      ]
    },
    {
      "cell_type": "code",
      "execution_count": null,
      "metadata": {
        "colab": {
          "base_uri": "https://localhost:8080/"
        },
        "id": "nP-TM11YoCIa",
        "outputId": "6878da3b-f922-4d28-c47a-15f61fcda9ae"
      },
      "outputs": [
        {
          "output_type": "stream",
          "name": "stdout",
          "text": [
            "Downloading...\n",
            "From: https://drive.google.com/uc?id=1ATL1IdoLgLfV-ro1r5BQzPp8DZXVqfws\n",
            "To: /content/___2021__.pickle\n",
            "100% 61.3M/61.3M [00:00<00:00, 109MB/s] \n"
          ]
        }
      ],
      "source": [
        "!gdown https://drive.google.com/uc?id=1ATL1IdoLgLfV-ro1r5BQzPp8DZXVqfws\n",
        "with open('/content/___2021__.pickle', 'rb') as f:\n",
        "  news_data_list = pickle.load(f)"
      ]
    },
    {
      "cell_type": "markdown",
      "source": [
        "## 前處理函數"
      ],
      "metadata": {
        "id": "_8JyfVoMdMxz"
      }
    },
    {
      "cell_type": "markdown",
      "metadata": {
        "id": "bd4r-Podp3T9"
      },
      "source": [
        "正則表達式:  只保留英文中文數字 \n"
      ]
    },
    {
      "cell_type": "code",
      "execution_count": null,
      "metadata": {
        "id": "fQkzgRdDnuoS"
      },
      "outputs": [],
      "source": [
        "def remove_punctuation(line):\n",
        "  rule = re.compile(\"[^a-z A-Z \\u4e00-\\u9fa5]\")\n",
        "  #rule = re.compile(\"[^a-z A-Z 0-9 \\u4e00-\\u9fa5]\")\n",
        "  line = rule.sub('',line)\n",
        "  return line\n"
      ]
    },
    {
      "cell_type": "markdown",
      "metadata": {
        "id": "qJav1UMKp7-J"
      },
      "source": [
        "正則表達式: 去除亂碼\n"
      ]
    },
    {
      "cell_type": "code",
      "execution_count": null,
      "metadata": {
        "id": "-jib4lGap2ic"
      },
      "outputs": [],
      "source": [
        "## 去除亂碼\n",
        "def remove_char(line):\n",
        "  rule = re.compile('&lt;.+?(&gt;|>)')\n",
        "  line = rule.sub('',line)\n",
        "  return line\n"
      ]
    },
    {
      "cell_type": "markdown",
      "metadata": {
        "id": "38CXEsMpqLEB"
      },
      "source": [
        "UNIX timestamp轉日期"
      ]
    },
    {
      "cell_type": "code",
      "execution_count": null,
      "metadata": {
        "colab": {
          "base_uri": "https://localhost:8080/"
        },
        "id": "jpMFP--mpuvB",
        "outputId": "35c07a6b-a0fe-46d1-b87d-c19409c72028"
      },
      "outputs": [
        {
          "output_type": "stream",
          "name": "stdout",
          "text": [
            "2021-11-15 09:49:37\n"
          ]
        }
      ],
      "source": [
        "from datetime import datetime\n",
        "ts = int('1636969777')\n",
        "\n",
        "## UNIX timestamp轉日期\n",
        "print(dt.datetime.utcfromtimestamp(ts).strftime('%Y-%m-%d %H:%M:%S'))"
      ]
    },
    {
      "cell_type": "markdown",
      "metadata": {
        "id": "dTC0Nv65nWVG"
      },
      "source": [
        "從Json中出取資訊\n",
        "\n",
        "- content: 本文\n",
        "- summary: 新聞摘要\n",
        "- tittle: 新聞標題\n",
        "- market: 新聞提到的標的\n"
      ]
    },
    {
      "cell_type": "code",
      "execution_count": null,
      "metadata": {
        "id": "ABvuvyaV8t1S"
      },
      "outputs": [],
      "source": [
        "news_data_flatten = []\n",
        "for sublist in news_data_list:\n",
        "    new_dict_list = [dict(x) for x in sublist['items']['data']]\n",
        "    news_data_flatten.extend(new_dict_list)"
      ]
    },
    {
      "cell_type": "code",
      "source": [
        "news_data_flatten[0:2]"
      ],
      "metadata": {
        "colab": {
          "base_uri": "https://localhost:8080/"
        },
        "id": "FLmNB9n8lyyi",
        "outputId": "c14846ff-8066-4c08-96b0-3d5bb7e51763"
      },
      "execution_count": null,
      "outputs": [
        {
          "output_type": "execute_result",
          "data": {
            "text/plain": [
              "[{'abTesting': None,\n",
              "  'categoryId': 827,\n",
              "  'categoryName': '台股新聞',\n",
              "  'columnists': None,\n",
              "  'content': '&lt;p&gt;混凝土廠國產 (2504-TW) 今 (15) 日公告，將高雄「悅誠廣場」房地持分以總價 23.5 億元，出售予興富發 (2542-TW) 子公司碧江企業，處分利益達 14.9 億元，估貢獻每股純益約 1.27 元，預計第四季至明年第一季財報入帳。&lt;/p&gt;\\n\\n&lt;p&gt;國產這次售出的「悅誠廣場」土地資產，土地面積 4053 坪，為地上 3 樓、地下 2 樓的建物，總樓地板面積約 1.2 萬坪，由國產與其他地主共同持分，2016 年由興富發向國產等地主承租。&lt;/p&gt;\\n\\n&lt;p&gt;國產強調，目前全台仍擁有 45.7 萬坪的資產，會配合整體經濟現勢與區域發展趨勢，借力於未來重大交通建設與都市更新相關的商圈規劃，發展出綜合商場、渡假旅館 / 國際精品飯店、多功能辦公大樓、休閒農場等多項主題事業。&lt;/p&gt;\\n\\n&lt;p&gt;國產董事會日前也通過 158 億餘元的投資預算，因應「南港大型開發案」相關營造發包等作業，該案佔地 6500 坪，預估開發總樓地板面積約 6 萬餘坪，興建完成後，國產可分回 4.6 萬建坪及約 550 個停車位。&lt;/p&gt;\\n',\n",
              "  'coverSrc': {'l': {'height': 359,\n",
              "    'src': 'https://cimg.cnyes.cool/prod/news/4771793/l/7e7c47f106072253eb6e53271586570d.jpg',\n",
              "    'width': 640},\n",
              "   'm': {'height': 213,\n",
              "    'src': 'https://cimg.cnyes.cool/prod/news/4771793/m/7e7c47f106072253eb6e53271586570d.jpg',\n",
              "    'width': 380},\n",
              "   's': {'height': 101,\n",
              "    'src': 'https://cimg.cnyes.cool/prod/news/4771793/s/7e7c47f106072253eb6e53271586570d.jpg',\n",
              "    'width': 180},\n",
              "   'xl': {'height': 539,\n",
              "    'src': 'https://cimg.cnyes.cool/prod/news/4771793/xl/7e7c47f106072253eb6e53271586570d.jpg',\n",
              "    'width': 960},\n",
              "   'xs': {'height': 56,\n",
              "    'src': 'https://cimg.cnyes.cool/prod/news/4771793/xs/7e7c47f106072253eb6e53271586570d.jpg',\n",
              "    'width': 100},\n",
              "   'xxl': {'height': 607,\n",
              "    'src': 'https://cimg.cnyes.cool/prod/news/4771793/xxl/7e7c47f106072253eb6e53271586570d.jpg',\n",
              "    'width': 1080}},\n",
              "  'fbComment': 0,\n",
              "  'fbCommentPluginCount': 0,\n",
              "  'fbShare': 0,\n",
              "  'fundCategoryAbbr': [],\n",
              "  'hasCoverPhoto': 1,\n",
              "  'isCategoryHeadline': 1,\n",
              "  'isIndex': 1,\n",
              "  'magazine': None,\n",
              "  'market': [{'code': '2504', 'name': '國產', 'symbol': 'TWS:2504:STOCK'},\n",
              "   {'code': '2542', 'name': '興富發', 'symbol': 'TWS:2542:STOCK'}],\n",
              "  'newsId': 4771793,\n",
              "  'payment': 0,\n",
              "  'publishAt': 1636984978,\n",
              "  'stock': ['2504', '2542'],\n",
              "  'summary': '混凝土廠國產 (2504-TW) 今 (15) 日公告，將高雄「悅誠廣場」房地持分以總價 23.5 億元，出售予興富發 (2542-TW) 子公司碧江企業，處分利益達 14.9 億元，估貢獻每股純益約 1.27 元。',\n",
              "  'title': '國產出售高雄悅誠廣場資產 貢獻EPS 1.27元',\n",
              "  'video': ''},\n",
              " {'abTesting': None,\n",
              "  'categoryId': 827,\n",
              "  'categoryName': '台股新聞',\n",
              "  'columnists': None,\n",
              "  'content': '&lt;p&gt;台泥 (1101-TW) 今 (15) 日召開法說，總經理李鐘培表示，10 月以來中國能耗雙控持續，水泥產銷量減但價格持穩高檔，且近期煤價大幅回落，有利毛利率回升到過往水準之上，加上廣東韶關廠投產也將挹注營收表現。&lt;/p&gt;\\n\\n&lt;p&gt;李鐘培表示，以目前中國水泥市場供需來看，都受到雙能耗控管政策影響，供給面生產量下滑；需求面來看，建築材料短缺價格上漲、房地產需求下滑，不過公共建設需求平穩。&lt;/p&gt;\\n\\n&lt;p&gt;展望未來中國市場發展，李鐘培預估，雙能耗控管政策延續，可以視為加強版的錯鋒生產，除了將依照政策調整生產量外，需求端則期望市場在政策下，維持供需平衡。&lt;/p&gt;\\n\\n&lt;p&gt;海外水泥市場貢獻則持續穩定成長，李鐘培表示，葡萄牙市場需求成熟穩定，售價也繼續維持高檔，未出售累積碳權也相當可觀，為企業團紮實減碳同時維持獲利之最佳範例；土耳其水泥市場從 2018 年購併至今，價格成長了約 70%，成為集團獲利的貢獻者。&lt;/p&gt;\\n\\n&lt;p&gt;至於明年的變數方面，李鐘培認為，最大的隱憂還是美國的通貨膨脹，由於現在美國消費者物價指數 (CPI) 呈現過熱，後續 FED 勢必升息，將影響土建融的額度及利率，進而影響市場的投資意願。&lt;/p&gt;\\n\\n&lt;p&gt;台泥第三季因燃料成本較去年同期大幅增加，稅後純益 39.8 億元，年減 46.7%，每股純益 0.59 元；前三季稅後純益 148.4 億元，年減 19.4%，每股純益 2.41 元。&lt;/p&gt;\\n',\n",
              "  'coverSrc': {'l': {'height': 360,\n",
              "    'src': 'https://cimg.cnyes.cool/prod/news/4771790/l/59deaefdd73336d23e862a0e32f6df31.jpg',\n",
              "    'width': 640},\n",
              "   'm': {'height': 214,\n",
              "    'src': 'https://cimg.cnyes.cool/prod/news/4771790/m/59deaefdd73336d23e862a0e32f6df31.jpg',\n",
              "    'width': 380},\n",
              "   's': {'height': 101,\n",
              "    'src': 'https://cimg.cnyes.cool/prod/news/4771790/s/59deaefdd73336d23e862a0e32f6df31.jpg',\n",
              "    'width': 180},\n",
              "   'xl': {'height': 540,\n",
              "    'src': 'https://cimg.cnyes.cool/prod/news/4771790/xl/59deaefdd73336d23e862a0e32f6df31.jpg',\n",
              "    'width': 960},\n",
              "   'xs': {'height': 56,\n",
              "    'src': 'https://cimg.cnyes.cool/prod/news/4771790/xs/59deaefdd73336d23e862a0e32f6df31.jpg',\n",
              "    'width': 100},\n",
              "   'xxl': {'height': 608,\n",
              "    'src': 'https://cimg.cnyes.cool/prod/news/4771790/xxl/59deaefdd73336d23e862a0e32f6df31.jpg',\n",
              "    'width': 1080}},\n",
              "  'fbComment': 0,\n",
              "  'fbCommentPluginCount': 0,\n",
              "  'fbShare': 0,\n",
              "  'fundCategoryAbbr': [],\n",
              "  'hasCoverPhoto': 1,\n",
              "  'isCategoryHeadline': 1,\n",
              "  'isIndex': 1,\n",
              "  'magazine': None,\n",
              "  'market': [{'code': '1101', 'name': '台泥', 'symbol': 'TWS:1101:STOCK'}],\n",
              "  'newsId': 4771790,\n",
              "  'payment': 0,\n",
              "  'publishAt': 1636984833,\n",
              "  'stock': ['1101'],\n",
              "  'summary': '台泥 (1101-TW) 今 (15) 日召開法說，總經理李鐘培表示，10 月以來中國能耗雙控持續，水泥產銷量減但價格持穩高檔，且近期煤價大幅回落，有利毛利率回升到過往水準之上，加上廣東韶關廠投產也將挹注營收表現。',\n",
              "  'title': '〈台泥法說〉Q4煤價下滑成本壓力減 毛利率將回升至平均之上',\n",
              "  'video': ''}]"
            ]
          },
          "metadata": {},
          "execution_count": 34
        }
      ]
    },
    {
      "cell_type": "code",
      "execution_count": null,
      "metadata": {
        "id": "jBJqlpz2rF_w"
      },
      "outputs": [],
      "source": [
        "from collections import defaultdict"
      ]
    },
    {
      "cell_type": "markdown",
      "metadata": {
        "id": "uA3hRrwlq18l"
      },
      "source": [
        "轉換為dataframe"
      ]
    },
    {
      "cell_type": "code",
      "execution_count": null,
      "metadata": {
        "id": "EpAK5Iql-zgE"
      },
      "outputs": [],
      "source": [
        "def def_value():\n",
        "  return [{'name':None}]"
      ]
    },
    {
      "cell_type": "code",
      "execution_count": null,
      "metadata": {
        "id": "al-Lftq69Zh1"
      },
      "outputs": [],
      "source": [
        "news_extracted_list=[]\n",
        "\n",
        "for news in news_data_flatten:\n",
        "  x = defaultdict(def_value,news)\n",
        "  \n",
        "  data_dict = [{\n",
        "      'id':x['newsId'], \n",
        "      'title':x['title'], \n",
        "      'summary':x['summary'],  \n",
        "      'article':remove_char(x['content']),  \n",
        "      'stock':[x['name'] for x in x['market']],\n",
        "\n",
        "      'unix_timestamp':x['publishAt'],\n",
        "      'datetime':dt.datetime.utcfromtimestamp(x['publishAt']).strftime('%Y-%m-%d')\n",
        "      } \n",
        "  ]\n",
        "  news_extracted_list.extend(data_dict)\n"
      ]
    },
    {
      "cell_type": "code",
      "execution_count": null,
      "metadata": {
        "id": "znktSdeo9SF5"
      },
      "outputs": [],
      "source": [
        "org_corpus_df = pd.DataFrame(news_extracted_list)"
      ]
    },
    {
      "cell_type": "code",
      "execution_count": null,
      "metadata": {
        "id": "kiBeuzCg91M4"
      },
      "outputs": [],
      "source": [
        "corp_list = []\n",
        "for sublist in org_corpus_df['stock'].tolist():\n",
        "    corp_list.extend(sublist)"
      ]
    },
    {
      "cell_type": "code",
      "execution_count": null,
      "metadata": {
        "id": "ax8S8ywPCRA7"
      },
      "outputs": [],
      "source": [
        "corp_list = list(filter(None,list(set(corp_list))))"
      ]
    },
    {
      "cell_type": "markdown",
      "metadata": {
        "id": "eBzza3J0n517"
      },
      "source": [
        "去除換行符號與空白"
      ]
    },
    {
      "cell_type": "code",
      "execution_count": null,
      "metadata": {
        "id": "hlsPhUc9t0mC"
      },
      "outputs": [],
      "source": [
        "org_corpus_df['article'] = org_corpus_df['article'].str.replace('\\n',\"\")\n",
        "org_corpus_df['article'] = org_corpus_df['article'].str.replace(\" \", \"\")"
      ]
    },
    {
      "cell_type": "code",
      "execution_count": null,
      "metadata": {
        "colab": {
          "base_uri": "https://localhost:8080/",
          "height": 424
        },
        "id": "tJL4QN13zBuL",
        "outputId": "dec88a16-578f-410c-b7a2-181625a56fba"
      },
      "outputs": [
        {
          "output_type": "execute_result",
          "data": {
            "text/html": [
              "\n",
              "  <div id=\"df-79fb1dde-d205-4883-87f1-5e0953379598\">\n",
              "    <div class=\"colab-df-container\">\n",
              "      <div>\n",
              "<style scoped>\n",
              "    .dataframe tbody tr th:only-of-type {\n",
              "        vertical-align: middle;\n",
              "    }\n",
              "\n",
              "    .dataframe tbody tr th {\n",
              "        vertical-align: top;\n",
              "    }\n",
              "\n",
              "    .dataframe thead th {\n",
              "        text-align: right;\n",
              "    }\n",
              "</style>\n",
              "<table border=\"1\" class=\"dataframe\">\n",
              "  <thead>\n",
              "    <tr style=\"text-align: right;\">\n",
              "      <th></th>\n",
              "      <th>id</th>\n",
              "      <th>title</th>\n",
              "      <th>summary</th>\n",
              "      <th>article</th>\n",
              "      <th>stock</th>\n",
              "      <th>unix_timestamp</th>\n",
              "      <th>datetime</th>\n",
              "    </tr>\n",
              "  </thead>\n",
              "  <tbody>\n",
              "    <tr>\n",
              "      <th>0</th>\n",
              "      <td>4771793</td>\n",
              "      <td>國產出售高雄悅誠廣場資產 貢獻EPS 1.27元</td>\n",
              "      <td>混凝土廠國產 (2504-TW) 今 (15) 日公告，將高雄「悅誠廣場」房地持分以總價 2...</td>\n",
              "      <td>混凝土廠國產(2504-TW)今(15)日公告，將高雄「悅誠廣場」房地持分以總價23.5億元...</td>\n",
              "      <td>[國產, 興富發]</td>\n",
              "      <td>1636984978</td>\n",
              "      <td>2021-11-15</td>\n",
              "    </tr>\n",
              "    <tr>\n",
              "      <th>1</th>\n",
              "      <td>4771790</td>\n",
              "      <td>〈台泥法說〉Q4煤價下滑成本壓力減 毛利率將回升至平均之上</td>\n",
              "      <td>台泥 (1101-TW) 今 (15) 日召開法說，總經理李鐘培表示，10 月以來中國能耗雙...</td>\n",
              "      <td>台泥(1101-TW)今(15)日召開法說，總經理李鐘培表示，10月以來中國能耗雙控持續，水...</td>\n",
              "      <td>[台泥]</td>\n",
              "      <td>1636984833</td>\n",
              "      <td>2021-11-15</td>\n",
              "    </tr>\n",
              "    <tr>\n",
              "      <th>2</th>\n",
              "      <td>4771785</td>\n",
              "      <td>〈台泥法說〉張安平談氣候變遷「水泥業站在生命第一現場」 承擔減碳責無旁貸</td>\n",
              "      <td>台泥 (1101-TW) 董事長張安平今 (15) 日在法說會前致詞時指出，今天的氣候災害，...</td>\n",
              "      <td>台泥(1101-TW)董事長張安平今(15)日在法說會前致詞時指出，今天的氣候災害，是人類打...</td>\n",
              "      <td>[台泥]</td>\n",
              "      <td>1636984795</td>\n",
              "      <td>2021-11-15</td>\n",
              "    </tr>\n",
              "    <tr>\n",
              "      <th>3</th>\n",
              "      <td>4771771</td>\n",
              "      <td>達邁調整產品組合 看好高頻高速傳輸及汽車市場應用</td>\n",
              "      <td>聚醯亞胺（PI）薄膜廠達邁 (3645-TW) 積極展開產品應用多元化的布局，由以往高達 9...</td>\n",
              "      <td>聚醯亞胺（PI）薄膜廠達邁(3645-TW)積極展開產品多元化布局，以往高達98%的軟板應用...</td>\n",
              "      <td>[達邁]</td>\n",
              "      <td>1636980649</td>\n",
              "      <td>2021-11-15</td>\n",
              "    </tr>\n",
              "    <tr>\n",
              "      <th>4</th>\n",
              "      <td>4771770</td>\n",
              "      <td>22家壽險前3季合賺3389億元破紀錄 淨值比all pass！</td>\n",
              "      <td>22 家壽險前 3 季合賺 3389 億元破紀錄 淨值比 all pass！</td>\n",
              "      <td>壽險公司第3季財報全數公布，22家壽險公司合計前3季稅後純益逾3389億元，創史上新高，年增...</td>\n",
              "      <td>[None]</td>\n",
              "      <td>1636980334</td>\n",
              "      <td>2021-11-15</td>\n",
              "    </tr>\n",
              "  </tbody>\n",
              "</table>\n",
              "</div>\n",
              "      <button class=\"colab-df-convert\" onclick=\"convertToInteractive('df-79fb1dde-d205-4883-87f1-5e0953379598')\"\n",
              "              title=\"Convert this dataframe to an interactive table.\"\n",
              "              style=\"display:none;\">\n",
              "        \n",
              "  <svg xmlns=\"http://www.w3.org/2000/svg\" height=\"24px\"viewBox=\"0 0 24 24\"\n",
              "       width=\"24px\">\n",
              "    <path d=\"M0 0h24v24H0V0z\" fill=\"none\"/>\n",
              "    <path d=\"M18.56 5.44l.94 2.06.94-2.06 2.06-.94-2.06-.94-.94-2.06-.94 2.06-2.06.94zm-11 1L8.5 8.5l.94-2.06 2.06-.94-2.06-.94L8.5 2.5l-.94 2.06-2.06.94zm10 10l.94 2.06.94-2.06 2.06-.94-2.06-.94-.94-2.06-.94 2.06-2.06.94z\"/><path d=\"M17.41 7.96l-1.37-1.37c-.4-.4-.92-.59-1.43-.59-.52 0-1.04.2-1.43.59L10.3 9.45l-7.72 7.72c-.78.78-.78 2.05 0 2.83L4 21.41c.39.39.9.59 1.41.59.51 0 1.02-.2 1.41-.59l7.78-7.78 2.81-2.81c.8-.78.8-2.07 0-2.86zM5.41 20L4 18.59l7.72-7.72 1.47 1.35L5.41 20z\"/>\n",
              "  </svg>\n",
              "      </button>\n",
              "      \n",
              "  <style>\n",
              "    .colab-df-container {\n",
              "      display:flex;\n",
              "      flex-wrap:wrap;\n",
              "      gap: 12px;\n",
              "    }\n",
              "\n",
              "    .colab-df-convert {\n",
              "      background-color: #E8F0FE;\n",
              "      border: none;\n",
              "      border-radius: 50%;\n",
              "      cursor: pointer;\n",
              "      display: none;\n",
              "      fill: #1967D2;\n",
              "      height: 32px;\n",
              "      padding: 0 0 0 0;\n",
              "      width: 32px;\n",
              "    }\n",
              "\n",
              "    .colab-df-convert:hover {\n",
              "      background-color: #E2EBFA;\n",
              "      box-shadow: 0px 1px 2px rgba(60, 64, 67, 0.3), 0px 1px 3px 1px rgba(60, 64, 67, 0.15);\n",
              "      fill: #174EA6;\n",
              "    }\n",
              "\n",
              "    [theme=dark] .colab-df-convert {\n",
              "      background-color: #3B4455;\n",
              "      fill: #D2E3FC;\n",
              "    }\n",
              "\n",
              "    [theme=dark] .colab-df-convert:hover {\n",
              "      background-color: #434B5C;\n",
              "      box-shadow: 0px 1px 3px 1px rgba(0, 0, 0, 0.15);\n",
              "      filter: drop-shadow(0px 1px 2px rgba(0, 0, 0, 0.3));\n",
              "      fill: #FFFFFF;\n",
              "    }\n",
              "  </style>\n",
              "\n",
              "      <script>\n",
              "        const buttonEl =\n",
              "          document.querySelector('#df-79fb1dde-d205-4883-87f1-5e0953379598 button.colab-df-convert');\n",
              "        buttonEl.style.display =\n",
              "          google.colab.kernel.accessAllowed ? 'block' : 'none';\n",
              "\n",
              "        async function convertToInteractive(key) {\n",
              "          const element = document.querySelector('#df-79fb1dde-d205-4883-87f1-5e0953379598');\n",
              "          const dataTable =\n",
              "            await google.colab.kernel.invokeFunction('convertToInteractive',\n",
              "                                                     [key], {});\n",
              "          if (!dataTable) return;\n",
              "\n",
              "          const docLinkHtml = 'Like what you see? Visit the ' +\n",
              "            '<a target=\"_blank\" href=https://colab.research.google.com/notebooks/data_table.ipynb>data table notebook</a>'\n",
              "            + ' to learn more about interactive tables.';\n",
              "          element.innerHTML = '';\n",
              "          dataTable['output_type'] = 'display_data';\n",
              "          await google.colab.output.renderOutput(dataTable, element);\n",
              "          const docLink = document.createElement('div');\n",
              "          docLink.innerHTML = docLinkHtml;\n",
              "          element.appendChild(docLink);\n",
              "        }\n",
              "      </script>\n",
              "    </div>\n",
              "  </div>\n",
              "  "
            ],
            "text/plain": [
              "        id                                 title  ... unix_timestamp    datetime\n",
              "0  4771793              國產出售高雄悅誠廣場資產 貢獻EPS 1.27元  ...     1636984978  2021-11-15\n",
              "1  4771790         〈台泥法說〉Q4煤價下滑成本壓力減 毛利率將回升至平均之上  ...     1636984833  2021-11-15\n",
              "2  4771785  〈台泥法說〉張安平談氣候變遷「水泥業站在生命第一現場」 承擔減碳責無旁貸  ...     1636984795  2021-11-15\n",
              "3  4771771              達邁調整產品組合 看好高頻高速傳輸及汽車市場應用  ...     1636980649  2021-11-15\n",
              "4  4771770      22家壽險前3季合賺3389億元破紀錄 淨值比all pass！  ...     1636980334  2021-11-15\n",
              "\n",
              "[5 rows x 7 columns]"
            ]
          },
          "metadata": {},
          "execution_count": 42
        }
      ],
      "source": [
        "org_corpus_df.head()"
      ]
    },
    {
      "cell_type": "markdown",
      "metadata": {
        "id": "6_eE4hzHzF2u"
      },
      "source": [
        "# 進行分詞"
      ]
    },
    {
      "cell_type": "markdown",
      "metadata": {
        "id": "Wysxla8YoNUB"
      },
      "source": [
        "轉成list格式以利分詞\n",
        "\n",
        "先取用摘要進行探勘"
      ]
    },
    {
      "cell_type": "code",
      "execution_count": null,
      "metadata": {
        "id": "46N6zRMa8E3i"
      },
      "outputs": [],
      "source": [
        "text = org_corpus_df['summary'].astype(str).tolist()"
      ]
    },
    {
      "cell_type": "code",
      "execution_count": null,
      "metadata": {
        "colab": {
          "base_uri": "https://localhost:8080/"
        },
        "id": "P6Tllz2hAe1-",
        "outputId": "d94aa2a7-f97b-4073-df63-cec6d1ec91ee"
      },
      "outputs": [
        {
          "output_type": "execute_result",
          "data": {
            "text/plain": [
              "['混凝土廠國產 (2504-TW) 今 (15) 日公告，將高雄「悅誠廣場」房地持分以總價 23.5 億元，出售予興富發 (2542-TW) 子公司碧江企業，處分利益達 14.9 億元，估貢獻每股純益約 1.27 元。',\n",
              " '台泥 (1101-TW) 今 (15) 日召開法說，總經理李鐘培表示，10 月以來中國能耗雙控持續，水泥產銷量減但價格持穩高檔，且近期煤價大幅回落，有利毛利率回升到過往水準之上，加上廣東韶關廠投產也將挹注營收表現。',\n",
              " '台泥 (1101-TW) 董事長張安平今 (15) 日在法說會前致詞時指出，今天的氣候災害，是人類打造繁榮的副作用漸漸浮現、失衡的大自然對人類的反撲；與人類文明與大自然息息相關的水泥業「站在生命的第一現場」。',\n",
              " '聚醯亞胺（PI）薄膜廠達邁 (3645-TW) 積極展開產品應用多元化的布局，由以往高達 98% 的軟板應用，在今年前三季的比重已降至 64%，而在非軟板的應用的成長到 36% 則以車用、散熱產品為主。',\n",
              " '22 家壽險前 3 季合賺 3389 億元破紀錄 淨值比 all pass！']"
            ]
          },
          "metadata": {},
          "execution_count": 52
        }
      ],
      "source": [
        "text[0:5]"
      ]
    },
    {
      "cell_type": "markdown",
      "metadata": {
        "id": "fC93v9T14u5y"
      },
      "source": [
        "### 載入停用詞\n",
        "\n",
        "載入中文之中「的、了、與其、和」這種意義不大詞彙"
      ]
    },
    {
      "cell_type": "code",
      "execution_count": null,
      "metadata": {
        "id": "6UCsqY3Xn8ov"
      },
      "outputs": [],
      "source": [
        "%%capture\n",
        "!wget https://raw.githubusercontent.com/goto456/stopwords/master/cn_stopwords.txt"
      ]
    },
    {
      "cell_type": "code",
      "execution_count": null,
      "metadata": {
        "id": "lAt3h9og3Tvg"
      },
      "outputs": [],
      "source": [
        "## 逐行讀入\n",
        "with open('/content/cn_stopwords.txt', 'r') as f:\n",
        "  stop_words = f.read().splitlines()"
      ]
    },
    {
      "cell_type": "markdown",
      "metadata": {
        "id": "ZQrkRk4gogEK"
      },
      "source": [
        "使用opencc套件進行簡轉繁"
      ]
    },
    {
      "cell_type": "code",
      "execution_count": null,
      "metadata": {
        "id": "NefjOF3M4kHk"
      },
      "outputs": [],
      "source": [
        "from opencc import OpenCC\n",
        "cc = OpenCC('s2t')\n",
        "\n",
        "## 轉繁體\n",
        "stop_words = [cc.convert(text) for text in stop_words]"
      ]
    },
    {
      "cell_type": "code",
      "execution_count": null,
      "metadata": {
        "id": "iGcq5Jji_xZ7"
      },
      "outputs": [],
      "source": [
        "## 保留數字\n",
        "stop_words = list(filter(lambda x: x not in ['0','1','2','3','4','5','6','7','8','9'], stop_words))"
      ]
    },
    {
      "cell_type": "code",
      "source": [
        "stop_words.extend(['TW','tw'])"
      ],
      "metadata": {
        "id": "8VlidtqGd5KU"
      },
      "execution_count": null,
      "outputs": []
    },
    {
      "cell_type": "code",
      "execution_count": null,
      "metadata": {
        "colab": {
          "base_uri": "https://localhost:8080/"
        },
        "id": "tveb8xmorTmh",
        "outputId": "8ce3391f-c04a-4701-c603-13301a12e08e"
      },
      "outputs": [
        {
          "output_type": "execute_result",
          "data": {
            "text/plain": [
              "['介於', '仍', '仍舊', '從', '從此', '從而', '他', '他人', '他們', '以']"
            ]
          },
          "metadata": {},
          "execution_count": 48
        }
      ],
      "source": [
        "stop_words[100:110]"
      ]
    },
    {
      "cell_type": "markdown",
      "metadata": {
        "id": "EXWgHrZFGwcd"
      },
      "source": [
        "## 結巴jieba分詞\n",
        "\n",
        "最知名的中文分詞套件，繁中效果比中研院斷詞差一些，但很多套件會用這個做為基礎，還是得要會\n",
        "\n",
        "- [加入自定義字典方法](https://github.com/fxsjy/jieba/blob/master/test/test_userdict.py) "
      ]
    },
    {
      "cell_type": "code",
      "execution_count": null,
      "metadata": {
        "id": "Rqg7nwN5G9EJ"
      },
      "outputs": [],
      "source": [
        "import jieba"
      ]
    },
    {
      "cell_type": "code",
      "execution_count": null,
      "metadata": {
        "colab": {
          "base_uri": "https://localhost:8080/"
        },
        "id": "i8UoyL0KHMsE",
        "outputId": "bfc83e18-26ca-4b9a-f716-77ab26da177e"
      },
      "outputs": [
        {
          "output_type": "stream",
          "name": "stderr",
          "text": [
            "Building prefix dict from the default dictionary ...\n",
            "Dumping model to file cache /tmp/jieba.cache\n",
            "Loading model cost 1.031 seconds.\n",
            "Prefix dict has been built successfully.\n"
          ]
        },
        {
          "output_type": "stream",
          "name": "stdout",
          "text": [
            "CPU times: user 15 s, sys: 187 ms, total: 15.2 s\n",
            "Wall time: 16.3 s\n"
          ]
        }
      ],
      "source": [
        "%%time\n",
        "corpus_ws_jb_org = [list(jieba.cut(x, cut_all=False)) for x in text]"
      ]
    },
    {
      "cell_type": "code",
      "execution_count": null,
      "metadata": {
        "colab": {
          "base_uri": "https://localhost:8080/"
        },
        "id": "hJTNjIm7P30i",
        "outputId": "9b10e62d-f3e2-43a7-be72-75684f1010b0"
      },
      "outputs": [
        {
          "output_type": "execute_result",
          "data": {
            "text/plain": [
              "[['混凝土',\n",
              "  '廠國產',\n",
              "  ' ',\n",
              "  '(',\n",
              "  '2504',\n",
              "  '-',\n",
              "  'TW',\n",
              "  ')',\n",
              "  ' ',\n",
              "  '今',\n",
              "  ' ',\n",
              "  '(',\n",
              "  '15',\n",
              "  ')',\n",
              "  ' ',\n",
              "  '日',\n",
              "  '公告',\n",
              "  '，',\n",
              "  '將高雄',\n",
              "  '「',\n",
              "  '悅誠廣場',\n",
              "  '」',\n",
              "  '房地持',\n",
              "  '分以',\n",
              "  '總價',\n",
              "  ' ',\n",
              "  '23.5',\n",
              "  ' ',\n",
              "  '億元',\n",
              "  '，',\n",
              "  '出售',\n",
              "  '予興',\n",
              "  '富發',\n",
              "  ' ',\n",
              "  '(',\n",
              "  '2542',\n",
              "  '-',\n",
              "  'TW',\n",
              "  ')',\n",
              "  ' ',\n",
              "  '子公司',\n",
              "  '碧江',\n",
              "  '企業',\n",
              "  '，',\n",
              "  '處分',\n",
              "  '利益',\n",
              "  '達',\n",
              "  ' ',\n",
              "  '14.9',\n",
              "  ' ',\n",
              "  '億元',\n",
              "  '，',\n",
              "  '估貢獻',\n",
              "  '每股',\n",
              "  '純益',\n",
              "  '約',\n",
              "  ' ',\n",
              "  '1.27',\n",
              "  ' ',\n",
              "  '元',\n",
              "  '。'],\n",
              " ['台泥',\n",
              "  ' ',\n",
              "  '(',\n",
              "  '1101',\n",
              "  '-',\n",
              "  'TW',\n",
              "  ')',\n",
              "  ' ',\n",
              "  '今',\n",
              "  ' ',\n",
              "  '(',\n",
              "  '15',\n",
              "  ')',\n",
              "  ' ',\n",
              "  '日召',\n",
              "  '開法',\n",
              "  '說',\n",
              "  '，',\n",
              "  '總經理',\n",
              "  '李鐘培',\n",
              "  '表示',\n",
              "  '，',\n",
              "  '10',\n",
              "  ' ',\n",
              "  '月',\n",
              "  '以來',\n",
              "  '中國',\n",
              "  '能耗',\n",
              "  '雙控',\n",
              "  '持續',\n",
              "  '，',\n",
              "  '水泥',\n",
              "  '產銷量',\n",
              "  '減但',\n",
              "  '價格持',\n",
              "  '穩高檔',\n",
              "  '，',\n",
              "  '且',\n",
              "  '近期',\n",
              "  '煤價',\n",
              "  '大幅',\n",
              "  '回落',\n",
              "  '，',\n",
              "  '有利',\n",
              "  '毛利率',\n",
              "  '回升',\n",
              "  '到',\n",
              "  '過往',\n",
              "  '水準',\n",
              "  '之上',\n",
              "  '，',\n",
              "  '加上',\n",
              "  '廣東韶關',\n",
              "  '廠',\n",
              "  '投產',\n",
              "  '也將',\n",
              "  '挹注',\n",
              "  '營收表現',\n",
              "  '。']]"
            ]
          },
          "metadata": {},
          "execution_count": 54
        }
      ],
      "source": [
        "corpus_ws_jb_org[0:2]"
      ]
    },
    {
      "cell_type": "markdown",
      "metadata": {
        "id": "zlm5TYBTAvlw"
      },
      "source": [
        "## 中研院開發BERT版NLP套件\n",
        "\n",
        "有分詞、實體辨識、詞性判斷等功能，效果提升但比較慢"
      ]
    },
    {
      "cell_type": "code",
      "execution_count": null,
      "metadata": {
        "id": "cYM0afm1FVkW"
      },
      "outputs": [],
      "source": [
        "%%capture\n",
        "\"\"\"\n",
        "!pip install kora\n",
        "from kora.xattr import get_id\n",
        "fid = get_id('/content/drive/MyDrive/03_RESOURCE/鉅亨網_ws.pickle')\n",
        "\"\"\""
      ]
    },
    {
      "cell_type": "code",
      "execution_count": null,
      "metadata": {
        "colab": {
          "base_uri": "https://localhost:8080/"
        },
        "id": "682jFIDXFkQx",
        "outputId": "6dd873db-bfad-441c-8064-702ca982fb89"
      },
      "outputs": [
        {
          "name": "stdout",
          "output_type": "stream",
          "text": [
            "Downloading...\n",
            "From: https://drive.google.com/uc?id=1kQ5EhInxn4xO-rdZQ5VfwYpI5ejFBPOq\n",
            "To: /content/____ws.pickle\n",
            "100% 9.85M/9.85M [00:00<00:00, 86.8MB/s]\n"
          ]
        }
      ],
      "source": [
        "!gdown https://drive.google.com/uc?id=1kQ5EhInxn4xO-rdZQ5VfwYpI5ejFBPOq\n",
        "with open('/content/____ws.pickle', 'rb') as f:\n",
        "  corpus_ws_org = pickle.load(f)"
      ]
    },
    {
      "cell_type": "code",
      "execution_count": null,
      "metadata": {
        "id": "ne_VRxd6AuPk"
      },
      "outputs": [],
      "source": [
        "%%capture\n",
        "!pip install -U ckip-transformers\n",
        "#https://github.com/ckiplab/ckip-transformers\n"
      ]
    },
    {
      "cell_type": "code",
      "execution_count": null,
      "metadata": {
        "id": "KN0bfRmxASM6"
      },
      "outputs": [],
      "source": [
        "from ckip_transformers.nlp import CkipWordSegmenter, CkipPosTagger, CkipNerChunker"
      ]
    },
    {
      "cell_type": "markdown",
      "metadata": {
        "id": "oKFkZi1Xoz0a"
      },
      "source": [
        "- `level` 1-3: 3準確度高速度最慢\n",
        "- `device=0`: 採用GPU"
      ]
    },
    {
      "cell_type": "code",
      "execution_count": null,
      "metadata": {
        "colab": {
          "base_uri": "https://localhost:8080/",
          "height": 177,
          "referenced_widgets": [
            "f7c291c7d3034a58aefcc71f1f2e3882",
            "846612c4db3a4b258d184f285001e861",
            "35fcd23f5fef43deb71d115a4d6b1632",
            "6bed1e0a600e4833acb08a90ead16417",
            "40c6753a8f3d41dc8fefb6157213e445",
            "2d2ca61c35e44eafb334715b0b832225",
            "1ab17b8360a2463e9e2c099cd53c25b7",
            "3da52bb66eec4ced9c9525cf248d7aaf",
            "ee3b4fe2baa241abad0a4d69b6fc7535",
            "f74c1ce533534e69bc95c62779b680c5",
            "fcbc387fa6714a9da80ab115af725240",
            "2a2a489dc97e4885ba45a34e7da6ef9c",
            "d78fc1929306482f83bfa8ed4c07daa2",
            "eb4e650cfd8541f9829df65a2e166d37",
            "9188ffe2e93144b2af8c66f659fcf54f",
            "a9bd178c1cc34a14bb21ccde50b8b924",
            "ceb71b9fd7c94a14905d15e97779dbf2",
            "6f519045f8e9458c810b15b64f7c3fc7",
            "ffe2c5c5abb748c282d682428b5f4d9b",
            "8fb19949092f436c81d39446c8cc9042",
            "318b0742e9a54a4b80571112c2a1c6fd",
            "08804a20e9cd451ba0a0b394b37d4704",
            "c9b9f5ecfa4b4f728bcc9524742a6b3b",
            "131b7f22baaf40beb978353e56a0559a",
            "fe3bb1c6879943fc92b8fbf6eafe0fa5",
            "6fc705200485490dbfb9c5376d540ef0",
            "95382e8d4c89445698a12fcdd8851bdb",
            "48d625af328141fe91d083814c385e83",
            "aebac007d8e545549487df53b64461c1",
            "a233e5ffd16b444899d3b455f8a164f8",
            "e3f0a5637bf74424b9d01b27a4ad51ef",
            "3ce39e7e72b3403e919b26f0d8999d55",
            "0c7e61fc896f4f1fb1f80ff10f288280",
            "d4a72f12932e4268a6b98c004d2206bf",
            "94dbea84de9a4f5d9f87c08b427f88c4",
            "04453f3ad737472b84108065e137aa37",
            "4359559518a34baca64e4d3f9683bdfc",
            "2a457f9e74244137b611f3453bfc75d6",
            "679bf81d681a40c88d2506b4cba70bbd",
            "020143f1f25147efbb863caa747654c8",
            "541ff91451b04c99937880b11aa1e7b5",
            "6256cc967b7942fba4854392e853b7f1",
            "a1610566d0864ef3bf856895e22de620",
            "4493bac8511649fd8e733dce4a224e52",
            "3025bf2008bd408f927c318d06de0a69",
            "f25acd8ec94e4331ab3cfd435c5683f7",
            "62ed7e03ecd1441b956870af7941f084",
            "2b1e575aab124a6ea3d0ab8fbb117f2b",
            "566e06d050c14a4b93adee492f509823",
            "c469535195cc4f289e2271c6b18e8e61",
            "f129daa54c88441d882ac9e24b5bf83d",
            "2adf969d1a214333ada1219481c1e80f",
            "9509134deea944268a417ef9c70f355d",
            "5fc2c471f5f04a4eab10167de3a60792",
            "7e69d319a92a4fd18890c13e41138d45"
          ]
        },
        "id": "Bb5iJrDPzJBU",
        "outputId": "3df41dd9-3b4b-486b-949c-4601272913fc"
      },
      "outputs": [
        {
          "data": {
            "application/vnd.jupyter.widget-view+json": {
              "model_id": "f7c291c7d3034a58aefcc71f1f2e3882",
              "version_major": 2,
              "version_minor": 0
            },
            "text/plain": [
              "Downloading:   0%|          | 0.00/804 [00:00<?, ?B/s]"
            ]
          },
          "metadata": {},
          "output_type": "display_data"
        },
        {
          "data": {
            "application/vnd.jupyter.widget-view+json": {
              "model_id": "2a2a489dc97e4885ba45a34e7da6ef9c",
              "version_major": 2,
              "version_minor": 0
            },
            "text/plain": [
              "Downloading:   0%|          | 0.00/388M [00:00<?, ?B/s]"
            ]
          },
          "metadata": {},
          "output_type": "display_data"
        },
        {
          "data": {
            "application/vnd.jupyter.widget-view+json": {
              "model_id": "c9b9f5ecfa4b4f728bcc9524742a6b3b",
              "version_major": 2,
              "version_minor": 0
            },
            "text/plain": [
              "Downloading:   0%|          | 0.00/107k [00:00<?, ?B/s]"
            ]
          },
          "metadata": {},
          "output_type": "display_data"
        },
        {
          "data": {
            "application/vnd.jupyter.widget-view+json": {
              "model_id": "d4a72f12932e4268a6b98c004d2206bf",
              "version_major": 2,
              "version_minor": 0
            },
            "text/plain": [
              "Downloading:   0%|          | 0.00/112 [00:00<?, ?B/s]"
            ]
          },
          "metadata": {},
          "output_type": "display_data"
        },
        {
          "data": {
            "application/vnd.jupyter.widget-view+json": {
              "model_id": "3025bf2008bd408f927c318d06de0a69",
              "version_major": 2,
              "version_minor": 0
            },
            "text/plain": [
              "Downloading:   0%|          | 0.00/301 [00:00<?, ?B/s]"
            ]
          },
          "metadata": {},
          "output_type": "display_data"
        }
      ],
      "source": [
        "## 設定driver\n",
        "ws_driver = CkipWordSegmenter(level=3,device=0)"
      ]
    },
    {
      "cell_type": "markdown",
      "metadata": {
        "id": "QQD46k4MrgGm"
      },
      "source": [
        "開始進行分詞"
      ]
    },
    {
      "cell_type": "code",
      "execution_count": null,
      "metadata": {
        "colab": {
          "base_uri": "https://localhost:8080/"
        },
        "id": "s0wRCb3e7BYa",
        "outputId": "dd435d06-e089-4691-f79f-3c227f852065"
      },
      "outputs": [
        {
          "name": "stderr",
          "output_type": "stream",
          "text": [
            "Tokenization: 100%|██████████| 18369/18369 [00:04<00:00, 4065.68it/s]\n",
            "Inference: 100%|██████████| 66/66 [04:18<00:00,  3.91s/it]\n"
          ]
        },
        {
          "name": "stdout",
          "output_type": "stream",
          "text": [
            "CPU times: user 4min 23s, sys: 982 ms, total: 4min 24s\n",
            "Wall time: 4min 26s\n"
          ]
        }
      ],
      "source": [
        "%%time\n",
        "corpus_ws_org  = ws_driver(text)"
      ]
    },
    {
      "cell_type": "code",
      "execution_count": null,
      "metadata": {
        "colab": {
          "base_uri": "https://localhost:8080/"
        },
        "id": "lXUUUBu1Ujmz",
        "outputId": "2a702130-8b4a-4a63-9e02-d1cc7b224beb"
      },
      "outputs": [
        {
          "data": {
            "text/plain": [
              "['混凝土廠',\n",
              " '國產',\n",
              " ' ',\n",
              " '(',\n",
              " '2504-TW',\n",
              " ')',\n",
              " ' ',\n",
              " '今',\n",
              " ' ',\n",
              " '(15) ',\n",
              " '日',\n",
              " '公告',\n",
              " '，',\n",
              " '將',\n",
              " '高雄',\n",
              " '「',\n",
              " '悅誠',\n",
              " '廣場',\n",
              " '」',\n",
              " '房地',\n",
              " '持分',\n",
              " '以',\n",
              " '總價',\n",
              " ' 23.5 億',\n",
              " '元',\n",
              " '，',\n",
              " '出售予',\n",
              " '興富發',\n",
              " ' ',\n",
              " '(',\n",
              " '2542-TW',\n",
              " ')',\n",
              " ' ',\n",
              " '子公司',\n",
              " '碧江',\n",
              " '企業',\n",
              " '，',\n",
              " '處分',\n",
              " '利益',\n",
              " '達',\n",
              " ' 14.9 億',\n",
              " '元',\n",
              " '，',\n",
              " '估',\n",
              " '貢獻',\n",
              " '每',\n",
              " '股',\n",
              " '純益',\n",
              " '約',\n",
              " ' 1.27',\n",
              " ' ',\n",
              " '元',\n",
              " '。']"
            ]
          },
          "execution_count": 59,
          "metadata": {},
          "output_type": "execute_result"
        }
      ],
      "source": [
        "corpus_ws_org[0]"
      ]
    },
    {
      "cell_type": "code",
      "execution_count": null,
      "metadata": {
        "id": "Ra27Xm2bfude"
      },
      "outputs": [],
      "source": [
        "'''\n",
        "with open('鉅亨網_ws.pickle', 'wb') as f:\n",
        "  pickle.dump(corpus_ws_org, f)\n",
        "!cp /content/鉅亨網_ws.pickle /content/drive/MyDrive/03_RESOURCE\n",
        "'''"
      ]
    },
    {
      "cell_type": "markdown",
      "metadata": {
        "id": "nXmh27G5A1zc"
      },
      "source": [
        "## 中研院Bi-LSTM斷詞\n",
        "\n",
        "先前推出的，速度較快"
      ]
    },
    {
      "cell_type": "code",
      "source": [
        "!pip install -U ckiptagger[gdown] -q"
      ],
      "metadata": {
        "id": "fxvwzrPqmWiN"
      },
      "execution_count": null,
      "outputs": []
    },
    {
      "cell_type": "code",
      "source": [
        "from ckiptagger import data_utils, construct_dictionary, WS, POS, NER"
      ],
      "metadata": {
        "id": "381RRJwmmTQN"
      },
      "execution_count": null,
      "outputs": []
    },
    {
      "cell_type": "code",
      "source": [
        "!gdown https://drive.google.com/uc?id=1efHsY16pxK0lBD2gYCgCTnv1Swstq771\n",
        "!unzip data.zip\n",
        "\n",
        "ws = WS(\"./data\", disable_cuda=False)"
      ],
      "metadata": {
        "id": "zRr-eTk6mYYV"
      },
      "execution_count": null,
      "outputs": []
    },
    {
      "cell_type": "code",
      "source": [
        "%%time\n",
        "corpus_ws_org  = ws(text)"
      ],
      "metadata": {
        "colab": {
          "base_uri": "https://localhost:8080/"
        },
        "id": "KRFk1HjAmVjL",
        "outputId": "2ece3fc6-b26c-4c54-b304-716a10de444b"
      },
      "execution_count": null,
      "outputs": [
        {
          "output_type": "stream",
          "name": "stdout",
          "text": [
            "CPU times: user 56.9 s, sys: 6.75 s, total: 1min 3s\n",
            "Wall time: 52.9 s\n"
          ]
        }
      ]
    },
    {
      "cell_type": "markdown",
      "metadata": {
        "id": "bTcECls4bqLe"
      },
      "source": [
        "## 將處理完的分詞進一步進行清理（停用詞、符號等）\n",
        "\n",
        "todo\n",
        "- 詞性判斷\n",
        "- 股票dict\n",
        "\n"
      ]
    },
    {
      "cell_type": "code",
      "source": [
        "corpus_ws_org[0:2]"
      ],
      "metadata": {
        "colab": {
          "base_uri": "https://localhost:8080/"
        },
        "id": "5vdEgjqboeE-",
        "outputId": "299edc07-4812-457a-cd26-f8c083083ae5"
      },
      "execution_count": null,
      "outputs": [
        {
          "output_type": "execute_result",
          "data": {
            "text/plain": [
              "[['混凝土廠',\n",
              "  '國產',\n",
              "  ' ',\n",
              "  '(',\n",
              "  '2504-TW',\n",
              "  ')',\n",
              "  ' ',\n",
              "  '今',\n",
              "  ' ',\n",
              "  '(15)',\n",
              "  ' ',\n",
              "  '日',\n",
              "  '公告',\n",
              "  '，',\n",
              "  '將',\n",
              "  '高雄',\n",
              "  '「',\n",
              "  '悅誠',\n",
              "  '廣場',\n",
              "  '」',\n",
              "  '房地',\n",
              "  '持分',\n",
              "  '以',\n",
              "  '總價',\n",
              "  ' ',\n",
              "  '23.5',\n",
              "  ' 億',\n",
              "  '元',\n",
              "  '，',\n",
              "  '出售',\n",
              "  '予',\n",
              "  '興富',\n",
              "  '發',\n",
              "  ' ',\n",
              "  '(',\n",
              "  '2542',\n",
              "  '-TW',\n",
              "  ')',\n",
              "  ' ',\n",
              "  '子公司',\n",
              "  '碧江',\n",
              "  '企業',\n",
              "  '，',\n",
              "  '處分',\n",
              "  '利益',\n",
              "  '達',\n",
              "  ' ',\n",
              "  '14.9',\n",
              "  ' 億',\n",
              "  '元',\n",
              "  '，估',\n",
              "  '貢獻',\n",
              "  '每',\n",
              "  '股',\n",
              "  '純益',\n",
              "  '約',\n",
              "  ' ',\n",
              "  '1.27',\n",
              "  ' ',\n",
              "  '元',\n",
              "  '。'],\n",
              " ['台泥',\n",
              "  ' ',\n",
              "  '(',\n",
              "  '1101-TW',\n",
              "  ')',\n",
              "  ' ',\n",
              "  '今',\n",
              "  ' ',\n",
              "  '(15)',\n",
              "  ' ',\n",
              "  '日',\n",
              "  '召開',\n",
              "  '法',\n",
              "  '說',\n",
              "  '，',\n",
              "  '總經理',\n",
              "  '李鐘培',\n",
              "  '表示',\n",
              "  '，',\n",
              "  '10',\n",
              "  ' ',\n",
              "  '月',\n",
              "  '以來',\n",
              "  '中國',\n",
              "  '能',\n",
              "  '耗',\n",
              "  '雙控',\n",
              "  '持續',\n",
              "  '，',\n",
              "  '水泥',\n",
              "  '產銷量',\n",
              "  '減',\n",
              "  '但',\n",
              "  '價格',\n",
              "  '持穩',\n",
              "  '高檔',\n",
              "  '，',\n",
              "  '且',\n",
              "  '近期',\n",
              "  '煤價',\n",
              "  '大幅',\n",
              "  '回落',\n",
              "  '，',\n",
              "  '有利',\n",
              "  '毛利率',\n",
              "  '回升',\n",
              "  '到',\n",
              "  '過往',\n",
              "  '水準',\n",
              "  '之上',\n",
              "  '，',\n",
              "  '加上',\n",
              "  '廣東',\n",
              "  '韶關',\n",
              "  '廠',\n",
              "  '投產',\n",
              "  '也',\n",
              "  '將',\n",
              "  '挹注',\n",
              "  '營收',\n",
              "  '表現',\n",
              "  '。']]"
            ]
          },
          "metadata": {},
          "execution_count": 61
        }
      ]
    },
    {
      "cell_type": "markdown",
      "source": [
        "因為是lists of lists\n",
        "```\n",
        "[\n",
        "  [文件1分詞1, 文件1分詞2, 文件1分詞3...], \n",
        "  [文件2分詞1, 文件2分詞2, 文件2分詞3...]\n",
        "]\n",
        "```\n",
        "所以要包兩層處理"
      ],
      "metadata": {
        "id": "9Z6fBYjHoljh"
      }
    },
    {
      "cell_type": "code",
      "execution_count": null,
      "metadata": {
        "id": "yKycyH-PVAvt"
      },
      "outputs": [],
      "source": [
        "## 刪除標點\n",
        "corpus_ws = [list(map(lambda x: remove_punctuation(x), corpus)) for corpus in corpus_ws_org]"
      ]
    },
    {
      "cell_type": "code",
      "execution_count": null,
      "metadata": {
        "id": "mKpNaUdLCqbC"
      },
      "outputs": [],
      "source": [
        "## 刪除空白的element\n",
        "corpus_ws = [list(filter(lambda x: x!=\"\" and x!=\" \", corpus)) for corpus in corpus_ws]"
      ]
    },
    {
      "cell_type": "code",
      "execution_count": null,
      "metadata": {
        "id": "v1Epcmow1KjO"
      },
      "outputs": [],
      "source": [
        "## 刪除element裡的空白\n",
        "pattern = re.compile(r'\\s+')\n",
        "corpus_ws = [list(map(lambda x: re.sub(pattern, '', x), corpus)) for corpus in corpus_ws]"
      ]
    },
    {
      "cell_type": "code",
      "execution_count": null,
      "metadata": {
        "id": "7Da3AVN_4_LR"
      },
      "outputs": [],
      "source": [
        "## 把停用詞刪除\n",
        "corpus_ws = [[x for x in sentence if x not in stop_words] for sentence in corpus_ws]"
      ]
    },
    {
      "cell_type": "code",
      "source": [
        "## 只保留兩個字以上的分詞\n",
        "corpus_ws = [list(filter(lambda x: len(x)>=2, corpus)) for corpus in corpus_ws]"
      ],
      "metadata": {
        "id": "CtZ9346weJgg"
      },
      "execution_count": null,
      "outputs": []
    },
    {
      "cell_type": "code",
      "execution_count": null,
      "metadata": {
        "colab": {
          "base_uri": "https://localhost:8080/"
        },
        "id": "OtuBnHZk1bFh",
        "outputId": "5a890162-7950-4e0a-a443-a02fb6d8b3d7"
      },
      "outputs": [
        {
          "output_type": "execute_result",
          "data": {
            "text/plain": [
              "[['混凝土廠',\n",
              "  '國產',\n",
              "  '公告',\n",
              "  '高雄',\n",
              "  '悅誠',\n",
              "  '廣場',\n",
              "  '房地',\n",
              "  '持分',\n",
              "  '總價',\n",
              "  '出售',\n",
              "  '興富',\n",
              "  '子公司',\n",
              "  '碧江',\n",
              "  '企業',\n",
              "  '處分',\n",
              "  '利益',\n",
              "  '貢獻',\n",
              "  '純益'],\n",
              " ['台泥',\n",
              "  '召開',\n",
              "  '總經理',\n",
              "  '李鐘培',\n",
              "  '表示',\n",
              "  '中國',\n",
              "  '雙控',\n",
              "  '持續',\n",
              "  '水泥',\n",
              "  '產銷量',\n",
              "  '價格',\n",
              "  '持穩',\n",
              "  '高檔',\n",
              "  '近期',\n",
              "  '煤價',\n",
              "  '大幅',\n",
              "  '回落',\n",
              "  '有利',\n",
              "  '毛利率',\n",
              "  '回升',\n",
              "  '過往',\n",
              "  '水準',\n",
              "  '之上',\n",
              "  '加上',\n",
              "  '廣東',\n",
              "  '韶關',\n",
              "  '投產',\n",
              "  '挹注',\n",
              "  '營收',\n",
              "  '表現']]"
            ]
          },
          "metadata": {},
          "execution_count": 69
        }
      ],
      "source": [
        "corpus_ws[0:2]"
      ]
    },
    {
      "cell_type": "code",
      "execution_count": null,
      "metadata": {
        "id": "z1OEKr1TtkSX"
      },
      "outputs": [],
      "source": [
        "org_corpus_df['summary_seg'] = corpus_ws"
      ]
    },
    {
      "cell_type": "code",
      "execution_count": null,
      "metadata": {
        "id": "YXU-vYDItnJL"
      },
      "outputs": [],
      "source": [
        "org_corpus_df['summary_list_len'] = org_corpus_df['summary_seg'].apply(lambda x: len(x))"
      ]
    },
    {
      "cell_type": "code",
      "execution_count": null,
      "metadata": {
        "id": "xeHntJ9D2JsZ"
      },
      "outputs": [],
      "source": [
        "org_corpus_df['summary_seg_join']  = org_corpus_df['summary_seg'].apply(lambda x: \" \".join(x))"
      ]
    },
    {
      "cell_type": "markdown",
      "metadata": {
        "id": "YJvc7PqgGS9I"
      },
      "source": [
        "有些套件只能用raw text直接套入，並用英文的方式解析(詞跟詞用空白分隔、用.結尾)"
      ]
    },
    {
      "cell_type": "code",
      "execution_count": null,
      "metadata": {
        "colab": {
          "base_uri": "https://localhost:8080/"
        },
        "id": "Y8TIEyVi3oV4",
        "outputId": "9b225059-d6c4-46a1-fa71-d90b4d6b2aac"
      },
      "outputs": [
        {
          "output_type": "execute_result",
          "data": {
            "text/plain": [
              "0        混凝土廠 國產 公告 高雄 悅誠 廣場 房地 持分 總價 出售 興富 子公司 碧江 企業 處...\n",
              "1        台泥 召開 總經理 李鐘培 表示 中國 雙控 持續 水泥 產銷量 價格 持穩 高檔 近期 煤...\n",
              "2        台泥 董事長 張安平 法說會 致詞 指出 今天 氣候 災害 人類 打造 繁榮 副作用 漸漸 ...\n",
              "3        聚醯亞胺 PI 薄膜廠 達邁 積極 展開 產品 應用 多元化 布局 以往 高達 軟板 應用 ...\n",
              "4                                     壽險 合賺 破紀錄 淨值 allpass\n",
              "                               ...                        \n",
              "18364    泛國 集團 電感廠 奇力 受惠 手機 伺服器 基地台 物聯網 汽車 帶動 一體 成形 微型 ...\n",
              "18365    環宇 KY 去年 中國 基礎 建設 招標 遞延 影響 加上 轉投資 晶成 半導體 常州 承芯...\n",
              "18366    閎暉 近年 積極 調整 體質 過去 手機 按鍵 業務 比例 降低 聚焦 車用 穿戴 裝置 業...\n",
              "18367                              潛力股 電動車 成長 順風車 獲利 動能 加溫\n",
              "18368    全球 車市 需求 可望 新冠肺炎 疫苗 研發 有成 帶動 進一步 扭轉 汽車板廠 過去 淡季...\n",
              "Name: summary_seg_join, Length: 18369, dtype: object"
            ]
          },
          "metadata": {},
          "execution_count": 73
        }
      ],
      "source": [
        "org_corpus_df['summary_seg_join'] "
      ]
    },
    {
      "cell_type": "markdown",
      "metadata": {
        "id": "75gkMESKlzYt"
      },
      "source": [
        "## 整合函數"
      ]
    },
    {
      "cell_type": "code",
      "execution_count": null,
      "metadata": {
        "id": "5MwqbT5ZGq6x"
      },
      "outputs": [],
      "source": [
        "def ws_whole(to_ws_raw_text):\n",
        "  to_ws_text = [to_ws_raw_text]\n",
        "  ws_text = ws_driver(to_ws_text)[0]\n",
        "  ws_text = list(map(lambda x: remove_punctuation(x), ws_text))\n",
        "  ws_text = list(filter(lambda x: x!=\"\" and x!=\" \", ws_text))\n",
        "  pattern = re.compile(r'\\s+')\n",
        "  ws_text = list(map(lambda x: re.sub(pattern, '', x), ws_text))\n",
        "  ws_text = [x for x in ws_text if x not in stop_words]\n",
        "\n",
        "  return ws_text"
      ]
    },
    {
      "cell_type": "markdown",
      "metadata": {
        "id": "Yq9xhMI8BBe3"
      },
      "source": [
        "# Text mining"
      ]
    },
    {
      "cell_type": "markdown",
      "metadata": {
        "id": "PbLwmbJWAIdf"
      },
      "source": [
        "## 關鍵字萃取"
      ]
    },
    {
      "cell_type": "markdown",
      "metadata": {
        "id": "BPzurNX-u-YX"
      },
      "source": [
        "### 中文TF-IDF\n",
        "\n",
        "`token_pattern='\\\\b\\\\w+\\\\b'` : 讓TF-IDF認得單字詞\n",
        "\n",
        "`lowercase=False`"
      ]
    },
    {
      "cell_type": "code",
      "execution_count": null,
      "metadata": {
        "id": "w3Cyn_woiY8A"
      },
      "outputs": [],
      "source": [
        "from sklearn.feature_extraction.text import TfidfVectorizer\n",
        "from sklearn.feature_extraction.text import CountVectorizer\n",
        "from sklearn.feature_extraction.text import TfidfTransformer"
      ]
    },
    {
      "cell_type": "markdown",
      "source": [
        "建立詞頻矩陣\n"
      ],
      "metadata": {
        "id": "qNdatudLn3iL"
      }
    },
    {
      "cell_type": "code",
      "execution_count": null,
      "metadata": {
        "id": "1WK1PIviHomL"
      },
      "outputs": [],
      "source": [
        "text_cv = CountVectorizer(max_df=0.7, min_df=5)\n",
        "td_matrix = text_cv.fit_transform(org_corpus_df['summary_seg_join'])"
      ]
    },
    {
      "cell_type": "markdown",
      "source": [
        "詞頻矩陣套入TF-IDF\n"
      ],
      "metadata": {
        "id": "wmLrwXLmn5Mp"
      }
    },
    {
      "cell_type": "code",
      "execution_count": null,
      "metadata": {
        "id": "KJh9qxryImfW"
      },
      "outputs": [],
      "source": [
        "tfidf = TfidfTransformer()\n",
        "tfidf_matrix = tfidf.fit_transform(td_matrix)"
      ]
    },
    {
      "cell_type": "markdown",
      "source": [
        "每篇文章挑出文章內tfidf前五名字詞"
      ],
      "metadata": {
        "id": "eTv2e87HpU78"
      }
    },
    {
      "cell_type": "code",
      "execution_count": null,
      "metadata": {
        "id": "mxA4iOG2NIps"
      },
      "outputs": [],
      "source": [
        "topk_arr = np.argsort(-tfidf_matrix.toarray(), axis=1)[:,0:5]"
      ]
    },
    {
      "cell_type": "code",
      "execution_count": null,
      "metadata": {
        "id": "qSBfDtc8Xp7M"
      },
      "outputs": [],
      "source": [
        "indices = np.nonzero(-tfidf_matrix.toarray())[0]\n",
        "#indices[np.argsort(-tfidf_matrix.toarray()[indices])][:,0:5]"
      ]
    },
    {
      "cell_type": "code",
      "source": [
        "org_corpus_df['tf_idf_kw'] = text_cv.get_feature_names_out()[topk_arr].tolist()\n",
        "org_corpus_df[['summary','tf_idf_kw']].iloc[20:30,:]"
      ],
      "metadata": {
        "colab": {
          "base_uri": "https://localhost:8080/",
          "height": 363
        },
        "id": "MRoPjZUYkizM",
        "outputId": "b31d84f8-cac7-45ac-cc88-b35aebaa0c38"
      },
      "execution_count": null,
      "outputs": [
        {
          "output_type": "execute_result",
          "data": {
            "text/html": [
              "\n",
              "  <div id=\"df-3b72a639-d87f-4223-b739-6ef7b56a8be0\">\n",
              "    <div class=\"colab-df-container\">\n",
              "      <div>\n",
              "<style scoped>\n",
              "    .dataframe tbody tr th:only-of-type {\n",
              "        vertical-align: middle;\n",
              "    }\n",
              "\n",
              "    .dataframe tbody tr th {\n",
              "        vertical-align: top;\n",
              "    }\n",
              "\n",
              "    .dataframe thead th {\n",
              "        text-align: right;\n",
              "    }\n",
              "</style>\n",
              "<table border=\"1\" class=\"dataframe\">\n",
              "  <thead>\n",
              "    <tr style=\"text-align: right;\">\n",
              "      <th></th>\n",
              "      <th>summary</th>\n",
              "      <th>tf_idf_kw</th>\n",
              "    </tr>\n",
              "  </thead>\n",
              "  <tbody>\n",
              "    <tr>\n",
              "      <th>20</th>\n",
              "      <td>合庫銀私人銀行今 (15) 日正式揭牌營業，為了與市場區隔化，私人銀行經營項目將聚焦資產配置...</td>\n",
              "      <td>[專業, 資產, 服務, 銀行, 傳承]</td>\n",
              "    </tr>\n",
              "    <tr>\n",
              "      <th>21</th>\n",
              "      <td>藥華藥 (6446-TW) 今 (15) 日舉行法說，外界關注，治療真性紅血球增多症 (PV...</td>\n",
              "      <td>[真性, 增多症, pv, 紅血球, 藥華藥]</td>\n",
              "    </tr>\n",
              "    <tr>\n",
              "      <th>22</th>\n",
              "      <td>漢民集團旗下漢磊 (3707-TW) 與轉投資磊晶廠嘉晶 (3016-TW) 今 (15) ...</td>\n",
              "      <td>[sic, 漢民, 嘉晶, gan, 產能]</td>\n",
              "    </tr>\n",
              "    <tr>\n",
              "      <th>23</th>\n",
              "      <td>PMOLED 廠錸寶 (8104-TW) 今 (15) 日召開法說，展望未來，錸寶看好電池儲...</td>\n",
              "      <td>[錸寶, pmoled, 儲能, 成長性, 自動]</td>\n",
              "    </tr>\n",
              "    <tr>\n",
              "      <th>24</th>\n",
              "      <td>統包工程承攬商中鼎 (9933-TW) 集團，攜手欣陸 (3703-TW) 旗下欣達環工，執...</td>\n",
              "      <td>[bot, 承攬商, 欣陸, 桃園市, 統包]</td>\n",
              "    </tr>\n",
              "    <tr>\n",
              "      <th>25</th>\n",
              "      <td>封測龍頭日月光投控 (3711-TW) 今 (15) 日宣布，連續第六年整體成績獲道瓊永續指...</td>\n",
              "      <td>[產業, 連續, 半導體, 第六, 成績]</td>\n",
              "    </tr>\n",
              "    <tr>\n",
              "      <th>26</th>\n",
              "      <td>漢磊 (3707-TW) 今 (15) 日表示，SiC 產線第四季全數滿載，整體毛利率將持續...</td>\n",
              "      <td>[毛利率, 漢磊, sic, 起跳, 續揚]</td>\n",
              "    </tr>\n",
              "    <tr>\n",
              "      <th>27</th>\n",
              "      <td>國產署近期與高雄、屏東兩縣市地方政府合作辦理 2 件國有土地開發案，預計可吸引民間投資 60...</td>\n",
              "      <td>[國有, 屏東, 國產署, 民間, 縣市]</td>\n",
              "    </tr>\n",
              "    <tr>\n",
              "      <th>28</th>\n",
              "      <td>國銀人民幣存款連 3 減 個人戶連 8 個月下滑</td>\n",
              "      <td>[存款, 國銀, 人民幣, 下滑, 社交]</td>\n",
              "    </tr>\n",
              "    <tr>\n",
              "      <th>29</th>\n",
              "      <td>PMOLED 廠錸寶 (8104-TW) 今 (15) 日召開法說，展望第四季，錸寶表示，P...</td>\n",
              "      <td>[錸寶, pmoled, 業務, 轉趨, 塞港]</td>\n",
              "    </tr>\n",
              "  </tbody>\n",
              "</table>\n",
              "</div>\n",
              "      <button class=\"colab-df-convert\" onclick=\"convertToInteractive('df-3b72a639-d87f-4223-b739-6ef7b56a8be0')\"\n",
              "              title=\"Convert this dataframe to an interactive table.\"\n",
              "              style=\"display:none;\">\n",
              "        \n",
              "  <svg xmlns=\"http://www.w3.org/2000/svg\" height=\"24px\"viewBox=\"0 0 24 24\"\n",
              "       width=\"24px\">\n",
              "    <path d=\"M0 0h24v24H0V0z\" fill=\"none\"/>\n",
              "    <path d=\"M18.56 5.44l.94 2.06.94-2.06 2.06-.94-2.06-.94-.94-2.06-.94 2.06-2.06.94zm-11 1L8.5 8.5l.94-2.06 2.06-.94-2.06-.94L8.5 2.5l-.94 2.06-2.06.94zm10 10l.94 2.06.94-2.06 2.06-.94-2.06-.94-.94-2.06-.94 2.06-2.06.94z\"/><path d=\"M17.41 7.96l-1.37-1.37c-.4-.4-.92-.59-1.43-.59-.52 0-1.04.2-1.43.59L10.3 9.45l-7.72 7.72c-.78.78-.78 2.05 0 2.83L4 21.41c.39.39.9.59 1.41.59.51 0 1.02-.2 1.41-.59l7.78-7.78 2.81-2.81c.8-.78.8-2.07 0-2.86zM5.41 20L4 18.59l7.72-7.72 1.47 1.35L5.41 20z\"/>\n",
              "  </svg>\n",
              "      </button>\n",
              "      \n",
              "  <style>\n",
              "    .colab-df-container {\n",
              "      display:flex;\n",
              "      flex-wrap:wrap;\n",
              "      gap: 12px;\n",
              "    }\n",
              "\n",
              "    .colab-df-convert {\n",
              "      background-color: #E8F0FE;\n",
              "      border: none;\n",
              "      border-radius: 50%;\n",
              "      cursor: pointer;\n",
              "      display: none;\n",
              "      fill: #1967D2;\n",
              "      height: 32px;\n",
              "      padding: 0 0 0 0;\n",
              "      width: 32px;\n",
              "    }\n",
              "\n",
              "    .colab-df-convert:hover {\n",
              "      background-color: #E2EBFA;\n",
              "      box-shadow: 0px 1px 2px rgba(60, 64, 67, 0.3), 0px 1px 3px 1px rgba(60, 64, 67, 0.15);\n",
              "      fill: #174EA6;\n",
              "    }\n",
              "\n",
              "    [theme=dark] .colab-df-convert {\n",
              "      background-color: #3B4455;\n",
              "      fill: #D2E3FC;\n",
              "    }\n",
              "\n",
              "    [theme=dark] .colab-df-convert:hover {\n",
              "      background-color: #434B5C;\n",
              "      box-shadow: 0px 1px 3px 1px rgba(0, 0, 0, 0.15);\n",
              "      filter: drop-shadow(0px 1px 2px rgba(0, 0, 0, 0.3));\n",
              "      fill: #FFFFFF;\n",
              "    }\n",
              "  </style>\n",
              "\n",
              "      <script>\n",
              "        const buttonEl =\n",
              "          document.querySelector('#df-3b72a639-d87f-4223-b739-6ef7b56a8be0 button.colab-df-convert');\n",
              "        buttonEl.style.display =\n",
              "          google.colab.kernel.accessAllowed ? 'block' : 'none';\n",
              "\n",
              "        async function convertToInteractive(key) {\n",
              "          const element = document.querySelector('#df-3b72a639-d87f-4223-b739-6ef7b56a8be0');\n",
              "          const dataTable =\n",
              "            await google.colab.kernel.invokeFunction('convertToInteractive',\n",
              "                                                     [key], {});\n",
              "          if (!dataTable) return;\n",
              "\n",
              "          const docLinkHtml = 'Like what you see? Visit the ' +\n",
              "            '<a target=\"_blank\" href=https://colab.research.google.com/notebooks/data_table.ipynb>data table notebook</a>'\n",
              "            + ' to learn more about interactive tables.';\n",
              "          element.innerHTML = '';\n",
              "          dataTable['output_type'] = 'display_data';\n",
              "          await google.colab.output.renderOutput(dataTable, element);\n",
              "          const docLink = document.createElement('div');\n",
              "          docLink.innerHTML = docLinkHtml;\n",
              "          element.appendChild(docLink);\n",
              "        }\n",
              "      </script>\n",
              "    </div>\n",
              "  </div>\n",
              "  "
            ],
            "text/plain": [
              "                                              summary                  tf_idf_kw\n",
              "20  合庫銀私人銀行今 (15) 日正式揭牌營業，為了與市場區隔化，私人銀行經營項目將聚焦資產配置...       [專業, 資產, 服務, 銀行, 傳承]\n",
              "21  藥華藥 (6446-TW) 今 (15) 日舉行法說，外界關注，治療真性紅血球增多症 (PV...    [真性, 增多症, pv, 紅血球, 藥華藥]\n",
              "22  漢民集團旗下漢磊 (3707-TW) 與轉投資磊晶廠嘉晶 (3016-TW) 今 (15) ...     [sic, 漢民, 嘉晶, gan, 產能]\n",
              "23  PMOLED 廠錸寶 (8104-TW) 今 (15) 日召開法說，展望未來，錸寶看好電池儲...  [錸寶, pmoled, 儲能, 成長性, 自動]\n",
              "24  統包工程承攬商中鼎 (9933-TW) 集團，攜手欣陸 (3703-TW) 旗下欣達環工，執...    [bot, 承攬商, 欣陸, 桃園市, 統包]\n",
              "25  封測龍頭日月光投控 (3711-TW) 今 (15) 日宣布，連續第六年整體成績獲道瓊永續指...      [產業, 連續, 半導體, 第六, 成績]\n",
              "26  漢磊 (3707-TW) 今 (15) 日表示，SiC 產線第四季全數滿載，整體毛利率將持續...     [毛利率, 漢磊, sic, 起跳, 續揚]\n",
              "27  國產署近期與高雄、屏東兩縣市地方政府合作辦理 2 件國有土地開發案，預計可吸引民間投資 60...      [國有, 屏東, 國產署, 民間, 縣市]\n",
              "28                           國銀人民幣存款連 3 減 個人戶連 8 個月下滑      [存款, 國銀, 人民幣, 下滑, 社交]\n",
              "29  PMOLED 廠錸寶 (8104-TW) 今 (15) 日召開法說，展望第四季，錸寶表示，P...   [錸寶, pmoled, 業務, 轉趨, 塞港]"
            ]
          },
          "metadata": {},
          "execution_count": 81
        }
      ]
    },
    {
      "cell_type": "code",
      "execution_count": null,
      "metadata": {
        "colab": {
          "base_uri": "https://localhost:8080/"
        },
        "id": "W5IVwNPyRT2w",
        "outputId": "28669cad-d29f-473b-904a-4664a011256a"
      },
      "outputs": [
        {
          "output_type": "execute_result",
          "data": {
            "text/plain": [
              "array([['興富', '總價', '房地', '出售', '國產'],\n",
              "       ['廣東', '產銷量', '過往', '回落', '水泥'],\n",
              "       ['人類', '現場', '生命', '失衡', '張安平'],\n",
              "       ...,\n",
              "       ['業務', '明年', '穿戴', '閎暉', '訂單量'],\n",
              "       ['加溫', '電動車', '動能', '獲利', '成長'],\n",
              "       ['汽車板廠', '扭轉', '頹勢', '敬鵬', '拉高']], dtype=object)"
            ]
          },
          "metadata": {},
          "execution_count": 78
        }
      ],
      "source": [
        ""
      ]
    },
    {
      "cell_type": "markdown",
      "metadata": {
        "id": "ucJBrwvmic97"
      },
      "source": [
        "### TextRank\n",
        "\n",
        "目前效果比較完善的套件是丟入raw text\n",
        "他會自己用結巴幫你分好算出關鍵字，還可以萃取摘要句\n",
        "\n",
        "若要套用中研院斷詞，需要研究內部原始碼"
      ]
    },
    {
      "cell_type": "markdown",
      "source": [
        "https://towardsdatascience.com/textrank-for-keyword-extraction-by-python-c0bae21bcec0"
      ],
      "metadata": {
        "id": "f8s70LoJy-_E"
      }
    },
    {
      "cell_type": "code",
      "source": [
        "from collections import OrderedDict\n",
        "import numpy as np\n",
        "import spacy\n",
        "from spacy.lang.en.stop_words import STOP_WORDS\n",
        "\n",
        "nlp = spacy.load('en_core_web_sm')\n",
        "\n",
        "class TextRank4Keyword():\n",
        "    \"\"\"Extract keywords from text\"\"\"\n",
        "    \n",
        "    def __init__(self):\n",
        "        self.d = 0.85 # damping coefficient, usually is .85\n",
        "        self.min_diff = 1e-5 # convergence threshold\n",
        "        self.steps = 10 # iteration steps\n",
        "        self.node_weight = None # save keywords and its weight\n",
        "\n",
        "    \n",
        "    def set_stopwords(self, stopwords):  \n",
        "        \"\"\"Set stop words\"\"\"\n",
        "        for word in STOP_WORDS.union(set(stopwords)):\n",
        "            lexeme = nlp.vocab[word]\n",
        "            lexeme.is_stop = True\n",
        "    \n",
        "    def sentence_segment(self, doc, candidate_pos, lower):\n",
        "        \"\"\"Store those words only in cadidate_pos\"\"\"\n",
        "        sentences = []\n",
        "        for sent in doc.sents:\n",
        "            selected_words = []\n",
        "            for token in sent:\n",
        "                # Store words only with cadidate POS tag\n",
        "                if token.pos_ in candidate_pos and token.is_stop is False:\n",
        "                    if lower is True:\n",
        "                        selected_words.append(token.text.lower())\n",
        "                    else:\n",
        "                        selected_words.append(token.text)\n",
        "            sentences.append(selected_words)\n",
        "        return sentences\n",
        "        \n",
        "    def get_vocab(self, sentences):\n",
        "        \"\"\"Get all tokens\"\"\"\n",
        "        vocab = OrderedDict()\n",
        "        i = 0\n",
        "        for sentence in sentences:\n",
        "            for word in sentence:\n",
        "                if word not in vocab:\n",
        "                    vocab[word] = i\n",
        "                    i += 1\n",
        "        return vocab\n",
        "    \n",
        "    def get_token_pairs(self, window_size, sentences):\n",
        "        \"\"\"Build token_pairs from windows in sentences\"\"\"\n",
        "        token_pairs = list()\n",
        "        for sentence in sentences:\n",
        "            for i, word in enumerate(sentence):\n",
        "                for j in range(i+1, i+window_size):\n",
        "                    if j >= len(sentence):\n",
        "                        break\n",
        "                    pair = (word, sentence[j])\n",
        "                    if pair not in token_pairs:\n",
        "                        token_pairs.append(pair)\n",
        "        return token_pairs\n",
        "        \n",
        "    def symmetrize(self, a):\n",
        "        return a + a.T - np.diag(a.diagonal())\n",
        "    \n",
        "    def get_matrix(self, vocab, token_pairs):\n",
        "        \"\"\"Get normalized matrix\"\"\"\n",
        "        # Build matrix\n",
        "        vocab_size = len(vocab)\n",
        "        g = np.zeros((vocab_size, vocab_size), dtype='float')\n",
        "        for word1, word2 in token_pairs:\n",
        "            i, j = vocab[word1], vocab[word2]\n",
        "            g[i][j] = 1\n",
        "            \n",
        "        # Get Symmeric matrix\n",
        "        g = self.symmetrize(g)\n",
        "        \n",
        "        # Normalize matrix by column\n",
        "        norm = np.sum(g, axis=0)\n",
        "        g_norm = np.divide(g, norm, where=norm!=0) # this is ignore the 0 element in norm\n",
        "        \n",
        "        return g_norm\n",
        "\n",
        "    \n",
        "    def get_keywords(self, number=10):\n",
        "        \"\"\"Print top number keywords\"\"\"\n",
        "        node_weight = OrderedDict(sorted(self.node_weight.items(), key=lambda t: t[1], reverse=True))\n",
        "        for i, (key, value) in enumerate(node_weight.items()):\n",
        "            print(key + ' - ' + str(value))\n",
        "            if i > number:\n",
        "                break\n",
        "        \n",
        "        \n",
        "    def analyze(self, text, \n",
        "                candidate_pos=['NOUN', 'PROPN'], \n",
        "                window_size=4, lower=False, stopwords=list()):\n",
        "        \"\"\"Main function to analyze text\"\"\"\n",
        "        \n",
        "        # Set stop words\n",
        "        self.set_stopwords(stopwords)\n",
        "        \n",
        "        # Pare text by spaCy\n",
        "        doc = nlp(text)\n",
        "        \n",
        "        # Filter sentences\n",
        "        sentences = self.sentence_segment(doc, candidate_pos, lower) # list of list of words\n",
        "        \n",
        "        # Build vocabulary\n",
        "        vocab = self.get_vocab(sentences)\n",
        "        \n",
        "        # Get token_pairs from windows\n",
        "        token_pairs = self.get_token_pairs(window_size, sentences)\n",
        "        \n",
        "        # Get normalized matrix\n",
        "        g = self.get_matrix(vocab, token_pairs)\n",
        "        \n",
        "        # Initionlization for weight(pagerank value)\n",
        "        pr = np.array([1] * len(vocab))\n",
        "        \n",
        "        # Iteration\n",
        "        previous_pr = 0\n",
        "        for epoch in range(self.steps):\n",
        "            pr = (1-self.d) + self.d * np.dot(g, pr)\n",
        "            if abs(previous_pr - sum(pr))  < self.min_diff:\n",
        "                break\n",
        "            else:\n",
        "                previous_pr = sum(pr)\n",
        "\n",
        "        # Get weight for each node\n",
        "        node_weight = dict()\n",
        "        for word, index in vocab.items():\n",
        "            node_weight[word] = pr[index]\n",
        "        \n",
        "        self.node_weight = node_weight"
      ],
      "metadata": {
        "id": "Y8ELdwQSuPm9"
      },
      "execution_count": null,
      "outputs": []
    },
    {
      "cell_type": "code",
      "source": [
        "from gensim.summarization import keywords"
      ],
      "metadata": {
        "id": "PuQQ7nwLsQWv"
      },
      "execution_count": null,
      "outputs": []
    },
    {
      "cell_type": "code",
      "source": [
        "\". \".join(org_corpus_df[org_corpus_df['summary_list_len']>0]['summary_seg_join'][0:3])\n",
        "\n"
      ],
      "metadata": {
        "colab": {
          "base_uri": "https://localhost:8080/",
          "height": 70
        },
        "id": "FqkUcYs1sVwv",
        "outputId": "af6f2bf9-02cb-45b5-edfc-8b01fceec393"
      },
      "execution_count": null,
      "outputs": [
        {
          "output_type": "execute_result",
          "data": {
            "application/vnd.google.colaboratory.intrinsic+json": {
              "type": "string"
            },
            "text/plain": [
              "'混凝土廠 國產 公告 高雄 悅誠 廣場 房地 持分 總價 出售 興富 子公司 碧江 企業 處分 利益 貢獻 純益. 台泥 召開 總經理 李鐘培 表示 中國 雙控 持續 水泥 產銷量 價格 持穩 高檔 近期 煤價 大幅 回落 有利 毛利率 回升 過往 水準 之上 加上 廣東 韶關 投產 挹注 營收 表現. 台泥 董事長 張安平 法說會 致詞 指出 今天 氣候 災害 人類 打造 繁榮 副作用 漸漸 浮現 失衡 大自然 人類 反撲 人類 文明 大自然 息息相關 水泥業 生命 第一 現場'"
            ]
          },
          "metadata": {},
          "execution_count": 102
        }
      ]
    },
    {
      "cell_type": "code",
      "source": [
        "text = \". \".join(org_corpus_df[org_corpus_df['summary_list_len']>0]['summary_seg_join'][0:500])\n"
      ],
      "metadata": {
        "id": "qDH1A9u6taXs"
      },
      "execution_count": null,
      "outputs": []
    },
    {
      "cell_type": "code",
      "source": [
        "keywords(text, ratio=0.2, words=None, split=False, scores=False, pos_filter=(), lemmatize=False, deacc=False).split('\\n')"
      ],
      "metadata": {
        "colab": {
          "base_uri": "https://localhost:8080/"
        },
        "id": "oo4nV3ihti_k",
        "outputId": "a3dd4087-66de-4e46-a87f-4067c19121e6"
      },
      "execution_count": null,
      "outputs": [
        {
          "output_type": "execute_result",
          "data": {
            "text/plain": [
              "['董事長',\n",
              " '總經理',\n",
              " '半導體',\n",
              " '執行長',\n",
              " '台積電',\n",
              " '轉投資',\n",
              " 'eps',\n",
              " '代工廠',\n",
              " '聯發科',\n",
              " '子公司',\n",
              " 'led',\n",
              " '供應鏈',\n",
              " '成交量',\n",
              " '法說會',\n",
              " '電子股',\n",
              " '力積電',\n",
              " '副院長',\n",
              " '息息相關',\n",
              " '投資人',\n",
              " 'llc',\n",
              " '照過來',\n",
              " '副總經理',\n",
              " 'lordstown',\n",
              " 'aaplus',\n",
              " '營運長',\n",
              " '財政部',\n",
              " '爆欠債',\n",
              " '毛利率',\n",
              " 'flash',\n",
              " 'iot',\n",
              " '英特爾',\n",
              " '矽晶圓',\n",
              " 'cpi 綜所稅 免稅額',\n",
              " '雷蒙多',\n",
              " '鋼鐵人',\n",
              " '航海王',\n",
              " 'gina',\n",
              " 'fbus',\n",
              " 'meta',\n",
              " '富邦金',\n",
              " '腦中風 退化性',\n",
              " '國泰金',\n",
              " '產品線',\n",
              " '記憶體',\n",
              " 'rom',\n",
              " '年增率',\n",
              " '活蹦亂跳',\n",
              " 'mosfet',\n",
              " 'corporation',\n",
              " '龐貝氏症',\n",
              " '鋁合金',\n",
              " 'sic',\n",
              " '智伸科',\n",
              " '裕日車',\n",
              " 'tof',\n",
              " 'solutions',\n",
              " '價漲量',\n",
              " 'genzyme',\n",
              " '排行榜',\n",
              " '大半導體 通路廠',\n",
              " 'rivian',\n",
              " 'fcc',\n",
              " 'rivnus',\n",
              " '鏡頭廠 玉晶光',\n",
              " 'switch',\n",
              " '安侯建業',\n",
              " '任天堂',\n",
              " '研發出',\n",
              " '上市櫃',\n",
              " '苗栗縣',\n",
              " '出口值']"
            ]
          },
          "metadata": {},
          "execution_count": 106
        }
      ]
    },
    {
      "cell_type": "code",
      "source": [
        "!pip install summa -q"
      ],
      "metadata": {
        "id": "pa8Li-5gu1vA"
      },
      "execution_count": null,
      "outputs": []
    },
    {
      "cell_type": "code",
      "source": [
        "from summa import keywords"
      ],
      "metadata": {
        "id": "MO4DGYzLu0Mu"
      },
      "execution_count": null,
      "outputs": []
    },
    {
      "cell_type": "code",
      "source": [
        "keywords.keywords(text)"
      ],
      "metadata": {
        "colab": {
          "base_uri": "https://localhost:8080/",
          "height": 521
        },
        "id": "2FkVimBdvF2J",
        "outputId": "03fbc38f-3389-4fb8-e285-7684ed50273c"
      },
      "execution_count": null,
      "outputs": [
        {
          "output_type": "execute_result",
          "data": {
            "application/vnd.google.colaboratory.intrinsic+json": {
              "type": "string"
            },
            "text/plain": [
              "'明年\\n純益\\n市場\\n表示 中國\\n台灣\\n需求\\n台股\\n挹注 營收\\n成長\\n大廠\\n年增\\n指數\\n董事長\\n客戶\\n受惠\\n可望\\n第三 財報\\n出貨\\n影響\\n隨著\\n獲利\\n持續\\n全球\\n產品 應用\\n半導體 領域\\n召開 總經理\\n創下 新高\\n疫情\\n上市 公司\\n公布 自結\\n宣布\\n族群 宇宙\\n產業\\n預計\\nky\\n認為\\n投資\\n預期\\n國產 公告 高雄\\n取得 美國\\n聯發科\\n資金\\nic\\n集團 旗下\\n今年 比重 降至\\n中心\\n子公司\\n第四 全數 滿載\\n目前\\n訂單\\n單月\\n布局\\n計畫\\n營運 副總 漢磊\\n推升\\n預估\\n電子\\n積極\\n鴻海\\n再度\\n水準 之上 加上\\n展望\\n下滑\\n旺季\\n進入\\n業者\\n產能 屆時\\n股價\\n未來 事業\\n去年 殖利率\\n帶動\\n車用\\n合作\\n技術\\n投入 美元\\n累計\\n銀行 正式\\n科技\\n看好 電池\\n日本\\n同步\\n包括\\n毛利率 回升\\n指出 今天\\n疫苗\\n單季 虧損\\n優於\\n價格 持穩 高檔 近期\\n目標\\n第一\\n手機 晶片\\n主要\\n超過 漲幅\\n美股\\n維持 平盤\\n筆電\\n年底\\n供應鏈 缺料\\n執行\\n台積電 先進 封裝 製程\\n相關\\n震盪\\n資料\\n元件\\n成為\\n大同\\n設備\\n醫療 擴大\\n代工\\n晶圓 代工廠\\n品牌\\n挑戰\\n調整\\n動能 延續\\n本業\\n終場 大漲 法人 合計 買超 外資\\n開發\\n高達\\n整體\\n景氣\\n表現\\n出爐\\n調薪\\n業務 發展 組織\\n增加\\n上漲\\n服務\\n電動車\\n多頭\\n國際 日前 傳出\\n工業\\n加速\\n部分\\n突破\\n通路\\n航空 雙雄 金融\\n交易\\n轉投資\\n銷售 策略 執行長\\n稅收\\n生產\\n因應\\n金管會\\n投資人\\n創高\\n經濟\\n連續 入選\\npcb\\n規劃\\n企業 處分 利益\\n面板\\n有望\\n金額\\n持股\\n認證\\n業績 明顯\\n新台幣\\n轉型\\n大盤\\n國內\\n共同\\n系統 建設\\n伺服器\\n大量\\n新品 買盤\\n完成\\n機會 國銀\\n黃天牧\\n激勵\\n進行\\n第二 楊金龍\\n通膨\\n調漲\\n衛星 題材 領軍\\n強勁\\n重回 大關\\n歷史\\n競爭\\n至少\\n推動\\n平均\\n貨櫃\\n呈現 財政部\\neps 歷年\\n商機\\n權值股\\nmeta\\n收斂\\n首度\\n資本\\n電子股\\n趨緩\\n世界\\n股本\\n獲得\\n樂觀\\n舉行\\n法說會\\n越南\\n陸續\\n要求\\n藥廠\\n漲價\\n台塑\\n面臨\\n統計\\n加碼\\n透過\\n新冠\\n相當\\n因素\\n紀錄\\n議題\\n下跌\\n方案\\n美系\\n全面\\n聯詠\\n拉貨\\ndram\\n盤價 走跌 衝擊 亞洲 行情\\n過去 新竹\\n數據\\n零售\\n資訊 商用\\n穩健\\n供應\\n人壽\\n外界 關注 綠能\\n製造\\n工作\\n亞太\\n舉辦\\n超微\\n簽訂\\n管理\\n改善\\nai\\n提出\\n一定 規模\\n轉強\\n開放\\n熱潮\\n聚焦 資產\\n決議\\n空間\\n員工\\n年度\\n庫存\\n支撐\\n啟動 擴產\\n提升\\n周漲 光學\\n壓力 考量\\n加持\\n印尼\\n月增\\n開出\\n效益\\n可能 升息\\n為主\\n能源 掛牌\\n周五\\n央行\\n續揚\\n聯強\\n新增\\n檢測\\niphone 蘋果\\n不斷\\n高端\\n整合\\n生活\\n顯示\\n創新\\n狀況\\n模組\\n消費性 機種\\n持平 智慧\\n統一\\n改寫\\n量產\\n封測廠\\n董事會\\n記憶體\\n力積電\\n趨勢\\n我國\\n早盤 衝上\\n淡季\\n情況\\n青睞\\n衝破\\n力道 放緩\\n電視\\n電動\\n人類 打造\\n辦公 研發\\n治療\\n雙方\\n上游 材料 提前\\n成本\\n團隊\\n透露 旺宏\\n採購\\n華碩\\n防疫\\n限電\\n既有\\n大幅 回落\\n汽車\\n台驊\\n推出\\n翻倍\\n快速\\n產品線\\n健康\\n成交量\\n高點\\n尤其\\n關卡\\n同樣\\n超越\\n高階\\n預算數\\n生效\\n大學\\nmsci\\n接任\\n群聯\\n封測 龍頭\\n優化 提高\\n獲頒\\n地區\\n試驗\\n預算\\n記憶體廠\\n生技\\n配息\\n資源\\n幅度\\n掀起\\n電商\\n零組件\\n大增\\n金控\\n吸引\\n原物料\\n道瓊\\n新創\\n專案\\n會議\\n無線\\n儲能\\n高峰\\n貨幣 政策 趨於\\n大會\\n市況\\n攜手\\n升溫\\n買回\\n鈺創\\n切入\\nmcu\\n雲端\\nsic\\n破紀錄\\n矽晶圓\\n國泰金\\n一度\\n大自然\\n長榮\\n收益\\n百億\\n緩解\\n近年\\ngenzyme\\n大陸\\n主辦\\n聯穎 光電\\n提供\\n金屬\\n效應\\n擔任\\n申設\\n站穩\\n小漲\\n檢疫\\n登場\\n免稅額\\n走強\\n規定\\n恢復\\n問題\\n小幅\\n運價\\n行列\\n一舉\\n出售\\n海外\\n打入\\n超級\\n設立\\n中研院 院士\\n擺脫\\n機構\\n夥伴\\n首見\\n排除\\n調降\\n發揮\\n加密\\n轉盈\\n通訊\\n新唐\\n逝世\\n希望\\n社會\\n走勢\\n進一步\\n國賓\\n安心\\n面對\\n遊戲\\n發燙\\n廣達\\n波動 大賺\\n基期\\n基礎\\n軌道\\n出貨量\\n簽約\\n廠房\\n短期\\n關係\\n設廠\\n董事\\n信邦\\n緯創\\n下游\\n聯電\\n娛樂\\n上市櫃\\n賣超 標的 集中 鋼鐵\\n站上\\n運輸\\n反映\\n證交所\\n吃緊\\n公司債\\n鋼鐵人\\n站回\\n協議\\n國家\\n出口值\\nga\\n花旗\\n張忠謀\\n概念股\\n製造商\\n經營\\n供應商\\n續創\\n復工\\n擴張\\n建立\\n達成\\n放大\\n強漲\\n臨床\\n是否\\n電腦\\n長期\\n申請\\n薄膜廠\\n啟用\\n變數\\nled\\n偏鄉\\n下降\\n雙雙\\n太陽能\\n盤中\\n歷史次\\n群創\\n接單\\n新廠\\n地方\\nar\\n加入\\n海運\\n非常\\n穩定\\n市長\\n缺口\\n供給\\n蔣尚義\\n入境\\ndjsi\\n斥資\\n土地 開發案\\n午盤\\n平台 賣家\\n釋出\\n成交值\\n沒有\\n回溫\\n方面\\n拖累\\n瑞基\\niso\\n終端\\n風險\\n載具\\n傳產\\n強調\\n顯示器\\n疑慮\\n政治\\n撐盤\\n發行\\npv 商品\\n高速\\nsony\\n三雄\\n可期\\n衝高\\n減少'"
            ]
          },
          "metadata": {},
          "execution_count": 111
        }
      ]
    },
    {
      "cell_type": "code",
      "source": [
        "! pip install textrank4zh -q"
      ],
      "metadata": {
        "colab": {
          "base_uri": "https://localhost:8080/"
        },
        "id": "ElDw7mGhwKMW",
        "outputId": "63bb7340-87c9-40f3-e977-d176f9cb9264"
      },
      "execution_count": null,
      "outputs": [
        {
          "output_type": "stream",
          "name": "stdout",
          "text": [
            "  Building wheel for textrank4zh (setup.py) ... \u001b[?25l\u001b[?25hdone\n"
          ]
        }
      ]
    },
    {
      "cell_type": "code",
      "source": [
        "from textrank4zh import TextRank4Keyword, TextRank4Sentence\n"
      ],
      "metadata": {
        "id": "pwh5FldLwJd2"
      },
      "execution_count": null,
      "outputs": []
    },
    {
      "cell_type": "code",
      "source": [
        "text = \" \".join(org_corpus_df[org_corpus_df['summary_list_len']>2]['summary'][0:50])"
      ],
      "metadata": {
        "id": "-6SvgZHKwS9I"
      },
      "execution_count": null,
      "outputs": []
    },
    {
      "cell_type": "code",
      "source": [
        "text"
      ],
      "metadata": {
        "colab": {
          "base_uri": "https://localhost:8080/",
          "height": 244
        },
        "id": "nglAciDex9J-",
        "outputId": "5b95cff7-7e4c-44a5-b59c-48fb80ebc49f"
      },
      "execution_count": null,
      "outputs": [
        {
          "output_type": "execute_result",
          "data": {
            "application/vnd.google.colaboratory.intrinsic+json": {
              "type": "string"
            },
            "text/plain": [
              "'混凝土廠國產 (2504-TW) 今 (15) 日公告，將高雄「悅誠廣場」房地持分以總價 23.5 億元，出售予興富發 (2542-TW) 子公司碧江企業，處分利益達 14.9 億元，估貢獻每股純益約 1.27 元。 台泥 (1101-TW) 今 (15) 日召開法說，總經理李鐘培表示，10 月以來中國能耗雙控持續，水泥產銷量減但價格持穩高檔，且近期煤價大幅回落，有利毛利率回升到過往水準之上，加上廣東韶關廠投產也將挹注營收表現。 台泥 (1101-TW) 董事長張安平今 (15) 日在法說會前致詞時指出，今天的氣候災害，是人類打造繁榮的副作用漸漸浮現、失衡的大自然對人類的反撲；與人類文明與大自然息息相關的水泥業「站在生命的第一現場」。 聚醯亞胺（PI）薄膜廠達邁 (3645-TW) 積極展開產品應用多元化的布局，由以往高達 98% 的軟板應用，在今年前三季的比重已降至 64%，而在非軟板的應用的成長到 36% 則以車用、散熱產品為主。 22 家壽險前 3 季合賺 3389 億元破紀錄 淨值比 all pass！ 康控 - KY(4943-TW) 今 (15) 日公告第三季財報，由於與銷貨客戶存在產品品質與責任歸屬認知上的差異，因此提列 26.3 億元預期信用減損，導致單季稅後虧損來到 27.38 億元，每股虧損 17.49 元。 台灣光罩 (2338-TW) 今 (15) 日公告，為因應光罩業務發展與組織擴展計畫，增設營運副總，由漢磊 (3707-TW) 前營運副總曾哲斌出任，由於漢磊長期著墨在化合物半導體領域，光罩此次派任具化合物半導體背景的經理人擔任要職 2021 道瓊永續指數 DJSI 評比出爐，東元連續兩年入選道瓊永續指數（DJSI）的新興市場指數 (DJSI-Emerging Markets)，為新興市場指數類別中，全球唯一入選的機電業者。 台泥 (1101-TW) 今 (15) 日召開法說，對於外界關注的綠能、儲能布局，董事長張安平也也對外揭櫫，儲能子公司 NHOA 的十倍成長的「10X 計畫」，預計 2030 在南歐充電樁市場達到 15% 市佔率，營收將會是 2022 年的 15 倍 檢測試劑廠瑞基 (4171-TW) 今 (15) 日表示，因應未來事業方向，進行內部組織升級，明年將朝三大方向發展，包括人病新冠檢測、畜產與伴侶動物，以及精準醫療，藉此擴大事業版圖，帶動明年營運正向發展。 中國晶圓代工廠中芯國際日前傳出副董座蔣尚義辭任，引起國內半導體產業高度關注，對此，鈺創 (5351-WT) 董事長盧超群今 (15) 日表示，若能請到蔣尚義回台再指導或講學，絕對不吝邀請。 證交所表示，除互億 (6172-TW) 與英瑞 - KY(1592-TW) 因會計師辭任導致財報尚未出爐外，其餘 942 家本國與第一上市公司第三季財報均以完成申報公告。 中央流行疫情指揮中心日前宣布，已施打高端 (6547-TW) 新冠疫苗且有緊急出國需求者，可再打兩劑 AZ、莫德納或 BNT，引起不少爭議，對此，高端今 (15) 日回應，接種基本兩劑以外的加強劑疫苗已成為全球共識。 台股今 (15) 日在 IC 設計族群、元宇宙、低軌衛星題材領軍突圍下，終場大漲百點，收在 17634.47 點，三大法人合計買超 57.9 億元，外資更連兩個交易日加碼台股，今日再加碼 54.38 億元，鎖定航空雙雄、金融族群。 金屬機殼大廠可成 (2474-TW) 今 (15) 日公告庫藏股屆滿執行情形，最終買回 15533 張，執行率約 62.13%，買回總金額達 25.33 億元，平均每股買回價格約 163.09 元。 高雄國賓危老改建 將轉型飯店式服務豪宅 合庫銀私人銀行今 (15) 日正式揭牌營業，為了與市場區隔化，私人銀行經營項目將聚焦資產配置、傳承與稅務規劃等專業服務為主，透過專業團隊理財諮詢與服務吸引高資產客戶。 藥華藥 (6446-TW) 今 (15) 日舉行法說，外界關注，治療真性紅血球增多症 (PV) 新藥 P1101、商品名 BESREMi 取得美國 FDA 藥證後銷售策略，對此，執行長林國鐘表示，初估每位病人每年平均藥價約 500 萬元。 漢民集團旗下漢磊 (3707-TW) 與轉投資磊晶廠嘉晶 (3016-TW) 今 (15) 日共同召開線上法說，並宣布將啟動擴產，未來 2-3 年共將投入約 1.2 億至 1.5 億美元，大舉擴增 SiC、GaN 產能，屆時兩家公司 SiC 產能均可望 PMOLED 廠錸寶 (8104-TW) 今 (15) 日召開法說，展望未來，錸寶看好電池儲能業務成長性優於 PMOLED，同時因應半導體客戶對不斷電系統 (UPS) 需求，正積極擴大產能，也規劃進一步布局儲能自動頻率控制調頻服務。 統包工程承攬商中鼎 (9933-TW) 集團，攜手欣陸 (3703-TW) 旗下欣達環工，執行「桃園市中壢地區污水下水道系統建設 BOT 計畫」，今 (15) 日就水資源回收中心舉行開工動土。 封測龍頭日月光投控 (3711-TW) 今 (15) 日宣布，連續第六年整體成績獲道瓊永續指數「半導體及半導體設備產業」產業最高分，為台灣首家連續六度獲得產業最高分的公司。 漢磊 (3707-TW) 今 (15) 日表示，SiC 產線第四季全數滿載，整體毛利率將持續向上、進一步提升至 15-18%，看好明年仍產能供不應求，全年營收成長 2 成起跳，毛利率也將續揚。 國產署近期與高雄、屏東兩縣市地方政府合作辦理 2 件國有土地開發案，預計可吸引民間投資 60 億元，創造 415 億元產值與 1422 個就業機會。 國銀人民幣存款連 3 減 個人戶連 8 個月下滑 PMOLED 廠錸寶 (8104-TW) 今 (15) 日召開法說，展望第四季，錸寶表示，PMOLED 業務受整體供應鏈缺料、歐美塞港影響，客戶下單轉趨保守，估本季相關業務將面臨修正，電池模組業務則在上游材料提前備貨下，可望保持成長 聯強 (2347-TW) 今 (15) 日舉行法說，副總裁杜書全表示，雖然資訊商用成長力道放緩，不過資訊商用與 ic 元件業務則受惠企業數位轉型、資料中心、伺服器缺料舒緩，業績將明顯成長，法人看好，本業每股純益衝破 6 元。 偉詮電 (2436-TW) 今 (15) 日公布 10 月自結，稅後純益 0.53 億元，年增 179%，每股稅後純益 0.3 元，累計前 10 月稅後純益 6.2 億元，年增 204%，每股稅後純益 3.5 元；受惠 USB PD 出貨續旺，加上 10 月開始漲 嘉晶 (3016-TW) 今 (15) 日表示，部分客戶訂單已看至明年底，明年將持續調漲價格，對展望樂觀看待，營收將有雙位數成長、毛利也將續揚，並看好元宇宙將推升伺服器需求，對化合物半導體來說是不錯機會。 國賓飯店 (2704-TW) 的台北館及高雄館將分別投入危老改建，而欣陸 (3703-TW) 旗下大陸建設與國賓及厚生 (2107-TW) 今 (15) 日正式簽約，將就高雄國賓大飯店現址購入部分土地，並簽約後續的申請危老合建開發案， 航空客運市場復甦 台灣虎航開放冬季班表 4 航線 星宇航推曙光包機 玉山金控連續 8 年入選「道瓊永續指數」 再創台灣金融業紀錄 三引擎發威 台新人壽總投報率逾 3% 創高 未來續增海外債 「台灣友善環境指數」統計近 3 年來累計報酬率達 110.38%、去年年殖利率 4.9%，表現優於證交所發行的加權報酬指數 (89.29%、4.32%) 與台灣全市場報酬指數 (97.84 規劃以特別股與交換債 明年上半年續處分彰銀 家樂福與 Meta 策略合作推動數位轉型 9 大據點國家台灣入列 中鋼 (2002-TW) 今 (15) 日開出 12 月內銷鋼品月盤，由於中國寶武鋼以及越南河靜等鋼廠盤價走跌，衝擊亞洲行情及市場信心，國內產業也持續面臨庫存去化等壓力，經考量後，中鋼決議 12 月盤價平均調降 1.65%，近 1 年半首見。 華航連 6 年入選 DJSI 並獲全球航空產業第二名\\xa0 楊金龍以物極必反示警房價 明示貨幣政策將趨於緊縮 台灣大哥大 (3045-TW) 高度重視資通訊安全與個資隱私保護，除獲得國際資通訊安全管理系統 ISO 27001 以及 BS 10012 / ISO 29100 個資隱私保護雙認證。 台股今 (15) 日在 IC 設計族群、元宇宙、低軌衛星題材領軍突圍下，大漲百點，其中，IC 設計龍頭聯發科大漲近 5%，重回千元大關，也帶動大盤終場大漲 116.34 點或 0.66%，收在 17634.47 點。 台股今 (15) 日資金重回電子族群，IC 設計股掀起比價效應，聯發科更重返千金行列催出高價股行情，元宇宙、低軌道衛星等行情也發燙，指數大漲 116.34 點，收 17634.47 點。外資連兩買、買超 54.38 億元 美股上周五四大指數全數收紅，台股今 (15) 日由電子雙雄領軍走強，資金重回電子族群，IC 設計股掀起比價行情，聯發科重返千金股行列，金融權值股穩盤助攻，元宇宙、低軌道衛星行情持續發燙，貨櫃三雄則後繼無力，指數開高走高，大 國際廢鋼行情續弱，鋼筋廠豐興 (2015-TW) 今 (15) 日開出盤價，廢鋼收購價在上周五變盤，每公噸下跌 300 元後，今日維持平盤，鋼筋盤價本周再跌 500 元，連續二周走跌，型鋼基價也調降 500 元，但槽鋼維持平盤。 手機晶片龍頭聯發科 (2454-TW) 本周即將發布 5G 旗艦新品，今 (15) 日買盤積極卡位，推升股價大漲近半根，最高達 1035 元，不僅重返千金俱樂部，也創下半年新高，市值達 1.65 兆元，擠下鴻海 (2317-TW) 的 1.52 兆 軍公教明 (111) 年將調薪 4%，公股銀行也響應跟進，包含兆豐銀行、第一銀行、華南銀行、彰化銀行、合庫銀行與台企銀董事長今 (15) 日都表示，明年將跟進調薪 4%。 面板大廠群創 (3481-TW) 榮譽董事長段行建今 (15) 日獲頒台大社會服務類傑出校友，會後面對媒體詢問並未多談面板產業景氣，但他指出，在管理科學、自然科學支撐下，AI 將扮演未來產業關鍵角色。 聯電 (2303-TW) 旗下聯穎光電第三代半導體布局有成，第三季獲利較第二季大增 5 倍，後市可期，但公司目前還未走入資本市場，投資人疑將傳輸線廠聯穎 (3550-TW) 誤認為聯穎光電，今 (15) 日股價跳空開高，直奔漲停價 18. 聯強 (2347-TW) 業內外皆美，第三季雙率雙升、創同期新高；稅後純益 83.5 億元，季增 150.3%、年增 298%，每股純益 5 元，單季超越去年全年；前三季純益受度破百億元、達 142.2 億元，每股純益 8.53 元，創新猷。 正崴集團子公司森崴能源 (6806-TW) 今 (15) 日以每股 104.4 元掛牌上市，早盤最高衝上 125 元，大漲 19.7%，盤中維持超過 13% 漲幅，蜜月行情甜。'"
            ]
          },
          "metadata": {},
          "execution_count": 128
        }
      ]
    },
    {
      "cell_type": "code",
      "source": [
        "tr4w = TextRank4Keyword()\n",
        "\n",
        "tr4w.analyze(text=text, lower=True, window=2)  \n",
        "\n",
        "print( '关键词：' )\n",
        "for item in tr4w.get_keywords(20, word_min_len=1):\n",
        "    print(item.word, item.weight)\n",
        "\n",
        "print()\n",
        "print( '关键短语：' )\n",
        "for phrase in tr4w.get_keyphrases(keywords_num=20, min_occur_num= 2):\n",
        "    print(phrase)\n",
        "\n",
        "tr4s = TextRank4Sentence()\n",
        "tr4s.analyze(text=text, lower=True, source = 'all_filters')\n",
        "\n",
        "print()\n",
        "print( '摘要：' )\n",
        "for item in tr4s.get_key_sentences(num=3):\n",
        "    print(item.index, item.weight, item.sentence)"
      ],
      "metadata": {
        "colab": {
          "base_uri": "https://localhost:8080/"
        },
        "id": "p1LT7n9LwVTc",
        "outputId": "7e5501a1-c7a2-4dee-fe44-a07037b42953"
      },
      "execution_count": null,
      "outputs": [
        {
          "output_type": "stream",
          "name": "stdout",
          "text": [
            "关键词：\n",
            "後 0.007108566641203301\n",
            "tw 0.006354432159484916\n",
            "指數 0.005986742498391665\n",
            "表示 0.005917911101960113\n",
            "產業 0.005702043037101963\n",
            "台灣 0.005240160746367019\n",
            "今 0.0050560683721174865\n",
            "行情 0.005002899380426773\n",
            "股 0.004873901840539684\n",
            "明年 0.004695063686162665\n",
            "半導體 0.004597946079436361\n",
            "銀行 0.004546633136017713\n",
            "成長 0.00441836024074079\n",
            "業務 0.004265133937898047\n",
            "於 0.003917076665587562\n",
            "服務 0.003910698231172071\n",
            "客戶 0.0038247695511415183\n",
            "董事 0.0035960976257943603\n",
            "營收 0.0034748619364222497\n",
            "持續 0.00335336095026319\n",
            "\n",
            "关键短语：\n",
            "股今\n",
            "\n",
            "摘要：\n",
            "24 0.053664578893588485 國賓飯店 (2704-TW) 的台北館及高雄館將分別投入危老改建，而欣陸 (3703-TW) 旗下大陸建設與國賓及厚生 (2107-TW) 今 (15) 日正式簽約，將就高雄國賓大飯店現址購入部分土地，並簽約後續的申請危老合建開發案， 航空客運市場復甦 台灣虎航開放冬季班表 4 航線 星宇航推曙光包機 玉山金控連續 8 年入選「道瓊永續指數」 再創台灣金融業紀錄 三引擎發威 台新人壽總投報率逾 3% 創高 未來續增海外債 「台灣友善環境指數」統計近 3 年來累計報酬率達 110.38%、去年年殖利率 4.9%，表現優於證交所發行的加權報酬指數 (89.29%、4.32%) 與台灣全市場報酬指數 (97.84 規劃以特別股與交換債 明年上半年續處分彰銀 家樂福與 Meta 策略合作推動數位轉型 9 大據點國家台灣入列 中鋼 (2002-TW) 今 (15) 日開出 12 月內銷鋼品月盤，由於中國寶武鋼以及越南河靜等鋼廠盤價走跌，衝擊亞洲行情及市場信心，國內產業也持續面臨庫存去化等壓力，經考量後，中鋼決議 12 月盤價平均調降 1.65%，近 1 年半首見\n",
            "28 0.0449356032259609 外資連兩買、買超 54.38 億元 美股上周五四大指數全數收紅，台股今 (15) 日由電子雙雄領軍走強，資金重回電子族群，IC 設計股掀起比價行情，聯發科重返千金股行列，金融權值股穩盤助攻，元宇宙、低軌道衛星行情持續發燙，貨櫃三雄則後繼無力，指數開高走高，大 國際廢鋼行情續弱，鋼筋廠豐興 (2015-TW) 今 (15) 日開出盤價，廢鋼收購價在上周五變盤，每公噸下跌 300 元後，今日維持平盤，鋼筋盤價本周再跌 500 元，連續二周走跌，型鋼基價也調降 500 元，但槽鋼維持平盤\n",
            "21 0.04491621394918872 國銀人民幣存款連 3 減 個人戶連 8 個月下滑 PMOLED 廠錸寶 (8104-TW) 今 (15) 日召開法說，展望第四季，錸寶表示，PMOLED 業務受整體供應鏈缺料、歐美塞港影響，客戶下單轉趨保守，估本季相關業務將面臨修正，電池模組業務則在上游材料提前備貨下，可望保持成長 聯強 (2347-TW) 今 (15) 日舉行法說，副總裁杜書全表示，雖然資訊商用成長力道放緩，不過資訊商用與 ic 元件業務則受惠企業數位轉型、資料中心、伺服器缺料舒緩，業績將明顯成長，法人看好，本業每股純益衝破 6 元\n"
          ]
        }
      ]
    },
    {
      "cell_type": "code",
      "source": [
        "text= \"\"\"\n",
        "文本關鍵詞抽取、文本摘要生成是自然語言處理（NLP）的應用之一，一定會對我們的生活產生巨大影響。隨着數字媒體的發展和出版業的不斷增長，誰還會有時間完整地瀏覽整篇文章、文檔、書籍來決定它們是否有用呢？值得高興的是，這項技術已經在這裏了。也就是今天我們要學習的TextRank算法。\n",
        "   文本摘要可以大致分爲兩類——抽取型摘要 和 抽象型摘要：\n",
        "   抽取型摘要： 這種方法依賴於從文本中提取幾個部分，例如短語、句子，把它們堆疊起來創建摘要。因此，這種抽取型的方法最重要的是識別出適合總結文本的句子。顯然，TextRank算法進行摘要抽取屬於抽取式的。\n",
        "   抽象型摘要：這種方法應用先進的NLP技術生成一篇全新的總結。可能總結出的文本沒有在原文中出現。\n",
        "目前主要方法有：\n",
        "基於統計：統計詞頻，位置等信息，計算句子權值，再簡選取權值高的句子作爲文摘，特點：簡單易用，但對詞句的使用大多僅停留在表面信息。\n",
        "基於圖模型：構建拓撲結構圖，對詞句進行排序。例如，TextRank/LexRank\n",
        "基於潛在語義：使用主題模型，挖掘詞句隱藏信息。例如，採用LDA，HMM\n",
        "基於整數規劃：將文摘問題轉爲整數線性規劃，求全局最優解。\n",
        "一、算法思想\n",
        "   TextRank算法是由PageRank算法改進而來的，二者的思想有相同之處，區別在於：PageRank算法根據網頁之間的鏈接關係構造網絡，而TextRank算法根據詞之間的共現關係構造網絡；PageRank算法構造的網絡中的邊是有向無權邊，而TextRank算法構造的網絡中的邊是無向有權邊。\n",
        "\n",
        "   TextRank 算法是一種用於文本的基於圖的排序算法，通過把文本分割成若干組成單元（句子/詞），構建節點連接圖，用句子(詞)之間的相似度作爲邊的權重，通過循環迭代計算句子（詞）的TextRank值，最後抽取排名高的句子（詞）組合成文本摘要。\n",
        "   上一篇博客我們已經學習了PageRank算法的原理。還未搞清楚的可以移步這裏\n",
        "\n",
        "   用TextRank提取來提取關鍵詞/摘要，用PageRank的思想來解釋它：\n",
        "\n",
        "如果一個單詞出現在很多單詞後面的話，那麼說明這個單詞比較重要\n",
        "一個TextRank值很高的單詞後面跟着的單詞，那麼這個單詞的TextRank值會相應地因此而提高。\n",
        "\"\"\"\n",
        "\n",
        "r4w = TextRank4Keyword()\n",
        "\n",
        "tr4w.analyze(text=text, lower=True, window=2)  \n",
        "\n",
        "print( '关键词：' )\n",
        "for item in tr4w.get_keywords(20, word_min_len=1):\n",
        "    print(item.word, item.weight)\n",
        "\n",
        "print()\n",
        "print( '关键短语：' )\n",
        "for phrase in tr4w.get_keyphrases(keywords_num=20, min_occur_num= 2):\n",
        "    print(phrase)\n",
        "\n",
        "tr4s = TextRank4Sentence()\n",
        "tr4s.analyze(text=text, lower=True, source = 'all_filters')\n",
        "\n",
        "print()\n",
        "print( '摘要：' )\n",
        "for item in tr4s.get_key_sentences(num=3):\n",
        "    print(item.index, item.weight, item.sentence)"
      ],
      "metadata": {
        "colab": {
          "base_uri": "https://localhost:8080/"
        },
        "id": "Jf6wSA_6x__v",
        "outputId": "c733e6e8-a7b2-4811-ba4b-97331aca83aa"
      },
      "execution_count": null,
      "outputs": [
        {
          "output_type": "stream",
          "name": "stdout",
          "text": [
            "关键词：\n",
            "句子 0.032153034889580996\n",
            "文本 0.026132365502265626\n",
            "textrank 0.02469339438859447\n",
            "於 0.023027422824444834\n",
            "算法 0.0202640798121058\n",
            "摘要 0.020220638581788665\n",
            "來 0.019324040142460783\n",
            "抽取 0.017370316518096663\n",
            "模型 0.012836513010605644\n",
            "信息 0.012800822530012431\n",
            "構建 0.012369235263166203\n",
            "pagerank 0.012182839288405429\n",
            "lda 0.011433937376233676\n",
            "求 0.011433937376233676\n",
            "關 0.011433937376233676\n",
            "單詞 0.011208564480522482\n",
            "nlp 0.010475328232796234\n",
            "使用 0.010180844598599225\n",
            "媒體 0.010178327040651346\n",
            "發展 0.010178327040651346\n",
            "\n",
            "关键短语：\n",
            "文本摘要\n",
            "\n",
            "摘要：\n",
            "20 0.07550273771351866 TextRank 算法是一種用於文本的基於圖的排序算法，通過把文本分割成若干組成單元（句子/詞），構建節點連接圖，用句子(詞)之間的相似度作爲邊的權重，通過循環迭代計算句子（詞）的TextRank值，最後抽取排名高的句子（詞）組合成文本摘要\n",
            "7 0.056575707432853437 顯然，TextRank算法進行摘要抽取屬於抽取式的\n",
            "5 0.05420933232125146 抽取型摘要： 這種方法依賴於從文本中提取幾個部分，例如短語、句子，把它們堆疊起來創建摘要\n"
          ]
        }
      ]
    },
    {
      "cell_type": "markdown",
      "source": [
        "## 結論\n",
        "\n",
        "TF-IDF速度快，適合每一篇新聞的「摘要」綜合起來看，做出每一篇文章的關鍵字以及整體的關鍵字\n",
        "\n",
        "textrank適合「單篇完整文章」抽取關鍵字和關鍵短句"
      ],
      "metadata": {
        "id": "qwe7oD0OxCR-"
      }
    },
    {
      "cell_type": "markdown",
      "source": [
        "https://blog.csdn.net/liujh845633242/article/details/103514778#2_191"
      ],
      "metadata": {
        "id": "It8juGXPzLsX"
      }
    },
    {
      "cell_type": "markdown",
      "metadata": {
        "id": "lVymc9PZAOYH"
      },
      "source": [
        "## LDA主題模型"
      ]
    },
    {
      "cell_type": "code",
      "source": [
        "words_ls = org_corpus_df[org_corpus_df['summary_list_len']>0]['summary_seg'][0:5000]"
      ],
      "metadata": {
        "id": "J3Y8ootRj76b"
      },
      "execution_count": null,
      "outputs": []
    },
    {
      "cell_type": "code",
      "execution_count": null,
      "metadata": {
        "id": "7WRFZ0cjLk0B"
      },
      "outputs": [],
      "source": [
        "from gensim import corpora, models\n",
        "\n",
        "# 構造詞典\n",
        "dictionary = corpora.Dictionary(words_ls)\n",
        "# 基於詞典，使【詞】→【稀疏向量】，並將向量放入列表，形成【稀疏向量集】\n",
        "corpus = [dictionary.doc2bow(words) for words in words_ls]\n",
        "# lda模型，num_topics設定主題的個數\n",
        "lda = models.ldamodel.LdaModel(corpus=corpus, id2word=dictionary, num_topics=8)\n",
        "# 印所有主題，每個主題顯示3個詞\n"
      ]
    },
    {
      "cell_type": "code",
      "execution_count": null,
      "metadata": {
        "colab": {
          "base_uri": "https://localhost:8080/"
        },
        "id": "H8MPWScDo6by",
        "outputId": "b191c957-b159-4c0c-d1d6-86b4301f74e1"
      },
      "outputs": [
        {
          "output_type": "stream",
          "name": "stdout",
          "text": [
            "(0, '0.029*\"純益\" + 0.010*\"獲利\" + 0.010*\"公布\" + 0.009*\"財報\" + 0.009*\"新高\"')\n",
            "(1, '0.007*\"美國\" + 0.006*\"中國\" + 0.006*\"疫情\" + 0.006*\"開發\" + 0.006*\"台灣\"')\n",
            "(2, '0.009*\"董事長\" + 0.008*\"表示\" + 0.007*\"市場\" + 0.006*\"公司\" + 0.005*\"營運\"')\n",
            "(3, '0.013*\"需求\" + 0.012*\"營收\" + 0.012*\"表示\" + 0.011*\"召開\" + 0.010*\"成長\"')\n",
            "(4, '0.020*\"台股\" + 0.011*\"指數\" + 0.008*\"台灣\" + 0.008*\"表示\" + 0.006*\"外資\"')\n",
            "(5, '0.044*\"None\" + 0.042*\"營收\" + 0.024*\"年增\" + 0.011*\"公告\" + 0.010*\"新高\"')\n",
            "(6, '0.013*\"台股\" + 0.010*\"台積電\" + 0.009*\"晶圓\" + 0.007*\"指數\" + 0.006*\"賣壓\"')\n",
            "(7, '0.034*\"純益\" + 0.010*\"年增\" + 0.009*\"財報\" + 0.007*\"公告\" + 0.005*\"指數\"')\n"
          ]
        }
      ],
      "source": [
        "for topic in lda.print_topics(num_words=5):\n",
        "    print(topic)"
      ]
    },
    {
      "cell_type": "markdown",
      "metadata": {
        "id": "c23YDeUwAS-U"
      },
      "source": [
        "## Word Embedding\n",
        "\n",
        "- [中研院詞向量語料庫申請](http://ckipsvr.iis.sinica.edu.tw/cemb/reg.php)"
      ]
    },
    {
      "cell_type": "code",
      "source": [
        "!gdown https://drive.google.com/uc?id=1kv0lAGnFQAc-2KceoyU85MH30ZXc8XF_"
      ],
      "metadata": {
        "colab": {
          "base_uri": "https://localhost:8080/"
        },
        "id": "UKNh6t4BoCEb",
        "outputId": "adcaef17-8e94-4df2-891b-e18408d72461"
      },
      "execution_count": null,
      "outputs": [
        {
          "output_type": "stream",
          "name": "stdout",
          "text": [
            "Downloading...\n",
            "From: https://drive.google.com/uc?id=1kv0lAGnFQAc-2KceoyU85MH30ZXc8XF_\n",
            "To: /content/CWE01.zip\n",
            "100% 587M/587M [00:03<00:00, 147MB/s]\n"
          ]
        }
      ]
    },
    {
      "cell_type": "code",
      "source": [
        "!unzip CWE01.zip"
      ],
      "metadata": {
        "colab": {
          "base_uri": "https://localhost:8080/"
        },
        "id": "NLdE-nqvrmV2",
        "outputId": "dad20f68-ac76-409e-b11f-6d0785d15d54"
      },
      "execution_count": null,
      "outputs": [
        {
          "output_type": "stream",
          "name": "stdout",
          "text": [
            "Archive:  CWE01.zip\n",
            "  inflating: w2v_CNA_ASBC_300d.vec   \n"
          ]
        }
      ]
    },
    {
      "cell_type": "code",
      "execution_count": null,
      "metadata": {
        "id": "pqr94IBskrXE"
      },
      "outputs": [],
      "source": [
        "from gensim import models\n",
        "\n",
        "word2vec_path = '/content/w2v_CNA_ASBC_300d.vec'\n",
        "w2v_model = models.KeyedVectors.load_word2vec_format(word2vec_path, binary=False,unicode_errors='ignore')\n",
        "\n",
        "#limits"
      ]
    },
    {
      "cell_type": "code",
      "source": [
        "len(w2v_model.vocab)"
      ],
      "metadata": {
        "colab": {
          "base_uri": "https://localhost:8080/"
        },
        "id": "jpqTWSJe07aQ",
        "outputId": "b1478ea1-cf8c-408b-b985-86b29ebd217b"
      },
      "execution_count": null,
      "outputs": [
        {
          "output_type": "execute_result",
          "data": {
            "text/plain": [
              "517015"
            ]
          },
          "metadata": {},
          "execution_count": 142
        }
      ]
    },
    {
      "cell_type": "code",
      "source": [
        "w2v_model[['台灣', '好棒']]"
      ],
      "metadata": {
        "colab": {
          "base_uri": "https://localhost:8080/"
        },
        "id": "WeJncuAD3jBf",
        "outputId": "632f2191-2e0f-4094-bacb-332540dcdfb6"
      },
      "execution_count": null,
      "outputs": [
        {
          "output_type": "execute_result",
          "data": {
            "text/plain": [
              "array([[ 1.164120e-01,  3.757080e-01,  2.316170e-01, -9.952500e-02,\n",
              "        -1.714380e-01,  4.239700e-02, -1.805960e-01, -4.835500e-02,\n",
              "        -1.943620e-01,  7.823000e-03, -2.563700e-01,  7.074400e-02,\n",
              "         4.541900e-02,  1.970810e-01,  1.165900e-02, -2.238280e-01,\n",
              "        -7.379000e-02, -8.486000e-02,  1.535190e-01, -2.355500e-02,\n",
              "        -9.365500e-02,  1.818900e-01,  3.544020e-01,  2.216340e-01,\n",
              "         1.524800e-02,  3.037800e-01, -3.261400e-01, -5.784900e-02,\n",
              "        -6.522000e-03,  8.872200e-02, -1.997200e-02,  7.007600e-02,\n",
              "         3.218800e-02,  1.473870e-01,  1.583200e-02,  1.424320e-01,\n",
              "         1.154520e-01,  1.468230e-01,  3.285200e-02,  1.702130e-01,\n",
              "        -7.904000e-03, -7.723800e-02, -1.560090e-01,  1.093360e-01,\n",
              "         1.484830e-01,  1.946000e-02, -1.401810e-01,  1.094030e-01,\n",
              "         2.937400e-02,  3.630950e-01, -6.418300e-02,  4.438100e-02,\n",
              "        -1.212520e-01, -1.957500e-02,  2.369220e-01, -1.926540e-01,\n",
              "         2.459730e-01,  2.470800e-02, -2.769900e-02,  3.622800e-02,\n",
              "        -1.350440e-01, -2.306550e-01,  1.270440e-01,  3.359600e-02,\n",
              "        -2.810110e-01, -3.015690e-01, -7.848100e-02,  9.820600e-02,\n",
              "        -9.966500e-02, -1.664500e-01, -4.891400e-02, -1.072740e-01,\n",
              "         1.276900e-02,  1.618640e-01, -1.511850e-01,  7.055900e-02,\n",
              "        -2.484400e-02, -8.550000e-04,  1.183540e-01,  1.407320e-01,\n",
              "        -4.647900e-02,  8.753000e-03,  1.980900e-02,  2.797570e-01,\n",
              "         3.283330e-01, -2.039300e-02, -2.786500e-02, -5.381200e-02,\n",
              "        -1.971960e-01,  8.093800e-02,  3.912700e-02,  7.696300e-02,\n",
              "         1.509230e-01,  1.292120e-01, -1.527500e-02, -5.872800e-02,\n",
              "        -2.324860e-01, -2.538100e-01,  1.202960e-01, -1.125180e-01,\n",
              "        -5.782000e-02, -5.616400e-02,  2.111440e-01,  2.995700e-02,\n",
              "        -2.005000e-01,  8.017000e-02,  1.249740e-01,  4.291200e-01,\n",
              "        -2.028600e-01, -7.464800e-02, -1.333460e-01,  1.643970e-01,\n",
              "        -2.369440e-01, -1.262670e-01, -1.639800e-02, -2.612480e-01,\n",
              "        -2.736570e-01, -7.683200e-02, -1.324600e-01, -4.241100e-02,\n",
              "         1.826600e-02,  4.219510e-01, -2.139840e-01, -1.276330e-01,\n",
              "         1.172670e-01, -1.607290e-01,  1.987610e-01, -1.909920e-01,\n",
              "        -9.931900e-02,  6.391800e-02,  1.389800e-02,  5.291800e-02,\n",
              "         2.717170e-01,  4.126820e-01,  1.573900e-02,  2.175900e-01,\n",
              "        -1.284600e-02,  1.474060e-01,  6.633200e-02,  1.070620e-01,\n",
              "        -1.285460e-01, -4.499200e-02, -1.196830e-01,  2.725900e-01,\n",
              "         1.631290e-01,  4.324900e-02, -1.511900e-01,  1.439240e-01,\n",
              "        -3.464400e-02,  1.462600e-02, -3.224800e-02,  1.777830e-01,\n",
              "        -7.632400e-02,  3.326800e-02,  1.093540e-01, -2.190490e-01,\n",
              "        -1.982790e-01, -2.215300e-02, -9.500900e-02,  6.749400e-02,\n",
              "         2.526280e-01,  2.064320e-01, -4.717500e-02,  8.122800e-02,\n",
              "        -2.874530e-01,  1.860840e-01, -2.324900e-02,  1.172420e-01,\n",
              "        -2.819700e-02, -3.526850e-01,  7.413600e-02, -1.130120e-01,\n",
              "        -6.151000e-02, -1.563120e-01, -9.291300e-02, -5.539100e-02,\n",
              "        -8.579600e-02,  1.226630e-01,  9.445900e-02,  3.500800e-02,\n",
              "         7.918100e-02,  1.083000e-02, -4.380500e-02, -1.167920e-01,\n",
              "         5.585700e-02,  4.010100e-01,  1.485360e-01,  8.711700e-02,\n",
              "         1.204960e-01,  4.340950e-01, -1.295410e-01, -1.651590e-01,\n",
              "        -7.185800e-02, -2.008650e-01, -2.032400e-02, -2.212400e-02,\n",
              "        -1.367610e-01, -6.673000e-03,  4.125300e-02, -9.740000e-04,\n",
              "         1.502340e-01, -1.477700e-01,  4.576700e-02,  7.506500e-02,\n",
              "        -3.648900e-02, -1.617200e-02,  8.767700e-02,  5.817700e-02,\n",
              "         6.479400e-02,  2.616440e-01,  4.369300e-02, -6.208600e-02,\n",
              "         5.711700e-02,  2.794600e-02, -1.562190e-01, -2.410460e-01,\n",
              "         2.996830e-01,  4.878930e-01,  1.989270e-01, -1.226070e-01,\n",
              "        -2.262120e-01, -3.828200e-02, -1.086640e-01, -1.424100e-01,\n",
              "         3.185710e-01, -5.150900e-02, -1.170740e-01,  1.223000e-01,\n",
              "        -7.828700e-02, -2.075330e-01,  3.873200e-02, -1.452730e-01,\n",
              "         6.919600e-02,  5.335800e-02, -5.878600e-02,  2.074100e-02,\n",
              "         6.737600e-02, -2.079400e-02, -1.149590e-01, -3.752600e-02,\n",
              "         1.399440e-01,  2.234280e-01,  1.089500e-01,  8.445100e-02,\n",
              "         1.950360e-01, -7.205200e-02, -1.227220e-01, -1.682400e-01,\n",
              "        -5.693600e-02,  2.198180e-01,  1.694600e-01, -1.833500e-02,\n",
              "        -4.211400e-02, -2.600300e-02,  4.347300e-02, -3.785800e-02,\n",
              "        -2.253270e-01,  4.290700e-02, -1.211910e-01,  2.332390e-01,\n",
              "         9.184100e-02,  5.175500e-02,  4.693200e-02,  8.288000e-02,\n",
              "         7.547000e-03,  1.936310e-01,  1.748280e-01,  1.616730e-01,\n",
              "        -6.380900e-02,  1.593900e-02,  7.500000e-03,  1.836160e-01,\n",
              "         3.899900e-02, -5.799900e-02, -1.874580e-01, -2.434900e-02,\n",
              "         2.197270e-01, -1.404100e-01, -2.299690e-01, -4.319700e-02,\n",
              "         1.531420e-01, -2.434710e-01, -9.786800e-02, -2.633690e-01,\n",
              "        -2.056520e-01,  1.938000e-03, -2.723170e-01, -1.353230e-01,\n",
              "         1.730190e-01,  1.820300e-01,  2.481620e-01,  1.247810e-01,\n",
              "         1.511460e-01, -2.376700e-01,  1.636450e-01, -2.105900e-01,\n",
              "         5.837800e-02, -2.855600e-02, -1.580860e-01, -1.571070e-01],\n",
              "       [-6.506700e-02,  4.579570e-01,  2.343630e-01,  3.891380e-01,\n",
              "        -3.348700e-02,  3.368710e-01, -3.788650e-01, -3.255070e-01,\n",
              "        -1.431890e-01, -2.945230e-01, -2.558210e-01, -4.800560e-01,\n",
              "         3.119250e-01, -6.364200e-02,  1.375820e-01, -9.875500e-02,\n",
              "        -4.835000e-03,  2.676370e-01,  1.861500e-01,  3.522650e-01,\n",
              "         4.352600e-01,  2.278840e-01,  3.086880e-01,  1.190000e-02,\n",
              "         9.775500e-02, -3.263700e-02,  3.170350e-01,  1.297600e-01,\n",
              "         5.790460e-01, -1.671250e-01, -2.955950e-01,  1.674680e-01,\n",
              "        -1.017760e-01, -1.487090e-01,  3.549870e-01,  3.633370e-01,\n",
              "        -5.013010e-01, -6.196900e-02,  2.460800e-02,  3.792360e-01,\n",
              "        -1.358200e-02,  5.254970e-01,  1.048040e-01, -2.020540e-01,\n",
              "         2.137950e-01,  1.796080e-01, -3.207950e-01, -2.622510e-01,\n",
              "        -3.190800e-02,  3.052670e-01, -4.068190e-01, -1.168060e-01,\n",
              "        -2.333720e-01,  4.771300e-02,  5.718900e-02, -2.591670e-01,\n",
              "        -1.477340e-01,  1.706370e-01,  1.796130e-01,  3.107430e-01,\n",
              "        -2.316620e-01,  2.249090e-01, -3.190940e-01, -5.643600e-02,\n",
              "        -3.256460e-01, -1.347350e-01,  7.915800e-02, -1.416640e-01,\n",
              "        -2.110980e-01,  4.187100e-02,  1.467520e-01, -5.443160e-01,\n",
              "        -2.926000e-02,  2.454300e-02,  3.452850e-01,  4.127420e-01,\n",
              "        -4.996400e-02,  2.552950e-01,  2.858370e-01,  7.796700e-02,\n",
              "        -2.660890e-01, -4.264130e-01, -4.306000e-02, -1.034650e-01,\n",
              "         2.415380e-01, -1.803040e-01,  2.651380e-01,  2.923050e-01,\n",
              "        -8.618430e-01,  2.763250e-01,  2.564870e-01, -1.206270e-01,\n",
              "         1.199800e-02,  5.648100e-01, -5.988500e-02, -6.030000e-04,\n",
              "         2.143370e-01,  9.879800e-02, -3.826770e-01,  5.159650e-01,\n",
              "         2.729850e-01, -2.719330e-01, -3.443040e-01,  3.019800e-01,\n",
              "         4.656080e-01,  1.636750e-01, -6.423340e-01,  3.836260e-01,\n",
              "        -6.178200e-02, -1.702140e-01, -6.057000e-02,  2.379310e-01,\n",
              "        -3.305510e-01,  2.795600e-02,  6.954900e-02,  2.787500e-02,\n",
              "        -2.054090e-01,  2.415700e-02,  2.621050e-01, -5.084310e-01,\n",
              "         3.768500e-01, -2.629040e-01,  5.873610e-01, -7.903800e-01,\n",
              "        -2.155100e-02, -1.774690e-01,  2.267900e-01, -5.629240e-01,\n",
              "        -6.834000e-03,  4.151390e-01, -7.402970e-01, -3.356400e-01,\n",
              "        -4.394300e-02,  2.043650e-01, -1.668100e-01,  3.231400e-02,\n",
              "        -8.187400e-02,  2.965850e-01, -3.740850e-01,  8.377200e-02,\n",
              "        -7.717300e-02,  2.127380e-01,  3.429410e-01,  1.318230e-01,\n",
              "        -1.739990e-01,  2.935680e-01,  7.130070e-01, -2.372140e-01,\n",
              "        -8.742900e-02,  2.127240e-01, -3.229320e-01, -9.332700e-02,\n",
              "        -3.300940e-01, -8.537300e-02,  3.661130e-01, -3.406040e-01,\n",
              "        -5.712620e-01,  3.633000e-02,  1.648920e-01,  5.265300e-01,\n",
              "        -3.197830e-01,  1.250000e-01,  1.024700e-01,  2.107430e-01,\n",
              "         5.048200e-02, -4.362510e-01, -7.882940e-01, -4.944300e-02,\n",
              "        -1.950390e-01, -1.114033e+00,  2.978290e-01,  6.432050e-01,\n",
              "        -2.223380e-01, -4.480640e-01, -2.859250e-01, -3.959300e-02,\n",
              "         1.871580e-01, -7.037500e-02, -1.017870e-01,  2.835220e-01,\n",
              "        -2.183740e-01,  2.317100e-02,  3.791130e-01, -1.811640e-01,\n",
              "         7.740670e-01,  1.835640e-01,  7.579250e-01,  3.757900e-02,\n",
              "        -7.381900e-02,  4.286980e-01,  4.698710e-01, -4.961100e-02,\n",
              "        -2.378100e-01,  3.840670e-01,  1.160770e-01, -1.378000e-03,\n",
              "        -2.781890e-01, -2.487200e-02, -6.175350e-01,  6.011300e-02,\n",
              "         9.203420e-01, -6.624200e-02, -4.523240e-01, -2.389990e-01,\n",
              "         6.533700e-02, -1.592900e-02, -2.716570e-01,  2.828550e-01,\n",
              "        -2.015540e-01,  2.752600e-01,  1.651410e-01, -4.665300e-02,\n",
              "         2.695000e-01,  7.009200e-02, -2.447870e-01,  4.763060e-01,\n",
              "        -4.398400e-01, -1.703300e-01, -5.040430e-01, -2.500770e-01,\n",
              "        -4.833130e-01, -3.764200e-02, -1.057800e-01,  8.024300e-02,\n",
              "         3.544230e-01,  2.979370e-01, -9.575700e-02, -1.140150e-01,\n",
              "         1.814550e-01, -2.764930e-01,  9.005200e-02, -6.731330e-01,\n",
              "        -5.626830e-01,  8.611500e-02,  8.812500e-02, -7.142230e-01,\n",
              "         6.443200e-02,  2.105400e-02,  3.673720e-01,  1.966310e-01,\n",
              "         4.949210e-01,  6.075320e-01,  1.945430e-01, -3.869710e-01,\n",
              "        -2.282460e-01, -1.887350e-01,  5.202030e-01, -1.405840e-01,\n",
              "        -4.781610e-01, -7.658500e-02,  1.286730e-01,  1.187250e-01,\n",
              "         2.198760e-01,  9.018000e-02,  5.389580e-01,  9.687800e-02,\n",
              "         3.712050e-01,  1.628880e-01, -1.367480e-01, -1.714870e-01,\n",
              "        -2.056990e-01,  3.351670e-01,  2.201880e-01, -4.172250e-01,\n",
              "         2.981790e-01, -2.615520e-01,  1.775800e-01,  1.924020e-01,\n",
              "        -1.273620e-01, -2.454990e-01, -2.222600e-02,  3.603640e-01,\n",
              "         2.189440e-01,  9.388900e-02,  2.554100e-01,  2.632600e-02,\n",
              "         8.198300e-02, -1.515930e-01, -5.084730e-01, -1.253390e-01,\n",
              "         2.254050e-01, -2.264120e-01, -4.839100e-02,  5.285000e-03,\n",
              "        -4.690970e-01,  4.852630e-01, -3.802160e-01,  7.557300e-02,\n",
              "         4.210060e-01, -7.659900e-02,  3.497590e-01, -3.328410e-01,\n",
              "         7.721100e-02, -5.243500e-02, -4.102610e-01,  1.150960e-01,\n",
              "        -2.150010e-01, -1.397260e-01, -2.488800e-01, -1.966190e-01]],\n",
              "      dtype=float32)"
            ]
          },
          "metadata": {},
          "execution_count": 148
        }
      ]
    },
    {
      "cell_type": "markdown",
      "source": [
        "- `.bin` use: load_fasttext_format() (this typically contains full model with parameters, ngrams, etc).\n",
        "\n",
        "- `.vec` use: load_word2vec_format (this contains ONLY word-vectors -> no ngrams + you can't update an model)."
      ],
      "metadata": {
        "id": "lWoJmwpAuusk"
      }
    },
    {
      "cell_type": "markdown",
      "metadata": {
        "id": "vZWRMP91krkI"
      },
      "source": [
        "### Fasttext"
      ]
    },
    {
      "cell_type": "code",
      "source": [
        "!gdown https://drive.google.com/uc?id=1wRvgAdpQ2roHPsbfrO8noUgoC54W_bGu"
      ],
      "metadata": {
        "colab": {
          "base_uri": "https://localhost:8080/"
        },
        "id": "Q-eTncXPsD8Q",
        "outputId": "d1e8cc7c-4700-47bb-ea4d-c042361ff320"
      },
      "execution_count": null,
      "outputs": [
        {
          "output_type": "stream",
          "name": "stdout",
          "text": [
            "Downloading...\n",
            "From: https://drive.google.com/uc?id=1wRvgAdpQ2roHPsbfrO8noUgoC54W_bGu\n",
            "To: /content/cc.zh.300.bin\n",
            "100% 7.24G/7.24G [01:41<00:00, 71.0MB/s]\n"
          ]
        }
      ]
    },
    {
      "cell_type": "code",
      "execution_count": null,
      "metadata": {
        "id": "DSGmnOAlkkLe"
      },
      "outputs": [],
      "source": [
        "word2vec_path = '/content/cc.zh.300.bin'\n",
        "from gensim.models import FastText\n",
        "\n",
        "model = FastText.load_fasttext_format(word2vec_path)"
      ]
    },
    {
      "cell_type": "code",
      "source": [
        "model[['你', '在']]"
      ],
      "metadata": {
        "id": "Cd9mdcGWu9Eo"
      },
      "execution_count": null,
      "outputs": []
    },
    {
      "cell_type": "markdown",
      "source": [
        "### 英文財金詞彙Embedding"
      ],
      "metadata": {
        "id": "EDhJ0lgHqZLd"
      }
    },
    {
      "cell_type": "code",
      "source": [
        "! wget https://www.rahimikia.com/FinText/FinText_FastText_Skip-gram.zip\n",
        "!unzip /content/FinText_FastText_Skip-gram.zip\n"
      ],
      "metadata": {
        "id": "UFPvcvWfvnuZ"
      },
      "execution_count": null,
      "outputs": []
    },
    {
      "cell_type": "code",
      "source": [
        "from gensim.models import Word2Vec\n",
        "from gensim.models import FastText\n"
      ],
      "metadata": {
        "id": "Yeik1DUsvv7R"
      },
      "execution_count": null,
      "outputs": []
    },
    {
      "cell_type": "code",
      "source": [
        "prod=['fund',\n",
        " 'etf',\n",
        " 'stock',\n",
        " 'preferred_stock',\n",
        " 'auto_loan',\n",
        " 'trust',\n",
        " 'life_insurance',\n",
        " 'insurance',\n",
        " 'personal_loan',\n",
        " 'mortgage',\n",
        " 'loan',\n",
        " 'treasury_bond',\n",
        " 'foreign_exchange',\n",
        " 'online_banking',\n",
        " 'fintech',\n",
        " 'blockchain',\n",
        " 'bitcoin',\n",
        " 'robo_advisor'\n",
        " ]"
      ],
      "metadata": {
        "id": "aDEnJ48yv8q_"
      },
      "execution_count": null,
      "outputs": []
    },
    {
      "cell_type": "code",
      "source": [
        "FinText_Word2Vec_skipgram = Word2Vec.load('/content/FinText_FastText_Skip-gram/Word_Embedding_2000_2015')\n"
      ],
      "metadata": {
        "id": "2bdsdzf-v2qM"
      },
      "execution_count": null,
      "outputs": []
    },
    {
      "cell_type": "code",
      "source": [
        "product_embedding = FinText_Word2Vec_skipgram.wv[prod]\n"
      ],
      "metadata": {
        "id": "2dyhjp-jv6Sw"
      },
      "execution_count": null,
      "outputs": []
    },
    {
      "cell_type": "markdown",
      "metadata": {
        "id": "iZtaKiFsA-2-"
      },
      "source": [
        "## TRANSFORMER BERT"
      ]
    },
    {
      "cell_type": "markdown",
      "source": [
        "### 叫出最後一層的向量"
      ],
      "metadata": {
        "id": "fE5gToQcraZF"
      }
    },
    {
      "cell_type": "code",
      "execution_count": null,
      "metadata": {
        "id": "kKlSPkGDBALK",
        "colab": {
          "base_uri": "https://localhost:8080/",
          "height": 249,
          "referenced_widgets": [
            "ed576090c6554cafa4468e7b9b071f41",
            "000a82dc7f3e47188589d20a2eb4593d",
            "d6915db1f61d40109c2b69e4ed7be176",
            "44ecff5bec22446ab75aaa2aac1778b8",
            "324a570e83a64f738bbe3e76a20c05d3",
            "3b537b5b611c4ead9d814bcb55a8ab37",
            "e991e283307941a4b05362fa5b3158e1",
            "b79c609945ba43d296699af6424c12cc",
            "9b2b101dd8324ab5a63fc7bfe7142f37",
            "95b2d00db1824a1a9e990a6757709f23",
            "49820ed0dadd4b0987dac58c372eb665",
            "d5a5b9440ce945cebcccad9b75d4bc72",
            "9855a544835c4694acdc0e8ec6b76b26",
            "07c4dad626e0460dbe82a0603b859816",
            "3384401112794ce5b2235466542b42d6",
            "81a35fc19fcd48408a2c81b0ac5325d2",
            "3b223f451447443eb5c2f1ee12c3d6a0",
            "113b470174dc406aa54c7a716c62f264",
            "e6e59f2b1872458793360a92095cecb8",
            "e1d9d222729d4eafacfaa4d15537d9de",
            "f1e677b75224419e9b7eb205b6f28e69",
            "2f3c95aef6da45eb85eb06b0ae0d83e4",
            "8d384f74382346b393873328091f963e",
            "7cc9ddaee09741ca8c92af33336385c1",
            "5a3fe5aed4a34f449262d678523a071d",
            "11fb1b03067d43ad95f4f32fd48048e6",
            "1b274252c5864afab878eab92568067a",
            "d40ca3c5dd0b4f40aa8e0570ae635dd5",
            "d89b9efa1f4445a1bb1d26389361bc6b",
            "745e03afbfa741fd94decfa768f31d51",
            "58617413d31d442a84248662ee95bd5f",
            "2630ddea617445a6b230fdb665d46577",
            "a36f7ed729eb4564838194edb8f1190b",
            "e430ec9e249e46c2bd17c379d6237826",
            "0feeb0a5061845f69a8eb0b5242e9a5c",
            "c47febb469694b49b78c65189ed40808",
            "52d3dd3e462d4ff68a99995a8a304f75",
            "c4af5c3717f742fba7fad3150268a689",
            "96bc597dbbeb4258869ce0f5cfbf6e0d",
            "4a81e1f1fadf484f83bd339c362e3e1a",
            "6f3933c4a1a64fa18f1faa63568441c6",
            "132847bcca954c2c88e32607ffc38718",
            "ca81e196ba824ce2ae12a4d7bc83bf60",
            "b925345196ae4aa4a820b0b84f0fff91",
            "735e733386f54b7a9614795cc1e333d6",
            "67a590da8eb04e85b7c0e9a3eb95b242",
            "691b4c06718545fbad0bd4b89d4af85f",
            "04e5c75b6f7146978f085d68aed2712f",
            "a7f5064371804e648590f04f6e62785f",
            "a9c320f8a6cf4e069629b77f079742c6",
            "b502688b9443486686e2c97935df3cd8",
            "bd90799cb79b43489d2f020491e964db",
            "3577e597f6f74b078917ebf0d187ff50",
            "cb95faeda066403289a068deff5edd6d",
            "c1c5e094b1a04cfea7c7a62a97d03ad6"
          ]
        },
        "outputId": "b6dcc3e2-f4a0-4e8a-95a5-08cafce2cbe4"
      },
      "outputs": [
        {
          "output_type": "display_data",
          "data": {
            "application/vnd.jupyter.widget-view+json": {
              "model_id": "ed576090c6554cafa4468e7b9b071f41",
              "version_minor": 0,
              "version_major": 2
            },
            "text/plain": [
              "Downloading:   0%|          | 0.00/29.0 [00:00<?, ?B/s]"
            ]
          },
          "metadata": {}
        },
        {
          "output_type": "display_data",
          "data": {
            "application/vnd.jupyter.widget-view+json": {
              "model_id": "d5a5b9440ce945cebcccad9b75d4bc72",
              "version_minor": 0,
              "version_major": 2
            },
            "text/plain": [
              "Downloading:   0%|          | 0.00/624 [00:00<?, ?B/s]"
            ]
          },
          "metadata": {}
        },
        {
          "output_type": "display_data",
          "data": {
            "application/vnd.jupyter.widget-view+json": {
              "model_id": "8d384f74382346b393873328091f963e",
              "version_minor": 0,
              "version_major": 2
            },
            "text/plain": [
              "Downloading:   0%|          | 0.00/107k [00:00<?, ?B/s]"
            ]
          },
          "metadata": {}
        },
        {
          "output_type": "display_data",
          "data": {
            "application/vnd.jupyter.widget-view+json": {
              "model_id": "e430ec9e249e46c2bd17c379d6237826",
              "version_minor": 0,
              "version_major": 2
            },
            "text/plain": [
              "Downloading:   0%|          | 0.00/263k [00:00<?, ?B/s]"
            ]
          },
          "metadata": {}
        },
        {
          "output_type": "display_data",
          "data": {
            "application/vnd.jupyter.widget-view+json": {
              "model_id": "735e733386f54b7a9614795cc1e333d6",
              "version_minor": 0,
              "version_major": 2
            },
            "text/plain": [
              "Downloading:   0%|          | 0.00/393M [00:00<?, ?B/s]"
            ]
          },
          "metadata": {}
        },
        {
          "output_type": "stream",
          "name": "stderr",
          "text": [
            "Some weights of the model checkpoint at bert-base-chinese were not used when initializing BertModel: ['cls.predictions.transform.dense.weight', 'cls.predictions.transform.dense.bias', 'cls.predictions.transform.LayerNorm.bias', 'cls.predictions.decoder.weight', 'cls.seq_relationship.weight', 'cls.predictions.bias', 'cls.predictions.transform.LayerNorm.weight', 'cls.seq_relationship.bias']\n",
            "- This IS expected if you are initializing BertModel from the checkpoint of a model trained on another task or with another architecture (e.g. initializing a BertForSequenceClassification model from a BertForPreTraining model).\n",
            "- This IS NOT expected if you are initializing BertModel from the checkpoint of a model that you expect to be exactly identical (initializing a BertForSequenceClassification model from a BertForSequenceClassification model).\n"
          ]
        }
      ],
      "source": [
        "from transformers import AutoModel, AutoTokenizer\n",
        "\n",
        "## 載入Tokenizer\n",
        "tokenizer = AutoTokenizer.from_pretrained('bert-base-chinese')\n",
        "\n",
        "## 載入Pretrain模型\n",
        "model = AutoModel.from_pretrained('bert-base-chinese')"
      ]
    },
    {
      "cell_type": "code",
      "source": [
        "\n",
        "## 獨立對待\n",
        "sentences = [\n",
        "  '基金類別生技股',\n",
        "  '基金類別全球股市',\n",
        "  '基金類別新興市場債',\n",
        "  '基金類別公司債',\n",
        "  '基金類別科技股',\n",
        "  '基金類別全球債',\n",
        "  '基金類別美國公債',\n",
        "  '美國公債',\n",
        "  '人情債怎麼還',\n",
        "  '漲跌幅震盪',\n",
        "  '均線黃金交叉',\n",
        "  '股市大多頭',\n",
        "  '小狗','小貓','人類']\n",
        "\n",
        "\n",
        "context1 = ['暴雷一時爽', '醒醒吧']\n",
        "context2 = ['一直暴雷一直爽', '你沒有妹妹']"
      ],
      "metadata": {
        "id": "iHSdXqxI1V9I"
      },
      "execution_count": null,
      "outputs": []
    },
    {
      "cell_type": "code",
      "source": [
        "tokenizer.decode(tokenizer(sentences)['input_ids'][0])"
      ],
      "metadata": {
        "colab": {
          "base_uri": "https://localhost:8080/",
          "height": 35
        },
        "id": "KSvRvmvE1ZUO",
        "outputId": "7774b774-42a3-4266-cff1-963dc45ca47d"
      },
      "execution_count": null,
      "outputs": [
        {
          "output_type": "execute_result",
          "data": {
            "application/vnd.google.colaboratory.intrinsic+json": {
              "type": "string"
            },
            "text/plain": [
              "'[CLS] 基 金 類 別 生 技 股 [SEP]'"
            ]
          },
          "metadata": {},
          "execution_count": 158
        }
      ]
    },
    {
      "cell_type": "code",
      "source": [
        "## 可用於問答or推論任務\n",
        "tokenizer.decode(tokenizer(context1, context2)['input_ids'][0])"
      ],
      "metadata": {
        "colab": {
          "base_uri": "https://localhost:8080/",
          "height": 35
        },
        "id": "0-2fxRYj1bUR",
        "outputId": "7a764e34-954f-41d7-9e8b-6c7430b95309"
      },
      "execution_count": null,
      "outputs": [
        {
          "output_type": "execute_result",
          "data": {
            "application/vnd.google.colaboratory.intrinsic+json": {
              "type": "string"
            },
            "text/plain": [
              "'[CLS] 暴 雷 一 時 爽 [SEP] 一 直 暴 雷 一 直 爽 [SEP]'"
            ]
          },
          "metadata": {},
          "execution_count": 159
        }
      ]
    },
    {
      "cell_type": "code",
      "source": [
        "tokenizer.decode(tokenizer(context1, context2)['input_ids'][1])"
      ],
      "metadata": {
        "colab": {
          "base_uri": "https://localhost:8080/",
          "height": 35
        },
        "id": "XLtKtW6K1deH",
        "outputId": "6e24a2d3-3139-4c4b-bdeb-d8649d0782f6"
      },
      "execution_count": null,
      "outputs": [
        {
          "output_type": "execute_result",
          "data": {
            "application/vnd.google.colaboratory.intrinsic+json": {
              "type": "string"
            },
            "text/plain": [
              "'[CLS] 醒 醒 吧 [SEP] 你 沒 有 妹 妹 [SEP]'"
            ]
          },
          "metadata": {},
          "execution_count": 160
        }
      ]
    },
    {
      "cell_type": "code",
      "source": [
        "## return_tensors=\"pt\" 才能放進model\n",
        "inputs = tokenizer(sentences, padding=True, return_tensors=\"pt\")\n"
      ],
      "metadata": {
        "id": "jpvRfg_z1fvb"
      },
      "execution_count": null,
      "outputs": []
    },
    {
      "cell_type": "code",
      "source": [
        "inputs"
      ],
      "metadata": {
        "colab": {
          "base_uri": "https://localhost:8080/"
        },
        "id": "Uv6Fs3421ihp",
        "outputId": "56044bbe-f17c-4b8d-bf60-5282fcb3d35a"
      },
      "execution_count": null,
      "outputs": [
        {
          "output_type": "execute_result",
          "data": {
            "text/plain": [
              "{'input_ids': tensor([[ 101, 1825, 7032, 7546, 1162, 4495, 2825, 5500,  102,    0,    0],\n",
              "        [ 101, 1825, 7032, 7546, 1162, 1059, 4413, 5500, 2356,  102,    0],\n",
              "        [ 101, 1825, 7032, 7546, 1162, 3173, 5646, 2356, 1842, 1002,  102],\n",
              "        [ 101, 1825, 7032, 7546, 1162, 1062, 1385, 1002,  102,    0,    0],\n",
              "        [ 101, 1825, 7032, 7546, 1162, 4906, 2825, 5500,  102,    0,    0],\n",
              "        [ 101, 1825, 7032, 7546, 1162, 1059, 4413, 1002,  102,    0,    0],\n",
              "        [ 101, 1825, 7032, 7546, 1162, 5401, 1751, 1062, 1002,  102,    0],\n",
              "        [ 101, 5401, 1751, 1062, 1002,  102,    0,    0,    0,    0,    0],\n",
              "        [ 101,  782, 2658, 1002, 2582, 7938, 6917,  102,    0,    0,    0],\n",
              "        [ 101, 4039, 6649, 2388, 7448, 4679,  102,    0,    0,    0,    0],\n",
              "        [ 101, 1772, 5221, 7941, 7032,  769, 1349,  102,    0,    0,    0],\n",
              "        [ 101, 5500, 2356, 1920, 1914, 7531,  102,    0,    0,    0,    0],\n",
              "        [ 101, 2207, 4318,  102,    0,    0,    0,    0,    0,    0,    0],\n",
              "        [ 101, 2207, 6506,  102,    0,    0,    0,    0,    0,    0,    0],\n",
              "        [ 101,  782, 7546,  102,    0,    0,    0,    0,    0,    0,    0]]), 'token_type_ids': tensor([[0, 0, 0, 0, 0, 0, 0, 0, 0, 0, 0],\n",
              "        [0, 0, 0, 0, 0, 0, 0, 0, 0, 0, 0],\n",
              "        [0, 0, 0, 0, 0, 0, 0, 0, 0, 0, 0],\n",
              "        [0, 0, 0, 0, 0, 0, 0, 0, 0, 0, 0],\n",
              "        [0, 0, 0, 0, 0, 0, 0, 0, 0, 0, 0],\n",
              "        [0, 0, 0, 0, 0, 0, 0, 0, 0, 0, 0],\n",
              "        [0, 0, 0, 0, 0, 0, 0, 0, 0, 0, 0],\n",
              "        [0, 0, 0, 0, 0, 0, 0, 0, 0, 0, 0],\n",
              "        [0, 0, 0, 0, 0, 0, 0, 0, 0, 0, 0],\n",
              "        [0, 0, 0, 0, 0, 0, 0, 0, 0, 0, 0],\n",
              "        [0, 0, 0, 0, 0, 0, 0, 0, 0, 0, 0],\n",
              "        [0, 0, 0, 0, 0, 0, 0, 0, 0, 0, 0],\n",
              "        [0, 0, 0, 0, 0, 0, 0, 0, 0, 0, 0],\n",
              "        [0, 0, 0, 0, 0, 0, 0, 0, 0, 0, 0],\n",
              "        [0, 0, 0, 0, 0, 0, 0, 0, 0, 0, 0]]), 'attention_mask': tensor([[1, 1, 1, 1, 1, 1, 1, 1, 1, 0, 0],\n",
              "        [1, 1, 1, 1, 1, 1, 1, 1, 1, 1, 0],\n",
              "        [1, 1, 1, 1, 1, 1, 1, 1, 1, 1, 1],\n",
              "        [1, 1, 1, 1, 1, 1, 1, 1, 1, 0, 0],\n",
              "        [1, 1, 1, 1, 1, 1, 1, 1, 1, 0, 0],\n",
              "        [1, 1, 1, 1, 1, 1, 1, 1, 1, 0, 0],\n",
              "        [1, 1, 1, 1, 1, 1, 1, 1, 1, 1, 0],\n",
              "        [1, 1, 1, 1, 1, 1, 0, 0, 0, 0, 0],\n",
              "        [1, 1, 1, 1, 1, 1, 1, 1, 0, 0, 0],\n",
              "        [1, 1, 1, 1, 1, 1, 1, 0, 0, 0, 0],\n",
              "        [1, 1, 1, 1, 1, 1, 1, 1, 0, 0, 0],\n",
              "        [1, 1, 1, 1, 1, 1, 1, 0, 0, 0, 0],\n",
              "        [1, 1, 1, 1, 0, 0, 0, 0, 0, 0, 0],\n",
              "        [1, 1, 1, 1, 0, 0, 0, 0, 0, 0, 0],\n",
              "        [1, 1, 1, 1, 0, 0, 0, 0, 0, 0, 0]])}"
            ]
          },
          "metadata": {},
          "execution_count": 162
        }
      ]
    },
    {
      "cell_type": "code",
      "source": [
        "## 單純forward pass 沒要計算梯度\n",
        "with torch.no_grad():\n",
        "  outputs = model(**inputs)"
      ],
      "metadata": {
        "id": "XjAFosyv44Dj"
      },
      "execution_count": null,
      "outputs": []
    },
    {
      "cell_type": "code",
      "source": [
        "x = outputs['last_hidden_state']"
      ],
      "metadata": {
        "id": "l9BnYm5-488F"
      },
      "execution_count": null,
      "outputs": []
    },
    {
      "cell_type": "code",
      "source": [
        "embedding = x[:,-5:-1].mean(axis=1).cpu().detach().numpy()"
      ],
      "metadata": {
        "id": "ECoMkRSB5AaP"
      },
      "execution_count": null,
      "outputs": []
    },
    {
      "cell_type": "code",
      "source": [
        "embedding.shape"
      ],
      "metadata": {
        "colab": {
          "base_uri": "https://localhost:8080/"
        },
        "id": "9kEj6DF_5FH7",
        "outputId": "e7ba4ffd-610d-430e-f368-16bae30bc76e"
      },
      "execution_count": null,
      "outputs": [
        {
          "output_type": "execute_result",
          "data": {
            "text/plain": [
              "(15, 768)"
            ]
          },
          "metadata": {},
          "execution_count": 168
        }
      ]
    },
    {
      "cell_type": "markdown",
      "source": [
        "### 摘要"
      ],
      "metadata": {
        "id": "kLYHNKuzq9Mu"
      }
    },
    {
      "cell_type": "code",
      "source": [
        "from transformers import pipeline\n",
        "summarizer = pipeline(\"summarization\", model=\"philschmid/bart-large-cnn-samsum\")\n",
        "\n",
        "conversation = '''\n",
        "Think of ETFs as buckets that hold a collection of securities, like stocks and bonds. Because ETFs are made up of these multiple assets, they provide investors instant diversification. When an investor purchases a share of an ETF, their money is spread across different investments. This differs from stocks where you buy shares of just a single company.\n",
        "\n",
        "ETFs typically mimic a market index like the S&P 500. Since ETF performance is usually based on an index — meaning they follow the ups and downs of said index — most are passively managed investments and thus likely have lower fees than mutual funds. Mutual funds, on the other hand, want to beat the market’s performance and are thus managed by a fund manager, who’s actively choosing the investments.\n",
        "\n",
        "Similar to stocks, ETFs can be bought and sold on an exchange throughout the day, and investors can even earn dividends depending on the type of index the fund tracks.\n",
        "\n",
        "Should you invest in ETFs?\n",
        "Since ETFs offer built-in diversification and don’t require large amounts of capital in order to invest in a range of stocks, they are a good way to get started. You can trade them like stocks while also enjoying a diversified portfolio.\n",
        "'''\n",
        "\n"
      ],
      "metadata": {
        "colab": {
          "base_uri": "https://localhost:8080/",
          "height": 246,
          "referenced_widgets": [
            "159f37f26455454ea0b36fe9445819a8",
            "c5a971d352af45a2b93bcc2ec29cf332",
            "e4dbb79e53f3438a82a0bddbb97c28d6",
            "f2c2e266867a465889524e5083e3b8c7",
            "2e76e4480e6c4e00914ba5c604404f32",
            "cde8b0a8da9645d9a900441f9a101888",
            "2d94e99ff806490aa670aea1d7d17500",
            "3f3e5b749d1a4a889ce348819c96a712",
            "172a1a2eac0942c6bf6e209a9f8a6e1c",
            "5db11d4aeb2c458998d71ec75f413821",
            "61b8a9c8031842e095275a5949aa5961",
            "35b2ab3ff2a843268cf8508a814e89cf",
            "fddbfd9a290247e5b1e21458c07ef57e",
            "c77a4d20eefe49de9e19d61770404b42",
            "28a91130c58e4d4bb6bc405bf4adc293",
            "6f5b1e4e8ef0467eba891e6d55213cd4",
            "ab0022578c304fd3bb3684354fef17eb",
            "e3aa6a1844b844a484ae57baade16d43",
            "b4f93997d9bf436fb70d2091f3940a3a",
            "ae864c301f95429dbcd1448c69d757a0",
            "16691a59dbf542ffa09c3c13100ed60e",
            "893ba4f4bb2440be9f47966db8c56568",
            "954a62d3f22640598f16415f9ecf371d",
            "7cb3f61d0f4048a7a187758a76a9ca10",
            "03de47799408443f8828ae4f05aac449",
            "0650ddeaff66493a82e1355871fdefec",
            "911343009a2f455fa576b659e84695a5",
            "5d839d1f343d467ebe7693751b9c15dc",
            "823c70779fad498382070595cf04459a",
            "f0eeaef97cbc454993fa6f9628097755",
            "1cda14f94a4b48e7945dd14a14428d8f",
            "dc4fa2b5a10f4bada3c02469e9be9f57",
            "8a574ea5011443daa7d0479380580a5c",
            "bbea9d1031084d40b3d0186dd50ef0c0",
            "766d4e782c2345d4ae6469c8d012d80e",
            "b58e42e2ada5479b8442e4ec7e5d5ec3",
            "042aa59764ae4613acaaee31d4353c0d",
            "aed7a56b4956438eb9db78c0e989efb2",
            "c813b8b82fd84a998547a207904e6723",
            "766e8b47959849ae89da65c5d30b48c6",
            "fb6e0e05e9b14963974ec9fba71b0503",
            "a99ef6d9f31044cfb16d3990ce4eb126",
            "133b1026781d4f05a399432f634dc7ad",
            "4cc3406cfdd84bf6af4497160535e704",
            "2ade9480924745108b5d0ec965208bb3",
            "88bcafdbddce40e8b989f413ce29a49b",
            "bdc962efded74d82a5fd4cead6a5ff59",
            "6ee815af8d07492ca04d3af09cbafdb8",
            "f2bcec25bb6e490db3afc09ae06c4d84",
            "1774dfdf87ee4ddc808756aba17042e5",
            "ea91ce73058b4b8cb91cdce6d1bd97e8",
            "1397c58254b44bbf9c7974f491aa9165",
            "6b892819f8be484e8c53c324468b355e",
            "81f34ccc57d84b8fb211f123aedb78bc",
            "09e6014b6bd34a50854a7b7ed700370d",
            "48fefe9d3b424eedac3dc216b0415c48",
            "1209517fa0b64f909170232ab5dbcd87",
            "df1d1fd453b5490492d4a92817d7e02e",
            "1de9592ec3ea44bba37a1b1691f90dfa",
            "b80600835e3744e19b099be48e1efd37",
            "09bf4b775cd54dc3a304e37051b61e44",
            "b80b0fb6c0cf47e7a1eb96b24d79b745",
            "0a27dffbc7814616ae2fac4c84ad172c",
            "159f5b237ab049dda3c0184f4baea12b",
            "d9f6eb089f9f49b794a4da70e7da8423",
            "67360fdc5d8b4c60a360ad285e0e4c6b"
          ]
        },
        "id": "g9qn1F1R1ok8",
        "outputId": "bfc381ac-e47f-48c1-885c-6d3217d86d93"
      },
      "execution_count": null,
      "outputs": [
        {
          "output_type": "display_data",
          "data": {
            "application/vnd.jupyter.widget-view+json": {
              "model_id": "159f37f26455454ea0b36fe9445819a8",
              "version_minor": 0,
              "version_major": 2
            },
            "text/plain": [
              "Downloading:   0%|          | 0.00/1.59k [00:00<?, ?B/s]"
            ]
          },
          "metadata": {}
        },
        {
          "output_type": "display_data",
          "data": {
            "application/vnd.jupyter.widget-view+json": {
              "model_id": "35b2ab3ff2a843268cf8508a814e89cf",
              "version_minor": 0,
              "version_major": 2
            },
            "text/plain": [
              "Downloading:   0%|          | 0.00/1.51G [00:00<?, ?B/s]"
            ]
          },
          "metadata": {}
        },
        {
          "output_type": "display_data",
          "data": {
            "application/vnd.jupyter.widget-view+json": {
              "model_id": "954a62d3f22640598f16415f9ecf371d",
              "version_minor": 0,
              "version_major": 2
            },
            "text/plain": [
              "Downloading:   0%|          | 0.00/300 [00:00<?, ?B/s]"
            ]
          },
          "metadata": {}
        },
        {
          "output_type": "display_data",
          "data": {
            "application/vnd.jupyter.widget-view+json": {
              "model_id": "bbea9d1031084d40b3d0186dd50ef0c0",
              "version_minor": 0,
              "version_major": 2
            },
            "text/plain": [
              "Downloading:   0%|          | 0.00/780k [00:00<?, ?B/s]"
            ]
          },
          "metadata": {}
        },
        {
          "output_type": "display_data",
          "data": {
            "application/vnd.jupyter.widget-view+json": {
              "model_id": "2ade9480924745108b5d0ec965208bb3",
              "version_minor": 0,
              "version_major": 2
            },
            "text/plain": [
              "Downloading:   0%|          | 0.00/446k [00:00<?, ?B/s]"
            ]
          },
          "metadata": {}
        },
        {
          "output_type": "display_data",
          "data": {
            "application/vnd.jupyter.widget-view+json": {
              "model_id": "48fefe9d3b424eedac3dc216b0415c48",
              "version_minor": 0,
              "version_major": 2
            },
            "text/plain": [
              "Downloading:   0%|          | 0.00/239 [00:00<?, ?B/s]"
            ]
          },
          "metadata": {}
        },
        {
          "output_type": "execute_result",
          "data": {
            "text/plain": [
              "[{'summary_text': 'ETFs are buckets that hold a collection of securities, like stocks and bonds. They are passively managed and have lower fees than mutual funds. Similar to stocks, they can be bought and sold on an exchange throughout the day and investors can earn dividends depending on the type of index the fund tracks.'}]"
            ]
          },
          "metadata": {},
          "execution_count": 169
        }
      ]
    },
    {
      "cell_type": "code",
      "source": [
        "sumry = summarizer(conversation)"
      ],
      "metadata": {
        "id": "in1NEM565jqy"
      },
      "execution_count": null,
      "outputs": []
    },
    {
      "cell_type": "code",
      "source": [
        "sumry[0]['summary_text'].split('.')"
      ],
      "metadata": {
        "colab": {
          "base_uri": "https://localhost:8080/"
        },
        "id": "ZC4yvxyY5ws4",
        "outputId": "21adb8bb-11e1-46b3-9927-e2ae202d835c"
      },
      "execution_count": null,
      "outputs": [
        {
          "output_type": "execute_result",
          "data": {
            "text/plain": [
              "['ETFs are buckets that hold a collection of securities, like stocks and bonds',\n",
              " ' They are passively managed and have lower fees than mutual funds',\n",
              " ' Similar to stocks, they can be bought and sold on an exchange throughout the day and investors can earn dividends depending on the type of index the fund tracks',\n",
              " '']"
            ]
          },
          "metadata": {},
          "execution_count": 174
        }
      ]
    },
    {
      "cell_type": "markdown",
      "metadata": {
        "id": "SIDnkNa5jktW"
      },
      "source": [
        "### 財金新聞情緒判別"
      ]
    },
    {
      "cell_type": "code",
      "execution_count": null,
      "metadata": {
        "id": "_s9hUBAnjl33"
      },
      "outputs": [],
      "source": [
        "from transformers import AutoTokenizer, AutoModelForSequenceClassification\n",
        "\n",
        "tokenizer = AutoTokenizer.from_pretrained(\"ProsusAI/finbert\")\n",
        "model = AutoModelForSequenceClassification.from_pretrained(\"ProsusAI/finbert\",num_labels=3,cache_dir=None)"
      ]
    },
    {
      "cell_type": "code",
      "source": [
        "sentences = ['Ruukki Group calculates that it has lost EUR 4mn in the failed project    ', \n",
        "             'it is ok and normal as usual',\n",
        "             'sp500 surge soar',\n",
        "             'Marathon estimates the value of its remaining stake in Protalix at $ 27 million']"
      ],
      "metadata": {
        "id": "XCUybzyG2o43"
      },
      "execution_count": null,
      "outputs": []
    },
    {
      "cell_type": "code",
      "source": [
        "inputs = tokenizer(sentences, padding=True, return_tensors=\"pt\")\n"
      ],
      "metadata": {
        "id": "nVY57CuK2nx0"
      },
      "execution_count": null,
      "outputs": []
    },
    {
      "cell_type": "code",
      "source": [
        "## pos neg natral\n",
        "\n",
        "model(**inputs)"
      ],
      "metadata": {
        "colab": {
          "base_uri": "https://localhost:8080/"
        },
        "id": "njFVLEc72S7b",
        "outputId": "01dc2643-ba69-44fa-9dec-f828bd448b9e"
      },
      "execution_count": null,
      "outputs": [
        {
          "output_type": "execute_result",
          "data": {
            "text/plain": [
              "SequenceClassifierOutput([('logits', tensor([[-0.8927,  2.4818, -1.8230],\n",
              "                                   [-0.1370, -1.5946,  1.8591],\n",
              "                                   [ 0.9483, -1.4564,  0.0273],\n",
              "                                   [-0.9384, -1.1353,  2.6071]], grad_fn=<AddmmBackward0>))])"
            ]
          },
          "metadata": {},
          "execution_count": 183
        }
      ]
    }
  ],
  "metadata": {
    "accelerator": "GPU",
    "colab": {
      "collapsed_sections": [
        "9nbtOxLCVplM"
      ],
      "machine_shape": "hm",
      "name": "鉅亨網",
      "provenance": []
    },
    "kernelspec": {
      "display_name": "Python 3",
      "name": "python3"
    },
    "language_info": {
      "name": "python"
    },
    "widgets": {
      "application/vnd.jupyter.widget-state+json": {
        "020143f1f25147efbb863caa747654c8": {
          "model_module": "@jupyter-widgets/controls",
          "model_module_version": "1.5.0",
          "model_name": "DescriptionStyleModel",
          "state": {
            "_model_module": "@jupyter-widgets/controls",
            "_model_module_version": "1.5.0",
            "_model_name": "DescriptionStyleModel",
            "_view_count": null,
            "_view_module": "@jupyter-widgets/base",
            "_view_module_version": "1.2.0",
            "_view_name": "StyleView",
            "description_width": ""
          }
        },
        "04453f3ad737472b84108065e137aa37": {
          "model_module": "@jupyter-widgets/controls",
          "model_module_version": "1.5.0",
          "model_name": "FloatProgressModel",
          "state": {
            "_dom_classes": [],
            "_model_module": "@jupyter-widgets/controls",
            "_model_module_version": "1.5.0",
            "_model_name": "FloatProgressModel",
            "_view_count": null,
            "_view_module": "@jupyter-widgets/controls",
            "_view_module_version": "1.5.0",
            "_view_name": "ProgressView",
            "bar_style": "success",
            "description": "",
            "description_tooltip": null,
            "layout": "IPY_MODEL_541ff91451b04c99937880b11aa1e7b5",
            "max": 112,
            "min": 0,
            "orientation": "horizontal",
            "style": "IPY_MODEL_6256cc967b7942fba4854392e853b7f1",
            "value": 112
          }
        },
        "08804a20e9cd451ba0a0b394b37d4704": {
          "model_module": "@jupyter-widgets/controls",
          "model_module_version": "1.5.0",
          "model_name": "DescriptionStyleModel",
          "state": {
            "_model_module": "@jupyter-widgets/controls",
            "_model_module_version": "1.5.0",
            "_model_name": "DescriptionStyleModel",
            "_view_count": null,
            "_view_module": "@jupyter-widgets/base",
            "_view_module_version": "1.2.0",
            "_view_name": "StyleView",
            "description_width": ""
          }
        },
        "0c7e61fc896f4f1fb1f80ff10f288280": {
          "model_module": "@jupyter-widgets/controls",
          "model_module_version": "1.5.0",
          "model_name": "DescriptionStyleModel",
          "state": {
            "_model_module": "@jupyter-widgets/controls",
            "_model_module_version": "1.5.0",
            "_model_name": "DescriptionStyleModel",
            "_view_count": null,
            "_view_module": "@jupyter-widgets/base",
            "_view_module_version": "1.2.0",
            "_view_name": "StyleView",
            "description_width": ""
          }
        },
        "131b7f22baaf40beb978353e56a0559a": {
          "model_module": "@jupyter-widgets/controls",
          "model_module_version": "1.5.0",
          "model_name": "HTMLModel",
          "state": {
            "_dom_classes": [],
            "_model_module": "@jupyter-widgets/controls",
            "_model_module_version": "1.5.0",
            "_model_name": "HTMLModel",
            "_view_count": null,
            "_view_module": "@jupyter-widgets/controls",
            "_view_module_version": "1.5.0",
            "_view_name": "HTMLView",
            "description": "",
            "description_tooltip": null,
            "layout": "IPY_MODEL_48d625af328141fe91d083814c385e83",
            "placeholder": "​",
            "style": "IPY_MODEL_aebac007d8e545549487df53b64461c1",
            "value": "Downloading: 100%"
          }
        },
        "1ab17b8360a2463e9e2c099cd53c25b7": {
          "model_module": "@jupyter-widgets/controls",
          "model_module_version": "1.5.0",
          "model_name": "DescriptionStyleModel",
          "state": {
            "_model_module": "@jupyter-widgets/controls",
            "_model_module_version": "1.5.0",
            "_model_name": "DescriptionStyleModel",
            "_view_count": null,
            "_view_module": "@jupyter-widgets/base",
            "_view_module_version": "1.2.0",
            "_view_name": "StyleView",
            "description_width": ""
          }
        },
        "2a2a489dc97e4885ba45a34e7da6ef9c": {
          "model_module": "@jupyter-widgets/controls",
          "model_module_version": "1.5.0",
          "model_name": "HBoxModel",
          "state": {
            "_dom_classes": [],
            "_model_module": "@jupyter-widgets/controls",
            "_model_module_version": "1.5.0",
            "_model_name": "HBoxModel",
            "_view_count": null,
            "_view_module": "@jupyter-widgets/controls",
            "_view_module_version": "1.5.0",
            "_view_name": "HBoxView",
            "box_style": "",
            "children": [
              "IPY_MODEL_d78fc1929306482f83bfa8ed4c07daa2",
              "IPY_MODEL_eb4e650cfd8541f9829df65a2e166d37",
              "IPY_MODEL_9188ffe2e93144b2af8c66f659fcf54f"
            ],
            "layout": "IPY_MODEL_a9bd178c1cc34a14bb21ccde50b8b924"
          }
        },
        "2a457f9e74244137b611f3453bfc75d6": {
          "model_module": "@jupyter-widgets/base",
          "model_module_version": "1.2.0",
          "model_name": "LayoutModel",
          "state": {
            "_model_module": "@jupyter-widgets/base",
            "_model_module_version": "1.2.0",
            "_model_name": "LayoutModel",
            "_view_count": null,
            "_view_module": "@jupyter-widgets/base",
            "_view_module_version": "1.2.0",
            "_view_name": "LayoutView",
            "align_content": null,
            "align_items": null,
            "align_self": null,
            "border": null,
            "bottom": null,
            "display": null,
            "flex": null,
            "flex_flow": null,
            "grid_area": null,
            "grid_auto_columns": null,
            "grid_auto_flow": null,
            "grid_auto_rows": null,
            "grid_column": null,
            "grid_gap": null,
            "grid_row": null,
            "grid_template_areas": null,
            "grid_template_columns": null,
            "grid_template_rows": null,
            "height": null,
            "justify_content": null,
            "justify_items": null,
            "left": null,
            "margin": null,
            "max_height": null,
            "max_width": null,
            "min_height": null,
            "min_width": null,
            "object_fit": null,
            "object_position": null,
            "order": null,
            "overflow": null,
            "overflow_x": null,
            "overflow_y": null,
            "padding": null,
            "right": null,
            "top": null,
            "visibility": null,
            "width": null
          }
        },
        "2adf969d1a214333ada1219481c1e80f": {
          "model_module": "@jupyter-widgets/base",
          "model_module_version": "1.2.0",
          "model_name": "LayoutModel",
          "state": {
            "_model_module": "@jupyter-widgets/base",
            "_model_module_version": "1.2.0",
            "_model_name": "LayoutModel",
            "_view_count": null,
            "_view_module": "@jupyter-widgets/base",
            "_view_module_version": "1.2.0",
            "_view_name": "LayoutView",
            "align_content": null,
            "align_items": null,
            "align_self": null,
            "border": null,
            "bottom": null,
            "display": null,
            "flex": null,
            "flex_flow": null,
            "grid_area": null,
            "grid_auto_columns": null,
            "grid_auto_flow": null,
            "grid_auto_rows": null,
            "grid_column": null,
            "grid_gap": null,
            "grid_row": null,
            "grid_template_areas": null,
            "grid_template_columns": null,
            "grid_template_rows": null,
            "height": null,
            "justify_content": null,
            "justify_items": null,
            "left": null,
            "margin": null,
            "max_height": null,
            "max_width": null,
            "min_height": null,
            "min_width": null,
            "object_fit": null,
            "object_position": null,
            "order": null,
            "overflow": null,
            "overflow_x": null,
            "overflow_y": null,
            "padding": null,
            "right": null,
            "top": null,
            "visibility": null,
            "width": null
          }
        },
        "2b1e575aab124a6ea3d0ab8fbb117f2b": {
          "model_module": "@jupyter-widgets/controls",
          "model_module_version": "1.5.0",
          "model_name": "HTMLModel",
          "state": {
            "_dom_classes": [],
            "_model_module": "@jupyter-widgets/controls",
            "_model_module_version": "1.5.0",
            "_model_name": "HTMLModel",
            "_view_count": null,
            "_view_module": "@jupyter-widgets/controls",
            "_view_module_version": "1.5.0",
            "_view_name": "HTMLView",
            "description": "",
            "description_tooltip": null,
            "layout": "IPY_MODEL_5fc2c471f5f04a4eab10167de3a60792",
            "placeholder": "​",
            "style": "IPY_MODEL_7e69d319a92a4fd18890c13e41138d45",
            "value": " 301/301 [00:00&lt;00:00, 7.52kB/s]"
          }
        },
        "2d2ca61c35e44eafb334715b0b832225": {
          "model_module": "@jupyter-widgets/base",
          "model_module_version": "1.2.0",
          "model_name": "LayoutModel",
          "state": {
            "_model_module": "@jupyter-widgets/base",
            "_model_module_version": "1.2.0",
            "_model_name": "LayoutModel",
            "_view_count": null,
            "_view_module": "@jupyter-widgets/base",
            "_view_module_version": "1.2.0",
            "_view_name": "LayoutView",
            "align_content": null,
            "align_items": null,
            "align_self": null,
            "border": null,
            "bottom": null,
            "display": null,
            "flex": null,
            "flex_flow": null,
            "grid_area": null,
            "grid_auto_columns": null,
            "grid_auto_flow": null,
            "grid_auto_rows": null,
            "grid_column": null,
            "grid_gap": null,
            "grid_row": null,
            "grid_template_areas": null,
            "grid_template_columns": null,
            "grid_template_rows": null,
            "height": null,
            "justify_content": null,
            "justify_items": null,
            "left": null,
            "margin": null,
            "max_height": null,
            "max_width": null,
            "min_height": null,
            "min_width": null,
            "object_fit": null,
            "object_position": null,
            "order": null,
            "overflow": null,
            "overflow_x": null,
            "overflow_y": null,
            "padding": null,
            "right": null,
            "top": null,
            "visibility": null,
            "width": null
          }
        },
        "3025bf2008bd408f927c318d06de0a69": {
          "model_module": "@jupyter-widgets/controls",
          "model_module_version": "1.5.0",
          "model_name": "HBoxModel",
          "state": {
            "_dom_classes": [],
            "_model_module": "@jupyter-widgets/controls",
            "_model_module_version": "1.5.0",
            "_model_name": "HBoxModel",
            "_view_count": null,
            "_view_module": "@jupyter-widgets/controls",
            "_view_module_version": "1.5.0",
            "_view_name": "HBoxView",
            "box_style": "",
            "children": [
              "IPY_MODEL_f25acd8ec94e4331ab3cfd435c5683f7",
              "IPY_MODEL_62ed7e03ecd1441b956870af7941f084",
              "IPY_MODEL_2b1e575aab124a6ea3d0ab8fbb117f2b"
            ],
            "layout": "IPY_MODEL_566e06d050c14a4b93adee492f509823"
          }
        },
        "318b0742e9a54a4b80571112c2a1c6fd": {
          "model_module": "@jupyter-widgets/base",
          "model_module_version": "1.2.0",
          "model_name": "LayoutModel",
          "state": {
            "_model_module": "@jupyter-widgets/base",
            "_model_module_version": "1.2.0",
            "_model_name": "LayoutModel",
            "_view_count": null,
            "_view_module": "@jupyter-widgets/base",
            "_view_module_version": "1.2.0",
            "_view_name": "LayoutView",
            "align_content": null,
            "align_items": null,
            "align_self": null,
            "border": null,
            "bottom": null,
            "display": null,
            "flex": null,
            "flex_flow": null,
            "grid_area": null,
            "grid_auto_columns": null,
            "grid_auto_flow": null,
            "grid_auto_rows": null,
            "grid_column": null,
            "grid_gap": null,
            "grid_row": null,
            "grid_template_areas": null,
            "grid_template_columns": null,
            "grid_template_rows": null,
            "height": null,
            "justify_content": null,
            "justify_items": null,
            "left": null,
            "margin": null,
            "max_height": null,
            "max_width": null,
            "min_height": null,
            "min_width": null,
            "object_fit": null,
            "object_position": null,
            "order": null,
            "overflow": null,
            "overflow_x": null,
            "overflow_y": null,
            "padding": null,
            "right": null,
            "top": null,
            "visibility": null,
            "width": null
          }
        },
        "35fcd23f5fef43deb71d115a4d6b1632": {
          "model_module": "@jupyter-widgets/controls",
          "model_module_version": "1.5.0",
          "model_name": "FloatProgressModel",
          "state": {
            "_dom_classes": [],
            "_model_module": "@jupyter-widgets/controls",
            "_model_module_version": "1.5.0",
            "_model_name": "FloatProgressModel",
            "_view_count": null,
            "_view_module": "@jupyter-widgets/controls",
            "_view_module_version": "1.5.0",
            "_view_name": "ProgressView",
            "bar_style": "success",
            "description": "",
            "description_tooltip": null,
            "layout": "IPY_MODEL_3da52bb66eec4ced9c9525cf248d7aaf",
            "max": 804,
            "min": 0,
            "orientation": "horizontal",
            "style": "IPY_MODEL_ee3b4fe2baa241abad0a4d69b6fc7535",
            "value": 804
          }
        },
        "3ce39e7e72b3403e919b26f0d8999d55": {
          "model_module": "@jupyter-widgets/base",
          "model_module_version": "1.2.0",
          "model_name": "LayoutModel",
          "state": {
            "_model_module": "@jupyter-widgets/base",
            "_model_module_version": "1.2.0",
            "_model_name": "LayoutModel",
            "_view_count": null,
            "_view_module": "@jupyter-widgets/base",
            "_view_module_version": "1.2.0",
            "_view_name": "LayoutView",
            "align_content": null,
            "align_items": null,
            "align_self": null,
            "border": null,
            "bottom": null,
            "display": null,
            "flex": null,
            "flex_flow": null,
            "grid_area": null,
            "grid_auto_columns": null,
            "grid_auto_flow": null,
            "grid_auto_rows": null,
            "grid_column": null,
            "grid_gap": null,
            "grid_row": null,
            "grid_template_areas": null,
            "grid_template_columns": null,
            "grid_template_rows": null,
            "height": null,
            "justify_content": null,
            "justify_items": null,
            "left": null,
            "margin": null,
            "max_height": null,
            "max_width": null,
            "min_height": null,
            "min_width": null,
            "object_fit": null,
            "object_position": null,
            "order": null,
            "overflow": null,
            "overflow_x": null,
            "overflow_y": null,
            "padding": null,
            "right": null,
            "top": null,
            "visibility": null,
            "width": null
          }
        },
        "3da52bb66eec4ced9c9525cf248d7aaf": {
          "model_module": "@jupyter-widgets/base",
          "model_module_version": "1.2.0",
          "model_name": "LayoutModel",
          "state": {
            "_model_module": "@jupyter-widgets/base",
            "_model_module_version": "1.2.0",
            "_model_name": "LayoutModel",
            "_view_count": null,
            "_view_module": "@jupyter-widgets/base",
            "_view_module_version": "1.2.0",
            "_view_name": "LayoutView",
            "align_content": null,
            "align_items": null,
            "align_self": null,
            "border": null,
            "bottom": null,
            "display": null,
            "flex": null,
            "flex_flow": null,
            "grid_area": null,
            "grid_auto_columns": null,
            "grid_auto_flow": null,
            "grid_auto_rows": null,
            "grid_column": null,
            "grid_gap": null,
            "grid_row": null,
            "grid_template_areas": null,
            "grid_template_columns": null,
            "grid_template_rows": null,
            "height": null,
            "justify_content": null,
            "justify_items": null,
            "left": null,
            "margin": null,
            "max_height": null,
            "max_width": null,
            "min_height": null,
            "min_width": null,
            "object_fit": null,
            "object_position": null,
            "order": null,
            "overflow": null,
            "overflow_x": null,
            "overflow_y": null,
            "padding": null,
            "right": null,
            "top": null,
            "visibility": null,
            "width": null
          }
        },
        "40c6753a8f3d41dc8fefb6157213e445": {
          "model_module": "@jupyter-widgets/base",
          "model_module_version": "1.2.0",
          "model_name": "LayoutModel",
          "state": {
            "_model_module": "@jupyter-widgets/base",
            "_model_module_version": "1.2.0",
            "_model_name": "LayoutModel",
            "_view_count": null,
            "_view_module": "@jupyter-widgets/base",
            "_view_module_version": "1.2.0",
            "_view_name": "LayoutView",
            "align_content": null,
            "align_items": null,
            "align_self": null,
            "border": null,
            "bottom": null,
            "display": null,
            "flex": null,
            "flex_flow": null,
            "grid_area": null,
            "grid_auto_columns": null,
            "grid_auto_flow": null,
            "grid_auto_rows": null,
            "grid_column": null,
            "grid_gap": null,
            "grid_row": null,
            "grid_template_areas": null,
            "grid_template_columns": null,
            "grid_template_rows": null,
            "height": null,
            "justify_content": null,
            "justify_items": null,
            "left": null,
            "margin": null,
            "max_height": null,
            "max_width": null,
            "min_height": null,
            "min_width": null,
            "object_fit": null,
            "object_position": null,
            "order": null,
            "overflow": null,
            "overflow_x": null,
            "overflow_y": null,
            "padding": null,
            "right": null,
            "top": null,
            "visibility": null,
            "width": null
          }
        },
        "4359559518a34baca64e4d3f9683bdfc": {
          "model_module": "@jupyter-widgets/controls",
          "model_module_version": "1.5.0",
          "model_name": "HTMLModel",
          "state": {
            "_dom_classes": [],
            "_model_module": "@jupyter-widgets/controls",
            "_model_module_version": "1.5.0",
            "_model_name": "HTMLModel",
            "_view_count": null,
            "_view_module": "@jupyter-widgets/controls",
            "_view_module_version": "1.5.0",
            "_view_name": "HTMLView",
            "description": "",
            "description_tooltip": null,
            "layout": "IPY_MODEL_a1610566d0864ef3bf856895e22de620",
            "placeholder": "​",
            "style": "IPY_MODEL_4493bac8511649fd8e733dce4a224e52",
            "value": " 112/112 [00:00&lt;00:00, 2.70kB/s]"
          }
        },
        "4493bac8511649fd8e733dce4a224e52": {
          "model_module": "@jupyter-widgets/controls",
          "model_module_version": "1.5.0",
          "model_name": "DescriptionStyleModel",
          "state": {
            "_model_module": "@jupyter-widgets/controls",
            "_model_module_version": "1.5.0",
            "_model_name": "DescriptionStyleModel",
            "_view_count": null,
            "_view_module": "@jupyter-widgets/base",
            "_view_module_version": "1.2.0",
            "_view_name": "StyleView",
            "description_width": ""
          }
        },
        "48d625af328141fe91d083814c385e83": {
          "model_module": "@jupyter-widgets/base",
          "model_module_version": "1.2.0",
          "model_name": "LayoutModel",
          "state": {
            "_model_module": "@jupyter-widgets/base",
            "_model_module_version": "1.2.0",
            "_model_name": "LayoutModel",
            "_view_count": null,
            "_view_module": "@jupyter-widgets/base",
            "_view_module_version": "1.2.0",
            "_view_name": "LayoutView",
            "align_content": null,
            "align_items": null,
            "align_self": null,
            "border": null,
            "bottom": null,
            "display": null,
            "flex": null,
            "flex_flow": null,
            "grid_area": null,
            "grid_auto_columns": null,
            "grid_auto_flow": null,
            "grid_auto_rows": null,
            "grid_column": null,
            "grid_gap": null,
            "grid_row": null,
            "grid_template_areas": null,
            "grid_template_columns": null,
            "grid_template_rows": null,
            "height": null,
            "justify_content": null,
            "justify_items": null,
            "left": null,
            "margin": null,
            "max_height": null,
            "max_width": null,
            "min_height": null,
            "min_width": null,
            "object_fit": null,
            "object_position": null,
            "order": null,
            "overflow": null,
            "overflow_x": null,
            "overflow_y": null,
            "padding": null,
            "right": null,
            "top": null,
            "visibility": null,
            "width": null
          }
        },
        "541ff91451b04c99937880b11aa1e7b5": {
          "model_module": "@jupyter-widgets/base",
          "model_module_version": "1.2.0",
          "model_name": "LayoutModel",
          "state": {
            "_model_module": "@jupyter-widgets/base",
            "_model_module_version": "1.2.0",
            "_model_name": "LayoutModel",
            "_view_count": null,
            "_view_module": "@jupyter-widgets/base",
            "_view_module_version": "1.2.0",
            "_view_name": "LayoutView",
            "align_content": null,
            "align_items": null,
            "align_self": null,
            "border": null,
            "bottom": null,
            "display": null,
            "flex": null,
            "flex_flow": null,
            "grid_area": null,
            "grid_auto_columns": null,
            "grid_auto_flow": null,
            "grid_auto_rows": null,
            "grid_column": null,
            "grid_gap": null,
            "grid_row": null,
            "grid_template_areas": null,
            "grid_template_columns": null,
            "grid_template_rows": null,
            "height": null,
            "justify_content": null,
            "justify_items": null,
            "left": null,
            "margin": null,
            "max_height": null,
            "max_width": null,
            "min_height": null,
            "min_width": null,
            "object_fit": null,
            "object_position": null,
            "order": null,
            "overflow": null,
            "overflow_x": null,
            "overflow_y": null,
            "padding": null,
            "right": null,
            "top": null,
            "visibility": null,
            "width": null
          }
        },
        "566e06d050c14a4b93adee492f509823": {
          "model_module": "@jupyter-widgets/base",
          "model_module_version": "1.2.0",
          "model_name": "LayoutModel",
          "state": {
            "_model_module": "@jupyter-widgets/base",
            "_model_module_version": "1.2.0",
            "_model_name": "LayoutModel",
            "_view_count": null,
            "_view_module": "@jupyter-widgets/base",
            "_view_module_version": "1.2.0",
            "_view_name": "LayoutView",
            "align_content": null,
            "align_items": null,
            "align_self": null,
            "border": null,
            "bottom": null,
            "display": null,
            "flex": null,
            "flex_flow": null,
            "grid_area": null,
            "grid_auto_columns": null,
            "grid_auto_flow": null,
            "grid_auto_rows": null,
            "grid_column": null,
            "grid_gap": null,
            "grid_row": null,
            "grid_template_areas": null,
            "grid_template_columns": null,
            "grid_template_rows": null,
            "height": null,
            "justify_content": null,
            "justify_items": null,
            "left": null,
            "margin": null,
            "max_height": null,
            "max_width": null,
            "min_height": null,
            "min_width": null,
            "object_fit": null,
            "object_position": null,
            "order": null,
            "overflow": null,
            "overflow_x": null,
            "overflow_y": null,
            "padding": null,
            "right": null,
            "top": null,
            "visibility": null,
            "width": null
          }
        },
        "5fc2c471f5f04a4eab10167de3a60792": {
          "model_module": "@jupyter-widgets/base",
          "model_module_version": "1.2.0",
          "model_name": "LayoutModel",
          "state": {
            "_model_module": "@jupyter-widgets/base",
            "_model_module_version": "1.2.0",
            "_model_name": "LayoutModel",
            "_view_count": null,
            "_view_module": "@jupyter-widgets/base",
            "_view_module_version": "1.2.0",
            "_view_name": "LayoutView",
            "align_content": null,
            "align_items": null,
            "align_self": null,
            "border": null,
            "bottom": null,
            "display": null,
            "flex": null,
            "flex_flow": null,
            "grid_area": null,
            "grid_auto_columns": null,
            "grid_auto_flow": null,
            "grid_auto_rows": null,
            "grid_column": null,
            "grid_gap": null,
            "grid_row": null,
            "grid_template_areas": null,
            "grid_template_columns": null,
            "grid_template_rows": null,
            "height": null,
            "justify_content": null,
            "justify_items": null,
            "left": null,
            "margin": null,
            "max_height": null,
            "max_width": null,
            "min_height": null,
            "min_width": null,
            "object_fit": null,
            "object_position": null,
            "order": null,
            "overflow": null,
            "overflow_x": null,
            "overflow_y": null,
            "padding": null,
            "right": null,
            "top": null,
            "visibility": null,
            "width": null
          }
        },
        "6256cc967b7942fba4854392e853b7f1": {
          "model_module": "@jupyter-widgets/controls",
          "model_module_version": "1.5.0",
          "model_name": "ProgressStyleModel",
          "state": {
            "_model_module": "@jupyter-widgets/controls",
            "_model_module_version": "1.5.0",
            "_model_name": "ProgressStyleModel",
            "_view_count": null,
            "_view_module": "@jupyter-widgets/base",
            "_view_module_version": "1.2.0",
            "_view_name": "StyleView",
            "bar_color": null,
            "description_width": ""
          }
        },
        "62ed7e03ecd1441b956870af7941f084": {
          "model_module": "@jupyter-widgets/controls",
          "model_module_version": "1.5.0",
          "model_name": "FloatProgressModel",
          "state": {
            "_dom_classes": [],
            "_model_module": "@jupyter-widgets/controls",
            "_model_module_version": "1.5.0",
            "_model_name": "FloatProgressModel",
            "_view_count": null,
            "_view_module": "@jupyter-widgets/controls",
            "_view_module_version": "1.5.0",
            "_view_name": "ProgressView",
            "bar_style": "success",
            "description": "",
            "description_tooltip": null,
            "layout": "IPY_MODEL_2adf969d1a214333ada1219481c1e80f",
            "max": 301,
            "min": 0,
            "orientation": "horizontal",
            "style": "IPY_MODEL_9509134deea944268a417ef9c70f355d",
            "value": 301
          }
        },
        "679bf81d681a40c88d2506b4cba70bbd": {
          "model_module": "@jupyter-widgets/base",
          "model_module_version": "1.2.0",
          "model_name": "LayoutModel",
          "state": {
            "_model_module": "@jupyter-widgets/base",
            "_model_module_version": "1.2.0",
            "_model_name": "LayoutModel",
            "_view_count": null,
            "_view_module": "@jupyter-widgets/base",
            "_view_module_version": "1.2.0",
            "_view_name": "LayoutView",
            "align_content": null,
            "align_items": null,
            "align_self": null,
            "border": null,
            "bottom": null,
            "display": null,
            "flex": null,
            "flex_flow": null,
            "grid_area": null,
            "grid_auto_columns": null,
            "grid_auto_flow": null,
            "grid_auto_rows": null,
            "grid_column": null,
            "grid_gap": null,
            "grid_row": null,
            "grid_template_areas": null,
            "grid_template_columns": null,
            "grid_template_rows": null,
            "height": null,
            "justify_content": null,
            "justify_items": null,
            "left": null,
            "margin": null,
            "max_height": null,
            "max_width": null,
            "min_height": null,
            "min_width": null,
            "object_fit": null,
            "object_position": null,
            "order": null,
            "overflow": null,
            "overflow_x": null,
            "overflow_y": null,
            "padding": null,
            "right": null,
            "top": null,
            "visibility": null,
            "width": null
          }
        },
        "6bed1e0a600e4833acb08a90ead16417": {
          "model_module": "@jupyter-widgets/controls",
          "model_module_version": "1.5.0",
          "model_name": "HTMLModel",
          "state": {
            "_dom_classes": [],
            "_model_module": "@jupyter-widgets/controls",
            "_model_module_version": "1.5.0",
            "_model_name": "HTMLModel",
            "_view_count": null,
            "_view_module": "@jupyter-widgets/controls",
            "_view_module_version": "1.5.0",
            "_view_name": "HTMLView",
            "description": "",
            "description_tooltip": null,
            "layout": "IPY_MODEL_f74c1ce533534e69bc95c62779b680c5",
            "placeholder": "​",
            "style": "IPY_MODEL_fcbc387fa6714a9da80ab115af725240",
            "value": " 804/804 [00:00&lt;00:00, 5.44kB/s]"
          }
        },
        "6f519045f8e9458c810b15b64f7c3fc7": {
          "model_module": "@jupyter-widgets/controls",
          "model_module_version": "1.5.0",
          "model_name": "DescriptionStyleModel",
          "state": {
            "_model_module": "@jupyter-widgets/controls",
            "_model_module_version": "1.5.0",
            "_model_name": "DescriptionStyleModel",
            "_view_count": null,
            "_view_module": "@jupyter-widgets/base",
            "_view_module_version": "1.2.0",
            "_view_name": "StyleView",
            "description_width": ""
          }
        },
        "6fc705200485490dbfb9c5376d540ef0": {
          "model_module": "@jupyter-widgets/controls",
          "model_module_version": "1.5.0",
          "model_name": "HTMLModel",
          "state": {
            "_dom_classes": [],
            "_model_module": "@jupyter-widgets/controls",
            "_model_module_version": "1.5.0",
            "_model_name": "HTMLModel",
            "_view_count": null,
            "_view_module": "@jupyter-widgets/controls",
            "_view_module_version": "1.5.0",
            "_view_name": "HTMLView",
            "description": "",
            "description_tooltip": null,
            "layout": "IPY_MODEL_3ce39e7e72b3403e919b26f0d8999d55",
            "placeholder": "​",
            "style": "IPY_MODEL_0c7e61fc896f4f1fb1f80ff10f288280",
            "value": " 107k/107k [00:00&lt;00:00, 1.00MB/s]"
          }
        },
        "7e69d319a92a4fd18890c13e41138d45": {
          "model_module": "@jupyter-widgets/controls",
          "model_module_version": "1.5.0",
          "model_name": "DescriptionStyleModel",
          "state": {
            "_model_module": "@jupyter-widgets/controls",
            "_model_module_version": "1.5.0",
            "_model_name": "DescriptionStyleModel",
            "_view_count": null,
            "_view_module": "@jupyter-widgets/base",
            "_view_module_version": "1.2.0",
            "_view_name": "StyleView",
            "description_width": ""
          }
        },
        "846612c4db3a4b258d184f285001e861": {
          "model_module": "@jupyter-widgets/controls",
          "model_module_version": "1.5.0",
          "model_name": "HTMLModel",
          "state": {
            "_dom_classes": [],
            "_model_module": "@jupyter-widgets/controls",
            "_model_module_version": "1.5.0",
            "_model_name": "HTMLModel",
            "_view_count": null,
            "_view_module": "@jupyter-widgets/controls",
            "_view_module_version": "1.5.0",
            "_view_name": "HTMLView",
            "description": "",
            "description_tooltip": null,
            "layout": "IPY_MODEL_2d2ca61c35e44eafb334715b0b832225",
            "placeholder": "​",
            "style": "IPY_MODEL_1ab17b8360a2463e9e2c099cd53c25b7",
            "value": "Downloading: 100%"
          }
        },
        "8fb19949092f436c81d39446c8cc9042": {
          "model_module": "@jupyter-widgets/controls",
          "model_module_version": "1.5.0",
          "model_name": "ProgressStyleModel",
          "state": {
            "_model_module": "@jupyter-widgets/controls",
            "_model_module_version": "1.5.0",
            "_model_name": "ProgressStyleModel",
            "_view_count": null,
            "_view_module": "@jupyter-widgets/base",
            "_view_module_version": "1.2.0",
            "_view_name": "StyleView",
            "bar_color": null,
            "description_width": ""
          }
        },
        "9188ffe2e93144b2af8c66f659fcf54f": {
          "model_module": "@jupyter-widgets/controls",
          "model_module_version": "1.5.0",
          "model_name": "HTMLModel",
          "state": {
            "_dom_classes": [],
            "_model_module": "@jupyter-widgets/controls",
            "_model_module_version": "1.5.0",
            "_model_name": "HTMLModel",
            "_view_count": null,
            "_view_module": "@jupyter-widgets/controls",
            "_view_module_version": "1.5.0",
            "_view_name": "HTMLView",
            "description": "",
            "description_tooltip": null,
            "layout": "IPY_MODEL_318b0742e9a54a4b80571112c2a1c6fd",
            "placeholder": "​",
            "style": "IPY_MODEL_08804a20e9cd451ba0a0b394b37d4704",
            "value": " 388M/388M [00:21&lt;00:00, 27.3MB/s]"
          }
        },
        "94dbea84de9a4f5d9f87c08b427f88c4": {
          "model_module": "@jupyter-widgets/controls",
          "model_module_version": "1.5.0",
          "model_name": "HTMLModel",
          "state": {
            "_dom_classes": [],
            "_model_module": "@jupyter-widgets/controls",
            "_model_module_version": "1.5.0",
            "_model_name": "HTMLModel",
            "_view_count": null,
            "_view_module": "@jupyter-widgets/controls",
            "_view_module_version": "1.5.0",
            "_view_name": "HTMLView",
            "description": "",
            "description_tooltip": null,
            "layout": "IPY_MODEL_679bf81d681a40c88d2506b4cba70bbd",
            "placeholder": "​",
            "style": "IPY_MODEL_020143f1f25147efbb863caa747654c8",
            "value": "Downloading: 100%"
          }
        },
        "9509134deea944268a417ef9c70f355d": {
          "model_module": "@jupyter-widgets/controls",
          "model_module_version": "1.5.0",
          "model_name": "ProgressStyleModel",
          "state": {
            "_model_module": "@jupyter-widgets/controls",
            "_model_module_version": "1.5.0",
            "_model_name": "ProgressStyleModel",
            "_view_count": null,
            "_view_module": "@jupyter-widgets/base",
            "_view_module_version": "1.2.0",
            "_view_name": "StyleView",
            "bar_color": null,
            "description_width": ""
          }
        },
        "95382e8d4c89445698a12fcdd8851bdb": {
          "model_module": "@jupyter-widgets/base",
          "model_module_version": "1.2.0",
          "model_name": "LayoutModel",
          "state": {
            "_model_module": "@jupyter-widgets/base",
            "_model_module_version": "1.2.0",
            "_model_name": "LayoutModel",
            "_view_count": null,
            "_view_module": "@jupyter-widgets/base",
            "_view_module_version": "1.2.0",
            "_view_name": "LayoutView",
            "align_content": null,
            "align_items": null,
            "align_self": null,
            "border": null,
            "bottom": null,
            "display": null,
            "flex": null,
            "flex_flow": null,
            "grid_area": null,
            "grid_auto_columns": null,
            "grid_auto_flow": null,
            "grid_auto_rows": null,
            "grid_column": null,
            "grid_gap": null,
            "grid_row": null,
            "grid_template_areas": null,
            "grid_template_columns": null,
            "grid_template_rows": null,
            "height": null,
            "justify_content": null,
            "justify_items": null,
            "left": null,
            "margin": null,
            "max_height": null,
            "max_width": null,
            "min_height": null,
            "min_width": null,
            "object_fit": null,
            "object_position": null,
            "order": null,
            "overflow": null,
            "overflow_x": null,
            "overflow_y": null,
            "padding": null,
            "right": null,
            "top": null,
            "visibility": null,
            "width": null
          }
        },
        "a1610566d0864ef3bf856895e22de620": {
          "model_module": "@jupyter-widgets/base",
          "model_module_version": "1.2.0",
          "model_name": "LayoutModel",
          "state": {
            "_model_module": "@jupyter-widgets/base",
            "_model_module_version": "1.2.0",
            "_model_name": "LayoutModel",
            "_view_count": null,
            "_view_module": "@jupyter-widgets/base",
            "_view_module_version": "1.2.0",
            "_view_name": "LayoutView",
            "align_content": null,
            "align_items": null,
            "align_self": null,
            "border": null,
            "bottom": null,
            "display": null,
            "flex": null,
            "flex_flow": null,
            "grid_area": null,
            "grid_auto_columns": null,
            "grid_auto_flow": null,
            "grid_auto_rows": null,
            "grid_column": null,
            "grid_gap": null,
            "grid_row": null,
            "grid_template_areas": null,
            "grid_template_columns": null,
            "grid_template_rows": null,
            "height": null,
            "justify_content": null,
            "justify_items": null,
            "left": null,
            "margin": null,
            "max_height": null,
            "max_width": null,
            "min_height": null,
            "min_width": null,
            "object_fit": null,
            "object_position": null,
            "order": null,
            "overflow": null,
            "overflow_x": null,
            "overflow_y": null,
            "padding": null,
            "right": null,
            "top": null,
            "visibility": null,
            "width": null
          }
        },
        "a233e5ffd16b444899d3b455f8a164f8": {
          "model_module": "@jupyter-widgets/base",
          "model_module_version": "1.2.0",
          "model_name": "LayoutModel",
          "state": {
            "_model_module": "@jupyter-widgets/base",
            "_model_module_version": "1.2.0",
            "_model_name": "LayoutModel",
            "_view_count": null,
            "_view_module": "@jupyter-widgets/base",
            "_view_module_version": "1.2.0",
            "_view_name": "LayoutView",
            "align_content": null,
            "align_items": null,
            "align_self": null,
            "border": null,
            "bottom": null,
            "display": null,
            "flex": null,
            "flex_flow": null,
            "grid_area": null,
            "grid_auto_columns": null,
            "grid_auto_flow": null,
            "grid_auto_rows": null,
            "grid_column": null,
            "grid_gap": null,
            "grid_row": null,
            "grid_template_areas": null,
            "grid_template_columns": null,
            "grid_template_rows": null,
            "height": null,
            "justify_content": null,
            "justify_items": null,
            "left": null,
            "margin": null,
            "max_height": null,
            "max_width": null,
            "min_height": null,
            "min_width": null,
            "object_fit": null,
            "object_position": null,
            "order": null,
            "overflow": null,
            "overflow_x": null,
            "overflow_y": null,
            "padding": null,
            "right": null,
            "top": null,
            "visibility": null,
            "width": null
          }
        },
        "a9bd178c1cc34a14bb21ccde50b8b924": {
          "model_module": "@jupyter-widgets/base",
          "model_module_version": "1.2.0",
          "model_name": "LayoutModel",
          "state": {
            "_model_module": "@jupyter-widgets/base",
            "_model_module_version": "1.2.0",
            "_model_name": "LayoutModel",
            "_view_count": null,
            "_view_module": "@jupyter-widgets/base",
            "_view_module_version": "1.2.0",
            "_view_name": "LayoutView",
            "align_content": null,
            "align_items": null,
            "align_self": null,
            "border": null,
            "bottom": null,
            "display": null,
            "flex": null,
            "flex_flow": null,
            "grid_area": null,
            "grid_auto_columns": null,
            "grid_auto_flow": null,
            "grid_auto_rows": null,
            "grid_column": null,
            "grid_gap": null,
            "grid_row": null,
            "grid_template_areas": null,
            "grid_template_columns": null,
            "grid_template_rows": null,
            "height": null,
            "justify_content": null,
            "justify_items": null,
            "left": null,
            "margin": null,
            "max_height": null,
            "max_width": null,
            "min_height": null,
            "min_width": null,
            "object_fit": null,
            "object_position": null,
            "order": null,
            "overflow": null,
            "overflow_x": null,
            "overflow_y": null,
            "padding": null,
            "right": null,
            "top": null,
            "visibility": null,
            "width": null
          }
        },
        "aebac007d8e545549487df53b64461c1": {
          "model_module": "@jupyter-widgets/controls",
          "model_module_version": "1.5.0",
          "model_name": "DescriptionStyleModel",
          "state": {
            "_model_module": "@jupyter-widgets/controls",
            "_model_module_version": "1.5.0",
            "_model_name": "DescriptionStyleModel",
            "_view_count": null,
            "_view_module": "@jupyter-widgets/base",
            "_view_module_version": "1.2.0",
            "_view_name": "StyleView",
            "description_width": ""
          }
        },
        "c469535195cc4f289e2271c6b18e8e61": {
          "model_module": "@jupyter-widgets/base",
          "model_module_version": "1.2.0",
          "model_name": "LayoutModel",
          "state": {
            "_model_module": "@jupyter-widgets/base",
            "_model_module_version": "1.2.0",
            "_model_name": "LayoutModel",
            "_view_count": null,
            "_view_module": "@jupyter-widgets/base",
            "_view_module_version": "1.2.0",
            "_view_name": "LayoutView",
            "align_content": null,
            "align_items": null,
            "align_self": null,
            "border": null,
            "bottom": null,
            "display": null,
            "flex": null,
            "flex_flow": null,
            "grid_area": null,
            "grid_auto_columns": null,
            "grid_auto_flow": null,
            "grid_auto_rows": null,
            "grid_column": null,
            "grid_gap": null,
            "grid_row": null,
            "grid_template_areas": null,
            "grid_template_columns": null,
            "grid_template_rows": null,
            "height": null,
            "justify_content": null,
            "justify_items": null,
            "left": null,
            "margin": null,
            "max_height": null,
            "max_width": null,
            "min_height": null,
            "min_width": null,
            "object_fit": null,
            "object_position": null,
            "order": null,
            "overflow": null,
            "overflow_x": null,
            "overflow_y": null,
            "padding": null,
            "right": null,
            "top": null,
            "visibility": null,
            "width": null
          }
        },
        "c9b9f5ecfa4b4f728bcc9524742a6b3b": {
          "model_module": "@jupyter-widgets/controls",
          "model_module_version": "1.5.0",
          "model_name": "HBoxModel",
          "state": {
            "_dom_classes": [],
            "_model_module": "@jupyter-widgets/controls",
            "_model_module_version": "1.5.0",
            "_model_name": "HBoxModel",
            "_view_count": null,
            "_view_module": "@jupyter-widgets/controls",
            "_view_module_version": "1.5.0",
            "_view_name": "HBoxView",
            "box_style": "",
            "children": [
              "IPY_MODEL_131b7f22baaf40beb978353e56a0559a",
              "IPY_MODEL_fe3bb1c6879943fc92b8fbf6eafe0fa5",
              "IPY_MODEL_6fc705200485490dbfb9c5376d540ef0"
            ],
            "layout": "IPY_MODEL_95382e8d4c89445698a12fcdd8851bdb"
          }
        },
        "ceb71b9fd7c94a14905d15e97779dbf2": {
          "model_module": "@jupyter-widgets/base",
          "model_module_version": "1.2.0",
          "model_name": "LayoutModel",
          "state": {
            "_model_module": "@jupyter-widgets/base",
            "_model_module_version": "1.2.0",
            "_model_name": "LayoutModel",
            "_view_count": null,
            "_view_module": "@jupyter-widgets/base",
            "_view_module_version": "1.2.0",
            "_view_name": "LayoutView",
            "align_content": null,
            "align_items": null,
            "align_self": null,
            "border": null,
            "bottom": null,
            "display": null,
            "flex": null,
            "flex_flow": null,
            "grid_area": null,
            "grid_auto_columns": null,
            "grid_auto_flow": null,
            "grid_auto_rows": null,
            "grid_column": null,
            "grid_gap": null,
            "grid_row": null,
            "grid_template_areas": null,
            "grid_template_columns": null,
            "grid_template_rows": null,
            "height": null,
            "justify_content": null,
            "justify_items": null,
            "left": null,
            "margin": null,
            "max_height": null,
            "max_width": null,
            "min_height": null,
            "min_width": null,
            "object_fit": null,
            "object_position": null,
            "order": null,
            "overflow": null,
            "overflow_x": null,
            "overflow_y": null,
            "padding": null,
            "right": null,
            "top": null,
            "visibility": null,
            "width": null
          }
        },
        "d4a72f12932e4268a6b98c004d2206bf": {
          "model_module": "@jupyter-widgets/controls",
          "model_module_version": "1.5.0",
          "model_name": "HBoxModel",
          "state": {
            "_dom_classes": [],
            "_model_module": "@jupyter-widgets/controls",
            "_model_module_version": "1.5.0",
            "_model_name": "HBoxModel",
            "_view_count": null,
            "_view_module": "@jupyter-widgets/controls",
            "_view_module_version": "1.5.0",
            "_view_name": "HBoxView",
            "box_style": "",
            "children": [
              "IPY_MODEL_94dbea84de9a4f5d9f87c08b427f88c4",
              "IPY_MODEL_04453f3ad737472b84108065e137aa37",
              "IPY_MODEL_4359559518a34baca64e4d3f9683bdfc"
            ],
            "layout": "IPY_MODEL_2a457f9e74244137b611f3453bfc75d6"
          }
        },
        "d78fc1929306482f83bfa8ed4c07daa2": {
          "model_module": "@jupyter-widgets/controls",
          "model_module_version": "1.5.0",
          "model_name": "HTMLModel",
          "state": {
            "_dom_classes": [],
            "_model_module": "@jupyter-widgets/controls",
            "_model_module_version": "1.5.0",
            "_model_name": "HTMLModel",
            "_view_count": null,
            "_view_module": "@jupyter-widgets/controls",
            "_view_module_version": "1.5.0",
            "_view_name": "HTMLView",
            "description": "",
            "description_tooltip": null,
            "layout": "IPY_MODEL_ceb71b9fd7c94a14905d15e97779dbf2",
            "placeholder": "​",
            "style": "IPY_MODEL_6f519045f8e9458c810b15b64f7c3fc7",
            "value": "Downloading: 100%"
          }
        },
        "e3f0a5637bf74424b9d01b27a4ad51ef": {
          "model_module": "@jupyter-widgets/controls",
          "model_module_version": "1.5.0",
          "model_name": "ProgressStyleModel",
          "state": {
            "_model_module": "@jupyter-widgets/controls",
            "_model_module_version": "1.5.0",
            "_model_name": "ProgressStyleModel",
            "_view_count": null,
            "_view_module": "@jupyter-widgets/base",
            "_view_module_version": "1.2.0",
            "_view_name": "StyleView",
            "bar_color": null,
            "description_width": ""
          }
        },
        "eb4e650cfd8541f9829df65a2e166d37": {
          "model_module": "@jupyter-widgets/controls",
          "model_module_version": "1.5.0",
          "model_name": "FloatProgressModel",
          "state": {
            "_dom_classes": [],
            "_model_module": "@jupyter-widgets/controls",
            "_model_module_version": "1.5.0",
            "_model_name": "FloatProgressModel",
            "_view_count": null,
            "_view_module": "@jupyter-widgets/controls",
            "_view_module_version": "1.5.0",
            "_view_name": "ProgressView",
            "bar_style": "success",
            "description": "",
            "description_tooltip": null,
            "layout": "IPY_MODEL_ffe2c5c5abb748c282d682428b5f4d9b",
            "max": 406802935,
            "min": 0,
            "orientation": "horizontal",
            "style": "IPY_MODEL_8fb19949092f436c81d39446c8cc9042",
            "value": 406802935
          }
        },
        "ee3b4fe2baa241abad0a4d69b6fc7535": {
          "model_module": "@jupyter-widgets/controls",
          "model_module_version": "1.5.0",
          "model_name": "ProgressStyleModel",
          "state": {
            "_model_module": "@jupyter-widgets/controls",
            "_model_module_version": "1.5.0",
            "_model_name": "ProgressStyleModel",
            "_view_count": null,
            "_view_module": "@jupyter-widgets/base",
            "_view_module_version": "1.2.0",
            "_view_name": "StyleView",
            "bar_color": null,
            "description_width": ""
          }
        },
        "f129daa54c88441d882ac9e24b5bf83d": {
          "model_module": "@jupyter-widgets/controls",
          "model_module_version": "1.5.0",
          "model_name": "DescriptionStyleModel",
          "state": {
            "_model_module": "@jupyter-widgets/controls",
            "_model_module_version": "1.5.0",
            "_model_name": "DescriptionStyleModel",
            "_view_count": null,
            "_view_module": "@jupyter-widgets/base",
            "_view_module_version": "1.2.0",
            "_view_name": "StyleView",
            "description_width": ""
          }
        },
        "f25acd8ec94e4331ab3cfd435c5683f7": {
          "model_module": "@jupyter-widgets/controls",
          "model_module_version": "1.5.0",
          "model_name": "HTMLModel",
          "state": {
            "_dom_classes": [],
            "_model_module": "@jupyter-widgets/controls",
            "_model_module_version": "1.5.0",
            "_model_name": "HTMLModel",
            "_view_count": null,
            "_view_module": "@jupyter-widgets/controls",
            "_view_module_version": "1.5.0",
            "_view_name": "HTMLView",
            "description": "",
            "description_tooltip": null,
            "layout": "IPY_MODEL_c469535195cc4f289e2271c6b18e8e61",
            "placeholder": "​",
            "style": "IPY_MODEL_f129daa54c88441d882ac9e24b5bf83d",
            "value": "Downloading: 100%"
          }
        },
        "f74c1ce533534e69bc95c62779b680c5": {
          "model_module": "@jupyter-widgets/base",
          "model_module_version": "1.2.0",
          "model_name": "LayoutModel",
          "state": {
            "_model_module": "@jupyter-widgets/base",
            "_model_module_version": "1.2.0",
            "_model_name": "LayoutModel",
            "_view_count": null,
            "_view_module": "@jupyter-widgets/base",
            "_view_module_version": "1.2.0",
            "_view_name": "LayoutView",
            "align_content": null,
            "align_items": null,
            "align_self": null,
            "border": null,
            "bottom": null,
            "display": null,
            "flex": null,
            "flex_flow": null,
            "grid_area": null,
            "grid_auto_columns": null,
            "grid_auto_flow": null,
            "grid_auto_rows": null,
            "grid_column": null,
            "grid_gap": null,
            "grid_row": null,
            "grid_template_areas": null,
            "grid_template_columns": null,
            "grid_template_rows": null,
            "height": null,
            "justify_content": null,
            "justify_items": null,
            "left": null,
            "margin": null,
            "max_height": null,
            "max_width": null,
            "min_height": null,
            "min_width": null,
            "object_fit": null,
            "object_position": null,
            "order": null,
            "overflow": null,
            "overflow_x": null,
            "overflow_y": null,
            "padding": null,
            "right": null,
            "top": null,
            "visibility": null,
            "width": null
          }
        },
        "f7c291c7d3034a58aefcc71f1f2e3882": {
          "model_module": "@jupyter-widgets/controls",
          "model_module_version": "1.5.0",
          "model_name": "HBoxModel",
          "state": {
            "_dom_classes": [],
            "_model_module": "@jupyter-widgets/controls",
            "_model_module_version": "1.5.0",
            "_model_name": "HBoxModel",
            "_view_count": null,
            "_view_module": "@jupyter-widgets/controls",
            "_view_module_version": "1.5.0",
            "_view_name": "HBoxView",
            "box_style": "",
            "children": [
              "IPY_MODEL_846612c4db3a4b258d184f285001e861",
              "IPY_MODEL_35fcd23f5fef43deb71d115a4d6b1632",
              "IPY_MODEL_6bed1e0a600e4833acb08a90ead16417"
            ],
            "layout": "IPY_MODEL_40c6753a8f3d41dc8fefb6157213e445"
          }
        },
        "fcbc387fa6714a9da80ab115af725240": {
          "model_module": "@jupyter-widgets/controls",
          "model_module_version": "1.5.0",
          "model_name": "DescriptionStyleModel",
          "state": {
            "_model_module": "@jupyter-widgets/controls",
            "_model_module_version": "1.5.0",
            "_model_name": "DescriptionStyleModel",
            "_view_count": null,
            "_view_module": "@jupyter-widgets/base",
            "_view_module_version": "1.2.0",
            "_view_name": "StyleView",
            "description_width": ""
          }
        },
        "fe3bb1c6879943fc92b8fbf6eafe0fa5": {
          "model_module": "@jupyter-widgets/controls",
          "model_module_version": "1.5.0",
          "model_name": "FloatProgressModel",
          "state": {
            "_dom_classes": [],
            "_model_module": "@jupyter-widgets/controls",
            "_model_module_version": "1.5.0",
            "_model_name": "FloatProgressModel",
            "_view_count": null,
            "_view_module": "@jupyter-widgets/controls",
            "_view_module_version": "1.5.0",
            "_view_name": "ProgressView",
            "bar_style": "success",
            "description": "",
            "description_tooltip": null,
            "layout": "IPY_MODEL_a233e5ffd16b444899d3b455f8a164f8",
            "max": 109540,
            "min": 0,
            "orientation": "horizontal",
            "style": "IPY_MODEL_e3f0a5637bf74424b9d01b27a4ad51ef",
            "value": 109540
          }
        },
        "ffe2c5c5abb748c282d682428b5f4d9b": {
          "model_module": "@jupyter-widgets/base",
          "model_module_version": "1.2.0",
          "model_name": "LayoutModel",
          "state": {
            "_model_module": "@jupyter-widgets/base",
            "_model_module_version": "1.2.0",
            "_model_name": "LayoutModel",
            "_view_count": null,
            "_view_module": "@jupyter-widgets/base",
            "_view_module_version": "1.2.0",
            "_view_name": "LayoutView",
            "align_content": null,
            "align_items": null,
            "align_self": null,
            "border": null,
            "bottom": null,
            "display": null,
            "flex": null,
            "flex_flow": null,
            "grid_area": null,
            "grid_auto_columns": null,
            "grid_auto_flow": null,
            "grid_auto_rows": null,
            "grid_column": null,
            "grid_gap": null,
            "grid_row": null,
            "grid_template_areas": null,
            "grid_template_columns": null,
            "grid_template_rows": null,
            "height": null,
            "justify_content": null,
            "justify_items": null,
            "left": null,
            "margin": null,
            "max_height": null,
            "max_width": null,
            "min_height": null,
            "min_width": null,
            "object_fit": null,
            "object_position": null,
            "order": null,
            "overflow": null,
            "overflow_x": null,
            "overflow_y": null,
            "padding": null,
            "right": null,
            "top": null,
            "visibility": null,
            "width": null
          }
        },
        "ed576090c6554cafa4468e7b9b071f41": {
          "model_module": "@jupyter-widgets/controls",
          "model_name": "HBoxModel",
          "model_module_version": "1.5.0",
          "state": {
            "_view_name": "HBoxView",
            "_dom_classes": [],
            "_model_name": "HBoxModel",
            "_view_module": "@jupyter-widgets/controls",
            "_model_module_version": "1.5.0",
            "_view_count": null,
            "_view_module_version": "1.5.0",
            "box_style": "",
            "layout": "IPY_MODEL_000a82dc7f3e47188589d20a2eb4593d",
            "_model_module": "@jupyter-widgets/controls",
            "children": [
              "IPY_MODEL_d6915db1f61d40109c2b69e4ed7be176",
              "IPY_MODEL_44ecff5bec22446ab75aaa2aac1778b8",
              "IPY_MODEL_324a570e83a64f738bbe3e76a20c05d3"
            ]
          }
        },
        "000a82dc7f3e47188589d20a2eb4593d": {
          "model_module": "@jupyter-widgets/base",
          "model_name": "LayoutModel",
          "model_module_version": "1.2.0",
          "state": {
            "_view_name": "LayoutView",
            "grid_template_rows": null,
            "right": null,
            "justify_content": null,
            "_view_module": "@jupyter-widgets/base",
            "overflow": null,
            "_model_module_version": "1.2.0",
            "_view_count": null,
            "flex_flow": null,
            "width": null,
            "min_width": null,
            "border": null,
            "align_items": null,
            "bottom": null,
            "_model_module": "@jupyter-widgets/base",
            "top": null,
            "grid_column": null,
            "overflow_y": null,
            "overflow_x": null,
            "grid_auto_flow": null,
            "grid_area": null,
            "grid_template_columns": null,
            "flex": null,
            "_model_name": "LayoutModel",
            "justify_items": null,
            "grid_row": null,
            "max_height": null,
            "align_content": null,
            "visibility": null,
            "align_self": null,
            "height": null,
            "min_height": null,
            "padding": null,
            "grid_auto_rows": null,
            "grid_gap": null,
            "max_width": null,
            "order": null,
            "_view_module_version": "1.2.0",
            "grid_template_areas": null,
            "object_position": null,
            "object_fit": null,
            "grid_auto_columns": null,
            "margin": null,
            "display": null,
            "left": null
          }
        },
        "d6915db1f61d40109c2b69e4ed7be176": {
          "model_module": "@jupyter-widgets/controls",
          "model_name": "HTMLModel",
          "model_module_version": "1.5.0",
          "state": {
            "_view_name": "HTMLView",
            "style": "IPY_MODEL_3b537b5b611c4ead9d814bcb55a8ab37",
            "_dom_classes": [],
            "description": "",
            "_model_name": "HTMLModel",
            "placeholder": "​",
            "_view_module": "@jupyter-widgets/controls",
            "_model_module_version": "1.5.0",
            "value": "Downloading: 100%",
            "_view_count": null,
            "_view_module_version": "1.5.0",
            "description_tooltip": null,
            "_model_module": "@jupyter-widgets/controls",
            "layout": "IPY_MODEL_e991e283307941a4b05362fa5b3158e1"
          }
        },
        "44ecff5bec22446ab75aaa2aac1778b8": {
          "model_module": "@jupyter-widgets/controls",
          "model_name": "FloatProgressModel",
          "model_module_version": "1.5.0",
          "state": {
            "_view_name": "ProgressView",
            "style": "IPY_MODEL_b79c609945ba43d296699af6424c12cc",
            "_dom_classes": [],
            "description": "",
            "_model_name": "FloatProgressModel",
            "bar_style": "success",
            "max": 29,
            "_view_module": "@jupyter-widgets/controls",
            "_model_module_version": "1.5.0",
            "value": 29,
            "_view_count": null,
            "_view_module_version": "1.5.0",
            "orientation": "horizontal",
            "min": 0,
            "description_tooltip": null,
            "_model_module": "@jupyter-widgets/controls",
            "layout": "IPY_MODEL_9b2b101dd8324ab5a63fc7bfe7142f37"
          }
        },
        "324a570e83a64f738bbe3e76a20c05d3": {
          "model_module": "@jupyter-widgets/controls",
          "model_name": "HTMLModel",
          "model_module_version": "1.5.0",
          "state": {
            "_view_name": "HTMLView",
            "style": "IPY_MODEL_95b2d00db1824a1a9e990a6757709f23",
            "_dom_classes": [],
            "description": "",
            "_model_name": "HTMLModel",
            "placeholder": "​",
            "_view_module": "@jupyter-widgets/controls",
            "_model_module_version": "1.5.0",
            "value": " 29.0/29.0 [00:00&lt;00:00, 459B/s]",
            "_view_count": null,
            "_view_module_version": "1.5.0",
            "description_tooltip": null,
            "_model_module": "@jupyter-widgets/controls",
            "layout": "IPY_MODEL_49820ed0dadd4b0987dac58c372eb665"
          }
        },
        "3b537b5b611c4ead9d814bcb55a8ab37": {
          "model_module": "@jupyter-widgets/controls",
          "model_name": "DescriptionStyleModel",
          "model_module_version": "1.5.0",
          "state": {
            "_view_name": "StyleView",
            "_model_name": "DescriptionStyleModel",
            "description_width": "",
            "_view_module": "@jupyter-widgets/base",
            "_model_module_version": "1.5.0",
            "_view_count": null,
            "_view_module_version": "1.2.0",
            "_model_module": "@jupyter-widgets/controls"
          }
        },
        "e991e283307941a4b05362fa5b3158e1": {
          "model_module": "@jupyter-widgets/base",
          "model_name": "LayoutModel",
          "model_module_version": "1.2.0",
          "state": {
            "_view_name": "LayoutView",
            "grid_template_rows": null,
            "right": null,
            "justify_content": null,
            "_view_module": "@jupyter-widgets/base",
            "overflow": null,
            "_model_module_version": "1.2.0",
            "_view_count": null,
            "flex_flow": null,
            "width": null,
            "min_width": null,
            "border": null,
            "align_items": null,
            "bottom": null,
            "_model_module": "@jupyter-widgets/base",
            "top": null,
            "grid_column": null,
            "overflow_y": null,
            "overflow_x": null,
            "grid_auto_flow": null,
            "grid_area": null,
            "grid_template_columns": null,
            "flex": null,
            "_model_name": "LayoutModel",
            "justify_items": null,
            "grid_row": null,
            "max_height": null,
            "align_content": null,
            "visibility": null,
            "align_self": null,
            "height": null,
            "min_height": null,
            "padding": null,
            "grid_auto_rows": null,
            "grid_gap": null,
            "max_width": null,
            "order": null,
            "_view_module_version": "1.2.0",
            "grid_template_areas": null,
            "object_position": null,
            "object_fit": null,
            "grid_auto_columns": null,
            "margin": null,
            "display": null,
            "left": null
          }
        },
        "b79c609945ba43d296699af6424c12cc": {
          "model_module": "@jupyter-widgets/controls",
          "model_name": "ProgressStyleModel",
          "model_module_version": "1.5.0",
          "state": {
            "_view_name": "StyleView",
            "_model_name": "ProgressStyleModel",
            "description_width": "",
            "_view_module": "@jupyter-widgets/base",
            "_model_module_version": "1.5.0",
            "_view_count": null,
            "_view_module_version": "1.2.0",
            "bar_color": null,
            "_model_module": "@jupyter-widgets/controls"
          }
        },
        "9b2b101dd8324ab5a63fc7bfe7142f37": {
          "model_module": "@jupyter-widgets/base",
          "model_name": "LayoutModel",
          "model_module_version": "1.2.0",
          "state": {
            "_view_name": "LayoutView",
            "grid_template_rows": null,
            "right": null,
            "justify_content": null,
            "_view_module": "@jupyter-widgets/base",
            "overflow": null,
            "_model_module_version": "1.2.0",
            "_view_count": null,
            "flex_flow": null,
            "width": null,
            "min_width": null,
            "border": null,
            "align_items": null,
            "bottom": null,
            "_model_module": "@jupyter-widgets/base",
            "top": null,
            "grid_column": null,
            "overflow_y": null,
            "overflow_x": null,
            "grid_auto_flow": null,
            "grid_area": null,
            "grid_template_columns": null,
            "flex": null,
            "_model_name": "LayoutModel",
            "justify_items": null,
            "grid_row": null,
            "max_height": null,
            "align_content": null,
            "visibility": null,
            "align_self": null,
            "height": null,
            "min_height": null,
            "padding": null,
            "grid_auto_rows": null,
            "grid_gap": null,
            "max_width": null,
            "order": null,
            "_view_module_version": "1.2.0",
            "grid_template_areas": null,
            "object_position": null,
            "object_fit": null,
            "grid_auto_columns": null,
            "margin": null,
            "display": null,
            "left": null
          }
        },
        "95b2d00db1824a1a9e990a6757709f23": {
          "model_module": "@jupyter-widgets/controls",
          "model_name": "DescriptionStyleModel",
          "model_module_version": "1.5.0",
          "state": {
            "_view_name": "StyleView",
            "_model_name": "DescriptionStyleModel",
            "description_width": "",
            "_view_module": "@jupyter-widgets/base",
            "_model_module_version": "1.5.0",
            "_view_count": null,
            "_view_module_version": "1.2.0",
            "_model_module": "@jupyter-widgets/controls"
          }
        },
        "49820ed0dadd4b0987dac58c372eb665": {
          "model_module": "@jupyter-widgets/base",
          "model_name": "LayoutModel",
          "model_module_version": "1.2.0",
          "state": {
            "_view_name": "LayoutView",
            "grid_template_rows": null,
            "right": null,
            "justify_content": null,
            "_view_module": "@jupyter-widgets/base",
            "overflow": null,
            "_model_module_version": "1.2.0",
            "_view_count": null,
            "flex_flow": null,
            "width": null,
            "min_width": null,
            "border": null,
            "align_items": null,
            "bottom": null,
            "_model_module": "@jupyter-widgets/base",
            "top": null,
            "grid_column": null,
            "overflow_y": null,
            "overflow_x": null,
            "grid_auto_flow": null,
            "grid_area": null,
            "grid_template_columns": null,
            "flex": null,
            "_model_name": "LayoutModel",
            "justify_items": null,
            "grid_row": null,
            "max_height": null,
            "align_content": null,
            "visibility": null,
            "align_self": null,
            "height": null,
            "min_height": null,
            "padding": null,
            "grid_auto_rows": null,
            "grid_gap": null,
            "max_width": null,
            "order": null,
            "_view_module_version": "1.2.0",
            "grid_template_areas": null,
            "object_position": null,
            "object_fit": null,
            "grid_auto_columns": null,
            "margin": null,
            "display": null,
            "left": null
          }
        },
        "d5a5b9440ce945cebcccad9b75d4bc72": {
          "model_module": "@jupyter-widgets/controls",
          "model_name": "HBoxModel",
          "model_module_version": "1.5.0",
          "state": {
            "_view_name": "HBoxView",
            "_dom_classes": [],
            "_model_name": "HBoxModel",
            "_view_module": "@jupyter-widgets/controls",
            "_model_module_version": "1.5.0",
            "_view_count": null,
            "_view_module_version": "1.5.0",
            "box_style": "",
            "layout": "IPY_MODEL_9855a544835c4694acdc0e8ec6b76b26",
            "_model_module": "@jupyter-widgets/controls",
            "children": [
              "IPY_MODEL_07c4dad626e0460dbe82a0603b859816",
              "IPY_MODEL_3384401112794ce5b2235466542b42d6",
              "IPY_MODEL_81a35fc19fcd48408a2c81b0ac5325d2"
            ]
          }
        },
        "9855a544835c4694acdc0e8ec6b76b26": {
          "model_module": "@jupyter-widgets/base",
          "model_name": "LayoutModel",
          "model_module_version": "1.2.0",
          "state": {
            "_view_name": "LayoutView",
            "grid_template_rows": null,
            "right": null,
            "justify_content": null,
            "_view_module": "@jupyter-widgets/base",
            "overflow": null,
            "_model_module_version": "1.2.0",
            "_view_count": null,
            "flex_flow": null,
            "width": null,
            "min_width": null,
            "border": null,
            "align_items": null,
            "bottom": null,
            "_model_module": "@jupyter-widgets/base",
            "top": null,
            "grid_column": null,
            "overflow_y": null,
            "overflow_x": null,
            "grid_auto_flow": null,
            "grid_area": null,
            "grid_template_columns": null,
            "flex": null,
            "_model_name": "LayoutModel",
            "justify_items": null,
            "grid_row": null,
            "max_height": null,
            "align_content": null,
            "visibility": null,
            "align_self": null,
            "height": null,
            "min_height": null,
            "padding": null,
            "grid_auto_rows": null,
            "grid_gap": null,
            "max_width": null,
            "order": null,
            "_view_module_version": "1.2.0",
            "grid_template_areas": null,
            "object_position": null,
            "object_fit": null,
            "grid_auto_columns": null,
            "margin": null,
            "display": null,
            "left": null
          }
        },
        "07c4dad626e0460dbe82a0603b859816": {
          "model_module": "@jupyter-widgets/controls",
          "model_name": "HTMLModel",
          "model_module_version": "1.5.0",
          "state": {
            "_view_name": "HTMLView",
            "style": "IPY_MODEL_3b223f451447443eb5c2f1ee12c3d6a0",
            "_dom_classes": [],
            "description": "",
            "_model_name": "HTMLModel",
            "placeholder": "​",
            "_view_module": "@jupyter-widgets/controls",
            "_model_module_version": "1.5.0",
            "value": "Downloading: 100%",
            "_view_count": null,
            "_view_module_version": "1.5.0",
            "description_tooltip": null,
            "_model_module": "@jupyter-widgets/controls",
            "layout": "IPY_MODEL_113b470174dc406aa54c7a716c62f264"
          }
        },
        "3384401112794ce5b2235466542b42d6": {
          "model_module": "@jupyter-widgets/controls",
          "model_name": "FloatProgressModel",
          "model_module_version": "1.5.0",
          "state": {
            "_view_name": "ProgressView",
            "style": "IPY_MODEL_e6e59f2b1872458793360a92095cecb8",
            "_dom_classes": [],
            "description": "",
            "_model_name": "FloatProgressModel",
            "bar_style": "success",
            "max": 624,
            "_view_module": "@jupyter-widgets/controls",
            "_model_module_version": "1.5.0",
            "value": 624,
            "_view_count": null,
            "_view_module_version": "1.5.0",
            "orientation": "horizontal",
            "min": 0,
            "description_tooltip": null,
            "_model_module": "@jupyter-widgets/controls",
            "layout": "IPY_MODEL_e1d9d222729d4eafacfaa4d15537d9de"
          }
        },
        "81a35fc19fcd48408a2c81b0ac5325d2": {
          "model_module": "@jupyter-widgets/controls",
          "model_name": "HTMLModel",
          "model_module_version": "1.5.0",
          "state": {
            "_view_name": "HTMLView",
            "style": "IPY_MODEL_f1e677b75224419e9b7eb205b6f28e69",
            "_dom_classes": [],
            "description": "",
            "_model_name": "HTMLModel",
            "placeholder": "​",
            "_view_module": "@jupyter-widgets/controls",
            "_model_module_version": "1.5.0",
            "value": " 624/624 [00:00&lt;00:00, 12.9kB/s]",
            "_view_count": null,
            "_view_module_version": "1.5.0",
            "description_tooltip": null,
            "_model_module": "@jupyter-widgets/controls",
            "layout": "IPY_MODEL_2f3c95aef6da45eb85eb06b0ae0d83e4"
          }
        },
        "3b223f451447443eb5c2f1ee12c3d6a0": {
          "model_module": "@jupyter-widgets/controls",
          "model_name": "DescriptionStyleModel",
          "model_module_version": "1.5.0",
          "state": {
            "_view_name": "StyleView",
            "_model_name": "DescriptionStyleModel",
            "description_width": "",
            "_view_module": "@jupyter-widgets/base",
            "_model_module_version": "1.5.0",
            "_view_count": null,
            "_view_module_version": "1.2.0",
            "_model_module": "@jupyter-widgets/controls"
          }
        },
        "113b470174dc406aa54c7a716c62f264": {
          "model_module": "@jupyter-widgets/base",
          "model_name": "LayoutModel",
          "model_module_version": "1.2.0",
          "state": {
            "_view_name": "LayoutView",
            "grid_template_rows": null,
            "right": null,
            "justify_content": null,
            "_view_module": "@jupyter-widgets/base",
            "overflow": null,
            "_model_module_version": "1.2.0",
            "_view_count": null,
            "flex_flow": null,
            "width": null,
            "min_width": null,
            "border": null,
            "align_items": null,
            "bottom": null,
            "_model_module": "@jupyter-widgets/base",
            "top": null,
            "grid_column": null,
            "overflow_y": null,
            "overflow_x": null,
            "grid_auto_flow": null,
            "grid_area": null,
            "grid_template_columns": null,
            "flex": null,
            "_model_name": "LayoutModel",
            "justify_items": null,
            "grid_row": null,
            "max_height": null,
            "align_content": null,
            "visibility": null,
            "align_self": null,
            "height": null,
            "min_height": null,
            "padding": null,
            "grid_auto_rows": null,
            "grid_gap": null,
            "max_width": null,
            "order": null,
            "_view_module_version": "1.2.0",
            "grid_template_areas": null,
            "object_position": null,
            "object_fit": null,
            "grid_auto_columns": null,
            "margin": null,
            "display": null,
            "left": null
          }
        },
        "e6e59f2b1872458793360a92095cecb8": {
          "model_module": "@jupyter-widgets/controls",
          "model_name": "ProgressStyleModel",
          "model_module_version": "1.5.0",
          "state": {
            "_view_name": "StyleView",
            "_model_name": "ProgressStyleModel",
            "description_width": "",
            "_view_module": "@jupyter-widgets/base",
            "_model_module_version": "1.5.0",
            "_view_count": null,
            "_view_module_version": "1.2.0",
            "bar_color": null,
            "_model_module": "@jupyter-widgets/controls"
          }
        },
        "e1d9d222729d4eafacfaa4d15537d9de": {
          "model_module": "@jupyter-widgets/base",
          "model_name": "LayoutModel",
          "model_module_version": "1.2.0",
          "state": {
            "_view_name": "LayoutView",
            "grid_template_rows": null,
            "right": null,
            "justify_content": null,
            "_view_module": "@jupyter-widgets/base",
            "overflow": null,
            "_model_module_version": "1.2.0",
            "_view_count": null,
            "flex_flow": null,
            "width": null,
            "min_width": null,
            "border": null,
            "align_items": null,
            "bottom": null,
            "_model_module": "@jupyter-widgets/base",
            "top": null,
            "grid_column": null,
            "overflow_y": null,
            "overflow_x": null,
            "grid_auto_flow": null,
            "grid_area": null,
            "grid_template_columns": null,
            "flex": null,
            "_model_name": "LayoutModel",
            "justify_items": null,
            "grid_row": null,
            "max_height": null,
            "align_content": null,
            "visibility": null,
            "align_self": null,
            "height": null,
            "min_height": null,
            "padding": null,
            "grid_auto_rows": null,
            "grid_gap": null,
            "max_width": null,
            "order": null,
            "_view_module_version": "1.2.0",
            "grid_template_areas": null,
            "object_position": null,
            "object_fit": null,
            "grid_auto_columns": null,
            "margin": null,
            "display": null,
            "left": null
          }
        },
        "f1e677b75224419e9b7eb205b6f28e69": {
          "model_module": "@jupyter-widgets/controls",
          "model_name": "DescriptionStyleModel",
          "model_module_version": "1.5.0",
          "state": {
            "_view_name": "StyleView",
            "_model_name": "DescriptionStyleModel",
            "description_width": "",
            "_view_module": "@jupyter-widgets/base",
            "_model_module_version": "1.5.0",
            "_view_count": null,
            "_view_module_version": "1.2.0",
            "_model_module": "@jupyter-widgets/controls"
          }
        },
        "2f3c95aef6da45eb85eb06b0ae0d83e4": {
          "model_module": "@jupyter-widgets/base",
          "model_name": "LayoutModel",
          "model_module_version": "1.2.0",
          "state": {
            "_view_name": "LayoutView",
            "grid_template_rows": null,
            "right": null,
            "justify_content": null,
            "_view_module": "@jupyter-widgets/base",
            "overflow": null,
            "_model_module_version": "1.2.0",
            "_view_count": null,
            "flex_flow": null,
            "width": null,
            "min_width": null,
            "border": null,
            "align_items": null,
            "bottom": null,
            "_model_module": "@jupyter-widgets/base",
            "top": null,
            "grid_column": null,
            "overflow_y": null,
            "overflow_x": null,
            "grid_auto_flow": null,
            "grid_area": null,
            "grid_template_columns": null,
            "flex": null,
            "_model_name": "LayoutModel",
            "justify_items": null,
            "grid_row": null,
            "max_height": null,
            "align_content": null,
            "visibility": null,
            "align_self": null,
            "height": null,
            "min_height": null,
            "padding": null,
            "grid_auto_rows": null,
            "grid_gap": null,
            "max_width": null,
            "order": null,
            "_view_module_version": "1.2.0",
            "grid_template_areas": null,
            "object_position": null,
            "object_fit": null,
            "grid_auto_columns": null,
            "margin": null,
            "display": null,
            "left": null
          }
        },
        "8d384f74382346b393873328091f963e": {
          "model_module": "@jupyter-widgets/controls",
          "model_name": "HBoxModel",
          "model_module_version": "1.5.0",
          "state": {
            "_view_name": "HBoxView",
            "_dom_classes": [],
            "_model_name": "HBoxModel",
            "_view_module": "@jupyter-widgets/controls",
            "_model_module_version": "1.5.0",
            "_view_count": null,
            "_view_module_version": "1.5.0",
            "box_style": "",
            "layout": "IPY_MODEL_7cc9ddaee09741ca8c92af33336385c1",
            "_model_module": "@jupyter-widgets/controls",
            "children": [
              "IPY_MODEL_5a3fe5aed4a34f449262d678523a071d",
              "IPY_MODEL_11fb1b03067d43ad95f4f32fd48048e6",
              "IPY_MODEL_1b274252c5864afab878eab92568067a"
            ]
          }
        },
        "7cc9ddaee09741ca8c92af33336385c1": {
          "model_module": "@jupyter-widgets/base",
          "model_name": "LayoutModel",
          "model_module_version": "1.2.0",
          "state": {
            "_view_name": "LayoutView",
            "grid_template_rows": null,
            "right": null,
            "justify_content": null,
            "_view_module": "@jupyter-widgets/base",
            "overflow": null,
            "_model_module_version": "1.2.0",
            "_view_count": null,
            "flex_flow": null,
            "width": null,
            "min_width": null,
            "border": null,
            "align_items": null,
            "bottom": null,
            "_model_module": "@jupyter-widgets/base",
            "top": null,
            "grid_column": null,
            "overflow_y": null,
            "overflow_x": null,
            "grid_auto_flow": null,
            "grid_area": null,
            "grid_template_columns": null,
            "flex": null,
            "_model_name": "LayoutModel",
            "justify_items": null,
            "grid_row": null,
            "max_height": null,
            "align_content": null,
            "visibility": null,
            "align_self": null,
            "height": null,
            "min_height": null,
            "padding": null,
            "grid_auto_rows": null,
            "grid_gap": null,
            "max_width": null,
            "order": null,
            "_view_module_version": "1.2.0",
            "grid_template_areas": null,
            "object_position": null,
            "object_fit": null,
            "grid_auto_columns": null,
            "margin": null,
            "display": null,
            "left": null
          }
        },
        "5a3fe5aed4a34f449262d678523a071d": {
          "model_module": "@jupyter-widgets/controls",
          "model_name": "HTMLModel",
          "model_module_version": "1.5.0",
          "state": {
            "_view_name": "HTMLView",
            "style": "IPY_MODEL_d40ca3c5dd0b4f40aa8e0570ae635dd5",
            "_dom_classes": [],
            "description": "",
            "_model_name": "HTMLModel",
            "placeholder": "​",
            "_view_module": "@jupyter-widgets/controls",
            "_model_module_version": "1.5.0",
            "value": "Downloading: 100%",
            "_view_count": null,
            "_view_module_version": "1.5.0",
            "description_tooltip": null,
            "_model_module": "@jupyter-widgets/controls",
            "layout": "IPY_MODEL_d89b9efa1f4445a1bb1d26389361bc6b"
          }
        },
        "11fb1b03067d43ad95f4f32fd48048e6": {
          "model_module": "@jupyter-widgets/controls",
          "model_name": "FloatProgressModel",
          "model_module_version": "1.5.0",
          "state": {
            "_view_name": "ProgressView",
            "style": "IPY_MODEL_745e03afbfa741fd94decfa768f31d51",
            "_dom_classes": [],
            "description": "",
            "_model_name": "FloatProgressModel",
            "bar_style": "success",
            "max": 109540,
            "_view_module": "@jupyter-widgets/controls",
            "_model_module_version": "1.5.0",
            "value": 109540,
            "_view_count": null,
            "_view_module_version": "1.5.0",
            "orientation": "horizontal",
            "min": 0,
            "description_tooltip": null,
            "_model_module": "@jupyter-widgets/controls",
            "layout": "IPY_MODEL_58617413d31d442a84248662ee95bd5f"
          }
        },
        "1b274252c5864afab878eab92568067a": {
          "model_module": "@jupyter-widgets/controls",
          "model_name": "HTMLModel",
          "model_module_version": "1.5.0",
          "state": {
            "_view_name": "HTMLView",
            "style": "IPY_MODEL_2630ddea617445a6b230fdb665d46577",
            "_dom_classes": [],
            "description": "",
            "_model_name": "HTMLModel",
            "placeholder": "​",
            "_view_module": "@jupyter-widgets/controls",
            "_model_module_version": "1.5.0",
            "value": " 107k/107k [00:00&lt;00:00, 177kB/s]",
            "_view_count": null,
            "_view_module_version": "1.5.0",
            "description_tooltip": null,
            "_model_module": "@jupyter-widgets/controls",
            "layout": "IPY_MODEL_a36f7ed729eb4564838194edb8f1190b"
          }
        },
        "d40ca3c5dd0b4f40aa8e0570ae635dd5": {
          "model_module": "@jupyter-widgets/controls",
          "model_name": "DescriptionStyleModel",
          "model_module_version": "1.5.0",
          "state": {
            "_view_name": "StyleView",
            "_model_name": "DescriptionStyleModel",
            "description_width": "",
            "_view_module": "@jupyter-widgets/base",
            "_model_module_version": "1.5.0",
            "_view_count": null,
            "_view_module_version": "1.2.0",
            "_model_module": "@jupyter-widgets/controls"
          }
        },
        "d89b9efa1f4445a1bb1d26389361bc6b": {
          "model_module": "@jupyter-widgets/base",
          "model_name": "LayoutModel",
          "model_module_version": "1.2.0",
          "state": {
            "_view_name": "LayoutView",
            "grid_template_rows": null,
            "right": null,
            "justify_content": null,
            "_view_module": "@jupyter-widgets/base",
            "overflow": null,
            "_model_module_version": "1.2.0",
            "_view_count": null,
            "flex_flow": null,
            "width": null,
            "min_width": null,
            "border": null,
            "align_items": null,
            "bottom": null,
            "_model_module": "@jupyter-widgets/base",
            "top": null,
            "grid_column": null,
            "overflow_y": null,
            "overflow_x": null,
            "grid_auto_flow": null,
            "grid_area": null,
            "grid_template_columns": null,
            "flex": null,
            "_model_name": "LayoutModel",
            "justify_items": null,
            "grid_row": null,
            "max_height": null,
            "align_content": null,
            "visibility": null,
            "align_self": null,
            "height": null,
            "min_height": null,
            "padding": null,
            "grid_auto_rows": null,
            "grid_gap": null,
            "max_width": null,
            "order": null,
            "_view_module_version": "1.2.0",
            "grid_template_areas": null,
            "object_position": null,
            "object_fit": null,
            "grid_auto_columns": null,
            "margin": null,
            "display": null,
            "left": null
          }
        },
        "745e03afbfa741fd94decfa768f31d51": {
          "model_module": "@jupyter-widgets/controls",
          "model_name": "ProgressStyleModel",
          "model_module_version": "1.5.0",
          "state": {
            "_view_name": "StyleView",
            "_model_name": "ProgressStyleModel",
            "description_width": "",
            "_view_module": "@jupyter-widgets/base",
            "_model_module_version": "1.5.0",
            "_view_count": null,
            "_view_module_version": "1.2.0",
            "bar_color": null,
            "_model_module": "@jupyter-widgets/controls"
          }
        },
        "58617413d31d442a84248662ee95bd5f": {
          "model_module": "@jupyter-widgets/base",
          "model_name": "LayoutModel",
          "model_module_version": "1.2.0",
          "state": {
            "_view_name": "LayoutView",
            "grid_template_rows": null,
            "right": null,
            "justify_content": null,
            "_view_module": "@jupyter-widgets/base",
            "overflow": null,
            "_model_module_version": "1.2.0",
            "_view_count": null,
            "flex_flow": null,
            "width": null,
            "min_width": null,
            "border": null,
            "align_items": null,
            "bottom": null,
            "_model_module": "@jupyter-widgets/base",
            "top": null,
            "grid_column": null,
            "overflow_y": null,
            "overflow_x": null,
            "grid_auto_flow": null,
            "grid_area": null,
            "grid_template_columns": null,
            "flex": null,
            "_model_name": "LayoutModel",
            "justify_items": null,
            "grid_row": null,
            "max_height": null,
            "align_content": null,
            "visibility": null,
            "align_self": null,
            "height": null,
            "min_height": null,
            "padding": null,
            "grid_auto_rows": null,
            "grid_gap": null,
            "max_width": null,
            "order": null,
            "_view_module_version": "1.2.0",
            "grid_template_areas": null,
            "object_position": null,
            "object_fit": null,
            "grid_auto_columns": null,
            "margin": null,
            "display": null,
            "left": null
          }
        },
        "2630ddea617445a6b230fdb665d46577": {
          "model_module": "@jupyter-widgets/controls",
          "model_name": "DescriptionStyleModel",
          "model_module_version": "1.5.0",
          "state": {
            "_view_name": "StyleView",
            "_model_name": "DescriptionStyleModel",
            "description_width": "",
            "_view_module": "@jupyter-widgets/base",
            "_model_module_version": "1.5.0",
            "_view_count": null,
            "_view_module_version": "1.2.0",
            "_model_module": "@jupyter-widgets/controls"
          }
        },
        "a36f7ed729eb4564838194edb8f1190b": {
          "model_module": "@jupyter-widgets/base",
          "model_name": "LayoutModel",
          "model_module_version": "1.2.0",
          "state": {
            "_view_name": "LayoutView",
            "grid_template_rows": null,
            "right": null,
            "justify_content": null,
            "_view_module": "@jupyter-widgets/base",
            "overflow": null,
            "_model_module_version": "1.2.0",
            "_view_count": null,
            "flex_flow": null,
            "width": null,
            "min_width": null,
            "border": null,
            "align_items": null,
            "bottom": null,
            "_model_module": "@jupyter-widgets/base",
            "top": null,
            "grid_column": null,
            "overflow_y": null,
            "overflow_x": null,
            "grid_auto_flow": null,
            "grid_area": null,
            "grid_template_columns": null,
            "flex": null,
            "_model_name": "LayoutModel",
            "justify_items": null,
            "grid_row": null,
            "max_height": null,
            "align_content": null,
            "visibility": null,
            "align_self": null,
            "height": null,
            "min_height": null,
            "padding": null,
            "grid_auto_rows": null,
            "grid_gap": null,
            "max_width": null,
            "order": null,
            "_view_module_version": "1.2.0",
            "grid_template_areas": null,
            "object_position": null,
            "object_fit": null,
            "grid_auto_columns": null,
            "margin": null,
            "display": null,
            "left": null
          }
        },
        "e430ec9e249e46c2bd17c379d6237826": {
          "model_module": "@jupyter-widgets/controls",
          "model_name": "HBoxModel",
          "model_module_version": "1.5.0",
          "state": {
            "_view_name": "HBoxView",
            "_dom_classes": [],
            "_model_name": "HBoxModel",
            "_view_module": "@jupyter-widgets/controls",
            "_model_module_version": "1.5.0",
            "_view_count": null,
            "_view_module_version": "1.5.0",
            "box_style": "",
            "layout": "IPY_MODEL_0feeb0a5061845f69a8eb0b5242e9a5c",
            "_model_module": "@jupyter-widgets/controls",
            "children": [
              "IPY_MODEL_c47febb469694b49b78c65189ed40808",
              "IPY_MODEL_52d3dd3e462d4ff68a99995a8a304f75",
              "IPY_MODEL_c4af5c3717f742fba7fad3150268a689"
            ]
          }
        },
        "0feeb0a5061845f69a8eb0b5242e9a5c": {
          "model_module": "@jupyter-widgets/base",
          "model_name": "LayoutModel",
          "model_module_version": "1.2.0",
          "state": {
            "_view_name": "LayoutView",
            "grid_template_rows": null,
            "right": null,
            "justify_content": null,
            "_view_module": "@jupyter-widgets/base",
            "overflow": null,
            "_model_module_version": "1.2.0",
            "_view_count": null,
            "flex_flow": null,
            "width": null,
            "min_width": null,
            "border": null,
            "align_items": null,
            "bottom": null,
            "_model_module": "@jupyter-widgets/base",
            "top": null,
            "grid_column": null,
            "overflow_y": null,
            "overflow_x": null,
            "grid_auto_flow": null,
            "grid_area": null,
            "grid_template_columns": null,
            "flex": null,
            "_model_name": "LayoutModel",
            "justify_items": null,
            "grid_row": null,
            "max_height": null,
            "align_content": null,
            "visibility": null,
            "align_self": null,
            "height": null,
            "min_height": null,
            "padding": null,
            "grid_auto_rows": null,
            "grid_gap": null,
            "max_width": null,
            "order": null,
            "_view_module_version": "1.2.0",
            "grid_template_areas": null,
            "object_position": null,
            "object_fit": null,
            "grid_auto_columns": null,
            "margin": null,
            "display": null,
            "left": null
          }
        },
        "c47febb469694b49b78c65189ed40808": {
          "model_module": "@jupyter-widgets/controls",
          "model_name": "HTMLModel",
          "model_module_version": "1.5.0",
          "state": {
            "_view_name": "HTMLView",
            "style": "IPY_MODEL_96bc597dbbeb4258869ce0f5cfbf6e0d",
            "_dom_classes": [],
            "description": "",
            "_model_name": "HTMLModel",
            "placeholder": "​",
            "_view_module": "@jupyter-widgets/controls",
            "_model_module_version": "1.5.0",
            "value": "Downloading: 100%",
            "_view_count": null,
            "_view_module_version": "1.5.0",
            "description_tooltip": null,
            "_model_module": "@jupyter-widgets/controls",
            "layout": "IPY_MODEL_4a81e1f1fadf484f83bd339c362e3e1a"
          }
        },
        "52d3dd3e462d4ff68a99995a8a304f75": {
          "model_module": "@jupyter-widgets/controls",
          "model_name": "FloatProgressModel",
          "model_module_version": "1.5.0",
          "state": {
            "_view_name": "ProgressView",
            "style": "IPY_MODEL_6f3933c4a1a64fa18f1faa63568441c6",
            "_dom_classes": [],
            "description": "",
            "_model_name": "FloatProgressModel",
            "bar_style": "success",
            "max": 268943,
            "_view_module": "@jupyter-widgets/controls",
            "_model_module_version": "1.5.0",
            "value": 268943,
            "_view_count": null,
            "_view_module_version": "1.5.0",
            "orientation": "horizontal",
            "min": 0,
            "description_tooltip": null,
            "_model_module": "@jupyter-widgets/controls",
            "layout": "IPY_MODEL_132847bcca954c2c88e32607ffc38718"
          }
        },
        "c4af5c3717f742fba7fad3150268a689": {
          "model_module": "@jupyter-widgets/controls",
          "model_name": "HTMLModel",
          "model_module_version": "1.5.0",
          "state": {
            "_view_name": "HTMLView",
            "style": "IPY_MODEL_ca81e196ba824ce2ae12a4d7bc83bf60",
            "_dom_classes": [],
            "description": "",
            "_model_name": "HTMLModel",
            "placeholder": "​",
            "_view_module": "@jupyter-widgets/controls",
            "_model_module_version": "1.5.0",
            "value": " 263k/263k [00:00&lt;00:00, 629kB/s]",
            "_view_count": null,
            "_view_module_version": "1.5.0",
            "description_tooltip": null,
            "_model_module": "@jupyter-widgets/controls",
            "layout": "IPY_MODEL_b925345196ae4aa4a820b0b84f0fff91"
          }
        },
        "96bc597dbbeb4258869ce0f5cfbf6e0d": {
          "model_module": "@jupyter-widgets/controls",
          "model_name": "DescriptionStyleModel",
          "model_module_version": "1.5.0",
          "state": {
            "_view_name": "StyleView",
            "_model_name": "DescriptionStyleModel",
            "description_width": "",
            "_view_module": "@jupyter-widgets/base",
            "_model_module_version": "1.5.0",
            "_view_count": null,
            "_view_module_version": "1.2.0",
            "_model_module": "@jupyter-widgets/controls"
          }
        },
        "4a81e1f1fadf484f83bd339c362e3e1a": {
          "model_module": "@jupyter-widgets/base",
          "model_name": "LayoutModel",
          "model_module_version": "1.2.0",
          "state": {
            "_view_name": "LayoutView",
            "grid_template_rows": null,
            "right": null,
            "justify_content": null,
            "_view_module": "@jupyter-widgets/base",
            "overflow": null,
            "_model_module_version": "1.2.0",
            "_view_count": null,
            "flex_flow": null,
            "width": null,
            "min_width": null,
            "border": null,
            "align_items": null,
            "bottom": null,
            "_model_module": "@jupyter-widgets/base",
            "top": null,
            "grid_column": null,
            "overflow_y": null,
            "overflow_x": null,
            "grid_auto_flow": null,
            "grid_area": null,
            "grid_template_columns": null,
            "flex": null,
            "_model_name": "LayoutModel",
            "justify_items": null,
            "grid_row": null,
            "max_height": null,
            "align_content": null,
            "visibility": null,
            "align_self": null,
            "height": null,
            "min_height": null,
            "padding": null,
            "grid_auto_rows": null,
            "grid_gap": null,
            "max_width": null,
            "order": null,
            "_view_module_version": "1.2.0",
            "grid_template_areas": null,
            "object_position": null,
            "object_fit": null,
            "grid_auto_columns": null,
            "margin": null,
            "display": null,
            "left": null
          }
        },
        "6f3933c4a1a64fa18f1faa63568441c6": {
          "model_module": "@jupyter-widgets/controls",
          "model_name": "ProgressStyleModel",
          "model_module_version": "1.5.0",
          "state": {
            "_view_name": "StyleView",
            "_model_name": "ProgressStyleModel",
            "description_width": "",
            "_view_module": "@jupyter-widgets/base",
            "_model_module_version": "1.5.0",
            "_view_count": null,
            "_view_module_version": "1.2.0",
            "bar_color": null,
            "_model_module": "@jupyter-widgets/controls"
          }
        },
        "132847bcca954c2c88e32607ffc38718": {
          "model_module": "@jupyter-widgets/base",
          "model_name": "LayoutModel",
          "model_module_version": "1.2.0",
          "state": {
            "_view_name": "LayoutView",
            "grid_template_rows": null,
            "right": null,
            "justify_content": null,
            "_view_module": "@jupyter-widgets/base",
            "overflow": null,
            "_model_module_version": "1.2.0",
            "_view_count": null,
            "flex_flow": null,
            "width": null,
            "min_width": null,
            "border": null,
            "align_items": null,
            "bottom": null,
            "_model_module": "@jupyter-widgets/base",
            "top": null,
            "grid_column": null,
            "overflow_y": null,
            "overflow_x": null,
            "grid_auto_flow": null,
            "grid_area": null,
            "grid_template_columns": null,
            "flex": null,
            "_model_name": "LayoutModel",
            "justify_items": null,
            "grid_row": null,
            "max_height": null,
            "align_content": null,
            "visibility": null,
            "align_self": null,
            "height": null,
            "min_height": null,
            "padding": null,
            "grid_auto_rows": null,
            "grid_gap": null,
            "max_width": null,
            "order": null,
            "_view_module_version": "1.2.0",
            "grid_template_areas": null,
            "object_position": null,
            "object_fit": null,
            "grid_auto_columns": null,
            "margin": null,
            "display": null,
            "left": null
          }
        },
        "ca81e196ba824ce2ae12a4d7bc83bf60": {
          "model_module": "@jupyter-widgets/controls",
          "model_name": "DescriptionStyleModel",
          "model_module_version": "1.5.0",
          "state": {
            "_view_name": "StyleView",
            "_model_name": "DescriptionStyleModel",
            "description_width": "",
            "_view_module": "@jupyter-widgets/base",
            "_model_module_version": "1.5.0",
            "_view_count": null,
            "_view_module_version": "1.2.0",
            "_model_module": "@jupyter-widgets/controls"
          }
        },
        "b925345196ae4aa4a820b0b84f0fff91": {
          "model_module": "@jupyter-widgets/base",
          "model_name": "LayoutModel",
          "model_module_version": "1.2.0",
          "state": {
            "_view_name": "LayoutView",
            "grid_template_rows": null,
            "right": null,
            "justify_content": null,
            "_view_module": "@jupyter-widgets/base",
            "overflow": null,
            "_model_module_version": "1.2.0",
            "_view_count": null,
            "flex_flow": null,
            "width": null,
            "min_width": null,
            "border": null,
            "align_items": null,
            "bottom": null,
            "_model_module": "@jupyter-widgets/base",
            "top": null,
            "grid_column": null,
            "overflow_y": null,
            "overflow_x": null,
            "grid_auto_flow": null,
            "grid_area": null,
            "grid_template_columns": null,
            "flex": null,
            "_model_name": "LayoutModel",
            "justify_items": null,
            "grid_row": null,
            "max_height": null,
            "align_content": null,
            "visibility": null,
            "align_self": null,
            "height": null,
            "min_height": null,
            "padding": null,
            "grid_auto_rows": null,
            "grid_gap": null,
            "max_width": null,
            "order": null,
            "_view_module_version": "1.2.0",
            "grid_template_areas": null,
            "object_position": null,
            "object_fit": null,
            "grid_auto_columns": null,
            "margin": null,
            "display": null,
            "left": null
          }
        },
        "735e733386f54b7a9614795cc1e333d6": {
          "model_module": "@jupyter-widgets/controls",
          "model_name": "HBoxModel",
          "model_module_version": "1.5.0",
          "state": {
            "_view_name": "HBoxView",
            "_dom_classes": [],
            "_model_name": "HBoxModel",
            "_view_module": "@jupyter-widgets/controls",
            "_model_module_version": "1.5.0",
            "_view_count": null,
            "_view_module_version": "1.5.0",
            "box_style": "",
            "layout": "IPY_MODEL_67a590da8eb04e85b7c0e9a3eb95b242",
            "_model_module": "@jupyter-widgets/controls",
            "children": [
              "IPY_MODEL_691b4c06718545fbad0bd4b89d4af85f",
              "IPY_MODEL_04e5c75b6f7146978f085d68aed2712f",
              "IPY_MODEL_a7f5064371804e648590f04f6e62785f"
            ]
          }
        },
        "67a590da8eb04e85b7c0e9a3eb95b242": {
          "model_module": "@jupyter-widgets/base",
          "model_name": "LayoutModel",
          "model_module_version": "1.2.0",
          "state": {
            "_view_name": "LayoutView",
            "grid_template_rows": null,
            "right": null,
            "justify_content": null,
            "_view_module": "@jupyter-widgets/base",
            "overflow": null,
            "_model_module_version": "1.2.0",
            "_view_count": null,
            "flex_flow": null,
            "width": null,
            "min_width": null,
            "border": null,
            "align_items": null,
            "bottom": null,
            "_model_module": "@jupyter-widgets/base",
            "top": null,
            "grid_column": null,
            "overflow_y": null,
            "overflow_x": null,
            "grid_auto_flow": null,
            "grid_area": null,
            "grid_template_columns": null,
            "flex": null,
            "_model_name": "LayoutModel",
            "justify_items": null,
            "grid_row": null,
            "max_height": null,
            "align_content": null,
            "visibility": null,
            "align_self": null,
            "height": null,
            "min_height": null,
            "padding": null,
            "grid_auto_rows": null,
            "grid_gap": null,
            "max_width": null,
            "order": null,
            "_view_module_version": "1.2.0",
            "grid_template_areas": null,
            "object_position": null,
            "object_fit": null,
            "grid_auto_columns": null,
            "margin": null,
            "display": null,
            "left": null
          }
        },
        "691b4c06718545fbad0bd4b89d4af85f": {
          "model_module": "@jupyter-widgets/controls",
          "model_name": "HTMLModel",
          "model_module_version": "1.5.0",
          "state": {
            "_view_name": "HTMLView",
            "style": "IPY_MODEL_a9c320f8a6cf4e069629b77f079742c6",
            "_dom_classes": [],
            "description": "",
            "_model_name": "HTMLModel",
            "placeholder": "​",
            "_view_module": "@jupyter-widgets/controls",
            "_model_module_version": "1.5.0",
            "value": "Downloading: 100%",
            "_view_count": null,
            "_view_module_version": "1.5.0",
            "description_tooltip": null,
            "_model_module": "@jupyter-widgets/controls",
            "layout": "IPY_MODEL_b502688b9443486686e2c97935df3cd8"
          }
        },
        "04e5c75b6f7146978f085d68aed2712f": {
          "model_module": "@jupyter-widgets/controls",
          "model_name": "FloatProgressModel",
          "model_module_version": "1.5.0",
          "state": {
            "_view_name": "ProgressView",
            "style": "IPY_MODEL_bd90799cb79b43489d2f020491e964db",
            "_dom_classes": [],
            "description": "",
            "_model_name": "FloatProgressModel",
            "bar_style": "success",
            "max": 411577189,
            "_view_module": "@jupyter-widgets/controls",
            "_model_module_version": "1.5.0",
            "value": 411577189,
            "_view_count": null,
            "_view_module_version": "1.5.0",
            "orientation": "horizontal",
            "min": 0,
            "description_tooltip": null,
            "_model_module": "@jupyter-widgets/controls",
            "layout": "IPY_MODEL_3577e597f6f74b078917ebf0d187ff50"
          }
        },
        "a7f5064371804e648590f04f6e62785f": {
          "model_module": "@jupyter-widgets/controls",
          "model_name": "HTMLModel",
          "model_module_version": "1.5.0",
          "state": {
            "_view_name": "HTMLView",
            "style": "IPY_MODEL_cb95faeda066403289a068deff5edd6d",
            "_dom_classes": [],
            "description": "",
            "_model_name": "HTMLModel",
            "placeholder": "​",
            "_view_module": "@jupyter-widgets/controls",
            "_model_module_version": "1.5.0",
            "value": " 393M/393M [00:26&lt;00:00, 16.9MB/s]",
            "_view_count": null,
            "_view_module_version": "1.5.0",
            "description_tooltip": null,
            "_model_module": "@jupyter-widgets/controls",
            "layout": "IPY_MODEL_c1c5e094b1a04cfea7c7a62a97d03ad6"
          }
        },
        "a9c320f8a6cf4e069629b77f079742c6": {
          "model_module": "@jupyter-widgets/controls",
          "model_name": "DescriptionStyleModel",
          "model_module_version": "1.5.0",
          "state": {
            "_view_name": "StyleView",
            "_model_name": "DescriptionStyleModel",
            "description_width": "",
            "_view_module": "@jupyter-widgets/base",
            "_model_module_version": "1.5.0",
            "_view_count": null,
            "_view_module_version": "1.2.0",
            "_model_module": "@jupyter-widgets/controls"
          }
        },
        "b502688b9443486686e2c97935df3cd8": {
          "model_module": "@jupyter-widgets/base",
          "model_name": "LayoutModel",
          "model_module_version": "1.2.0",
          "state": {
            "_view_name": "LayoutView",
            "grid_template_rows": null,
            "right": null,
            "justify_content": null,
            "_view_module": "@jupyter-widgets/base",
            "overflow": null,
            "_model_module_version": "1.2.0",
            "_view_count": null,
            "flex_flow": null,
            "width": null,
            "min_width": null,
            "border": null,
            "align_items": null,
            "bottom": null,
            "_model_module": "@jupyter-widgets/base",
            "top": null,
            "grid_column": null,
            "overflow_y": null,
            "overflow_x": null,
            "grid_auto_flow": null,
            "grid_area": null,
            "grid_template_columns": null,
            "flex": null,
            "_model_name": "LayoutModel",
            "justify_items": null,
            "grid_row": null,
            "max_height": null,
            "align_content": null,
            "visibility": null,
            "align_self": null,
            "height": null,
            "min_height": null,
            "padding": null,
            "grid_auto_rows": null,
            "grid_gap": null,
            "max_width": null,
            "order": null,
            "_view_module_version": "1.2.0",
            "grid_template_areas": null,
            "object_position": null,
            "object_fit": null,
            "grid_auto_columns": null,
            "margin": null,
            "display": null,
            "left": null
          }
        },
        "bd90799cb79b43489d2f020491e964db": {
          "model_module": "@jupyter-widgets/controls",
          "model_name": "ProgressStyleModel",
          "model_module_version": "1.5.0",
          "state": {
            "_view_name": "StyleView",
            "_model_name": "ProgressStyleModel",
            "description_width": "",
            "_view_module": "@jupyter-widgets/base",
            "_model_module_version": "1.5.0",
            "_view_count": null,
            "_view_module_version": "1.2.0",
            "bar_color": null,
            "_model_module": "@jupyter-widgets/controls"
          }
        },
        "3577e597f6f74b078917ebf0d187ff50": {
          "model_module": "@jupyter-widgets/base",
          "model_name": "LayoutModel",
          "model_module_version": "1.2.0",
          "state": {
            "_view_name": "LayoutView",
            "grid_template_rows": null,
            "right": null,
            "justify_content": null,
            "_view_module": "@jupyter-widgets/base",
            "overflow": null,
            "_model_module_version": "1.2.0",
            "_view_count": null,
            "flex_flow": null,
            "width": null,
            "min_width": null,
            "border": null,
            "align_items": null,
            "bottom": null,
            "_model_module": "@jupyter-widgets/base",
            "top": null,
            "grid_column": null,
            "overflow_y": null,
            "overflow_x": null,
            "grid_auto_flow": null,
            "grid_area": null,
            "grid_template_columns": null,
            "flex": null,
            "_model_name": "LayoutModel",
            "justify_items": null,
            "grid_row": null,
            "max_height": null,
            "align_content": null,
            "visibility": null,
            "align_self": null,
            "height": null,
            "min_height": null,
            "padding": null,
            "grid_auto_rows": null,
            "grid_gap": null,
            "max_width": null,
            "order": null,
            "_view_module_version": "1.2.0",
            "grid_template_areas": null,
            "object_position": null,
            "object_fit": null,
            "grid_auto_columns": null,
            "margin": null,
            "display": null,
            "left": null
          }
        },
        "cb95faeda066403289a068deff5edd6d": {
          "model_module": "@jupyter-widgets/controls",
          "model_name": "DescriptionStyleModel",
          "model_module_version": "1.5.0",
          "state": {
            "_view_name": "StyleView",
            "_model_name": "DescriptionStyleModel",
            "description_width": "",
            "_view_module": "@jupyter-widgets/base",
            "_model_module_version": "1.5.0",
            "_view_count": null,
            "_view_module_version": "1.2.0",
            "_model_module": "@jupyter-widgets/controls"
          }
        },
        "c1c5e094b1a04cfea7c7a62a97d03ad6": {
          "model_module": "@jupyter-widgets/base",
          "model_name": "LayoutModel",
          "model_module_version": "1.2.0",
          "state": {
            "_view_name": "LayoutView",
            "grid_template_rows": null,
            "right": null,
            "justify_content": null,
            "_view_module": "@jupyter-widgets/base",
            "overflow": null,
            "_model_module_version": "1.2.0",
            "_view_count": null,
            "flex_flow": null,
            "width": null,
            "min_width": null,
            "border": null,
            "align_items": null,
            "bottom": null,
            "_model_module": "@jupyter-widgets/base",
            "top": null,
            "grid_column": null,
            "overflow_y": null,
            "overflow_x": null,
            "grid_auto_flow": null,
            "grid_area": null,
            "grid_template_columns": null,
            "flex": null,
            "_model_name": "LayoutModel",
            "justify_items": null,
            "grid_row": null,
            "max_height": null,
            "align_content": null,
            "visibility": null,
            "align_self": null,
            "height": null,
            "min_height": null,
            "padding": null,
            "grid_auto_rows": null,
            "grid_gap": null,
            "max_width": null,
            "order": null,
            "_view_module_version": "1.2.0",
            "grid_template_areas": null,
            "object_position": null,
            "object_fit": null,
            "grid_auto_columns": null,
            "margin": null,
            "display": null,
            "left": null
          }
        },
        "159f37f26455454ea0b36fe9445819a8": {
          "model_module": "@jupyter-widgets/controls",
          "model_name": "HBoxModel",
          "model_module_version": "1.5.0",
          "state": {
            "_view_name": "HBoxView",
            "_dom_classes": [],
            "_model_name": "HBoxModel",
            "_view_module": "@jupyter-widgets/controls",
            "_model_module_version": "1.5.0",
            "_view_count": null,
            "_view_module_version": "1.5.0",
            "box_style": "",
            "layout": "IPY_MODEL_c5a971d352af45a2b93bcc2ec29cf332",
            "_model_module": "@jupyter-widgets/controls",
            "children": [
              "IPY_MODEL_e4dbb79e53f3438a82a0bddbb97c28d6",
              "IPY_MODEL_f2c2e266867a465889524e5083e3b8c7",
              "IPY_MODEL_2e76e4480e6c4e00914ba5c604404f32"
            ]
          }
        },
        "c5a971d352af45a2b93bcc2ec29cf332": {
          "model_module": "@jupyter-widgets/base",
          "model_name": "LayoutModel",
          "model_module_version": "1.2.0",
          "state": {
            "_view_name": "LayoutView",
            "grid_template_rows": null,
            "right": null,
            "justify_content": null,
            "_view_module": "@jupyter-widgets/base",
            "overflow": null,
            "_model_module_version": "1.2.0",
            "_view_count": null,
            "flex_flow": null,
            "width": null,
            "min_width": null,
            "border": null,
            "align_items": null,
            "bottom": null,
            "_model_module": "@jupyter-widgets/base",
            "top": null,
            "grid_column": null,
            "overflow_y": null,
            "overflow_x": null,
            "grid_auto_flow": null,
            "grid_area": null,
            "grid_template_columns": null,
            "flex": null,
            "_model_name": "LayoutModel",
            "justify_items": null,
            "grid_row": null,
            "max_height": null,
            "align_content": null,
            "visibility": null,
            "align_self": null,
            "height": null,
            "min_height": null,
            "padding": null,
            "grid_auto_rows": null,
            "grid_gap": null,
            "max_width": null,
            "order": null,
            "_view_module_version": "1.2.0",
            "grid_template_areas": null,
            "object_position": null,
            "object_fit": null,
            "grid_auto_columns": null,
            "margin": null,
            "display": null,
            "left": null
          }
        },
        "e4dbb79e53f3438a82a0bddbb97c28d6": {
          "model_module": "@jupyter-widgets/controls",
          "model_name": "HTMLModel",
          "model_module_version": "1.5.0",
          "state": {
            "_view_name": "HTMLView",
            "style": "IPY_MODEL_cde8b0a8da9645d9a900441f9a101888",
            "_dom_classes": [],
            "description": "",
            "_model_name": "HTMLModel",
            "placeholder": "​",
            "_view_module": "@jupyter-widgets/controls",
            "_model_module_version": "1.5.0",
            "value": "Downloading: 100%",
            "_view_count": null,
            "_view_module_version": "1.5.0",
            "description_tooltip": null,
            "_model_module": "@jupyter-widgets/controls",
            "layout": "IPY_MODEL_2d94e99ff806490aa670aea1d7d17500"
          }
        },
        "f2c2e266867a465889524e5083e3b8c7": {
          "model_module": "@jupyter-widgets/controls",
          "model_name": "FloatProgressModel",
          "model_module_version": "1.5.0",
          "state": {
            "_view_name": "ProgressView",
            "style": "IPY_MODEL_3f3e5b749d1a4a889ce348819c96a712",
            "_dom_classes": [],
            "description": "",
            "_model_name": "FloatProgressModel",
            "bar_style": "success",
            "max": 1626,
            "_view_module": "@jupyter-widgets/controls",
            "_model_module_version": "1.5.0",
            "value": 1626,
            "_view_count": null,
            "_view_module_version": "1.5.0",
            "orientation": "horizontal",
            "min": 0,
            "description_tooltip": null,
            "_model_module": "@jupyter-widgets/controls",
            "layout": "IPY_MODEL_172a1a2eac0942c6bf6e209a9f8a6e1c"
          }
        },
        "2e76e4480e6c4e00914ba5c604404f32": {
          "model_module": "@jupyter-widgets/controls",
          "model_name": "HTMLModel",
          "model_module_version": "1.5.0",
          "state": {
            "_view_name": "HTMLView",
            "style": "IPY_MODEL_5db11d4aeb2c458998d71ec75f413821",
            "_dom_classes": [],
            "description": "",
            "_model_name": "HTMLModel",
            "placeholder": "​",
            "_view_module": "@jupyter-widgets/controls",
            "_model_module_version": "1.5.0",
            "value": " 1.59k/1.59k [00:00&lt;00:00, 30.9kB/s]",
            "_view_count": null,
            "_view_module_version": "1.5.0",
            "description_tooltip": null,
            "_model_module": "@jupyter-widgets/controls",
            "layout": "IPY_MODEL_61b8a9c8031842e095275a5949aa5961"
          }
        },
        "cde8b0a8da9645d9a900441f9a101888": {
          "model_module": "@jupyter-widgets/controls",
          "model_name": "DescriptionStyleModel",
          "model_module_version": "1.5.0",
          "state": {
            "_view_name": "StyleView",
            "_model_name": "DescriptionStyleModel",
            "description_width": "",
            "_view_module": "@jupyter-widgets/base",
            "_model_module_version": "1.5.0",
            "_view_count": null,
            "_view_module_version": "1.2.0",
            "_model_module": "@jupyter-widgets/controls"
          }
        },
        "2d94e99ff806490aa670aea1d7d17500": {
          "model_module": "@jupyter-widgets/base",
          "model_name": "LayoutModel",
          "model_module_version": "1.2.0",
          "state": {
            "_view_name": "LayoutView",
            "grid_template_rows": null,
            "right": null,
            "justify_content": null,
            "_view_module": "@jupyter-widgets/base",
            "overflow": null,
            "_model_module_version": "1.2.0",
            "_view_count": null,
            "flex_flow": null,
            "width": null,
            "min_width": null,
            "border": null,
            "align_items": null,
            "bottom": null,
            "_model_module": "@jupyter-widgets/base",
            "top": null,
            "grid_column": null,
            "overflow_y": null,
            "overflow_x": null,
            "grid_auto_flow": null,
            "grid_area": null,
            "grid_template_columns": null,
            "flex": null,
            "_model_name": "LayoutModel",
            "justify_items": null,
            "grid_row": null,
            "max_height": null,
            "align_content": null,
            "visibility": null,
            "align_self": null,
            "height": null,
            "min_height": null,
            "padding": null,
            "grid_auto_rows": null,
            "grid_gap": null,
            "max_width": null,
            "order": null,
            "_view_module_version": "1.2.0",
            "grid_template_areas": null,
            "object_position": null,
            "object_fit": null,
            "grid_auto_columns": null,
            "margin": null,
            "display": null,
            "left": null
          }
        },
        "3f3e5b749d1a4a889ce348819c96a712": {
          "model_module": "@jupyter-widgets/controls",
          "model_name": "ProgressStyleModel",
          "model_module_version": "1.5.0",
          "state": {
            "_view_name": "StyleView",
            "_model_name": "ProgressStyleModel",
            "description_width": "",
            "_view_module": "@jupyter-widgets/base",
            "_model_module_version": "1.5.0",
            "_view_count": null,
            "_view_module_version": "1.2.0",
            "bar_color": null,
            "_model_module": "@jupyter-widgets/controls"
          }
        },
        "172a1a2eac0942c6bf6e209a9f8a6e1c": {
          "model_module": "@jupyter-widgets/base",
          "model_name": "LayoutModel",
          "model_module_version": "1.2.0",
          "state": {
            "_view_name": "LayoutView",
            "grid_template_rows": null,
            "right": null,
            "justify_content": null,
            "_view_module": "@jupyter-widgets/base",
            "overflow": null,
            "_model_module_version": "1.2.0",
            "_view_count": null,
            "flex_flow": null,
            "width": null,
            "min_width": null,
            "border": null,
            "align_items": null,
            "bottom": null,
            "_model_module": "@jupyter-widgets/base",
            "top": null,
            "grid_column": null,
            "overflow_y": null,
            "overflow_x": null,
            "grid_auto_flow": null,
            "grid_area": null,
            "grid_template_columns": null,
            "flex": null,
            "_model_name": "LayoutModel",
            "justify_items": null,
            "grid_row": null,
            "max_height": null,
            "align_content": null,
            "visibility": null,
            "align_self": null,
            "height": null,
            "min_height": null,
            "padding": null,
            "grid_auto_rows": null,
            "grid_gap": null,
            "max_width": null,
            "order": null,
            "_view_module_version": "1.2.0",
            "grid_template_areas": null,
            "object_position": null,
            "object_fit": null,
            "grid_auto_columns": null,
            "margin": null,
            "display": null,
            "left": null
          }
        },
        "5db11d4aeb2c458998d71ec75f413821": {
          "model_module": "@jupyter-widgets/controls",
          "model_name": "DescriptionStyleModel",
          "model_module_version": "1.5.0",
          "state": {
            "_view_name": "StyleView",
            "_model_name": "DescriptionStyleModel",
            "description_width": "",
            "_view_module": "@jupyter-widgets/base",
            "_model_module_version": "1.5.0",
            "_view_count": null,
            "_view_module_version": "1.2.0",
            "_model_module": "@jupyter-widgets/controls"
          }
        },
        "61b8a9c8031842e095275a5949aa5961": {
          "model_module": "@jupyter-widgets/base",
          "model_name": "LayoutModel",
          "model_module_version": "1.2.0",
          "state": {
            "_view_name": "LayoutView",
            "grid_template_rows": null,
            "right": null,
            "justify_content": null,
            "_view_module": "@jupyter-widgets/base",
            "overflow": null,
            "_model_module_version": "1.2.0",
            "_view_count": null,
            "flex_flow": null,
            "width": null,
            "min_width": null,
            "border": null,
            "align_items": null,
            "bottom": null,
            "_model_module": "@jupyter-widgets/base",
            "top": null,
            "grid_column": null,
            "overflow_y": null,
            "overflow_x": null,
            "grid_auto_flow": null,
            "grid_area": null,
            "grid_template_columns": null,
            "flex": null,
            "_model_name": "LayoutModel",
            "justify_items": null,
            "grid_row": null,
            "max_height": null,
            "align_content": null,
            "visibility": null,
            "align_self": null,
            "height": null,
            "min_height": null,
            "padding": null,
            "grid_auto_rows": null,
            "grid_gap": null,
            "max_width": null,
            "order": null,
            "_view_module_version": "1.2.0",
            "grid_template_areas": null,
            "object_position": null,
            "object_fit": null,
            "grid_auto_columns": null,
            "margin": null,
            "display": null,
            "left": null
          }
        },
        "35b2ab3ff2a843268cf8508a814e89cf": {
          "model_module": "@jupyter-widgets/controls",
          "model_name": "HBoxModel",
          "model_module_version": "1.5.0",
          "state": {
            "_view_name": "HBoxView",
            "_dom_classes": [],
            "_model_name": "HBoxModel",
            "_view_module": "@jupyter-widgets/controls",
            "_model_module_version": "1.5.0",
            "_view_count": null,
            "_view_module_version": "1.5.0",
            "box_style": "",
            "layout": "IPY_MODEL_fddbfd9a290247e5b1e21458c07ef57e",
            "_model_module": "@jupyter-widgets/controls",
            "children": [
              "IPY_MODEL_c77a4d20eefe49de9e19d61770404b42",
              "IPY_MODEL_28a91130c58e4d4bb6bc405bf4adc293",
              "IPY_MODEL_6f5b1e4e8ef0467eba891e6d55213cd4"
            ]
          }
        },
        "fddbfd9a290247e5b1e21458c07ef57e": {
          "model_module": "@jupyter-widgets/base",
          "model_name": "LayoutModel",
          "model_module_version": "1.2.0",
          "state": {
            "_view_name": "LayoutView",
            "grid_template_rows": null,
            "right": null,
            "justify_content": null,
            "_view_module": "@jupyter-widgets/base",
            "overflow": null,
            "_model_module_version": "1.2.0",
            "_view_count": null,
            "flex_flow": null,
            "width": null,
            "min_width": null,
            "border": null,
            "align_items": null,
            "bottom": null,
            "_model_module": "@jupyter-widgets/base",
            "top": null,
            "grid_column": null,
            "overflow_y": null,
            "overflow_x": null,
            "grid_auto_flow": null,
            "grid_area": null,
            "grid_template_columns": null,
            "flex": null,
            "_model_name": "LayoutModel",
            "justify_items": null,
            "grid_row": null,
            "max_height": null,
            "align_content": null,
            "visibility": null,
            "align_self": null,
            "height": null,
            "min_height": null,
            "padding": null,
            "grid_auto_rows": null,
            "grid_gap": null,
            "max_width": null,
            "order": null,
            "_view_module_version": "1.2.0",
            "grid_template_areas": null,
            "object_position": null,
            "object_fit": null,
            "grid_auto_columns": null,
            "margin": null,
            "display": null,
            "left": null
          }
        },
        "c77a4d20eefe49de9e19d61770404b42": {
          "model_module": "@jupyter-widgets/controls",
          "model_name": "HTMLModel",
          "model_module_version": "1.5.0",
          "state": {
            "_view_name": "HTMLView",
            "style": "IPY_MODEL_ab0022578c304fd3bb3684354fef17eb",
            "_dom_classes": [],
            "description": "",
            "_model_name": "HTMLModel",
            "placeholder": "​",
            "_view_module": "@jupyter-widgets/controls",
            "_model_module_version": "1.5.0",
            "value": "Downloading: 100%",
            "_view_count": null,
            "_view_module_version": "1.5.0",
            "description_tooltip": null,
            "_model_module": "@jupyter-widgets/controls",
            "layout": "IPY_MODEL_e3aa6a1844b844a484ae57baade16d43"
          }
        },
        "28a91130c58e4d4bb6bc405bf4adc293": {
          "model_module": "@jupyter-widgets/controls",
          "model_name": "FloatProgressModel",
          "model_module_version": "1.5.0",
          "state": {
            "_view_name": "ProgressView",
            "style": "IPY_MODEL_b4f93997d9bf436fb70d2091f3940a3a",
            "_dom_classes": [],
            "description": "",
            "_model_name": "FloatProgressModel",
            "bar_style": "success",
            "max": 1625565295,
            "_view_module": "@jupyter-widgets/controls",
            "_model_module_version": "1.5.0",
            "value": 1625565295,
            "_view_count": null,
            "_view_module_version": "1.5.0",
            "orientation": "horizontal",
            "min": 0,
            "description_tooltip": null,
            "_model_module": "@jupyter-widgets/controls",
            "layout": "IPY_MODEL_ae864c301f95429dbcd1448c69d757a0"
          }
        },
        "6f5b1e4e8ef0467eba891e6d55213cd4": {
          "model_module": "@jupyter-widgets/controls",
          "model_name": "HTMLModel",
          "model_module_version": "1.5.0",
          "state": {
            "_view_name": "HTMLView",
            "style": "IPY_MODEL_16691a59dbf542ffa09c3c13100ed60e",
            "_dom_classes": [],
            "description": "",
            "_model_name": "HTMLModel",
            "placeholder": "​",
            "_view_module": "@jupyter-widgets/controls",
            "_model_module_version": "1.5.0",
            "value": " 1.51G/1.51G [00:56&lt;00:00, 34.7MB/s]",
            "_view_count": null,
            "_view_module_version": "1.5.0",
            "description_tooltip": null,
            "_model_module": "@jupyter-widgets/controls",
            "layout": "IPY_MODEL_893ba4f4bb2440be9f47966db8c56568"
          }
        },
        "ab0022578c304fd3bb3684354fef17eb": {
          "model_module": "@jupyter-widgets/controls",
          "model_name": "DescriptionStyleModel",
          "model_module_version": "1.5.0",
          "state": {
            "_view_name": "StyleView",
            "_model_name": "DescriptionStyleModel",
            "description_width": "",
            "_view_module": "@jupyter-widgets/base",
            "_model_module_version": "1.5.0",
            "_view_count": null,
            "_view_module_version": "1.2.0",
            "_model_module": "@jupyter-widgets/controls"
          }
        },
        "e3aa6a1844b844a484ae57baade16d43": {
          "model_module": "@jupyter-widgets/base",
          "model_name": "LayoutModel",
          "model_module_version": "1.2.0",
          "state": {
            "_view_name": "LayoutView",
            "grid_template_rows": null,
            "right": null,
            "justify_content": null,
            "_view_module": "@jupyter-widgets/base",
            "overflow": null,
            "_model_module_version": "1.2.0",
            "_view_count": null,
            "flex_flow": null,
            "width": null,
            "min_width": null,
            "border": null,
            "align_items": null,
            "bottom": null,
            "_model_module": "@jupyter-widgets/base",
            "top": null,
            "grid_column": null,
            "overflow_y": null,
            "overflow_x": null,
            "grid_auto_flow": null,
            "grid_area": null,
            "grid_template_columns": null,
            "flex": null,
            "_model_name": "LayoutModel",
            "justify_items": null,
            "grid_row": null,
            "max_height": null,
            "align_content": null,
            "visibility": null,
            "align_self": null,
            "height": null,
            "min_height": null,
            "padding": null,
            "grid_auto_rows": null,
            "grid_gap": null,
            "max_width": null,
            "order": null,
            "_view_module_version": "1.2.0",
            "grid_template_areas": null,
            "object_position": null,
            "object_fit": null,
            "grid_auto_columns": null,
            "margin": null,
            "display": null,
            "left": null
          }
        },
        "b4f93997d9bf436fb70d2091f3940a3a": {
          "model_module": "@jupyter-widgets/controls",
          "model_name": "ProgressStyleModel",
          "model_module_version": "1.5.0",
          "state": {
            "_view_name": "StyleView",
            "_model_name": "ProgressStyleModel",
            "description_width": "",
            "_view_module": "@jupyter-widgets/base",
            "_model_module_version": "1.5.0",
            "_view_count": null,
            "_view_module_version": "1.2.0",
            "bar_color": null,
            "_model_module": "@jupyter-widgets/controls"
          }
        },
        "ae864c301f95429dbcd1448c69d757a0": {
          "model_module": "@jupyter-widgets/base",
          "model_name": "LayoutModel",
          "model_module_version": "1.2.0",
          "state": {
            "_view_name": "LayoutView",
            "grid_template_rows": null,
            "right": null,
            "justify_content": null,
            "_view_module": "@jupyter-widgets/base",
            "overflow": null,
            "_model_module_version": "1.2.0",
            "_view_count": null,
            "flex_flow": null,
            "width": null,
            "min_width": null,
            "border": null,
            "align_items": null,
            "bottom": null,
            "_model_module": "@jupyter-widgets/base",
            "top": null,
            "grid_column": null,
            "overflow_y": null,
            "overflow_x": null,
            "grid_auto_flow": null,
            "grid_area": null,
            "grid_template_columns": null,
            "flex": null,
            "_model_name": "LayoutModel",
            "justify_items": null,
            "grid_row": null,
            "max_height": null,
            "align_content": null,
            "visibility": null,
            "align_self": null,
            "height": null,
            "min_height": null,
            "padding": null,
            "grid_auto_rows": null,
            "grid_gap": null,
            "max_width": null,
            "order": null,
            "_view_module_version": "1.2.0",
            "grid_template_areas": null,
            "object_position": null,
            "object_fit": null,
            "grid_auto_columns": null,
            "margin": null,
            "display": null,
            "left": null
          }
        },
        "16691a59dbf542ffa09c3c13100ed60e": {
          "model_module": "@jupyter-widgets/controls",
          "model_name": "DescriptionStyleModel",
          "model_module_version": "1.5.0",
          "state": {
            "_view_name": "StyleView",
            "_model_name": "DescriptionStyleModel",
            "description_width": "",
            "_view_module": "@jupyter-widgets/base",
            "_model_module_version": "1.5.0",
            "_view_count": null,
            "_view_module_version": "1.2.0",
            "_model_module": "@jupyter-widgets/controls"
          }
        },
        "893ba4f4bb2440be9f47966db8c56568": {
          "model_module": "@jupyter-widgets/base",
          "model_name": "LayoutModel",
          "model_module_version": "1.2.0",
          "state": {
            "_view_name": "LayoutView",
            "grid_template_rows": null,
            "right": null,
            "justify_content": null,
            "_view_module": "@jupyter-widgets/base",
            "overflow": null,
            "_model_module_version": "1.2.0",
            "_view_count": null,
            "flex_flow": null,
            "width": null,
            "min_width": null,
            "border": null,
            "align_items": null,
            "bottom": null,
            "_model_module": "@jupyter-widgets/base",
            "top": null,
            "grid_column": null,
            "overflow_y": null,
            "overflow_x": null,
            "grid_auto_flow": null,
            "grid_area": null,
            "grid_template_columns": null,
            "flex": null,
            "_model_name": "LayoutModel",
            "justify_items": null,
            "grid_row": null,
            "max_height": null,
            "align_content": null,
            "visibility": null,
            "align_self": null,
            "height": null,
            "min_height": null,
            "padding": null,
            "grid_auto_rows": null,
            "grid_gap": null,
            "max_width": null,
            "order": null,
            "_view_module_version": "1.2.0",
            "grid_template_areas": null,
            "object_position": null,
            "object_fit": null,
            "grid_auto_columns": null,
            "margin": null,
            "display": null,
            "left": null
          }
        },
        "954a62d3f22640598f16415f9ecf371d": {
          "model_module": "@jupyter-widgets/controls",
          "model_name": "HBoxModel",
          "model_module_version": "1.5.0",
          "state": {
            "_view_name": "HBoxView",
            "_dom_classes": [],
            "_model_name": "HBoxModel",
            "_view_module": "@jupyter-widgets/controls",
            "_model_module_version": "1.5.0",
            "_view_count": null,
            "_view_module_version": "1.5.0",
            "box_style": "",
            "layout": "IPY_MODEL_7cb3f61d0f4048a7a187758a76a9ca10",
            "_model_module": "@jupyter-widgets/controls",
            "children": [
              "IPY_MODEL_03de47799408443f8828ae4f05aac449",
              "IPY_MODEL_0650ddeaff66493a82e1355871fdefec",
              "IPY_MODEL_911343009a2f455fa576b659e84695a5"
            ]
          }
        },
        "7cb3f61d0f4048a7a187758a76a9ca10": {
          "model_module": "@jupyter-widgets/base",
          "model_name": "LayoutModel",
          "model_module_version": "1.2.0",
          "state": {
            "_view_name": "LayoutView",
            "grid_template_rows": null,
            "right": null,
            "justify_content": null,
            "_view_module": "@jupyter-widgets/base",
            "overflow": null,
            "_model_module_version": "1.2.0",
            "_view_count": null,
            "flex_flow": null,
            "width": null,
            "min_width": null,
            "border": null,
            "align_items": null,
            "bottom": null,
            "_model_module": "@jupyter-widgets/base",
            "top": null,
            "grid_column": null,
            "overflow_y": null,
            "overflow_x": null,
            "grid_auto_flow": null,
            "grid_area": null,
            "grid_template_columns": null,
            "flex": null,
            "_model_name": "LayoutModel",
            "justify_items": null,
            "grid_row": null,
            "max_height": null,
            "align_content": null,
            "visibility": null,
            "align_self": null,
            "height": null,
            "min_height": null,
            "padding": null,
            "grid_auto_rows": null,
            "grid_gap": null,
            "max_width": null,
            "order": null,
            "_view_module_version": "1.2.0",
            "grid_template_areas": null,
            "object_position": null,
            "object_fit": null,
            "grid_auto_columns": null,
            "margin": null,
            "display": null,
            "left": null
          }
        },
        "03de47799408443f8828ae4f05aac449": {
          "model_module": "@jupyter-widgets/controls",
          "model_name": "HTMLModel",
          "model_module_version": "1.5.0",
          "state": {
            "_view_name": "HTMLView",
            "style": "IPY_MODEL_5d839d1f343d467ebe7693751b9c15dc",
            "_dom_classes": [],
            "description": "",
            "_model_name": "HTMLModel",
            "placeholder": "​",
            "_view_module": "@jupyter-widgets/controls",
            "_model_module_version": "1.5.0",
            "value": "Downloading: 100%",
            "_view_count": null,
            "_view_module_version": "1.5.0",
            "description_tooltip": null,
            "_model_module": "@jupyter-widgets/controls",
            "layout": "IPY_MODEL_823c70779fad498382070595cf04459a"
          }
        },
        "0650ddeaff66493a82e1355871fdefec": {
          "model_module": "@jupyter-widgets/controls",
          "model_name": "FloatProgressModel",
          "model_module_version": "1.5.0",
          "state": {
            "_view_name": "ProgressView",
            "style": "IPY_MODEL_f0eeaef97cbc454993fa6f9628097755",
            "_dom_classes": [],
            "description": "",
            "_model_name": "FloatProgressModel",
            "bar_style": "success",
            "max": 300,
            "_view_module": "@jupyter-widgets/controls",
            "_model_module_version": "1.5.0",
            "value": 300,
            "_view_count": null,
            "_view_module_version": "1.5.0",
            "orientation": "horizontal",
            "min": 0,
            "description_tooltip": null,
            "_model_module": "@jupyter-widgets/controls",
            "layout": "IPY_MODEL_1cda14f94a4b48e7945dd14a14428d8f"
          }
        },
        "911343009a2f455fa576b659e84695a5": {
          "model_module": "@jupyter-widgets/controls",
          "model_name": "HTMLModel",
          "model_module_version": "1.5.0",
          "state": {
            "_view_name": "HTMLView",
            "style": "IPY_MODEL_dc4fa2b5a10f4bada3c02469e9be9f57",
            "_dom_classes": [],
            "description": "",
            "_model_name": "HTMLModel",
            "placeholder": "​",
            "_view_module": "@jupyter-widgets/controls",
            "_model_module_version": "1.5.0",
            "value": " 300/300 [00:00&lt;00:00, 1.54kB/s]",
            "_view_count": null,
            "_view_module_version": "1.5.0",
            "description_tooltip": null,
            "_model_module": "@jupyter-widgets/controls",
            "layout": "IPY_MODEL_8a574ea5011443daa7d0479380580a5c"
          }
        },
        "5d839d1f343d467ebe7693751b9c15dc": {
          "model_module": "@jupyter-widgets/controls",
          "model_name": "DescriptionStyleModel",
          "model_module_version": "1.5.0",
          "state": {
            "_view_name": "StyleView",
            "_model_name": "DescriptionStyleModel",
            "description_width": "",
            "_view_module": "@jupyter-widgets/base",
            "_model_module_version": "1.5.0",
            "_view_count": null,
            "_view_module_version": "1.2.0",
            "_model_module": "@jupyter-widgets/controls"
          }
        },
        "823c70779fad498382070595cf04459a": {
          "model_module": "@jupyter-widgets/base",
          "model_name": "LayoutModel",
          "model_module_version": "1.2.0",
          "state": {
            "_view_name": "LayoutView",
            "grid_template_rows": null,
            "right": null,
            "justify_content": null,
            "_view_module": "@jupyter-widgets/base",
            "overflow": null,
            "_model_module_version": "1.2.0",
            "_view_count": null,
            "flex_flow": null,
            "width": null,
            "min_width": null,
            "border": null,
            "align_items": null,
            "bottom": null,
            "_model_module": "@jupyter-widgets/base",
            "top": null,
            "grid_column": null,
            "overflow_y": null,
            "overflow_x": null,
            "grid_auto_flow": null,
            "grid_area": null,
            "grid_template_columns": null,
            "flex": null,
            "_model_name": "LayoutModel",
            "justify_items": null,
            "grid_row": null,
            "max_height": null,
            "align_content": null,
            "visibility": null,
            "align_self": null,
            "height": null,
            "min_height": null,
            "padding": null,
            "grid_auto_rows": null,
            "grid_gap": null,
            "max_width": null,
            "order": null,
            "_view_module_version": "1.2.0",
            "grid_template_areas": null,
            "object_position": null,
            "object_fit": null,
            "grid_auto_columns": null,
            "margin": null,
            "display": null,
            "left": null
          }
        },
        "f0eeaef97cbc454993fa6f9628097755": {
          "model_module": "@jupyter-widgets/controls",
          "model_name": "ProgressStyleModel",
          "model_module_version": "1.5.0",
          "state": {
            "_view_name": "StyleView",
            "_model_name": "ProgressStyleModel",
            "description_width": "",
            "_view_module": "@jupyter-widgets/base",
            "_model_module_version": "1.5.0",
            "_view_count": null,
            "_view_module_version": "1.2.0",
            "bar_color": null,
            "_model_module": "@jupyter-widgets/controls"
          }
        },
        "1cda14f94a4b48e7945dd14a14428d8f": {
          "model_module": "@jupyter-widgets/base",
          "model_name": "LayoutModel",
          "model_module_version": "1.2.0",
          "state": {
            "_view_name": "LayoutView",
            "grid_template_rows": null,
            "right": null,
            "justify_content": null,
            "_view_module": "@jupyter-widgets/base",
            "overflow": null,
            "_model_module_version": "1.2.0",
            "_view_count": null,
            "flex_flow": null,
            "width": null,
            "min_width": null,
            "border": null,
            "align_items": null,
            "bottom": null,
            "_model_module": "@jupyter-widgets/base",
            "top": null,
            "grid_column": null,
            "overflow_y": null,
            "overflow_x": null,
            "grid_auto_flow": null,
            "grid_area": null,
            "grid_template_columns": null,
            "flex": null,
            "_model_name": "LayoutModel",
            "justify_items": null,
            "grid_row": null,
            "max_height": null,
            "align_content": null,
            "visibility": null,
            "align_self": null,
            "height": null,
            "min_height": null,
            "padding": null,
            "grid_auto_rows": null,
            "grid_gap": null,
            "max_width": null,
            "order": null,
            "_view_module_version": "1.2.0",
            "grid_template_areas": null,
            "object_position": null,
            "object_fit": null,
            "grid_auto_columns": null,
            "margin": null,
            "display": null,
            "left": null
          }
        },
        "dc4fa2b5a10f4bada3c02469e9be9f57": {
          "model_module": "@jupyter-widgets/controls",
          "model_name": "DescriptionStyleModel",
          "model_module_version": "1.5.0",
          "state": {
            "_view_name": "StyleView",
            "_model_name": "DescriptionStyleModel",
            "description_width": "",
            "_view_module": "@jupyter-widgets/base",
            "_model_module_version": "1.5.0",
            "_view_count": null,
            "_view_module_version": "1.2.0",
            "_model_module": "@jupyter-widgets/controls"
          }
        },
        "8a574ea5011443daa7d0479380580a5c": {
          "model_module": "@jupyter-widgets/base",
          "model_name": "LayoutModel",
          "model_module_version": "1.2.0",
          "state": {
            "_view_name": "LayoutView",
            "grid_template_rows": null,
            "right": null,
            "justify_content": null,
            "_view_module": "@jupyter-widgets/base",
            "overflow": null,
            "_model_module_version": "1.2.0",
            "_view_count": null,
            "flex_flow": null,
            "width": null,
            "min_width": null,
            "border": null,
            "align_items": null,
            "bottom": null,
            "_model_module": "@jupyter-widgets/base",
            "top": null,
            "grid_column": null,
            "overflow_y": null,
            "overflow_x": null,
            "grid_auto_flow": null,
            "grid_area": null,
            "grid_template_columns": null,
            "flex": null,
            "_model_name": "LayoutModel",
            "justify_items": null,
            "grid_row": null,
            "max_height": null,
            "align_content": null,
            "visibility": null,
            "align_self": null,
            "height": null,
            "min_height": null,
            "padding": null,
            "grid_auto_rows": null,
            "grid_gap": null,
            "max_width": null,
            "order": null,
            "_view_module_version": "1.2.0",
            "grid_template_areas": null,
            "object_position": null,
            "object_fit": null,
            "grid_auto_columns": null,
            "margin": null,
            "display": null,
            "left": null
          }
        },
        "bbea9d1031084d40b3d0186dd50ef0c0": {
          "model_module": "@jupyter-widgets/controls",
          "model_name": "HBoxModel",
          "model_module_version": "1.5.0",
          "state": {
            "_view_name": "HBoxView",
            "_dom_classes": [],
            "_model_name": "HBoxModel",
            "_view_module": "@jupyter-widgets/controls",
            "_model_module_version": "1.5.0",
            "_view_count": null,
            "_view_module_version": "1.5.0",
            "box_style": "",
            "layout": "IPY_MODEL_766d4e782c2345d4ae6469c8d012d80e",
            "_model_module": "@jupyter-widgets/controls",
            "children": [
              "IPY_MODEL_b58e42e2ada5479b8442e4ec7e5d5ec3",
              "IPY_MODEL_042aa59764ae4613acaaee31d4353c0d",
              "IPY_MODEL_aed7a56b4956438eb9db78c0e989efb2"
            ]
          }
        },
        "766d4e782c2345d4ae6469c8d012d80e": {
          "model_module": "@jupyter-widgets/base",
          "model_name": "LayoutModel",
          "model_module_version": "1.2.0",
          "state": {
            "_view_name": "LayoutView",
            "grid_template_rows": null,
            "right": null,
            "justify_content": null,
            "_view_module": "@jupyter-widgets/base",
            "overflow": null,
            "_model_module_version": "1.2.0",
            "_view_count": null,
            "flex_flow": null,
            "width": null,
            "min_width": null,
            "border": null,
            "align_items": null,
            "bottom": null,
            "_model_module": "@jupyter-widgets/base",
            "top": null,
            "grid_column": null,
            "overflow_y": null,
            "overflow_x": null,
            "grid_auto_flow": null,
            "grid_area": null,
            "grid_template_columns": null,
            "flex": null,
            "_model_name": "LayoutModel",
            "justify_items": null,
            "grid_row": null,
            "max_height": null,
            "align_content": null,
            "visibility": null,
            "align_self": null,
            "height": null,
            "min_height": null,
            "padding": null,
            "grid_auto_rows": null,
            "grid_gap": null,
            "max_width": null,
            "order": null,
            "_view_module_version": "1.2.0",
            "grid_template_areas": null,
            "object_position": null,
            "object_fit": null,
            "grid_auto_columns": null,
            "margin": null,
            "display": null,
            "left": null
          }
        },
        "b58e42e2ada5479b8442e4ec7e5d5ec3": {
          "model_module": "@jupyter-widgets/controls",
          "model_name": "HTMLModel",
          "model_module_version": "1.5.0",
          "state": {
            "_view_name": "HTMLView",
            "style": "IPY_MODEL_c813b8b82fd84a998547a207904e6723",
            "_dom_classes": [],
            "description": "",
            "_model_name": "HTMLModel",
            "placeholder": "​",
            "_view_module": "@jupyter-widgets/controls",
            "_model_module_version": "1.5.0",
            "value": "Downloading: 100%",
            "_view_count": null,
            "_view_module_version": "1.5.0",
            "description_tooltip": null,
            "_model_module": "@jupyter-widgets/controls",
            "layout": "IPY_MODEL_766e8b47959849ae89da65c5d30b48c6"
          }
        },
        "042aa59764ae4613acaaee31d4353c0d": {
          "model_module": "@jupyter-widgets/controls",
          "model_name": "FloatProgressModel",
          "model_module_version": "1.5.0",
          "state": {
            "_view_name": "ProgressView",
            "style": "IPY_MODEL_fb6e0e05e9b14963974ec9fba71b0503",
            "_dom_classes": [],
            "description": "",
            "_model_name": "FloatProgressModel",
            "bar_style": "success",
            "max": 798293,
            "_view_module": "@jupyter-widgets/controls",
            "_model_module_version": "1.5.0",
            "value": 798293,
            "_view_count": null,
            "_view_module_version": "1.5.0",
            "orientation": "horizontal",
            "min": 0,
            "description_tooltip": null,
            "_model_module": "@jupyter-widgets/controls",
            "layout": "IPY_MODEL_a99ef6d9f31044cfb16d3990ce4eb126"
          }
        },
        "aed7a56b4956438eb9db78c0e989efb2": {
          "model_module": "@jupyter-widgets/controls",
          "model_name": "HTMLModel",
          "model_module_version": "1.5.0",
          "state": {
            "_view_name": "HTMLView",
            "style": "IPY_MODEL_133b1026781d4f05a399432f634dc7ad",
            "_dom_classes": [],
            "description": "",
            "_model_name": "HTMLModel",
            "placeholder": "​",
            "_view_module": "@jupyter-widgets/controls",
            "_model_module_version": "1.5.0",
            "value": " 780k/780k [00:00&lt;00:00, 835kB/s]",
            "_view_count": null,
            "_view_module_version": "1.5.0",
            "description_tooltip": null,
            "_model_module": "@jupyter-widgets/controls",
            "layout": "IPY_MODEL_4cc3406cfdd84bf6af4497160535e704"
          }
        },
        "c813b8b82fd84a998547a207904e6723": {
          "model_module": "@jupyter-widgets/controls",
          "model_name": "DescriptionStyleModel",
          "model_module_version": "1.5.0",
          "state": {
            "_view_name": "StyleView",
            "_model_name": "DescriptionStyleModel",
            "description_width": "",
            "_view_module": "@jupyter-widgets/base",
            "_model_module_version": "1.5.0",
            "_view_count": null,
            "_view_module_version": "1.2.0",
            "_model_module": "@jupyter-widgets/controls"
          }
        },
        "766e8b47959849ae89da65c5d30b48c6": {
          "model_module": "@jupyter-widgets/base",
          "model_name": "LayoutModel",
          "model_module_version": "1.2.0",
          "state": {
            "_view_name": "LayoutView",
            "grid_template_rows": null,
            "right": null,
            "justify_content": null,
            "_view_module": "@jupyter-widgets/base",
            "overflow": null,
            "_model_module_version": "1.2.0",
            "_view_count": null,
            "flex_flow": null,
            "width": null,
            "min_width": null,
            "border": null,
            "align_items": null,
            "bottom": null,
            "_model_module": "@jupyter-widgets/base",
            "top": null,
            "grid_column": null,
            "overflow_y": null,
            "overflow_x": null,
            "grid_auto_flow": null,
            "grid_area": null,
            "grid_template_columns": null,
            "flex": null,
            "_model_name": "LayoutModel",
            "justify_items": null,
            "grid_row": null,
            "max_height": null,
            "align_content": null,
            "visibility": null,
            "align_self": null,
            "height": null,
            "min_height": null,
            "padding": null,
            "grid_auto_rows": null,
            "grid_gap": null,
            "max_width": null,
            "order": null,
            "_view_module_version": "1.2.0",
            "grid_template_areas": null,
            "object_position": null,
            "object_fit": null,
            "grid_auto_columns": null,
            "margin": null,
            "display": null,
            "left": null
          }
        },
        "fb6e0e05e9b14963974ec9fba71b0503": {
          "model_module": "@jupyter-widgets/controls",
          "model_name": "ProgressStyleModel",
          "model_module_version": "1.5.0",
          "state": {
            "_view_name": "StyleView",
            "_model_name": "ProgressStyleModel",
            "description_width": "",
            "_view_module": "@jupyter-widgets/base",
            "_model_module_version": "1.5.0",
            "_view_count": null,
            "_view_module_version": "1.2.0",
            "bar_color": null,
            "_model_module": "@jupyter-widgets/controls"
          }
        },
        "a99ef6d9f31044cfb16d3990ce4eb126": {
          "model_module": "@jupyter-widgets/base",
          "model_name": "LayoutModel",
          "model_module_version": "1.2.0",
          "state": {
            "_view_name": "LayoutView",
            "grid_template_rows": null,
            "right": null,
            "justify_content": null,
            "_view_module": "@jupyter-widgets/base",
            "overflow": null,
            "_model_module_version": "1.2.0",
            "_view_count": null,
            "flex_flow": null,
            "width": null,
            "min_width": null,
            "border": null,
            "align_items": null,
            "bottom": null,
            "_model_module": "@jupyter-widgets/base",
            "top": null,
            "grid_column": null,
            "overflow_y": null,
            "overflow_x": null,
            "grid_auto_flow": null,
            "grid_area": null,
            "grid_template_columns": null,
            "flex": null,
            "_model_name": "LayoutModel",
            "justify_items": null,
            "grid_row": null,
            "max_height": null,
            "align_content": null,
            "visibility": null,
            "align_self": null,
            "height": null,
            "min_height": null,
            "padding": null,
            "grid_auto_rows": null,
            "grid_gap": null,
            "max_width": null,
            "order": null,
            "_view_module_version": "1.2.0",
            "grid_template_areas": null,
            "object_position": null,
            "object_fit": null,
            "grid_auto_columns": null,
            "margin": null,
            "display": null,
            "left": null
          }
        },
        "133b1026781d4f05a399432f634dc7ad": {
          "model_module": "@jupyter-widgets/controls",
          "model_name": "DescriptionStyleModel",
          "model_module_version": "1.5.0",
          "state": {
            "_view_name": "StyleView",
            "_model_name": "DescriptionStyleModel",
            "description_width": "",
            "_view_module": "@jupyter-widgets/base",
            "_model_module_version": "1.5.0",
            "_view_count": null,
            "_view_module_version": "1.2.0",
            "_model_module": "@jupyter-widgets/controls"
          }
        },
        "4cc3406cfdd84bf6af4497160535e704": {
          "model_module": "@jupyter-widgets/base",
          "model_name": "LayoutModel",
          "model_module_version": "1.2.0",
          "state": {
            "_view_name": "LayoutView",
            "grid_template_rows": null,
            "right": null,
            "justify_content": null,
            "_view_module": "@jupyter-widgets/base",
            "overflow": null,
            "_model_module_version": "1.2.0",
            "_view_count": null,
            "flex_flow": null,
            "width": null,
            "min_width": null,
            "border": null,
            "align_items": null,
            "bottom": null,
            "_model_module": "@jupyter-widgets/base",
            "top": null,
            "grid_column": null,
            "overflow_y": null,
            "overflow_x": null,
            "grid_auto_flow": null,
            "grid_area": null,
            "grid_template_columns": null,
            "flex": null,
            "_model_name": "LayoutModel",
            "justify_items": null,
            "grid_row": null,
            "max_height": null,
            "align_content": null,
            "visibility": null,
            "align_self": null,
            "height": null,
            "min_height": null,
            "padding": null,
            "grid_auto_rows": null,
            "grid_gap": null,
            "max_width": null,
            "order": null,
            "_view_module_version": "1.2.0",
            "grid_template_areas": null,
            "object_position": null,
            "object_fit": null,
            "grid_auto_columns": null,
            "margin": null,
            "display": null,
            "left": null
          }
        },
        "2ade9480924745108b5d0ec965208bb3": {
          "model_module": "@jupyter-widgets/controls",
          "model_name": "HBoxModel",
          "model_module_version": "1.5.0",
          "state": {
            "_view_name": "HBoxView",
            "_dom_classes": [],
            "_model_name": "HBoxModel",
            "_view_module": "@jupyter-widgets/controls",
            "_model_module_version": "1.5.0",
            "_view_count": null,
            "_view_module_version": "1.5.0",
            "box_style": "",
            "layout": "IPY_MODEL_88bcafdbddce40e8b989f413ce29a49b",
            "_model_module": "@jupyter-widgets/controls",
            "children": [
              "IPY_MODEL_bdc962efded74d82a5fd4cead6a5ff59",
              "IPY_MODEL_6ee815af8d07492ca04d3af09cbafdb8",
              "IPY_MODEL_f2bcec25bb6e490db3afc09ae06c4d84"
            ]
          }
        },
        "88bcafdbddce40e8b989f413ce29a49b": {
          "model_module": "@jupyter-widgets/base",
          "model_name": "LayoutModel",
          "model_module_version": "1.2.0",
          "state": {
            "_view_name": "LayoutView",
            "grid_template_rows": null,
            "right": null,
            "justify_content": null,
            "_view_module": "@jupyter-widgets/base",
            "overflow": null,
            "_model_module_version": "1.2.0",
            "_view_count": null,
            "flex_flow": null,
            "width": null,
            "min_width": null,
            "border": null,
            "align_items": null,
            "bottom": null,
            "_model_module": "@jupyter-widgets/base",
            "top": null,
            "grid_column": null,
            "overflow_y": null,
            "overflow_x": null,
            "grid_auto_flow": null,
            "grid_area": null,
            "grid_template_columns": null,
            "flex": null,
            "_model_name": "LayoutModel",
            "justify_items": null,
            "grid_row": null,
            "max_height": null,
            "align_content": null,
            "visibility": null,
            "align_self": null,
            "height": null,
            "min_height": null,
            "padding": null,
            "grid_auto_rows": null,
            "grid_gap": null,
            "max_width": null,
            "order": null,
            "_view_module_version": "1.2.0",
            "grid_template_areas": null,
            "object_position": null,
            "object_fit": null,
            "grid_auto_columns": null,
            "margin": null,
            "display": null,
            "left": null
          }
        },
        "bdc962efded74d82a5fd4cead6a5ff59": {
          "model_module": "@jupyter-widgets/controls",
          "model_name": "HTMLModel",
          "model_module_version": "1.5.0",
          "state": {
            "_view_name": "HTMLView",
            "style": "IPY_MODEL_1774dfdf87ee4ddc808756aba17042e5",
            "_dom_classes": [],
            "description": "",
            "_model_name": "HTMLModel",
            "placeholder": "​",
            "_view_module": "@jupyter-widgets/controls",
            "_model_module_version": "1.5.0",
            "value": "Downloading: 100%",
            "_view_count": null,
            "_view_module_version": "1.5.0",
            "description_tooltip": null,
            "_model_module": "@jupyter-widgets/controls",
            "layout": "IPY_MODEL_ea91ce73058b4b8cb91cdce6d1bd97e8"
          }
        },
        "6ee815af8d07492ca04d3af09cbafdb8": {
          "model_module": "@jupyter-widgets/controls",
          "model_name": "FloatProgressModel",
          "model_module_version": "1.5.0",
          "state": {
            "_view_name": "ProgressView",
            "style": "IPY_MODEL_1397c58254b44bbf9c7974f491aa9165",
            "_dom_classes": [],
            "description": "",
            "_model_name": "FloatProgressModel",
            "bar_style": "success",
            "max": 456356,
            "_view_module": "@jupyter-widgets/controls",
            "_model_module_version": "1.5.0",
            "value": 456356,
            "_view_count": null,
            "_view_module_version": "1.5.0",
            "orientation": "horizontal",
            "min": 0,
            "description_tooltip": null,
            "_model_module": "@jupyter-widgets/controls",
            "layout": "IPY_MODEL_6b892819f8be484e8c53c324468b355e"
          }
        },
        "f2bcec25bb6e490db3afc09ae06c4d84": {
          "model_module": "@jupyter-widgets/controls",
          "model_name": "HTMLModel",
          "model_module_version": "1.5.0",
          "state": {
            "_view_name": "HTMLView",
            "style": "IPY_MODEL_81f34ccc57d84b8fb211f123aedb78bc",
            "_dom_classes": [],
            "description": "",
            "_model_name": "HTMLModel",
            "placeholder": "​",
            "_view_module": "@jupyter-widgets/controls",
            "_model_module_version": "1.5.0",
            "value": " 446k/446k [00:00&lt;00:00, 608kB/s]",
            "_view_count": null,
            "_view_module_version": "1.5.0",
            "description_tooltip": null,
            "_model_module": "@jupyter-widgets/controls",
            "layout": "IPY_MODEL_09e6014b6bd34a50854a7b7ed700370d"
          }
        },
        "1774dfdf87ee4ddc808756aba17042e5": {
          "model_module": "@jupyter-widgets/controls",
          "model_name": "DescriptionStyleModel",
          "model_module_version": "1.5.0",
          "state": {
            "_view_name": "StyleView",
            "_model_name": "DescriptionStyleModel",
            "description_width": "",
            "_view_module": "@jupyter-widgets/base",
            "_model_module_version": "1.5.0",
            "_view_count": null,
            "_view_module_version": "1.2.0",
            "_model_module": "@jupyter-widgets/controls"
          }
        },
        "ea91ce73058b4b8cb91cdce6d1bd97e8": {
          "model_module": "@jupyter-widgets/base",
          "model_name": "LayoutModel",
          "model_module_version": "1.2.0",
          "state": {
            "_view_name": "LayoutView",
            "grid_template_rows": null,
            "right": null,
            "justify_content": null,
            "_view_module": "@jupyter-widgets/base",
            "overflow": null,
            "_model_module_version": "1.2.0",
            "_view_count": null,
            "flex_flow": null,
            "width": null,
            "min_width": null,
            "border": null,
            "align_items": null,
            "bottom": null,
            "_model_module": "@jupyter-widgets/base",
            "top": null,
            "grid_column": null,
            "overflow_y": null,
            "overflow_x": null,
            "grid_auto_flow": null,
            "grid_area": null,
            "grid_template_columns": null,
            "flex": null,
            "_model_name": "LayoutModel",
            "justify_items": null,
            "grid_row": null,
            "max_height": null,
            "align_content": null,
            "visibility": null,
            "align_self": null,
            "height": null,
            "min_height": null,
            "padding": null,
            "grid_auto_rows": null,
            "grid_gap": null,
            "max_width": null,
            "order": null,
            "_view_module_version": "1.2.0",
            "grid_template_areas": null,
            "object_position": null,
            "object_fit": null,
            "grid_auto_columns": null,
            "margin": null,
            "display": null,
            "left": null
          }
        },
        "1397c58254b44bbf9c7974f491aa9165": {
          "model_module": "@jupyter-widgets/controls",
          "model_name": "ProgressStyleModel",
          "model_module_version": "1.5.0",
          "state": {
            "_view_name": "StyleView",
            "_model_name": "ProgressStyleModel",
            "description_width": "",
            "_view_module": "@jupyter-widgets/base",
            "_model_module_version": "1.5.0",
            "_view_count": null,
            "_view_module_version": "1.2.0",
            "bar_color": null,
            "_model_module": "@jupyter-widgets/controls"
          }
        },
        "6b892819f8be484e8c53c324468b355e": {
          "model_module": "@jupyter-widgets/base",
          "model_name": "LayoutModel",
          "model_module_version": "1.2.0",
          "state": {
            "_view_name": "LayoutView",
            "grid_template_rows": null,
            "right": null,
            "justify_content": null,
            "_view_module": "@jupyter-widgets/base",
            "overflow": null,
            "_model_module_version": "1.2.0",
            "_view_count": null,
            "flex_flow": null,
            "width": null,
            "min_width": null,
            "border": null,
            "align_items": null,
            "bottom": null,
            "_model_module": "@jupyter-widgets/base",
            "top": null,
            "grid_column": null,
            "overflow_y": null,
            "overflow_x": null,
            "grid_auto_flow": null,
            "grid_area": null,
            "grid_template_columns": null,
            "flex": null,
            "_model_name": "LayoutModel",
            "justify_items": null,
            "grid_row": null,
            "max_height": null,
            "align_content": null,
            "visibility": null,
            "align_self": null,
            "height": null,
            "min_height": null,
            "padding": null,
            "grid_auto_rows": null,
            "grid_gap": null,
            "max_width": null,
            "order": null,
            "_view_module_version": "1.2.0",
            "grid_template_areas": null,
            "object_position": null,
            "object_fit": null,
            "grid_auto_columns": null,
            "margin": null,
            "display": null,
            "left": null
          }
        },
        "81f34ccc57d84b8fb211f123aedb78bc": {
          "model_module": "@jupyter-widgets/controls",
          "model_name": "DescriptionStyleModel",
          "model_module_version": "1.5.0",
          "state": {
            "_view_name": "StyleView",
            "_model_name": "DescriptionStyleModel",
            "description_width": "",
            "_view_module": "@jupyter-widgets/base",
            "_model_module_version": "1.5.0",
            "_view_count": null,
            "_view_module_version": "1.2.0",
            "_model_module": "@jupyter-widgets/controls"
          }
        },
        "09e6014b6bd34a50854a7b7ed700370d": {
          "model_module": "@jupyter-widgets/base",
          "model_name": "LayoutModel",
          "model_module_version": "1.2.0",
          "state": {
            "_view_name": "LayoutView",
            "grid_template_rows": null,
            "right": null,
            "justify_content": null,
            "_view_module": "@jupyter-widgets/base",
            "overflow": null,
            "_model_module_version": "1.2.0",
            "_view_count": null,
            "flex_flow": null,
            "width": null,
            "min_width": null,
            "border": null,
            "align_items": null,
            "bottom": null,
            "_model_module": "@jupyter-widgets/base",
            "top": null,
            "grid_column": null,
            "overflow_y": null,
            "overflow_x": null,
            "grid_auto_flow": null,
            "grid_area": null,
            "grid_template_columns": null,
            "flex": null,
            "_model_name": "LayoutModel",
            "justify_items": null,
            "grid_row": null,
            "max_height": null,
            "align_content": null,
            "visibility": null,
            "align_self": null,
            "height": null,
            "min_height": null,
            "padding": null,
            "grid_auto_rows": null,
            "grid_gap": null,
            "max_width": null,
            "order": null,
            "_view_module_version": "1.2.0",
            "grid_template_areas": null,
            "object_position": null,
            "object_fit": null,
            "grid_auto_columns": null,
            "margin": null,
            "display": null,
            "left": null
          }
        },
        "48fefe9d3b424eedac3dc216b0415c48": {
          "model_module": "@jupyter-widgets/controls",
          "model_name": "HBoxModel",
          "model_module_version": "1.5.0",
          "state": {
            "_view_name": "HBoxView",
            "_dom_classes": [],
            "_model_name": "HBoxModel",
            "_view_module": "@jupyter-widgets/controls",
            "_model_module_version": "1.5.0",
            "_view_count": null,
            "_view_module_version": "1.5.0",
            "box_style": "",
            "layout": "IPY_MODEL_1209517fa0b64f909170232ab5dbcd87",
            "_model_module": "@jupyter-widgets/controls",
            "children": [
              "IPY_MODEL_df1d1fd453b5490492d4a92817d7e02e",
              "IPY_MODEL_1de9592ec3ea44bba37a1b1691f90dfa",
              "IPY_MODEL_b80600835e3744e19b099be48e1efd37"
            ]
          }
        },
        "1209517fa0b64f909170232ab5dbcd87": {
          "model_module": "@jupyter-widgets/base",
          "model_name": "LayoutModel",
          "model_module_version": "1.2.0",
          "state": {
            "_view_name": "LayoutView",
            "grid_template_rows": null,
            "right": null,
            "justify_content": null,
            "_view_module": "@jupyter-widgets/base",
            "overflow": null,
            "_model_module_version": "1.2.0",
            "_view_count": null,
            "flex_flow": null,
            "width": null,
            "min_width": null,
            "border": null,
            "align_items": null,
            "bottom": null,
            "_model_module": "@jupyter-widgets/base",
            "top": null,
            "grid_column": null,
            "overflow_y": null,
            "overflow_x": null,
            "grid_auto_flow": null,
            "grid_area": null,
            "grid_template_columns": null,
            "flex": null,
            "_model_name": "LayoutModel",
            "justify_items": null,
            "grid_row": null,
            "max_height": null,
            "align_content": null,
            "visibility": null,
            "align_self": null,
            "height": null,
            "min_height": null,
            "padding": null,
            "grid_auto_rows": null,
            "grid_gap": null,
            "max_width": null,
            "order": null,
            "_view_module_version": "1.2.0",
            "grid_template_areas": null,
            "object_position": null,
            "object_fit": null,
            "grid_auto_columns": null,
            "margin": null,
            "display": null,
            "left": null
          }
        },
        "df1d1fd453b5490492d4a92817d7e02e": {
          "model_module": "@jupyter-widgets/controls",
          "model_name": "HTMLModel",
          "model_module_version": "1.5.0",
          "state": {
            "_view_name": "HTMLView",
            "style": "IPY_MODEL_09bf4b775cd54dc3a304e37051b61e44",
            "_dom_classes": [],
            "description": "",
            "_model_name": "HTMLModel",
            "placeholder": "​",
            "_view_module": "@jupyter-widgets/controls",
            "_model_module_version": "1.5.0",
            "value": "Downloading: 100%",
            "_view_count": null,
            "_view_module_version": "1.5.0",
            "description_tooltip": null,
            "_model_module": "@jupyter-widgets/controls",
            "layout": "IPY_MODEL_b80b0fb6c0cf47e7a1eb96b24d79b745"
          }
        },
        "1de9592ec3ea44bba37a1b1691f90dfa": {
          "model_module": "@jupyter-widgets/controls",
          "model_name": "FloatProgressModel",
          "model_module_version": "1.5.0",
          "state": {
            "_view_name": "ProgressView",
            "style": "IPY_MODEL_0a27dffbc7814616ae2fac4c84ad172c",
            "_dom_classes": [],
            "description": "",
            "_model_name": "FloatProgressModel",
            "bar_style": "success",
            "max": 239,
            "_view_module": "@jupyter-widgets/controls",
            "_model_module_version": "1.5.0",
            "value": 239,
            "_view_count": null,
            "_view_module_version": "1.5.0",
            "orientation": "horizontal",
            "min": 0,
            "description_tooltip": null,
            "_model_module": "@jupyter-widgets/controls",
            "layout": "IPY_MODEL_159f5b237ab049dda3c0184f4baea12b"
          }
        },
        "b80600835e3744e19b099be48e1efd37": {
          "model_module": "@jupyter-widgets/controls",
          "model_name": "HTMLModel",
          "model_module_version": "1.5.0",
          "state": {
            "_view_name": "HTMLView",
            "style": "IPY_MODEL_d9f6eb089f9f49b794a4da70e7da8423",
            "_dom_classes": [],
            "description": "",
            "_model_name": "HTMLModel",
            "placeholder": "​",
            "_view_module": "@jupyter-widgets/controls",
            "_model_module_version": "1.5.0",
            "value": " 239/239 [00:00&lt;00:00, 6.69kB/s]",
            "_view_count": null,
            "_view_module_version": "1.5.0",
            "description_tooltip": null,
            "_model_module": "@jupyter-widgets/controls",
            "layout": "IPY_MODEL_67360fdc5d8b4c60a360ad285e0e4c6b"
          }
        },
        "09bf4b775cd54dc3a304e37051b61e44": {
          "model_module": "@jupyter-widgets/controls",
          "model_name": "DescriptionStyleModel",
          "model_module_version": "1.5.0",
          "state": {
            "_view_name": "StyleView",
            "_model_name": "DescriptionStyleModel",
            "description_width": "",
            "_view_module": "@jupyter-widgets/base",
            "_model_module_version": "1.5.0",
            "_view_count": null,
            "_view_module_version": "1.2.0",
            "_model_module": "@jupyter-widgets/controls"
          }
        },
        "b80b0fb6c0cf47e7a1eb96b24d79b745": {
          "model_module": "@jupyter-widgets/base",
          "model_name": "LayoutModel",
          "model_module_version": "1.2.0",
          "state": {
            "_view_name": "LayoutView",
            "grid_template_rows": null,
            "right": null,
            "justify_content": null,
            "_view_module": "@jupyter-widgets/base",
            "overflow": null,
            "_model_module_version": "1.2.0",
            "_view_count": null,
            "flex_flow": null,
            "width": null,
            "min_width": null,
            "border": null,
            "align_items": null,
            "bottom": null,
            "_model_module": "@jupyter-widgets/base",
            "top": null,
            "grid_column": null,
            "overflow_y": null,
            "overflow_x": null,
            "grid_auto_flow": null,
            "grid_area": null,
            "grid_template_columns": null,
            "flex": null,
            "_model_name": "LayoutModel",
            "justify_items": null,
            "grid_row": null,
            "max_height": null,
            "align_content": null,
            "visibility": null,
            "align_self": null,
            "height": null,
            "min_height": null,
            "padding": null,
            "grid_auto_rows": null,
            "grid_gap": null,
            "max_width": null,
            "order": null,
            "_view_module_version": "1.2.0",
            "grid_template_areas": null,
            "object_position": null,
            "object_fit": null,
            "grid_auto_columns": null,
            "margin": null,
            "display": null,
            "left": null
          }
        },
        "0a27dffbc7814616ae2fac4c84ad172c": {
          "model_module": "@jupyter-widgets/controls",
          "model_name": "ProgressStyleModel",
          "model_module_version": "1.5.0",
          "state": {
            "_view_name": "StyleView",
            "_model_name": "ProgressStyleModel",
            "description_width": "",
            "_view_module": "@jupyter-widgets/base",
            "_model_module_version": "1.5.0",
            "_view_count": null,
            "_view_module_version": "1.2.0",
            "bar_color": null,
            "_model_module": "@jupyter-widgets/controls"
          }
        },
        "159f5b237ab049dda3c0184f4baea12b": {
          "model_module": "@jupyter-widgets/base",
          "model_name": "LayoutModel",
          "model_module_version": "1.2.0",
          "state": {
            "_view_name": "LayoutView",
            "grid_template_rows": null,
            "right": null,
            "justify_content": null,
            "_view_module": "@jupyter-widgets/base",
            "overflow": null,
            "_model_module_version": "1.2.0",
            "_view_count": null,
            "flex_flow": null,
            "width": null,
            "min_width": null,
            "border": null,
            "align_items": null,
            "bottom": null,
            "_model_module": "@jupyter-widgets/base",
            "top": null,
            "grid_column": null,
            "overflow_y": null,
            "overflow_x": null,
            "grid_auto_flow": null,
            "grid_area": null,
            "grid_template_columns": null,
            "flex": null,
            "_model_name": "LayoutModel",
            "justify_items": null,
            "grid_row": null,
            "max_height": null,
            "align_content": null,
            "visibility": null,
            "align_self": null,
            "height": null,
            "min_height": null,
            "padding": null,
            "grid_auto_rows": null,
            "grid_gap": null,
            "max_width": null,
            "order": null,
            "_view_module_version": "1.2.0",
            "grid_template_areas": null,
            "object_position": null,
            "object_fit": null,
            "grid_auto_columns": null,
            "margin": null,
            "display": null,
            "left": null
          }
        },
        "d9f6eb089f9f49b794a4da70e7da8423": {
          "model_module": "@jupyter-widgets/controls",
          "model_name": "DescriptionStyleModel",
          "model_module_version": "1.5.0",
          "state": {
            "_view_name": "StyleView",
            "_model_name": "DescriptionStyleModel",
            "description_width": "",
            "_view_module": "@jupyter-widgets/base",
            "_model_module_version": "1.5.0",
            "_view_count": null,
            "_view_module_version": "1.2.0",
            "_model_module": "@jupyter-widgets/controls"
          }
        },
        "67360fdc5d8b4c60a360ad285e0e4c6b": {
          "model_module": "@jupyter-widgets/base",
          "model_name": "LayoutModel",
          "model_module_version": "1.2.0",
          "state": {
            "_view_name": "LayoutView",
            "grid_template_rows": null,
            "right": null,
            "justify_content": null,
            "_view_module": "@jupyter-widgets/base",
            "overflow": null,
            "_model_module_version": "1.2.0",
            "_view_count": null,
            "flex_flow": null,
            "width": null,
            "min_width": null,
            "border": null,
            "align_items": null,
            "bottom": null,
            "_model_module": "@jupyter-widgets/base",
            "top": null,
            "grid_column": null,
            "overflow_y": null,
            "overflow_x": null,
            "grid_auto_flow": null,
            "grid_area": null,
            "grid_template_columns": null,
            "flex": null,
            "_model_name": "LayoutModel",
            "justify_items": null,
            "grid_row": null,
            "max_height": null,
            "align_content": null,
            "visibility": null,
            "align_self": null,
            "height": null,
            "min_height": null,
            "padding": null,
            "grid_auto_rows": null,
            "grid_gap": null,
            "max_width": null,
            "order": null,
            "_view_module_version": "1.2.0",
            "grid_template_areas": null,
            "object_position": null,
            "object_fit": null,
            "grid_auto_columns": null,
            "margin": null,
            "display": null,
            "left": null
          }
        }
      }
    }
  },
  "nbformat": 4,
  "nbformat_minor": 0
}