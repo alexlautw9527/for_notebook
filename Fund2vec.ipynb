{
  "nbformat": 4,
  "nbformat_minor": 0,
  "metadata": {
    "colab": {
      "name": "Fund2vec.ipynb",
      "provenance": [],
      "mount_file_id": "https://github.com/alexlautw9527/for_notebook/blob/main/Fund2vec.ipynb",
      "authorship_tag": "ABX9TyM+GIQ3otAjVfDlBUb2brOV",
      "include_colab_link": true
    },
    "kernelspec": {
      "name": "python3",
      "display_name": "Python 3"
    },
    "language_info": {
      "name": "python"
    }
  },
  "cells": [
    {
      "cell_type": "markdown",
      "metadata": {
        "id": "view-in-github",
        "colab_type": "text"
      },
      "source": [
        "<a href=\"https://colab.research.google.com/github/alexlautw9527/for_notebook/blob/main/Fund2vec.ipynb\" target=\"_parent\"><img src=\"https://colab.research.google.com/assets/colab-badge.svg\" alt=\"Open In Colab\"/></a>"
      ]
    },
    {
      "cell_type": "code",
      "metadata": {
        "id": "PdpZibZo8Dlo"
      },
      "source": [
        "import pandas as pd \n",
        "import numpy as np"
      ],
      "execution_count": 15,
      "outputs": []
    },
    {
      "cell_type": "code",
      "metadata": {
        "id": "nFHQS3929rFG"
      },
      "source": [
        "fund_df = pd.read_csv('/content/drive/MyDrive/05_OTHER_DATA/基金產品列表.csv', encoding='CP950')"
      ],
      "execution_count": 2,
      "outputs": []
    },
    {
      "cell_type": "code",
      "metadata": {
        "id": "OCUBh-UXvJVH"
      },
      "source": [
        "fund_code_df = pd.read_csv('/content/drive/MyDrive/05_OTHER_DATA/FUND_CODE_DATA.csv', encoding='CP950')\n",
        "fund_code_df = fund_code_df[['產品代碼', '基金名稱', 'ISIN Code']]"
      ],
      "execution_count": 3,
      "outputs": []
    },
    {
      "cell_type": "code",
      "metadata": {
        "id": "1OpOuI54u19g"
      },
      "source": [
        "fund_df = fund_df[fund_df['RISKLEVEL']!=0][['CNAME','FUNDCRYID', 'RISKLEVEL','DIVIDENDTYPE2','ASSETCAT_CODE','SECTOR_NAME']]\n",
        "fund_df['SECTOR_NAME'] = fund_df['SECTOR_NAME'].fillna('NA')\n",
        "fund_df = fund_df[~fund_df['ASSETCAT_CODE'].isna()]"
      ],
      "execution_count": 4,
      "outputs": []
    },
    {
      "cell_type": "code",
      "metadata": {
        "id": "gmfVhg3P8lYH"
      },
      "source": [
        "corpus = fund_df.astype(str).values.tolist()"
      ],
      "execution_count": 5,
      "outputs": []
    },
    {
      "cell_type": "code",
      "metadata": {
        "colab": {
          "base_uri": "https://localhost:8080/"
        },
        "id": "yDqDewFQnMcl",
        "outputId": "d34b7ae6-df9c-4fc1-f81a-10519be6b96e"
      },
      "source": [
        "corpus[0:5]"
      ],
      "execution_count": 9,
      "outputs": [
        {
          "output_type": "execute_result",
          "data": {
            "text/plain": [
              "[['施羅德２０２２到期新興市場主權債券基金（美元）－累積型（本基金進行配息前未先扣除應負擔之相關費用）（本基金有相當比重投資於非投資等級之高風險債券且配息來源可能為本金）',\n",
              "  'USD',\n",
              "  '3',\n",
              "  '03_不配',\n",
              "  'BOND',\n",
              "  'NA'],\n",
              " ['施羅德２０２２到期新興市場主權債券基金（美元）－配息型（本基金進行配息前未先扣除應負擔之相關費用）（本基金有相當比重投資於非投資等級之高風險債券且配息來源可能為本金）',\n",
              "  'USD',\n",
              "  '3',\n",
              "  '01_配息',\n",
              "  'BOND',\n",
              "  'NA'],\n",
              " ['新光創新科技基金（新臺幣）', 'TWD', '4', '03_不配', 'STOCK', '科技'],\n",
              " ['新光店頭基金（新臺幣）', 'TWD', '4', '03_不配', 'STOCK', '台灣股市'],\n",
              " ['新光台灣富貴基金（新臺幣）', 'TWD', '4', '03_不配', 'STOCK', '台灣股市']]"
            ]
          },
          "metadata": {},
          "execution_count": 9
        }
      ]
    },
    {
      "cell_type": "code",
      "metadata": {
        "id": "a-H4wb8X-jsD"
      },
      "source": [
        "import pandas as pd\n",
        "from gensim.models.word2vec import Word2Vec"
      ],
      "execution_count": 10,
      "outputs": []
    },
    {
      "cell_type": "code",
      "metadata": {
        "id": "-H2zcCuI-kk-"
      },
      "source": [
        "model = Word2Vec(corpus, size=50, iter=50,window=5, sg=1,negative=20,min_count=1)\n"
      ],
      "execution_count": 11,
      "outputs": []
    },
    {
      "cell_type": "code",
      "metadata": {
        "id": "Uas-aHBa8cqn"
      },
      "source": [
        "def most_similar(w2v_model, words, topn=20):\n",
        "    similar_df = pd.DataFrame()\n",
        "    for word in words:\n",
        "        try:\n",
        "            similar_words = pd.DataFrame(w2v_model.wv.most_similar(word, topn=topn), columns=[word, 'cos'])\n",
        "            similar_df = pd.concat([similar_df, similar_words], axis=1)\n",
        "        except:\n",
        "            print(word, \"not found in Word2Vec model!\")\n",
        "    return similar_df"
      ],
      "execution_count": 13,
      "outputs": []
    },
    {
      "cell_type": "code",
      "metadata": {
        "id": "TQne6_KyJrHX"
      },
      "source": [
        "np.savetxt(\"fund_embedd.tsv\", model.wv[fund_df['CNAME'].tolist()], delimiter=\"\\t\")\n"
      ],
      "execution_count": 24,
      "outputs": []
    },
    {
      "cell_type": "code",
      "metadata": {
        "id": "PnGGk6LWJ906"
      },
      "source": [
        "fund_df.to_csv('fund_embedd_metadata.tsv', sep = '\\t',index=False)"
      ],
      "execution_count": 25,
      "outputs": []
    },
    {
      "cell_type": "code",
      "metadata": {
        "colab": {
          "base_uri": "https://localhost:8080/"
        },
        "id": "flSYZnpAoTn1",
        "outputId": "ee1e94cb-076f-410a-9a01-b71861e8ffed"
      },
      "source": [
        "fund_df.shape"
      ],
      "execution_count": 26,
      "outputs": [
        {
          "output_type": "execute_result",
          "data": {
            "text/plain": [
              "(2650, 6)"
            ]
          },
          "metadata": {},
          "execution_count": 26
        }
      ]
    },
    {
      "cell_type": "code",
      "metadata": {
        "id": "1TbGJ6lUJ-Jj",
        "colab": {
          "base_uri": "https://localhost:8080/",
          "height": 17
        },
        "outputId": "e7b07eec-a8f2-4fed-a5f2-e7a46afa778a"
      },
      "source": [
        "from google.colab import files\n",
        "files.download('/content/fund_embedd_metadata.tsv') \n",
        "files.download('/content/fund_embedd.tsv') "
      ],
      "execution_count": 27,
      "outputs": [
        {
          "output_type": "display_data",
          "data": {
            "application/javascript": [
              "\n",
              "    async function download(id, filename, size) {\n",
              "      if (!google.colab.kernel.accessAllowed) {\n",
              "        return;\n",
              "      }\n",
              "      const div = document.createElement('div');\n",
              "      const label = document.createElement('label');\n",
              "      label.textContent = `Downloading \"${filename}\": `;\n",
              "      div.appendChild(label);\n",
              "      const progress = document.createElement('progress');\n",
              "      progress.max = size;\n",
              "      div.appendChild(progress);\n",
              "      document.body.appendChild(div);\n",
              "\n",
              "      const buffers = [];\n",
              "      let downloaded = 0;\n",
              "\n",
              "      const channel = await google.colab.kernel.comms.open(id);\n",
              "      // Send a message to notify the kernel that we're ready.\n",
              "      channel.send({})\n",
              "\n",
              "      for await (const message of channel.messages) {\n",
              "        // Send a message to notify the kernel that we're ready.\n",
              "        channel.send({})\n",
              "        if (message.buffers) {\n",
              "          for (const buffer of message.buffers) {\n",
              "            buffers.push(buffer);\n",
              "            downloaded += buffer.byteLength;\n",
              "            progress.value = downloaded;\n",
              "          }\n",
              "        }\n",
              "      }\n",
              "      const blob = new Blob(buffers, {type: 'application/binary'});\n",
              "      const a = document.createElement('a');\n",
              "      a.href = window.URL.createObjectURL(blob);\n",
              "      a.download = filename;\n",
              "      div.appendChild(a);\n",
              "      a.click();\n",
              "      div.remove();\n",
              "    }\n",
              "  "
            ],
            "text/plain": [
              "<IPython.core.display.Javascript object>"
            ]
          },
          "metadata": {}
        },
        {
          "output_type": "display_data",
          "data": {
            "application/javascript": [
              "download(\"download_6a528708-b607-4b24-a475-fdffede9ce8d\", \"fund_embedd_metadata.tsv\", 375368)"
            ],
            "text/plain": [
              "<IPython.core.display.Javascript object>"
            ]
          },
          "metadata": {}
        },
        {
          "output_type": "display_data",
          "data": {
            "application/javascript": [
              "\n",
              "    async function download(id, filename, size) {\n",
              "      if (!google.colab.kernel.accessAllowed) {\n",
              "        return;\n",
              "      }\n",
              "      const div = document.createElement('div');\n",
              "      const label = document.createElement('label');\n",
              "      label.textContent = `Downloading \"${filename}\": `;\n",
              "      div.appendChild(label);\n",
              "      const progress = document.createElement('progress');\n",
              "      progress.max = size;\n",
              "      div.appendChild(progress);\n",
              "      document.body.appendChild(div);\n",
              "\n",
              "      const buffers = [];\n",
              "      let downloaded = 0;\n",
              "\n",
              "      const channel = await google.colab.kernel.comms.open(id);\n",
              "      // Send a message to notify the kernel that we're ready.\n",
              "      channel.send({})\n",
              "\n",
              "      for await (const message of channel.messages) {\n",
              "        // Send a message to notify the kernel that we're ready.\n",
              "        channel.send({})\n",
              "        if (message.buffers) {\n",
              "          for (const buffer of message.buffers) {\n",
              "            buffers.push(buffer);\n",
              "            downloaded += buffer.byteLength;\n",
              "            progress.value = downloaded;\n",
              "          }\n",
              "        }\n",
              "      }\n",
              "      const blob = new Blob(buffers, {type: 'application/binary'});\n",
              "      const a = document.createElement('a');\n",
              "      a.href = window.URL.createObjectURL(blob);\n",
              "      a.download = filename;\n",
              "      div.appendChild(a);\n",
              "      a.click();\n",
              "      div.remove();\n",
              "    }\n",
              "  "
            ],
            "text/plain": [
              "<IPython.core.display.Javascript object>"
            ]
          },
          "metadata": {}
        },
        {
          "output_type": "display_data",
          "data": {
            "application/javascript": [
              "download(\"download_f7f7c8f3-9fc7-43e6-966f-5ab4cfd6a9cb\", \"fund_embedd.tsv\", 3379587)"
            ],
            "text/plain": [
              "<IPython.core.display.Javascript object>"
            ]
          },
          "metadata": {}
        }
      ]
    },
    {
      "cell_type": "code",
      "metadata": {
        "colab": {
          "base_uri": "https://localhost:8080/"
        },
        "id": "voOU92_yoMlg",
        "outputId": "fe2daaa0-a5f8-4fe6-afea-34777fe415f8"
      },
      "source": [
        "! wget https://www.rahimikia.com/FinText/FinText_Word2Vec_Skip-gram.zip"
      ],
      "execution_count": 28,
      "outputs": [
        {
          "output_type": "stream",
          "name": "stdout",
          "text": [
            "--2021-10-26 13:36:09--  https://www.rahimikia.com/FinText/FinText_Word2Vec_Skip-gram.zip\n",
            "Resolving www.rahimikia.com (www.rahimikia.com)... 69.163.228.90\n",
            "Connecting to www.rahimikia.com (www.rahimikia.com)|69.163.228.90|:443... connected.\n",
            "HTTP request sent, awaiting response... 200 OK\n",
            "Length: 6291927333 (5.9G) [application/zip]\n",
            "Saving to: ‘FinText_Word2Vec_Skip-gram.zip’\n",
            "\n",
            "FinText_Word2Vec_Sk 100%[===================>]   5.86G  24.2MB/s    in 4m 3s   \n",
            "\n",
            "2021-10-26 13:40:12 (24.7 MB/s) - ‘FinText_Word2Vec_Skip-gram.zip’ saved [6291927333/6291927333]\n",
            "\n"
          ]
        }
      ]
    },
    {
      "cell_type": "code",
      "metadata": {
        "id": "zPOZ63Cq0L1R",
        "outputId": "fd9a720f-adc3-4cb4-92cd-4c02e76d968d",
        "colab": {
          "base_uri": "https://localhost:8080/"
        }
      },
      "source": [
        "!unzip /content/FinText_Word2Vec_Skip-gram.zip"
      ],
      "execution_count": 29,
      "outputs": [
        {
          "output_type": "stream",
          "name": "stdout",
          "text": [
            "Archive:  /content/FinText_Word2Vec_Skip-gram.zip\n",
            "   creating: FinText_Word2Vec_Skip-gram/\n",
            "  inflating: FinText_Word2Vec_Skip-gram/Word_Embedding_2000_2015  \n",
            "  inflating: FinText_Word2Vec_Skip-gram/README.txt  \n",
            "  inflating: FinText_Word2Vec_Skip-gram/Word_Embedding_2000_2015.pkl  \n",
            "  inflating: FinText_Word2Vec_Skip-gram/Word_Embedding_2000_2015.wv.vectors.npy  \n",
            "  inflating: FinText_Word2Vec_Skip-gram/Word_Embedding_2000_2015.trainables.syn1neg.npy  \n"
          ]
        }
      ]
    },
    {
      "cell_type": "code",
      "metadata": {
        "id": "ZHFnK0H81Nko"
      },
      "source": [
        "from gensim.models import Word2Vec\n",
        "from gensim.models import FastText\n",
        "import gensim.downloader as api "
      ],
      "execution_count": 1,
      "outputs": []
    },
    {
      "cell_type": "code",
      "metadata": {
        "id": "BkHVusxj5km0",
        "outputId": "5edb30c6-dedb-44e0-f8f9-1482ba169046",
        "colab": {
          "base_uri": "https://localhost:8080/"
        }
      },
      "source": [
        "Google_WE = api.load('word2vec-google-news-300') # Google (skip-gram)"
      ],
      "execution_count": null,
      "outputs": [
        {
          "output_type": "stream",
          "name": "stdout",
          "text": [
            "[==================================================] 100.0% 1662.8/1662.8MB downloaded\n"
          ]
        }
      ]
    },
    {
      "cell_type": "code",
      "metadata": {
        "id": "f7LGND781-i-"
      },
      "source": [
        "FinText_Word2Vec_skipgram = Word2Vec.load('/content/FinText_Word2Vec_Skip-gram/Word_Embedding_2000_2015')"
      ],
      "execution_count": 2,
      "outputs": []
    },
    {
      "cell_type": "code",
      "metadata": {
        "id": "sE2yCV1z6_1b"
      },
      "source": [
        "\n",
        "prod=['fund',\n",
        " 'etf',\n",
        " 'stock',\n",
        " 'preferred_stock',\n",
        " 'auto_loan',\n",
        " 'trust',\n",
        " 'life_insurance',\n",
        " 'insurance',\n",
        " 'personal_loan',\n",
        " 'mortgage',\n",
        " 'loan',\n",
        " 'treasury_bond',\n",
        " 'foreign_exchange',\n",
        " 'online_banking',\n",
        " 'fintech',\n",
        " 'blockchain',\n",
        " 'bitcoin',\n",
        " 'robo_advisor'\n",
        " ]"
      ],
      "execution_count": 38,
      "outputs": []
    },
    {
      "cell_type": "code",
      "metadata": {
        "id": "NuNDCbjB2GYB"
      },
      "source": [
        "product_embedding = FinText_Word2Vec_skipgram.wv[prod]"
      ],
      "execution_count": 39,
      "outputs": []
    },
    {
      "cell_type": "code",
      "metadata": {
        "id": "6gSQ_lEuArJc",
        "outputId": "3f08c701-06ba-4e5c-b679-ea81c5965a59",
        "colab": {
          "base_uri": "https://localhost:8080/"
        }
      },
      "source": [
        "product_embedding.shape"
      ],
      "execution_count": 40,
      "outputs": [
        {
          "output_type": "execute_result",
          "data": {
            "text/plain": [
              "(18, 300)"
            ]
          },
          "metadata": {},
          "execution_count": 40
        }
      ]
    },
    {
      "cell_type": "code",
      "metadata": {
        "id": "BvYIF4wg2e9x"
      },
      "source": [
        "np.savetxt(\"product_embedd.tsv\", product_embedding, delimiter=\"\\t\")\n"
      ],
      "execution_count": 41,
      "outputs": []
    },
    {
      "cell_type": "code",
      "metadata": {
        "id": "qGanAKAz3vpj"
      },
      "source": [
        "pd.DataFrame({'product':prod}).to_csv('prod_embedd_metadata.tsv', sep = '\\t',index=False,header=False)"
      ],
      "execution_count": 42,
      "outputs": []
    },
    {
      "cell_type": "code",
      "metadata": {
        "id": "piBX3coa37i-",
        "outputId": "5d1b081e-ff05-4a36-ecab-feb01f35a42c",
        "colab": {
          "base_uri": "https://localhost:8080/",
          "height": 17
        }
      },
      "source": [
        "from google.colab import files\n",
        "files.download('/content/prod_embedd_metadata.tsv') \n",
        "files.download('/content/product_embedd.tsv') "
      ],
      "execution_count": 43,
      "outputs": [
        {
          "output_type": "display_data",
          "data": {
            "application/javascript": [
              "\n",
              "    async function download(id, filename, size) {\n",
              "      if (!google.colab.kernel.accessAllowed) {\n",
              "        return;\n",
              "      }\n",
              "      const div = document.createElement('div');\n",
              "      const label = document.createElement('label');\n",
              "      label.textContent = `Downloading \"${filename}\": `;\n",
              "      div.appendChild(label);\n",
              "      const progress = document.createElement('progress');\n",
              "      progress.max = size;\n",
              "      div.appendChild(progress);\n",
              "      document.body.appendChild(div);\n",
              "\n",
              "      const buffers = [];\n",
              "      let downloaded = 0;\n",
              "\n",
              "      const channel = await google.colab.kernel.comms.open(id);\n",
              "      // Send a message to notify the kernel that we're ready.\n",
              "      channel.send({})\n",
              "\n",
              "      for await (const message of channel.messages) {\n",
              "        // Send a message to notify the kernel that we're ready.\n",
              "        channel.send({})\n",
              "        if (message.buffers) {\n",
              "          for (const buffer of message.buffers) {\n",
              "            buffers.push(buffer);\n",
              "            downloaded += buffer.byteLength;\n",
              "            progress.value = downloaded;\n",
              "          }\n",
              "        }\n",
              "      }\n",
              "      const blob = new Blob(buffers, {type: 'application/binary'});\n",
              "      const a = document.createElement('a');\n",
              "      a.href = window.URL.createObjectURL(blob);\n",
              "      a.download = filename;\n",
              "      div.appendChild(a);\n",
              "      a.click();\n",
              "      div.remove();\n",
              "    }\n",
              "  "
            ],
            "text/plain": [
              "<IPython.core.display.Javascript object>"
            ]
          },
          "metadata": {}
        },
        {
          "output_type": "display_data",
          "data": {
            "application/javascript": [
              "download(\"download_bddb8c9a-a22d-49be-b771-5fae6d08f6b1\", \"prod_embedd_metadata.tsv\", 186)"
            ],
            "text/plain": [
              "<IPython.core.display.Javascript object>"
            ]
          },
          "metadata": {}
        },
        {
          "output_type": "display_data",
          "data": {
            "application/javascript": [
              "\n",
              "    async function download(id, filename, size) {\n",
              "      if (!google.colab.kernel.accessAllowed) {\n",
              "        return;\n",
              "      }\n",
              "      const div = document.createElement('div');\n",
              "      const label = document.createElement('label');\n",
              "      label.textContent = `Downloading \"${filename}\": `;\n",
              "      div.appendChild(label);\n",
              "      const progress = document.createElement('progress');\n",
              "      progress.max = size;\n",
              "      div.appendChild(progress);\n",
              "      document.body.appendChild(div);\n",
              "\n",
              "      const buffers = [];\n",
              "      let downloaded = 0;\n",
              "\n",
              "      const channel = await google.colab.kernel.comms.open(id);\n",
              "      // Send a message to notify the kernel that we're ready.\n",
              "      channel.send({})\n",
              "\n",
              "      for await (const message of channel.messages) {\n",
              "        // Send a message to notify the kernel that we're ready.\n",
              "        channel.send({})\n",
              "        if (message.buffers) {\n",
              "          for (const buffer of message.buffers) {\n",
              "            buffers.push(buffer);\n",
              "            downloaded += buffer.byteLength;\n",
              "            progress.value = downloaded;\n",
              "          }\n",
              "        }\n",
              "      }\n",
              "      const blob = new Blob(buffers, {type: 'application/binary'});\n",
              "      const a = document.createElement('a');\n",
              "      a.href = window.URL.createObjectURL(blob);\n",
              "      a.download = filename;\n",
              "      div.appendChild(a);\n",
              "      a.click();\n",
              "      div.remove();\n",
              "    }\n",
              "  "
            ],
            "text/plain": [
              "<IPython.core.display.Javascript object>"
            ]
          },
          "metadata": {}
        },
        {
          "output_type": "display_data",
          "data": {
            "application/javascript": [
              "download(\"download_90643e1a-f790-4875-aca4-5c7362a1999e\", \"product_embedd.tsv\", 137812)"
            ],
            "text/plain": [
              "<IPython.core.display.Javascript object>"
            ]
          },
          "metadata": {}
        }
      ]
    },
    {
      "cell_type": "code",
      "metadata": {
        "id": "Nh3rJv6N4mAl"
      },
      "source": [
        ""
      ],
      "execution_count": null,
      "outputs": []
    }
  ]
}