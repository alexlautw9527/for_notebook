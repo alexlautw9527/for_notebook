{
  "nbformat": 4,
  "nbformat_minor": 0,
  "metadata": {
    "colab": {
      "name": "Fund2vec.ipynb",
      "provenance": [],
      "machine_shape": "hm",
      "mount_file_id": "https://github.com/alexlautw9527/for_notebook/blob/main/Fund2vec.ipynb",
      "authorship_tag": "ABX9TyNfqphvnaqAKSxLUR9Da+Ed",
      "include_colab_link": true
    },
    "kernelspec": {
      "name": "python3",
      "display_name": "Python 3"
    },
    "language_info": {
      "name": "python"
    },
    "accelerator": "GPU",
    "widgets": {
      "application/vnd.jupyter.widget-state+json": {
        "4d0df305b95e41f09104058c0918773c": {
          "model_module": "@jupyter-widgets/controls",
          "model_name": "HBoxModel",
          "model_module_version": "1.5.0",
          "state": {
            "_view_name": "HBoxView",
            "_dom_classes": [],
            "_model_name": "HBoxModel",
            "_view_module": "@jupyter-widgets/controls",
            "_model_module_version": "1.5.0",
            "_view_count": null,
            "_view_module_version": "1.5.0",
            "box_style": "",
            "layout": "IPY_MODEL_e584327888534369b000de4a6e65778f",
            "_model_module": "@jupyter-widgets/controls",
            "children": [
              "IPY_MODEL_4a632001065244b18ecfdc75d6a41772",
              "IPY_MODEL_255a1cd9be884e3c82ac14e3c01430e5",
              "IPY_MODEL_2221571e8f9c4bc88e9b813cb23a9bc9"
            ]
          }
        },
        "e584327888534369b000de4a6e65778f": {
          "model_module": "@jupyter-widgets/base",
          "model_name": "LayoutModel",
          "model_module_version": "1.2.0",
          "state": {
            "_view_name": "LayoutView",
            "grid_template_rows": null,
            "right": null,
            "justify_content": null,
            "_view_module": "@jupyter-widgets/base",
            "overflow": null,
            "_model_module_version": "1.2.0",
            "_view_count": null,
            "flex_flow": null,
            "width": null,
            "min_width": null,
            "border": null,
            "align_items": null,
            "bottom": null,
            "_model_module": "@jupyter-widgets/base",
            "top": null,
            "grid_column": null,
            "overflow_y": null,
            "overflow_x": null,
            "grid_auto_flow": null,
            "grid_area": null,
            "grid_template_columns": null,
            "flex": null,
            "_model_name": "LayoutModel",
            "justify_items": null,
            "grid_row": null,
            "max_height": null,
            "align_content": null,
            "visibility": null,
            "align_self": null,
            "height": null,
            "min_height": null,
            "padding": null,
            "grid_auto_rows": null,
            "grid_gap": null,
            "max_width": null,
            "order": null,
            "_view_module_version": "1.2.0",
            "grid_template_areas": null,
            "object_position": null,
            "object_fit": null,
            "grid_auto_columns": null,
            "margin": null,
            "display": null,
            "left": null
          }
        },
        "4a632001065244b18ecfdc75d6a41772": {
          "model_module": "@jupyter-widgets/controls",
          "model_name": "HTMLModel",
          "model_module_version": "1.5.0",
          "state": {
            "_view_name": "HTMLView",
            "style": "IPY_MODEL_5e59eb1ef4b842409e0d049904ad0643",
            "_dom_classes": [],
            "description": "",
            "_model_name": "HTMLModel",
            "placeholder": "​",
            "_view_module": "@jupyter-widgets/controls",
            "_model_module_version": "1.5.0",
            "value": "Computing transition probabilities: 100%",
            "_view_count": null,
            "_view_module_version": "1.5.0",
            "description_tooltip": null,
            "_model_module": "@jupyter-widgets/controls",
            "layout": "IPY_MODEL_4b05e48b7a5548249deb1add31842dc0"
          }
        },
        "255a1cd9be884e3c82ac14e3c01430e5": {
          "model_module": "@jupyter-widgets/controls",
          "model_name": "FloatProgressModel",
          "model_module_version": "1.5.0",
          "state": {
            "_view_name": "ProgressView",
            "style": "IPY_MODEL_4172a146cb4243cd9f93eda444f4c7c3",
            "_dom_classes": [],
            "description": "",
            "_model_name": "FloatProgressModel",
            "bar_style": "success",
            "max": 2044,
            "_view_module": "@jupyter-widgets/controls",
            "_model_module_version": "1.5.0",
            "value": 2044,
            "_view_count": null,
            "_view_module_version": "1.5.0",
            "orientation": "horizontal",
            "min": 0,
            "description_tooltip": null,
            "_model_module": "@jupyter-widgets/controls",
            "layout": "IPY_MODEL_0b78de7568584af1bd8cff27c181efe8"
          }
        },
        "2221571e8f9c4bc88e9b813cb23a9bc9": {
          "model_module": "@jupyter-widgets/controls",
          "model_name": "HTMLModel",
          "model_module_version": "1.5.0",
          "state": {
            "_view_name": "HTMLView",
            "style": "IPY_MODEL_9d24f385489345a88778e3184ef95580",
            "_dom_classes": [],
            "description": "",
            "_model_name": "HTMLModel",
            "placeholder": "​",
            "_view_module": "@jupyter-widgets/controls",
            "_model_module_version": "1.5.0",
            "value": " 2044/2044 [02:52&lt;00:00, 11.45it/s]",
            "_view_count": null,
            "_view_module_version": "1.5.0",
            "description_tooltip": null,
            "_model_module": "@jupyter-widgets/controls",
            "layout": "IPY_MODEL_b115ce9a16c74c559e2553dfc6f8f912"
          }
        },
        "5e59eb1ef4b842409e0d049904ad0643": {
          "model_module": "@jupyter-widgets/controls",
          "model_name": "DescriptionStyleModel",
          "model_module_version": "1.5.0",
          "state": {
            "_view_name": "StyleView",
            "_model_name": "DescriptionStyleModel",
            "description_width": "",
            "_view_module": "@jupyter-widgets/base",
            "_model_module_version": "1.5.0",
            "_view_count": null,
            "_view_module_version": "1.2.0",
            "_model_module": "@jupyter-widgets/controls"
          }
        },
        "4b05e48b7a5548249deb1add31842dc0": {
          "model_module": "@jupyter-widgets/base",
          "model_name": "LayoutModel",
          "model_module_version": "1.2.0",
          "state": {
            "_view_name": "LayoutView",
            "grid_template_rows": null,
            "right": null,
            "justify_content": null,
            "_view_module": "@jupyter-widgets/base",
            "overflow": null,
            "_model_module_version": "1.2.0",
            "_view_count": null,
            "flex_flow": null,
            "width": null,
            "min_width": null,
            "border": null,
            "align_items": null,
            "bottom": null,
            "_model_module": "@jupyter-widgets/base",
            "top": null,
            "grid_column": null,
            "overflow_y": null,
            "overflow_x": null,
            "grid_auto_flow": null,
            "grid_area": null,
            "grid_template_columns": null,
            "flex": null,
            "_model_name": "LayoutModel",
            "justify_items": null,
            "grid_row": null,
            "max_height": null,
            "align_content": null,
            "visibility": null,
            "align_self": null,
            "height": null,
            "min_height": null,
            "padding": null,
            "grid_auto_rows": null,
            "grid_gap": null,
            "max_width": null,
            "order": null,
            "_view_module_version": "1.2.0",
            "grid_template_areas": null,
            "object_position": null,
            "object_fit": null,
            "grid_auto_columns": null,
            "margin": null,
            "display": null,
            "left": null
          }
        },
        "4172a146cb4243cd9f93eda444f4c7c3": {
          "model_module": "@jupyter-widgets/controls",
          "model_name": "ProgressStyleModel",
          "model_module_version": "1.5.0",
          "state": {
            "_view_name": "StyleView",
            "_model_name": "ProgressStyleModel",
            "description_width": "",
            "_view_module": "@jupyter-widgets/base",
            "_model_module_version": "1.5.0",
            "_view_count": null,
            "_view_module_version": "1.2.0",
            "bar_color": null,
            "_model_module": "@jupyter-widgets/controls"
          }
        },
        "0b78de7568584af1bd8cff27c181efe8": {
          "model_module": "@jupyter-widgets/base",
          "model_name": "LayoutModel",
          "model_module_version": "1.2.0",
          "state": {
            "_view_name": "LayoutView",
            "grid_template_rows": null,
            "right": null,
            "justify_content": null,
            "_view_module": "@jupyter-widgets/base",
            "overflow": null,
            "_model_module_version": "1.2.0",
            "_view_count": null,
            "flex_flow": null,
            "width": null,
            "min_width": null,
            "border": null,
            "align_items": null,
            "bottom": null,
            "_model_module": "@jupyter-widgets/base",
            "top": null,
            "grid_column": null,
            "overflow_y": null,
            "overflow_x": null,
            "grid_auto_flow": null,
            "grid_area": null,
            "grid_template_columns": null,
            "flex": null,
            "_model_name": "LayoutModel",
            "justify_items": null,
            "grid_row": null,
            "max_height": null,
            "align_content": null,
            "visibility": null,
            "align_self": null,
            "height": null,
            "min_height": null,
            "padding": null,
            "grid_auto_rows": null,
            "grid_gap": null,
            "max_width": null,
            "order": null,
            "_view_module_version": "1.2.0",
            "grid_template_areas": null,
            "object_position": null,
            "object_fit": null,
            "grid_auto_columns": null,
            "margin": null,
            "display": null,
            "left": null
          }
        },
        "9d24f385489345a88778e3184ef95580": {
          "model_module": "@jupyter-widgets/controls",
          "model_name": "DescriptionStyleModel",
          "model_module_version": "1.5.0",
          "state": {
            "_view_name": "StyleView",
            "_model_name": "DescriptionStyleModel",
            "description_width": "",
            "_view_module": "@jupyter-widgets/base",
            "_model_module_version": "1.5.0",
            "_view_count": null,
            "_view_module_version": "1.2.0",
            "_model_module": "@jupyter-widgets/controls"
          }
        },
        "b115ce9a16c74c559e2553dfc6f8f912": {
          "model_module": "@jupyter-widgets/base",
          "model_name": "LayoutModel",
          "model_module_version": "1.2.0",
          "state": {
            "_view_name": "LayoutView",
            "grid_template_rows": null,
            "right": null,
            "justify_content": null,
            "_view_module": "@jupyter-widgets/base",
            "overflow": null,
            "_model_module_version": "1.2.0",
            "_view_count": null,
            "flex_flow": null,
            "width": null,
            "min_width": null,
            "border": null,
            "align_items": null,
            "bottom": null,
            "_model_module": "@jupyter-widgets/base",
            "top": null,
            "grid_column": null,
            "overflow_y": null,
            "overflow_x": null,
            "grid_auto_flow": null,
            "grid_area": null,
            "grid_template_columns": null,
            "flex": null,
            "_model_name": "LayoutModel",
            "justify_items": null,
            "grid_row": null,
            "max_height": null,
            "align_content": null,
            "visibility": null,
            "align_self": null,
            "height": null,
            "min_height": null,
            "padding": null,
            "grid_auto_rows": null,
            "grid_gap": null,
            "max_width": null,
            "order": null,
            "_view_module_version": "1.2.0",
            "grid_template_areas": null,
            "object_position": null,
            "object_fit": null,
            "grid_auto_columns": null,
            "margin": null,
            "display": null,
            "left": null
          }
        }
      }
    }
  },
  "cells": [
    {
      "cell_type": "markdown",
      "metadata": {
        "id": "view-in-github",
        "colab_type": "text"
      },
      "source": [
        "<a href=\"https://colab.research.google.com/github/alexlautw9527/for_notebook/blob/main/Fund2vec.ipynb\" target=\"_parent\"><img src=\"https://colab.research.google.com/assets/colab-badge.svg\" alt=\"Open In Colab\"/></a>"
      ]
    },
    {
      "cell_type": "code",
      "metadata": {
        "id": "xJ8c8zkFcvL5"
      },
      "source": [
        "%%capture\n",
        "!pip install node2vec\n",
        "!pip install pyvis"
      ],
      "execution_count": 36,
      "outputs": []
    },
    {
      "cell_type": "code",
      "metadata": {
        "id": "PdpZibZo8Dlo"
      },
      "source": [
        "import pandas as pd \n",
        "import numpy as np\n",
        "\n",
        "\n",
        "import networkx as nx\n",
        "from node2vec import Node2Vec\n",
        "import gensim\n",
        "from gensim.models.word2vec import Word2Vec"
      ],
      "execution_count": 2,
      "outputs": []
    },
    {
      "cell_type": "markdown",
      "metadata": {
        "id": "9-tMw3YgksKL"
      },
      "source": [
        "## 整0.1資料"
      ]
    },
    {
      "cell_type": "code",
      "metadata": {
        "id": "OCUBh-UXvJVH"
      },
      "source": [
        "fund_code_df = pd.read_csv('/content/drive/MyDrive/05_OTHER_DATA/FUND_CODE_DATA.csv', encoding='CP950')\n",
        "#fund_code_df = pd.read_csv('FUND_CODE_DATA.csv', encoding='CP950')\n",
        "\n",
        "fund_code_df = fund_code_df[['產品代碼', '基金名稱', 'ISIN Code']]"
      ],
      "execution_count": 3,
      "outputs": []
    },
    {
      "cell_type": "code",
      "metadata": {
        "id": "sYYdoye8oeEi"
      },
      "source": [
        "fund_df = pd.read_csv('/content/drive/MyDrive/05_OTHER_DATA/fund_desc.csv', encoding='CP950')\n",
        "#fund_df = pd.read_csv('fund_desc.csv', encoding='CP950')\n",
        "\n",
        "## 只取基金名稱主體\n",
        "fund_df['CNAME_short'] = fund_df['CNAME'].str.replace('\\（[^（）]*\\）', '', regex=True)\n"
      ],
      "execution_count": 21,
      "outputs": []
    },
    {
      "cell_type": "code",
      "source": [
        "fund_df[['CNAME', 'CNAME_short']].head(3)"
      ],
      "metadata": {
        "colab": {
          "base_uri": "https://localhost:8080/",
          "height": 142
        },
        "id": "Duw29Snd7OM8",
        "outputId": "ff9d973a-af02-4d38-8214-ff766774f833"
      },
      "execution_count": 22,
      "outputs": [
        {
          "output_type": "execute_result",
          "data": {
            "text/html": [
              "\n",
              "  <div id=\"df-3bf2ae04-8b78-469f-ad8a-f870158d93b7\">\n",
              "    <div class=\"colab-df-container\">\n",
              "      <div>\n",
              "<style scoped>\n",
              "    .dataframe tbody tr th:only-of-type {\n",
              "        vertical-align: middle;\n",
              "    }\n",
              "\n",
              "    .dataframe tbody tr th {\n",
              "        vertical-align: top;\n",
              "    }\n",
              "\n",
              "    .dataframe thead th {\n",
              "        text-align: right;\n",
              "    }\n",
              "</style>\n",
              "<table border=\"1\" class=\"dataframe\">\n",
              "  <thead>\n",
              "    <tr style=\"text-align: right;\">\n",
              "      <th></th>\n",
              "      <th>CNAME</th>\n",
              "      <th>CNAME_short</th>\n",
              "    </tr>\n",
              "  </thead>\n",
              "  <tbody>\n",
              "    <tr>\n",
              "      <th>0</th>\n",
              "      <td>聯博新興市場債券基金ＥＡ（美元）（穩定月配息）（本基金進行配息前未先扣除應負擔之相關費用）（...</td>\n",
              "      <td>聯博新興市場債券基金ＥＡ</td>\n",
              "    </tr>\n",
              "    <tr>\n",
              "      <th>1</th>\n",
              "      <td>聯博新興市場債券基金ＥＡ（澳幣避險）（穩定月配息）（本基金進行配息前未先扣除應負擔之相關費用...</td>\n",
              "      <td>聯博新興市場債券基金ＥＡ</td>\n",
              "    </tr>\n",
              "    <tr>\n",
              "      <th>2</th>\n",
              "      <td>聯博－新興市場債券基金ＥＡ（南非幣避險）（穩定月配息）（本基金進行配息前未先扣除應負擔之相關...</td>\n",
              "      <td>聯博－新興市場債券基金ＥＡ</td>\n",
              "    </tr>\n",
              "  </tbody>\n",
              "</table>\n",
              "</div>\n",
              "      <button class=\"colab-df-convert\" onclick=\"convertToInteractive('df-3bf2ae04-8b78-469f-ad8a-f870158d93b7')\"\n",
              "              title=\"Convert this dataframe to an interactive table.\"\n",
              "              style=\"display:none;\">\n",
              "        \n",
              "  <svg xmlns=\"http://www.w3.org/2000/svg\" height=\"24px\"viewBox=\"0 0 24 24\"\n",
              "       width=\"24px\">\n",
              "    <path d=\"M0 0h24v24H0V0z\" fill=\"none\"/>\n",
              "    <path d=\"M18.56 5.44l.94 2.06.94-2.06 2.06-.94-2.06-.94-.94-2.06-.94 2.06-2.06.94zm-11 1L8.5 8.5l.94-2.06 2.06-.94-2.06-.94L8.5 2.5l-.94 2.06-2.06.94zm10 10l.94 2.06.94-2.06 2.06-.94-2.06-.94-.94-2.06-.94 2.06-2.06.94z\"/><path d=\"M17.41 7.96l-1.37-1.37c-.4-.4-.92-.59-1.43-.59-.52 0-1.04.2-1.43.59L10.3 9.45l-7.72 7.72c-.78.78-.78 2.05 0 2.83L4 21.41c.39.39.9.59 1.41.59.51 0 1.02-.2 1.41-.59l7.78-7.78 2.81-2.81c.8-.78.8-2.07 0-2.86zM5.41 20L4 18.59l7.72-7.72 1.47 1.35L5.41 20z\"/>\n",
              "  </svg>\n",
              "      </button>\n",
              "      \n",
              "  <style>\n",
              "    .colab-df-container {\n",
              "      display:flex;\n",
              "      flex-wrap:wrap;\n",
              "      gap: 12px;\n",
              "    }\n",
              "\n",
              "    .colab-df-convert {\n",
              "      background-color: #E8F0FE;\n",
              "      border: none;\n",
              "      border-radius: 50%;\n",
              "      cursor: pointer;\n",
              "      display: none;\n",
              "      fill: #1967D2;\n",
              "      height: 32px;\n",
              "      padding: 0 0 0 0;\n",
              "      width: 32px;\n",
              "    }\n",
              "\n",
              "    .colab-df-convert:hover {\n",
              "      background-color: #E2EBFA;\n",
              "      box-shadow: 0px 1px 2px rgba(60, 64, 67, 0.3), 0px 1px 3px 1px rgba(60, 64, 67, 0.15);\n",
              "      fill: #174EA6;\n",
              "    }\n",
              "\n",
              "    [theme=dark] .colab-df-convert {\n",
              "      background-color: #3B4455;\n",
              "      fill: #D2E3FC;\n",
              "    }\n",
              "\n",
              "    [theme=dark] .colab-df-convert:hover {\n",
              "      background-color: #434B5C;\n",
              "      box-shadow: 0px 1px 3px 1px rgba(0, 0, 0, 0.15);\n",
              "      filter: drop-shadow(0px 1px 2px rgba(0, 0, 0, 0.3));\n",
              "      fill: #FFFFFF;\n",
              "    }\n",
              "  </style>\n",
              "\n",
              "      <script>\n",
              "        const buttonEl =\n",
              "          document.querySelector('#df-3bf2ae04-8b78-469f-ad8a-f870158d93b7 button.colab-df-convert');\n",
              "        buttonEl.style.display =\n",
              "          google.colab.kernel.accessAllowed ? 'block' : 'none';\n",
              "\n",
              "        async function convertToInteractive(key) {\n",
              "          const element = document.querySelector('#df-3bf2ae04-8b78-469f-ad8a-f870158d93b7');\n",
              "          const dataTable =\n",
              "            await google.colab.kernel.invokeFunction('convertToInteractive',\n",
              "                                                     [key], {});\n",
              "          if (!dataTable) return;\n",
              "\n",
              "          const docLinkHtml = 'Like what you see? Visit the ' +\n",
              "            '<a target=\"_blank\" href=https://colab.research.google.com/notebooks/data_table.ipynb>data table notebook</a>'\n",
              "            + ' to learn more about interactive tables.';\n",
              "          element.innerHTML = '';\n",
              "          dataTable['output_type'] = 'display_data';\n",
              "          await google.colab.output.renderOutput(dataTable, element);\n",
              "          const docLink = document.createElement('div');\n",
              "          docLink.innerHTML = docLinkHtml;\n",
              "          element.appendChild(docLink);\n",
              "        }\n",
              "      </script>\n",
              "    </div>\n",
              "  </div>\n",
              "  "
            ],
            "text/plain": [
              "                                               CNAME    CNAME_short\n",
              "0  聯博新興市場債券基金ＥＡ（美元）（穩定月配息）（本基金進行配息前未先扣除應負擔之相關費用）（...   聯博新興市場債券基金ＥＡ\n",
              "1  聯博新興市場債券基金ＥＡ（澳幣避險）（穩定月配息）（本基金進行配息前未先扣除應負擔之相關費用...   聯博新興市場債券基金ＥＡ\n",
              "2  聯博－新興市場債券基金ＥＡ（南非幣避險）（穩定月配息）（本基金進行配息前未先扣除應負擔之相關...  聯博－新興市場債券基金ＥＡ"
            ]
          },
          "metadata": {},
          "execution_count": 22
        }
      ]
    },
    {
      "cell_type": "code",
      "metadata": {
        "id": "anMqcdAKrXq4"
      },
      "source": [
        "index = ['FUND_CD']\n",
        "\n",
        "cate_list = [\n",
        " 'RISK_LEVEL_ALL',\n",
        " 'FUNDCRYID',\n",
        " 'RISKLEVEL',\n",
        " '配息',\n",
        " '股債分類',\n",
        " '基金類型',\n",
        " '產品類型',\n",
        " '基金分類',\n",
        " 'SITCA分類',\n",
        " #'SITCA細類',\n",
        " #'追蹤指標',\n",
        " '境外內',\n",
        " '前後收'            \n",
        "]\n",
        "\n",
        "\n",
        "weight_list = [\n",
        " '股票比',\n",
        " '債券比',\n",
        " '現金比',\n",
        " '其他比',\n",
        " '成熟股',\n",
        " '成熟股_美國',\n",
        " '成熟股_北美',\n",
        " '成熟股_歐洲',\n",
        " '成熟股_英',\n",
        " '成熟股_日本',\n",
        " '成熟股_亞太',\n",
        " '新興股',\n",
        " '新興股_拉美',\n",
        " '新興股_新歐',\n",
        " '新興股_非洲',\n",
        " '新興股_中東',\n",
        " '新興股_新亞',\n",
        " '原物料',\n",
        " '非必消',\n",
        " '金融',\n",
        " '房地產',\n",
        " '電信',\n",
        " '能源',\n",
        " '工業',\n",
        " '科技',\n",
        " '必需消',\n",
        " '健護',\n",
        " '公用事業',\n",
        " '成熟債',\n",
        " '成熟債_美國',\n",
        " '成熟債_北美',\n",
        " '成熟債_歐洲',\n",
        " '成熟債_英',\n",
        " '成熟債_日本',\n",
        " '成熟債_亞太',\n",
        " '新興債',\n",
        " '新興債_拉美',\n",
        " '新興債_新歐',\n",
        " '新興債_非洲',\n",
        " '新興債_中東',\n",
        " '新興債_新亞',\n",
        " 'AAA',\n",
        " 'AA',\n",
        " 'A',\n",
        " 'BBB',\n",
        " 'BB',\n",
        " 'B',\n",
        " 'B以下',\n",
        " '無信評'\n",
        "]\n",
        "\n",
        "all_list = index+cate_list+weight_list"
      ],
      "execution_count": 23,
      "outputs": []
    },
    {
      "cell_type": "code",
      "metadata": {
        "id": "bhgZuhGDqVp4"
      },
      "source": [
        "# 保留原始資料\n",
        "fund_org_df = fund_df.copy() \n",
        "fund_df[cate_list] = fund_df[cate_list].astype(str)\n",
        "\n",
        "# 取有風險等級\n",
        "fund_df = fund_df[fund_df['風屬']!='nan']\n",
        "\n",
        "# 取出需要欄位\n",
        "fund_df = fund_df[all_list]\n",
        "fund_df = fund_df.replace('nan', np.nan)"
      ],
      "execution_count": 25,
      "outputs": []
    },
    {
      "cell_type": "code",
      "metadata": {
        "id": "MG40L3GMfUQq",
        "outputId": "ffb95d1e-ee16-4442-99b1-607fcd889bbb",
        "colab": {
          "base_uri": "https://localhost:8080/"
        }
      },
      "source": [
        "fund_org_df.shape"
      ],
      "execution_count": 26,
      "outputs": [
        {
          "output_type": "execute_result",
          "data": {
            "text/plain": [
              "(2559, 250)"
            ]
          },
          "metadata": {},
          "execution_count": 26
        }
      ]
    },
    {
      "cell_type": "code",
      "metadata": {
        "id": "cp6JDQrooXkS"
      },
      "source": [
        "fund_df[weight_list] = fund_df[weight_list].astype(float).fillna(0)\n",
        "\n",
        "# 權重原是百分比\n",
        "fund_df[weight_list] = fund_df[weight_list]/100"
      ],
      "execution_count": 27,
      "outputs": []
    },
    {
      "cell_type": "markdown",
      "metadata": {
        "id": "c-fFk7JGc0t_"
      },
      "source": [
        "## Graph創立\n"
      ]
    },
    {
      "cell_type": "code",
      "metadata": {
        "id": "R4DG9wMbEqc3"
      },
      "source": [
        "## 製作graph\n",
        "\n",
        "## 將類別型變數轉為one hot encoding 以利轉為graph\n",
        "fund_edge = pd.get_dummies(\n",
        "  fund_df[all_list], \n",
        "  columns=cate_list, prefix='', prefix_sep=''\n",
        ")"
      ],
      "execution_count": 39,
      "outputs": []
    },
    {
      "cell_type": "code",
      "source": [
        "fund_edge.head(2)"
      ],
      "metadata": {
        "colab": {
          "base_uri": "https://localhost:8080/",
          "height": 357
        },
        "id": "mhhUoGsr99RL",
        "outputId": "0ab3e205-01e8-4565-e71f-fdf7131df0c6"
      },
      "execution_count": 40,
      "outputs": [
        {
          "output_type": "execute_result",
          "data": {
            "text/html": [
              "\n",
              "  <div id=\"df-b70aa3b6-0a89-4da8-bff9-3d99b3740fab\">\n",
              "    <div class=\"colab-df-container\">\n",
              "      <div>\n",
              "<style scoped>\n",
              "    .dataframe tbody tr th:only-of-type {\n",
              "        vertical-align: middle;\n",
              "    }\n",
              "\n",
              "    .dataframe tbody tr th {\n",
              "        vertical-align: top;\n",
              "    }\n",
              "\n",
              "    .dataframe thead th {\n",
              "        text-align: right;\n",
              "    }\n",
              "</style>\n",
              "<table border=\"1\" class=\"dataframe\">\n",
              "  <thead>\n",
              "    <tr style=\"text-align: right;\">\n",
              "      <th></th>\n",
              "      <th>FUND_CD</th>\n",
              "      <th>股票比</th>\n",
              "      <th>債券比</th>\n",
              "      <th>現金比</th>\n",
              "      <th>其他比</th>\n",
              "      <th>成熟股</th>\n",
              "      <th>成熟股_美國</th>\n",
              "      <th>成熟股_北美</th>\n",
              "      <th>成熟股_歐洲</th>\n",
              "      <th>成熟股_英</th>\n",
              "      <th>成熟股_日本</th>\n",
              "      <th>成熟股_亞太</th>\n",
              "      <th>新興股</th>\n",
              "      <th>新興股_拉美</th>\n",
              "      <th>新興股_新歐</th>\n",
              "      <th>新興股_非洲</th>\n",
              "      <th>新興股_中東</th>\n",
              "      <th>新興股_新亞</th>\n",
              "      <th>原物料</th>\n",
              "      <th>非必消</th>\n",
              "      <th>金融</th>\n",
              "      <th>房地產</th>\n",
              "      <th>電信</th>\n",
              "      <th>能源</th>\n",
              "      <th>工業</th>\n",
              "      <th>科技</th>\n",
              "      <th>必需消</th>\n",
              "      <th>健護</th>\n",
              "      <th>公用事業</th>\n",
              "      <th>成熟債</th>\n",
              "      <th>成熟債_美國</th>\n",
              "      <th>成熟債_北美</th>\n",
              "      <th>成熟債_歐洲</th>\n",
              "      <th>成熟債_英</th>\n",
              "      <th>成熟債_日本</th>\n",
              "      <th>成熟債_亞太</th>\n",
              "      <th>新興債</th>\n",
              "      <th>新興債_拉美</th>\n",
              "      <th>新興債_新歐</th>\n",
              "      <th>新興債_非洲</th>\n",
              "      <th>...</th>\n",
              "      <th>金融</th>\n",
              "      <th>韓國股市</th>\n",
              "      <th>香港股市</th>\n",
              "      <th>高收益債</th>\n",
              "      <th>債券型</th>\n",
              "      <th>平衡型</th>\n",
              "      <th>股票型</th>\n",
              "      <th>貨幣型</th>\n",
              "      <th>亞洲太平洋債券</th>\n",
              "      <th>亞洲太平洋股票</th>\n",
              "      <th>北美債券</th>\n",
              "      <th>北美股票</th>\n",
              "      <th>台灣小型公司股票</th>\n",
              "      <th>台灣平衡</th>\n",
              "      <th>台灣股票</th>\n",
              "      <th>台灣資訊科技股票</th>\n",
              "      <th>商品及能源股票</th>\n",
              "      <th>單一國家股票</th>\n",
              "      <th>大中華股票</th>\n",
              "      <th>小型公司股票</th>\n",
              "      <th>新興市場股票</th>\n",
              "      <th>日本股票</th>\n",
              "      <th>歐洲債券</th>\n",
              "      <th>歐洲股票</th>\n",
              "      <th>環球債券</th>\n",
              "      <th>環球平衡</th>\n",
              "      <th>環球股票</th>\n",
              "      <th>生物科技\\健康護理股票</th>\n",
              "      <th>貨幣市場</th>\n",
              "      <th>資訊科技股票</th>\n",
              "      <th>金融股票</th>\n",
              "      <th>其他型</th>\n",
              "      <th>固定收益型</th>\n",
              "      <th>平衡型(混合型)</th>\n",
              "      <th>股票型</th>\n",
              "      <th>貨幣市場型</th>\n",
              "      <th>境內</th>\n",
              "      <th>境外</th>\n",
              "      <th>前收</th>\n",
              "      <th>後收</th>\n",
              "    </tr>\n",
              "  </thead>\n",
              "  <tbody>\n",
              "    <tr>\n",
              "      <th>0</th>\n",
              "      <td>AOB4</td>\n",
              "      <td>0.0</td>\n",
              "      <td>0.9891</td>\n",
              "      <td>0.01</td>\n",
              "      <td>0.0009</td>\n",
              "      <td>0.0</td>\n",
              "      <td>0.0</td>\n",
              "      <td>0.0</td>\n",
              "      <td>0.0</td>\n",
              "      <td>0.0</td>\n",
              "      <td>0.0</td>\n",
              "      <td>0.0</td>\n",
              "      <td>0.0</td>\n",
              "      <td>0.0</td>\n",
              "      <td>0.0</td>\n",
              "      <td>0.0</td>\n",
              "      <td>0.0</td>\n",
              "      <td>0.0</td>\n",
              "      <td>0.0</td>\n",
              "      <td>0.0</td>\n",
              "      <td>0.0</td>\n",
              "      <td>0.0</td>\n",
              "      <td>0.0</td>\n",
              "      <td>0.0</td>\n",
              "      <td>0.0</td>\n",
              "      <td>0.0</td>\n",
              "      <td>0.0</td>\n",
              "      <td>0.0</td>\n",
              "      <td>0.0</td>\n",
              "      <td>0.1198</td>\n",
              "      <td>0.0018</td>\n",
              "      <td>0.053</td>\n",
              "      <td>0.0321</td>\n",
              "      <td>0.01</td>\n",
              "      <td>0.0</td>\n",
              "      <td>0.0229</td>\n",
              "      <td>0.8643</td>\n",
              "      <td>0.3529</td>\n",
              "      <td>0.1078</td>\n",
              "      <td>0.1782</td>\n",
              "      <td>...</td>\n",
              "      <td>0</td>\n",
              "      <td>0</td>\n",
              "      <td>0</td>\n",
              "      <td>0</td>\n",
              "      <td>1</td>\n",
              "      <td>0</td>\n",
              "      <td>0</td>\n",
              "      <td>0</td>\n",
              "      <td>0</td>\n",
              "      <td>0</td>\n",
              "      <td>0</td>\n",
              "      <td>0</td>\n",
              "      <td>0</td>\n",
              "      <td>0</td>\n",
              "      <td>0</td>\n",
              "      <td>0</td>\n",
              "      <td>0</td>\n",
              "      <td>0</td>\n",
              "      <td>0</td>\n",
              "      <td>0</td>\n",
              "      <td>0</td>\n",
              "      <td>0</td>\n",
              "      <td>0</td>\n",
              "      <td>0</td>\n",
              "      <td>1</td>\n",
              "      <td>0</td>\n",
              "      <td>0</td>\n",
              "      <td>0</td>\n",
              "      <td>0</td>\n",
              "      <td>0</td>\n",
              "      <td>0</td>\n",
              "      <td>0</td>\n",
              "      <td>1</td>\n",
              "      <td>0</td>\n",
              "      <td>0</td>\n",
              "      <td>0</td>\n",
              "      <td>0</td>\n",
              "      <td>1</td>\n",
              "      <td>0</td>\n",
              "      <td>1</td>\n",
              "    </tr>\n",
              "    <tr>\n",
              "      <th>1</th>\n",
              "      <td>AOB5</td>\n",
              "      <td>0.0</td>\n",
              "      <td>0.9891</td>\n",
              "      <td>0.01</td>\n",
              "      <td>0.0009</td>\n",
              "      <td>0.0</td>\n",
              "      <td>0.0</td>\n",
              "      <td>0.0</td>\n",
              "      <td>0.0</td>\n",
              "      <td>0.0</td>\n",
              "      <td>0.0</td>\n",
              "      <td>0.0</td>\n",
              "      <td>0.0</td>\n",
              "      <td>0.0</td>\n",
              "      <td>0.0</td>\n",
              "      <td>0.0</td>\n",
              "      <td>0.0</td>\n",
              "      <td>0.0</td>\n",
              "      <td>0.0</td>\n",
              "      <td>0.0</td>\n",
              "      <td>0.0</td>\n",
              "      <td>0.0</td>\n",
              "      <td>0.0</td>\n",
              "      <td>0.0</td>\n",
              "      <td>0.0</td>\n",
              "      <td>0.0</td>\n",
              "      <td>0.0</td>\n",
              "      <td>0.0</td>\n",
              "      <td>0.0</td>\n",
              "      <td>0.1198</td>\n",
              "      <td>0.0018</td>\n",
              "      <td>0.053</td>\n",
              "      <td>0.0321</td>\n",
              "      <td>0.01</td>\n",
              "      <td>0.0</td>\n",
              "      <td>0.0229</td>\n",
              "      <td>0.8643</td>\n",
              "      <td>0.3529</td>\n",
              "      <td>0.1078</td>\n",
              "      <td>0.1782</td>\n",
              "      <td>...</td>\n",
              "      <td>0</td>\n",
              "      <td>0</td>\n",
              "      <td>0</td>\n",
              "      <td>0</td>\n",
              "      <td>1</td>\n",
              "      <td>0</td>\n",
              "      <td>0</td>\n",
              "      <td>0</td>\n",
              "      <td>0</td>\n",
              "      <td>0</td>\n",
              "      <td>0</td>\n",
              "      <td>0</td>\n",
              "      <td>0</td>\n",
              "      <td>0</td>\n",
              "      <td>0</td>\n",
              "      <td>0</td>\n",
              "      <td>0</td>\n",
              "      <td>0</td>\n",
              "      <td>0</td>\n",
              "      <td>0</td>\n",
              "      <td>0</td>\n",
              "      <td>0</td>\n",
              "      <td>0</td>\n",
              "      <td>0</td>\n",
              "      <td>1</td>\n",
              "      <td>0</td>\n",
              "      <td>0</td>\n",
              "      <td>0</td>\n",
              "      <td>0</td>\n",
              "      <td>0</td>\n",
              "      <td>0</td>\n",
              "      <td>0</td>\n",
              "      <td>1</td>\n",
              "      <td>0</td>\n",
              "      <td>0</td>\n",
              "      <td>0</td>\n",
              "      <td>0</td>\n",
              "      <td>1</td>\n",
              "      <td>0</td>\n",
              "      <td>1</td>\n",
              "    </tr>\n",
              "  </tbody>\n",
              "</table>\n",
              "<p>2 rows × 167 columns</p>\n",
              "</div>\n",
              "      <button class=\"colab-df-convert\" onclick=\"convertToInteractive('df-b70aa3b6-0a89-4da8-bff9-3d99b3740fab')\"\n",
              "              title=\"Convert this dataframe to an interactive table.\"\n",
              "              style=\"display:none;\">\n",
              "        \n",
              "  <svg xmlns=\"http://www.w3.org/2000/svg\" height=\"24px\"viewBox=\"0 0 24 24\"\n",
              "       width=\"24px\">\n",
              "    <path d=\"M0 0h24v24H0V0z\" fill=\"none\"/>\n",
              "    <path d=\"M18.56 5.44l.94 2.06.94-2.06 2.06-.94-2.06-.94-.94-2.06-.94 2.06-2.06.94zm-11 1L8.5 8.5l.94-2.06 2.06-.94-2.06-.94L8.5 2.5l-.94 2.06-2.06.94zm10 10l.94 2.06.94-2.06 2.06-.94-2.06-.94-.94-2.06-.94 2.06-2.06.94z\"/><path d=\"M17.41 7.96l-1.37-1.37c-.4-.4-.92-.59-1.43-.59-.52 0-1.04.2-1.43.59L10.3 9.45l-7.72 7.72c-.78.78-.78 2.05 0 2.83L4 21.41c.39.39.9.59 1.41.59.51 0 1.02-.2 1.41-.59l7.78-7.78 2.81-2.81c.8-.78.8-2.07 0-2.86zM5.41 20L4 18.59l7.72-7.72 1.47 1.35L5.41 20z\"/>\n",
              "  </svg>\n",
              "      </button>\n",
              "      \n",
              "  <style>\n",
              "    .colab-df-container {\n",
              "      display:flex;\n",
              "      flex-wrap:wrap;\n",
              "      gap: 12px;\n",
              "    }\n",
              "\n",
              "    .colab-df-convert {\n",
              "      background-color: #E8F0FE;\n",
              "      border: none;\n",
              "      border-radius: 50%;\n",
              "      cursor: pointer;\n",
              "      display: none;\n",
              "      fill: #1967D2;\n",
              "      height: 32px;\n",
              "      padding: 0 0 0 0;\n",
              "      width: 32px;\n",
              "    }\n",
              "\n",
              "    .colab-df-convert:hover {\n",
              "      background-color: #E2EBFA;\n",
              "      box-shadow: 0px 1px 2px rgba(60, 64, 67, 0.3), 0px 1px 3px 1px rgba(60, 64, 67, 0.15);\n",
              "      fill: #174EA6;\n",
              "    }\n",
              "\n",
              "    [theme=dark] .colab-df-convert {\n",
              "      background-color: #3B4455;\n",
              "      fill: #D2E3FC;\n",
              "    }\n",
              "\n",
              "    [theme=dark] .colab-df-convert:hover {\n",
              "      background-color: #434B5C;\n",
              "      box-shadow: 0px 1px 3px 1px rgba(0, 0, 0, 0.15);\n",
              "      filter: drop-shadow(0px 1px 2px rgba(0, 0, 0, 0.3));\n",
              "      fill: #FFFFFF;\n",
              "    }\n",
              "  </style>\n",
              "\n",
              "      <script>\n",
              "        const buttonEl =\n",
              "          document.querySelector('#df-b70aa3b6-0a89-4da8-bff9-3d99b3740fab button.colab-df-convert');\n",
              "        buttonEl.style.display =\n",
              "          google.colab.kernel.accessAllowed ? 'block' : 'none';\n",
              "\n",
              "        async function convertToInteractive(key) {\n",
              "          const element = document.querySelector('#df-b70aa3b6-0a89-4da8-bff9-3d99b3740fab');\n",
              "          const dataTable =\n",
              "            await google.colab.kernel.invokeFunction('convertToInteractive',\n",
              "                                                     [key], {});\n",
              "          if (!dataTable) return;\n",
              "\n",
              "          const docLinkHtml = 'Like what you see? Visit the ' +\n",
              "            '<a target=\"_blank\" href=https://colab.research.google.com/notebooks/data_table.ipynb>data table notebook</a>'\n",
              "            + ' to learn more about interactive tables.';\n",
              "          element.innerHTML = '';\n",
              "          dataTable['output_type'] = 'display_data';\n",
              "          await google.colab.output.renderOutput(dataTable, element);\n",
              "          const docLink = document.createElement('div');\n",
              "          docLink.innerHTML = docLinkHtml;\n",
              "          element.appendChild(docLink);\n",
              "        }\n",
              "      </script>\n",
              "    </div>\n",
              "  </div>\n",
              "  "
            ],
            "text/plain": [
              "  FUND_CD  股票比     債券比   現金比     其他比  成熟股  ...  股票型  貨幣市場型  境內  境外  前收  後收\n",
              "0    AOB4  0.0  0.9891  0.01  0.0009  0.0  ...    0      0   0   1   0   1\n",
              "1    AOB5  0.0  0.9891  0.01  0.0009  0.0  ...    0      0   0   1   0   1\n",
              "\n",
              "[2 rows x 167 columns]"
            ]
          },
          "metadata": {},
          "execution_count": 40
        }
      ]
    },
    {
      "cell_type": "code",
      "metadata": {
        "id": "T1HX8hcvtiLx"
      },
      "source": [
        "# 以利轉為graph\n",
        "fund_edge = fund_edge.set_index('FUND_CD').stack()\n",
        "fund_edge = fund_edge[fund_edge>0]\n",
        "fund_edge = fund_edge.reset_index().values"
      ],
      "execution_count": 41,
      "outputs": []
    },
    {
      "cell_type": "code",
      "metadata": {
        "id": "wICzYQ3njCcS",
        "colab": {
          "base_uri": "https://localhost:8080/"
        },
        "outputId": "310acec5-1198-4dc7-bad6-997b1ee212be"
      },
      "source": [
        "# 用這格式一個一個新增結點與權重\n",
        "fund_edge"
      ],
      "execution_count": 42,
      "outputs": [
        {
          "output_type": "execute_result",
          "data": {
            "text/plain": [
              "array([['AOB4', '債券比', 0.9891],\n",
              "       ['AOB4', '現金比', 0.01],\n",
              "       ['AOB4', '其他比', 0.0009],\n",
              "       ...,\n",
              "       ['WAB1', '股票型', 1.0],\n",
              "       ['WAB1', '境外', 1.0],\n",
              "       ['WAB1', '前收', 1.0]], dtype=object)"
            ]
          },
          "metadata": {},
          "execution_count": 42
        }
      ]
    },
    {
      "cell_type": "code",
      "metadata": {
        "id": "w-y3uF6Avq8q"
      },
      "source": [
        "G = nx.Graph()\n",
        "\n",
        "for x in list(fund_edge):\n",
        "  G.add_edge(x[0], x[1], weight=x[2])"
      ],
      "execution_count": 43,
      "outputs": []
    },
    {
      "cell_type": "code",
      "metadata": {
        "id": "guVq7on5yFwa"
      },
      "source": [
        "\n",
        "## 拿來簡單畫圖的graph\n",
        "plot_G = nx.Graph()\n",
        "\n",
        "for x in list(fund_edge[0:100]):\n",
        "  plot_G.add_edge(x[0], x[1], weight=x[2])"
      ],
      "execution_count": null,
      "outputs": []
    },
    {
      "cell_type": "code",
      "metadata": {
        "id": "wrkFHFyF4oON"
      },
      "source": [
        "%%capture\n",
        "# 用pyvis畫圖\n",
        "\n",
        "from pyvis.network import Network\n",
        "nt = Network(\"500px\", \"1000px\", notebook=False)\n",
        "nt.from_nx(plot_G)\n"
      ],
      "execution_count": null,
      "outputs": []
    },
    {
      "cell_type": "code",
      "metadata": {
        "id": "w8JW89NbycS-",
        "outputId": "54e38a51-458e-4d58-baa1-caa81f180564",
        "colab": {
          "base_uri": "https://localhost:8080/",
          "height": 558
        }
      },
      "source": [
        "\n",
        "from IPython.core.display import display, HTML\n",
        "\n",
        "nt.show('network.html')\n",
        "display(HTML('network.html'))\n"
      ],
      "execution_count": null,
      "outputs": [
        {
          "output_type": "display_data",
          "data": {
            "text/html": [
              "<html>\n",
              "<head>\n",
              "<link rel=\"stylesheet\" href=\"https://cdnjs.cloudflare.com/ajax/libs/vis/4.16.1/vis.css\" type=\"text/css\" />\n",
              "<script type=\"text/javascript\" src=\"https://cdnjs.cloudflare.com/ajax/libs/vis/4.16.1/vis-network.min.js\"> </script>\n",
              "<center>\n",
              "<h1></h1>\n",
              "</center>\n",
              "\n",
              "<!-- <link rel=\"stylesheet\" href=\"../node_modules/vis/dist/vis.min.css\" type=\"text/css\" />\n",
              "<script type=\"text/javascript\" src=\"../node_modules/vis/dist/vis.js\"> </script>-->\n",
              "\n",
              "<style type=\"text/css\">\n",
              "\n",
              "        #mynetwork {\n",
              "            width: 1000px;\n",
              "            height: 500px;\n",
              "            background-color: #ffffff;\n",
              "            border: 1px solid lightgray;\n",
              "            position: relative;\n",
              "            float: left;\n",
              "        }\n",
              "\n",
              "        \n",
              "\n",
              "        \n",
              "\n",
              "        \n",
              "</style>\n",
              "\n",
              "</head>\n",
              "\n",
              "<body>\n",
              "<div id = \"mynetwork\"></div>\n",
              "\n",
              "\n",
              "<script type=\"text/javascript\">\n",
              "\n",
              "    // initialize global variables.\n",
              "    var edges;\n",
              "    var nodes;\n",
              "    var network; \n",
              "    var container;\n",
              "    var options, data;\n",
              "\n",
              "    \n",
              "    // This method is responsible for drawing the graph, returns the drawn network\n",
              "    function drawGraph() {\n",
              "        var container = document.getElementById('mynetwork');\n",
              "        \n",
              "        \n",
              "\n",
              "        // parsing and collecting nodes and edges from the python\n",
              "        nodes = new vis.DataSet([{\"id\": \"AOB4\", \"label\": \"AOB4\", \"shape\": \"dot\", \"size\": 10}, {\"id\": \"\\u50b5\\u5238\\u6bd4\", \"label\": \"\\u50b5\\u5238\\u6bd4\", \"shape\": \"dot\", \"size\": 10}, {\"id\": \"\\u73fe\\u91d1\\u6bd4\", \"label\": \"\\u73fe\\u91d1\\u6bd4\", \"shape\": \"dot\", \"size\": 10}, {\"id\": \"\\u5176\\u4ed6\\u6bd4\", \"label\": \"\\u5176\\u4ed6\\u6bd4\", \"shape\": \"dot\", \"size\": 10}, {\"id\": \"\\u6210\\u719f\\u50b5\", \"label\": \"\\u6210\\u719f\\u50b5\", \"shape\": \"dot\", \"size\": 10}, {\"id\": \"\\u6210\\u719f\\u50b5_\\u7f8e\\u570b\", \"label\": \"\\u6210\\u719f\\u50b5_\\u7f8e\\u570b\", \"shape\": \"dot\", \"size\": 10}, {\"id\": \"\\u6210\\u719f\\u50b5_\\u5317\\u7f8e\", \"label\": \"\\u6210\\u719f\\u50b5_\\u5317\\u7f8e\", \"shape\": \"dot\", \"size\": 10}, {\"id\": \"\\u6210\\u719f\\u50b5_\\u6b50\\u6d32\", \"label\": \"\\u6210\\u719f\\u50b5_\\u6b50\\u6d32\", \"shape\": \"dot\", \"size\": 10}, {\"id\": \"\\u6210\\u719f\\u50b5_\\u82f1\", \"label\": \"\\u6210\\u719f\\u50b5_\\u82f1\", \"shape\": \"dot\", \"size\": 10}, {\"id\": \"\\u6210\\u719f\\u50b5_\\u4e9e\\u592a\", \"label\": \"\\u6210\\u719f\\u50b5_\\u4e9e\\u592a\", \"shape\": \"dot\", \"size\": 10}, {\"id\": \"\\u65b0\\u8208\\u50b5\", \"label\": \"\\u65b0\\u8208\\u50b5\", \"shape\": \"dot\", \"size\": 10}, {\"id\": \"\\u65b0\\u8208\\u50b5_\\u62c9\\u7f8e\", \"label\": \"\\u65b0\\u8208\\u50b5_\\u62c9\\u7f8e\", \"shape\": \"dot\", \"size\": 10}, {\"id\": \"\\u65b0\\u8208\\u50b5_\\u65b0\\u6b50\", \"label\": \"\\u65b0\\u8208\\u50b5_\\u65b0\\u6b50\", \"shape\": \"dot\", \"size\": 10}, {\"id\": \"\\u65b0\\u8208\\u50b5_\\u975e\\u6d32\", \"label\": \"\\u65b0\\u8208\\u50b5_\\u975e\\u6d32\", \"shape\": \"dot\", \"size\": 10}, {\"id\": \"\\u65b0\\u8208\\u50b5_\\u4e2d\\u6771\", \"label\": \"\\u65b0\\u8208\\u50b5_\\u4e2d\\u6771\", \"shape\": \"dot\", \"size\": 10}, {\"id\": \"\\u65b0\\u8208\\u50b5_\\u65b0\\u4e9e\", \"label\": \"\\u65b0\\u8208\\u50b5_\\u65b0\\u4e9e\", \"shape\": \"dot\", \"size\": 10}, {\"id\": \"AA\", \"label\": \"AA\", \"shape\": \"dot\", \"size\": 10}, {\"id\": \"A\", \"label\": \"A\", \"shape\": \"dot\", \"size\": 10}, {\"id\": \"BBB\", \"label\": \"BBB\", \"shape\": \"dot\", \"size\": 10}, {\"id\": \"BB\", \"label\": \"BB\", \"shape\": \"dot\", \"size\": 10}, {\"id\": \"B\", \"label\": \"B\", \"shape\": \"dot\", \"size\": 10}, {\"id\": \"B\\u4ee5\\u4e0b\", \"label\": \"B\\u4ee5\\u4e0b\", \"shape\": \"dot\", \"size\": 10}, {\"id\": \"\\u7121\\u4fe1\\u8a55\", \"label\": \"\\u7121\\u4fe1\\u8a55\", \"shape\": \"dot\", \"size\": 10}, {\"id\": \"3\", \"label\": \"3\", \"shape\": \"dot\", \"size\": 10}, {\"id\": \"USD\", \"label\": \"USD\", \"shape\": \"dot\", \"size\": 10}, {\"id\": \"01_\\u914d\\u606f\", \"label\": \"01_\\u914d\\u606f\", \"shape\": \"dot\", \"size\": 10}, {\"id\": \"BOND\", \"label\": \"BOND\", \"shape\": \"dot\", \"size\": 10}, {\"id\": \"\\u65b0\\u8208\\u5e02\\u5834\\u50b5\", \"label\": \"\\u65b0\\u8208\\u5e02\\u5834\\u50b5\", \"shape\": \"dot\", \"size\": 10}, {\"id\": \"\\u50b5\\u5238\\u578b\", \"label\": \"\\u50b5\\u5238\\u578b\", \"shape\": \"dot\", \"size\": 10}, {\"id\": \"\\u74b0\\u7403\\u50b5\\u5238\", \"label\": \"\\u74b0\\u7403\\u50b5\\u5238\", \"shape\": \"dot\", \"size\": 10}, {\"id\": \"\\u56fa\\u5b9a\\u6536\\u76ca\\u578b\", \"label\": \"\\u56fa\\u5b9a\\u6536\\u76ca\\u578b\", \"shape\": \"dot\", \"size\": 10}, {\"id\": \"\\u5883\\u5916\", \"label\": \"\\u5883\\u5916\", \"shape\": \"dot\", \"size\": 10}, {\"id\": \"\\u5f8c\\u6536\", \"label\": \"\\u5f8c\\u6536\", \"shape\": \"dot\", \"size\": 10}, {\"id\": \"AOB5\", \"label\": \"AOB5\", \"shape\": \"dot\", \"size\": 10}, {\"id\": \"AOB6\", \"label\": \"AOB6\", \"shape\": \"dot\", \"size\": 10}, {\"id\": \"AUD\", \"label\": \"AUD\", \"shape\": \"dot\", \"size\": 10}, {\"id\": \"4\", \"label\": \"4\", \"shape\": \"dot\", \"size\": 10}, {\"id\": \"ZAR\", \"label\": \"ZAR\", \"shape\": \"dot\", \"size\": 10}, {\"id\": \"AOE1\", \"label\": \"AOE1\", \"shape\": \"dot\", \"size\": 10}, {\"id\": \"\\u80a1\\u7968\\u6bd4\", \"label\": \"\\u80a1\\u7968\\u6bd4\", \"shape\": \"dot\", \"size\": 10}]);\n",
              "        edges = new vis.DataSet([{\"from\": \"AOB4\", \"to\": \"\\u50b5\\u5238\\u6bd4\", \"weight\": 0.9891}, {\"from\": \"AOB4\", \"to\": \"\\u73fe\\u91d1\\u6bd4\", \"weight\": 0.01}, {\"from\": \"AOB4\", \"to\": \"\\u5176\\u4ed6\\u6bd4\", \"weight\": 0.0009}, {\"from\": \"AOB4\", \"to\": \"\\u6210\\u719f\\u50b5\", \"weight\": 0.1198}, {\"from\": \"AOB4\", \"to\": \"\\u6210\\u719f\\u50b5_\\u7f8e\\u570b\", \"weight\": 0.0018}, {\"from\": \"AOB4\", \"to\": \"\\u6210\\u719f\\u50b5_\\u5317\\u7f8e\", \"weight\": 0.053}, {\"from\": \"AOB4\", \"to\": \"\\u6210\\u719f\\u50b5_\\u6b50\\u6d32\", \"weight\": 0.0321}, {\"from\": \"AOB4\", \"to\": \"\\u6210\\u719f\\u50b5_\\u82f1\", \"weight\": 0.01}, {\"from\": \"AOB4\", \"to\": \"\\u6210\\u719f\\u50b5_\\u4e9e\\u592a\", \"weight\": 0.0229}, {\"from\": \"AOB4\", \"to\": \"\\u65b0\\u8208\\u50b5\", \"weight\": 0.8643000000000001}, {\"from\": \"AOB4\", \"to\": \"\\u65b0\\u8208\\u50b5_\\u62c9\\u7f8e\", \"weight\": 0.3529}, {\"from\": \"AOB4\", \"to\": \"\\u65b0\\u8208\\u50b5_\\u65b0\\u6b50\", \"weight\": 0.10779999999999999}, {\"from\": \"AOB4\", \"to\": \"\\u65b0\\u8208\\u50b5_\\u975e\\u6d32\", \"weight\": 0.1782}, {\"from\": \"AOB4\", \"to\": \"\\u65b0\\u8208\\u50b5_\\u4e2d\\u6771\", \"weight\": 0.1624}, {\"from\": \"AOB4\", \"to\": \"\\u65b0\\u8208\\u50b5_\\u65b0\\u4e9e\", \"weight\": 0.063}, {\"from\": \"AOB4\", \"to\": \"AA\", \"weight\": 0.0298}, {\"from\": \"AOB4\", \"to\": \"A\", \"weight\": 0.035699999999999996}, {\"from\": \"AOB4\", \"to\": \"BBB\", \"weight\": 0.2297}, {\"from\": \"AOB4\", \"to\": \"BB\", \"weight\": 0.2837}, {\"from\": \"AOB4\", \"to\": \"B\", \"weight\": 0.2705}, {\"from\": \"AOB4\", \"to\": \"B\\u4ee5\\u4e0b\", \"weight\": 0.105}, {\"from\": \"AOB4\", \"to\": \"\\u7121\\u4fe1\\u8a55\", \"weight\": 0.0347}, {\"from\": \"AOB4\", \"to\": \"3\", \"weight\": 1.0}, {\"from\": \"AOB4\", \"to\": \"USD\", \"weight\": 1.0}, {\"from\": \"AOB4\", \"to\": \"01_\\u914d\\u606f\", \"weight\": 1.0}, {\"from\": \"AOB4\", \"to\": \"BOND\", \"weight\": 1.0}, {\"from\": \"AOB4\", \"to\": \"\\u65b0\\u8208\\u5e02\\u5834\\u50b5\", \"weight\": 1.0}, {\"from\": \"AOB4\", \"to\": \"\\u50b5\\u5238\\u578b\", \"weight\": 1.0}, {\"from\": \"AOB4\", \"to\": \"\\u74b0\\u7403\\u50b5\\u5238\", \"weight\": 1.0}, {\"from\": \"AOB4\", \"to\": \"\\u56fa\\u5b9a\\u6536\\u76ca\\u578b\", \"weight\": 1.0}, {\"from\": \"AOB4\", \"to\": \"\\u5883\\u5916\", \"weight\": 1.0}, {\"from\": \"AOB4\", \"to\": \"\\u5f8c\\u6536\", \"weight\": 1.0}, {\"from\": \"\\u50b5\\u5238\\u6bd4\", \"to\": \"AOB5\", \"weight\": 0.9891}, {\"from\": \"\\u50b5\\u5238\\u6bd4\", \"to\": \"AOB6\", \"weight\": 0.9891}, {\"from\": \"\\u73fe\\u91d1\\u6bd4\", \"to\": \"AOB5\", \"weight\": 0.01}, {\"from\": \"\\u73fe\\u91d1\\u6bd4\", \"to\": \"AOB6\", \"weight\": 0.01}, {\"from\": \"\\u5176\\u4ed6\\u6bd4\", \"to\": \"AOB5\", \"weight\": 0.0009}, {\"from\": \"\\u5176\\u4ed6\\u6bd4\", \"to\": \"AOB6\", \"weight\": 0.0009}, {\"from\": \"\\u6210\\u719f\\u50b5\", \"to\": \"AOB5\", \"weight\": 0.1198}, {\"from\": \"\\u6210\\u719f\\u50b5\", \"to\": \"AOB6\", \"weight\": 0.1198}, {\"from\": \"\\u6210\\u719f\\u50b5_\\u7f8e\\u570b\", \"to\": \"AOB5\", \"weight\": 0.0018}, {\"from\": \"\\u6210\\u719f\\u50b5_\\u7f8e\\u570b\", \"to\": \"AOB6\", \"weight\": 0.0018}, {\"from\": \"\\u6210\\u719f\\u50b5_\\u5317\\u7f8e\", \"to\": \"AOB5\", \"weight\": 0.053}, {\"from\": \"\\u6210\\u719f\\u50b5_\\u5317\\u7f8e\", \"to\": \"AOB6\", \"weight\": 0.053}, {\"from\": \"\\u6210\\u719f\\u50b5_\\u6b50\\u6d32\", \"to\": \"AOB5\", \"weight\": 0.0321}, {\"from\": \"\\u6210\\u719f\\u50b5_\\u6b50\\u6d32\", \"to\": \"AOB6\", \"weight\": 0.0321}, {\"from\": \"\\u6210\\u719f\\u50b5_\\u82f1\", \"to\": \"AOB5\", \"weight\": 0.01}, {\"from\": \"\\u6210\\u719f\\u50b5_\\u82f1\", \"to\": \"AOB6\", \"weight\": 0.01}, {\"from\": \"\\u6210\\u719f\\u50b5_\\u4e9e\\u592a\", \"to\": \"AOB5\", \"weight\": 0.0229}, {\"from\": \"\\u6210\\u719f\\u50b5_\\u4e9e\\u592a\", \"to\": \"AOB6\", \"weight\": 0.0229}, {\"from\": \"\\u65b0\\u8208\\u50b5\", \"to\": \"AOB5\", \"weight\": 0.8643000000000001}, {\"from\": \"\\u65b0\\u8208\\u50b5\", \"to\": \"AOB6\", \"weight\": 0.8643000000000001}, {\"from\": \"\\u65b0\\u8208\\u50b5_\\u62c9\\u7f8e\", \"to\": \"AOB5\", \"weight\": 0.3529}, {\"from\": \"\\u65b0\\u8208\\u50b5_\\u62c9\\u7f8e\", \"to\": \"AOB6\", \"weight\": 0.3529}, {\"from\": \"\\u65b0\\u8208\\u50b5_\\u65b0\\u6b50\", \"to\": \"AOB5\", \"weight\": 0.10779999999999999}, {\"from\": \"\\u65b0\\u8208\\u50b5_\\u65b0\\u6b50\", \"to\": \"AOB6\", \"weight\": 0.10779999999999999}, {\"from\": \"\\u65b0\\u8208\\u50b5_\\u975e\\u6d32\", \"to\": \"AOB5\", \"weight\": 0.1782}, {\"from\": \"\\u65b0\\u8208\\u50b5_\\u975e\\u6d32\", \"to\": \"AOB6\", \"weight\": 0.1782}, {\"from\": \"\\u65b0\\u8208\\u50b5_\\u4e2d\\u6771\", \"to\": \"AOB5\", \"weight\": 0.1624}, {\"from\": \"\\u65b0\\u8208\\u50b5_\\u4e2d\\u6771\", \"to\": \"AOB6\", \"weight\": 0.1624}, {\"from\": \"\\u65b0\\u8208\\u50b5_\\u65b0\\u4e9e\", \"to\": \"AOB5\", \"weight\": 0.063}, {\"from\": \"\\u65b0\\u8208\\u50b5_\\u65b0\\u4e9e\", \"to\": \"AOB6\", \"weight\": 0.063}, {\"from\": \"AA\", \"to\": \"AOB5\", \"weight\": 0.0298}, {\"from\": \"AA\", \"to\": \"AOB6\", \"weight\": 0.0298}, {\"from\": \"A\", \"to\": \"AOB5\", \"weight\": 0.035699999999999996}, {\"from\": \"A\", \"to\": \"AOB6\", \"weight\": 0.035699999999999996}, {\"from\": \"BBB\", \"to\": \"AOB5\", \"weight\": 0.2297}, {\"from\": \"BBB\", \"to\": \"AOB6\", \"weight\": 0.2297}, {\"from\": \"BB\", \"to\": \"AOB5\", \"weight\": 0.2837}, {\"from\": \"BB\", \"to\": \"AOB6\", \"weight\": 0.2837}, {\"from\": \"B\", \"to\": \"AOB5\", \"weight\": 0.2705}, {\"from\": \"B\", \"to\": \"AOB6\", \"weight\": 0.2705}, {\"from\": \"B\\u4ee5\\u4e0b\", \"to\": \"AOB5\", \"weight\": 0.105}, {\"from\": \"B\\u4ee5\\u4e0b\", \"to\": \"AOB6\", \"weight\": 0.105}, {\"from\": \"\\u7121\\u4fe1\\u8a55\", \"to\": \"AOB5\", \"weight\": 0.0347}, {\"from\": \"\\u7121\\u4fe1\\u8a55\", \"to\": \"AOB6\", \"weight\": 0.0347}, {\"from\": \"3\", \"to\": \"AOB5\", \"weight\": 1.0}, {\"from\": \"01_\\u914d\\u606f\", \"to\": \"AOB5\", \"weight\": 1.0}, {\"from\": \"01_\\u914d\\u606f\", \"to\": \"AOB6\", \"weight\": 1.0}, {\"from\": \"BOND\", \"to\": \"AOB5\", \"weight\": 1.0}, {\"from\": \"BOND\", \"to\": \"AOB6\", \"weight\": 1.0}, {\"from\": \"\\u65b0\\u8208\\u5e02\\u5834\\u50b5\", \"to\": \"AOB5\", \"weight\": 1.0}, {\"from\": \"\\u65b0\\u8208\\u5e02\\u5834\\u50b5\", \"to\": \"AOB6\", \"weight\": 1.0}, {\"from\": \"\\u50b5\\u5238\\u578b\", \"to\": \"AOB5\", \"weight\": 1.0}, {\"from\": \"\\u50b5\\u5238\\u578b\", \"to\": \"AOB6\", \"weight\": 1.0}, {\"from\": \"\\u74b0\\u7403\\u50b5\\u5238\", \"to\": \"AOB5\", \"weight\": 1.0}, {\"from\": \"\\u74b0\\u7403\\u50b5\\u5238\", \"to\": \"AOB6\", \"weight\": 1.0}, {\"from\": \"\\u56fa\\u5b9a\\u6536\\u76ca\\u578b\", \"to\": \"AOB5\", \"weight\": 1.0}, {\"from\": \"\\u56fa\\u5b9a\\u6536\\u76ca\\u578b\", \"to\": \"AOB6\", \"weight\": 1.0}, {\"from\": \"\\u5883\\u5916\", \"to\": \"AOB5\", \"weight\": 1.0}, {\"from\": \"\\u5883\\u5916\", \"to\": \"AOB6\", \"weight\": 1.0}, {\"from\": \"\\u5f8c\\u6536\", \"to\": \"AOB5\", \"weight\": 1.0}, {\"from\": \"\\u5f8c\\u6536\", \"to\": \"AOB6\", \"weight\": 1.0}, {\"from\": \"AOB5\", \"to\": \"AUD\", \"weight\": 1.0}, {\"from\": \"AOB6\", \"to\": \"4\", \"weight\": 1.0}, {\"from\": \"AOB6\", \"to\": \"ZAR\", \"weight\": 1.0}, {\"from\": \"AOE1\", \"to\": \"\\u80a1\\u7968\\u6bd4\", \"weight\": 0.037000000000000005}]);\n",
              "\n",
              "        // adding nodes and edges to the graph\n",
              "        data = {nodes: nodes, edges: edges};\n",
              "\n",
              "        var options = {\n",
              "    \"configure\": {\n",
              "        \"enabled\": false\n",
              "    },\n",
              "    \"edges\": {\n",
              "        \"color\": {\n",
              "            \"inherit\": true\n",
              "        },\n",
              "        \"smooth\": {\n",
              "            \"enabled\": false,\n",
              "            \"type\": \"continuous\"\n",
              "        }\n",
              "    },\n",
              "    \"interaction\": {\n",
              "        \"dragNodes\": true,\n",
              "        \"hideEdgesOnDrag\": false,\n",
              "        \"hideNodesOnDrag\": false\n",
              "    },\n",
              "    \"physics\": {\n",
              "        \"enabled\": true,\n",
              "        \"stabilization\": {\n",
              "            \"enabled\": true,\n",
              "            \"fit\": true,\n",
              "            \"iterations\": 1000,\n",
              "            \"onlyDynamicEdges\": false,\n",
              "            \"updateInterval\": 50\n",
              "        }\n",
              "    }\n",
              "};\n",
              "        \n",
              "        \n",
              "\n",
              "        \n",
              "\n",
              "        network = new vis.Network(container, data, options);\n",
              "\t \n",
              "        \n",
              "\n",
              "\n",
              "        \n",
              "\n",
              "        return network;\n",
              "\n",
              "    }\n",
              "\n",
              "    drawGraph();\n",
              "\n",
              "</script>\n",
              "</body>\n",
              "</html>"
            ],
            "text/plain": [
              "<IPython.core.display.HTML object>"
            ]
          },
          "metadata": {}
        }
      ]
    },
    {
      "cell_type": "markdown",
      "source": [
        "# Node2Vec序列生成"
      ],
      "metadata": {
        "id": "GncDc9acAXzu"
      }
    },
    {
      "cell_type": "code",
      "metadata": {
        "colab": {
          "base_uri": "https://localhost:8080/",
          "height": 120,
          "referenced_widgets": [
            "4d0df305b95e41f09104058c0918773c",
            "e584327888534369b000de4a6e65778f",
            "4a632001065244b18ecfdc75d6a41772",
            "255a1cd9be884e3c82ac14e3c01430e5",
            "2221571e8f9c4bc88e9b813cb23a9bc9",
            "5e59eb1ef4b842409e0d049904ad0643",
            "4b05e48b7a5548249deb1add31842dc0",
            "4172a146cb4243cd9f93eda444f4c7c3",
            "0b78de7568584af1bd8cff27c181efe8",
            "9d24f385489345a88778e3184ef95580",
            "b115ce9a16c74c559e2553dfc6f8f912"
          ]
        },
        "id": "n9E9kJAcdGU_",
        "outputId": "3895a225-9b01-4831-df69-f93cfc4c38ce"
      },
      "source": [
        "%%time\n",
        "'''\n",
        ":param graph: Input graph\n",
        ":param dimensions: Embedding dimensions (default: 128)\n",
        ":param walk_length: Number of nodes in each walk (default: 80)\n",
        ":param num_walks: Number of walks per node (default: 10)\n",
        ":param p: Return hyper parameter (default: 1)\n",
        ":param q: Inout parameter (default: 1)\n",
        ":param weight_key: On weighted graphs, this is the key for the weight attribute (default: 'weight')\n",
        ":param workers: Number of workers for parallel execution (default: 1)\n",
        ":param sampling_strategy: Node specific sampling strategies, supports setting node specific 'q', 'p', 'num_walks' and 'walk_length'.\n",
        ":param seed: Seed for the random number generator.\n",
        "'''\n",
        "\n",
        "# Precompute probabilities and generate walks - **ON WINDOWS ONLY WORKS WITH workers=1**\n",
        "\n",
        "# 生成序列\n",
        "node2vec = Node2Vec(G, dimensions=64, walk_length=50, num_walks=20, workers=1, seed=9527)  # Use temp_folder for big graphs"
      ],
      "execution_count": null,
      "outputs": [
        {
          "output_type": "display_data",
          "data": {
            "application/vnd.jupyter.widget-view+json": {
              "model_id": "4d0df305b95e41f09104058c0918773c",
              "version_minor": 0,
              "version_major": 2
            },
            "text/plain": [
              "Computing transition probabilities:   0%|          | 0/2044 [00:00<?, ?it/s]"
            ]
          },
          "metadata": {}
        },
        {
          "output_type": "stream",
          "name": "stderr",
          "text": [
            "Generating walks (CPU: 1): 100%|██████████| 20/20 [02:22<00:00,  7.14s/it]"
          ]
        },
        {
          "output_type": "stream",
          "name": "stdout",
          "text": [
            "CPU times: user 5min 15s, sys: 2.4 s, total: 5min 17s\n",
            "Wall time: 5min 15s\n"
          ]
        },
        {
          "output_type": "stream",
          "name": "stderr",
          "text": [
            "\n"
          ]
        }
      ]
    },
    {
      "cell_type": "code",
      "metadata": {
        "id": "MyBuDdbsucLp",
        "colab": {
          "base_uri": "https://localhost:8080/"
        },
        "outputId": "771b84d3-d6fc-424b-f599-33e3d98fbbd7"
      },
      "source": [
        "node2vec.walks[0]"
      ],
      "execution_count": null,
      "outputs": [
        {
          "output_type": "execute_result",
          "data": {
            "text/plain": [
              "['FDU1',\n",
              " '4',\n",
              " 'AOA7',\n",
              " '非必消',\n",
              " 'MSG9',\n",
              " '資訊科技股票',\n",
              " 'MSH1',\n",
              " 'STOCK',\n",
              " 'ALM7',\n",
              " '科技',\n",
              " 'FRP5',\n",
              " '股票型',\n",
              " 'JAA8',\n",
              " 'STOCK',\n",
              " 'SCO1',\n",
              " '境外',\n",
              " 'JFL1',\n",
              " '境外',\n",
              " 'JFU8',\n",
              " '股票比',\n",
              " '3914',\n",
              " 'STOCK',\n",
              " 'FDM1',\n",
              " '成熟股',\n",
              " 'JAA4',\n",
              " '成熟股',\n",
              " '3635',\n",
              " '4',\n",
              " '8111',\n",
              " '4',\n",
              " 'FDS5',\n",
              " 'STOCK',\n",
              " 'FDK7',\n",
              " '成熟股_歐洲',\n",
              " 'SCR2',\n",
              " '歐洲股票',\n",
              " 'AEA4',\n",
              " '股票比',\n",
              " '6202',\n",
              " '後收',\n",
              " 'FFA6',\n",
              " '北美股票',\n",
              " 'UBA5',\n",
              " '工業',\n",
              " '1336',\n",
              " '新興股',\n",
              " 'KBA1',\n",
              " '成熟股_北美',\n",
              " '7799',\n",
              " '環球股票']"
            ]
          },
          "metadata": {},
          "execution_count": 19
        }
      ]
    },
    {
      "cell_type": "markdown",
      "metadata": {
        "id": "oIB22uemiCDt"
      },
      "source": [
        "# Embedding訓練"
      ]
    },
    {
      "cell_type": "code",
      "metadata": {
        "id": "hZADV8ueiYpZ"
      },
      "source": [
        "node_corpus = node2vec.walks"
      ],
      "execution_count": null,
      "outputs": []
    },
    {
      "cell_type": "code",
      "metadata": {
        "id": "dDuoTtGGiN7t",
        "colab": {
          "base_uri": "https://localhost:8080/"
        },
        "outputId": "2ddff287-1e53-49f0-ec75-1af18c0fb977"
      },
      "source": [
        "%%time\n",
        "n2v_model = Word2Vec(node_corpus, size=256, iter=5, window=8, sg=1, negative=10, min_count=1, workers=1)"
      ],
      "execution_count": null,
      "outputs": [
        {
          "output_type": "stream",
          "name": "stdout",
          "text": [
            "CPU times: user 2min 18s, sys: 193 ms, total: 2min 18s\n",
            "Wall time: 2min 17s\n"
          ]
        }
      ]
    },
    {
      "cell_type": "code",
      "metadata": {
        "id": "mrr6sIVyu2LU"
      },
      "source": [
        "n2v_model.save(\"fund_node2vec.model\")"
      ],
      "execution_count": null,
      "outputs": []
    },
    {
      "cell_type": "code",
      "metadata": {
        "id": "Wz4Htznvid5k"
      },
      "source": [
        "## 取出市場向量\n",
        "n2v_mkt_emb = {x:n2v_model.wv[x] for x in fund_df['基金類型'].unique()}"
      ],
      "execution_count": null,
      "outputs": []
    },
    {
      "cell_type": "markdown",
      "source": [
        "輸出成embedding projector可以載入的格式\n",
        "\n",
        "https://projector.tensorflow.org/"
      ],
      "metadata": {
        "id": "I_1SZUmxFYs7"
      }
    },
    {
      "cell_type": "code",
      "metadata": {
        "id": "Ss9vFEtPu2QF"
      },
      "source": [
        "## 市場向量\n",
        "\n",
        "np.savetxt(\"n2v_mkt_emb.tsv\", n2v_model.wv[fund_df['基金類型'].unique()], delimiter=\"\\t\")\n",
        "pd.DataFrame({'mkt':fund_df['基金類型'].unique()}).to_csv('n2v_mkt_emb_meta.tsv', sep = '\\t',index=False, header=False)"
      ],
      "execution_count": null,
      "outputs": []
    },
    {
      "cell_type": "code",
      "metadata": {
        "id": "xbgitCedhmNz"
      },
      "source": [
        "## 基金細項向量\n",
        "\n",
        "np.savetxt(\"n2v_fund_emb.tsv\", n2v_model.wv[fund_df['FUND_CD']], delimiter=\"\\t\")\n",
        "fund_org_df[['CNAME_short','RISK_LEVEL_ALL','FUNDCRYID','產品類型','基金類型','基金分類',]].to_csv('n2v_fund_emb_meta.tsv', sep = '\\t',index=False, header=False)"
      ],
      "execution_count": null,
      "outputs": []
    },
    {
      "cell_type": "code",
      "metadata": {
        "id": "Uas-aHBa8cqn"
      },
      "source": [
        "def most_similar(w2v_model, words, topn=20):\n",
        "    similar_df = pd.DataFrame()\n",
        "    for word in words:\n",
        "        try:\n",
        "            similar_words = pd.DataFrame(w2v_model.wv.most_similar(word, topn=topn), columns=[word, 'cos'])\n",
        "            similar_df = pd.concat([similar_df, similar_words], axis=1)\n",
        "        except:\n",
        "            print(word, \"not found in Word2Vec model!\")\n",
        "    return similar_df"
      ],
      "execution_count": null,
      "outputs": []
    },
    {
      "cell_type": "markdown",
      "metadata": {
        "id": "gwfhCsCQlBHF"
      },
      "source": [
        "# Pretrained W2V (待研究)\n",
        "\n",
        "嘗試提取財金語料pretrained的字詞提取embedding"
      ]
    },
    {
      "cell_type": "code",
      "metadata": {
        "id": "voOU92_yoMlg"
      },
      "source": [
        "# 下載英文財金語料庫pretrained fasttext word2vec\n",
        "!wget https://www.rahimikia.com/FinText/FinText_FastText_Skip-gram.zip\n",
        "!unzip /content/FinText_FastText_Skip-gram.zip"
      ],
      "execution_count": null,
      "outputs": []
    },
    {
      "cell_type": "code",
      "metadata": {
        "id": "ZHFnK0H81Nko"
      },
      "source": [
        "from gensim.models import Word2Vec\n",
        "from gensim.models import FastText\n",
        "import gensim.downloader as api "
      ],
      "execution_count": null,
      "outputs": []
    },
    {
      "cell_type": "code",
      "metadata": {
        "id": "f7LGND781-i-"
      },
      "source": [
        "FinText_Word2Vec_skipgram = Word2Vec.load('/content/FinText_FastText_Skip-gram/Word_Embedding_2000_2015')"
      ],
      "execution_count": null,
      "outputs": []
    },
    {
      "cell_type": "code",
      "metadata": {
        "id": "sE2yCV1z6_1b"
      },
      "source": [
        "\n",
        "prod=['fund',\n",
        " 'etf',\n",
        " 'stock',\n",
        " 'preferred_stock',\n",
        " 'auto_loan',\n",
        " 'trust',\n",
        " 'life_insurance',\n",
        " 'insurance',\n",
        " 'personal_loan',\n",
        " 'mortgage',\n",
        " 'loan',\n",
        " 'treasury_bond',\n",
        " 'foreign_exchange',\n",
        " 'online_banking',\n",
        " 'fintech',\n",
        " 'blockchain',\n",
        " 'bitcoin',\n",
        " 'robo_advisor'\n",
        " ]"
      ],
      "execution_count": null,
      "outputs": []
    },
    {
      "cell_type": "code",
      "metadata": {
        "id": "NuNDCbjB2GYB"
      },
      "source": [
        "product_embedding = FinText_Word2Vec_skipgram.wv[prod]"
      ],
      "execution_count": null,
      "outputs": []
    },
    {
      "cell_type": "code",
      "metadata": {
        "id": "xZBB_8j-PJ2m",
        "colab": {
          "base_uri": "https://localhost:8080/"
        },
        "outputId": "ba8ff385-0174-4e51-9615-5239536d87e9"
      },
      "source": [
        "product_embedding"
      ],
      "execution_count": null,
      "outputs": [
        {
          "output_type": "execute_result",
          "data": {
            "text/plain": [
              "array([[ 0.14604235,  0.1704098 ,  0.01929267, ..., -0.13392453,\n",
              "        -0.3286863 ,  0.01605617],\n",
              "       [ 0.40752319,  0.3141233 , -0.22489968, ..., -0.28437993,\n",
              "         0.02246348,  0.17138132],\n",
              "       [ 0.09119733,  0.13523722,  0.01482047, ..., -0.09712761,\n",
              "        -0.23065072, -0.22710954],\n",
              "       ...,\n",
              "       [-0.00303637,  0.145203  , -0.41418603, ..., -0.11681274,\n",
              "        -0.14459747, -0.02398938],\n",
              "       [-0.07647095,  0.24916057, -0.12600106, ...,  0.3001527 ,\n",
              "        -0.21294053, -0.04931631],\n",
              "       [ 0.29539302, -0.00322265,  0.12641694, ...,  0.13217312,\n",
              "        -0.4011273 , -0.07066225]], dtype=float32)"
            ]
          },
          "metadata": {},
          "execution_count": 10
        }
      ]
    }
  ]
}