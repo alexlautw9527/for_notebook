{
  "nbformat": 4,
  "nbformat_minor": 0,
  "metadata": {
    "colab": {
      "name": "Fund2vec.ipynb",
      "provenance": [],
      "machine_shape": "hm",
      "mount_file_id": "https://github.com/alexlautw9527/for_notebook/blob/main/Fund2vec.ipynb",
      "authorship_tag": "ABX9TyOjJ867j28fP/8H9Z2+hSOz",
      "include_colab_link": true
    },
    "kernelspec": {
      "name": "python3",
      "display_name": "Python 3"
    },
    "language_info": {
      "name": "python"
    },
    "accelerator": "GPU"
  },
  "cells": [
    {
      "cell_type": "markdown",
      "metadata": {
        "id": "view-in-github",
        "colab_type": "text"
      },
      "source": [
        "<a href=\"https://colab.research.google.com/github/alexlautw9527/for_notebook/blob/main/Fund2vec.ipynb\" target=\"_parent\"><img src=\"https://colab.research.google.com/assets/colab-badge.svg\" alt=\"Open In Colab\"/></a>"
      ]
    },
    {
      "cell_type": "code",
      "metadata": {
        "id": "PdpZibZo8Dlo"
      },
      "source": [
        "import pandas as pd \n",
        "import numpy as np"
      ],
      "execution_count": 1,
      "outputs": []
    },
    {
      "cell_type": "code",
      "metadata": {
        "id": "nFHQS3929rFG"
      },
      "source": [
        "fund_df = pd.read_csv('/content/drive/MyDrive/05_OTHER_DATA/基金產品列表.csv', encoding='CP950')"
      ],
      "execution_count": null,
      "outputs": []
    },
    {
      "cell_type": "code",
      "metadata": {
        "id": "OCUBh-UXvJVH"
      },
      "source": [
        "fund_code_df = pd.read_csv('/content/drive/MyDrive/05_OTHER_DATA/FUND_CODE_DATA.csv', encoding='CP950')\n",
        "fund_code_df = fund_code_df[['產品代碼', '基金名稱', 'ISIN Code']]"
      ],
      "execution_count": null,
      "outputs": []
    },
    {
      "cell_type": "code",
      "metadata": {
        "id": "1OpOuI54u19g"
      },
      "source": [
        "fund_df = fund_df[fund_df['RISKLEVEL']!=0][['CNAME','FUNDCRYID', 'RISKLEVEL','DIVIDENDTYPE2','ASSETCAT_CODE','SECTOR_NAME']]\n",
        "fund_df['SECTOR_NAME'] = fund_df['SECTOR_NAME'].fillna('NA')\n",
        "fund_df = fund_df[~fund_df['ASSETCAT_CODE'].isna()]"
      ],
      "execution_count": null,
      "outputs": []
    },
    {
      "cell_type": "code",
      "metadata": {
        "id": "gmfVhg3P8lYH"
      },
      "source": [
        "corpus = fund_df.astype(str).values.tolist()"
      ],
      "execution_count": null,
      "outputs": []
    },
    {
      "cell_type": "code",
      "metadata": {
        "colab": {
          "base_uri": "https://localhost:8080/"
        },
        "id": "yDqDewFQnMcl",
        "outputId": "d34b7ae6-df9c-4fc1-f81a-10519be6b96e"
      },
      "source": [
        "corpus[0:5]"
      ],
      "execution_count": null,
      "outputs": [
        {
          "output_type": "execute_result",
          "data": {
            "text/plain": [
              "[['施羅德２０２２到期新興市場主權債券基金（美元）－累積型（本基金進行配息前未先扣除應負擔之相關費用）（本基金有相當比重投資於非投資等級之高風險債券且配息來源可能為本金）',\n",
              "  'USD',\n",
              "  '3',\n",
              "  '03_不配',\n",
              "  'BOND',\n",
              "  'NA'],\n",
              " ['施羅德２０２２到期新興市場主權債券基金（美元）－配息型（本基金進行配息前未先扣除應負擔之相關費用）（本基金有相當比重投資於非投資等級之高風險債券且配息來源可能為本金）',\n",
              "  'USD',\n",
              "  '3',\n",
              "  '01_配息',\n",
              "  'BOND',\n",
              "  'NA'],\n",
              " ['新光創新科技基金（新臺幣）', 'TWD', '4', '03_不配', 'STOCK', '科技'],\n",
              " ['新光店頭基金（新臺幣）', 'TWD', '4', '03_不配', 'STOCK', '台灣股市'],\n",
              " ['新光台灣富貴基金（新臺幣）', 'TWD', '4', '03_不配', 'STOCK', '台灣股市']]"
            ]
          },
          "metadata": {},
          "execution_count": 9
        }
      ]
    },
    {
      "cell_type": "code",
      "metadata": {
        "id": "a-H4wb8X-jsD"
      },
      "source": [
        "import pandas as pd\n",
        "from gensim.models.word2vec import Word2Vec"
      ],
      "execution_count": 2,
      "outputs": []
    },
    {
      "cell_type": "code",
      "metadata": {
        "id": "-H2zcCuI-kk-"
      },
      "source": [
        "model = Word2Vec(corpus, size=50, iter=50,window=5, sg=1,negative=20,min_count=1)\n"
      ],
      "execution_count": null,
      "outputs": []
    },
    {
      "cell_type": "code",
      "metadata": {
        "id": "Uas-aHBa8cqn"
      },
      "source": [
        "def most_similar(w2v_model, words, topn=20):\n",
        "    similar_df = pd.DataFrame()\n",
        "    for word in words:\n",
        "        try:\n",
        "            similar_words = pd.DataFrame(w2v_model.wv.most_similar(word, topn=topn), columns=[word, 'cos'])\n",
        "            similar_df = pd.concat([similar_df, similar_words], axis=1)\n",
        "        except:\n",
        "            print(word, \"not found in Word2Vec model!\")\n",
        "    return similar_df"
      ],
      "execution_count": null,
      "outputs": []
    },
    {
      "cell_type": "code",
      "metadata": {
        "id": "TQne6_KyJrHX"
      },
      "source": [
        "np.savetxt(\"fund_embedd.tsv\", model.wv[fund_df['CNAME'].tolist()], delimiter=\"\\t\")\n"
      ],
      "execution_count": null,
      "outputs": []
    },
    {
      "cell_type": "code",
      "metadata": {
        "id": "PnGGk6LWJ906"
      },
      "source": [
        "fund_df.to_csv('fund_embedd_metadata.tsv', sep = '\\t',index=False)"
      ],
      "execution_count": null,
      "outputs": []
    },
    {
      "cell_type": "code",
      "metadata": {
        "colab": {
          "base_uri": "https://localhost:8080/"
        },
        "id": "flSYZnpAoTn1",
        "outputId": "ee1e94cb-076f-410a-9a01-b71861e8ffed"
      },
      "source": [
        "fund_df.shape"
      ],
      "execution_count": null,
      "outputs": [
        {
          "output_type": "execute_result",
          "data": {
            "text/plain": [
              "(2650, 6)"
            ]
          },
          "metadata": {},
          "execution_count": 26
        }
      ]
    },
    {
      "cell_type": "code",
      "metadata": {
        "id": "1TbGJ6lUJ-Jj",
        "colab": {
          "base_uri": "https://localhost:8080/",
          "height": 17
        },
        "outputId": "e7b07eec-a8f2-4fed-a5f2-e7a46afa778a"
      },
      "source": [
        "from google.colab import files\n",
        "files.download('/content/fund_embedd_metadata.tsv') \n",
        "files.download('/content/fund_embedd.tsv') "
      ],
      "execution_count": null,
      "outputs": [
        {
          "output_type": "display_data",
          "data": {
            "application/javascript": [
              "\n",
              "    async function download(id, filename, size) {\n",
              "      if (!google.colab.kernel.accessAllowed) {\n",
              "        return;\n",
              "      }\n",
              "      const div = document.createElement('div');\n",
              "      const label = document.createElement('label');\n",
              "      label.textContent = `Downloading \"${filename}\": `;\n",
              "      div.appendChild(label);\n",
              "      const progress = document.createElement('progress');\n",
              "      progress.max = size;\n",
              "      div.appendChild(progress);\n",
              "      document.body.appendChild(div);\n",
              "\n",
              "      const buffers = [];\n",
              "      let downloaded = 0;\n",
              "\n",
              "      const channel = await google.colab.kernel.comms.open(id);\n",
              "      // Send a message to notify the kernel that we're ready.\n",
              "      channel.send({})\n",
              "\n",
              "      for await (const message of channel.messages) {\n",
              "        // Send a message to notify the kernel that we're ready.\n",
              "        channel.send({})\n",
              "        if (message.buffers) {\n",
              "          for (const buffer of message.buffers) {\n",
              "            buffers.push(buffer);\n",
              "            downloaded += buffer.byteLength;\n",
              "            progress.value = downloaded;\n",
              "          }\n",
              "        }\n",
              "      }\n",
              "      const blob = new Blob(buffers, {type: 'application/binary'});\n",
              "      const a = document.createElement('a');\n",
              "      a.href = window.URL.createObjectURL(blob);\n",
              "      a.download = filename;\n",
              "      div.appendChild(a);\n",
              "      a.click();\n",
              "      div.remove();\n",
              "    }\n",
              "  "
            ],
            "text/plain": [
              "<IPython.core.display.Javascript object>"
            ]
          },
          "metadata": {}
        },
        {
          "output_type": "display_data",
          "data": {
            "application/javascript": [
              "download(\"download_6a528708-b607-4b24-a475-fdffede9ce8d\", \"fund_embedd_metadata.tsv\", 375368)"
            ],
            "text/plain": [
              "<IPython.core.display.Javascript object>"
            ]
          },
          "metadata": {}
        },
        {
          "output_type": "display_data",
          "data": {
            "application/javascript": [
              "\n",
              "    async function download(id, filename, size) {\n",
              "      if (!google.colab.kernel.accessAllowed) {\n",
              "        return;\n",
              "      }\n",
              "      const div = document.createElement('div');\n",
              "      const label = document.createElement('label');\n",
              "      label.textContent = `Downloading \"${filename}\": `;\n",
              "      div.appendChild(label);\n",
              "      const progress = document.createElement('progress');\n",
              "      progress.max = size;\n",
              "      div.appendChild(progress);\n",
              "      document.body.appendChild(div);\n",
              "\n",
              "      const buffers = [];\n",
              "      let downloaded = 0;\n",
              "\n",
              "      const channel = await google.colab.kernel.comms.open(id);\n",
              "      // Send a message to notify the kernel that we're ready.\n",
              "      channel.send({})\n",
              "\n",
              "      for await (const message of channel.messages) {\n",
              "        // Send a message to notify the kernel that we're ready.\n",
              "        channel.send({})\n",
              "        if (message.buffers) {\n",
              "          for (const buffer of message.buffers) {\n",
              "            buffers.push(buffer);\n",
              "            downloaded += buffer.byteLength;\n",
              "            progress.value = downloaded;\n",
              "          }\n",
              "        }\n",
              "      }\n",
              "      const blob = new Blob(buffers, {type: 'application/binary'});\n",
              "      const a = document.createElement('a');\n",
              "      a.href = window.URL.createObjectURL(blob);\n",
              "      a.download = filename;\n",
              "      div.appendChild(a);\n",
              "      a.click();\n",
              "      div.remove();\n",
              "    }\n",
              "  "
            ],
            "text/plain": [
              "<IPython.core.display.Javascript object>"
            ]
          },
          "metadata": {}
        },
        {
          "output_type": "display_data",
          "data": {
            "application/javascript": [
              "download(\"download_f7f7c8f3-9fc7-43e6-966f-5ab4cfd6a9cb\", \"fund_embedd.tsv\", 3379587)"
            ],
            "text/plain": [
              "<IPython.core.display.Javascript object>"
            ]
          },
          "metadata": {}
        }
      ]
    },
    {
      "cell_type": "code",
      "metadata": {
        "colab": {
          "base_uri": "https://localhost:8080/"
        },
        "id": "voOU92_yoMlg",
        "outputId": "0d3af023-3ba4-4eba-ea16-5e3baa900b88"
      },
      "source": [
        "! wget https://www.rahimikia.com/FinText/FinText_FastText_Skip-gram.zip"
      ],
      "execution_count": 4,
      "outputs": [
        {
          "metadata": {
            "tags": null
          },
          "name": "stdout",
          "output_type": "stream",
          "text": [
            "--2021-10-26 15:11:10--  https://www.rahimikia.com/FinText/FinText_FastText_Skip-gram.zip\n",
            "Resolving www.rahimikia.com (www.rahimikia.com)... 69.163.228.90\n",
            "Connecting to www.rahimikia.com (www.rahimikia.com)|69.163.228.90|:443... connected.\n",
            "HTTP request sent, awaiting response... 200 OK\n",
            "Length: 11656495869 (11G) [application/zip]\n",
            "Saving to: ‘FinText_FastText_Skip-gram.zip’\n",
            "\n",
            "FinText_FastText_Sk 100%[===================>]  10.86G  13.1MB/s    in 8m 13s  \n",
            "\n",
            "2021-10-26 15:19:24 (22.5 MB/s) - ‘FinText_FastText_Skip-gram.zip’ saved [11656495869/11656495869]\n",
            "\n"
          ]
        }
      ]
    },
    {
      "cell_type": "code",
      "metadata": {
        "id": "zPOZ63Cq0L1R",
        "colab": {
          "base_uri": "https://localhost:8080/"
        },
        "outputId": "c09050f8-5b83-43a3-b005-ad944866b993"
      },
      "source": [
        "!unzip /content/FinText_FastText_Skip-gram.zip"
      ],
      "execution_count": 5,
      "outputs": [
        {
          "metadata": {
            "tags": null
          },
          "name": "stdout",
          "output_type": "stream",
          "text": [
            "Archive:  /content/FinText_FastText_Skip-gram.zip\n",
            "   creating: FinText_FastText_Skip-gram/\n",
            "  inflating: FinText_FastText_Skip-gram/Word_Embedding_2000_2015  \n",
            "  inflating: FinText_FastText_Skip-gram/README.txt  \n",
            "  inflating: FinText_FastText_Skip-gram/Word_Embedding_2000_2015.trainables.vectors_ngrams_lockf.npy  \n",
            "  inflating: FinText_FastText_Skip-gram/Word_Embedding_2000_2015.pkl  \n",
            "  inflating: FinText_FastText_Skip-gram/Word_Embedding_2000_2015.wv.vectors_ngrams.npy  \n",
            "  inflating: FinText_FastText_Skip-gram/Word_Embedding_2000_2015.wv.vectors.npy  \n",
            "  inflating: FinText_FastText_Skip-gram/Word_Embedding_2000_2015.trainables.vectors_vocab_lockf.npy  \n",
            "  inflating: FinText_FastText_Skip-gram/Word_Embedding_2000_2015.wv.vectors_vocab.npy  \n",
            "  inflating: FinText_FastText_Skip-gram/Word_Embedding_2000_2015.trainables.syn1neg.npy  \n"
          ]
        }
      ]
    },
    {
      "cell_type": "code",
      "metadata": {
        "id": "ZHFnK0H81Nko"
      },
      "source": [
        "from gensim.models import Word2Vec\n",
        "from gensim.models import FastText\n",
        "import gensim.downloader as api "
      ],
      "execution_count": 6,
      "outputs": []
    },
    {
      "cell_type": "code",
      "metadata": {
        "id": "f7LGND781-i-"
      },
      "source": [
        "FinText_Word2Vec_skipgram = Word2Vec.load('/content/FinText_FastText_Skip-gram/Word_Embedding_2000_2015')"
      ],
      "execution_count": 7,
      "outputs": []
    },
    {
      "cell_type": "code",
      "metadata": {
        "id": "sE2yCV1z6_1b"
      },
      "source": [
        "\n",
        "prod=['fund',\n",
        " 'etf',\n",
        " 'stock',\n",
        " 'preferred_stock',\n",
        " 'auto_loan',\n",
        " 'trust',\n",
        " 'life_insurance',\n",
        " 'insurance',\n",
        " 'personal_loan',\n",
        " 'mortgage',\n",
        " 'loan',\n",
        " 'treasury_bond',\n",
        " 'foreign_exchange',\n",
        " 'online_banking',\n",
        " 'fintech',\n",
        " 'blockchain',\n",
        " 'bitcoin',\n",
        " 'robo_advisor'\n",
        " ]"
      ],
      "execution_count": 8,
      "outputs": []
    },
    {
      "cell_type": "code",
      "metadata": {
        "id": "NuNDCbjB2GYB"
      },
      "source": [
        "product_embedding = FinText_Word2Vec_skipgram.wv[prod]"
      ],
      "execution_count": 9,
      "outputs": []
    },
    {
      "cell_type": "code",
      "metadata": {
        "id": "xZBB_8j-PJ2m",
        "outputId": "ba8ff385-0174-4e51-9615-5239536d87e9",
        "colab": {
          "base_uri": "https://localhost:8080/"
        }
      },
      "source": [
        "product_embedding"
      ],
      "execution_count": 10,
      "outputs": [
        {
          "output_type": "execute_result",
          "data": {
            "text/plain": [
              "array([[ 0.14604235,  0.1704098 ,  0.01929267, ..., -0.13392453,\n",
              "        -0.3286863 ,  0.01605617],\n",
              "       [ 0.40752319,  0.3141233 , -0.22489968, ..., -0.28437993,\n",
              "         0.02246348,  0.17138132],\n",
              "       [ 0.09119733,  0.13523722,  0.01482047, ..., -0.09712761,\n",
              "        -0.23065072, -0.22710954],\n",
              "       ...,\n",
              "       [-0.00303637,  0.145203  , -0.41418603, ..., -0.11681274,\n",
              "        -0.14459747, -0.02398938],\n",
              "       [-0.07647095,  0.24916057, -0.12600106, ...,  0.3001527 ,\n",
              "        -0.21294053, -0.04931631],\n",
              "       [ 0.29539302, -0.00322265,  0.12641694, ...,  0.13217312,\n",
              "        -0.4011273 , -0.07066225]], dtype=float32)"
            ]
          },
          "metadata": {},
          "execution_count": 10
        }
      ]
    },
    {
      "cell_type": "code",
      "metadata": {
        "id": "6gSQ_lEuArJc",
        "colab": {
          "base_uri": "https://localhost:8080/"
        },
        "outputId": "f082b12c-362e-445a-93bb-5b844a490455"
      },
      "source": [
        "product_embedding.shape"
      ],
      "execution_count": 11,
      "outputs": [
        {
          "output_type": "execute_result",
          "data": {
            "text/plain": [
              "(18, 300)"
            ]
          },
          "metadata": {},
          "execution_count": 11
        }
      ]
    },
    {
      "cell_type": "code",
      "metadata": {
        "id": "BvYIF4wg2e9x"
      },
      "source": [
        "np.savetxt(\"product_embedd.tsv\", product_embedding, delimiter=\"\\t\")\n"
      ],
      "execution_count": 12,
      "outputs": []
    },
    {
      "cell_type": "code",
      "metadata": {
        "id": "qGanAKAz3vpj"
      },
      "source": [
        "pd.DataFrame({'product':prod}).to_csv('prod_embedd_metadata.tsv', sep = '\\t',index=False,header=False)"
      ],
      "execution_count": 13,
      "outputs": []
    },
    {
      "cell_type": "code",
      "metadata": {
        "id": "piBX3coa37i-",
        "colab": {
          "base_uri": "https://localhost:8080/",
          "height": 17
        },
        "outputId": "9f664d2d-4eed-4e57-b458-0c3cffaee754"
      },
      "source": [
        "from google.colab import files\n",
        "files.download('/content/prod_embedd_metadata.tsv') \n",
        "files.download('/content/product_embedd.tsv') "
      ],
      "execution_count": 14,
      "outputs": [
        {
          "output_type": "display_data",
          "data": {
            "application/javascript": [
              "\n",
              "    async function download(id, filename, size) {\n",
              "      if (!google.colab.kernel.accessAllowed) {\n",
              "        return;\n",
              "      }\n",
              "      const div = document.createElement('div');\n",
              "      const label = document.createElement('label');\n",
              "      label.textContent = `Downloading \"${filename}\": `;\n",
              "      div.appendChild(label);\n",
              "      const progress = document.createElement('progress');\n",
              "      progress.max = size;\n",
              "      div.appendChild(progress);\n",
              "      document.body.appendChild(div);\n",
              "\n",
              "      const buffers = [];\n",
              "      let downloaded = 0;\n",
              "\n",
              "      const channel = await google.colab.kernel.comms.open(id);\n",
              "      // Send a message to notify the kernel that we're ready.\n",
              "      channel.send({})\n",
              "\n",
              "      for await (const message of channel.messages) {\n",
              "        // Send a message to notify the kernel that we're ready.\n",
              "        channel.send({})\n",
              "        if (message.buffers) {\n",
              "          for (const buffer of message.buffers) {\n",
              "            buffers.push(buffer);\n",
              "            downloaded += buffer.byteLength;\n",
              "            progress.value = downloaded;\n",
              "          }\n",
              "        }\n",
              "      }\n",
              "      const blob = new Blob(buffers, {type: 'application/binary'});\n",
              "      const a = document.createElement('a');\n",
              "      a.href = window.URL.createObjectURL(blob);\n",
              "      a.download = filename;\n",
              "      div.appendChild(a);\n",
              "      a.click();\n",
              "      div.remove();\n",
              "    }\n",
              "  "
            ],
            "text/plain": [
              "<IPython.core.display.Javascript object>"
            ]
          },
          "metadata": {}
        },
        {
          "output_type": "display_data",
          "data": {
            "application/javascript": [
              "download(\"download_67472aa9-eb21-42fe-9810-de232bc01d59\", \"prod_embedd_metadata.tsv\", 186)"
            ],
            "text/plain": [
              "<IPython.core.display.Javascript object>"
            ]
          },
          "metadata": {}
        },
        {
          "output_type": "display_data",
          "data": {
            "application/javascript": [
              "\n",
              "    async function download(id, filename, size) {\n",
              "      if (!google.colab.kernel.accessAllowed) {\n",
              "        return;\n",
              "      }\n",
              "      const div = document.createElement('div');\n",
              "      const label = document.createElement('label');\n",
              "      label.textContent = `Downloading \"${filename}\": `;\n",
              "      div.appendChild(label);\n",
              "      const progress = document.createElement('progress');\n",
              "      progress.max = size;\n",
              "      div.appendChild(progress);\n",
              "      document.body.appendChild(div);\n",
              "\n",
              "      const buffers = [];\n",
              "      let downloaded = 0;\n",
              "\n",
              "      const channel = await google.colab.kernel.comms.open(id);\n",
              "      // Send a message to notify the kernel that we're ready.\n",
              "      channel.send({})\n",
              "\n",
              "      for await (const message of channel.messages) {\n",
              "        // Send a message to notify the kernel that we're ready.\n",
              "        channel.send({})\n",
              "        if (message.buffers) {\n",
              "          for (const buffer of message.buffers) {\n",
              "            buffers.push(buffer);\n",
              "            downloaded += buffer.byteLength;\n",
              "            progress.value = downloaded;\n",
              "          }\n",
              "        }\n",
              "      }\n",
              "      const blob = new Blob(buffers, {type: 'application/binary'});\n",
              "      const a = document.createElement('a');\n",
              "      a.href = window.URL.createObjectURL(blob);\n",
              "      a.download = filename;\n",
              "      div.appendChild(a);\n",
              "      a.click();\n",
              "      div.remove();\n",
              "    }\n",
              "  "
            ],
            "text/plain": [
              "<IPython.core.display.Javascript object>"
            ]
          },
          "metadata": {}
        },
        {
          "output_type": "display_data",
          "data": {
            "application/javascript": [
              "download(\"download_dc76a02f-b29b-42e3-8328-de541c66133d\", \"product_embedd.tsv\", 137597)"
            ],
            "text/plain": [
              "<IPython.core.display.Javascript object>"
            ]
          },
          "metadata": {}
        }
      ]
    },
    {
      "cell_type": "code",
      "metadata": {
        "id": "Nh3rJv6N4mAl"
      },
      "source": [
        ""
      ],
      "execution_count": null,
      "outputs": []
    }
  ]
}