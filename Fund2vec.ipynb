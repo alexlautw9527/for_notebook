{
  "nbformat": 4,
  "nbformat_minor": 0,
  "metadata": {
    "colab": {
      "name": "Fund2vec.ipynb",
      "provenance": [],
      "machine_shape": "hm",
      "mount_file_id": "https://github.com/alexlautw9527/for_notebook/blob/main/Fund2vec.ipynb",
      "authorship_tag": "ABX9TyOv+ow9ch11FqmOM78wTEzf",
      "include_colab_link": true
    },
    "kernelspec": {
      "name": "python3",
      "display_name": "Python 3"
    },
    "language_info": {
      "name": "python"
    },
    "accelerator": "GPU",
    "widgets": {
      "application/vnd.jupyter.widget-state+json": {
        "da044f0d5aec41f0b3ced9502b7cb0e0": {
          "model_module": "@jupyter-widgets/controls",
          "model_name": "HBoxModel",
          "model_module_version": "1.5.0",
          "state": {
            "_view_name": "HBoxView",
            "_dom_classes": [],
            "_model_name": "HBoxModel",
            "_view_module": "@jupyter-widgets/controls",
            "_model_module_version": "1.5.0",
            "_view_count": null,
            "_view_module_version": "1.5.0",
            "box_style": "",
            "layout": "IPY_MODEL_ac8afe8b9a39404d8c9c605c6fc56ab7",
            "_model_module": "@jupyter-widgets/controls",
            "children": [
              "IPY_MODEL_9549cc5166ca4f5698e4bcda75d4f63d",
              "IPY_MODEL_dfef26cdfdb8403b80546e1a75b576dc",
              "IPY_MODEL_e2233f4616eb44838c252c85f83e29e5"
            ]
          }
        },
        "ac8afe8b9a39404d8c9c605c6fc56ab7": {
          "model_module": "@jupyter-widgets/base",
          "model_name": "LayoutModel",
          "model_module_version": "1.2.0",
          "state": {
            "_view_name": "LayoutView",
            "grid_template_rows": null,
            "right": null,
            "justify_content": null,
            "_view_module": "@jupyter-widgets/base",
            "overflow": null,
            "_model_module_version": "1.2.0",
            "_view_count": null,
            "flex_flow": null,
            "width": null,
            "min_width": null,
            "border": null,
            "align_items": null,
            "bottom": null,
            "_model_module": "@jupyter-widgets/base",
            "top": null,
            "grid_column": null,
            "overflow_y": null,
            "overflow_x": null,
            "grid_auto_flow": null,
            "grid_area": null,
            "grid_template_columns": null,
            "flex": null,
            "_model_name": "LayoutModel",
            "justify_items": null,
            "grid_row": null,
            "max_height": null,
            "align_content": null,
            "visibility": null,
            "align_self": null,
            "height": null,
            "min_height": null,
            "padding": null,
            "grid_auto_rows": null,
            "grid_gap": null,
            "max_width": null,
            "order": null,
            "_view_module_version": "1.2.0",
            "grid_template_areas": null,
            "object_position": null,
            "object_fit": null,
            "grid_auto_columns": null,
            "margin": null,
            "display": null,
            "left": null
          }
        },
        "9549cc5166ca4f5698e4bcda75d4f63d": {
          "model_module": "@jupyter-widgets/controls",
          "model_name": "HTMLModel",
          "model_module_version": "1.5.0",
          "state": {
            "_view_name": "HTMLView",
            "style": "IPY_MODEL_1402477b5bdf4cc99ec1ea3a4853f1ed",
            "_dom_classes": [],
            "description": "",
            "_model_name": "HTMLModel",
            "placeholder": "​",
            "_view_module": "@jupyter-widgets/controls",
            "_model_module_version": "1.5.0",
            "value": "Computing transition probabilities: 100%",
            "_view_count": null,
            "_view_module_version": "1.5.0",
            "description_tooltip": null,
            "_model_module": "@jupyter-widgets/controls",
            "layout": "IPY_MODEL_76fecea618ed4ae6a8b0d28960ea15f0"
          }
        },
        "dfef26cdfdb8403b80546e1a75b576dc": {
          "model_module": "@jupyter-widgets/controls",
          "model_name": "FloatProgressModel",
          "model_module_version": "1.5.0",
          "state": {
            "_view_name": "ProgressView",
            "style": "IPY_MODEL_374078a8dba743119c687c4fba58af9b",
            "_dom_classes": [],
            "description": "",
            "_model_name": "FloatProgressModel",
            "bar_style": "success",
            "max": 2581,
            "_view_module": "@jupyter-widgets/controls",
            "_model_module_version": "1.5.0",
            "value": 2581,
            "_view_count": null,
            "_view_module_version": "1.5.0",
            "orientation": "horizontal",
            "min": 0,
            "description_tooltip": null,
            "_model_module": "@jupyter-widgets/controls",
            "layout": "IPY_MODEL_bb9d41c8b7474d6ea84702adeba061f2"
          }
        },
        "e2233f4616eb44838c252c85f83e29e5": {
          "model_module": "@jupyter-widgets/controls",
          "model_name": "HTMLModel",
          "model_module_version": "1.5.0",
          "state": {
            "_view_name": "HTMLView",
            "style": "IPY_MODEL_18fd67236ef44ff0a404462b85cc66f0",
            "_dom_classes": [],
            "description": "",
            "_model_name": "HTMLModel",
            "placeholder": "​",
            "_view_module": "@jupyter-widgets/controls",
            "_model_module_version": "1.5.0",
            "value": " 2581/2581 [00:36&lt;00:00, 66.52it/s]",
            "_view_count": null,
            "_view_module_version": "1.5.0",
            "description_tooltip": null,
            "_model_module": "@jupyter-widgets/controls",
            "layout": "IPY_MODEL_ab08b5a2dbf449ee87f0febe18038b20"
          }
        },
        "1402477b5bdf4cc99ec1ea3a4853f1ed": {
          "model_module": "@jupyter-widgets/controls",
          "model_name": "DescriptionStyleModel",
          "model_module_version": "1.5.0",
          "state": {
            "_view_name": "StyleView",
            "_model_name": "DescriptionStyleModel",
            "description_width": "",
            "_view_module": "@jupyter-widgets/base",
            "_model_module_version": "1.5.0",
            "_view_count": null,
            "_view_module_version": "1.2.0",
            "_model_module": "@jupyter-widgets/controls"
          }
        },
        "76fecea618ed4ae6a8b0d28960ea15f0": {
          "model_module": "@jupyter-widgets/base",
          "model_name": "LayoutModel",
          "model_module_version": "1.2.0",
          "state": {
            "_view_name": "LayoutView",
            "grid_template_rows": null,
            "right": null,
            "justify_content": null,
            "_view_module": "@jupyter-widgets/base",
            "overflow": null,
            "_model_module_version": "1.2.0",
            "_view_count": null,
            "flex_flow": null,
            "width": null,
            "min_width": null,
            "border": null,
            "align_items": null,
            "bottom": null,
            "_model_module": "@jupyter-widgets/base",
            "top": null,
            "grid_column": null,
            "overflow_y": null,
            "overflow_x": null,
            "grid_auto_flow": null,
            "grid_area": null,
            "grid_template_columns": null,
            "flex": null,
            "_model_name": "LayoutModel",
            "justify_items": null,
            "grid_row": null,
            "max_height": null,
            "align_content": null,
            "visibility": null,
            "align_self": null,
            "height": null,
            "min_height": null,
            "padding": null,
            "grid_auto_rows": null,
            "grid_gap": null,
            "max_width": null,
            "order": null,
            "_view_module_version": "1.2.0",
            "grid_template_areas": null,
            "object_position": null,
            "object_fit": null,
            "grid_auto_columns": null,
            "margin": null,
            "display": null,
            "left": null
          }
        },
        "374078a8dba743119c687c4fba58af9b": {
          "model_module": "@jupyter-widgets/controls",
          "model_name": "ProgressStyleModel",
          "model_module_version": "1.5.0",
          "state": {
            "_view_name": "StyleView",
            "_model_name": "ProgressStyleModel",
            "description_width": "",
            "_view_module": "@jupyter-widgets/base",
            "_model_module_version": "1.5.0",
            "_view_count": null,
            "_view_module_version": "1.2.0",
            "bar_color": null,
            "_model_module": "@jupyter-widgets/controls"
          }
        },
        "bb9d41c8b7474d6ea84702adeba061f2": {
          "model_module": "@jupyter-widgets/base",
          "model_name": "LayoutModel",
          "model_module_version": "1.2.0",
          "state": {
            "_view_name": "LayoutView",
            "grid_template_rows": null,
            "right": null,
            "justify_content": null,
            "_view_module": "@jupyter-widgets/base",
            "overflow": null,
            "_model_module_version": "1.2.0",
            "_view_count": null,
            "flex_flow": null,
            "width": null,
            "min_width": null,
            "border": null,
            "align_items": null,
            "bottom": null,
            "_model_module": "@jupyter-widgets/base",
            "top": null,
            "grid_column": null,
            "overflow_y": null,
            "overflow_x": null,
            "grid_auto_flow": null,
            "grid_area": null,
            "grid_template_columns": null,
            "flex": null,
            "_model_name": "LayoutModel",
            "justify_items": null,
            "grid_row": null,
            "max_height": null,
            "align_content": null,
            "visibility": null,
            "align_self": null,
            "height": null,
            "min_height": null,
            "padding": null,
            "grid_auto_rows": null,
            "grid_gap": null,
            "max_width": null,
            "order": null,
            "_view_module_version": "1.2.0",
            "grid_template_areas": null,
            "object_position": null,
            "object_fit": null,
            "grid_auto_columns": null,
            "margin": null,
            "display": null,
            "left": null
          }
        },
        "18fd67236ef44ff0a404462b85cc66f0": {
          "model_module": "@jupyter-widgets/controls",
          "model_name": "DescriptionStyleModel",
          "model_module_version": "1.5.0",
          "state": {
            "_view_name": "StyleView",
            "_model_name": "DescriptionStyleModel",
            "description_width": "",
            "_view_module": "@jupyter-widgets/base",
            "_model_module_version": "1.5.0",
            "_view_count": null,
            "_view_module_version": "1.2.0",
            "_model_module": "@jupyter-widgets/controls"
          }
        },
        "ab08b5a2dbf449ee87f0febe18038b20": {
          "model_module": "@jupyter-widgets/base",
          "model_name": "LayoutModel",
          "model_module_version": "1.2.0",
          "state": {
            "_view_name": "LayoutView",
            "grid_template_rows": null,
            "right": null,
            "justify_content": null,
            "_view_module": "@jupyter-widgets/base",
            "overflow": null,
            "_model_module_version": "1.2.0",
            "_view_count": null,
            "flex_flow": null,
            "width": null,
            "min_width": null,
            "border": null,
            "align_items": null,
            "bottom": null,
            "_model_module": "@jupyter-widgets/base",
            "top": null,
            "grid_column": null,
            "overflow_y": null,
            "overflow_x": null,
            "grid_auto_flow": null,
            "grid_area": null,
            "grid_template_columns": null,
            "flex": null,
            "_model_name": "LayoutModel",
            "justify_items": null,
            "grid_row": null,
            "max_height": null,
            "align_content": null,
            "visibility": null,
            "align_self": null,
            "height": null,
            "min_height": null,
            "padding": null,
            "grid_auto_rows": null,
            "grid_gap": null,
            "max_width": null,
            "order": null,
            "_view_module_version": "1.2.0",
            "grid_template_areas": null,
            "object_position": null,
            "object_fit": null,
            "grid_auto_columns": null,
            "margin": null,
            "display": null,
            "left": null
          }
        }
      }
    }
  },
  "cells": [
    {
      "cell_type": "markdown",
      "metadata": {
        "id": "view-in-github",
        "colab_type": "text"
      },
      "source": [
        "<a href=\"https://colab.research.google.com/github/alexlautw9527/for_notebook/blob/main/Fund2vec.ipynb\" target=\"_parent\"><img src=\"https://colab.research.google.com/assets/colab-badge.svg\" alt=\"Open In Colab\"/></a>"
      ]
    },
    {
      "cell_type": "code",
      "metadata": {
        "id": "xJ8c8zkFcvL5"
      },
      "source": [
        "%%capture\n",
        "!pip install node2vec\n",
        "!pip install glove-python-binary"
      ],
      "execution_count": null,
      "outputs": []
    },
    {
      "cell_type": "code",
      "metadata": {
        "id": "PdpZibZo8Dlo"
      },
      "source": [
        "import argparse\n",
        "import pprint\n",
        "\n",
        "import pandas as pd \n",
        "import numpy as np\n",
        "\n",
        "\n",
        "import networkx as nx\n",
        "from node2vec import Node2Vec\n",
        "import gensim\n",
        "from gensim.models.word2vec import Word2Vec\n",
        "\n",
        "from glove import Glove\n",
        "from glove import Corpus"
      ],
      "execution_count": 55,
      "outputs": []
    },
    {
      "cell_type": "code",
      "metadata": {
        "id": "OCUBh-UXvJVH"
      },
      "source": [
        "fund_code_df = pd.read_csv('/content/drive/MyDrive/05_OTHER_DATA/FUND_CODE_DATA.csv', encoding='CP950')\n",
        "fund_code_df = fund_code_df[['產品代碼', '基金名稱', 'ISIN Code']]"
      ],
      "execution_count": 2,
      "outputs": []
    },
    {
      "cell_type": "code",
      "metadata": {
        "id": "sYYdoye8oeEi"
      },
      "source": [
        "fund_df = pd.read_csv('/content/drive/MyDrive/05_OTHER_DATA/fund_desc.csv', encoding='CP950')\n",
        "fund_df = fund_df[fund_df['RISK_LEVEL_ALL']!=0][['CNAME','FUNDCRYID', 'RISK_LEVEL_ALL','配息', '股債分類','基金類型']]\n",
        "fund_df['基金類型'] = fund_df['基金類型'].fillna('NA')"
      ],
      "execution_count": 42,
      "outputs": []
    },
    {
      "cell_type": "code",
      "metadata": {
        "id": "jcg-1a-VErSQ"
      },
      "source": [
        "fund_df = fund_df.astype(str)"
      ],
      "execution_count": 43,
      "outputs": []
    },
    {
      "cell_type": "markdown",
      "metadata": {
        "id": "c-fFk7JGc0t_"
      },
      "source": [
        "## Node2vec"
      ]
    },
    {
      "cell_type": "code",
      "metadata": {
        "id": "R4DG9wMbEqc3"
      },
      "source": [
        "## 製作graph\n",
        "\n",
        "fund_edge = pd.get_dummies(fund_df, columns=['FUNDCRYID', 'RISK_LEVEL_ALL','配息','股債分類','基金類型'], prefix='', prefix_sep='')\n",
        "fund_edge = fund_edge.set_index('CNAME').stack()\n",
        "fund_edge = fund_edge[fund_edge==1]"
      ],
      "execution_count": 82,
      "outputs": []
    },
    {
      "cell_type": "code",
      "metadata": {
        "id": "RDVBPlCDGsFt"
      },
      "source": [
        "## 生成節點\n",
        "fund_edge = fund_edge.index.tolist()"
      ],
      "execution_count": 84,
      "outputs": []
    },
    {
      "cell_type": "code",
      "metadata": {
        "id": "KuJ-vjWiGyVm"
      },
      "source": [
        "G = nx.Graph(fund_edge)"
      ],
      "execution_count": 85,
      "outputs": []
    },
    {
      "cell_type": "code",
      "metadata": {
        "id": "n9E9kJAcdGU_",
        "outputId": "3ee50775-48aa-4fc1-fbda-b6719b0c6ed1",
        "colab": {
          "base_uri": "https://localhost:8080/",
          "height": 49,
          "referenced_widgets": [
            "da044f0d5aec41f0b3ced9502b7cb0e0",
            "ac8afe8b9a39404d8c9c605c6fc56ab7",
            "9549cc5166ca4f5698e4bcda75d4f63d",
            "dfef26cdfdb8403b80546e1a75b576dc",
            "e2233f4616eb44838c252c85f83e29e5",
            "1402477b5bdf4cc99ec1ea3a4853f1ed",
            "76fecea618ed4ae6a8b0d28960ea15f0",
            "374078a8dba743119c687c4fba58af9b",
            "bb9d41c8b7474d6ea84702adeba061f2",
            "18fd67236ef44ff0a404462b85cc66f0",
            "ab08b5a2dbf449ee87f0febe18038b20"
          ]
        }
      },
      "source": [
        "\n",
        "'''\n",
        ":param graph: Input graph\n",
        ":param dimensions: Embedding dimensions (default: 128)\n",
        ":param walk_length: Number of nodes in each walk (default: 80)\n",
        ":param num_walks: Number of walks per node (default: 10)\n",
        ":param p: Return hyper parameter (default: 1)\n",
        ":param q: Inout parameter (default: 1)\n",
        ":param weight_key: On weighted graphs, this is the key for the weight attribute (default: 'weight')\n",
        ":param workers: Number of workers for parallel execution (default: 1)\n",
        ":param sampling_strategy: Node specific sampling strategies, supports setting node specific 'q', 'p', 'num_walks' and 'walk_length'.\n",
        ":param seed: Seed for the random number generator.\n",
        "'''\n",
        "\n",
        "# Precompute probabilities and generate walks - **ON WINDOWS ONLY WORKS WITH workers=1**\n",
        "\n",
        "node2vec = Node2Vec(G, dimensions=64, walk_length=20, num_walks=10, workers=8)  # Use temp_folder for big graphs"
      ],
      "execution_count": 86,
      "outputs": [
        {
          "output_type": "display_data",
          "data": {
            "application/vnd.jupyter.widget-view+json": {
              "model_id": "da044f0d5aec41f0b3ced9502b7cb0e0",
              "version_minor": 0,
              "version_major": 2
            },
            "text/plain": [
              "Computing transition probabilities:   0%|          | 0/2581 [00:00<?, ?it/s]"
            ]
          },
          "metadata": {}
        }
      ]
    },
    {
      "cell_type": "code",
      "metadata": {
        "id": "2xn5Fvzbg92t",
        "outputId": "a689a29d-a392-4512-d037-6aa17c5e0d91",
        "colab": {
          "base_uri": "https://localhost:8080/"
        }
      },
      "source": [
        "node2vec.walks[0]"
      ],
      "execution_count": 89,
      "outputs": [
        {
          "output_type": "execute_result",
          "data": {
            "text/plain": [
              "['宏利中國離岸債券基金Ｂ（新臺幣）（季配息）',\n",
              " '2',\n",
              " 'ＰＩＭＣＯ全球投資級別債券基金Ｅ（美元）（季配權）',\n",
              " '投資等級公司債',\n",
              " 'ＰＩＭＣＯ全球投資級別債券基金Ｅ（美元）（季配息）',\n",
              " '投資等級公司債',\n",
              " 'ＮＮ（Ｌ）投資級公司債基金Ｙ（南非幣對沖）（月配息）（本基金進行配息前未先扣除應負擔之相關費用）（基金之配息來源可能為本金）',\n",
              " '01_配息',\n",
              " '木星金融機會基金（美元）（半年配權）',\n",
              " 'USD',\n",
              " '台新美國增益高收益債券基金（美元）（月配息）（本基金主要係投資於非投資等級之高風險債券且配息來源可能為本金）',\n",
              " '4',\n",
              " '瀚亞亞太不動產證券化基金Ａ（新臺幣）',\n",
              " '4',\n",
              " '霸菱亞洲增長',\n",
              " '亞太股市',\n",
              " '瀚亞亞太豐收平衡基金Ａ（美元）（本基金有相當比重投資於非投資等級之高風險債券且配息來源可能為本金）',\n",
              " '3',\n",
              " '鋒裕匯理策略收益債券Ａ（歐元）（本基金進行配息前未先扣除應負擔之相關費用）（本基金有相當比重投資於非投資等級之高風險債券且配息來源可能為本金）',\n",
              " '全球債']"
            ]
          },
          "metadata": {},
          "execution_count": 89
        }
      ]
    },
    {
      "cell_type": "markdown",
      "metadata": {
        "id": "oIB22uemiCDt"
      },
      "source": [
        "### 語料庫訓練"
      ]
    },
    {
      "cell_type": "code",
      "metadata": {
        "id": "hZADV8ueiYpZ"
      },
      "source": [
        "node_corpus = node2vec.walks"
      ],
      "execution_count": 90,
      "outputs": []
    },
    {
      "cell_type": "code",
      "metadata": {
        "id": "dDuoTtGGiN7t"
      },
      "source": [
        "n2v_model = Word2Vec(node_corpus, size=64, iter=20, window=5, sg=1, negative=20, min_count=1, workers=16)"
      ],
      "execution_count": 91,
      "outputs": []
    },
    {
      "cell_type": "code",
      "metadata": {
        "id": "J9APQthrl3Ez"
      },
      "source": [
        "fund_df = fund_df[fund_df['RISK_LEVEL_ALL']!=0][['CNAME','FUNDCRYID', 'RISK_LEVEL_ALL','配息', '股債分類','基金類型']]\n"
      ],
      "execution_count": 92,
      "outputs": []
    },
    {
      "cell_type": "code",
      "metadata": {
        "id": "GrRYvxHWqHtr"
      },
      "source": [
        "np.savetxt(\"n2v_fund_emb.tsv\", n2v_model.wv[fund_df['CNAME']], delimiter=\"\\t\")"
      ],
      "execution_count": 94,
      "outputs": []
    },
    {
      "cell_type": "code",
      "metadata": {
        "id": "IfIX_24ilJQI"
      },
      "source": [
        "fund_df[['CNAME','FUNDCRYID', 'RISK_LEVEL_ALL','配息', '股債分類','基金類型']].to_csv('n2v_fund_emb_meta.tsv', sep = '\\t',index=False,header=False)"
      ],
      "execution_count": 95,
      "outputs": []
    },
    {
      "cell_type": "code",
      "metadata": {
        "id": "2Ve3sVDBqaMI"
      },
      "source": [
        "np.savetxt(\"n2v_mkt_emb.tsv\", n2v_model.wv[fund_df['基金類型'].unique()], delimiter=\"\\t\")"
      ],
      "execution_count": 96,
      "outputs": []
    },
    {
      "cell_type": "code",
      "metadata": {
        "id": "GvsolKL-vabl"
      },
      "source": [
        "pd.DataFrame({'mkt':fund_df['基金類型'].unique()}).to_csv('n2v_mkt_emb_meta.tsv', sep = '\\t',index=False,header=False)"
      ],
      "execution_count": 97,
      "outputs": []
    },
    {
      "cell_type": "markdown",
      "metadata": {
        "id": "9101fRpkc-zJ"
      },
      "source": [
        "## GLOVE"
      ]
    },
    {
      "cell_type": "code",
      "metadata": {
        "id": "FQIsA9TLUqeP",
        "colab": {
          "base_uri": "https://localhost:8080/",
          "height": 369
        },
        "outputId": "4bd32d9e-332b-4a54-e18b-a8fa6285453a"
      },
      "source": [
        "\n",
        "#准备数据集\n",
        "sentense = [['你','是','谁'],['我','是','台灣人']]\n",
        "corpus_model = Corpus()\n",
        "corpus_model.fit(sentense, window=10)\n",
        "\n",
        "\n",
        "#corpus_model.save('corpus.model')\n",
        "print('Dict size: %s' % len(corpus_model.dictionary))\n",
        "print('Collocations: %s' % corpus_model.matrix.nnz)\n",
        "\n",
        "#训练\n",
        "glove = Glove(no_components=100, learning_rate=0.05)\n",
        "glove.fit(corpus_model.matrix, epochs=10,\n",
        "          no_threads=1, verbose=True)\n",
        "glove.add_dictionary(corpus_model.dictionary)\n",
        "\n",
        "#模型保存\n",
        "glove.save('glove.model')\n",
        "glove = Glove.load('glove.model')\n",
        "#语料保存\n",
        "corpus_model.save('corpus.model')\n",
        "corpus_model = Corpus.load('corpus.model')\n",
        "\n",
        "#求相似词\n",
        "glove.most_similar('我', number=10)"
      ],
      "execution_count": 47,
      "outputs": [
        {
          "output_type": "error",
          "ename": "ModuleNotFoundError",
          "evalue": "ignored",
          "traceback": [
            "\u001b[0;31m---------------------------------------------------------------------------\u001b[0m",
            "\u001b[0;31mModuleNotFoundError\u001b[0m                       Traceback (most recent call last)",
            "\u001b[0;32m<ipython-input-47-5c3341e65559>\u001b[0m in \u001b[0;36m<module>\u001b[0;34m()\u001b[0m\n\u001b[1;32m      2\u001b[0m \u001b[0;32mimport\u001b[0m \u001b[0mpprint\u001b[0m\u001b[0;34m\u001b[0m\u001b[0;34m\u001b[0m\u001b[0m\n\u001b[1;32m      3\u001b[0m \u001b[0;32mimport\u001b[0m \u001b[0mgensim\u001b[0m\u001b[0;34m\u001b[0m\u001b[0;34m\u001b[0m\u001b[0m\n\u001b[0;32m----> 4\u001b[0;31m \u001b[0;32mfrom\u001b[0m \u001b[0mglove\u001b[0m \u001b[0;32mimport\u001b[0m \u001b[0mGlove\u001b[0m\u001b[0;34m\u001b[0m\u001b[0;34m\u001b[0m\u001b[0m\n\u001b[0m\u001b[1;32m      5\u001b[0m \u001b[0;32mfrom\u001b[0m \u001b[0mglove\u001b[0m \u001b[0;32mimport\u001b[0m \u001b[0mCorpus\u001b[0m\u001b[0;34m\u001b[0m\u001b[0;34m\u001b[0m\u001b[0m\n\u001b[1;32m      6\u001b[0m \u001b[0;31m#准备数据集\u001b[0m\u001b[0;34m\u001b[0m\u001b[0;34m\u001b[0m\u001b[0;34m\u001b[0m\u001b[0m\n",
            "\u001b[0;31mModuleNotFoundError\u001b[0m: No module named 'glove'",
            "",
            "\u001b[0;31m---------------------------------------------------------------------------\u001b[0;32m\nNOTE: If your import is failing due to a missing package, you can\nmanually install dependencies using either !pip or !apt.\n\nTo view examples of installing some common dependencies, click the\n\"Open Examples\" button below.\n\u001b[0;31m---------------------------------------------------------------------------\u001b[0m\n"
          ],
          "errorDetails": {
            "actions": [
              {
                "action": "open_url",
                "actionText": "Open Examples",
                "url": "/notebooks/snippets/importing_libraries.ipynb"
              }
            ]
          }
        }
      ]
    },
    {
      "cell_type": "code",
      "metadata": {
        "id": "Uas-aHBa8cqn"
      },
      "source": [
        "def most_similar(w2v_model, words, topn=20):\n",
        "    similar_df = pd.DataFrame()\n",
        "    for word in words:\n",
        "        try:\n",
        "            similar_words = pd.DataFrame(w2v_model.wv.most_similar(word, topn=topn), columns=[word, 'cos'])\n",
        "            similar_df = pd.concat([similar_df, similar_words], axis=1)\n",
        "        except:\n",
        "            print(word, \"not found in Word2Vec model!\")\n",
        "    return similar_df"
      ],
      "execution_count": null,
      "outputs": []
    },
    {
      "cell_type": "code",
      "metadata": {
        "id": "1TbGJ6lUJ-Jj",
        "colab": {
          "base_uri": "https://localhost:8080/",
          "height": 17
        },
        "outputId": "e7b07eec-a8f2-4fed-a5f2-e7a46afa778a"
      },
      "source": [
        "from google.colab import files\n",
        "files.download('/content/fund_embedd_metadata.tsv') \n",
        "files.download('/content/fund_embedd.tsv') "
      ],
      "execution_count": null,
      "outputs": [
        {
          "output_type": "display_data",
          "data": {
            "application/javascript": [
              "\n",
              "    async function download(id, filename, size) {\n",
              "      if (!google.colab.kernel.accessAllowed) {\n",
              "        return;\n",
              "      }\n",
              "      const div = document.createElement('div');\n",
              "      const label = document.createElement('label');\n",
              "      label.textContent = `Downloading \"${filename}\": `;\n",
              "      div.appendChild(label);\n",
              "      const progress = document.createElement('progress');\n",
              "      progress.max = size;\n",
              "      div.appendChild(progress);\n",
              "      document.body.appendChild(div);\n",
              "\n",
              "      const buffers = [];\n",
              "      let downloaded = 0;\n",
              "\n",
              "      const channel = await google.colab.kernel.comms.open(id);\n",
              "      // Send a message to notify the kernel that we're ready.\n",
              "      channel.send({})\n",
              "\n",
              "      for await (const message of channel.messages) {\n",
              "        // Send a message to notify the kernel that we're ready.\n",
              "        channel.send({})\n",
              "        if (message.buffers) {\n",
              "          for (const buffer of message.buffers) {\n",
              "            buffers.push(buffer);\n",
              "            downloaded += buffer.byteLength;\n",
              "            progress.value = downloaded;\n",
              "          }\n",
              "        }\n",
              "      }\n",
              "      const blob = new Blob(buffers, {type: 'application/binary'});\n",
              "      const a = document.createElement('a');\n",
              "      a.href = window.URL.createObjectURL(blob);\n",
              "      a.download = filename;\n",
              "      div.appendChild(a);\n",
              "      a.click();\n",
              "      div.remove();\n",
              "    }\n",
              "  "
            ],
            "text/plain": [
              "<IPython.core.display.Javascript object>"
            ]
          },
          "metadata": {}
        },
        {
          "output_type": "display_data",
          "data": {
            "application/javascript": [
              "download(\"download_6a528708-b607-4b24-a475-fdffede9ce8d\", \"fund_embedd_metadata.tsv\", 375368)"
            ],
            "text/plain": [
              "<IPython.core.display.Javascript object>"
            ]
          },
          "metadata": {}
        },
        {
          "output_type": "display_data",
          "data": {
            "application/javascript": [
              "\n",
              "    async function download(id, filename, size) {\n",
              "      if (!google.colab.kernel.accessAllowed) {\n",
              "        return;\n",
              "      }\n",
              "      const div = document.createElement('div');\n",
              "      const label = document.createElement('label');\n",
              "      label.textContent = `Downloading \"${filename}\": `;\n",
              "      div.appendChild(label);\n",
              "      const progress = document.createElement('progress');\n",
              "      progress.max = size;\n",
              "      div.appendChild(progress);\n",
              "      document.body.appendChild(div);\n",
              "\n",
              "      const buffers = [];\n",
              "      let downloaded = 0;\n",
              "\n",
              "      const channel = await google.colab.kernel.comms.open(id);\n",
              "      // Send a message to notify the kernel that we're ready.\n",
              "      channel.send({})\n",
              "\n",
              "      for await (const message of channel.messages) {\n",
              "        // Send a message to notify the kernel that we're ready.\n",
              "        channel.send({})\n",
              "        if (message.buffers) {\n",
              "          for (const buffer of message.buffers) {\n",
              "            buffers.push(buffer);\n",
              "            downloaded += buffer.byteLength;\n",
              "            progress.value = downloaded;\n",
              "          }\n",
              "        }\n",
              "      }\n",
              "      const blob = new Blob(buffers, {type: 'application/binary'});\n",
              "      const a = document.createElement('a');\n",
              "      a.href = window.URL.createObjectURL(blob);\n",
              "      a.download = filename;\n",
              "      div.appendChild(a);\n",
              "      a.click();\n",
              "      div.remove();\n",
              "    }\n",
              "  "
            ],
            "text/plain": [
              "<IPython.core.display.Javascript object>"
            ]
          },
          "metadata": {}
        },
        {
          "output_type": "display_data",
          "data": {
            "application/javascript": [
              "download(\"download_f7f7c8f3-9fc7-43e6-966f-5ab4cfd6a9cb\", \"fund_embedd.tsv\", 3379587)"
            ],
            "text/plain": [
              "<IPython.core.display.Javascript object>"
            ]
          },
          "metadata": {}
        }
      ]
    },
    {
      "cell_type": "markdown",
      "metadata": {
        "id": "gwfhCsCQlBHF"
      },
      "source": [
        "## Pretrained W2V combining"
      ]
    },
    {
      "cell_type": "code",
      "metadata": {
        "colab": {
          "base_uri": "https://localhost:8080/"
        },
        "id": "voOU92_yoMlg",
        "outputId": "0d3af023-3ba4-4eba-ea16-5e3baa900b88"
      },
      "source": [
        "! wget https://www.rahimikia.com/FinText/FinText_FastText_Skip-gram.zip"
      ],
      "execution_count": null,
      "outputs": [
        {
          "metadata": {
            "tags": null
          },
          "name": "stdout",
          "output_type": "stream",
          "text": [
            "--2021-10-26 15:11:10--  https://www.rahimikia.com/FinText/FinText_FastText_Skip-gram.zip\n",
            "Resolving www.rahimikia.com (www.rahimikia.com)... 69.163.228.90\n",
            "Connecting to www.rahimikia.com (www.rahimikia.com)|69.163.228.90|:443... connected.\n",
            "HTTP request sent, awaiting response... 200 OK\n",
            "Length: 11656495869 (11G) [application/zip]\n",
            "Saving to: ‘FinText_FastText_Skip-gram.zip’\n",
            "\n",
            "FinText_FastText_Sk 100%[===================>]  10.86G  13.1MB/s    in 8m 13s  \n",
            "\n",
            "2021-10-26 15:19:24 (22.5 MB/s) - ‘FinText_FastText_Skip-gram.zip’ saved [11656495869/11656495869]\n",
            "\n"
          ]
        }
      ]
    },
    {
      "cell_type": "code",
      "metadata": {
        "id": "zPOZ63Cq0L1R",
        "colab": {
          "base_uri": "https://localhost:8080/"
        },
        "outputId": "c09050f8-5b83-43a3-b005-ad944866b993"
      },
      "source": [
        "!unzip /content/FinText_FastText_Skip-gram.zip"
      ],
      "execution_count": null,
      "outputs": [
        {
          "metadata": {
            "tags": null
          },
          "name": "stdout",
          "output_type": "stream",
          "text": [
            "Archive:  /content/FinText_FastText_Skip-gram.zip\n",
            "   creating: FinText_FastText_Skip-gram/\n",
            "  inflating: FinText_FastText_Skip-gram/Word_Embedding_2000_2015  \n",
            "  inflating: FinText_FastText_Skip-gram/README.txt  \n",
            "  inflating: FinText_FastText_Skip-gram/Word_Embedding_2000_2015.trainables.vectors_ngrams_lockf.npy  \n",
            "  inflating: FinText_FastText_Skip-gram/Word_Embedding_2000_2015.pkl  \n",
            "  inflating: FinText_FastText_Skip-gram/Word_Embedding_2000_2015.wv.vectors_ngrams.npy  \n",
            "  inflating: FinText_FastText_Skip-gram/Word_Embedding_2000_2015.wv.vectors.npy  \n",
            "  inflating: FinText_FastText_Skip-gram/Word_Embedding_2000_2015.trainables.vectors_vocab_lockf.npy  \n",
            "  inflating: FinText_FastText_Skip-gram/Word_Embedding_2000_2015.wv.vectors_vocab.npy  \n",
            "  inflating: FinText_FastText_Skip-gram/Word_Embedding_2000_2015.trainables.syn1neg.npy  \n"
          ]
        }
      ]
    },
    {
      "cell_type": "code",
      "metadata": {
        "id": "ZHFnK0H81Nko"
      },
      "source": [
        "from gensim.models import Word2Vec\n",
        "from gensim.models import FastText\n",
        "import gensim.downloader as api "
      ],
      "execution_count": null,
      "outputs": []
    },
    {
      "cell_type": "code",
      "metadata": {
        "id": "f7LGND781-i-"
      },
      "source": [
        "FinText_Word2Vec_skipgram = Word2Vec.load('/content/FinText_FastText_Skip-gram/Word_Embedding_2000_2015')"
      ],
      "execution_count": null,
      "outputs": []
    },
    {
      "cell_type": "code",
      "metadata": {
        "id": "sE2yCV1z6_1b"
      },
      "source": [
        "\n",
        "prod=['fund',\n",
        " 'etf',\n",
        " 'stock',\n",
        " 'preferred_stock',\n",
        " 'auto_loan',\n",
        " 'trust',\n",
        " 'life_insurance',\n",
        " 'insurance',\n",
        " 'personal_loan',\n",
        " 'mortgage',\n",
        " 'loan',\n",
        " 'treasury_bond',\n",
        " 'foreign_exchange',\n",
        " 'online_banking',\n",
        " 'fintech',\n",
        " 'blockchain',\n",
        " 'bitcoin',\n",
        " 'robo_advisor'\n",
        " ]"
      ],
      "execution_count": null,
      "outputs": []
    },
    {
      "cell_type": "code",
      "metadata": {
        "id": "NuNDCbjB2GYB"
      },
      "source": [
        "product_embedding = FinText_Word2Vec_skipgram.wv[prod]"
      ],
      "execution_count": null,
      "outputs": []
    },
    {
      "cell_type": "code",
      "metadata": {
        "id": "xZBB_8j-PJ2m",
        "colab": {
          "base_uri": "https://localhost:8080/"
        },
        "outputId": "ba8ff385-0174-4e51-9615-5239536d87e9"
      },
      "source": [
        "product_embedding"
      ],
      "execution_count": null,
      "outputs": [
        {
          "output_type": "execute_result",
          "data": {
            "text/plain": [
              "array([[ 0.14604235,  0.1704098 ,  0.01929267, ..., -0.13392453,\n",
              "        -0.3286863 ,  0.01605617],\n",
              "       [ 0.40752319,  0.3141233 , -0.22489968, ..., -0.28437993,\n",
              "         0.02246348,  0.17138132],\n",
              "       [ 0.09119733,  0.13523722,  0.01482047, ..., -0.09712761,\n",
              "        -0.23065072, -0.22710954],\n",
              "       ...,\n",
              "       [-0.00303637,  0.145203  , -0.41418603, ..., -0.11681274,\n",
              "        -0.14459747, -0.02398938],\n",
              "       [-0.07647095,  0.24916057, -0.12600106, ...,  0.3001527 ,\n",
              "        -0.21294053, -0.04931631],\n",
              "       [ 0.29539302, -0.00322265,  0.12641694, ...,  0.13217312,\n",
              "        -0.4011273 , -0.07066225]], dtype=float32)"
            ]
          },
          "metadata": {},
          "execution_count": 10
        }
      ]
    },
    {
      "cell_type": "code",
      "metadata": {
        "id": "6gSQ_lEuArJc",
        "colab": {
          "base_uri": "https://localhost:8080/"
        },
        "outputId": "f082b12c-362e-445a-93bb-5b844a490455"
      },
      "source": [
        "product_embedding.shape"
      ],
      "execution_count": null,
      "outputs": [
        {
          "output_type": "execute_result",
          "data": {
            "text/plain": [
              "(18, 300)"
            ]
          },
          "metadata": {},
          "execution_count": 11
        }
      ]
    },
    {
      "cell_type": "code",
      "metadata": {
        "id": "BvYIF4wg2e9x"
      },
      "source": [
        "np.savetxt(\"product_embedd.tsv\", product_embedding, delimiter=\"\\t\")\n",
        "pd.DataFrame({'product':prod}).to_csv('prod_embedd_metadata.tsv', sep = '\\t',index=False,header=False)"
      ],
      "execution_count": null,
      "outputs": []
    },
    {
      "cell_type": "code",
      "metadata": {
        "id": "qGanAKAz3vpj"
      },
      "source": [
        "pd.DataFrame({'product':prod}).to_csv('prod_embedd_metadata.tsv', sep = '\\t',index=False,header=False)"
      ],
      "execution_count": null,
      "outputs": []
    },
    {
      "cell_type": "code",
      "metadata": {
        "id": "piBX3coa37i-",
        "colab": {
          "base_uri": "https://localhost:8080/",
          "height": 17
        },
        "outputId": "9f664d2d-4eed-4e57-b458-0c3cffaee754"
      },
      "source": [
        "from google.colab import files\n",
        "files.download('/content/prod_embedd_metadata.tsv') \n",
        "files.download('/content/product_embedd.tsv') "
      ],
      "execution_count": null,
      "outputs": [
        {
          "output_type": "display_data",
          "data": {
            "application/javascript": [
              "\n",
              "    async function download(id, filename, size) {\n",
              "      if (!google.colab.kernel.accessAllowed) {\n",
              "        return;\n",
              "      }\n",
              "      const div = document.createElement('div');\n",
              "      const label = document.createElement('label');\n",
              "      label.textContent = `Downloading \"${filename}\": `;\n",
              "      div.appendChild(label);\n",
              "      const progress = document.createElement('progress');\n",
              "      progress.max = size;\n",
              "      div.appendChild(progress);\n",
              "      document.body.appendChild(div);\n",
              "\n",
              "      const buffers = [];\n",
              "      let downloaded = 0;\n",
              "\n",
              "      const channel = await google.colab.kernel.comms.open(id);\n",
              "      // Send a message to notify the kernel that we're ready.\n",
              "      channel.send({})\n",
              "\n",
              "      for await (const message of channel.messages) {\n",
              "        // Send a message to notify the kernel that we're ready.\n",
              "        channel.send({})\n",
              "        if (message.buffers) {\n",
              "          for (const buffer of message.buffers) {\n",
              "            buffers.push(buffer);\n",
              "            downloaded += buffer.byteLength;\n",
              "            progress.value = downloaded;\n",
              "          }\n",
              "        }\n",
              "      }\n",
              "      const blob = new Blob(buffers, {type: 'application/binary'});\n",
              "      const a = document.createElement('a');\n",
              "      a.href = window.URL.createObjectURL(blob);\n",
              "      a.download = filename;\n",
              "      div.appendChild(a);\n",
              "      a.click();\n",
              "      div.remove();\n",
              "    }\n",
              "  "
            ],
            "text/plain": [
              "<IPython.core.display.Javascript object>"
            ]
          },
          "metadata": {}
        },
        {
          "output_type": "display_data",
          "data": {
            "application/javascript": [
              "download(\"download_67472aa9-eb21-42fe-9810-de232bc01d59\", \"prod_embedd_metadata.tsv\", 186)"
            ],
            "text/plain": [
              "<IPython.core.display.Javascript object>"
            ]
          },
          "metadata": {}
        },
        {
          "output_type": "display_data",
          "data": {
            "application/javascript": [
              "\n",
              "    async function download(id, filename, size) {\n",
              "      if (!google.colab.kernel.accessAllowed) {\n",
              "        return;\n",
              "      }\n",
              "      const div = document.createElement('div');\n",
              "      const label = document.createElement('label');\n",
              "      label.textContent = `Downloading \"${filename}\": `;\n",
              "      div.appendChild(label);\n",
              "      const progress = document.createElement('progress');\n",
              "      progress.max = size;\n",
              "      div.appendChild(progress);\n",
              "      document.body.appendChild(div);\n",
              "\n",
              "      const buffers = [];\n",
              "      let downloaded = 0;\n",
              "\n",
              "      const channel = await google.colab.kernel.comms.open(id);\n",
              "      // Send a message to notify the kernel that we're ready.\n",
              "      channel.send({})\n",
              "\n",
              "      for await (const message of channel.messages) {\n",
              "        // Send a message to notify the kernel that we're ready.\n",
              "        channel.send({})\n",
              "        if (message.buffers) {\n",
              "          for (const buffer of message.buffers) {\n",
              "            buffers.push(buffer);\n",
              "            downloaded += buffer.byteLength;\n",
              "            progress.value = downloaded;\n",
              "          }\n",
              "        }\n",
              "      }\n",
              "      const blob = new Blob(buffers, {type: 'application/binary'});\n",
              "      const a = document.createElement('a');\n",
              "      a.href = window.URL.createObjectURL(blob);\n",
              "      a.download = filename;\n",
              "      div.appendChild(a);\n",
              "      a.click();\n",
              "      div.remove();\n",
              "    }\n",
              "  "
            ],
            "text/plain": [
              "<IPython.core.display.Javascript object>"
            ]
          },
          "metadata": {}
        },
        {
          "output_type": "display_data",
          "data": {
            "application/javascript": [
              "download(\"download_dc76a02f-b29b-42e3-8328-de541c66133d\", \"product_embedd.tsv\", 137597)"
            ],
            "text/plain": [
              "<IPython.core.display.Javascript object>"
            ]
          },
          "metadata": {}
        }
      ]
    },
    {
      "cell_type": "code",
      "metadata": {
        "id": "Nh3rJv6N4mAl"
      },
      "source": [
        ""
      ],
      "execution_count": null,
      "outputs": []
    }
  ]
}