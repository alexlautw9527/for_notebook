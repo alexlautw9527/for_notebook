{
  "nbformat": 4,
  "nbformat_minor": 0,
  "metadata": {
    "colab": {
      "name": "玉山2021冬季賽推薦系統.ipynb",
      "provenance": [],
      "machine_shape": "hm",
      "include_colab_link": true
    },
    "kernelspec": {
      "name": "python3",
      "display_name": "Python 3"
    },
    "language_info": {
      "name": "python"
    },
    "accelerator": "GPU"
  },
  "cells": [
    {
      "cell_type": "markdown",
      "metadata": {
        "id": "view-in-github",
        "colab_type": "text"
      },
      "source": [
        "<a href=\"https://colab.research.google.com/github/alexlautw9527/for_notebook/blob/main/%E7%8E%89%E5%B1%B12021%E5%86%AC%E5%AD%A3%E8%B3%BD%E6%8E%A8%E8%96%A6%E7%B3%BB%E7%B5%B1.ipynb\" target=\"_parent\"><img src=\"https://colab.research.google.com/assets/colab-badge.svg\" alt=\"Open In Colab\"/></a>"
      ]
    },
    {
      "cell_type": "code",
      "metadata": {
        "id": "heJUxDZfcgm4"
      },
      "source": [
        "%%capture\n",
        "!python -m pip install \"dask[complete]\" "
      ],
      "execution_count": 2,
      "outputs": []
    },
    {
      "cell_type": "code",
      "metadata": {
        "id": "uvfot9FXWLsa",
        "outputId": "70527fbe-7ccf-44a0-ebee-b0c3bdc3b122",
        "colab": {
          "base_uri": "https://localhost:8080/"
        }
      },
      "source": [
        "%%time\n",
        "!pip install gdown"
      ],
      "execution_count": 12,
      "outputs": [
        {
          "output_type": "stream",
          "name": "stdout",
          "text": [
            "Requirement already satisfied: gdown in /usr/local/lib/python3.7/dist-packages (3.6.4)\n",
            "Requirement already satisfied: requests in /usr/local/lib/python3.7/dist-packages (from gdown) (2.23.0)\n",
            "Requirement already satisfied: tqdm in /usr/local/lib/python3.7/dist-packages (from gdown) (4.62.3)\n",
            "Requirement already satisfied: six in /usr/local/lib/python3.7/dist-packages (from gdown) (1.15.0)\n",
            "Requirement already satisfied: certifi>=2017.4.17 in /usr/local/lib/python3.7/dist-packages (from requests->gdown) (2021.5.30)\n",
            "Requirement already satisfied: urllib3!=1.25.0,!=1.25.1,<1.26,>=1.21.1 in /usr/local/lib/python3.7/dist-packages (from requests->gdown) (1.24.3)\n",
            "Requirement already satisfied: chardet<4,>=3.0.2 in /usr/local/lib/python3.7/dist-packages (from requests->gdown) (3.0.4)\n",
            "Requirement already satisfied: idna<3,>=2.5 in /usr/local/lib/python3.7/dist-packages (from requests->gdown) (2.10)\n",
            "CPU times: user 28.8 ms, sys: 102 ms, total: 131 ms\n",
            "Wall time: 3.2 s\n"
          ]
        }
      ]
    },
    {
      "cell_type": "code",
      "metadata": {
        "id": "PdpZibZo8Dlo"
      },
      "source": [
        "import pandas as pd \n",
        "import numpy as np\n",
        "import dask.dataframe as dd\n"
      ],
      "execution_count": 3,
      "outputs": []
    },
    {
      "cell_type": "code",
      "metadata": {
        "id": "1OH1CpU80f3_"
      },
      "source": [
        "import tensorflow as tf\n"
      ],
      "execution_count": 4,
      "outputs": []
    },
    {
      "cell_type": "markdown",
      "metadata": {
        "id": "HI73E2c7S1JX"
      },
      "source": [
        "# 資料io前處理"
      ]
    },
    {
      "cell_type": "code",
      "metadata": {
        "id": "69sZ4z6qS6EV",
        "outputId": "4b4152cb-937e-4555-9b0c-7bc37b1557d8",
        "colab": {
          "base_uri": "https://localhost:8080/"
        }
      },
      "source": [
        "'''\n",
        "!cp /content/drive/MyDrive/02_GNL_DATA/2021玉山人工智慧公開挑戰賽冬季賽訓練資料集.gz.gz /content\n",
        "!gunzip /content/2021玉山人工智慧公開挑戰賽冬季賽訓練資料集.gz.gz\n",
        "!tar -xvf /content/2021玉山人工智慧公開挑戰賽冬季賽訓練資料集.gz\n"
      ],
      "execution_count": 7,
      "outputs": [
        {
          "output_type": "stream",
          "name": "stdout",
          "text": [
            "tbrain_cc_training_48tags_hash_final.csv\n"
          ]
        }
      ]
    },
    {
      "cell_type": "code",
      "metadata": {
        "id": "jziHtYagS8pE",
        "outputId": "22c12aa8-0889-42a3-a32b-e4fb932a8be6",
        "colab": {
          "base_uri": "https://localhost:8080/",
          "height": 120
        }
      },
      "source": [
        "%%time\n",
        "\n",
        "\n",
        "'''\n",
        "df = dd.read_csv('/content/tbrain_cc_training_48tags_hash_final.csv',assume_missing=True)\n",
        "\n",
        "## 以chid, dt排序 \n",
        "df = df.set_index('chid')\n",
        "df = df.map_partitions(lambda df: df.sort_values(['chid', 'dt']))\n",
        "\n",
        "## 把csv切成32個parquet格式\n",
        "df = df.repartition(npartitions=32) \n",
        "df = dd.to_parquet(df,path='/content/data.parquet', engine='pyarrow')\n",
        "\n",
        "## 打包壓縮\n",
        "!zip -r esun2021winterdata_parquet.zip /content/data.parquet\n",
        "'''\n"
      ],
      "execution_count": 9,
      "outputs": [
        {
          "output_type": "stream",
          "name": "stdout",
          "text": [
            "CPU times: user 4 µs, sys: 1e+03 ns, total: 5 µs\n",
            "Wall time: 23.6 µs\n"
          ]
        },
        {
          "output_type": "execute_result",
          "data": {
            "application/vnd.google.colaboratory.intrinsic+json": {
              "type": "string"
            },
            "text/plain": [
              "\"\\ndf = dd.read_csv('/content/tbrain_cc_training_48tags_hash_final.csv',assume_missing=True)\\n\\n## 以chid, dt排序 \\ndf = df.set_index('chid')\\ndf = df.map_partitions(lambda df: df.sort_values(['chid', 'dt']))\\n\\n## 把csv切成32個parquet格式\\ndf = df.repartition(npartitions=32) \\ndf = dd.to_parquet(df,path='/content/data.parquet', engine='pyarrow')\\n\\n## 打包壓縮\\n!zip -r esun2021winterdata_parquet.zip /content/data.parquet\\n\""
            ]
          },
          "metadata": {},
          "execution_count": 9
        }
      ]
    },
    {
      "cell_type": "code",
      "metadata": {
        "id": "j89FBXmFVqAv"
      },
      "source": [
        "#!cp /content/esun2021winterdata_parquet.zip /content/drive/MyDrive/03_RESOURCE"
      ],
      "execution_count": 10,
      "outputs": []
    },
    {
      "cell_type": "markdown",
      "metadata": {
        "id": "pBfmegBLTi3R"
      },
      "source": [
        "# 讀入乾淨資料EDA"
      ]
    },
    {
      "cell_type": "code",
      "metadata": {
        "id": "9bx50QzXWnNt",
        "outputId": "72f7c6bb-afd3-4479-c25c-b9d42d54e4d1",
        "colab": {
          "base_uri": "https://localhost:8080/"
        }
      },
      "source": [
        "!gdown https://drive.google.com/uc?id=1pyWFfdT9r-oMoeTmB4NqCTQ0IS7tzzte\n",
        "!unzip /content/esun2021winterdata_parquet.zip"
      ],
      "execution_count": 14,
      "outputs": [
        {
          "output_type": "stream",
          "name": "stdout",
          "text": [
            "Downloading...\n",
            "From: https://drive.google.com/uc?id=1pyWFfdT9r-oMoeTmB4NqCTQ0IS7tzzte\n",
            "To: /content/esun2021winterdata_parquet.zip\n",
            "100% 203M/203M [00:00<00:00, 234MB/s]\n"
          ]
        }
      ]
    },
    {
      "cell_type": "code",
      "metadata": {
        "id": "CMuQPs7LUbv7"
      },
      "source": [
        "## 直接讀取打包好排序過的資料\n",
        "## 載入切好格式\n",
        "\n",
        "org_df = dd.read_parquet('/content/data.parquet', engine='pyarrow')\n"
      ],
      "execution_count": 16,
      "outputs": []
    },
    {
      "cell_type": "code",
      "metadata": {
        "id": "Lqy8n6UHXYJ_",
        "outputId": "bbf01db7-f6d5-4fad-8096-bbaaba409e0a",
        "colab": {
          "base_uri": "https://localhost:8080/"
        }
      },
      "source": [
        "%%time\n",
        "##看看一個id都幾筆資料\n",
        "org_df.groupby('chid').size().describe().compute()"
      ],
      "execution_count": 18,
      "outputs": [
        {
          "output_type": "stream",
          "name": "stdout",
          "text": [
            "CPU times: user 38.6 s, sys: 28.1 s, total: 1min 6s\n",
            "Wall time: 21.1 s\n"
          ]
        },
        {
          "output_type": "execute_result",
          "data": {
            "text/plain": [
              "count    500000.000000\n",
              "mean         65.951306\n",
              "std          55.929864\n",
              "min           1.000000\n",
              "25%          24.000000\n",
              "50%          50.000000\n",
              "75%          93.000000\n",
              "max         441.000000\n",
              "dtype: float64"
            ]
          },
          "metadata": {},
          "execution_count": 18
        }
      ]
    },
    {
      "cell_type": "code",
      "metadata": {
        "id": "PDoX5b1cblIM",
        "outputId": "707c21c2-4d55-4b0d-aa01-85c5b48d3b24",
        "colab": {
          "base_uri": "https://localhost:8080/"
        }
      },
      "source": [
        "%%time\n",
        "org_df['dt'].unique().compute()"
      ],
      "execution_count": 40,
      "outputs": [
        {
          "output_type": "stream",
          "name": "stdout",
          "text": [
            "CPU times: user 1.87 s, sys: 384 ms, total: 2.25 s\n",
            "Wall time: 771 ms\n"
          ]
        },
        {
          "output_type": "execute_result",
          "data": {
            "text/plain": [
              "0      1.0\n",
              "1      2.0\n",
              "2      3.0\n",
              "3      4.0\n",
              "4      5.0\n",
              "5      6.0\n",
              "6      7.0\n",
              "7      8.0\n",
              "8      9.0\n",
              "9     10.0\n",
              "10    11.0\n",
              "11    12.0\n",
              "12    13.0\n",
              "13    14.0\n",
              "14    15.0\n",
              "15    16.0\n",
              "16    17.0\n",
              "17    18.0\n",
              "18    19.0\n",
              "19    20.0\n",
              "20    21.0\n",
              "21    22.0\n",
              "22    23.0\n",
              "23    24.0\n",
              "Name: dt, dtype: float64"
            ]
          },
          "metadata": {},
          "execution_count": 40
        }
      ]
    },
    {
      "cell_type": "markdown",
      "metadata": {
        "id": "hbWML5iqTccn"
      },
      "source": [
        "# 資料整併"
      ]
    },
    {
      "cell_type": "code",
      "metadata": {
        "id": "9Ua7zxvn0i2T"
      },
      "source": [
        "## 消費類別在這些list才是預測範圍\n",
        "\n",
        "pred_list = ['2',\n",
        "'6',\n",
        "'10',\n",
        "'12',\n",
        "'13',\n",
        "'15',\n",
        "'18',\n",
        "'19',\n",
        "'21',\n",
        "'22',\n",
        "'25',\n",
        "'26',\n",
        "'36',\n",
        "'37',\n",
        "'39',\n",
        "'48']"
      ],
      "execution_count": 29,
      "outputs": []
    },
    {
      "cell_type": "code",
      "metadata": {
        "id": "FD2oTkUgZbJa"
      },
      "source": [
        "\n",
        "## 基本資料取最新一筆\n",
        "profile_df = org_df.groupby('chid').last().compute()\n",
        "profile_df = profile_df[\n",
        "  [\n",
        "  'masts', 'educd', 'trdtp', 'naty', 'poscd', \n",
        "  'cuorg','gender_code', 'age'\n",
        "  ]\n",
        "]\n"
      ],
      "execution_count": 26,
      "outputs": []
    },
    {
      "cell_type": "code",
      "metadata": {
        "id": "YPFwyeaqag4P"
      },
      "source": [
        "## 前11個月預測第12月作為訓練\n",
        "train_org = org_df[org_df['dt']<11]\n",
        "train_y_org = org_df[org_df['dt']==11]"
      ],
      "execution_count": 32,
      "outputs": []
    },
    {
      "cell_type": "code",
      "metadata": {
        "id": "w7zKRYgqZ8N2",
        "outputId": "21db1eaa-a423-43f8-e1a0-1259163a1163",
        "colab": {
          "base_uri": "https://localhost:8080/"
        }
      },
      "source": [
        "%%time\n",
        "train_y_org = train_y_org.groupby(['chid','shop_tag'])['txn_amt'].sum().compute().unstack(fill_value=0)\n",
        "\n",
        "## 只留下要預測的類別\n",
        "train_y_org= train_y_org[pred_list]\n"
      ],
      "execution_count": 33,
      "outputs": [
        {
          "output_type": "stream",
          "name": "stdout",
          "text": [
            "CPU times: user 39.4 s, sys: 23.5 s, total: 1min 2s\n",
            "Wall time: 22.1 s\n"
          ]
        }
      ]
    },
    {
      "cell_type": "code",
      "metadata": {
        "id": "WqBqBPxgbDXb",
        "outputId": "5a68f883-15d0-45a7-defb-7b69af36c641",
        "colab": {
          "base_uri": "https://localhost:8080/",
          "height": 255
        }
      },
      "source": [
        "train_y_org.head()"
      ],
      "execution_count": 34,
      "outputs": [
        {
          "output_type": "execute_result",
          "data": {
            "text/html": [
              "<div>\n",
              "<style scoped>\n",
              "    .dataframe tbody tr th:only-of-type {\n",
              "        vertical-align: middle;\n",
              "    }\n",
              "\n",
              "    .dataframe tbody tr th {\n",
              "        vertical-align: top;\n",
              "    }\n",
              "\n",
              "    .dataframe thead th {\n",
              "        text-align: right;\n",
              "    }\n",
              "</style>\n",
              "<table border=\"1\" class=\"dataframe\">\n",
              "  <thead>\n",
              "    <tr style=\"text-align: right;\">\n",
              "      <th>shop_tag</th>\n",
              "      <th>2</th>\n",
              "      <th>6</th>\n",
              "      <th>10</th>\n",
              "      <th>12</th>\n",
              "      <th>13</th>\n",
              "      <th>15</th>\n",
              "      <th>18</th>\n",
              "      <th>19</th>\n",
              "      <th>21</th>\n",
              "      <th>22</th>\n",
              "      <th>25</th>\n",
              "      <th>26</th>\n",
              "      <th>36</th>\n",
              "      <th>37</th>\n",
              "      <th>39</th>\n",
              "      <th>48</th>\n",
              "    </tr>\n",
              "    <tr>\n",
              "      <th>chid</th>\n",
              "      <th></th>\n",
              "      <th></th>\n",
              "      <th></th>\n",
              "      <th></th>\n",
              "      <th></th>\n",
              "      <th></th>\n",
              "      <th></th>\n",
              "      <th></th>\n",
              "      <th></th>\n",
              "      <th></th>\n",
              "      <th></th>\n",
              "      <th></th>\n",
              "      <th></th>\n",
              "      <th></th>\n",
              "      <th></th>\n",
              "      <th></th>\n",
              "    </tr>\n",
              "  </thead>\n",
              "  <tbody>\n",
              "    <tr>\n",
              "      <th>10000000.0</th>\n",
              "      <td>0.00000</td>\n",
              "      <td>0.0</td>\n",
              "      <td>10512.141355</td>\n",
              "      <td>0.000000</td>\n",
              "      <td>0.0</td>\n",
              "      <td>0.000000</td>\n",
              "      <td>0.000000</td>\n",
              "      <td>0.00000</td>\n",
              "      <td>0.000000</td>\n",
              "      <td>0.0</td>\n",
              "      <td>0.0</td>\n",
              "      <td>0.0</td>\n",
              "      <td>0.000000</td>\n",
              "      <td>0.000000</td>\n",
              "      <td>0.0</td>\n",
              "      <td>0.000000</td>\n",
              "    </tr>\n",
              "    <tr>\n",
              "      <th>10000001.0</th>\n",
              "      <td>0.00000</td>\n",
              "      <td>0.0</td>\n",
              "      <td>0.000000</td>\n",
              "      <td>0.000000</td>\n",
              "      <td>0.0</td>\n",
              "      <td>0.000000</td>\n",
              "      <td>0.000000</td>\n",
              "      <td>0.00000</td>\n",
              "      <td>0.000000</td>\n",
              "      <td>0.0</td>\n",
              "      <td>0.0</td>\n",
              "      <td>0.0</td>\n",
              "      <td>1332.986072</td>\n",
              "      <td>0.000000</td>\n",
              "      <td>0.0</td>\n",
              "      <td>0.000000</td>\n",
              "    </tr>\n",
              "    <tr>\n",
              "      <th>10000004.0</th>\n",
              "      <td>0.00000</td>\n",
              "      <td>0.0</td>\n",
              "      <td>0.000000</td>\n",
              "      <td>0.000000</td>\n",
              "      <td>0.0</td>\n",
              "      <td>5773.036485</td>\n",
              "      <td>0.000000</td>\n",
              "      <td>0.00000</td>\n",
              "      <td>0.000000</td>\n",
              "      <td>0.0</td>\n",
              "      <td>0.0</td>\n",
              "      <td>0.0</td>\n",
              "      <td>0.000000</td>\n",
              "      <td>0.000000</td>\n",
              "      <td>0.0</td>\n",
              "      <td>5419.225995</td>\n",
              "    </tr>\n",
              "    <tr>\n",
              "      <th>10000006.0</th>\n",
              "      <td>0.00000</td>\n",
              "      <td>0.0</td>\n",
              "      <td>0.000000</td>\n",
              "      <td>0.000000</td>\n",
              "      <td>0.0</td>\n",
              "      <td>0.000000</td>\n",
              "      <td>0.000000</td>\n",
              "      <td>0.00000</td>\n",
              "      <td>0.000000</td>\n",
              "      <td>0.0</td>\n",
              "      <td>0.0</td>\n",
              "      <td>0.0</td>\n",
              "      <td>0.000000</td>\n",
              "      <td>4268.476774</td>\n",
              "      <td>0.0</td>\n",
              "      <td>0.000000</td>\n",
              "    </tr>\n",
              "    <tr>\n",
              "      <th>10000008.0</th>\n",
              "      <td>10482.02793</td>\n",
              "      <td>0.0</td>\n",
              "      <td>0.000000</td>\n",
              "      <td>6735.554834</td>\n",
              "      <td>0.0</td>\n",
              "      <td>0.000000</td>\n",
              "      <td>4953.135169</td>\n",
              "      <td>15007.05093</td>\n",
              "      <td>36527.183292</td>\n",
              "      <td>0.0</td>\n",
              "      <td>0.0</td>\n",
              "      <td>0.0</td>\n",
              "      <td>0.000000</td>\n",
              "      <td>44217.947863</td>\n",
              "      <td>0.0</td>\n",
              "      <td>0.000000</td>\n",
              "    </tr>\n",
              "  </tbody>\n",
              "</table>\n",
              "</div>"
            ],
            "text/plain": [
              "shop_tag              2    6            10  ...            37   39           48\n",
              "chid                                        ...                                \n",
              "10000000.0      0.00000  0.0  10512.141355  ...      0.000000  0.0     0.000000\n",
              "10000001.0      0.00000  0.0      0.000000  ...      0.000000  0.0     0.000000\n",
              "10000004.0      0.00000  0.0      0.000000  ...      0.000000  0.0  5419.225995\n",
              "10000006.0      0.00000  0.0      0.000000  ...   4268.476774  0.0     0.000000\n",
              "10000008.0  10482.02793  0.0      0.000000  ...  44217.947863  0.0     0.000000\n",
              "\n",
              "[5 rows x 16 columns]"
            ]
          },
          "metadata": {},
          "execution_count": 34
        }
      ]
    },
    {
      "cell_type": "code",
      "metadata": {
        "id": "MW_aqFfaaWW1"
      },
      "source": [
        "## by id 將絕對金額轉換為各類佔比 (加總為1) \n",
        "train_y = train_y_org.div(train_y_org.sum(axis=1), axis=0).fillna(0)"
      ],
      "execution_count": 35,
      "outputs": []
    },
    {
      "cell_type": "code",
      "metadata": {
        "id": "Oo-kP-FibFLv",
        "outputId": "f493d312-ffdc-4834-852d-fdc202565c83",
        "colab": {
          "base_uri": "https://localhost:8080/",
          "height": 470
        }
      },
      "source": [
        "train_y"
      ],
      "execution_count": 36,
      "outputs": [
        {
          "output_type": "execute_result",
          "data": {
            "text/html": [
              "<div>\n",
              "<style scoped>\n",
              "    .dataframe tbody tr th:only-of-type {\n",
              "        vertical-align: middle;\n",
              "    }\n",
              "\n",
              "    .dataframe tbody tr th {\n",
              "        vertical-align: top;\n",
              "    }\n",
              "\n",
              "    .dataframe thead th {\n",
              "        text-align: right;\n",
              "    }\n",
              "</style>\n",
              "<table border=\"1\" class=\"dataframe\">\n",
              "  <thead>\n",
              "    <tr style=\"text-align: right;\">\n",
              "      <th>shop_tag</th>\n",
              "      <th>2</th>\n",
              "      <th>6</th>\n",
              "      <th>10</th>\n",
              "      <th>12</th>\n",
              "      <th>13</th>\n",
              "      <th>15</th>\n",
              "      <th>18</th>\n",
              "      <th>19</th>\n",
              "      <th>21</th>\n",
              "      <th>22</th>\n",
              "      <th>25</th>\n",
              "      <th>26</th>\n",
              "      <th>36</th>\n",
              "      <th>37</th>\n",
              "      <th>39</th>\n",
              "      <th>48</th>\n",
              "    </tr>\n",
              "    <tr>\n",
              "      <th>chid</th>\n",
              "      <th></th>\n",
              "      <th></th>\n",
              "      <th></th>\n",
              "      <th></th>\n",
              "      <th></th>\n",
              "      <th></th>\n",
              "      <th></th>\n",
              "      <th></th>\n",
              "      <th></th>\n",
              "      <th></th>\n",
              "      <th></th>\n",
              "      <th></th>\n",
              "      <th></th>\n",
              "      <th></th>\n",
              "      <th></th>\n",
              "      <th></th>\n",
              "    </tr>\n",
              "  </thead>\n",
              "  <tbody>\n",
              "    <tr>\n",
              "      <th>10000000.0</th>\n",
              "      <td>0.000000</td>\n",
              "      <td>0.0</td>\n",
              "      <td>1.000000</td>\n",
              "      <td>0.000000</td>\n",
              "      <td>0.000000</td>\n",
              "      <td>0.000000</td>\n",
              "      <td>0.000000</td>\n",
              "      <td>0.000000</td>\n",
              "      <td>0.000000</td>\n",
              "      <td>0.0</td>\n",
              "      <td>0.0</td>\n",
              "      <td>0.0</td>\n",
              "      <td>0.0</td>\n",
              "      <td>0.000000</td>\n",
              "      <td>0.000000</td>\n",
              "      <td>0.000000</td>\n",
              "    </tr>\n",
              "    <tr>\n",
              "      <th>10000001.0</th>\n",
              "      <td>0.000000</td>\n",
              "      <td>0.0</td>\n",
              "      <td>0.000000</td>\n",
              "      <td>0.000000</td>\n",
              "      <td>0.000000</td>\n",
              "      <td>0.000000</td>\n",
              "      <td>0.000000</td>\n",
              "      <td>0.000000</td>\n",
              "      <td>0.000000</td>\n",
              "      <td>0.0</td>\n",
              "      <td>0.0</td>\n",
              "      <td>0.0</td>\n",
              "      <td>1.0</td>\n",
              "      <td>0.000000</td>\n",
              "      <td>0.000000</td>\n",
              "      <td>0.000000</td>\n",
              "    </tr>\n",
              "    <tr>\n",
              "      <th>10000004.0</th>\n",
              "      <td>0.000000</td>\n",
              "      <td>0.0</td>\n",
              "      <td>0.000000</td>\n",
              "      <td>0.000000</td>\n",
              "      <td>0.000000</td>\n",
              "      <td>0.515806</td>\n",
              "      <td>0.000000</td>\n",
              "      <td>0.000000</td>\n",
              "      <td>0.000000</td>\n",
              "      <td>0.0</td>\n",
              "      <td>0.0</td>\n",
              "      <td>0.0</td>\n",
              "      <td>0.0</td>\n",
              "      <td>0.000000</td>\n",
              "      <td>0.000000</td>\n",
              "      <td>0.484194</td>\n",
              "    </tr>\n",
              "    <tr>\n",
              "      <th>10000006.0</th>\n",
              "      <td>0.000000</td>\n",
              "      <td>0.0</td>\n",
              "      <td>0.000000</td>\n",
              "      <td>0.000000</td>\n",
              "      <td>0.000000</td>\n",
              "      <td>0.000000</td>\n",
              "      <td>0.000000</td>\n",
              "      <td>0.000000</td>\n",
              "      <td>0.000000</td>\n",
              "      <td>0.0</td>\n",
              "      <td>0.0</td>\n",
              "      <td>0.0</td>\n",
              "      <td>0.0</td>\n",
              "      <td>1.000000</td>\n",
              "      <td>0.000000</td>\n",
              "      <td>0.000000</td>\n",
              "    </tr>\n",
              "    <tr>\n",
              "      <th>10000008.0</th>\n",
              "      <td>0.088889</td>\n",
              "      <td>0.0</td>\n",
              "      <td>0.000000</td>\n",
              "      <td>0.057118</td>\n",
              "      <td>0.000000</td>\n",
              "      <td>0.000000</td>\n",
              "      <td>0.042003</td>\n",
              "      <td>0.127262</td>\n",
              "      <td>0.309755</td>\n",
              "      <td>0.0</td>\n",
              "      <td>0.0</td>\n",
              "      <td>0.0</td>\n",
              "      <td>0.0</td>\n",
              "      <td>0.374973</td>\n",
              "      <td>0.000000</td>\n",
              "      <td>0.000000</td>\n",
              "    </tr>\n",
              "    <tr>\n",
              "      <th>...</th>\n",
              "      <td>...</td>\n",
              "      <td>...</td>\n",
              "      <td>...</td>\n",
              "      <td>...</td>\n",
              "      <td>...</td>\n",
              "      <td>...</td>\n",
              "      <td>...</td>\n",
              "      <td>...</td>\n",
              "      <td>...</td>\n",
              "      <td>...</td>\n",
              "      <td>...</td>\n",
              "      <td>...</td>\n",
              "      <td>...</td>\n",
              "      <td>...</td>\n",
              "      <td>...</td>\n",
              "      <td>...</td>\n",
              "    </tr>\n",
              "    <tr>\n",
              "      <th>10499992.0</th>\n",
              "      <td>0.000000</td>\n",
              "      <td>0.0</td>\n",
              "      <td>0.000000</td>\n",
              "      <td>0.000000</td>\n",
              "      <td>0.804538</td>\n",
              "      <td>0.000000</td>\n",
              "      <td>0.000000</td>\n",
              "      <td>0.000000</td>\n",
              "      <td>0.000000</td>\n",
              "      <td>0.0</td>\n",
              "      <td>0.0</td>\n",
              "      <td>0.0</td>\n",
              "      <td>0.0</td>\n",
              "      <td>0.000000</td>\n",
              "      <td>0.000000</td>\n",
              "      <td>0.195462</td>\n",
              "    </tr>\n",
              "    <tr>\n",
              "      <th>10499993.0</th>\n",
              "      <td>0.000000</td>\n",
              "      <td>0.0</td>\n",
              "      <td>0.499181</td>\n",
              "      <td>0.168151</td>\n",
              "      <td>0.000000</td>\n",
              "      <td>0.000000</td>\n",
              "      <td>0.000000</td>\n",
              "      <td>0.000000</td>\n",
              "      <td>0.000000</td>\n",
              "      <td>0.0</td>\n",
              "      <td>0.0</td>\n",
              "      <td>0.0</td>\n",
              "      <td>0.0</td>\n",
              "      <td>0.332668</td>\n",
              "      <td>0.000000</td>\n",
              "      <td>0.000000</td>\n",
              "    </tr>\n",
              "    <tr>\n",
              "      <th>10499996.0</th>\n",
              "      <td>0.000000</td>\n",
              "      <td>0.0</td>\n",
              "      <td>0.000000</td>\n",
              "      <td>0.000000</td>\n",
              "      <td>0.000000</td>\n",
              "      <td>0.000000</td>\n",
              "      <td>0.000000</td>\n",
              "      <td>0.000000</td>\n",
              "      <td>0.000000</td>\n",
              "      <td>0.0</td>\n",
              "      <td>0.0</td>\n",
              "      <td>0.0</td>\n",
              "      <td>0.0</td>\n",
              "      <td>0.000000</td>\n",
              "      <td>0.000000</td>\n",
              "      <td>0.000000</td>\n",
              "    </tr>\n",
              "    <tr>\n",
              "      <th>10499997.0</th>\n",
              "      <td>0.310655</td>\n",
              "      <td>0.0</td>\n",
              "      <td>0.000000</td>\n",
              "      <td>0.000000</td>\n",
              "      <td>0.000000</td>\n",
              "      <td>0.000000</td>\n",
              "      <td>0.000000</td>\n",
              "      <td>0.000000</td>\n",
              "      <td>0.000000</td>\n",
              "      <td>0.0</td>\n",
              "      <td>0.0</td>\n",
              "      <td>0.0</td>\n",
              "      <td>0.0</td>\n",
              "      <td>0.000000</td>\n",
              "      <td>0.000000</td>\n",
              "      <td>0.689345</td>\n",
              "    </tr>\n",
              "    <tr>\n",
              "      <th>10499998.0</th>\n",
              "      <td>0.000000</td>\n",
              "      <td>0.0</td>\n",
              "      <td>0.000000</td>\n",
              "      <td>0.000000</td>\n",
              "      <td>0.000000</td>\n",
              "      <td>0.000000</td>\n",
              "      <td>0.000000</td>\n",
              "      <td>0.357727</td>\n",
              "      <td>0.000000</td>\n",
              "      <td>0.0</td>\n",
              "      <td>0.0</td>\n",
              "      <td>0.0</td>\n",
              "      <td>0.0</td>\n",
              "      <td>0.000000</td>\n",
              "      <td>0.642273</td>\n",
              "      <td>0.000000</td>\n",
              "    </tr>\n",
              "  </tbody>\n",
              "</table>\n",
              "<p>378500 rows × 16 columns</p>\n",
              "</div>"
            ],
            "text/plain": [
              "shop_tag           2    6        10  ...        37        39        48\n",
              "chid                                 ...                              \n",
              "10000000.0  0.000000  0.0  1.000000  ...  0.000000  0.000000  0.000000\n",
              "10000001.0  0.000000  0.0  0.000000  ...  0.000000  0.000000  0.000000\n",
              "10000004.0  0.000000  0.0  0.000000  ...  0.000000  0.000000  0.484194\n",
              "10000006.0  0.000000  0.0  0.000000  ...  1.000000  0.000000  0.000000\n",
              "10000008.0  0.088889  0.0  0.000000  ...  0.374973  0.000000  0.000000\n",
              "...              ...  ...       ...  ...       ...       ...       ...\n",
              "10499992.0  0.000000  0.0  0.000000  ...  0.000000  0.000000  0.195462\n",
              "10499993.0  0.000000  0.0  0.499181  ...  0.332668  0.000000  0.000000\n",
              "10499996.0  0.000000  0.0  0.000000  ...  0.000000  0.000000  0.000000\n",
              "10499997.0  0.310655  0.0  0.000000  ...  0.000000  0.000000  0.689345\n",
              "10499998.0  0.000000  0.0  0.000000  ...  0.000000  0.642273  0.000000\n",
              "\n",
              "[378500 rows x 16 columns]"
            ]
          },
          "metadata": {},
          "execution_count": 36
        }
      ]
    },
    {
      "cell_type": "code",
      "metadata": {
        "id": "ddIbu9y2bAXP"
      },
      "source": [
        "## 將過去11個月個類別的消費金額加總\n",
        "train_df = train_org.groupby(['chid','shop_tag'])['txn_amt'].sum().compute().unstack(fill_value=0)\n",
        "\n",
        "## 合併基本資料\n",
        "train_df = train_df.merge(profile_df, how='left', on='chid')\n"
      ],
      "execution_count": 37,
      "outputs": []
    },
    {
      "cell_type": "code",
      "metadata": {
        "id": "02XBUs3KbBOU"
      },
      "source": [
        "## 取y跟x皆有的交集\n",
        "train_int_id = list(set(train_df.index)&set(train_y_org.index))\n",
        "train_int_id.sort()"
      ],
      "execution_count": 38,
      "outputs": []
    },
    {
      "cell_type": "code",
      "metadata": {
        "id": "GEjV5AxBbYQl"
      },
      "source": [
        "# train_df[train_int_id], train_y[train_int_id], 就是訓練集了"
      ],
      "execution_count": null,
      "outputs": []
    },
    {
      "cell_type": "markdown",
      "metadata": {
        "id": "pIE2YVW2TeAq"
      },
      "source": [
        "# Model"
      ]
    },
    {
      "cell_type": "code",
      "metadata": {
        "id": "7iGF9rQK04mb"
      },
      "source": [
        "model = tf.keras.Sequential([\n",
        "    tf.keras.layers.Dense(100, activation='relu'),\n",
        "    tf.keras.layers.Dense(100, activation='relu'),\n",
        "    tf.keras.layers.Dense(100, activation='relu'),\n",
        "    tf.keras.layers.Dense(100, activation='relu'),\n",
        "    tf.keras.layers.Dense(16, activation='softmax')\n",
        "])\n",
        "\n",
        "model.compile(optimizer='rmsprop',\n",
        "       loss='mae')\n",
        "\n",
        "\n",
        "\n",
        "model.fit(train_df.loc[train_int_id].values, train_y.loc[train_int_id].values, batch_size=1, epochs=100)\n"
      ],
      "execution_count": null,
      "outputs": []
    },
    {
      "cell_type": "markdown",
      "metadata": {
        "id": "Gac5WihMX7lb"
      },
      "source": [
        "# Naive baseline"
      ]
    },
    {
      "cell_type": "code",
      "metadata": {
        "colab": {
          "base_uri": "https://localhost:8080/"
        },
        "id": "wAsEY-Tmx3pn",
        "outputId": "386238a4-ccca-4652-e548-53bd608249f1"
      },
      "source": [
        "%%time\n",
        "\n",
        "## 計算by id各類別總計消費金額\n",
        "naive_pred_df = org_df.groupby(['chid','shop_tag'])['txn_amt'].sum().compute().unstack(fill_value=0)"
      ],
      "execution_count": 19,
      "outputs": [
        {
          "output_type": "stream",
          "name": "stdout",
          "text": [
            "CPU times: user 52.4 s, sys: 25.1 s, total: 1min 17s\n",
            "Wall time: 29.1 s\n"
          ]
        }
      ]
    },
    {
      "cell_type": "code",
      "metadata": {
        "id": "8C3oeaKec9XS",
        "colab": {
          "base_uri": "https://localhost:8080/",
          "height": 255
        },
        "outputId": "f6ce1fce-951e-4fc3-8015-16e2b1e94184"
      },
      "source": [
        "naive_pred_df.head()"
      ],
      "execution_count": 20,
      "outputs": [
        {
          "output_type": "execute_result",
          "data": {
            "text/html": [
              "<div>\n",
              "<style scoped>\n",
              "    .dataframe tbody tr th:only-of-type {\n",
              "        vertical-align: middle;\n",
              "    }\n",
              "\n",
              "    .dataframe tbody tr th {\n",
              "        vertical-align: top;\n",
              "    }\n",
              "\n",
              "    .dataframe thead th {\n",
              "        text-align: right;\n",
              "    }\n",
              "</style>\n",
              "<table border=\"1\" class=\"dataframe\">\n",
              "  <thead>\n",
              "    <tr style=\"text-align: right;\">\n",
              "      <th>shop_tag</th>\n",
              "      <th>1</th>\n",
              "      <th>10</th>\n",
              "      <th>11</th>\n",
              "      <th>12</th>\n",
              "      <th>13</th>\n",
              "      <th>14</th>\n",
              "      <th>15</th>\n",
              "      <th>16</th>\n",
              "      <th>17</th>\n",
              "      <th>18</th>\n",
              "      <th>19</th>\n",
              "      <th>2</th>\n",
              "      <th>20</th>\n",
              "      <th>21</th>\n",
              "      <th>22</th>\n",
              "      <th>23</th>\n",
              "      <th>24</th>\n",
              "      <th>25</th>\n",
              "      <th>26</th>\n",
              "      <th>27</th>\n",
              "      <th>28</th>\n",
              "      <th>29</th>\n",
              "      <th>3</th>\n",
              "      <th>30</th>\n",
              "      <th>31</th>\n",
              "      <th>32</th>\n",
              "      <th>33</th>\n",
              "      <th>34</th>\n",
              "      <th>35</th>\n",
              "      <th>36</th>\n",
              "      <th>37</th>\n",
              "      <th>38</th>\n",
              "      <th>39</th>\n",
              "      <th>4</th>\n",
              "      <th>40</th>\n",
              "      <th>41</th>\n",
              "      <th>42</th>\n",
              "      <th>43</th>\n",
              "      <th>44</th>\n",
              "      <th>45</th>\n",
              "      <th>46</th>\n",
              "      <th>47</th>\n",
              "      <th>48</th>\n",
              "      <th>5</th>\n",
              "      <th>6</th>\n",
              "      <th>7</th>\n",
              "      <th>8</th>\n",
              "      <th>9</th>\n",
              "      <th>other</th>\n",
              "    </tr>\n",
              "    <tr>\n",
              "      <th>chid</th>\n",
              "      <th></th>\n",
              "      <th></th>\n",
              "      <th></th>\n",
              "      <th></th>\n",
              "      <th></th>\n",
              "      <th></th>\n",
              "      <th></th>\n",
              "      <th></th>\n",
              "      <th></th>\n",
              "      <th></th>\n",
              "      <th></th>\n",
              "      <th></th>\n",
              "      <th></th>\n",
              "      <th></th>\n",
              "      <th></th>\n",
              "      <th></th>\n",
              "      <th></th>\n",
              "      <th></th>\n",
              "      <th></th>\n",
              "      <th></th>\n",
              "      <th></th>\n",
              "      <th></th>\n",
              "      <th></th>\n",
              "      <th></th>\n",
              "      <th></th>\n",
              "      <th></th>\n",
              "      <th></th>\n",
              "      <th></th>\n",
              "      <th></th>\n",
              "      <th></th>\n",
              "      <th></th>\n",
              "      <th></th>\n",
              "      <th></th>\n",
              "      <th></th>\n",
              "      <th></th>\n",
              "      <th></th>\n",
              "      <th></th>\n",
              "      <th></th>\n",
              "      <th></th>\n",
              "      <th></th>\n",
              "      <th></th>\n",
              "      <th></th>\n",
              "      <th></th>\n",
              "      <th></th>\n",
              "      <th></th>\n",
              "      <th></th>\n",
              "      <th></th>\n",
              "      <th></th>\n",
              "      <th></th>\n",
              "    </tr>\n",
              "  </thead>\n",
              "  <tbody>\n",
              "    <tr>\n",
              "      <th>10000000.0</th>\n",
              "      <td>0.0</td>\n",
              "      <td>191770.225706</td>\n",
              "      <td>0.0</td>\n",
              "      <td>76268.969509</td>\n",
              "      <td>0.0</td>\n",
              "      <td>0.0</td>\n",
              "      <td>4684.483372</td>\n",
              "      <td>0.000000</td>\n",
              "      <td>0.000000</td>\n",
              "      <td>0.000000</td>\n",
              "      <td>0.0</td>\n",
              "      <td>0.000000</td>\n",
              "      <td>0.0</td>\n",
              "      <td>0.000000</td>\n",
              "      <td>0.000000</td>\n",
              "      <td>0.0</td>\n",
              "      <td>0.0</td>\n",
              "      <td>0.0</td>\n",
              "      <td>0.000000</td>\n",
              "      <td>0.0</td>\n",
              "      <td>0.0</td>\n",
              "      <td>0.0</td>\n",
              "      <td>0.000000</td>\n",
              "      <td>0.0</td>\n",
              "      <td>0.000000</td>\n",
              "      <td>0.0</td>\n",
              "      <td>0.0</td>\n",
              "      <td>0.000000</td>\n",
              "      <td>0.0</td>\n",
              "      <td>0.000000</td>\n",
              "      <td>4235.791755</td>\n",
              "      <td>0.0</td>\n",
              "      <td>0.000000</td>\n",
              "      <td>0.0</td>\n",
              "      <td>0.000000</td>\n",
              "      <td>0.0</td>\n",
              "      <td>0.000000</td>\n",
              "      <td>0.0</td>\n",
              "      <td>0.000000</td>\n",
              "      <td>62218.660703</td>\n",
              "      <td>81337.066461</td>\n",
              "      <td>0.0</td>\n",
              "      <td>9156.086033</td>\n",
              "      <td>0.0</td>\n",
              "      <td>0.00000</td>\n",
              "      <td>0.0</td>\n",
              "      <td>0.0</td>\n",
              "      <td>0.000000</td>\n",
              "      <td>40746.482820</td>\n",
              "    </tr>\n",
              "    <tr>\n",
              "      <th>10000001.0</th>\n",
              "      <td>0.0</td>\n",
              "      <td>12847.384866</td>\n",
              "      <td>0.0</td>\n",
              "      <td>44104.144043</td>\n",
              "      <td>0.0</td>\n",
              "      <td>0.0</td>\n",
              "      <td>57821.590353</td>\n",
              "      <td>12643.832959</td>\n",
              "      <td>0.000000</td>\n",
              "      <td>8019.906666</td>\n",
              "      <td>0.0</td>\n",
              "      <td>17649.573492</td>\n",
              "      <td>0.0</td>\n",
              "      <td>25146.943067</td>\n",
              "      <td>3945.661088</td>\n",
              "      <td>0.0</td>\n",
              "      <td>0.0</td>\n",
              "      <td>0.0</td>\n",
              "      <td>39478.512075</td>\n",
              "      <td>0.0</td>\n",
              "      <td>0.0</td>\n",
              "      <td>0.0</td>\n",
              "      <td>6308.563642</td>\n",
              "      <td>0.0</td>\n",
              "      <td>595.018412</td>\n",
              "      <td>0.0</td>\n",
              "      <td>0.0</td>\n",
              "      <td>51329.246565</td>\n",
              "      <td>0.0</td>\n",
              "      <td>26998.210065</td>\n",
              "      <td>56105.751640</td>\n",
              "      <td>0.0</td>\n",
              "      <td>49331.267298</td>\n",
              "      <td>0.0</td>\n",
              "      <td>18721.636466</td>\n",
              "      <td>0.0</td>\n",
              "      <td>14317.563657</td>\n",
              "      <td>0.0</td>\n",
              "      <td>6048.351042</td>\n",
              "      <td>63374.858212</td>\n",
              "      <td>0.000000</td>\n",
              "      <td>0.0</td>\n",
              "      <td>84246.368876</td>\n",
              "      <td>0.0</td>\n",
              "      <td>26023.22562</td>\n",
              "      <td>0.0</td>\n",
              "      <td>0.0</td>\n",
              "      <td>0.000000</td>\n",
              "      <td>50488.365846</td>\n",
              "    </tr>\n",
              "    <tr>\n",
              "      <th>10000002.0</th>\n",
              "      <td>0.0</td>\n",
              "      <td>16755.695323</td>\n",
              "      <td>0.0</td>\n",
              "      <td>0.000000</td>\n",
              "      <td>0.0</td>\n",
              "      <td>0.0</td>\n",
              "      <td>0.000000</td>\n",
              "      <td>0.000000</td>\n",
              "      <td>0.000000</td>\n",
              "      <td>0.000000</td>\n",
              "      <td>0.0</td>\n",
              "      <td>0.000000</td>\n",
              "      <td>0.0</td>\n",
              "      <td>0.000000</td>\n",
              "      <td>3571.095195</td>\n",
              "      <td>0.0</td>\n",
              "      <td>0.0</td>\n",
              "      <td>0.0</td>\n",
              "      <td>0.000000</td>\n",
              "      <td>0.0</td>\n",
              "      <td>0.0</td>\n",
              "      <td>0.0</td>\n",
              "      <td>0.000000</td>\n",
              "      <td>0.0</td>\n",
              "      <td>0.000000</td>\n",
              "      <td>0.0</td>\n",
              "      <td>0.0</td>\n",
              "      <td>0.000000</td>\n",
              "      <td>0.0</td>\n",
              "      <td>0.000000</td>\n",
              "      <td>5692.923612</td>\n",
              "      <td>0.0</td>\n",
              "      <td>0.000000</td>\n",
              "      <td>0.0</td>\n",
              "      <td>0.000000</td>\n",
              "      <td>0.0</td>\n",
              "      <td>0.000000</td>\n",
              "      <td>0.0</td>\n",
              "      <td>0.000000</td>\n",
              "      <td>0.000000</td>\n",
              "      <td>0.000000</td>\n",
              "      <td>0.0</td>\n",
              "      <td>0.000000</td>\n",
              "      <td>0.0</td>\n",
              "      <td>0.00000</td>\n",
              "      <td>0.0</td>\n",
              "      <td>0.0</td>\n",
              "      <td>0.000000</td>\n",
              "      <td>37649.183244</td>\n",
              "    </tr>\n",
              "    <tr>\n",
              "      <th>10000003.0</th>\n",
              "      <td>0.0</td>\n",
              "      <td>0.000000</td>\n",
              "      <td>0.0</td>\n",
              "      <td>0.000000</td>\n",
              "      <td>0.0</td>\n",
              "      <td>0.0</td>\n",
              "      <td>0.000000</td>\n",
              "      <td>0.000000</td>\n",
              "      <td>0.000000</td>\n",
              "      <td>0.000000</td>\n",
              "      <td>0.0</td>\n",
              "      <td>0.000000</td>\n",
              "      <td>0.0</td>\n",
              "      <td>0.000000</td>\n",
              "      <td>8554.030804</td>\n",
              "      <td>0.0</td>\n",
              "      <td>0.0</td>\n",
              "      <td>0.0</td>\n",
              "      <td>0.000000</td>\n",
              "      <td>0.0</td>\n",
              "      <td>0.0</td>\n",
              "      <td>0.0</td>\n",
              "      <td>0.000000</td>\n",
              "      <td>0.0</td>\n",
              "      <td>0.000000</td>\n",
              "      <td>0.0</td>\n",
              "      <td>0.0</td>\n",
              "      <td>0.000000</td>\n",
              "      <td>0.0</td>\n",
              "      <td>0.000000</td>\n",
              "      <td>8023.582985</td>\n",
              "      <td>0.0</td>\n",
              "      <td>0.000000</td>\n",
              "      <td>0.0</td>\n",
              "      <td>0.000000</td>\n",
              "      <td>0.0</td>\n",
              "      <td>0.000000</td>\n",
              "      <td>0.0</td>\n",
              "      <td>0.000000</td>\n",
              "      <td>0.000000</td>\n",
              "      <td>0.000000</td>\n",
              "      <td>0.0</td>\n",
              "      <td>0.000000</td>\n",
              "      <td>0.0</td>\n",
              "      <td>0.00000</td>\n",
              "      <td>0.0</td>\n",
              "      <td>0.0</td>\n",
              "      <td>0.000000</td>\n",
              "      <td>0.000000</td>\n",
              "    </tr>\n",
              "    <tr>\n",
              "      <th>10000004.0</th>\n",
              "      <td>0.0</td>\n",
              "      <td>0.000000</td>\n",
              "      <td>0.0</td>\n",
              "      <td>15271.878083</td>\n",
              "      <td>0.0</td>\n",
              "      <td>0.0</td>\n",
              "      <td>5773.036485</td>\n",
              "      <td>0.000000</td>\n",
              "      <td>6037.642859</td>\n",
              "      <td>0.000000</td>\n",
              "      <td>0.0</td>\n",
              "      <td>10825.822388</td>\n",
              "      <td>0.0</td>\n",
              "      <td>0.000000</td>\n",
              "      <td>0.000000</td>\n",
              "      <td>0.0</td>\n",
              "      <td>0.0</td>\n",
              "      <td>0.0</td>\n",
              "      <td>0.000000</td>\n",
              "      <td>0.0</td>\n",
              "      <td>0.0</td>\n",
              "      <td>0.0</td>\n",
              "      <td>0.000000</td>\n",
              "      <td>0.0</td>\n",
              "      <td>12617.127283</td>\n",
              "      <td>0.0</td>\n",
              "      <td>0.0</td>\n",
              "      <td>0.000000</td>\n",
              "      <td>0.0</td>\n",
              "      <td>11546.072969</td>\n",
              "      <td>34238.290641</td>\n",
              "      <td>0.0</td>\n",
              "      <td>0.000000</td>\n",
              "      <td>0.0</td>\n",
              "      <td>0.000000</td>\n",
              "      <td>0.0</td>\n",
              "      <td>0.000000</td>\n",
              "      <td>0.0</td>\n",
              "      <td>0.000000</td>\n",
              "      <td>19790.314068</td>\n",
              "      <td>0.000000</td>\n",
              "      <td>0.0</td>\n",
              "      <td>5419.225995</td>\n",
              "      <td>0.0</td>\n",
              "      <td>0.00000</td>\n",
              "      <td>0.0</td>\n",
              "      <td>0.0</td>\n",
              "      <td>10659.532107</td>\n",
              "      <td>12386.980405</td>\n",
              "    </tr>\n",
              "  </tbody>\n",
              "</table>\n",
              "</div>"
            ],
            "text/plain": [
              "shop_tag      1             10   11  ...    8             9         other\n",
              "chid                                 ...                                 \n",
              "10000000.0  0.0  191770.225706  0.0  ...  0.0      0.000000  40746.482820\n",
              "10000001.0  0.0   12847.384866  0.0  ...  0.0      0.000000  50488.365846\n",
              "10000002.0  0.0   16755.695323  0.0  ...  0.0      0.000000  37649.183244\n",
              "10000003.0  0.0       0.000000  0.0  ...  0.0      0.000000      0.000000\n",
              "10000004.0  0.0       0.000000  0.0  ...  0.0  10659.532107  12386.980405\n",
              "\n",
              "[5 rows x 49 columns]"
            ]
          },
          "metadata": {},
          "execution_count": 20
        }
      ]
    },
    {
      "cell_type": "code",
      "metadata": {
        "id": "Xlct7LKKXjxE",
        "colab": {
          "base_uri": "https://localhost:8080/"
        },
        "outputId": "bec33ae9-9e1f-4ea3-9e99-809a704e7633"
      },
      "source": [
        "\n",
        "# 取最大 \n",
        "# np.argmax(newdf,axis=1)\n",
        "\n",
        "\n",
        "## 取topn最大值的位置 (為了直接映射colname, 而colname即是類別)\n",
        "\n",
        "## n=0~2\n",
        "n=0\n",
        "(-naive_pred_df.values).argsort(axis=1)[:,n]"
      ],
      "execution_count": 22,
      "outputs": [
        {
          "output_type": "execute_result",
          "data": {
            "text/plain": [
              "array([ 1, 42, 48, ..., 35, 39, 14])"
            ]
          },
          "metadata": {},
          "execution_count": 22
        }
      ]
    },
    {
      "cell_type": "code",
      "metadata": {
        "id": "lmDWdAlQSsZC"
      },
      "source": [
        "# 直接把位子映射colname,colname即是類別\n",
        "top1 = [list(naive_pred_df.columns)[x] for x in (-naive_pred_df.values).argsort(axis=1)[:,0]]\n",
        "top2 = [list(naive_pred_df.columns)[x] for x in (-naive_pred_df.values).argsort(axis=1)[:,1]]\n",
        "top3 = [list(naive_pred_df.columns)[x] for x in (-naive_pred_df.values).argsort(axis=1)[:,2]]"
      ],
      "execution_count": null,
      "outputs": []
    },
    {
      "cell_type": "code",
      "metadata": {
        "id": "p8Bsc8egYjVH"
      },
      "source": [
        "top_df = pd.DataFrame({'chid':newdf.index, 'top1':top1, 'top2':top2, 'top3':top3})\n",
        "top_df['chid'] = top_df['chid'].astype(int)"
      ],
      "execution_count": null,
      "outputs": []
    },
    {
      "cell_type": "code",
      "metadata": {
        "id": "5slnfTtW2osB"
      },
      "source": [
        "## 不再預測範圍的排掉\n",
        "## 37 15 36為先驗top3最多的消費類別\n",
        "\n",
        "top_df['top1'] = np.where(top_df['top1'].isin(pred_list), top_df['top1'], np.nan)\n",
        "top_df['top2'] = np.where(top_df['top2'].isin(pred_list), top_df['top2'], np.nan)\n",
        "top_df['top3'] = np.where(top_df['top3'].isin(pred_list), top_df['top3'], np.nan)"
      ],
      "execution_count": null,
      "outputs": []
    },
    {
      "cell_type": "code",
      "metadata": {
        "id": "xaNQs9B1ynW9"
      },
      "source": [
        "top_df = top_df.fillna('37')\n",
        "top_df.to_csv('submit2.csv', index=False)"
      ],
      "execution_count": null,
      "outputs": []
    }
  ]
}