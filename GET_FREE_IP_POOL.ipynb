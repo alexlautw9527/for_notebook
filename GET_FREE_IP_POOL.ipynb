{
  "nbformat": 4,
  "nbformat_minor": 0,
  "metadata": {
    "colab": {
      "name": "GET_FREE_IP_POOL.ipynb",
      "provenance": [],
      "collapsed_sections": [],
      "mount_file_id": "1hgFrDF44qfSNeA4dh7fyZx9ujZ7RnCfG",
      "authorship_tag": "ABX9TyMy8Am3LFGPVuX8qcvwFvJP",
      "include_colab_link": true
    },
    "kernelspec": {
      "name": "python3",
      "display_name": "Python 3"
    },
    "language_info": {
      "name": "python"
    }
  },
  "cells": [
    {
      "cell_type": "markdown",
      "metadata": {
        "id": "view-in-github",
        "colab_type": "text"
      },
      "source": [
        "<a href=\"https://colab.research.google.com/github/alexlautw9527/for_notebook/blob/main/GET_FREE_IP_POOL.ipynb\" target=\"_parent\"><img src=\"https://colab.research.google.com/assets/colab-badge.svg\" alt=\"Open In Colab\"/></a>"
      ]
    },
    {
      "cell_type": "code",
      "metadata": {
        "id": "VqE7AOfXsbgx"
      },
      "source": [
        "%%capture\n",
        "!apt-get update\n",
        "!apt install chromium-chromedriver\n",
        "!pip install selenium\n"
      ],
      "execution_count": null,
      "outputs": []
    },
    {
      "cell_type": "code",
      "metadata": {
        "id": "ZIWoIqrk-OU7"
      },
      "source": [
        "import requests\n",
        "from bs4 import BeautifulSoup\n",
        "from selenium import webdriver\n",
        "import pandas as pd\n",
        "import re\n",
        "import random\n",
        "import time"
      ],
      "execution_count": null,
      "outputs": []
    },
    {
      "cell_type": "code",
      "metadata": {
        "id": "hM9r9ROGsho_"
      },
      "source": [
        "options = webdriver.ChromeOptions()\n",
        "options.add_argument('--headless')\n",
        "options.add_argument('--no-sandbox')\n",
        "options.add_argument('--disable-dev-shm-usage')\n",
        "options.add_argument(\"--disable-notifications\")\n",
        "options.add_experimental_option('excludeSwitches', ['enable-automation']) \n"
      ],
      "execution_count": null,
      "outputs": []
    },
    {
      "cell_type": "code",
      "metadata": {
        "id": "4Gb_w0Z7NeLt"
      },
      "source": [
        "#https://free-proxy-list.net/\n",
        "\n",
        "## alternative "
      ],
      "execution_count": null,
      "outputs": []
    },
    {
      "cell_type": "code",
      "metadata": {
        "id": "8RiAXI_MslUt"
      },
      "source": [
        "IPPool_CN = []\n",
        "for i in range(1,7):\n",
        "    # 用迴圈逐一打開分頁\n",
        "    driver = webdriver.Chrome(options=options)\n",
        "    url = 'http://free-proxy.cz/zh/proxylist/country/CN/all/ping/all/{}'.format(i)\n",
        "    print('Dealing with {}'.format(url))\n",
        "    driver.get(url)\n",
        "    soup = BeautifulSoup(driver.page_source)\n",
        "    for j in soup.select('tbody > tr'):\n",
        "        # 用正則表達式抓取IP\n",
        "        if re.findall('[0-9]{1,3}\\.[0-9]{1,3}\\.[0-9]{1,3}\\.[0-9]{1,3}', str(j)):\n",
        "            IP = re.findall('[0-9]{1,3}\\.[0-9]{1,3}\\.[0-9]{1,3}\\.[0-9]{1,3}', str(j))[0]\n",
        "            Port = re.findall('class=\"fport\" style=\"\">(.*?)</span>', str(j))[0]\n",
        "            IPPool_CN.append(pd.DataFrame([{'IP':IP, 'Port':Port}]))\n",
        "    print('There are {} IPs in Pool'.format(len(IPPool_CN)))\n",
        "    driver.quit()\n",
        "\n",
        "IPPool_US = []\n",
        "for i in range(1,7):\n",
        "    # 用迴圈逐一打開分頁\n",
        "    driver = webdriver.Chrome(options=options)\n",
        "    url = 'http://free-proxy.cz/zh/proxylist/country/US/all/ping/all/{}'.format(i)\n",
        "    print('Dealing with {}'.format(url))\n",
        "    driver.get(url)\n",
        "    soup = BeautifulSoup(driver.page_source)\n",
        "    for j in soup.select('tbody > tr'):\n",
        "        # 用正則表達式抓取IP\n",
        "        if re.findall('[0-9]{1,3}\\.[0-9]{1,3}\\.[0-9]{1,3}\\.[0-9]{1,3}', str(j)):\n",
        "            IP = re.findall('[0-9]{1,3}\\.[0-9]{1,3}\\.[0-9]{1,3}\\.[0-9]{1,3}', str(j))[0]\n",
        "            Port = re.findall('class=\"fport\" style=\"\">(.*?)</span>', str(j))[0]\n",
        "            IPPool_US.append(pd.DataFrame([{'IP':IP, 'Port':Port}]))\n",
        "    print('There are {} IPs in Pool'.format(len(IPPool_US)))\n",
        "    driver.quit()\n",
        "\n",
        "IPPool_BR = []\n",
        "for i in range(1,7):\n",
        "    # 用迴圈逐一打開分頁\n",
        "    driver = webdriver.Chrome(options=options)\n",
        "    url = 'http://free-proxy.cz/zh/proxylist/country/BR/all/ping/all/{}'.format(i)\n",
        "    print('Dealing with {}'.format(url))\n",
        "    driver.get(url)\n",
        "    soup = BeautifulSoup(driver.page_source)\n",
        "    for j in soup.select('tbody > tr'):\n",
        "        # 用正則表達式抓取IP\n",
        "        if re.findall('[0-9]{1,3}\\.[0-9]{1,3}\\.[0-9]{1,3}\\.[0-9]{1,3}', str(j)):\n",
        "            IP = re.findall('[0-9]{1,3}\\.[0-9]{1,3}\\.[0-9]{1,3}\\.[0-9]{1,3}', str(j))[0]\n",
        "            Port = re.findall('class=\"fport\" style=\"\">(.*?)</span>', str(j))[0]\n",
        "            IPPool_BR.append(pd.DataFrame([{'IP':IP, 'Port':Port}]))\n",
        "    print('There are {} IPs in Pool'.format(len(IPPool_BR)))\n",
        "    driver.quit()"
      ],
      "execution_count": null,
      "outputs": []
    },
    {
      "cell_type": "code",
      "metadata": {
        "id": "Iu9BaGXu8YK8"
      },
      "source": [
        "IPPool_US = pd.concat(IPPool_US, ignore_index=True)\n",
        "IPPool_CN = pd.concat(IPPool_CN, ignore_index=True)\n",
        "IPPool_BR = pd.concat(IPPool_BR, ignore_index=True)"
      ],
      "execution_count": null,
      "outputs": []
    },
    {
      "cell_type": "code",
      "metadata": {
        "id": "D67IJ9vX84W-"
      },
      "source": [
        "IPPool = pd.concat([IPPool_CN, IPPool_US, IPPool_BR], ignore_index=True)"
      ],
      "execution_count": null,
      "outputs": []
    },
    {
      "cell_type": "code",
      "metadata": {
        "id": "kVl6W-A1ssCT"
      },
      "source": [
        "ActIps = []\n",
        "for IP, Port in zip(IPPool['IP'],IPPool['Port']):\n",
        "    proxy = {'http':'http://'+ IP + ':' + Port,\n",
        "              'https':'https://'+ IP + ':' + Port} \n",
        "    try:\n",
        "        # 隨機找的一篇新聞即可\n",
        "        url = 'https://www.map.com.tw'\n",
        "        resp = requests.get(url, proxies=proxy, timeout=5)\n",
        "        if str(resp.status_code) == '200':\n",
        "            ActIps.append(pd.DataFrame([{'IP':IP, 'Port':Port}]))\n",
        "            print('Succed: {}:{}'.format(IP, Port))\n",
        "        else:\n",
        "            print('Failed: {}:{}'.format(IP, Port))\n",
        "    except:\n",
        "            print('Failed: {}:{}'.format(IP, Port))\n",
        "ActIps = pd.concat(ActIps, ignore_index=True)"
      ],
      "execution_count": null,
      "outputs": []
    },
    {
      "cell_type": "code",
      "metadata": {
        "id": "XrgzXTqUtdm8"
      },
      "source": [
        "len(IPPool)"
      ],
      "execution_count": null,
      "outputs": []
    },
    {
      "cell_type": "code",
      "metadata": {
        "id": "-X3ZV_H3qU6K"
      },
      "source": [
        "ActIps.to_csv('proxy_ip_pool.csv', index=False)"
      ],
      "execution_count": null,
      "outputs": []
    },
    {
      "cell_type": "code",
      "metadata": {
        "id": "7Y0nRVhNQ3dm"
      },
      "source": [
        "!cp proxy_ip_pool.csv /content/drive/MyDrive"
      ],
      "execution_count": null,
      "outputs": []
    },
    {
      "cell_type": "code",
      "metadata": {
        "id": "OzW2snMnlH_5"
      },
      "source": [
        ""
      ],
      "execution_count": null,
      "outputs": []
    }
  ]
}