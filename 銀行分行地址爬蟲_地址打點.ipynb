{
  "nbformat": 4,
  "nbformat_minor": 0,
  "metadata": {
    "colab": {
      "name": "銀行分行地址爬蟲_地址打點.ipynb",
      "provenance": [],
      "collapsed_sections": [],
      "mount_file_id": "1Ad49iM8Ebw63XDzvMoKAKakMdjoRXsAf",
      "authorship_tag": "ABX9TyOnF8jveShQJdMHU0SsrCYo",
      "include_colab_link": true
    },
    "kernelspec": {
      "display_name": "Python 3",
      "name": "python3"
    }
  },
  "cells": [
    {
      "cell_type": "markdown",
      "metadata": {
        "id": "view-in-github",
        "colab_type": "text"
      },
      "source": [
        "<a href=\"https://colab.research.google.com/github/alexlautw9527/for_notebook/blob/main/%E9%8A%80%E8%A1%8C%E5%88%86%E8%A1%8C%E5%9C%B0%E5%9D%80%E7%88%AC%E8%9F%B2_%E5%9C%B0%E5%9D%80%E6%89%93%E9%BB%9E.ipynb\" target=\"_parent\"><img src=\"https://colab.research.google.com/assets/colab-badge.svg\" alt=\"Open In Colab\"/></a>"
      ]
    },
    {
      "cell_type": "code",
      "metadata": {
        "id": "HlvgmK2pzJv1"
      },
      "source": [
        "%%capture\n",
        "!apt update\n",
        "!apt install chromium-chromedriver\n",
        "!pip install selenium\n",
        "!pip install fake_useragent"
      ],
      "execution_count": null,
      "outputs": []
    },
    {
      "cell_type": "code",
      "metadata": {
        "id": "PewRX2eOnLWK"
      },
      "source": [
        "import requests\n",
        "from bs4 import BeautifulSoup\n",
        "from fake_useragent import UserAgent\n",
        "\n",
        "import time\n",
        "\n",
        "import numpy as np\n",
        "import pandas as pd\n",
        "import random\n",
        "import os\n"
      ],
      "execution_count": null,
      "outputs": []
    },
    {
      "cell_type": "code",
      "metadata": {
        "id": "gsjzqqm_Tm7H"
      },
      "source": [
        "from selenium import webdriver\n",
        "from selenium.webdriver.chrome.options import DesiredCapabilities\n",
        "from selenium.webdriver.common.proxy import Proxy, ProxyType\n",
        "\n",
        "import time"
      ],
      "execution_count": null,
      "outputs": []
    },
    {
      "cell_type": "code",
      "metadata": {
        "id": "OR1hCFRVGEnv"
      },
      "source": [
        "from selenium import webdriver\n",
        "from selenium.webdriver.chrome.options import Options\n",
        "from selenium.webdriver.common.keys import Keys\n",
        "from selenium.common.exceptions import TimeoutException\n",
        "from selenium.webdriver.support.ui import WebDriverWait\n",
        "from selenium.webdriver.support import expected_conditions as EC\n",
        "from selenium.webdriver.common.by import By\n",
        "from selenium import webdriver"
      ],
      "execution_count": null,
      "outputs": []
    },
    {
      "cell_type": "code",
      "metadata": {
        "id": "z_aUhRzq_1j8"
      },
      "source": [
        "from selenium import webdriver\n",
        "from selenium.webdriver.support.ui import Select"
      ],
      "execution_count": null,
      "outputs": []
    },
    {
      "cell_type": "code",
      "metadata": {
        "colab": {
          "base_uri": "https://localhost:8080/",
          "height": 137
        },
        "id": "c6UPfOXGncRs",
        "outputId": "d4bd57c9-694c-4f28-b027-5523d446d5a9"
      },
      "source": [
        "'''\n",
        "%%time\n",
        "all_list = []\n",
        "for i in range(1,27):\n",
        "  url = 'https://www.taishinbank.com.tw/TSB/service-and-support/branch-finder/?page={}'.format(i)\n",
        "  headers = {'user-agent': 'Mozilla/5.0 (Windows NT 6.1) AppleWebKit/537.36 (KHTML, like Gecko) Chrome/52.0.2743.116 Safari/537.36'}\n",
        "  response = requests.get(url=url, headers=headers)\n",
        "  soup = BeautifulSoup(response.text, 'lxml')\n",
        "\n",
        "  title_list = soup.find_all(\"span\", {\"class\": \"title-detail\"})\n",
        "  detail_list = soup.find_all(\"ul\", {\"class\": \"list-detail-block\"})\n",
        "\n",
        "  for x in enumerate(title_list):\n",
        "    title = x[1].text\n",
        "    brn_list = []\n",
        "    brn_list.append(title)\n",
        "    for x in detail_list[x[0]].find_all(\"li\"):\n",
        "      brn_list.append(x.text)\n",
        "    all_list.append(brn_list)\n",
        "  time.sleep(3)\n",
        "\n",
        "brn_df = pd.DataFrame(np.array(all_list),columns=['brn','addr','tel','cd','ins_box'])\n",
        "brn_df[\"cd\"] = brn_df[\"cd\"].str.replace(\"分行代碼：\",\"\")\n",
        "brn_df['country'] = brn_df['addr'].apply(lambda x: x[0:3])\n",
        "'''"
      ],
      "execution_count": null,
      "outputs": [
        {
          "output_type": "execute_result",
          "data": {
            "application/vnd.google.colaboratory.intrinsic+json": {
              "type": "string"
            },
            "text/plain": [
              "'\\n%%time\\nall_list = []\\nfor i in range(1,27):\\n  url = \\'https://www.taishinbank.com.tw/TSB/service-and-support/branch-finder/?page={}\\'.format(i)\\n  headers = {\\'user-agent\\': \\'Mozilla/5.0 (Windows NT 6.1) AppleWebKit/537.36 (KHTML, like Gecko) Chrome/52.0.2743.116 Safari/537.36\\'}\\n  response = requests.get(url=url, headers=headers)\\n  soup = BeautifulSoup(response.text, \\'lxml\\')\\n\\n  title_list = soup.find_all(\"span\", {\"class\": \"title-detail\"})\\n  detail_list = soup.find_all(\"ul\", {\"class\": \"list-detail-block\"})\\n\\n  for x in enumerate(title_list):\\n    title = x[1].text\\n    brn_list = []\\n    brn_list.append(title)\\n    for x in detail_list[x[0]].find_all(\"li\"):\\n      brn_list.append(x.text)\\n    all_list.append(brn_list)\\n  time.sleep(3)\\n\\nbrn_df = pd.DataFrame(np.array(all_list),columns=[\\'brn\\',\\'addr\\',\\'tel\\',\\'cd\\',\\'ins_box\\'])\\nbrn_df[\"cd\"] = brn_df[\"cd\"].str.replace(\"分行代碼：\",\"\")\\nbrn_df[\\'country\\'] = brn_df[\\'addr\\'].apply(lambda x: x[0:3])\\n'"
            ]
          },
          "metadata": {
            "tags": []
          },
          "execution_count": 6
        }
      ]
    },
    {
      "cell_type": "code",
      "metadata": {
        "id": "JjTEIOMFVbB0",
        "colab": {
          "base_uri": "https://localhost:8080/",
          "height": 35
        },
        "outputId": "5a4753f6-3b1b-4502-c304-daa0942ef805"
      },
      "source": [
        "\"\"\"\n",
        "brn_df.to_csv('taishin_brn.csv',index = False)\n",
        "!cp taishin_brn.csv /content/drive/MyDrive\n",
        "\"\"\""
      ],
      "execution_count": null,
      "outputs": [
        {
          "output_type": "execute_result",
          "data": {
            "application/vnd.google.colaboratory.intrinsic+json": {
              "type": "string"
            },
            "text/plain": [
              "\"\\nbrn_df.to_csv('taishin_brn.csv',index = False)\\n!cp taishin_brn.csv /content/drive/MyDrive\\n\""
            ]
          },
          "metadata": {
            "tags": []
          },
          "execution_count": 7
        }
      ]
    },
    {
      "cell_type": "code",
      "metadata": {
        "id": "U5AmhyVY_ayZ"
      },
      "source": [
        "brn_df = pd.read_csv('/content/drive/MyDrive/taishin_brn.csv')"
      ],
      "execution_count": null,
      "outputs": []
    },
    {
      "cell_type": "code",
      "metadata": {
        "id": "qx7g8LI9s3zv"
      },
      "source": [
        "proxy_pool = pd.read_csv('/content/drive/MyDrive/proxy_ip_pool.csv')"
      ],
      "execution_count": null,
      "outputs": []
    },
    {
      "cell_type": "code",
      "metadata": {
        "id": "oQq0so18tSw-"
      },
      "source": [
        "#ip_pool_args = ['--proxy-server=http://{ip}:{port}'.format(ip=x[0], port=x[1]) for x in list(zip(proxy_pool['IP'], proxy_pool['Port']))]"
      ],
      "execution_count": null,
      "outputs": []
    },
    {
      "cell_type": "code",
      "metadata": {
        "id": "kXCaFpMV2Ng-"
      },
      "source": [
        "#ua = UserAgent()\n",
        "#user_agent = ua.random\n",
        "#options.add_argument(\"user-agent={}\".format(user_agent))"
      ],
      "execution_count": null,
      "outputs": []
    },
    {
      "cell_type": "code",
      "metadata": {
        "id": "gI6o73R3umfa"
      },
      "source": [
        "co = webdriver.ChromeOptions()\n",
        "co.add_argument(\"--headless\")\n",
        "co.add_argument('--no-sandbox')\n",
        "co.add_argument('--headless')\n",
        "co.add_argument('--disable-dev-shm-usage')\n",
        "co.add_argument('--disable-browser-side-navigation')\n",
        "co.add_experimental_option('excludeSwitches', ['enable-automation']) \n"
      ],
      "execution_count": null,
      "outputs": []
    },
    {
      "cell_type": "code",
      "metadata": {
        "id": "hdRTQ4b1xGR0"
      },
      "source": [
        "def get_coordinate():\n",
        "    addr=addr_list[-1]\n",
        "    prxy_drv.implicitly_wait(10) # seconds\n",
        "    prxy_drv.get(\"http://www.map.com.tw/\")\n",
        "    \n",
        "    try:\n",
        "      element = WebDriverWait(prxy_drv, 10).until(\n",
        "          EC.presence_of_element_located((By.ID, \"searchWord\"))\n",
        "            )\n",
        "    \n",
        "    except Exception as e:\n",
        "      print(e)\n",
        "      prxy_drv.quit()\n",
        "\n",
        "    search = prxy_drv.find_element_by_id(\"searchWord\")\n",
        "    search.clear()\n",
        "    print('成功進入')\n",
        "\n",
        "    ## 輸入地址\n",
        "    search.send_keys(addr)\n",
        "    time.sleep(float(np.random.uniform(low=0.8, high=1, size=(1))))\n",
        "    prxy_drv.find_element_by_xpath(\"/html/body/form/div[10]/div[2]/img[2]\").click() \n",
        "    time.sleep(float(np.random.uniform(low=3, high=7, size=(1))))\n",
        "\n",
        "    ## 更新點\n",
        "    ## 這網頁有多個iframe, 要switch到資訊所在iframe\n",
        "    iframe = prxy_drv.find_elements_by_class_name(\"winfoIframe\")[0]\n",
        "    prxy_drv.switch_to.frame(iframe)\n",
        "    coor_btn = prxy_drv.find_element_by_xpath(\"/html/body/form/div[4]/table/tbody/tr[3]/td/table/tbody/tr/td[2]\")\n",
        "    coor_btn.click()\n",
        "\n",
        "    ## 座標元素\n",
        "    coor = prxy_drv.find_element_by_xpath(\"/html/body/form/div[5]/table/tbody/tr[2]/td\")\n",
        "    coor = coor.text.strip().split(\" \")\n",
        "    lat = coor[-1].split(\"：\")[-1]\n",
        "    log = coor[0].split(\"：\")[-1]\n",
        "    print('地址',addr, '點位爬取成功')\n",
        "    res = (addr, lat, log)\n",
        "    addr_list.pop()\n",
        "    return res"
      ],
      "execution_count": null,
      "outputs": []
    },
    {
      "cell_type": "code",
      "metadata": {
        "id": "m4sa_e55UwfY"
      },
      "source": [
        "def get_proxies(co=co):\n",
        "    driver = webdriver.Chrome(executable_path='chromedriver',options=co)\n",
        "    driver.get(\"https://free-proxy-list.net/\")\n",
        "\n",
        "    PROXIES = []\n",
        "    proxies = driver.find_elements_by_css_selector(\"tr[role='row']\")\n",
        "    for p in proxies:\n",
        "        result = p.text.split(\" \")\n",
        "\n",
        "        if result[-1] == \"yes\":\n",
        "            PROXIES.append(result[0]+\":\"+result[1])\n",
        "\n",
        "    driver.close()\n",
        "    return PROXIES\n",
        "\n",
        "def proxy_driver(PROXIES, co=co):\n",
        "    prox = Proxy()\n",
        "\n",
        "    if len(PROXIES) < 1:\n",
        "        print(\"--- Proxies used up (%s)\" % len(PROXIES))\n",
        "        PROXIES = get_proxies()\n",
        "        \n",
        "    pxy = PROXIES[-1]\n",
        "\n",
        "    prox.proxy_type = ProxyType.MANUAL\n",
        "    prox.http_proxy = pxy\n",
        "    #prox.socks_proxy = pxy\n",
        "    #prox.ssl_proxy = pxy\n",
        "\n",
        "    capabilities = webdriver.DesiredCapabilities.CHROME\n",
        "    prox.add_to_capabilities(capabilities)\n",
        "\n",
        "    driver = webdriver.Chrome(options=co, desired_capabilities=capabilities)\n",
        "\n",
        "    return driver"
      ],
      "execution_count": null,
      "outputs": []
    },
    {
      "cell_type": "code",
      "metadata": {
        "id": "qhSBy9uNh14X"
      },
      "source": [
        "#ALL_PROXIES = get_proxies()"
      ],
      "execution_count": null,
      "outputs": []
    },
    {
      "cell_type": "code",
      "metadata": {
        "id": "D-Dd9gQijh19"
      },
      "source": [
        "ALL_PROXIES = ['{ip}:{port}'.format(ip=x[0], port=x[1]) for x in list(zip(proxy_pool['IP'], proxy_pool['Port']))]"
      ],
      "execution_count": null,
      "outputs": []
    },
    {
      "cell_type": "code",
      "metadata": {
        "id": "GZhbeZDIBoTM"
      },
      "source": [
        "##https://zhuanlan.zhihu.com/p/61536685"
      ],
      "execution_count": null,
      "outputs": []
    },
    {
      "cell_type": "code",
      "metadata": {
        "id": "Na_IhTwTPBxc"
      },
      "source": [
        "prxy_drv = proxy_driver(ALL_PROXIES)\n",
        "running = True\n",
        "addr_list = list(brn_df['addr'])"
      ],
      "execution_count": null,
      "outputs": []
    },
    {
      "cell_type": "code",
      "metadata": {
        "id": "XK1oYKUmnFjP"
      },
      "source": [
        "xy_list = []"
      ],
      "execution_count": null,
      "outputs": []
    },
    {
      "cell_type": "code",
      "metadata": {
        "colab": {
          "base_uri": "https://localhost:8080/"
        },
        "id": "zGta8NSRUaHL",
        "outputId": "ec18638c-d51a-493d-9a77-1f4f5a8ddf90"
      },
      "source": [
        "while running:\n",
        "    try:\n",
        "        addr=addr_list[-1]\n",
        "        prxy_drv.implicitly_wait(10) # seconds\n",
        "        prxy_drv.get(\"http://www.map.com.tw/\")\n",
        "        \n",
        "        try:\n",
        "          element = WebDriverWait(prxy_drv, 10).until(\n",
        "              EC.presence_of_element_located((By.ID, \"searchWord\"))\n",
        "                )\n",
        "        \n",
        "        except Exception as e:\n",
        "          print(e)\n",
        "          prxy_drv.quit()\n",
        "\n",
        "        search = prxy_drv.find_element_by_id(\"searchWord\")\n",
        "        search.clear()\n",
        "        print('成功進入')\n",
        "\n",
        "        ## 輸入地址\n",
        "        search.send_keys(addr)\n",
        "        time.sleep(float(np.random.uniform(low=0.8, high=1, size=(1))))\n",
        "        prxy_drv.find_element_by_xpath(\"/html/body/form/div[10]/div[2]/img[2]\").click() \n",
        "        time.sleep(float(np.random.uniform(low=3, high=7, size=(1))))\n",
        "\n",
        "        ## 更新點\n",
        "        ## 這網頁有多個iframe, 要switch到資訊所在iframe\n",
        "        iframe = prxy_drv.find_elements_by_class_name(\"winfoIframe\")[0]\n",
        "        prxy_drv.switch_to.frame(iframe)\n",
        "        coor_btn = prxy_drv.find_element_by_xpath(\"/html/body/form/div[4]/table/tbody/tr[3]/td/table/tbody/tr/td[2]\")\n",
        "        coor_btn.click()\n",
        "\n",
        "        ## 座標元素\n",
        "        coor = prxy_drv.find_element_by_xpath(\"/html/body/form/div[5]/table/tbody/tr[2]/td\")\n",
        "        coor = coor.text.strip().split(\" \")\n",
        "        lat = coor[-1].split(\"：\")[-1]\n",
        "        log = coor[0].split(\"：\")[-1]\n",
        "        print('地址',addr, '點位爬取成功')\n",
        "        res = (addr, lat, log)\n",
        "        addr_list.pop()\n",
        "\n",
        "\n",
        "        xy_list.append(res)\n",
        "        # if statement to terminate loop if code working properly\n",
        "        # you need to modify condition_met\n",
        "        if len(addr_list)==0:\n",
        "            running = False\n",
        "        \n",
        "        # you \n",
        "    except Exception as e:\n",
        "        print(e)\n",
        "        new = ALL_PROXIES.pop()\n",
        "        prxy_drv.quit()\n",
        "        time.sleep(2)\n",
        "        os.system(\"taskkill /im chromedriver.exe\")\n",
        "        # reassign driver if fail to switch proxy\n",
        "        prxy_drv = proxy_driver(ALL_PROXIES)\n",
        "        print(\"--- Switched proxy to: %s\" % new)\n",
        "        time.sleep(1)"
      ],
      "execution_count": null,
      "outputs": [
        {
          "output_type": "stream",
          "text": [
            "WARNING:urllib3.connectionpool:Retrying (Retry(total=2, connect=None, read=None, redirect=None, status=None)) after connection broken by 'NewConnectionError('<urllib3.connection.HTTPConnection object at 0x7fae7a9da450>: Failed to establish a new connection: [Errno 111] Connection refused')': /session/11ef3ff4c4df07c41a3f41d35b7542b8/timeouts\n",
            "WARNING:urllib3.connectionpool:Retrying (Retry(total=1, connect=None, read=None, redirect=None, status=None)) after connection broken by 'NewConnectionError('<urllib3.connection.HTTPConnection object at 0x7fae7a777910>: Failed to establish a new connection: [Errno 111] Connection refused')': /session/11ef3ff4c4df07c41a3f41d35b7542b8/timeouts\n",
            "WARNING:urllib3.connectionpool:Retrying (Retry(total=0, connect=None, read=None, redirect=None, status=None)) after connection broken by 'NewConnectionError('<urllib3.connection.HTTPConnection object at 0x7fae7a777a50>: Failed to establish a new connection: [Errno 111] Connection refused')': /session/11ef3ff4c4df07c41a3f41d35b7542b8/timeouts\n",
            "WARNING:urllib3.connectionpool:Retrying (Retry(total=2, connect=None, read=None, redirect=None, status=None)) after connection broken by 'NewConnectionError('<urllib3.connection.HTTPConnection object at 0x7fae7a96cb50>: Failed to establish a new connection: [Errno 111] Connection refused')': /session/11ef3ff4c4df07c41a3f41d35b7542b8\n",
            "WARNING:urllib3.connectionpool:Retrying (Retry(total=1, connect=None, read=None, redirect=None, status=None)) after connection broken by 'NewConnectionError('<urllib3.connection.HTTPConnection object at 0x7fae7a92eb10>: Failed to establish a new connection: [Errno 111] Connection refused')': /session/11ef3ff4c4df07c41a3f41d35b7542b8\n",
            "WARNING:urllib3.connectionpool:Retrying (Retry(total=0, connect=None, read=None, redirect=None, status=None)) after connection broken by 'NewConnectionError('<urllib3.connection.HTTPConnection object at 0x7fae7a8d0f10>: Failed to establish a new connection: [Errno 111] Connection refused')': /session/11ef3ff4c4df07c41a3f41d35b7542b8\n"
          ],
          "name": "stderr"
        },
        {
          "output_type": "stream",
          "text": [
            "HTTPConnectionPool(host='127.0.0.1', port=58933): Max retries exceeded with url: /session/11ef3ff4c4df07c41a3f41d35b7542b8/timeouts (Caused by NewConnectionError('<urllib3.connection.HTTPConnection object at 0x7fae7a777e10>: Failed to establish a new connection: [Errno 111] Connection refused'))\n",
            "--- Switched proxy to: 3.10.150.118:80\n",
            "Message: unknown error: net::ERR_PROXY_CONNECTION_FAILED\n",
            "  (Session info: headless chrome=91.0.4472.101)\n",
            "\n",
            "--- Switched proxy to: 149.28.96.242:3128\n",
            "成功進入\n",
            "Alert Text: 疑似機器人行為，如有疑問，請聯繫客服 (02)8228-0660\n",
            "Message: unexpected alert open: {Alert text : 疑似機器人行為，如有疑問，請聯繫客服 (02)8228-0660}\n",
            "  (Session info: headless chrome=91.0.4472.101)\n",
            "\n",
            "--- Switched proxy to: 152.179.12.86:3128\n",
            "成功進入\n",
            "地址 台北市大安區和平東路一段238號 點位爬取成功\n",
            "成功進入\n",
            "地址 台中市太平區宜昌路511號 點位爬取成功\n",
            "成功進入\n",
            "地址 台北市松山區三民路88號 點位爬取成功\n",
            "成功進入\n",
            "地址 台北市中山區南京東路二段150號 點位爬取成功\n",
            "成功進入\n",
            "地址 台北市中正區羅斯福路三段28號 點位爬取成功\n",
            "成功進入\n",
            "地址 高雄市鳳山區中山西路105號 點位爬取成功\n",
            "成功進入\n",
            "地址 高雄市鳳山區五甲二路734號 點位爬取成功\n",
            "成功進入\n",
            "地址 彰化縣彰化市中正路一段273號 點位爬取成功\n",
            "成功進入\n",
            "地址 台南市安南區海佃路一段130號 點位爬取成功\n",
            "成功進入\n",
            "地址 台南市東區裕農路520號 點位爬取成功\n",
            "成功進入\n",
            "地址 台南市南區金華路二段195號 點位爬取成功\n",
            "成功進入\n",
            "地址 台南市東區崇德路260號 點位爬取成功\n",
            "成功進入\n",
            "地址 桃園市龍潭區中正路176號 點位爬取成功\n",
            "成功進入\n",
            "地址 台北市大安區信義路三段118號 點位爬取成功\n",
            "成功進入\n",
            "地址 屏東縣屏東市廣東路103號 點位爬取成功\n",
            "成功進入\n",
            "地址 台南市中西區永福路二段150號 點位爬取成功\n",
            "成功進入\n",
            "地址 新北市三重區正義北路116號 點位爬取成功\n",
            "成功進入\n",
            "地址 台中市北屯區崇德路二段55號 點位爬取成功\n",
            "成功進入\n",
            "地址 台北市信義區松高路1號 點位爬取成功\n",
            "成功進入\n",
            "地址 高雄市新興區七賢一路386號 點位爬取成功\n",
            "成功進入\n",
            "地址 新竹市北區東大路二段83號 點位爬取成功\n",
            "成功進入\n",
            "地址 花蓮縣花蓮市中山路408-9號 點位爬取成功\n",
            "成功進入\n",
            "地址 台中市豐原區圓環東路368號 點位爬取成功\n",
            "成功進入\n",
            "地址 嘉義市西區垂楊路620號 點位爬取成功\n",
            "成功進入\n",
            "地址 新北市永和區中和路341號 點位爬取成功\n",
            "成功進入\n",
            "地址 台北市中山區建國北路二段17號2樓、6樓 點位爬取成功\n",
            "成功進入\n",
            "地址 台中市大里區中興路二段127號 點位爬取成功\n",
            "成功進入\n",
            "地址 台北市士林區中山北路六段88號 點位爬取成功\n",
            "成功進入\n",
            "地址 新北市蘆洲區長榮路197號 點位爬取成功\n",
            "成功進入\n",
            "地址 高雄市前鎮區中山二路260號 點位爬取成功\n",
            "成功進入\n",
            "地址 台北市中山區建國北路二段17號2樓、6樓 點位爬取成功\n",
            "成功進入\n",
            "地址 台北市大安區仁愛路4段118號 點位爬取成功\n",
            "成功進入\n",
            "地址 桃園市中壢區延平路366號 點位爬取成功\n",
            "成功進入\n",
            "地址 台北市松山區南京東路三段289號 點位爬取成功\n",
            "成功進入\n",
            "地址 台南市中西區西門路二段389號 點位爬取成功\n",
            "成功進入\n",
            "地址 高雄市鼓山區明誠四路10號 點位爬取成功\n",
            "成功進入\n",
            "地址 新北市板橋區中正路176號 點位爬取成功\n",
            "成功進入\n",
            "地址 台中市西區台灣大道2段416號 點位爬取成功\n",
            "成功進入\n",
            "地址 桃園市桃園區復興路205號 點位爬取成功\n",
            "成功進入\n",
            "地址 新北市新莊區中華路二段75號 點位爬取成功\n",
            "成功進入\n",
            "地址 台北市中正區新生南路一段62號 點位爬取成功\n",
            "成功進入\n",
            "地址 台北市大安區仁愛路4段118號 點位爬取成功\n",
            "成功進入\n",
            "地址 台北市中山區中山北路二段44號 點位爬取成功\n"
          ],
          "name": "stdout"
        }
      ]
    },
    {
      "cell_type": "code",
      "metadata": {
        "id": "JEQ2o6OrkZun"
      },
      "source": [
        "xy_df = pd.DataFrame(xy_list,columns = ['addr','lat','lon'])"
      ],
      "execution_count": null,
      "outputs": []
    },
    {
      "cell_type": "code",
      "metadata": {
        "id": "dytm-Mj7DARc"
      },
      "source": [
        "xy_df.to_csv('brn_xy_df.csv',index = False)"
      ],
      "execution_count": null,
      "outputs": []
    },
    {
      "cell_type": "code",
      "metadata": {
        "id": "IB1h437iDSzT"
      },
      "source": [
        "#!cp brn_xy_df.csv /content/drive/MyDrive"
      ],
      "execution_count": null,
      "outputs": []
    },
    {
      "cell_type": "code",
      "metadata": {
        "id": "GqgjXmzzDZ80"
      },
      "source": [
        ""
      ],
      "execution_count": null,
      "outputs": []
    }
  ]
}