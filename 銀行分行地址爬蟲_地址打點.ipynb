{
  "nbformat": 4,
  "nbformat_minor": 0,
  "metadata": {
    "colab": {
      "name": "銀行分行地址爬蟲_地址打點.ipynb",
      "provenance": [],
      "collapsed_sections": [],
      "mount_file_id": "1Ad49iM8Ebw63XDzvMoKAKakMdjoRXsAf",
      "authorship_tag": "ABX9TyOTMbQgjwjMIanHUPFGkwUl",
      "include_colab_link": true
    },
    "kernelspec": {
      "display_name": "Python 3",
      "name": "python3"
    }
  },
  "cells": [
    {
      "cell_type": "markdown",
      "metadata": {
        "id": "view-in-github",
        "colab_type": "text"
      },
      "source": [
        "<a href=\"https://colab.research.google.com/github/alexlautw9527/for_notebook/blob/main/%E9%8A%80%E8%A1%8C%E5%88%86%E8%A1%8C%E5%9C%B0%E5%9D%80%E7%88%AC%E8%9F%B2_%E5%9C%B0%E5%9D%80%E6%89%93%E9%BB%9E.ipynb\" target=\"_parent\"><img src=\"https://colab.research.google.com/assets/colab-badge.svg\" alt=\"Open In Colab\"/></a>"
      ]
    },
    {
      "cell_type": "code",
      "metadata": {
        "id": "HlvgmK2pzJv1"
      },
      "source": [
        "%%capture\n",
        "!apt update\n",
        "!apt install chromium-chromedriver\n",
        "!pip install selenium\n",
        "!pip install fake_useragent"
      ],
      "execution_count": null,
      "outputs": []
    },
    {
      "cell_type": "code",
      "metadata": {
        "id": "PewRX2eOnLWK"
      },
      "source": [
        "import requests\n",
        "from bs4 import BeautifulSoup\n",
        "from fake_useragent import UserAgent\n",
        "\n",
        "import time\n",
        "\n",
        "import numpy as np\n",
        "import pandas as pd\n",
        "import random\n",
        "import os\n"
      ],
      "execution_count": null,
      "outputs": []
    },
    {
      "cell_type": "code",
      "metadata": {
        "id": "gsjzqqm_Tm7H"
      },
      "source": [
        "from selenium import webdriver\n",
        "from selenium.webdriver.chrome.options import DesiredCapabilities\n",
        "from selenium.webdriver.common.proxy import Proxy, ProxyType\n",
        "\n",
        "import time"
      ],
      "execution_count": null,
      "outputs": []
    },
    {
      "cell_type": "code",
      "metadata": {
        "id": "OR1hCFRVGEnv"
      },
      "source": [
        "from selenium import webdriver\n",
        "from selenium.webdriver.chrome.options import Options\n",
        "from selenium.webdriver.common.keys import Keys\n",
        "from selenium.common.exceptions import TimeoutException\n",
        "from selenium.webdriver.support.ui import WebDriverWait\n",
        "from selenium.webdriver.support import expected_conditions as EC\n",
        "from selenium.webdriver.common.by import By\n",
        "from selenium import webdriver"
      ],
      "execution_count": null,
      "outputs": []
    },
    {
      "cell_type": "code",
      "metadata": {
        "id": "z_aUhRzq_1j8"
      },
      "source": [
        "from selenium import webdriver\n",
        "from selenium.webdriver.support.ui import Select"
      ],
      "execution_count": null,
      "outputs": []
    },
    {
      "cell_type": "code",
      "metadata": {
        "id": "c6UPfOXGncRs"
      },
      "source": [
        "'''\n",
        "%%time\n",
        "all_list = []\n",
        "for i in range(1,27):\n",
        "  url = 'https://www.taishinbank.com.tw/TSB/service-and-support/branch-finder/?page={}'.format(i)\n",
        "  headers = {'user-agent': 'Mozilla/5.0 (Windows NT 6.1) AppleWebKit/537.36 (KHTML, like Gecko) Chrome/52.0.2743.116 Safari/537.36'}\n",
        "  response = requests.get(url=url, headers=headers)\n",
        "  soup = BeautifulSoup(response.text, 'lxml')\n",
        "\n",
        "  title_list = soup.find_all(\"span\", {\"class\": \"title-detail\"})\n",
        "  detail_list = soup.find_all(\"ul\", {\"class\": \"list-detail-block\"})\n",
        "\n",
        "  for x in enumerate(title_list):\n",
        "    title = x[1].text\n",
        "    brn_list = []\n",
        "    brn_list.append(title)\n",
        "    for x in detail_list[x[0]].find_all(\"li\"):\n",
        "      brn_list.append(x.text)\n",
        "    all_list.append(brn_list)\n",
        "  time.sleep(3)\n",
        "\n",
        "brn_df = pd.DataFrame(np.array(all_list),columns=['brn','addr','tel','cd','ins_box'])\n",
        "brn_df[\"cd\"] = brn_df[\"cd\"].str.replace(\"分行代碼：\",\"\")\n",
        "brn_df['country'] = brn_df['addr'].apply(lambda x: x[0:3])\n",
        "'''"
      ],
      "execution_count": null,
      "outputs": []
    },
    {
      "cell_type": "code",
      "metadata": {
        "id": "JjTEIOMFVbB0"
      },
      "source": [
        "\"\"\"\n",
        "brn_df.to_csv('taishin_brn.csv',index = False)\n",
        "!cp taishin_brn.csv /content/drive/MyDrive\n",
        "\"\"\""
      ],
      "execution_count": null,
      "outputs": []
    },
    {
      "cell_type": "code",
      "metadata": {
        "id": "U5AmhyVY_ayZ"
      },
      "source": [
        "brn_df = pd.read_csv('/content/drive/MyDrive/taishin_brn.csv')"
      ],
      "execution_count": null,
      "outputs": []
    },
    {
      "cell_type": "code",
      "metadata": {
        "id": "qx7g8LI9s3zv"
      },
      "source": [
        "proxy_pool = pd.read_csv('/content/drive/MyDrive/proxy_ip_pool.csv')"
      ],
      "execution_count": null,
      "outputs": []
    },
    {
      "cell_type": "code",
      "metadata": {
        "id": "oQq0so18tSw-"
      },
      "source": [
        "#ip_pool_args = ['--proxy-server=http://{ip}:{port}'.format(ip=x[0], port=x[1]) for x in list(zip(proxy_pool['IP'], proxy_pool['Port']))]"
      ],
      "execution_count": null,
      "outputs": []
    },
    {
      "cell_type": "code",
      "metadata": {
        "id": "kXCaFpMV2Ng-"
      },
      "source": [
        "#ua = UserAgent()\n",
        "#user_agent = ua.random\n",
        "#options.add_argument(\"user-agent={}\".format(user_agent))"
      ],
      "execution_count": null,
      "outputs": []
    },
    {
      "cell_type": "code",
      "metadata": {
        "id": "gI6o73R3umfa"
      },
      "source": [
        "co = webdriver.ChromeOptions()\n",
        "co.add_argument(\"--headless\")\n",
        "co.add_argument('--no-sandbox')\n",
        "co.add_argument('--headless')\n",
        "co.add_argument('--disable-dev-shm-usage')\n",
        "co.add_argument('--disable-browser-side-navigation')\n",
        "co.add_experimental_option('excludeSwitches', ['enable-automation']) \n"
      ],
      "execution_count": null,
      "outputs": []
    },
    {
      "cell_type": "code",
      "metadata": {
        "id": "hdRTQ4b1xGR0"
      },
      "source": [
        "def get_coordinate():\n",
        "    addr=addr_list[-1]\n",
        "    prxy_drv.implicitly_wait(10) # seconds\n",
        "    prxy_drv.get(\"http://www.map.com.tw/\")\n",
        "    \n",
        "    try:\n",
        "      element = WebDriverWait(prxy_drv, 10).until(\n",
        "          EC.presence_of_element_located((By.ID, \"searchWord\"))\n",
        "            )\n",
        "    \n",
        "    except Exception as e:\n",
        "      print(e)\n",
        "      prxy_drv.quit()\n",
        "\n",
        "    search = prxy_drv.find_element_by_id(\"searchWord\")\n",
        "    search.clear()\n",
        "    print('成功進入')\n",
        "\n",
        "    ## 輸入地址\n",
        "    search.send_keys(addr)\n",
        "    time.sleep(float(np.random.uniform(low=0.8, high=1, size=(1))))\n",
        "    prxy_drv.find_element_by_xpath(\"/html/body/form/div[10]/div[2]/img[2]\").click() \n",
        "    time.sleep(float(np.random.uniform(low=3, high=7, size=(1))))\n",
        "\n",
        "    ## 更新點\n",
        "    ## 這網頁有多個iframe, 要switch到資訊所在iframe\n",
        "    iframe = prxy_drv.find_elements_by_class_name(\"winfoIframe\")[0]\n",
        "    prxy_drv.switch_to.frame(iframe)\n",
        "    coor_btn = prxy_drv.find_element_by_xpath(\"/html/body/form/div[4]/table/tbody/tr[3]/td/table/tbody/tr/td[2]\")\n",
        "    coor_btn.click()\n",
        "\n",
        "    ## 座標元素\n",
        "    coor = prxy_drv.find_element_by_xpath(\"/html/body/form/div[5]/table/tbody/tr[2]/td\")\n",
        "    coor = coor.text.strip().split(\" \")\n",
        "    lat = coor[-1].split(\"：\")[-1]\n",
        "    log = coor[0].split(\"：\")[-1]\n",
        "    print('地址',addr, '點位爬取成功')\n",
        "    res = (addr, lat, log)\n",
        "    addr_list.pop()\n",
        "    return res"
      ],
      "execution_count": null,
      "outputs": []
    },
    {
      "cell_type": "code",
      "metadata": {
        "id": "m4sa_e55UwfY"
      },
      "source": [
        "def get_proxies(co=co):\n",
        "    driver = webdriver.Chrome(executable_path='chromedriver',options=co)\n",
        "    driver.get(\"https://free-proxy-list.net/\")\n",
        "\n",
        "    PROXIES = []\n",
        "    proxies = driver.find_elements_by_css_selector(\"tr[role='row']\")\n",
        "    for p in proxies:\n",
        "        result = p.text.split(\" \")\n",
        "\n",
        "        if result[-1] == \"yes\":\n",
        "            PROXIES.append(result[0]+\":\"+result[1])\n",
        "\n",
        "    driver.close()\n",
        "    return PROXIES\n",
        "\n",
        "def proxy_driver(PROXIES, co=co):\n",
        "    prox = Proxy()\n",
        "\n",
        "    if len(PROXIES) < 1:\n",
        "        print(\"--- Proxies used up (%s)\" % len(PROXIES))\n",
        "        PROXIES = get_proxies()\n",
        "        \n",
        "    pxy = PROXIES[-1]\n",
        "\n",
        "    prox.proxy_type = ProxyType.MANUAL\n",
        "    prox.http_proxy = pxy\n",
        "    #prox.socks_proxy = pxy\n",
        "    #prox.ssl_proxy = pxy\n",
        "\n",
        "    capabilities = webdriver.DesiredCapabilities.CHROME\n",
        "    prox.add_to_capabilities(capabilities)\n",
        "\n",
        "    driver = webdriver.Chrome(options=co, desired_capabilities=capabilities)\n",
        "\n",
        "    return driver"
      ],
      "execution_count": null,
      "outputs": []
    },
    {
      "cell_type": "code",
      "metadata": {
        "id": "qhSBy9uNh14X"
      },
      "source": [
        "#ALL_PROXIES = get_proxies()"
      ],
      "execution_count": null,
      "outputs": []
    },
    {
      "cell_type": "code",
      "metadata": {
        "id": "D-Dd9gQijh19"
      },
      "source": [
        "ALL_PROXIES = ['{ip}:{port}'.format(ip=x[0], port=x[1]) for x in list(zip(proxy_pool['IP'], proxy_pool['Port']))]"
      ],
      "execution_count": null,
      "outputs": []
    },
    {
      "cell_type": "code",
      "metadata": {
        "id": "GZhbeZDIBoTM"
      },
      "source": [
        "##https://zhuanlan.zhihu.com/p/61536685"
      ],
      "execution_count": null,
      "outputs": []
    },
    {
      "cell_type": "code",
      "metadata": {
        "id": "Na_IhTwTPBxc"
      },
      "source": [
        "prxy_drv = proxy_driver(ALL_PROXIES)\n",
        "running = True\n",
        "addr_list = list(brn_df['addr'])"
      ],
      "execution_count": null,
      "outputs": []
    },
    {
      "cell_type": "code",
      "metadata": {
        "id": "XK1oYKUmnFjP"
      },
      "source": [
        "xy_list = []"
      ],
      "execution_count": null,
      "outputs": []
    },
    {
      "cell_type": "code",
      "metadata": {
        "id": "zGta8NSRUaHL"
      },
      "source": [
        "while running:\n",
        "    try:\n",
        "        addr=addr_list[-1]\n",
        "        prxy_drv.implicitly_wait(10) # seconds\n",
        "        prxy_drv.get(\"http://www.map.com.tw/\")\n",
        "        \n",
        "        try:\n",
        "          element = WebDriverWait(prxy_drv, 10).until(\n",
        "              EC.presence_of_element_located((By.ID, \"searchWord\"))\n",
        "                )\n",
        "        \n",
        "        except Exception as e:\n",
        "          print(e)\n",
        "          prxy_drv.quit()\n",
        "\n",
        "        search = prxy_drv.find_element_by_id(\"searchWord\")\n",
        "        search.clear()\n",
        "        print('成功進入')\n",
        "\n",
        "        ## 輸入地址\n",
        "        search.send_keys(addr)\n",
        "        time.sleep(float(np.random.uniform(low=0.8, high=1, size=(1))))\n",
        "        prxy_drv.find_element_by_xpath(\"/html/body/form/div[10]/div[2]/img[2]\").click() \n",
        "        time.sleep(float(np.random.uniform(low=3, high=7, size=(1))))\n",
        "\n",
        "        ## 更新點\n",
        "        ## 這網頁有多個iframe, 要switch到資訊所在iframe\n",
        "        iframe = prxy_drv.find_elements_by_class_name(\"winfoIframe\")[0]\n",
        "        prxy_drv.switch_to.frame(iframe)\n",
        "        coor_btn = prxy_drv.find_element_by_xpath(\"/html/body/form/div[4]/table/tbody/tr[3]/td/table/tbody/tr/td[2]\")\n",
        "        coor_btn.click()\n",
        "\n",
        "        ## 座標元素\n",
        "        coor = prxy_drv.find_element_by_xpath(\"/html/body/form/div[5]/table/tbody/tr[2]/td\")\n",
        "        coor = coor.text.strip().split(\" \")\n",
        "        lat = coor[-1].split(\"：\")[-1]\n",
        "        log = coor[0].split(\"：\")[-1]\n",
        "        print('地址',addr, '點位爬取成功')\n",
        "        res = (addr, lat, log)\n",
        "        addr_list.pop()\n",
        "\n",
        "\n",
        "        xy_list.append(res)\n",
        "        # if statement to terminate loop if code working properly\n",
        "        # you need to modify condition_met\n",
        "        if len(addr_list)==0:\n",
        "            running = False\n",
        "        \n",
        "        # you \n",
        "    except Exception as e:\n",
        "        print(e)\n",
        "        new = ALL_PROXIES.pop()\n",
        "        prxy_drv.quit()\n",
        "        time.sleep(2)\n",
        "        os.system(\"taskkill /im chromedriver.exe\")\n",
        "        # reassign driver if fail to switch proxy\n",
        "        prxy_drv = proxy_driver(ALL_PROXIES)\n",
        "        print(\"--- Switched proxy to: %s\" % new)\n",
        "        time.sleep(1)"
      ],
      "execution_count": null,
      "outputs": []
    },
    {
      "cell_type": "code",
      "metadata": {
        "id": "JEQ2o6OrkZun"
      },
      "source": [
        "xy_df = pd.DataFrame(xy_list,columns = ['addr','lat','lon'])"
      ],
      "execution_count": null,
      "outputs": []
    },
    {
      "cell_type": "code",
      "metadata": {
        "id": "dytm-Mj7DARc"
      },
      "source": [
        "xy_df.to_csv('brn_xy_df.csv',index = False)"
      ],
      "execution_count": null,
      "outputs": []
    },
    {
      "cell_type": "code",
      "metadata": {
        "id": "IB1h437iDSzT"
      },
      "source": [
        "#!cp brn_xy_df.csv /content/drive/MyDrive"
      ],
      "execution_count": null,
      "outputs": []
    }
  ]
}