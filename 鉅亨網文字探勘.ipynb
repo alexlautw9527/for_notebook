{
  "nbformat": 4,
  "nbformat_minor": 0,
  "metadata": {
    "colab": {
      "name": "鉅亨網文字探勘.ipynb",
      "provenance": [],
      "collapsed_sections": [],
      "toc_visible": true,
      "mount_file_id": "1lohCOT_F2mYmi2XN2rbiCABDnlCtqV8g",
      "authorship_tag": "ABX9TyMVU4Rg/kj0GgFYOcOn9P5w",
      "include_colab_link": true
    },
    "kernelspec": {
      "name": "python3",
      "display_name": "Python 3"
    },
    "language_info": {
      "name": "python"
    }
  },
  "cells": [
    {
      "cell_type": "markdown",
      "metadata": {
        "id": "view-in-github",
        "colab_type": "text"
      },
      "source": [
        "<a href=\"https://colab.research.google.com/github/alexlautw9527/for_notebook/blob/main/%E9%89%85%E4%BA%A8%E7%B6%B2%E6%96%87%E5%AD%97%E6%8E%A2%E5%8B%98.ipynb\" target=\"_parent\"><img src=\"https://colab.research.google.com/assets/colab-badge.svg\" alt=\"Open In Colab\"/></a>"
      ]
    },
    {
      "cell_type": "code",
      "metadata": {
        "id": "5PPCcAlNk0qs"
      },
      "source": [
        "%%capture\n",
        "!pip install transformers\n",
        "!pip install gdown\n",
        "!pip install opencc-python-reimplemented"
      ],
      "execution_count": 74,
      "outputs": []
    },
    {
      "cell_type": "code",
      "metadata": {
        "id": "uSodDKDFzQeG"
      },
      "source": [
        "import torch\n",
        "import numpy as np\n",
        "import pandas as pd"
      ],
      "execution_count": 24,
      "outputs": []
    },
    {
      "cell_type": "code",
      "metadata": {
        "id": "IgoewQgH58DB"
      },
      "source": [
        "from opencc import OpenCC\n",
        "\n",
        "cc = OpenCC('t2s')"
      ],
      "execution_count": 76,
      "outputs": []
    },
    {
      "cell_type": "code",
      "metadata": {
        "colab": {
          "base_uri": "https://localhost:8080/"
        },
        "id": "yI2jmfXtx4rA",
        "outputId": "53114dc7-57dc-4d24-d236-54457c56349d"
      },
      "source": [
        "!gdown https://drive.google.com/uc?id=1qW1YWtw3q9Q28QThrIY-rDU9Gl-SLIKO\n",
        "!unzip /content/FinBERT_L-12_H-768_A-12_pytorch.zip"
      ],
      "execution_count": 2,
      "outputs": [
        {
          "output_type": "stream",
          "name": "stdout",
          "text": [
            "Downloading...\n",
            "From: https://drive.google.com/uc?id=1qW1YWtw3q9Q28QThrIY-rDU9Gl-SLIKO\n",
            "To: /content/FinBERT_L-12_H-768_A-12_pytorch.zip\n",
            "100% 382M/382M [00:02<00:00, 173MB/s]\n"
          ]
        }
      ]
    },
    {
      "cell_type": "markdown",
      "metadata": {
        "id": "9nbtOxLCVplM"
      },
      "source": [
        "# 財金BERT"
      ]
    },
    {
      "cell_type": "code",
      "metadata": {
        "id": "eSj-CMFhyunj"
      },
      "source": [
        "from transformers import BertModel, BertTokenizer\n",
        "\n",
        "PATH = '/content/FinBERT_L-12_H-768_A-12_pytorch'"
      ],
      "execution_count": 12,
      "outputs": []
    },
    {
      "cell_type": "code",
      "metadata": {
        "colab": {
          "base_uri": "https://localhost:8080/"
        },
        "id": "TkEqNfm0yMdg",
        "outputId": "3cbc3a27-9257-4eb6-c63c-2ade48f6fd46"
      },
      "source": [
        "tokenizer = BertTokenizer.from_pretrained(PATH ,local_files_only=True)\n",
        "model = BertModel.from_pretrained(PATH ,local_files_only=True)"
      ],
      "execution_count": 14,
      "outputs": [
        {
          "output_type": "stream",
          "name": "stderr",
          "text": [
            "Some weights of the model checkpoint at /content/FinBERT_L-12_H-768_A-12_pytorch were not used when initializing BertModel: ['cls.predictions.transform.dense.bias', 'cls.predictions.bias', 'cls.predictions.transform.LayerNorm.bias', 'cls.predictions.transform.dense.weight', 'cls.predictions.transform.LayerNorm.weight', 'cls.predictions.decoder.weight', 'cls.seq_relationship.weight', 'cls.seq_relationship.bias']\n",
            "- This IS expected if you are initializing BertModel from the checkpoint of a model trained on another task or with another architecture (e.g. initializing a BertForSequenceClassification model from a BertForPreTraining model).\n",
            "- This IS NOT expected if you are initializing BertModel from the checkpoint of a model that you expect to be exactly identical (initializing a BertForSequenceClassification model from a BertForSequenceClassification model).\n"
          ]
        }
      ]
    },
    {
      "cell_type": "code",
      "metadata": {
        "id": "ECJLJOaX1T5G"
      },
      "source": [
        "sector_dict = {\n",
        "'健護': '醫療保健服務類股',\n",
        "'科技': '科技類股', \n",
        "'公用事業': '公用事業類股',\n",
        "'生技':'生技類股', \n",
        "'能源':'能源類股',\n",
        "'替代能源':'替代能源類股',\n",
        "'消費':'消費品類股',\n",
        "'金融':'金融類股', \n",
        "'礦業':'礦業',\n",
        "'天然資源':'天然資源', \n",
        "'貴金屬現貨':'貴金屬',\n",
        "'農產品':'農產品',\n",
        "'貴金屬類股':'貴金屬',\n",
        "}"
      ],
      "execution_count": 64,
      "outputs": []
    },
    {
      "cell_type": "code",
      "metadata": {
        "id": "J-vIxrf41PCa"
      },
      "source": [
        "mkt_dict= [\n",
        "'新興市場債',\n",
        "'高收益債',\n",
        "'全球債',\n",
        "'投資等級公司債',\n",
        "'美國公債',\n",
        "'亞債',\n",
        "'REITs不動產投資信託',\n",
        "'新臺幣類貨幣',\n",
        "'外幣類貨幣',\n",
        "'亞太股市', '美國股市', '全球新興市場', \n",
        "'全球型股市', '大中華股市', '中國A股', '印度股市','歐洲股市', \n",
        "'東南亞股市', '拉丁美洲股市', \n",
        "'韓國股市', '新興歐洲股市', '德國股市', '台灣股市','俄羅斯股市',\n",
        "'中國H股', '日本股市', '英國股市','泰國股市',\n",
        "'香港股市', '澳洲股市', '印尼股市', '巴西股市', '歐非中東股市'\n",
        "]\n"
      ],
      "execution_count": 65,
      "outputs": []
    },
    {
      "cell_type": "code",
      "metadata": {
        "id": "5kh-1eUE3rqZ"
      },
      "source": [
        "mkt_dict = {x:x for x in mkt_dict}\n",
        "mkt_dict['亞債'] = '亞洲債券'\n",
        "mkt_dict['REITs不動產投資信託'] = '不動產'"
      ],
      "execution_count": 66,
      "outputs": []
    },
    {
      "cell_type": "code",
      "metadata": {
        "id": "Z8FFfHT64XWY"
      },
      "source": [
        "total_sec_dict = {**sector_dict, **mkt_dict}"
      ],
      "execution_count": 67,
      "outputs": []
    },
    {
      "cell_type": "code",
      "metadata": {
        "id": "nFw0cRYL5Pgv"
      },
      "source": [
        "sentences = list(set(total_sec_dict.values()))"
      ],
      "execution_count": 70,
      "outputs": []
    },
    {
      "cell_type": "code",
      "metadata": {
        "id": "oKOh6TC66I_d"
      },
      "source": [
        "sentences = [cc.convert(x) for x in sentences]"
      ],
      "execution_count": 78,
      "outputs": []
    },
    {
      "cell_type": "code",
      "metadata": {
        "id": "6xqHjsUqzNHK"
      },
      "source": [
        "inputs = tokenizer(sentences, padding=True, return_tensors=\"pt\")\n"
      ],
      "execution_count": 71,
      "outputs": []
    },
    {
      "cell_type": "code",
      "metadata": {
        "id": "pCIKFK1GzNdl"
      },
      "source": [
        "## 單純forward pass 沒要計算梯度\n",
        "with torch.no_grad():\n",
        "  outputs = model(**inputs)"
      ],
      "execution_count": 79,
      "outputs": []
    },
    {
      "cell_type": "code",
      "metadata": {
        "id": "WTjCxA4PzPZ0"
      },
      "source": [
        "x = outputs['last_hidden_state']\n",
        "np.savetxt('bert_mkt_emb.tsv', x[:,0].cpu().detach().numpy(), delimiter=\"\\t\")\n",
        "pd.DataFrame(sentences).to_csv('bert_mkt_emb_meta.tsv', header=False, index=False, sep=\"\\t\")"
      ],
      "execution_count": 88,
      "outputs": []
    },
    {
      "cell_type": "code",
      "metadata": {
        "colab": {
          "base_uri": "https://localhost:8080/"
        },
        "id": "1Tl8qf_rzXAx",
        "outputId": "b8bcaa72-2be6-43a7-ee3d-62675368ca95"
      },
      "source": [
        "x[:,0].shape"
      ],
      "execution_count": 89,
      "outputs": [
        {
          "output_type": "execute_result",
          "data": {
            "text/plain": [
              "torch.Size([45, 768])"
            ]
          },
          "metadata": {},
          "execution_count": 89
        }
      ]
    },
    {
      "cell_type": "code",
      "metadata": {
        "colab": {
          "base_uri": "https://localhost:8080/"
        },
        "id": "bTjJOasM675F",
        "outputId": "63d23ac8-589c-4343-b2ae-eb7a1dbc1605"
      },
      "source": [
        "x[:,0].mean(axis=1).cpu().detach().numpy().shape"
      ],
      "execution_count": 90,
      "outputs": [
        {
          "output_type": "execute_result",
          "data": {
            "text/plain": [
              "(45,)"
            ]
          },
          "metadata": {},
          "execution_count": 90
        }
      ]
    },
    {
      "cell_type": "code",
      "metadata": {
        "id": "J4KZkRqC7r4H"
      },
      "source": [
        ""
      ],
      "execution_count": null,
      "outputs": []
    },
    {
      "cell_type": "markdown",
      "metadata": {
        "id": "Mz_Yj3-iVrtq"
      },
      "source": [
        "# 鉅亨網爬蟲\n"
      ]
    },
    {
      "cell_type": "code",
      "metadata": {
        "id": "lbvFdDdQVtQV"
      },
      "source": [
        "import requests"
      ],
      "execution_count": 92,
      "outputs": []
    },
    {
      "cell_type": "code",
      "metadata": {
        "id": "wtqC0cdAYc1Q"
      },
      "source": [
        "res = requests.get('https://news.cnyes.com/news/cat/wd_stock')"
      ],
      "execution_count": 93,
      "outputs": []
    },
    {
      "cell_type": "code",
      "metadata": {
        "id": "F98QSMUQbQHw"
      },
      "source": [
        "#res2 = requests.get('https://blog.anuefund.com/page/2/?utm_campaign=bloglink&utm_medium=fund_mainlist&utm_source=anuefundapp')"
      ],
      "execution_count": 106,
      "outputs": []
    },
    {
      "cell_type": "code",
      "metadata": {
        "id": "5zAYS_t7Yily"
      },
      "source": [
        "from bs4 import BeautifulSoup\n",
        "\n",
        "soup = BeautifulSoup(res.text, 'html.parser')"
      ],
      "execution_count": 109,
      "outputs": []
    },
    {
      "cell_type": "code",
      "metadata": {
        "id": "MryeH3kbZGTO"
      },
      "source": [
        "news_list = soup.find_all(\"a\", attrs={\"data-exp-project\":\"news-title\"})"
      ],
      "execution_count": 110,
      "outputs": []
    },
    {
      "cell_type": "code",
      "metadata": {
        "id": "myswgNaeaeT0"
      },
      "source": [
        "pd.DataFrame()"
      ],
      "execution_count": null,
      "outputs": []
    },
    {
      "cell_type": "code",
      "metadata": {
        "colab": {
          "base_uri": "https://localhost:8080/"
        },
        "id": "3PMpVrrPZ5fX",
        "outputId": "08068afb-765e-4625-83b5-ec83fb87cb99"
      },
      "source": [
        "[x.find('h3').text for x in news_list]"
      ],
      "execution_count": 119,
      "outputs": [
        {
          "output_type": "execute_result",
          "data": {
            "text/plain": [
              "['美股今年以來已漲25% 策略師：通常這代表12月及明年還會衝一波',\n",
              " '中國產尿素將運抵南韓 短缺危機可望解除',\n",
              " '〈金融風險指數〉通膨效應升溫 海外信用風險攀升',\n",
              " '車用晶片短缺逐步緩解 車廠+零件廠同步拉產能',\n",
              " 'WHO警告 2022年注射針筒恐短少20億支',\n",
              " '美股史上第六大IPO將登場！特斯拉勁敵Rivian完成定價 估募資120億美元',\n",
              " '〈財報〉蔚來汽車Q4交車量、營收預測悲觀 盤後挫逾2%',\n",
              " 'PC用LCD面板行情下滑 2年半以來首見',\n",
              " '半導體業砸錢擴產 為何成熟製程晶片荒估延燒到2024年？',\n",
              " '拜登積極減碳 將要求航空業2050年以前實現淨零排放',\n",
              " '〈美股熱門股〉PayPal第四季財測黯淡跌10% AMC營運逆風重挫11%',\n",
              " '蘋果聚焦醫療保健服務 嬌生CEO將加入董事會',\n",
              " '美股重點新聞摘要2021年11月10日',\n",
              " '美商務部長：供應鏈瓶頸將延續至明年 但正在逐步改善',\n",
              " '馬斯克擬賣股消息發酵 特斯拉兩日來市值蒸發近2000億美元',\n",
              " '福斯汽車擬在德蓋新廠 力拚特斯拉超級工廠',\n",
              " '〈美股盤後〉特斯拉崩落近12% 四大指數盡墨',\n",
              " '拜習會即將登場！彭博：線上峰會將於下周舉行',\n",
              " '拜登擬斥資數十億美元升級老舊港口 強化美國供應鏈',\n",
              " '拜登延長中國軍方企業投資禁令',\n",
              " '富人稅是藉口？大賣空本尊爆馬斯克想賣股背後主因',\n",
              " '蘋果執行長庫克挺加密貨幣 不僅持有也感興趣',\n",
              " '美商務部長雷蒙多：將盡快與英、日展開鋼鋁關稅磋商',\n",
              " '美國10月PPI年增8.6% 續創近11年最高',\n",
              " '〈美股早盤〉美10月PPI仍處高位 美股漲跌不一、GE漲逾6%',\n",
              " '鉅亨美股雷達：Lucid令市場憂心蔚來前景、Meta傳將設實體店介紹元宇宙概念',\n",
              " 'GE將分拆為3家上市公司 分別專注航空、醫療保健和能源業務',\n",
              " '受供應鏈中斷打擊 德國出口連兩月下滑',\n",
              " '〈美股盤前要聞〉美公債殖利率落至1.457% 美股期貨漲跌不一',\n",
              " '輝達秋季GTC大會 聚焦Omniverse資料生成引擎、虛擬化身技術']"
            ]
          },
          "metadata": {},
          "execution_count": 119
        }
      ]
    },
    {
      "cell_type": "code",
      "metadata": {
        "colab": {
          "base_uri": "https://localhost:8080/",
          "height": 35
        },
        "id": "S4j4X5hCjjQK",
        "outputId": "3d2d7b64-4e14-4eb3-9ca7-fb892053f984"
      },
      "source": [
        "news_list[0]['href']"
      ],
      "execution_count": 118,
      "outputs": [
        {
          "output_type": "execute_result",
          "data": {
            "application/vnd.google.colaboratory.intrinsic+json": {
              "type": "string"
            },
            "text/plain": [
              "'/news/id/4767027?exp=a'"
            ]
          },
          "metadata": {},
          "execution_count": 118
        }
      ]
    },
    {
      "cell_type": "code",
      "metadata": {
        "colab": {
          "base_uri": "https://localhost:8080/",
          "height": 35
        },
        "id": "_I7TkWSMaAON",
        "outputId": "3f223574-6f9c-406e-d7dc-a58bcc3cfd18"
      },
      "source": [
        "news_list[0].find('time').text"
      ],
      "execution_count": 115,
      "outputs": [
        {
          "output_type": "execute_result",
          "data": {
            "application/vnd.google.colaboratory.intrinsic+json": {
              "type": "string"
            },
            "text/plain": [
              "'13:40'"
            ]
          },
          "metadata": {},
          "execution_count": 115
        }
      ]
    },
    {
      "cell_type": "code",
      "metadata": {
        "id": "0EWM6v4FjGNr"
      },
      "source": [
        ""
      ],
      "execution_count": null,
      "outputs": []
    }
  ]
}