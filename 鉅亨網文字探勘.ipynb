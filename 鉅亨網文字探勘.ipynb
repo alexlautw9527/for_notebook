{
  "nbformat": 4,
  "nbformat_minor": 0,
  "metadata": {
    "colab": {
      "name": "鉅亨網文字探勘.ipynb",
      "provenance": [],
      "collapsed_sections": [],
      "toc_visible": true,
      "machine_shape": "hm",
      "include_colab_link": true
    },
    "kernelspec": {
      "name": "python3",
      "display_name": "Python 3"
    },
    "language_info": {
      "name": "python"
    },
    "accelerator": "GPU"
  },
  "cells": [
    {
      "cell_type": "markdown",
      "metadata": {
        "id": "view-in-github",
        "colab_type": "text"
      },
      "source": [
        "<a href=\"https://colab.research.google.com/github/alexlautw9527/for_notebook/blob/main/%E9%89%85%E4%BA%A8%E7%B6%B2%E6%96%87%E5%AD%97%E6%8E%A2%E5%8B%98.ipynb\" target=\"_parent\"><img src=\"https://colab.research.google.com/assets/colab-badge.svg\" alt=\"Open In Colab\"/></a>"
      ]
    },
    {
      "cell_type": "code",
      "metadata": {
        "id": "5PPCcAlNk0qs"
      },
      "source": [
        "%%capture\n",
        "!pip install transformers\n",
        "!pip install gdown\n",
        "!pip install opencc-python-reimplemented\n",
        "!pip install googletrans==3.1.0a0\n",
        "!pip install fake_useragent"
      ],
      "execution_count": 1,
      "outputs": []
    },
    {
      "cell_type": "code",
      "metadata": {
        "id": "OkmsTbANzrDP"
      },
      "source": [
        "def save():\n",
        "  %notebook 鉅亨網文字探勘.ipynb \n",
        "  !cp 鉅亨網文字探勘.ipynb \"/content/drive/MyDrive/Colab Notebooks\""
      ],
      "execution_count": 114,
      "outputs": []
    },
    {
      "cell_type": "code",
      "metadata": {
        "id": "iy5qPx1E0XBT"
      },
      "source": [
        "save()"
      ],
      "execution_count": 115,
      "outputs": []
    },
    {
      "cell_type": "code",
      "metadata": {
        "id": "uSodDKDFzQeG"
      },
      "source": [
        "import torch\n",
        "import numpy as np\n",
        "import pandas as pd"
      ],
      "execution_count": 2,
      "outputs": []
    },
    {
      "cell_type": "code",
      "metadata": {
        "id": "J607x67mXyur"
      },
      "source": [
        "from transformers import BertModel, BertTokenizer\n",
        "PATH = '/content/FinBERT_L-12_H-768_A-12_pytorch'"
      ],
      "execution_count": 3,
      "outputs": []
    },
    {
      "cell_type": "code",
      "metadata": {
        "id": "3SqHaeLpX3dM"
      },
      "source": [
        "import requests\n",
        "from bs4 import BeautifulSoup\n",
        "from fake_useragent import UserAgent\n"
      ],
      "execution_count": 4,
      "outputs": []
    },
    {
      "cell_type": "code",
      "metadata": {
        "id": "7Io2dAqz9j3S"
      },
      "source": [
        "import time\n",
        "import datetime as dt\n",
        "\n",
        "import time\n",
        "import tqdm"
      ],
      "execution_count": 5,
      "outputs": []
    },
    {
      "cell_type": "code",
      "metadata": {
        "id": "IgoewQgH58DB"
      },
      "source": [
        "from opencc import OpenCC\n",
        "cc = OpenCC('t2s')"
      ],
      "execution_count": 6,
      "outputs": []
    },
    {
      "cell_type": "code",
      "metadata": {
        "id": "yI2jmfXtx4rA"
      },
      "source": [
        "#!gdown https://drive.google.com/uc?id=1qW1YWtw3q9Q28QThrIY-rDU9Gl-SLIKO\n",
        "#!unzip /content/FinBERT_L-12_H-768_A-12_pytorch.zip"
      ],
      "execution_count": null,
      "outputs": []
    },
    {
      "cell_type": "markdown",
      "metadata": {
        "id": "9nbtOxLCVplM"
      },
      "source": [
        "# 財金BERT"
      ]
    },
    {
      "cell_type": "code",
      "metadata": {
        "id": "eSj-CMFhyunj"
      },
      "source": [
        "tokenizer = BertTokenizer.from_pretrained(PATH ,local_files_only=True)\n",
        "model = BertModel.from_pretrained(PATH ,local_files_only=True)"
      ],
      "execution_count": null,
      "outputs": []
    },
    {
      "cell_type": "code",
      "metadata": {
        "id": "ECJLJOaX1T5G"
      },
      "source": [
        "sector_dict = {\n",
        "'健護': '醫療保健服務類股',\n",
        "'科技': '科技類股', \n",
        "'公用事業': '公用事業類股',\n",
        "'生技':'生技類股', \n",
        "'能源':'能源類股',\n",
        "'替代能源':'替代能源類股',\n",
        "'消費':'消費品類股',\n",
        "'金融':'金融類股', \n",
        "'礦業':'礦業',\n",
        "'天然資源':'天然資源', \n",
        "'貴金屬現貨':'貴金屬',\n",
        "'農產品':'農產品',\n",
        "'貴金屬類股':'貴金屬',\n",
        "}"
      ],
      "execution_count": null,
      "outputs": []
    },
    {
      "cell_type": "code",
      "metadata": {
        "id": "J-vIxrf41PCa"
      },
      "source": [
        "mkt_dict= [\n",
        "'新興市場債',\n",
        "'高收益債',\n",
        "'全球債',\n",
        "'投資等級公司債',\n",
        "'美國公債',\n",
        "'亞債',\n",
        "'REITs不動產投資信託',\n",
        "'新臺幣類貨幣',\n",
        "'外幣類貨幣',\n",
        "'亞太股市', '美國股市', '全球新興市場', \n",
        "'全球型股市', '大中華股市', '中國A股', '印度股市','歐洲股市', \n",
        "'東南亞股市', '拉丁美洲股市', \n",
        "'韓國股市', '新興歐洲股市', '德國股市', '台灣股市','俄羅斯股市',\n",
        "'中國H股', '日本股市', '英國股市','泰國股市',\n",
        "'香港股市', '澳洲股市', '印尼股市', '巴西股市', '歐非中東股市'\n",
        "]\n"
      ],
      "execution_count": null,
      "outputs": []
    },
    {
      "cell_type": "code",
      "metadata": {
        "id": "5kh-1eUE3rqZ"
      },
      "source": [
        "mkt_dict = {x:x for x in mkt_dict}\n",
        "mkt_dict['亞債'] = '亞洲債券'\n",
        "mkt_dict['REITs不動產投資信託'] = '不動產'"
      ],
      "execution_count": null,
      "outputs": []
    },
    {
      "cell_type": "code",
      "metadata": {
        "id": "Z8FFfHT64XWY"
      },
      "source": [
        "total_sec_dict = {**sector_dict, **mkt_dict}"
      ],
      "execution_count": null,
      "outputs": []
    },
    {
      "cell_type": "code",
      "metadata": {
        "id": "nFw0cRYL5Pgv"
      },
      "source": [
        "sentences = list(set(total_sec_dict.values()))\n",
        "sentences = [cc.convert(x) for x in sentences]"
      ],
      "execution_count": null,
      "outputs": []
    },
    {
      "cell_type": "code",
      "metadata": {
        "id": "6xqHjsUqzNHK"
      },
      "source": [
        "inputs = tokenizer(sentences, padding=True, return_tensors=\"pt\")\n"
      ],
      "execution_count": null,
      "outputs": []
    },
    {
      "cell_type": "code",
      "metadata": {
        "id": "pCIKFK1GzNdl"
      },
      "source": [
        "## 單純forward pass 沒要計算梯度\n",
        "with torch.no_grad():\n",
        "  outputs = model(**inputs)"
      ],
      "execution_count": null,
      "outputs": []
    },
    {
      "cell_type": "code",
      "metadata": {
        "id": "WTjCxA4PzPZ0"
      },
      "source": [
        "x = outputs['last_hidden_state']\n",
        "np.savetxt('bert_mkt_emb.tsv', x[:,0].cpu().detach().numpy(), delimiter=\"\\t\")\n",
        "pd.DataFrame(sentences).to_csv('bert_mkt_emb_meta.tsv', header=False, index=False, sep=\"\\t\")"
      ],
      "execution_count": null,
      "outputs": []
    },
    {
      "cell_type": "markdown",
      "metadata": {
        "id": "Mz_Yj3-iVrtq"
      },
      "source": [
        "# 鉅亨網爬蟲 初步整理\n"
      ]
    },
    {
      "cell_type": "code",
      "metadata": {
        "id": "wtqC0cdAYc1Q"
      },
      "source": [
        "res = requests.get('https://news.cnyes.com/news/cat/wd_stock')"
      ],
      "execution_count": null,
      "outputs": []
    },
    {
      "cell_type": "code",
      "metadata": {
        "id": "5zAYS_t7Yily"
      },
      "source": [
        "soup = BeautifulSoup(res.text, 'html.parser')"
      ],
      "execution_count": null,
      "outputs": []
    },
    {
      "cell_type": "code",
      "metadata": {
        "id": "MryeH3kbZGTO"
      },
      "source": [
        "%%capture\n",
        "\n",
        "\"\"\"\n",
        "news_list = soup.find_all(\"a\", attrs={\"class\":\"_1Zdp\"})\n",
        "[x['href'] for x in news_list]\n",
        "[x.find('h3').get_text(strip=True) for x in news_list\n",
        "\"\"\"\n",
        "## .get_text(strip=True) 可避免不必用空白符亂碼"
      ],
      "execution_count": null,
      "outputs": []
    },
    {
      "cell_type": "code",
      "metadata": {
        "id": "HO7i8Ifj2pZK"
      },
      "source": [
        "ua = UserAgent()\n",
        "headers = {'user-agent': ua.random}"
      ],
      "execution_count": null,
      "outputs": []
    },
    {
      "cell_type": "code",
      "metadata": {
        "id": "WDJx3VtS9hSu"
      },
      "source": [
        "## 將資料起迄日轉換unix timestamp\n",
        "\n",
        "start_unix_timestamp = int(time.mktime(dt.date(2021,1,1).timetuple()))\n",
        "end_unix_timestamp = int(time.mktime(dt.date(2021,11,15).timetuple()))"
      ],
      "execution_count": null,
      "outputs": []
    },
    {
      "cell_type": "code",
      "metadata": {
        "id": "3PMpVrrPZ5fX"
      },
      "source": [
        "url_api = 'https://api.cnyes.com/media/api/v1/newslist/category/tw_stock?startAt={}&endAt={}&limit=30&page={}'.format(start_unix_timestamp, end_unix_timestamp, 1)\n",
        "res = requests.get(url_api, headers=headers)\n",
        "res_json = res.json()"
      ],
      "execution_count": null,
      "outputs": []
    },
    {
      "cell_type": "code",
      "metadata": {
        "id": "J7lkV1wB-a9k"
      },
      "source": [
        "last_page = res_json['items']['last_page']\n",
        "last_page"
      ],
      "execution_count": null,
      "outputs": []
    },
    {
      "cell_type": "code",
      "metadata": {
        "id": "gAk1bWHr8yEG",
        "colab": {
          "base_uri": "https://localhost:8080/"
        },
        "outputId": "66a024b3-f957-45b7-d5fb-72f0fc28b351"
      },
      "source": [
        "news_data_list = []\n",
        "\n",
        "for i in tqdm.tqdm(range(1,last_page+1)):\n",
        "  url_api = 'https://api.cnyes.com/media/api/v1/newslist/category/tw_stock?startAt={}&endAt={}&limit=30&page={}'.format(start_unix_timestamp, end_unix_timestamp, i)\n",
        "  res = requests.get(url_api, headers=headers)\n",
        "  res_json = res.json()\n",
        "  news_data_list.append(res_json)\n",
        "  time.sleep(1)"
      ],
      "execution_count": null,
      "outputs": [
        {
          "output_type": "stream",
          "name": "stderr",
          "text": [
            "100%|██████████| 613/613 [23:20<00:00,  2.29s/it]\n"
          ]
        }
      ]
    },
    {
      "cell_type": "code",
      "metadata": {
        "colab": {
          "base_uri": "https://localhost:8080/",
          "height": 35
        },
        "id": "-dTveBS_NbxH",
        "outputId": "deb6f4eb-7606-48bc-af8f-7cf53ebc5fab"
      },
      "source": [
        "import pickle\n",
        "'''\n",
        "with open('鉅亨網2021新聞.pickle', 'wb') as f:\n",
        "  pickle.dump(news_data_list, f)\n",
        "'''"
      ],
      "execution_count": 11,
      "outputs": [
        {
          "output_type": "execute_result",
          "data": {
            "application/vnd.google.colaboratory.intrinsic+json": {
              "type": "string"
            },
            "text/plain": [
              "\"\\nwith open('鉅亨網2021新聞.pickle', 'wb') as f:\\n  pickle.dump(news_data_list, f)\\n\""
            ]
          },
          "metadata": {},
          "execution_count": 11
        }
      ]
    },
    {
      "cell_type": "code",
      "metadata": {
        "id": "PqAgsw6KntIy"
      },
      "source": [
        "!cp /content/drive/MyDrive/鉅亨網2021新聞.pickle /content"
      ],
      "execution_count": 12,
      "outputs": []
    },
    {
      "cell_type": "code",
      "metadata": {
        "id": "nP-TM11YoCIa"
      },
      "source": [
        "with open('鉅亨網2021新聞.pickle', 'rb') as f:\n",
        "  news_data_list = pickle.load(f)"
      ],
      "execution_count": 13,
      "outputs": []
    },
    {
      "cell_type": "code",
      "metadata": {
        "id": "zsmGXhNjoN9h"
      },
      "source": [
        "import re"
      ],
      "execution_count": 14,
      "outputs": []
    },
    {
      "cell_type": "code",
      "metadata": {
        "id": "fQkzgRdDnuoS"
      },
      "source": [
        "## 只保留英文中文數字 \n",
        "\n",
        "def remove_punctuation(line):\n",
        "  #rule = re.compile(\"[^a-z A-Z \\u4e00-\\u9fa5]\")\n",
        "  rule = re.compile(\"[^a-z A-Z 0-9 \\u4e00-\\u9fa5]\")\n",
        "  line = rule.sub('',line)\n",
        "  return line\n",
        "\n",
        "def remove_char(line):\n",
        "  rule = re.compile('&lt;.+?(&gt;|>)')\n",
        "  line = rule.sub('',line)\n",
        "  return line\n"
      ],
      "execution_count": 32,
      "outputs": []
    },
    {
      "cell_type": "code",
      "metadata": {
        "colab": {
          "base_uri": "https://localhost:8080/"
        },
        "id": "jpMFP--mpuvB",
        "outputId": "50a7d2c2-ffa4-4415-9235-c686ee6d9238"
      },
      "source": [
        "from datetime import datetime\n",
        "ts = int('1636969777')\n",
        "\n",
        "# if you encounter a \"year is out of range\" error the timestamp\n",
        "# may be in milliseconds, try `ts /= 1000` in that case\n",
        "print(dt.datetime.utcfromtimestamp(ts).strftime('%Y-%m-%d %H:%M:%S'))"
      ],
      "execution_count": 16,
      "outputs": [
        {
          "output_type": "stream",
          "name": "stdout",
          "text": [
            "2021-11-15 09:49:37\n"
          ]
        }
      ]
    },
    {
      "cell_type": "code",
      "metadata": {
        "id": "vDiuhbOFuQO8"
      },
      "source": [
        "## todo:取出該新聞的相關標的"
      ],
      "execution_count": 17,
      "outputs": []
    },
    {
      "cell_type": "code",
      "metadata": {
        "id": "al-Lftq69Zh1"
      },
      "source": [
        "news_extracted_list=[]\n",
        "\n",
        "for chunk in news_data_list:\n",
        "  article_content = chunk['items']['data']\n",
        "  data_dict = [{\n",
        "      'id':x['newsId'], \n",
        "      'title':x['title'], \n",
        "      'summary':x['summary'],  \n",
        "      'article':remove_char(x['content']),  \n",
        "      #'stock':x['market'],\n",
        "\n",
        "      'unix_timestamp':x['publishAt'],\n",
        "      'datetime':dt.datetime.utcfromtimestamp(x['publishAt']).strftime('%Y-%m-%d')\n",
        "      } for x in article_content\n",
        "  ]\n",
        "  news_extracted_list.extend(data_dict)\n"
      ],
      "execution_count": 148,
      "outputs": []
    },
    {
      "cell_type": "code",
      "metadata": {
        "id": "znktSdeo9SF5"
      },
      "source": [
        "org_corpus_df = pd.DataFrame(news_extracted_list)"
      ],
      "execution_count": 149,
      "outputs": []
    },
    {
      "cell_type": "code",
      "metadata": {
        "id": "hlsPhUc9t0mC"
      },
      "source": [
        "org_corpus_df['article'] = org_corpus_df['article'].str.replace('\\n\\n',\"\")\n",
        "org_corpus_df['article'] = org_corpus_df['article'].str.replace(\" \", \"\")"
      ],
      "execution_count": 150,
      "outputs": []
    },
    {
      "cell_type": "code",
      "metadata": {
        "id": "pLDkaMX0aypL"
      },
      "source": [
        "org_corpus_df['article'] = org_corpus_df['article'].str.replace(\" \", \"\")"
      ],
      "execution_count": 151,
      "outputs": []
    },
    {
      "cell_type": "code",
      "metadata": {
        "id": "tJL4QN13zBuL"
      },
      "source": [
        "org_corpus_df['summary'] = org_corpus_df['summary'].astype(str).apply(lambda x: remove_punctuation(x))"
      ],
      "execution_count": 152,
      "outputs": []
    },
    {
      "cell_type": "markdown",
      "metadata": {
        "id": "6_eE4hzHzF2u"
      },
      "source": [
        "# 分詞 資料整理"
      ]
    },
    {
      "cell_type": "code",
      "metadata": {
        "id": "46N6zRMa8E3i"
      },
      "source": [
        "text = org_corpus_df['summary'].astype(str).tolist()"
      ],
      "execution_count": 153,
      "outputs": []
    },
    {
      "cell_type": "code",
      "metadata": {
        "id": "z29A15w-nmwJ"
      },
      "source": [
        "#re.sub(r\"(?m)^\\s+\", \"\", \" \")"
      ],
      "execution_count": null,
      "outputs": []
    },
    {
      "cell_type": "markdown",
      "metadata": {
        "id": "fC93v9T14u5y"
      },
      "source": [
        "### 停用詞"
      ]
    },
    {
      "cell_type": "code",
      "metadata": {
        "colab": {
          "base_uri": "https://localhost:8080/"
        },
        "id": "6UCsqY3Xn8ov",
        "outputId": "313d79c3-3509-4234-dd2f-2279af53d923"
      },
      "source": [
        "!wget https://raw.githubusercontent.com/goto456/stopwords/master/cn_stopwords.txt"
      ],
      "execution_count": 127,
      "outputs": [
        {
          "output_type": "stream",
          "name": "stdout",
          "text": [
            "--2021-11-17 07:49:53--  https://raw.githubusercontent.com/goto456/stopwords/master/cn_stopwords.txt\n",
            "Resolving raw.githubusercontent.com (raw.githubusercontent.com)... 185.199.111.133, 185.199.110.133, 185.199.108.133, ...\n",
            "Connecting to raw.githubusercontent.com (raw.githubusercontent.com)|185.199.111.133|:443... connected.\n",
            "HTTP request sent, awaiting response... 200 OK\n",
            "Length: 4717 (4.6K) [text/plain]\n",
            "Saving to: ‘cn_stopwords.txt’\n",
            "\n",
            "\rcn_stopwords.txt      0%[                    ]       0  --.-KB/s               \rcn_stopwords.txt    100%[===================>]   4.61K  --.-KB/s    in 0s      \n",
            "\n",
            "2021-11-17 07:49:54 (67.1 MB/s) - ‘cn_stopwords.txt’ saved [4717/4717]\n",
            "\n"
          ]
        }
      ]
    },
    {
      "cell_type": "code",
      "metadata": {
        "id": "lAt3h9og3Tvg"
      },
      "source": [
        "with open('/content/cn_stopwords.txt', 'r') as f:\n",
        "  stop_words = f.read().splitlines()"
      ],
      "execution_count": 132,
      "outputs": []
    },
    {
      "cell_type": "code",
      "metadata": {
        "id": "NefjOF3M4kHk"
      },
      "source": [
        "from opencc import OpenCC\n",
        "cc = OpenCC('s2t')\n",
        "\n",
        "stop_words = [cc.convert(text) for text in stop_words]"
      ],
      "execution_count": 134,
      "outputs": []
    },
    {
      "cell_type": "markdown",
      "metadata": {
        "id": "zlm5TYBTAvlw"
      },
      "source": [
        "### bert版斷詞 偏慢"
      ]
    },
    {
      "cell_type": "code",
      "metadata": {
        "id": "ne_VRxd6AuPk"
      },
      "source": [
        "!pip install -U ckip-transformers\n",
        "#https://github.com/ckiplab/ckip-transformers\n",
        "from ckip_transformers.nlp import CkipWordSegmenter, CkipPosTagger, CkipNerChunker\n"
      ],
      "execution_count": null,
      "outputs": []
    },
    {
      "cell_type": "code",
      "metadata": {
        "id": "Bb5iJrDPzJBU"
      },
      "source": [
        "ws_driver = CkipWordSegmenter(level=3,device=0)\n"
      ],
      "execution_count": null,
      "outputs": []
    },
    {
      "cell_type": "code",
      "metadata": {
        "colab": {
          "base_uri": "https://localhost:8080/"
        },
        "id": "s0wRCb3e7BYa",
        "outputId": "e38d941e-fd6a-4f1e-e2de-3f6e21d1dcd1"
      },
      "source": [
        "corpus_ws_org  = ws_driver(text)\n"
      ],
      "execution_count": 154,
      "outputs": [
        {
          "output_type": "stream",
          "name": "stderr",
          "text": [
            "Tokenization: 100%|██████████| 18369/18369 [00:03<00:00, 5841.22it/s]\n",
            "Inference: 100%|██████████| 66/66 [01:00<00:00,  1.10it/s]\n"
          ]
        }
      ]
    },
    {
      "cell_type": "markdown",
      "metadata": {
        "id": "nXmh27G5A1zc"
      },
      "source": [
        "### lstm斷詞"
      ]
    },
    {
      "cell_type": "code",
      "metadata": {
        "id": "emprvDRr9iSR"
      },
      "source": [
        "!pip install -U ckiptagger[gdown]"
      ],
      "execution_count": null,
      "outputs": []
    },
    {
      "cell_type": "code",
      "metadata": {
        "id": "PGyJvwW19dkj"
      },
      "source": [
        "from ckiptagger import data_utils, construct_dictionary, WS, POS, NER"
      ],
      "execution_count": 24,
      "outputs": []
    },
    {
      "cell_type": "code",
      "metadata": {
        "id": "49klrlFh9-Fa"
      },
      "source": [
        "data_utils.download_data_url(\"./\")"
      ],
      "execution_count": 25,
      "outputs": []
    },
    {
      "cell_type": "code",
      "metadata": {
        "id": "fDaPllsq9wUJ",
        "colab": {
          "base_uri": "https://localhost:8080/"
        },
        "outputId": "1d0d3b47-3253-47e9-9930-fd2cfdc78fbb"
      },
      "source": [
        "ws = WS(\"./data\", disable_cuda=False)"
      ],
      "execution_count": 39,
      "outputs": [
        {
          "output_type": "stream",
          "name": "stderr",
          "text": [
            "/usr/local/lib/python3.7/dist-packages/ckiptagger/model_ws.py:106: UserWarning: `tf.nn.rnn_cell.LSTMCell` is deprecated and will be removed in a future version. This class is equivalent as `tf.keras.layers.LSTMCell`, and will be replaced by that in Tensorflow 2.0.\n",
            "  cell = tf.compat.v1.nn.rnn_cell.LSTMCell(hidden_d, name=name)\n",
            "/usr/local/lib/python3.7/dist-packages/keras/layers/legacy_rnn/rnn_cell_impl.py:988: UserWarning: `layer.add_variable` is deprecated and will be removed in a future version. Please use `layer.add_weight` method instead.\n",
            "  partitioner=maybe_partitioner)\n",
            "/usr/local/lib/python3.7/dist-packages/keras/layers/legacy_rnn/rnn_cell_impl.py:996: UserWarning: `layer.add_variable` is deprecated and will be removed in a future version. Please use `layer.add_weight` method instead.\n",
            "  initializer=initializer)\n"
          ]
        }
      ]
    },
    {
      "cell_type": "code",
      "metadata": {
        "colab": {
          "base_uri": "https://localhost:8080/"
        },
        "id": "NYgAPRaq7yaN",
        "outputId": "75687d99-e3cf-44aa-da90-5fe1e0fbb4f1"
      },
      "source": [
        "%%time\n",
        "corpus_ws_org  = ws(text)"
      ],
      "execution_count": 40,
      "outputs": [
        {
          "output_type": "stream",
          "name": "stdout",
          "text": [
            "CPU times: user 32.9 s, sys: 4.8 s, total: 37.7 s\n",
            "Wall time: 21.9 s\n"
          ]
        }
      ]
    },
    {
      "cell_type": "markdown",
      "metadata": {
        "id": "bTcECls4bqLe"
      },
      "source": [
        "### 方便套件套件處理的空白分隔模式"
      ]
    },
    {
      "cell_type": "code",
      "metadata": {
        "id": "6yxXcBp5r1Xi"
      },
      "source": [
        "## 刪除空白的element\n",
        "corpus_ws_org = [list(filter(lambda x: x!=\"\" and x!=\" \", corpus)) for corpus in corpus_ws_org]\n"
      ],
      "execution_count": 156,
      "outputs": []
    },
    {
      "cell_type": "code",
      "metadata": {
        "id": "YVBcD8Osbu3q"
      },
      "source": [
        "corpus_ws_org\n",
        "corpus_ws_rm =[]\n",
        "for corpus in corpus_ws_org:\n",
        "  pattern = re.compile(r'\\s+')\n",
        "  corpus_ws_rm.append([re.sub(pattern, '', x) for x in corpus])\n"
      ],
      "execution_count": 158,
      "outputs": []
    },
    {
      "cell_type": "code",
      "metadata": {
        "id": "7Da3AVN_4_LR"
      },
      "source": [
        "## 停用詞\n",
        "corpus_ws_rm = [[x for x in sentence if x not in stop_words] for sentence in corpus_ws_rm]"
      ],
      "execution_count": 159,
      "outputs": []
    },
    {
      "cell_type": "code",
      "metadata": {
        "id": "EGRz8N3k8LxL"
      },
      "source": [
        "corpus_white_join = [\" \".join(x) for x in corpus_ws_rm]"
      ],
      "execution_count": 160,
      "outputs": []
    },
    {
      "cell_type": "code",
      "metadata": {
        "colab": {
          "base_uri": "https://localhost:8080/"
        },
        "id": "kSJePGm0ufN5",
        "outputId": "e07abc0d-8bd9-4118-9111-556edfd2556e"
      },
      "source": [
        "corpus_white_join[4:10]"
      ],
      "execution_count": 162,
      "outputs": [
        {
          "output_type": "execute_result",
          "data": {
            "text/plain": [
              "['22 家 壽險 前 季 合賺 3389 億 元 破紀錄 淨值比 all pass',\n",
              " '',\n",
              " '',\n",
              " '康控 KY4943 TW 15 日 公告 第三 季 財報 銷貨 客戶 存在 產品 品質 責任 歸屬 認知 差異 提列 263億 元 預期 信用 減損 導致 單季 稅 虧損 來到 2738 億 元 股 虧損 1749 元',\n",
              " '台灣 光罩 2338 TW 15 日 公告 為 因應 光罩 業務 發展 組織 擴展 計畫 增設 營運 副總 漢磊 3707 TW 前 營運 副總 曾哲斌 出任 漢磊 長期 著墨 化合物 半導體 領域 光罩 次 派任 具 化合物 半導體 背景 經理人 擔任 要職',\n",
              " '']"
            ]
          },
          "metadata": {},
          "execution_count": 162
        }
      ]
    },
    {
      "cell_type": "markdown",
      "metadata": {
        "id": "Yq9xhMI8BBe3"
      },
      "source": [
        "# text mining"
      ]
    },
    {
      "cell_type": "code",
      "metadata": {
        "id": "2Cj5XJICBZAX"
      },
      "source": [
        "import pandas as pd\n",
        "from sklearn.feature_extraction.text import TfidfVectorizer"
      ],
      "execution_count": 163,
      "outputs": []
    },
    {
      "cell_type": "markdown",
      "metadata": {
        "id": "BPzurNX-u-YX"
      },
      "source": [
        "## 中文TF-IDF\n",
        "\n",
        "`token_pattern='\\\\b\\\\w+\\\\b'` : 讓TF-IDF認得單字詞\n",
        "\n",
        "`lowercase=False`"
      ]
    },
    {
      "cell_type": "code",
      "metadata": {
        "id": "8ogn0sjLvb1U"
      },
      "source": [
        "from sklearn.feature_extraction.text import CountVectorizer\n",
        "# step 1\n",
        "vectoerizer = CountVectorizer(min_df=5, token_pattern='\\\\b\\\\w+\\\\b', lowercase=False)"
      ],
      "execution_count": 165,
      "outputs": []
    },
    {
      "cell_type": "code",
      "metadata": {
        "id": "Vz2W4UsuDaT9"
      },
      "source": [
        "from sklearn.feature_extraction.text import TfidfVectorizer\n",
        "\n",
        "tfidf = TfidfVectorizer(min_df=5, token_pattern='\\\\b\\\\w+\\\\b', lowercase=False)\n"
      ],
      "execution_count": 166,
      "outputs": []
    },
    {
      "cell_type": "code",
      "metadata": {
        "colab": {
          "base_uri": "https://localhost:8080/"
        },
        "id": "QtILCH5uyfYi",
        "outputId": "3dc77bd4-6dbc-4280-b687-aa421fbca54b"
      },
      "source": [
        "tfidf.fit(corpus_white_join)"
      ],
      "execution_count": 167,
      "outputs": [
        {
          "output_type": "execute_result",
          "data": {
            "text/plain": [
              "TfidfVectorizer(lowercase=False, min_df=5, token_pattern='\\\\b\\\\w+\\\\b')"
            ]
          },
          "metadata": {},
          "execution_count": 167
        }
      ]
    },
    {
      "cell_type": "code",
      "metadata": {
        "id": "le8Ykw0UyyQs"
      },
      "source": [
        "response = tfidf.transform(corpus_white_join)\n",
        "feature_names = tfidf.get_feature_names_out()"
      ],
      "execution_count": 168,
      "outputs": []
    },
    {
      "cell_type": "code",
      "metadata": {
        "id": "JpnF4InCxO36"
      },
      "source": [
        "feature_array = np.array(tfidf.get_feature_names_out())\n",
        "tfidf_sorting = np.argsort(response.toarray()).flatten()[::-1]\n",
        "\n",
        "n = 3\n",
        "top_n = feature_array[tfidf_sorting][:n]"
      ],
      "execution_count": 169,
      "outputs": []
    },
    {
      "cell_type": "code",
      "metadata": {
        "colab": {
          "base_uri": "https://localhost:8080/"
        },
        "id": "g71KH7aWx98Z",
        "outputId": "6d9c5a87-f394-4f62-d159-d76ae3e5bcbb"
      },
      "source": [
        "top_n"
      ],
      "execution_count": 170,
      "outputs": [
        {
          "output_type": "execute_result",
          "data": {
            "text/plain": [
              "array(['8成', '頹勢', '扭轉'], dtype=object)"
            ]
          },
          "metadata": {},
          "execution_count": 170
        }
      ]
    },
    {
      "cell_type": "code",
      "metadata": {
        "id": "_eqcnPS0zD0d"
      },
      "source": [
        ""
      ],
      "execution_count": null,
      "outputs": []
    }
  ]
}