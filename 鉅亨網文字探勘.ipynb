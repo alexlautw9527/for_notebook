{
  "nbformat": 4,
  "nbformat_minor": 0,
  "metadata": {
    "colab": {
      "name": "鉅亨網文字探勘.ipynb",
      "provenance": [],
      "collapsed_sections": [],
      "toc_visible": true,
      "machine_shape": "hm"
    },
    "kernelspec": {
      "name": "python3",
      "display_name": "Python 3"
    },
    "language_info": {
      "name": "python"
    },
    "accelerator": "GPU",
    "widgets": {
      "application/vnd.jupyter.widget-state+json": {
        "18410f4c65da4c54b7117733c63e98fd": {
          "model_module": "@jupyter-widgets/controls",
          "model_name": "HBoxModel",
          "model_module_version": "1.5.0",
          "state": {
            "_view_name": "HBoxView",
            "_dom_classes": [],
            "_model_name": "HBoxModel",
            "_view_module": "@jupyter-widgets/controls",
            "_model_module_version": "1.5.0",
            "_view_count": null,
            "_view_module_version": "1.5.0",
            "box_style": "",
            "layout": "IPY_MODEL_26375eab869e497693eeaccdd0093d1e",
            "_model_module": "@jupyter-widgets/controls",
            "children": [
              "IPY_MODEL_dcb1076bfab24b41991ab58b112dc0c6",
              "IPY_MODEL_5825985f03a3469c8f97278646cbea14",
              "IPY_MODEL_b15d0b962cd3443abc67e841a661fbc2"
            ]
          }
        },
        "26375eab869e497693eeaccdd0093d1e": {
          "model_module": "@jupyter-widgets/base",
          "model_name": "LayoutModel",
          "model_module_version": "1.2.0",
          "state": {
            "_view_name": "LayoutView",
            "grid_template_rows": null,
            "right": null,
            "justify_content": null,
            "_view_module": "@jupyter-widgets/base",
            "overflow": null,
            "_model_module_version": "1.2.0",
            "_view_count": null,
            "flex_flow": null,
            "width": null,
            "min_width": null,
            "border": null,
            "align_items": null,
            "bottom": null,
            "_model_module": "@jupyter-widgets/base",
            "top": null,
            "grid_column": null,
            "overflow_y": null,
            "overflow_x": null,
            "grid_auto_flow": null,
            "grid_area": null,
            "grid_template_columns": null,
            "flex": null,
            "_model_name": "LayoutModel",
            "justify_items": null,
            "grid_row": null,
            "max_height": null,
            "align_content": null,
            "visibility": null,
            "align_self": null,
            "height": null,
            "min_height": null,
            "padding": null,
            "grid_auto_rows": null,
            "grid_gap": null,
            "max_width": null,
            "order": null,
            "_view_module_version": "1.2.0",
            "grid_template_areas": null,
            "object_position": null,
            "object_fit": null,
            "grid_auto_columns": null,
            "margin": null,
            "display": null,
            "left": null
          }
        },
        "dcb1076bfab24b41991ab58b112dc0c6": {
          "model_module": "@jupyter-widgets/controls",
          "model_name": "HTMLModel",
          "model_module_version": "1.5.0",
          "state": {
            "_view_name": "HTMLView",
            "style": "IPY_MODEL_01b51544f201453fa8d33b2bfcd74a70",
            "_dom_classes": [],
            "description": "",
            "_model_name": "HTMLModel",
            "placeholder": "​",
            "_view_module": "@jupyter-widgets/controls",
            "_model_module_version": "1.5.0",
            "value": "Downloading: 100%",
            "_view_count": null,
            "_view_module_version": "1.5.0",
            "description_tooltip": null,
            "_model_module": "@jupyter-widgets/controls",
            "layout": "IPY_MODEL_65ed067770614eab8ace662e10a0ae1f"
          }
        },
        "5825985f03a3469c8f97278646cbea14": {
          "model_module": "@jupyter-widgets/controls",
          "model_name": "FloatProgressModel",
          "model_module_version": "1.5.0",
          "state": {
            "_view_name": "ProgressView",
            "style": "IPY_MODEL_b0fb12f9d3e7400fb4ab8daf9e56a708",
            "_dom_classes": [],
            "description": "",
            "_model_name": "FloatProgressModel",
            "bar_style": "success",
            "max": 804,
            "_view_module": "@jupyter-widgets/controls",
            "_model_module_version": "1.5.0",
            "value": 804,
            "_view_count": null,
            "_view_module_version": "1.5.0",
            "orientation": "horizontal",
            "min": 0,
            "description_tooltip": null,
            "_model_module": "@jupyter-widgets/controls",
            "layout": "IPY_MODEL_162dd404a4454244833ad81e0351a5e4"
          }
        },
        "b15d0b962cd3443abc67e841a661fbc2": {
          "model_module": "@jupyter-widgets/controls",
          "model_name": "HTMLModel",
          "model_module_version": "1.5.0",
          "state": {
            "_view_name": "HTMLView",
            "style": "IPY_MODEL_0be4b5722d194afaab35bed20d753168",
            "_dom_classes": [],
            "description": "",
            "_model_name": "HTMLModel",
            "placeholder": "​",
            "_view_module": "@jupyter-widgets/controls",
            "_model_module_version": "1.5.0",
            "value": " 804/804 [00:00&lt;00:00, 11.0kB/s]",
            "_view_count": null,
            "_view_module_version": "1.5.0",
            "description_tooltip": null,
            "_model_module": "@jupyter-widgets/controls",
            "layout": "IPY_MODEL_e98f9b2c14e04353a2495f994fc80247"
          }
        },
        "01b51544f201453fa8d33b2bfcd74a70": {
          "model_module": "@jupyter-widgets/controls",
          "model_name": "DescriptionStyleModel",
          "model_module_version": "1.5.0",
          "state": {
            "_view_name": "StyleView",
            "_model_name": "DescriptionStyleModel",
            "description_width": "",
            "_view_module": "@jupyter-widgets/base",
            "_model_module_version": "1.5.0",
            "_view_count": null,
            "_view_module_version": "1.2.0",
            "_model_module": "@jupyter-widgets/controls"
          }
        },
        "65ed067770614eab8ace662e10a0ae1f": {
          "model_module": "@jupyter-widgets/base",
          "model_name": "LayoutModel",
          "model_module_version": "1.2.0",
          "state": {
            "_view_name": "LayoutView",
            "grid_template_rows": null,
            "right": null,
            "justify_content": null,
            "_view_module": "@jupyter-widgets/base",
            "overflow": null,
            "_model_module_version": "1.2.0",
            "_view_count": null,
            "flex_flow": null,
            "width": null,
            "min_width": null,
            "border": null,
            "align_items": null,
            "bottom": null,
            "_model_module": "@jupyter-widgets/base",
            "top": null,
            "grid_column": null,
            "overflow_y": null,
            "overflow_x": null,
            "grid_auto_flow": null,
            "grid_area": null,
            "grid_template_columns": null,
            "flex": null,
            "_model_name": "LayoutModel",
            "justify_items": null,
            "grid_row": null,
            "max_height": null,
            "align_content": null,
            "visibility": null,
            "align_self": null,
            "height": null,
            "min_height": null,
            "padding": null,
            "grid_auto_rows": null,
            "grid_gap": null,
            "max_width": null,
            "order": null,
            "_view_module_version": "1.2.0",
            "grid_template_areas": null,
            "object_position": null,
            "object_fit": null,
            "grid_auto_columns": null,
            "margin": null,
            "display": null,
            "left": null
          }
        },
        "b0fb12f9d3e7400fb4ab8daf9e56a708": {
          "model_module": "@jupyter-widgets/controls",
          "model_name": "ProgressStyleModel",
          "model_module_version": "1.5.0",
          "state": {
            "_view_name": "StyleView",
            "_model_name": "ProgressStyleModel",
            "description_width": "",
            "_view_module": "@jupyter-widgets/base",
            "_model_module_version": "1.5.0",
            "_view_count": null,
            "_view_module_version": "1.2.0",
            "bar_color": null,
            "_model_module": "@jupyter-widgets/controls"
          }
        },
        "162dd404a4454244833ad81e0351a5e4": {
          "model_module": "@jupyter-widgets/base",
          "model_name": "LayoutModel",
          "model_module_version": "1.2.0",
          "state": {
            "_view_name": "LayoutView",
            "grid_template_rows": null,
            "right": null,
            "justify_content": null,
            "_view_module": "@jupyter-widgets/base",
            "overflow": null,
            "_model_module_version": "1.2.0",
            "_view_count": null,
            "flex_flow": null,
            "width": null,
            "min_width": null,
            "border": null,
            "align_items": null,
            "bottom": null,
            "_model_module": "@jupyter-widgets/base",
            "top": null,
            "grid_column": null,
            "overflow_y": null,
            "overflow_x": null,
            "grid_auto_flow": null,
            "grid_area": null,
            "grid_template_columns": null,
            "flex": null,
            "_model_name": "LayoutModel",
            "justify_items": null,
            "grid_row": null,
            "max_height": null,
            "align_content": null,
            "visibility": null,
            "align_self": null,
            "height": null,
            "min_height": null,
            "padding": null,
            "grid_auto_rows": null,
            "grid_gap": null,
            "max_width": null,
            "order": null,
            "_view_module_version": "1.2.0",
            "grid_template_areas": null,
            "object_position": null,
            "object_fit": null,
            "grid_auto_columns": null,
            "margin": null,
            "display": null,
            "left": null
          }
        },
        "0be4b5722d194afaab35bed20d753168": {
          "model_module": "@jupyter-widgets/controls",
          "model_name": "DescriptionStyleModel",
          "model_module_version": "1.5.0",
          "state": {
            "_view_name": "StyleView",
            "_model_name": "DescriptionStyleModel",
            "description_width": "",
            "_view_module": "@jupyter-widgets/base",
            "_model_module_version": "1.5.0",
            "_view_count": null,
            "_view_module_version": "1.2.0",
            "_model_module": "@jupyter-widgets/controls"
          }
        },
        "e98f9b2c14e04353a2495f994fc80247": {
          "model_module": "@jupyter-widgets/base",
          "model_name": "LayoutModel",
          "model_module_version": "1.2.0",
          "state": {
            "_view_name": "LayoutView",
            "grid_template_rows": null,
            "right": null,
            "justify_content": null,
            "_view_module": "@jupyter-widgets/base",
            "overflow": null,
            "_model_module_version": "1.2.0",
            "_view_count": null,
            "flex_flow": null,
            "width": null,
            "min_width": null,
            "border": null,
            "align_items": null,
            "bottom": null,
            "_model_module": "@jupyter-widgets/base",
            "top": null,
            "grid_column": null,
            "overflow_y": null,
            "overflow_x": null,
            "grid_auto_flow": null,
            "grid_area": null,
            "grid_template_columns": null,
            "flex": null,
            "_model_name": "LayoutModel",
            "justify_items": null,
            "grid_row": null,
            "max_height": null,
            "align_content": null,
            "visibility": null,
            "align_self": null,
            "height": null,
            "min_height": null,
            "padding": null,
            "grid_auto_rows": null,
            "grid_gap": null,
            "max_width": null,
            "order": null,
            "_view_module_version": "1.2.0",
            "grid_template_areas": null,
            "object_position": null,
            "object_fit": null,
            "grid_auto_columns": null,
            "margin": null,
            "display": null,
            "left": null
          }
        },
        "c78cf57e4d57439eaaaf09c46de21390": {
          "model_module": "@jupyter-widgets/controls",
          "model_name": "HBoxModel",
          "model_module_version": "1.5.0",
          "state": {
            "_view_name": "HBoxView",
            "_dom_classes": [],
            "_model_name": "HBoxModel",
            "_view_module": "@jupyter-widgets/controls",
            "_model_module_version": "1.5.0",
            "_view_count": null,
            "_view_module_version": "1.5.0",
            "box_style": "",
            "layout": "IPY_MODEL_0fd3b85ce88140e99d1fcb5cf9f02951",
            "_model_module": "@jupyter-widgets/controls",
            "children": [
              "IPY_MODEL_f5a0e8a8245e4ebfad0f673782278a1d",
              "IPY_MODEL_a53e571decaf44e1841df7ab9cac153e",
              "IPY_MODEL_8f898cbf90f24699ac40a58cdd7315a9"
            ]
          }
        },
        "0fd3b85ce88140e99d1fcb5cf9f02951": {
          "model_module": "@jupyter-widgets/base",
          "model_name": "LayoutModel",
          "model_module_version": "1.2.0",
          "state": {
            "_view_name": "LayoutView",
            "grid_template_rows": null,
            "right": null,
            "justify_content": null,
            "_view_module": "@jupyter-widgets/base",
            "overflow": null,
            "_model_module_version": "1.2.0",
            "_view_count": null,
            "flex_flow": null,
            "width": null,
            "min_width": null,
            "border": null,
            "align_items": null,
            "bottom": null,
            "_model_module": "@jupyter-widgets/base",
            "top": null,
            "grid_column": null,
            "overflow_y": null,
            "overflow_x": null,
            "grid_auto_flow": null,
            "grid_area": null,
            "grid_template_columns": null,
            "flex": null,
            "_model_name": "LayoutModel",
            "justify_items": null,
            "grid_row": null,
            "max_height": null,
            "align_content": null,
            "visibility": null,
            "align_self": null,
            "height": null,
            "min_height": null,
            "padding": null,
            "grid_auto_rows": null,
            "grid_gap": null,
            "max_width": null,
            "order": null,
            "_view_module_version": "1.2.0",
            "grid_template_areas": null,
            "object_position": null,
            "object_fit": null,
            "grid_auto_columns": null,
            "margin": null,
            "display": null,
            "left": null
          }
        },
        "f5a0e8a8245e4ebfad0f673782278a1d": {
          "model_module": "@jupyter-widgets/controls",
          "model_name": "HTMLModel",
          "model_module_version": "1.5.0",
          "state": {
            "_view_name": "HTMLView",
            "style": "IPY_MODEL_bc0d25a686ac41de96786ac7eb0a242d",
            "_dom_classes": [],
            "description": "",
            "_model_name": "HTMLModel",
            "placeholder": "​",
            "_view_module": "@jupyter-widgets/controls",
            "_model_module_version": "1.5.0",
            "value": "Downloading: 100%",
            "_view_count": null,
            "_view_module_version": "1.5.0",
            "description_tooltip": null,
            "_model_module": "@jupyter-widgets/controls",
            "layout": "IPY_MODEL_f0c1ec9749ac437dbc4f4f2413152d91"
          }
        },
        "a53e571decaf44e1841df7ab9cac153e": {
          "model_module": "@jupyter-widgets/controls",
          "model_name": "FloatProgressModel",
          "model_module_version": "1.5.0",
          "state": {
            "_view_name": "ProgressView",
            "style": "IPY_MODEL_ffd38b5edcf8448a88e337f9ed5b353d",
            "_dom_classes": [],
            "description": "",
            "_model_name": "FloatProgressModel",
            "bar_style": "success",
            "max": 406802935,
            "_view_module": "@jupyter-widgets/controls",
            "_model_module_version": "1.5.0",
            "value": 406802935,
            "_view_count": null,
            "_view_module_version": "1.5.0",
            "orientation": "horizontal",
            "min": 0,
            "description_tooltip": null,
            "_model_module": "@jupyter-widgets/controls",
            "layout": "IPY_MODEL_43515bf052fe493b9f44b96b6a0bfdd9"
          }
        },
        "8f898cbf90f24699ac40a58cdd7315a9": {
          "model_module": "@jupyter-widgets/controls",
          "model_name": "HTMLModel",
          "model_module_version": "1.5.0",
          "state": {
            "_view_name": "HTMLView",
            "style": "IPY_MODEL_f1b2f6cb197c460c8df69319c8c4ddd0",
            "_dom_classes": [],
            "description": "",
            "_model_name": "HTMLModel",
            "placeholder": "​",
            "_view_module": "@jupyter-widgets/controls",
            "_model_module_version": "1.5.0",
            "value": " 388M/388M [00:22&lt;00:00, 26.1MB/s]",
            "_view_count": null,
            "_view_module_version": "1.5.0",
            "description_tooltip": null,
            "_model_module": "@jupyter-widgets/controls",
            "layout": "IPY_MODEL_1a74fe7e9e374e85b3df6ca3fdd7aabd"
          }
        },
        "bc0d25a686ac41de96786ac7eb0a242d": {
          "model_module": "@jupyter-widgets/controls",
          "model_name": "DescriptionStyleModel",
          "model_module_version": "1.5.0",
          "state": {
            "_view_name": "StyleView",
            "_model_name": "DescriptionStyleModel",
            "description_width": "",
            "_view_module": "@jupyter-widgets/base",
            "_model_module_version": "1.5.0",
            "_view_count": null,
            "_view_module_version": "1.2.0",
            "_model_module": "@jupyter-widgets/controls"
          }
        },
        "f0c1ec9749ac437dbc4f4f2413152d91": {
          "model_module": "@jupyter-widgets/base",
          "model_name": "LayoutModel",
          "model_module_version": "1.2.0",
          "state": {
            "_view_name": "LayoutView",
            "grid_template_rows": null,
            "right": null,
            "justify_content": null,
            "_view_module": "@jupyter-widgets/base",
            "overflow": null,
            "_model_module_version": "1.2.0",
            "_view_count": null,
            "flex_flow": null,
            "width": null,
            "min_width": null,
            "border": null,
            "align_items": null,
            "bottom": null,
            "_model_module": "@jupyter-widgets/base",
            "top": null,
            "grid_column": null,
            "overflow_y": null,
            "overflow_x": null,
            "grid_auto_flow": null,
            "grid_area": null,
            "grid_template_columns": null,
            "flex": null,
            "_model_name": "LayoutModel",
            "justify_items": null,
            "grid_row": null,
            "max_height": null,
            "align_content": null,
            "visibility": null,
            "align_self": null,
            "height": null,
            "min_height": null,
            "padding": null,
            "grid_auto_rows": null,
            "grid_gap": null,
            "max_width": null,
            "order": null,
            "_view_module_version": "1.2.0",
            "grid_template_areas": null,
            "object_position": null,
            "object_fit": null,
            "grid_auto_columns": null,
            "margin": null,
            "display": null,
            "left": null
          }
        },
        "ffd38b5edcf8448a88e337f9ed5b353d": {
          "model_module": "@jupyter-widgets/controls",
          "model_name": "ProgressStyleModel",
          "model_module_version": "1.5.0",
          "state": {
            "_view_name": "StyleView",
            "_model_name": "ProgressStyleModel",
            "description_width": "",
            "_view_module": "@jupyter-widgets/base",
            "_model_module_version": "1.5.0",
            "_view_count": null,
            "_view_module_version": "1.2.0",
            "bar_color": null,
            "_model_module": "@jupyter-widgets/controls"
          }
        },
        "43515bf052fe493b9f44b96b6a0bfdd9": {
          "model_module": "@jupyter-widgets/base",
          "model_name": "LayoutModel",
          "model_module_version": "1.2.0",
          "state": {
            "_view_name": "LayoutView",
            "grid_template_rows": null,
            "right": null,
            "justify_content": null,
            "_view_module": "@jupyter-widgets/base",
            "overflow": null,
            "_model_module_version": "1.2.0",
            "_view_count": null,
            "flex_flow": null,
            "width": null,
            "min_width": null,
            "border": null,
            "align_items": null,
            "bottom": null,
            "_model_module": "@jupyter-widgets/base",
            "top": null,
            "grid_column": null,
            "overflow_y": null,
            "overflow_x": null,
            "grid_auto_flow": null,
            "grid_area": null,
            "grid_template_columns": null,
            "flex": null,
            "_model_name": "LayoutModel",
            "justify_items": null,
            "grid_row": null,
            "max_height": null,
            "align_content": null,
            "visibility": null,
            "align_self": null,
            "height": null,
            "min_height": null,
            "padding": null,
            "grid_auto_rows": null,
            "grid_gap": null,
            "max_width": null,
            "order": null,
            "_view_module_version": "1.2.0",
            "grid_template_areas": null,
            "object_position": null,
            "object_fit": null,
            "grid_auto_columns": null,
            "margin": null,
            "display": null,
            "left": null
          }
        },
        "f1b2f6cb197c460c8df69319c8c4ddd0": {
          "model_module": "@jupyter-widgets/controls",
          "model_name": "DescriptionStyleModel",
          "model_module_version": "1.5.0",
          "state": {
            "_view_name": "StyleView",
            "_model_name": "DescriptionStyleModel",
            "description_width": "",
            "_view_module": "@jupyter-widgets/base",
            "_model_module_version": "1.5.0",
            "_view_count": null,
            "_view_module_version": "1.2.0",
            "_model_module": "@jupyter-widgets/controls"
          }
        },
        "1a74fe7e9e374e85b3df6ca3fdd7aabd": {
          "model_module": "@jupyter-widgets/base",
          "model_name": "LayoutModel",
          "model_module_version": "1.2.0",
          "state": {
            "_view_name": "LayoutView",
            "grid_template_rows": null,
            "right": null,
            "justify_content": null,
            "_view_module": "@jupyter-widgets/base",
            "overflow": null,
            "_model_module_version": "1.2.0",
            "_view_count": null,
            "flex_flow": null,
            "width": null,
            "min_width": null,
            "border": null,
            "align_items": null,
            "bottom": null,
            "_model_module": "@jupyter-widgets/base",
            "top": null,
            "grid_column": null,
            "overflow_y": null,
            "overflow_x": null,
            "grid_auto_flow": null,
            "grid_area": null,
            "grid_template_columns": null,
            "flex": null,
            "_model_name": "LayoutModel",
            "justify_items": null,
            "grid_row": null,
            "max_height": null,
            "align_content": null,
            "visibility": null,
            "align_self": null,
            "height": null,
            "min_height": null,
            "padding": null,
            "grid_auto_rows": null,
            "grid_gap": null,
            "max_width": null,
            "order": null,
            "_view_module_version": "1.2.0",
            "grid_template_areas": null,
            "object_position": null,
            "object_fit": null,
            "grid_auto_columns": null,
            "margin": null,
            "display": null,
            "left": null
          }
        },
        "2ea98d7c6a894391bfdb9832377104a5": {
          "model_module": "@jupyter-widgets/controls",
          "model_name": "HBoxModel",
          "model_module_version": "1.5.0",
          "state": {
            "_view_name": "HBoxView",
            "_dom_classes": [],
            "_model_name": "HBoxModel",
            "_view_module": "@jupyter-widgets/controls",
            "_model_module_version": "1.5.0",
            "_view_count": null,
            "_view_module_version": "1.5.0",
            "box_style": "",
            "layout": "IPY_MODEL_fb0876cf85974fb9afeaa94813211f3b",
            "_model_module": "@jupyter-widgets/controls",
            "children": [
              "IPY_MODEL_ddebeef081c6442b956f05ad507b0134",
              "IPY_MODEL_052793ad7dcd4814a8725635770181ed",
              "IPY_MODEL_9ae806554fa048a0b44ec965fa43dff8"
            ]
          }
        },
        "fb0876cf85974fb9afeaa94813211f3b": {
          "model_module": "@jupyter-widgets/base",
          "model_name": "LayoutModel",
          "model_module_version": "1.2.0",
          "state": {
            "_view_name": "LayoutView",
            "grid_template_rows": null,
            "right": null,
            "justify_content": null,
            "_view_module": "@jupyter-widgets/base",
            "overflow": null,
            "_model_module_version": "1.2.0",
            "_view_count": null,
            "flex_flow": null,
            "width": null,
            "min_width": null,
            "border": null,
            "align_items": null,
            "bottom": null,
            "_model_module": "@jupyter-widgets/base",
            "top": null,
            "grid_column": null,
            "overflow_y": null,
            "overflow_x": null,
            "grid_auto_flow": null,
            "grid_area": null,
            "grid_template_columns": null,
            "flex": null,
            "_model_name": "LayoutModel",
            "justify_items": null,
            "grid_row": null,
            "max_height": null,
            "align_content": null,
            "visibility": null,
            "align_self": null,
            "height": null,
            "min_height": null,
            "padding": null,
            "grid_auto_rows": null,
            "grid_gap": null,
            "max_width": null,
            "order": null,
            "_view_module_version": "1.2.0",
            "grid_template_areas": null,
            "object_position": null,
            "object_fit": null,
            "grid_auto_columns": null,
            "margin": null,
            "display": null,
            "left": null
          }
        },
        "ddebeef081c6442b956f05ad507b0134": {
          "model_module": "@jupyter-widgets/controls",
          "model_name": "HTMLModel",
          "model_module_version": "1.5.0",
          "state": {
            "_view_name": "HTMLView",
            "style": "IPY_MODEL_1e727b01dca540ab8a0602f698b57edd",
            "_dom_classes": [],
            "description": "",
            "_model_name": "HTMLModel",
            "placeholder": "​",
            "_view_module": "@jupyter-widgets/controls",
            "_model_module_version": "1.5.0",
            "value": "Downloading: 100%",
            "_view_count": null,
            "_view_module_version": "1.5.0",
            "description_tooltip": null,
            "_model_module": "@jupyter-widgets/controls",
            "layout": "IPY_MODEL_187b20e2c2b14615a51ea5abca68e637"
          }
        },
        "052793ad7dcd4814a8725635770181ed": {
          "model_module": "@jupyter-widgets/controls",
          "model_name": "FloatProgressModel",
          "model_module_version": "1.5.0",
          "state": {
            "_view_name": "ProgressView",
            "style": "IPY_MODEL_04e2f64db8694b6d927d9e5b710c44f5",
            "_dom_classes": [],
            "description": "",
            "_model_name": "FloatProgressModel",
            "bar_style": "success",
            "max": 109540,
            "_view_module": "@jupyter-widgets/controls",
            "_model_module_version": "1.5.0",
            "value": 109540,
            "_view_count": null,
            "_view_module_version": "1.5.0",
            "orientation": "horizontal",
            "min": 0,
            "description_tooltip": null,
            "_model_module": "@jupyter-widgets/controls",
            "layout": "IPY_MODEL_3b957df949b9483981413af2e760810c"
          }
        },
        "9ae806554fa048a0b44ec965fa43dff8": {
          "model_module": "@jupyter-widgets/controls",
          "model_name": "HTMLModel",
          "model_module_version": "1.5.0",
          "state": {
            "_view_name": "HTMLView",
            "style": "IPY_MODEL_c3cd53d48f804e798d80d56eeaac3457",
            "_dom_classes": [],
            "description": "",
            "_model_name": "HTMLModel",
            "placeholder": "​",
            "_view_module": "@jupyter-widgets/controls",
            "_model_module_version": "1.5.0",
            "value": " 107k/107k [00:00&lt;00:00, 1.15MB/s]",
            "_view_count": null,
            "_view_module_version": "1.5.0",
            "description_tooltip": null,
            "_model_module": "@jupyter-widgets/controls",
            "layout": "IPY_MODEL_9f13fbe9cb8b43fbbc6517b29e51f48d"
          }
        },
        "1e727b01dca540ab8a0602f698b57edd": {
          "model_module": "@jupyter-widgets/controls",
          "model_name": "DescriptionStyleModel",
          "model_module_version": "1.5.0",
          "state": {
            "_view_name": "StyleView",
            "_model_name": "DescriptionStyleModel",
            "description_width": "",
            "_view_module": "@jupyter-widgets/base",
            "_model_module_version": "1.5.0",
            "_view_count": null,
            "_view_module_version": "1.2.0",
            "_model_module": "@jupyter-widgets/controls"
          }
        },
        "187b20e2c2b14615a51ea5abca68e637": {
          "model_module": "@jupyter-widgets/base",
          "model_name": "LayoutModel",
          "model_module_version": "1.2.0",
          "state": {
            "_view_name": "LayoutView",
            "grid_template_rows": null,
            "right": null,
            "justify_content": null,
            "_view_module": "@jupyter-widgets/base",
            "overflow": null,
            "_model_module_version": "1.2.0",
            "_view_count": null,
            "flex_flow": null,
            "width": null,
            "min_width": null,
            "border": null,
            "align_items": null,
            "bottom": null,
            "_model_module": "@jupyter-widgets/base",
            "top": null,
            "grid_column": null,
            "overflow_y": null,
            "overflow_x": null,
            "grid_auto_flow": null,
            "grid_area": null,
            "grid_template_columns": null,
            "flex": null,
            "_model_name": "LayoutModel",
            "justify_items": null,
            "grid_row": null,
            "max_height": null,
            "align_content": null,
            "visibility": null,
            "align_self": null,
            "height": null,
            "min_height": null,
            "padding": null,
            "grid_auto_rows": null,
            "grid_gap": null,
            "max_width": null,
            "order": null,
            "_view_module_version": "1.2.0",
            "grid_template_areas": null,
            "object_position": null,
            "object_fit": null,
            "grid_auto_columns": null,
            "margin": null,
            "display": null,
            "left": null
          }
        },
        "04e2f64db8694b6d927d9e5b710c44f5": {
          "model_module": "@jupyter-widgets/controls",
          "model_name": "ProgressStyleModel",
          "model_module_version": "1.5.0",
          "state": {
            "_view_name": "StyleView",
            "_model_name": "ProgressStyleModel",
            "description_width": "",
            "_view_module": "@jupyter-widgets/base",
            "_model_module_version": "1.5.0",
            "_view_count": null,
            "_view_module_version": "1.2.0",
            "bar_color": null,
            "_model_module": "@jupyter-widgets/controls"
          }
        },
        "3b957df949b9483981413af2e760810c": {
          "model_module": "@jupyter-widgets/base",
          "model_name": "LayoutModel",
          "model_module_version": "1.2.0",
          "state": {
            "_view_name": "LayoutView",
            "grid_template_rows": null,
            "right": null,
            "justify_content": null,
            "_view_module": "@jupyter-widgets/base",
            "overflow": null,
            "_model_module_version": "1.2.0",
            "_view_count": null,
            "flex_flow": null,
            "width": null,
            "min_width": null,
            "border": null,
            "align_items": null,
            "bottom": null,
            "_model_module": "@jupyter-widgets/base",
            "top": null,
            "grid_column": null,
            "overflow_y": null,
            "overflow_x": null,
            "grid_auto_flow": null,
            "grid_area": null,
            "grid_template_columns": null,
            "flex": null,
            "_model_name": "LayoutModel",
            "justify_items": null,
            "grid_row": null,
            "max_height": null,
            "align_content": null,
            "visibility": null,
            "align_self": null,
            "height": null,
            "min_height": null,
            "padding": null,
            "grid_auto_rows": null,
            "grid_gap": null,
            "max_width": null,
            "order": null,
            "_view_module_version": "1.2.0",
            "grid_template_areas": null,
            "object_position": null,
            "object_fit": null,
            "grid_auto_columns": null,
            "margin": null,
            "display": null,
            "left": null
          }
        },
        "c3cd53d48f804e798d80d56eeaac3457": {
          "model_module": "@jupyter-widgets/controls",
          "model_name": "DescriptionStyleModel",
          "model_module_version": "1.5.0",
          "state": {
            "_view_name": "StyleView",
            "_model_name": "DescriptionStyleModel",
            "description_width": "",
            "_view_module": "@jupyter-widgets/base",
            "_model_module_version": "1.5.0",
            "_view_count": null,
            "_view_module_version": "1.2.0",
            "_model_module": "@jupyter-widgets/controls"
          }
        },
        "9f13fbe9cb8b43fbbc6517b29e51f48d": {
          "model_module": "@jupyter-widgets/base",
          "model_name": "LayoutModel",
          "model_module_version": "1.2.0",
          "state": {
            "_view_name": "LayoutView",
            "grid_template_rows": null,
            "right": null,
            "justify_content": null,
            "_view_module": "@jupyter-widgets/base",
            "overflow": null,
            "_model_module_version": "1.2.0",
            "_view_count": null,
            "flex_flow": null,
            "width": null,
            "min_width": null,
            "border": null,
            "align_items": null,
            "bottom": null,
            "_model_module": "@jupyter-widgets/base",
            "top": null,
            "grid_column": null,
            "overflow_y": null,
            "overflow_x": null,
            "grid_auto_flow": null,
            "grid_area": null,
            "grid_template_columns": null,
            "flex": null,
            "_model_name": "LayoutModel",
            "justify_items": null,
            "grid_row": null,
            "max_height": null,
            "align_content": null,
            "visibility": null,
            "align_self": null,
            "height": null,
            "min_height": null,
            "padding": null,
            "grid_auto_rows": null,
            "grid_gap": null,
            "max_width": null,
            "order": null,
            "_view_module_version": "1.2.0",
            "grid_template_areas": null,
            "object_position": null,
            "object_fit": null,
            "grid_auto_columns": null,
            "margin": null,
            "display": null,
            "left": null
          }
        },
        "d7d7d0cdb329477080157984237ab8c8": {
          "model_module": "@jupyter-widgets/controls",
          "model_name": "HBoxModel",
          "model_module_version": "1.5.0",
          "state": {
            "_view_name": "HBoxView",
            "_dom_classes": [],
            "_model_name": "HBoxModel",
            "_view_module": "@jupyter-widgets/controls",
            "_model_module_version": "1.5.0",
            "_view_count": null,
            "_view_module_version": "1.5.0",
            "box_style": "",
            "layout": "IPY_MODEL_9541e5791e364ac5b68236a7cf8be40e",
            "_model_module": "@jupyter-widgets/controls",
            "children": [
              "IPY_MODEL_b494f53f396b4dae836f947ae0129152",
              "IPY_MODEL_47298471b48e4894add9577cc16b7606",
              "IPY_MODEL_6f92ba9883124f6a8bdd5430eebc3d07"
            ]
          }
        },
        "9541e5791e364ac5b68236a7cf8be40e": {
          "model_module": "@jupyter-widgets/base",
          "model_name": "LayoutModel",
          "model_module_version": "1.2.0",
          "state": {
            "_view_name": "LayoutView",
            "grid_template_rows": null,
            "right": null,
            "justify_content": null,
            "_view_module": "@jupyter-widgets/base",
            "overflow": null,
            "_model_module_version": "1.2.0",
            "_view_count": null,
            "flex_flow": null,
            "width": null,
            "min_width": null,
            "border": null,
            "align_items": null,
            "bottom": null,
            "_model_module": "@jupyter-widgets/base",
            "top": null,
            "grid_column": null,
            "overflow_y": null,
            "overflow_x": null,
            "grid_auto_flow": null,
            "grid_area": null,
            "grid_template_columns": null,
            "flex": null,
            "_model_name": "LayoutModel",
            "justify_items": null,
            "grid_row": null,
            "max_height": null,
            "align_content": null,
            "visibility": null,
            "align_self": null,
            "height": null,
            "min_height": null,
            "padding": null,
            "grid_auto_rows": null,
            "grid_gap": null,
            "max_width": null,
            "order": null,
            "_view_module_version": "1.2.0",
            "grid_template_areas": null,
            "object_position": null,
            "object_fit": null,
            "grid_auto_columns": null,
            "margin": null,
            "display": null,
            "left": null
          }
        },
        "b494f53f396b4dae836f947ae0129152": {
          "model_module": "@jupyter-widgets/controls",
          "model_name": "HTMLModel",
          "model_module_version": "1.5.0",
          "state": {
            "_view_name": "HTMLView",
            "style": "IPY_MODEL_18ae55ab7d32482a9c9a620867e1e0ba",
            "_dom_classes": [],
            "description": "",
            "_model_name": "HTMLModel",
            "placeholder": "​",
            "_view_module": "@jupyter-widgets/controls",
            "_model_module_version": "1.5.0",
            "value": "Downloading: 100%",
            "_view_count": null,
            "_view_module_version": "1.5.0",
            "description_tooltip": null,
            "_model_module": "@jupyter-widgets/controls",
            "layout": "IPY_MODEL_b4804471feef4c7293169c37c4e32408"
          }
        },
        "47298471b48e4894add9577cc16b7606": {
          "model_module": "@jupyter-widgets/controls",
          "model_name": "FloatProgressModel",
          "model_module_version": "1.5.0",
          "state": {
            "_view_name": "ProgressView",
            "style": "IPY_MODEL_e37487b83613439a95bf7ee2e1e15caf",
            "_dom_classes": [],
            "description": "",
            "_model_name": "FloatProgressModel",
            "bar_style": "success",
            "max": 112,
            "_view_module": "@jupyter-widgets/controls",
            "_model_module_version": "1.5.0",
            "value": 112,
            "_view_count": null,
            "_view_module_version": "1.5.0",
            "orientation": "horizontal",
            "min": 0,
            "description_tooltip": null,
            "_model_module": "@jupyter-widgets/controls",
            "layout": "IPY_MODEL_67aef88cdbb94cbdaec48414f0ab9007"
          }
        },
        "6f92ba9883124f6a8bdd5430eebc3d07": {
          "model_module": "@jupyter-widgets/controls",
          "model_name": "HTMLModel",
          "model_module_version": "1.5.0",
          "state": {
            "_view_name": "HTMLView",
            "style": "IPY_MODEL_e687946ea77e40ab9c94631963dc740f",
            "_dom_classes": [],
            "description": "",
            "_model_name": "HTMLModel",
            "placeholder": "​",
            "_view_module": "@jupyter-widgets/controls",
            "_model_module_version": "1.5.0",
            "value": " 112/112 [00:00&lt;00:00, 2.31kB/s]",
            "_view_count": null,
            "_view_module_version": "1.5.0",
            "description_tooltip": null,
            "_model_module": "@jupyter-widgets/controls",
            "layout": "IPY_MODEL_25fc9d9068c14ddfa7df1a07aac0ad3a"
          }
        },
        "18ae55ab7d32482a9c9a620867e1e0ba": {
          "model_module": "@jupyter-widgets/controls",
          "model_name": "DescriptionStyleModel",
          "model_module_version": "1.5.0",
          "state": {
            "_view_name": "StyleView",
            "_model_name": "DescriptionStyleModel",
            "description_width": "",
            "_view_module": "@jupyter-widgets/base",
            "_model_module_version": "1.5.0",
            "_view_count": null,
            "_view_module_version": "1.2.0",
            "_model_module": "@jupyter-widgets/controls"
          }
        },
        "b4804471feef4c7293169c37c4e32408": {
          "model_module": "@jupyter-widgets/base",
          "model_name": "LayoutModel",
          "model_module_version": "1.2.0",
          "state": {
            "_view_name": "LayoutView",
            "grid_template_rows": null,
            "right": null,
            "justify_content": null,
            "_view_module": "@jupyter-widgets/base",
            "overflow": null,
            "_model_module_version": "1.2.0",
            "_view_count": null,
            "flex_flow": null,
            "width": null,
            "min_width": null,
            "border": null,
            "align_items": null,
            "bottom": null,
            "_model_module": "@jupyter-widgets/base",
            "top": null,
            "grid_column": null,
            "overflow_y": null,
            "overflow_x": null,
            "grid_auto_flow": null,
            "grid_area": null,
            "grid_template_columns": null,
            "flex": null,
            "_model_name": "LayoutModel",
            "justify_items": null,
            "grid_row": null,
            "max_height": null,
            "align_content": null,
            "visibility": null,
            "align_self": null,
            "height": null,
            "min_height": null,
            "padding": null,
            "grid_auto_rows": null,
            "grid_gap": null,
            "max_width": null,
            "order": null,
            "_view_module_version": "1.2.0",
            "grid_template_areas": null,
            "object_position": null,
            "object_fit": null,
            "grid_auto_columns": null,
            "margin": null,
            "display": null,
            "left": null
          }
        },
        "e37487b83613439a95bf7ee2e1e15caf": {
          "model_module": "@jupyter-widgets/controls",
          "model_name": "ProgressStyleModel",
          "model_module_version": "1.5.0",
          "state": {
            "_view_name": "StyleView",
            "_model_name": "ProgressStyleModel",
            "description_width": "",
            "_view_module": "@jupyter-widgets/base",
            "_model_module_version": "1.5.0",
            "_view_count": null,
            "_view_module_version": "1.2.0",
            "bar_color": null,
            "_model_module": "@jupyter-widgets/controls"
          }
        },
        "67aef88cdbb94cbdaec48414f0ab9007": {
          "model_module": "@jupyter-widgets/base",
          "model_name": "LayoutModel",
          "model_module_version": "1.2.0",
          "state": {
            "_view_name": "LayoutView",
            "grid_template_rows": null,
            "right": null,
            "justify_content": null,
            "_view_module": "@jupyter-widgets/base",
            "overflow": null,
            "_model_module_version": "1.2.0",
            "_view_count": null,
            "flex_flow": null,
            "width": null,
            "min_width": null,
            "border": null,
            "align_items": null,
            "bottom": null,
            "_model_module": "@jupyter-widgets/base",
            "top": null,
            "grid_column": null,
            "overflow_y": null,
            "overflow_x": null,
            "grid_auto_flow": null,
            "grid_area": null,
            "grid_template_columns": null,
            "flex": null,
            "_model_name": "LayoutModel",
            "justify_items": null,
            "grid_row": null,
            "max_height": null,
            "align_content": null,
            "visibility": null,
            "align_self": null,
            "height": null,
            "min_height": null,
            "padding": null,
            "grid_auto_rows": null,
            "grid_gap": null,
            "max_width": null,
            "order": null,
            "_view_module_version": "1.2.0",
            "grid_template_areas": null,
            "object_position": null,
            "object_fit": null,
            "grid_auto_columns": null,
            "margin": null,
            "display": null,
            "left": null
          }
        },
        "e687946ea77e40ab9c94631963dc740f": {
          "model_module": "@jupyter-widgets/controls",
          "model_name": "DescriptionStyleModel",
          "model_module_version": "1.5.0",
          "state": {
            "_view_name": "StyleView",
            "_model_name": "DescriptionStyleModel",
            "description_width": "",
            "_view_module": "@jupyter-widgets/base",
            "_model_module_version": "1.5.0",
            "_view_count": null,
            "_view_module_version": "1.2.0",
            "_model_module": "@jupyter-widgets/controls"
          }
        },
        "25fc9d9068c14ddfa7df1a07aac0ad3a": {
          "model_module": "@jupyter-widgets/base",
          "model_name": "LayoutModel",
          "model_module_version": "1.2.0",
          "state": {
            "_view_name": "LayoutView",
            "grid_template_rows": null,
            "right": null,
            "justify_content": null,
            "_view_module": "@jupyter-widgets/base",
            "overflow": null,
            "_model_module_version": "1.2.0",
            "_view_count": null,
            "flex_flow": null,
            "width": null,
            "min_width": null,
            "border": null,
            "align_items": null,
            "bottom": null,
            "_model_module": "@jupyter-widgets/base",
            "top": null,
            "grid_column": null,
            "overflow_y": null,
            "overflow_x": null,
            "grid_auto_flow": null,
            "grid_area": null,
            "grid_template_columns": null,
            "flex": null,
            "_model_name": "LayoutModel",
            "justify_items": null,
            "grid_row": null,
            "max_height": null,
            "align_content": null,
            "visibility": null,
            "align_self": null,
            "height": null,
            "min_height": null,
            "padding": null,
            "grid_auto_rows": null,
            "grid_gap": null,
            "max_width": null,
            "order": null,
            "_view_module_version": "1.2.0",
            "grid_template_areas": null,
            "object_position": null,
            "object_fit": null,
            "grid_auto_columns": null,
            "margin": null,
            "display": null,
            "left": null
          }
        },
        "41df08630fcc4e4dba0d38bda51ecf75": {
          "model_module": "@jupyter-widgets/controls",
          "model_name": "HBoxModel",
          "model_module_version": "1.5.0",
          "state": {
            "_view_name": "HBoxView",
            "_dom_classes": [],
            "_model_name": "HBoxModel",
            "_view_module": "@jupyter-widgets/controls",
            "_model_module_version": "1.5.0",
            "_view_count": null,
            "_view_module_version": "1.5.0",
            "box_style": "",
            "layout": "IPY_MODEL_d2a1c2f0883e4838a4c6f6ddf35abf44",
            "_model_module": "@jupyter-widgets/controls",
            "children": [
              "IPY_MODEL_dda2c1ee57e542a0b4f933d997cfaba2",
              "IPY_MODEL_f57a4d39bcd7409494b9912fff2e98cf",
              "IPY_MODEL_1f12bc0371c94a6aa822d9b5cf0897c6"
            ]
          }
        },
        "d2a1c2f0883e4838a4c6f6ddf35abf44": {
          "model_module": "@jupyter-widgets/base",
          "model_name": "LayoutModel",
          "model_module_version": "1.2.0",
          "state": {
            "_view_name": "LayoutView",
            "grid_template_rows": null,
            "right": null,
            "justify_content": null,
            "_view_module": "@jupyter-widgets/base",
            "overflow": null,
            "_model_module_version": "1.2.0",
            "_view_count": null,
            "flex_flow": null,
            "width": null,
            "min_width": null,
            "border": null,
            "align_items": null,
            "bottom": null,
            "_model_module": "@jupyter-widgets/base",
            "top": null,
            "grid_column": null,
            "overflow_y": null,
            "overflow_x": null,
            "grid_auto_flow": null,
            "grid_area": null,
            "grid_template_columns": null,
            "flex": null,
            "_model_name": "LayoutModel",
            "justify_items": null,
            "grid_row": null,
            "max_height": null,
            "align_content": null,
            "visibility": null,
            "align_self": null,
            "height": null,
            "min_height": null,
            "padding": null,
            "grid_auto_rows": null,
            "grid_gap": null,
            "max_width": null,
            "order": null,
            "_view_module_version": "1.2.0",
            "grid_template_areas": null,
            "object_position": null,
            "object_fit": null,
            "grid_auto_columns": null,
            "margin": null,
            "display": null,
            "left": null
          }
        },
        "dda2c1ee57e542a0b4f933d997cfaba2": {
          "model_module": "@jupyter-widgets/controls",
          "model_name": "HTMLModel",
          "model_module_version": "1.5.0",
          "state": {
            "_view_name": "HTMLView",
            "style": "IPY_MODEL_85aff0b207b84180b8107f963177bca0",
            "_dom_classes": [],
            "description": "",
            "_model_name": "HTMLModel",
            "placeholder": "​",
            "_view_module": "@jupyter-widgets/controls",
            "_model_module_version": "1.5.0",
            "value": "Downloading: 100%",
            "_view_count": null,
            "_view_module_version": "1.5.0",
            "description_tooltip": null,
            "_model_module": "@jupyter-widgets/controls",
            "layout": "IPY_MODEL_a99b63ab95064163ab99ce47f7406baa"
          }
        },
        "f57a4d39bcd7409494b9912fff2e98cf": {
          "model_module": "@jupyter-widgets/controls",
          "model_name": "FloatProgressModel",
          "model_module_version": "1.5.0",
          "state": {
            "_view_name": "ProgressView",
            "style": "IPY_MODEL_1e8266d495b9451c803d0c32cf35f76b",
            "_dom_classes": [],
            "description": "",
            "_model_name": "FloatProgressModel",
            "bar_style": "success",
            "max": 301,
            "_view_module": "@jupyter-widgets/controls",
            "_model_module_version": "1.5.0",
            "value": 301,
            "_view_count": null,
            "_view_module_version": "1.5.0",
            "orientation": "horizontal",
            "min": 0,
            "description_tooltip": null,
            "_model_module": "@jupyter-widgets/controls",
            "layout": "IPY_MODEL_cfe7094f747943ceab976edbcf7d773b"
          }
        },
        "1f12bc0371c94a6aa822d9b5cf0897c6": {
          "model_module": "@jupyter-widgets/controls",
          "model_name": "HTMLModel",
          "model_module_version": "1.5.0",
          "state": {
            "_view_name": "HTMLView",
            "style": "IPY_MODEL_e7c652de32754cf8a9adb37ef6e8001a",
            "_dom_classes": [],
            "description": "",
            "_model_name": "HTMLModel",
            "placeholder": "​",
            "_view_module": "@jupyter-widgets/controls",
            "_model_module_version": "1.5.0",
            "value": " 301/301 [00:00&lt;00:00, 4.71kB/s]",
            "_view_count": null,
            "_view_module_version": "1.5.0",
            "description_tooltip": null,
            "_model_module": "@jupyter-widgets/controls",
            "layout": "IPY_MODEL_d92fe46e5bb641f784c3b291c655c9e8"
          }
        },
        "85aff0b207b84180b8107f963177bca0": {
          "model_module": "@jupyter-widgets/controls",
          "model_name": "DescriptionStyleModel",
          "model_module_version": "1.5.0",
          "state": {
            "_view_name": "StyleView",
            "_model_name": "DescriptionStyleModel",
            "description_width": "",
            "_view_module": "@jupyter-widgets/base",
            "_model_module_version": "1.5.0",
            "_view_count": null,
            "_view_module_version": "1.2.0",
            "_model_module": "@jupyter-widgets/controls"
          }
        },
        "a99b63ab95064163ab99ce47f7406baa": {
          "model_module": "@jupyter-widgets/base",
          "model_name": "LayoutModel",
          "model_module_version": "1.2.0",
          "state": {
            "_view_name": "LayoutView",
            "grid_template_rows": null,
            "right": null,
            "justify_content": null,
            "_view_module": "@jupyter-widgets/base",
            "overflow": null,
            "_model_module_version": "1.2.0",
            "_view_count": null,
            "flex_flow": null,
            "width": null,
            "min_width": null,
            "border": null,
            "align_items": null,
            "bottom": null,
            "_model_module": "@jupyter-widgets/base",
            "top": null,
            "grid_column": null,
            "overflow_y": null,
            "overflow_x": null,
            "grid_auto_flow": null,
            "grid_area": null,
            "grid_template_columns": null,
            "flex": null,
            "_model_name": "LayoutModel",
            "justify_items": null,
            "grid_row": null,
            "max_height": null,
            "align_content": null,
            "visibility": null,
            "align_self": null,
            "height": null,
            "min_height": null,
            "padding": null,
            "grid_auto_rows": null,
            "grid_gap": null,
            "max_width": null,
            "order": null,
            "_view_module_version": "1.2.0",
            "grid_template_areas": null,
            "object_position": null,
            "object_fit": null,
            "grid_auto_columns": null,
            "margin": null,
            "display": null,
            "left": null
          }
        },
        "1e8266d495b9451c803d0c32cf35f76b": {
          "model_module": "@jupyter-widgets/controls",
          "model_name": "ProgressStyleModel",
          "model_module_version": "1.5.0",
          "state": {
            "_view_name": "StyleView",
            "_model_name": "ProgressStyleModel",
            "description_width": "",
            "_view_module": "@jupyter-widgets/base",
            "_model_module_version": "1.5.0",
            "_view_count": null,
            "_view_module_version": "1.2.0",
            "bar_color": null,
            "_model_module": "@jupyter-widgets/controls"
          }
        },
        "cfe7094f747943ceab976edbcf7d773b": {
          "model_module": "@jupyter-widgets/base",
          "model_name": "LayoutModel",
          "model_module_version": "1.2.0",
          "state": {
            "_view_name": "LayoutView",
            "grid_template_rows": null,
            "right": null,
            "justify_content": null,
            "_view_module": "@jupyter-widgets/base",
            "overflow": null,
            "_model_module_version": "1.2.0",
            "_view_count": null,
            "flex_flow": null,
            "width": null,
            "min_width": null,
            "border": null,
            "align_items": null,
            "bottom": null,
            "_model_module": "@jupyter-widgets/base",
            "top": null,
            "grid_column": null,
            "overflow_y": null,
            "overflow_x": null,
            "grid_auto_flow": null,
            "grid_area": null,
            "grid_template_columns": null,
            "flex": null,
            "_model_name": "LayoutModel",
            "justify_items": null,
            "grid_row": null,
            "max_height": null,
            "align_content": null,
            "visibility": null,
            "align_self": null,
            "height": null,
            "min_height": null,
            "padding": null,
            "grid_auto_rows": null,
            "grid_gap": null,
            "max_width": null,
            "order": null,
            "_view_module_version": "1.2.0",
            "grid_template_areas": null,
            "object_position": null,
            "object_fit": null,
            "grid_auto_columns": null,
            "margin": null,
            "display": null,
            "left": null
          }
        },
        "e7c652de32754cf8a9adb37ef6e8001a": {
          "model_module": "@jupyter-widgets/controls",
          "model_name": "DescriptionStyleModel",
          "model_module_version": "1.5.0",
          "state": {
            "_view_name": "StyleView",
            "_model_name": "DescriptionStyleModel",
            "description_width": "",
            "_view_module": "@jupyter-widgets/base",
            "_model_module_version": "1.5.0",
            "_view_count": null,
            "_view_module_version": "1.2.0",
            "_model_module": "@jupyter-widgets/controls"
          }
        },
        "d92fe46e5bb641f784c3b291c655c9e8": {
          "model_module": "@jupyter-widgets/base",
          "model_name": "LayoutModel",
          "model_module_version": "1.2.0",
          "state": {
            "_view_name": "LayoutView",
            "grid_template_rows": null,
            "right": null,
            "justify_content": null,
            "_view_module": "@jupyter-widgets/base",
            "overflow": null,
            "_model_module_version": "1.2.0",
            "_view_count": null,
            "flex_flow": null,
            "width": null,
            "min_width": null,
            "border": null,
            "align_items": null,
            "bottom": null,
            "_model_module": "@jupyter-widgets/base",
            "top": null,
            "grid_column": null,
            "overflow_y": null,
            "overflow_x": null,
            "grid_auto_flow": null,
            "grid_area": null,
            "grid_template_columns": null,
            "flex": null,
            "_model_name": "LayoutModel",
            "justify_items": null,
            "grid_row": null,
            "max_height": null,
            "align_content": null,
            "visibility": null,
            "align_self": null,
            "height": null,
            "min_height": null,
            "padding": null,
            "grid_auto_rows": null,
            "grid_gap": null,
            "max_width": null,
            "order": null,
            "_view_module_version": "1.2.0",
            "grid_template_areas": null,
            "object_position": null,
            "object_fit": null,
            "grid_auto_columns": null,
            "margin": null,
            "display": null,
            "left": null
          }
        }
      }
    }
  },
  "cells": [
    {
      "cell_type": "code",
      "metadata": {
        "id": "5PPCcAlNk0qs"
      },
      "source": [
        "%%capture\n",
        "!pip install transformers\n",
        "!pip install gdown\n",
        "!pip install opencc-python-reimplemented\n",
        "!pip install googletrans==3.1.0a0\n",
        "!pip install fake_useragent"
      ],
      "execution_count": 8,
      "outputs": []
    },
    {
      "cell_type": "code",
      "metadata": {
        "id": "OkmsTbANzrDP"
      },
      "source": [
        "def save():\n",
        "  %notebook 鉅亨網文字探勘.ipynb \n",
        "  !cp 鉅亨網文字探勘.ipynb \"/content/drive/MyDrive/Colab Notebooks\""
      ],
      "execution_count": 9,
      "outputs": []
    },
    {
      "cell_type": "code",
      "metadata": {
        "id": "iy5qPx1E0XBT"
      },
      "source": [
        "#save()"
      ],
      "execution_count": 10,
      "outputs": []
    },
    {
      "cell_type": "code",
      "metadata": {
        "id": "uSodDKDFzQeG"
      },
      "source": [
        "import torch\n",
        "import numpy as np\n",
        "import pandas as pd\n",
        "import re"
      ],
      "execution_count": 11,
      "outputs": []
    },
    {
      "cell_type": "code",
      "metadata": {
        "id": "J607x67mXyur"
      },
      "source": [
        "from transformers import BertModel, BertTokenizer\n",
        "PATH = '/content/FinBERT_L-12_H-768_A-12_pytorch'"
      ],
      "execution_count": 12,
      "outputs": []
    },
    {
      "cell_type": "code",
      "metadata": {
        "id": "3SqHaeLpX3dM"
      },
      "source": [
        "import requests\n",
        "from bs4 import BeautifulSoup\n",
        "from fake_useragent import UserAgent\n"
      ],
      "execution_count": 13,
      "outputs": []
    },
    {
      "cell_type": "code",
      "metadata": {
        "id": "7Io2dAqz9j3S"
      },
      "source": [
        "import time\n",
        "import datetime as dt\n",
        "import time\n",
        "import tqdm"
      ],
      "execution_count": 14,
      "outputs": []
    },
    {
      "cell_type": "code",
      "metadata": {
        "id": "IgoewQgH58DB"
      },
      "source": [
        "from opencc import OpenCC\n",
        "cc = OpenCC('t2s')"
      ],
      "execution_count": 15,
      "outputs": []
    },
    {
      "cell_type": "code",
      "metadata": {
        "id": "yI2jmfXtx4rA"
      },
      "source": [
        "#!gdown https://drive.google.com/uc?id=1qW1YWtw3q9Q28QThrIY-rDU9Gl-SLIKO\n",
        "#!unzip /content/FinBERT_L-12_H-768_A-12_pytorch.zip"
      ],
      "execution_count": null,
      "outputs": []
    },
    {
      "cell_type": "markdown",
      "metadata": {
        "id": "9nbtOxLCVplM"
      },
      "source": [
        "# 財金BERT"
      ]
    },
    {
      "cell_type": "code",
      "metadata": {
        "id": "eSj-CMFhyunj"
      },
      "source": [
        "tokenizer = BertTokenizer.from_pretrained(PATH ,local_files_only=True)\n",
        "model = BertModel.from_pretrained(PATH ,local_files_only=True)"
      ],
      "execution_count": null,
      "outputs": []
    },
    {
      "cell_type": "code",
      "metadata": {
        "id": "ECJLJOaX1T5G"
      },
      "source": [
        "sector_dict = {\n",
        "'健護': '醫療保健服務類股',\n",
        "'科技': '科技類股', \n",
        "'公用事業': '公用事業類股',\n",
        "'生技':'生技類股', \n",
        "'能源':'能源類股',\n",
        "'替代能源':'替代能源類股',\n",
        "'消費':'消費品類股',\n",
        "'金融':'金融類股', \n",
        "'礦業':'礦業',\n",
        "'天然資源':'天然資源', \n",
        "'貴金屬現貨':'貴金屬',\n",
        "'農產品':'農產品',\n",
        "'貴金屬類股':'貴金屬',\n",
        "}"
      ],
      "execution_count": null,
      "outputs": []
    },
    {
      "cell_type": "code",
      "metadata": {
        "id": "J-vIxrf41PCa"
      },
      "source": [
        "mkt_dict= [\n",
        "'新興市場債',\n",
        "'高收益債',\n",
        "'全球債',\n",
        "'投資等級公司債',\n",
        "'美國公債',\n",
        "'亞債',\n",
        "'REITs不動產投資信託',\n",
        "'新臺幣類貨幣',\n",
        "'外幣類貨幣',\n",
        "'亞太股市', '美國股市', '全球新興市場', \n",
        "'全球型股市', '大中華股市', '中國A股', '印度股市','歐洲股市', \n",
        "'東南亞股市', '拉丁美洲股市', \n",
        "'韓國股市', '新興歐洲股市', '德國股市', '台灣股市','俄羅斯股市',\n",
        "'中國H股', '日本股市', '英國股市','泰國股市',\n",
        "'香港股市', '澳洲股市', '印尼股市', '巴西股市', '歐非中東股市'\n",
        "]\n"
      ],
      "execution_count": null,
      "outputs": []
    },
    {
      "cell_type": "code",
      "metadata": {
        "id": "5kh-1eUE3rqZ"
      },
      "source": [
        "mkt_dict = {x:x for x in mkt_dict}\n",
        "mkt_dict['亞債'] = '亞洲債券'\n",
        "mkt_dict['REITs不動產投資信託'] = '不動產'"
      ],
      "execution_count": null,
      "outputs": []
    },
    {
      "cell_type": "code",
      "metadata": {
        "id": "Z8FFfHT64XWY"
      },
      "source": [
        "total_sec_dict = {**sector_dict, **mkt_dict}"
      ],
      "execution_count": null,
      "outputs": []
    },
    {
      "cell_type": "code",
      "metadata": {
        "id": "nFw0cRYL5Pgv"
      },
      "source": [
        "sentences = list(set(total_sec_dict.values()))\n",
        "sentences = [cc.convert(x) for x in sentences]"
      ],
      "execution_count": null,
      "outputs": []
    },
    {
      "cell_type": "code",
      "metadata": {
        "id": "6xqHjsUqzNHK"
      },
      "source": [
        "inputs = tokenizer(sentences, padding=True, return_tensors=\"pt\")\n"
      ],
      "execution_count": null,
      "outputs": []
    },
    {
      "cell_type": "code",
      "metadata": {
        "id": "pCIKFK1GzNdl"
      },
      "source": [
        "## 單純forward pass 沒要計算梯度\n",
        "with torch.no_grad():\n",
        "  outputs = model(**inputs)"
      ],
      "execution_count": null,
      "outputs": []
    },
    {
      "cell_type": "code",
      "metadata": {
        "id": "WTjCxA4PzPZ0"
      },
      "source": [
        "x = outputs['last_hidden_state']\n",
        "np.savetxt('bert_mkt_emb.tsv', x[:,0].cpu().detach().numpy(), delimiter=\"\\t\")\n",
        "pd.DataFrame(sentences).to_csv('bert_mkt_emb_meta.tsv', header=False, index=False, sep=\"\\t\")"
      ],
      "execution_count": null,
      "outputs": []
    },
    {
      "cell_type": "markdown",
      "metadata": {
        "id": "Mz_Yj3-iVrtq"
      },
      "source": [
        "# 鉅亨網爬蟲 初步整理\n"
      ]
    },
    {
      "cell_type": "markdown",
      "source": [
        "設定UserAgent"
      ],
      "metadata": {
        "id": "6juvytl7mk1t"
      }
    },
    {
      "cell_type": "code",
      "source": [
        "ua = UserAgent()\n",
        "headers = {'user-agent': ua.random}"
      ],
      "metadata": {
        "id": "I65rxFawmi-A"
      },
      "execution_count": 18,
      "outputs": []
    },
    {
      "cell_type": "code",
      "source": [
        "headers"
      ],
      "metadata": {
        "id": "UHxNjucOmrbr",
        "outputId": "680f1051-5584-402a-9807-5d5e85c7450b",
        "colab": {
          "base_uri": "https://localhost:8080/"
        }
      },
      "execution_count": 19,
      "outputs": [
        {
          "output_type": "execute_result",
          "data": {
            "text/plain": [
              "{'user-agent': 'Mozilla/5.0 (Windows; U; Windows NT 6.0; de-DE) AppleWebKit/533.20.25 (KHTML, like Gecko) Version/5.0.3 Safari/533.19.4'}"
            ]
          },
          "metadata": {},
          "execution_count": 19
        }
      ]
    },
    {
      "cell_type": "markdown",
      "source": [
        "### 原始方法 \n",
        "直接從頁面爬取"
      ],
      "metadata": {
        "id": "S4052ZUrmuo4"
      }
    },
    {
      "cell_type": "code",
      "metadata": {
        "id": "wtqC0cdAYc1Q"
      },
      "source": [
        "res = requests.get('https://news.cnyes.com/news/cat/wd_stock')\n",
        "soup = BeautifulSoup(res.text, 'html.parser')\n",
        "\n",
        "\n",
        "news_list = soup.find_all(\"a\", attrs={\"class\":\"_1Zdp\"})\n",
        "[x['href'] for x in news_list]\n",
        "[x.find('h3').get_text(strip=True) for x in news_list\n",
        "\n",
        "## .get_text(strip=True) 可避免不必用空白符亂碼"
      ],
      "execution_count": 16,
      "outputs": []
    },
    {
      "cell_type": "markdown",
      "source": [
        "## 將資料起訖日轉換成unix timestamp\n",
        "\n",
        "一種時間格式，從UTC1970年1月1日0時0分0秒起至現在的總秒數\n"
      ],
      "metadata": {
        "id": "T4RBnDS2m1eR"
      }
    },
    {
      "cell_type": "code",
      "metadata": {
        "id": "WDJx3VtS9hSu"
      },
      "source": [
        "## 將資料起迄日轉換unix timestamp\n",
        "## 從20210101 - 20211115\n",
        "start_unix_timestamp = int(time.mktime(dt.date(2021,1,1).timetuple()))\n",
        "end_unix_timestamp = int(time.mktime(dt.date(2021,11,15).timetuple()))"
      ],
      "execution_count": 21,
      "outputs": []
    },
    {
      "cell_type": "markdown",
      "source": [
        "## 直接爬內部API \n",
        "好處多多"
      ],
      "metadata": {
        "id": "Og08cnLQnUg5"
      }
    },
    {
      "cell_type": "markdown",
      "source": [
        "格式化字串(format string) 小教學"
      ],
      "metadata": {
        "id": "7TERcuW3oBB-"
      }
    },
    {
      "cell_type": "code",
      "source": [
        "print('hi, {}'.format('Hello!'))\n",
        "\n",
        "print('hi, I am {name}'.format(name = 'Alex'))"
      ],
      "metadata": {
        "id": "PM_94Xpanyu0",
        "outputId": "1d1768a6-a071-4084-86e0-85f2d93ba7c0",
        "colab": {
          "base_uri": "https://localhost:8080/"
        }
      },
      "execution_count": 27,
      "outputs": [
        {
          "output_type": "stream",
          "name": "stdout",
          "text": [
            "hi, Hello!\n",
            "hi, I am Alex\n"
          ]
        }
      ]
    },
    {
      "cell_type": "markdown",
      "source": [
        "將起訖日參數填入，爬取第一頁\n",
        "從回傳的資料以此先得知總共有幾頁要爬"
      ],
      "metadata": {
        "id": "6T1uXWHEnj1l"
      }
    },
    {
      "cell_type": "code",
      "metadata": {
        "id": "3PMpVrrPZ5fX"
      },
      "source": [
        "url_api = 'https://api.cnyes.com/media/api/v1/newslist/category/tw_stock?startAt={}&endAt={}&limit=30&page={}'.format(\n",
        "    start_unix_timestamp, \n",
        "    end_unix_timestamp, \n",
        "    1\n",
        ")\n",
        "res = requests.get(url_api, headers=headers)\n",
        "res_json = res.json()"
      ],
      "execution_count": 28,
      "outputs": []
    },
    {
      "cell_type": "code",
      "metadata": {
        "id": "J7lkV1wB-a9k",
        "colab": {
          "base_uri": "https://localhost:8080/"
        },
        "outputId": "7050ea2c-1c5b-48e3-b5bf-ec7cfc7157c1"
      },
      "source": [
        "last_page = res_json['items']['last_page']\n",
        "last_page"
      ],
      "execution_count": 29,
      "outputs": [
        {
          "output_type": "execute_result",
          "data": {
            "text/plain": [
              "613"
            ]
          },
          "metadata": {},
          "execution_count": 29
        }
      ]
    },
    {
      "cell_type": "markdown",
      "source": [
        "開始把613頁全爬完"
      ],
      "metadata": {
        "id": "GO06ykkppDnq"
      }
    },
    {
      "cell_type": "code",
      "metadata": {
        "id": "gAk1bWHr8yEG",
        "colab": {
          "base_uri": "https://localhost:8080/"
        },
        "outputId": "66a024b3-f957-45b7-d5fb-72f0fc28b351"
      },
      "source": [
        "news_data_list = []\n",
        "\n",
        "for i in tqdm.tqdm(range(1,last_page+1)):\n",
        "  url_api = 'https://api.cnyes.com/media/api/v1/newslist/category/tw_stock?startAt={}&endAt={}&limit=30&page={}'.format(start_unix_timestamp, end_unix_timestamp, i)\n",
        "  res = requests.get(url_api, headers=headers)\n",
        "  res_json = res.json()\n",
        "  news_data_list.append(res_json)\n",
        "  time.sleep(1)"
      ],
      "execution_count": null,
      "outputs": [
        {
          "output_type": "stream",
          "name": "stderr",
          "text": [
            "100%|██████████| 613/613 [23:20<00:00,  2.29s/it]\n"
          ]
        }
      ]
    },
    {
      "cell_type": "markdown",
      "source": [
        "寫入pickle"
      ],
      "metadata": {
        "id": "4mws9BtVpJJF"
      }
    },
    {
      "cell_type": "code",
      "metadata": {
        "colab": {
          "base_uri": "https://localhost:8080/",
          "height": 35
        },
        "id": "-dTveBS_NbxH",
        "outputId": "5b44633a-45b7-44f7-c72f-7ccd669e4eb7"
      },
      "source": [
        "import pickle\n",
        "'''\n",
        "with open('鉅亨網2021新聞.pickle', 'wb') as f:\n",
        "  pickle.dump(news_data_list, f)\n",
        "'''"
      ],
      "execution_count": 32,
      "outputs": [
        {
          "output_type": "execute_result",
          "data": {
            "application/vnd.google.colaboratory.intrinsic+json": {
              "type": "string"
            },
            "text/plain": [
              "\"\\nwith open('鉅亨網2021新聞.pickle', 'wb') as f:\\n  pickle.dump(news_data_list, f)\\n\""
            ]
          },
          "metadata": {},
          "execution_count": 32
        }
      ]
    },
    {
      "cell_type": "markdown",
      "source": [
        "# 資料讀入"
      ],
      "metadata": {
        "id": "u5c-h2trnC_x"
      }
    },
    {
      "cell_type": "code",
      "metadata": {
        "id": "PqAgsw6KntIy",
        "colab": {
          "base_uri": "https://localhost:8080/"
        },
        "outputId": "21340c89-0d99-4189-944b-b229c3bb78aa"
      },
      "source": [
        "!gdown https://drive.google.com/uc?id=1ATL1IdoLgLfV-ro1r5BQzPp8DZXVqfws"
      ],
      "execution_count": 33,
      "outputs": [
        {
          "output_type": "stream",
          "name": "stdout",
          "text": [
            "Downloading...\n",
            "From: https://drive.google.com/uc?id=1ATL1IdoLgLfV-ro1r5BQzPp8DZXVqfws\n",
            "To: /content/___2021__.pickle\n",
            "100% 61.3M/61.3M [00:00<00:00, 147MB/s]\n"
          ]
        }
      ]
    },
    {
      "cell_type": "code",
      "metadata": {
        "id": "nP-TM11YoCIa"
      },
      "source": [
        "with open('/content/___2021__.pickle', 'rb') as f:\n",
        "  news_data_list = pickle.load(f)"
      ],
      "execution_count": 35,
      "outputs": []
    },
    {
      "cell_type": "markdown",
      "source": [
        "正則表達式:  只保留英文中文數字 \n"
      ],
      "metadata": {
        "id": "bd4r-Podp3T9"
      }
    },
    {
      "cell_type": "code",
      "metadata": {
        "id": "fQkzgRdDnuoS"
      },
      "source": [
        "def remove_punctuation(line):\n",
        "  #rule = re.compile(\"[^a-z A-Z \\u4e00-\\u9fa5]\")\n",
        "  rule = re.compile(\"[^a-z A-Z 0-9 \\u4e00-\\u9fa5]\")\n",
        "  line = rule.sub('',line)\n",
        "  return line\n"
      ],
      "execution_count": null,
      "outputs": []
    },
    {
      "cell_type": "markdown",
      "source": [
        "正則表達式: 去除亂碼\n"
      ],
      "metadata": {
        "id": "qJav1UMKp7-J"
      }
    },
    {
      "cell_type": "code",
      "source": [
        "## 去除亂碼\n",
        "def remove_char(line):\n",
        "  rule = re.compile('&lt;.+?(&gt;|>)')\n",
        "  line = rule.sub('',line)\n",
        "  return line\n"
      ],
      "metadata": {
        "id": "-jib4lGap2ic"
      },
      "execution_count": 36,
      "outputs": []
    },
    {
      "cell_type": "markdown",
      "source": [
        "UNIX timestamp轉日期"
      ],
      "metadata": {
        "id": "38CXEsMpqLEB"
      }
    },
    {
      "cell_type": "code",
      "metadata": {
        "colab": {
          "base_uri": "https://localhost:8080/"
        },
        "id": "jpMFP--mpuvB",
        "outputId": "5c25e0be-697d-461b-ac7b-50741e08b727"
      },
      "source": [
        "from datetime import datetime\n",
        "ts = int('1636969777')\n",
        "\n",
        "## UNIX timestamp轉日期\n",
        "print(dt.datetime.utcfromtimestamp(ts).strftime('%Y-%m-%d %H:%M:%S'))"
      ],
      "execution_count": null,
      "outputs": [
        {
          "output_type": "stream",
          "name": "stdout",
          "text": [
            "2021-11-15 09:49:37\n"
          ]
        }
      ]
    },
    {
      "cell_type": "markdown",
      "source": [
        "從Json中出取資訊\n",
        "\n",
        "- content: 本文\n",
        "- summary: 新聞摘要\n",
        "- tittle: 新聞標題\n",
        "- market: 新聞提到的標的\n"
      ],
      "metadata": {
        "id": "dTC0Nv65nWVG"
      }
    },
    {
      "cell_type": "code",
      "source": [
        "news_data_list[0]['items']['data'][0]"
      ],
      "metadata": {
        "colab": {
          "base_uri": "https://localhost:8080/"
        },
        "id": "uX7TF0h2nZ8L",
        "outputId": "10818683-0219-4ed6-9032-6ac1542bca44"
      },
      "execution_count": 37,
      "outputs": [
        {
          "output_type": "execute_result",
          "data": {
            "text/plain": [
              "{'abTesting': None,\n",
              " 'categoryId': 827,\n",
              " 'categoryName': '台股新聞',\n",
              " 'columnists': None,\n",
              " 'content': '&lt;p&gt;混凝土廠國產 (2504-TW) 今 (15) 日公告，將高雄「悅誠廣場」房地持分以總價 23.5 億元，出售予興富發 (2542-TW) 子公司碧江企業，處分利益達 14.9 億元，估貢獻每股純益約 1.27 元，預計第四季至明年第一季財報入帳。&lt;/p&gt;\\n\\n&lt;p&gt;國產這次售出的「悅誠廣場」土地資產，土地面積 4053 坪，為地上 3 樓、地下 2 樓的建物，總樓地板面積約 1.2 萬坪，由國產與其他地主共同持分，2016 年由興富發向國產等地主承租。&lt;/p&gt;\\n\\n&lt;p&gt;國產強調，目前全台仍擁有 45.7 萬坪的資產，會配合整體經濟現勢與區域發展趨勢，借力於未來重大交通建設與都市更新相關的商圈規劃，發展出綜合商場、渡假旅館 / 國際精品飯店、多功能辦公大樓、休閒農場等多項主題事業。&lt;/p&gt;\\n\\n&lt;p&gt;國產董事會日前也通過 158 億餘元的投資預算，因應「南港大型開發案」相關營造發包等作業，該案佔地 6500 坪，預估開發總樓地板面積約 6 萬餘坪，興建完成後，國產可分回 4.6 萬建坪及約 550 個停車位。&lt;/p&gt;\\n',\n",
              " 'coverSrc': {'l': {'height': 359,\n",
              "   'src': 'https://cimg.cnyes.cool/prod/news/4771793/l/7e7c47f106072253eb6e53271586570d.jpg',\n",
              "   'width': 640},\n",
              "  'm': {'height': 213,\n",
              "   'src': 'https://cimg.cnyes.cool/prod/news/4771793/m/7e7c47f106072253eb6e53271586570d.jpg',\n",
              "   'width': 380},\n",
              "  's': {'height': 101,\n",
              "   'src': 'https://cimg.cnyes.cool/prod/news/4771793/s/7e7c47f106072253eb6e53271586570d.jpg',\n",
              "   'width': 180},\n",
              "  'xl': {'height': 539,\n",
              "   'src': 'https://cimg.cnyes.cool/prod/news/4771793/xl/7e7c47f106072253eb6e53271586570d.jpg',\n",
              "   'width': 960},\n",
              "  'xs': {'height': 56,\n",
              "   'src': 'https://cimg.cnyes.cool/prod/news/4771793/xs/7e7c47f106072253eb6e53271586570d.jpg',\n",
              "   'width': 100},\n",
              "  'xxl': {'height': 607,\n",
              "   'src': 'https://cimg.cnyes.cool/prod/news/4771793/xxl/7e7c47f106072253eb6e53271586570d.jpg',\n",
              "   'width': 1080}},\n",
              " 'fbComment': 0,\n",
              " 'fbCommentPluginCount': 0,\n",
              " 'fbShare': 0,\n",
              " 'fundCategoryAbbr': [],\n",
              " 'hasCoverPhoto': 1,\n",
              " 'isCategoryHeadline': 1,\n",
              " 'isIndex': 1,\n",
              " 'magazine': None,\n",
              " 'market': [{'code': '2504', 'name': '國產', 'symbol': 'TWS:2504:STOCK'},\n",
              "  {'code': '2542', 'name': '興富發', 'symbol': 'TWS:2542:STOCK'}],\n",
              " 'newsId': 4771793,\n",
              " 'payment': 0,\n",
              " 'publishAt': 1636984978,\n",
              " 'stock': ['2504', '2542'],\n",
              " 'summary': '混凝土廠國產 (2504-TW) 今 (15) 日公告，將高雄「悅誠廣場」房地持分以總價 23.5 億元，出售予興富發 (2542-TW) 子公司碧江企業，處分利益達 14.9 億元，估貢獻每股純益約 1.27 元。',\n",
              " 'title': '國產出售高雄悅誠廣場資產 貢獻EPS 1.27元',\n",
              " 'video': ''}"
            ]
          },
          "metadata": {},
          "execution_count": 37
        }
      ]
    },
    {
      "cell_type": "markdown",
      "source": [
        "轉換為dataframe"
      ],
      "metadata": {
        "id": "uA3hRrwlq18l"
      }
    },
    {
      "cell_type": "code",
      "metadata": {
        "id": "al-Lftq69Zh1"
      },
      "source": [
        "news_extracted_list=[]\n",
        "\n",
        "for chunk in news_data_list:\n",
        "  article_content = chunk['items']['data']\n",
        "  data_dict = [{\n",
        "      'id':x['newsId'], \n",
        "      'title':x['title'], \n",
        "      'summary':x['summary'],  \n",
        "      'article':remove_char(x['content']),  \n",
        "      #'stock':x['market'],\n",
        "\n",
        "      'unix_timestamp':x['publishAt'],\n",
        "      'datetime':dt.datetime.utcfromtimestamp(x['publishAt']).strftime('%Y-%m-%d')\n",
        "      } for x in article_content\n",
        "  ]\n",
        "  news_extracted_list.extend(data_dict)\n"
      ],
      "execution_count": 38,
      "outputs": []
    },
    {
      "cell_type": "code",
      "metadata": {
        "id": "znktSdeo9SF5"
      },
      "source": [
        "org_corpus_df = pd.DataFrame(news_extracted_list)"
      ],
      "execution_count": 39,
      "outputs": []
    },
    {
      "cell_type": "markdown",
      "source": [
        "去除換行符號與空白"
      ],
      "metadata": {
        "id": "eBzza3J0n517"
      }
    },
    {
      "cell_type": "code",
      "metadata": {
        "id": "hlsPhUc9t0mC"
      },
      "source": [
        "org_corpus_df['article'] = org_corpus_df['article'].str.replace('\\n\\n',\"\")\n",
        "org_corpus_df['article'] = org_corpus_df['article'].str.replace(\" \", \"\")"
      ],
      "execution_count": 41,
      "outputs": []
    },
    {
      "cell_type": "code",
      "metadata": {
        "id": "tJL4QN13zBuL",
        "colab": {
          "base_uri": "https://localhost:8080/",
          "height": 418
        },
        "outputId": "36a4694d-54bf-4925-b45d-413fb8df54be"
      },
      "source": [
        "org_corpus_df.head()"
      ],
      "execution_count": 42,
      "outputs": [
        {
          "output_type": "execute_result",
          "data": {
            "text/html": [
              "\n",
              "  <div id=\"df-d4b036ea-b7d9-4480-a1ab-ee2e02eb7366\">\n",
              "    <div class=\"colab-df-container\">\n",
              "      <div>\n",
              "<style scoped>\n",
              "    .dataframe tbody tr th:only-of-type {\n",
              "        vertical-align: middle;\n",
              "    }\n",
              "\n",
              "    .dataframe tbody tr th {\n",
              "        vertical-align: top;\n",
              "    }\n",
              "\n",
              "    .dataframe thead th {\n",
              "        text-align: right;\n",
              "    }\n",
              "</style>\n",
              "<table border=\"1\" class=\"dataframe\">\n",
              "  <thead>\n",
              "    <tr style=\"text-align: right;\">\n",
              "      <th></th>\n",
              "      <th>id</th>\n",
              "      <th>title</th>\n",
              "      <th>summary</th>\n",
              "      <th>article</th>\n",
              "      <th>unix_timestamp</th>\n",
              "      <th>datetime</th>\n",
              "    </tr>\n",
              "  </thead>\n",
              "  <tbody>\n",
              "    <tr>\n",
              "      <th>0</th>\n",
              "      <td>4771793</td>\n",
              "      <td>國產出售高雄悅誠廣場資產 貢獻EPS 1.27元</td>\n",
              "      <td>混凝土廠國產 (2504-TW) 今 (15) 日公告，將高雄「悅誠廣場」房地持分以總價 2...</td>\n",
              "      <td>混凝土廠國產(2504-TW)今(15)日公告，將高雄「悅誠廣場」房地持分以總價23.5億元...</td>\n",
              "      <td>1636984978</td>\n",
              "      <td>2021-11-15</td>\n",
              "    </tr>\n",
              "    <tr>\n",
              "      <th>1</th>\n",
              "      <td>4771790</td>\n",
              "      <td>〈台泥法說〉Q4煤價下滑成本壓力減 毛利率將回升至平均之上</td>\n",
              "      <td>台泥 (1101-TW) 今 (15) 日召開法說，總經理李鐘培表示，10 月以來中國能耗雙...</td>\n",
              "      <td>台泥(1101-TW)今(15)日召開法說，總經理李鐘培表示，10月以來中國能耗雙控持續，水...</td>\n",
              "      <td>1636984833</td>\n",
              "      <td>2021-11-15</td>\n",
              "    </tr>\n",
              "    <tr>\n",
              "      <th>2</th>\n",
              "      <td>4771785</td>\n",
              "      <td>〈台泥法說〉張安平談氣候變遷「水泥業站在生命第一現場」 承擔減碳責無旁貸</td>\n",
              "      <td>台泥 (1101-TW) 董事長張安平今 (15) 日在法說會前致詞時指出，今天的氣候災害，...</td>\n",
              "      <td>台泥(1101-TW)董事長張安平今(15)日在法說會前致詞時指出，今天的氣候災害，是人類打...</td>\n",
              "      <td>1636984795</td>\n",
              "      <td>2021-11-15</td>\n",
              "    </tr>\n",
              "    <tr>\n",
              "      <th>3</th>\n",
              "      <td>4771771</td>\n",
              "      <td>達邁調整產品組合 看好高頻高速傳輸及汽車市場應用</td>\n",
              "      <td>聚醯亞胺（PI）薄膜廠達邁 (3645-TW) 積極展開產品應用多元化的布局，由以往高達 9...</td>\n",
              "      <td>聚醯亞胺（PI）薄膜廠達邁(3645-TW)積極展開產品多元化布局，以往高達98%的軟板應用...</td>\n",
              "      <td>1636980649</td>\n",
              "      <td>2021-11-15</td>\n",
              "    </tr>\n",
              "    <tr>\n",
              "      <th>4</th>\n",
              "      <td>4771770</td>\n",
              "      <td>22家壽險前3季合賺3389億元破紀錄 淨值比all pass！</td>\n",
              "      <td>22 家壽險前 3 季合賺 3389 億元破紀錄 淨值比 all pass！</td>\n",
              "      <td>壽險公司第3季財報全數公布，22家壽險公司合計前3季稅後純益逾3389億元，創史上新高，年增...</td>\n",
              "      <td>1636980334</td>\n",
              "      <td>2021-11-15</td>\n",
              "    </tr>\n",
              "  </tbody>\n",
              "</table>\n",
              "</div>\n",
              "      <button class=\"colab-df-convert\" onclick=\"convertToInteractive('df-d4b036ea-b7d9-4480-a1ab-ee2e02eb7366')\"\n",
              "              title=\"Convert this dataframe to an interactive table.\"\n",
              "              style=\"display:none;\">\n",
              "        \n",
              "  <svg xmlns=\"http://www.w3.org/2000/svg\" height=\"24px\"viewBox=\"0 0 24 24\"\n",
              "       width=\"24px\">\n",
              "    <path d=\"M0 0h24v24H0V0z\" fill=\"none\"/>\n",
              "    <path d=\"M18.56 5.44l.94 2.06.94-2.06 2.06-.94-2.06-.94-.94-2.06-.94 2.06-2.06.94zm-11 1L8.5 8.5l.94-2.06 2.06-.94-2.06-.94L8.5 2.5l-.94 2.06-2.06.94zm10 10l.94 2.06.94-2.06 2.06-.94-2.06-.94-.94-2.06-.94 2.06-2.06.94z\"/><path d=\"M17.41 7.96l-1.37-1.37c-.4-.4-.92-.59-1.43-.59-.52 0-1.04.2-1.43.59L10.3 9.45l-7.72 7.72c-.78.78-.78 2.05 0 2.83L4 21.41c.39.39.9.59 1.41.59.51 0 1.02-.2 1.41-.59l7.78-7.78 2.81-2.81c.8-.78.8-2.07 0-2.86zM5.41 20L4 18.59l7.72-7.72 1.47 1.35L5.41 20z\"/>\n",
              "  </svg>\n",
              "      </button>\n",
              "      \n",
              "  <style>\n",
              "    .colab-df-container {\n",
              "      display:flex;\n",
              "      flex-wrap:wrap;\n",
              "      gap: 12px;\n",
              "    }\n",
              "\n",
              "    .colab-df-convert {\n",
              "      background-color: #E8F0FE;\n",
              "      border: none;\n",
              "      border-radius: 50%;\n",
              "      cursor: pointer;\n",
              "      display: none;\n",
              "      fill: #1967D2;\n",
              "      height: 32px;\n",
              "      padding: 0 0 0 0;\n",
              "      width: 32px;\n",
              "    }\n",
              "\n",
              "    .colab-df-convert:hover {\n",
              "      background-color: #E2EBFA;\n",
              "      box-shadow: 0px 1px 2px rgba(60, 64, 67, 0.3), 0px 1px 3px 1px rgba(60, 64, 67, 0.15);\n",
              "      fill: #174EA6;\n",
              "    }\n",
              "\n",
              "    [theme=dark] .colab-df-convert {\n",
              "      background-color: #3B4455;\n",
              "      fill: #D2E3FC;\n",
              "    }\n",
              "\n",
              "    [theme=dark] .colab-df-convert:hover {\n",
              "      background-color: #434B5C;\n",
              "      box-shadow: 0px 1px 3px 1px rgba(0, 0, 0, 0.15);\n",
              "      filter: drop-shadow(0px 1px 2px rgba(0, 0, 0, 0.3));\n",
              "      fill: #FFFFFF;\n",
              "    }\n",
              "  </style>\n",
              "\n",
              "      <script>\n",
              "        const buttonEl =\n",
              "          document.querySelector('#df-d4b036ea-b7d9-4480-a1ab-ee2e02eb7366 button.colab-df-convert');\n",
              "        buttonEl.style.display =\n",
              "          google.colab.kernel.accessAllowed ? 'block' : 'none';\n",
              "\n",
              "        async function convertToInteractive(key) {\n",
              "          const element = document.querySelector('#df-d4b036ea-b7d9-4480-a1ab-ee2e02eb7366');\n",
              "          const dataTable =\n",
              "            await google.colab.kernel.invokeFunction('convertToInteractive',\n",
              "                                                     [key], {});\n",
              "          if (!dataTable) return;\n",
              "\n",
              "          const docLinkHtml = 'Like what you see? Visit the ' +\n",
              "            '<a target=\"_blank\" href=https://colab.research.google.com/notebooks/data_table.ipynb>data table notebook</a>'\n",
              "            + ' to learn more about interactive tables.';\n",
              "          element.innerHTML = '';\n",
              "          dataTable['output_type'] = 'display_data';\n",
              "          await google.colab.output.renderOutput(dataTable, element);\n",
              "          const docLink = document.createElement('div');\n",
              "          docLink.innerHTML = docLinkHtml;\n",
              "          element.appendChild(docLink);\n",
              "        }\n",
              "      </script>\n",
              "    </div>\n",
              "  </div>\n",
              "  "
            ],
            "text/plain": [
              "        id                                 title  ... unix_timestamp    datetime\n",
              "0  4771793              國產出售高雄悅誠廣場資產 貢獻EPS 1.27元  ...     1636984978  2021-11-15\n",
              "1  4771790         〈台泥法說〉Q4煤價下滑成本壓力減 毛利率將回升至平均之上  ...     1636984833  2021-11-15\n",
              "2  4771785  〈台泥法說〉張安平談氣候變遷「水泥業站在生命第一現場」 承擔減碳責無旁貸  ...     1636984795  2021-11-15\n",
              "3  4771771              達邁調整產品組合 看好高頻高速傳輸及汽車市場應用  ...     1636980649  2021-11-15\n",
              "4  4771770      22家壽險前3季合賺3389億元破紀錄 淨值比all pass！  ...     1636980334  2021-11-15\n",
              "\n",
              "[5 rows x 6 columns]"
            ]
          },
          "metadata": {},
          "execution_count": 42
        }
      ]
    },
    {
      "cell_type": "markdown",
      "metadata": {
        "id": "6_eE4hzHzF2u"
      },
      "source": [
        "# 進行分詞"
      ]
    },
    {
      "cell_type": "markdown",
      "source": [
        "轉成list格式以利分詞\n",
        "\n",
        "先取用摘要進行探勘"
      ],
      "metadata": {
        "id": "Wysxla8YoNUB"
      }
    },
    {
      "cell_type": "code",
      "metadata": {
        "id": "46N6zRMa8E3i"
      },
      "source": [
        "text = org_corpus_df['summary'].astype(str).tolist()"
      ],
      "execution_count": 43,
      "outputs": []
    },
    {
      "cell_type": "code",
      "metadata": {
        "colab": {
          "base_uri": "https://localhost:8080/"
        },
        "id": "P6Tllz2hAe1-",
        "outputId": "d317abc0-fa96-4ad2-9e00-25ac81e3bac6"
      },
      "source": [
        "text[0:5]"
      ],
      "execution_count": 45,
      "outputs": [
        {
          "output_type": "execute_result",
          "data": {
            "text/plain": [
              "['混凝土廠國產 (2504-TW) 今 (15) 日公告，將高雄「悅誠廣場」房地持分以總價 23.5 億元，出售予興富發 (2542-TW) 子公司碧江企業，處分利益達 14.9 億元，估貢獻每股純益約 1.27 元。',\n",
              " '台泥 (1101-TW) 今 (15) 日召開法說，總經理李鐘培表示，10 月以來中國能耗雙控持續，水泥產銷量減但價格持穩高檔，且近期煤價大幅回落，有利毛利率回升到過往水準之上，加上廣東韶關廠投產也將挹注營收表現。',\n",
              " '台泥 (1101-TW) 董事長張安平今 (15) 日在法說會前致詞時指出，今天的氣候災害，是人類打造繁榮的副作用漸漸浮現、失衡的大自然對人類的反撲；與人類文明與大自然息息相關的水泥業「站在生命的第一現場」。',\n",
              " '聚醯亞胺（PI）薄膜廠達邁 (3645-TW) 積極展開產品應用多元化的布局，由以往高達 98% 的軟板應用，在今年前三季的比重已降至 64%，而在非軟板的應用的成長到 36% 則以車用、散熱產品為主。',\n",
              " '22 家壽險前 3 季合賺 3389 億元破紀錄 淨值比 all pass！']"
            ]
          },
          "metadata": {},
          "execution_count": 45
        }
      ]
    },
    {
      "cell_type": "markdown",
      "metadata": {
        "id": "fC93v9T14u5y"
      },
      "source": [
        "### 載入停用詞\n",
        "\n",
        "載入中文之中「的、了、與其、和」這種意義不大詞彙"
      ]
    },
    {
      "cell_type": "code",
      "metadata": {
        "id": "6UCsqY3Xn8ov"
      },
      "source": [
        "%%capture\n",
        "!wget https://raw.githubusercontent.com/goto456/stopwords/master/cn_stopwords.txt"
      ],
      "execution_count": 46,
      "outputs": []
    },
    {
      "cell_type": "code",
      "metadata": {
        "id": "lAt3h9og3Tvg"
      },
      "source": [
        "## 逐行讀入\n",
        "with open('/content/cn_stopwords.txt', 'r') as f:\n",
        "  stop_words = f.read().splitlines()"
      ],
      "execution_count": 47,
      "outputs": []
    },
    {
      "cell_type": "markdown",
      "source": [
        "使用opencc套件進行簡轉繁"
      ],
      "metadata": {
        "id": "ZQrkRk4gogEK"
      }
    },
    {
      "cell_type": "code",
      "metadata": {
        "id": "NefjOF3M4kHk"
      },
      "source": [
        "from opencc import OpenCC\n",
        "cc = OpenCC('s2t')\n",
        "\n",
        "## 轉繁體\n",
        "stop_words = [cc.convert(text) for text in stop_words]"
      ],
      "execution_count": 48,
      "outputs": []
    },
    {
      "cell_type": "code",
      "metadata": {
        "id": "iGcq5Jji_xZ7"
      },
      "source": [
        "## 保留數字\n",
        "stop_words = list(filter(lambda x: x not in ['0','1','2','3','4','5','6','7','8','9'], stop_words))"
      ],
      "execution_count": 49,
      "outputs": []
    },
    {
      "cell_type": "code",
      "source": [
        "stop_words[100:110]"
      ],
      "metadata": {
        "id": "tveb8xmorTmh",
        "outputId": "b634a3d2-e5e8-4ef5-c321-30e5d4d2fba3",
        "colab": {
          "base_uri": "https://localhost:8080/"
        }
      },
      "execution_count": 52,
      "outputs": [
        {
          "output_type": "execute_result",
          "data": {
            "text/plain": [
              "['介於', '仍', '仍舊', '從', '從此', '從而', '他', '他人', '他們', '以']"
            ]
          },
          "metadata": {},
          "execution_count": 52
        }
      ]
    },
    {
      "cell_type": "markdown",
      "metadata": {
        "id": "zlm5TYBTAvlw"
      },
      "source": [
        "### 中研院開發BERT版NLP套件\n",
        "\n",
        "有分詞、實體辨識、詞性判斷等功能，效果提升但比較慢"
      ]
    },
    {
      "cell_type": "code",
      "metadata": {
        "id": "ne_VRxd6AuPk"
      },
      "source": [
        "%%capture\n",
        "!pip install -U ckip-transformers\n",
        "#https://github.com/ckiplab/ckip-transformers\n"
      ],
      "execution_count": 53,
      "outputs": []
    },
    {
      "cell_type": "code",
      "metadata": {
        "id": "KN0bfRmxASM6"
      },
      "source": [
        "from ckip_transformers.nlp import CkipWordSegmenter, CkipPosTagger, CkipNerChunker"
      ],
      "execution_count": 54,
      "outputs": []
    },
    {
      "cell_type": "markdown",
      "source": [
        "- `level` 1-3: 3準確度高速度最慢\n",
        "- `device=0`: 採用GPU"
      ],
      "metadata": {
        "id": "oKFkZi1Xoz0a"
      }
    },
    {
      "cell_type": "code",
      "metadata": {
        "id": "Bb5iJrDPzJBU",
        "colab": {
          "base_uri": "https://localhost:8080/",
          "height": 177,
          "referenced_widgets": [
            "18410f4c65da4c54b7117733c63e98fd",
            "26375eab869e497693eeaccdd0093d1e",
            "dcb1076bfab24b41991ab58b112dc0c6",
            "5825985f03a3469c8f97278646cbea14",
            "b15d0b962cd3443abc67e841a661fbc2",
            "01b51544f201453fa8d33b2bfcd74a70",
            "65ed067770614eab8ace662e10a0ae1f",
            "b0fb12f9d3e7400fb4ab8daf9e56a708",
            "162dd404a4454244833ad81e0351a5e4",
            "0be4b5722d194afaab35bed20d753168",
            "e98f9b2c14e04353a2495f994fc80247",
            "c78cf57e4d57439eaaaf09c46de21390",
            "0fd3b85ce88140e99d1fcb5cf9f02951",
            "f5a0e8a8245e4ebfad0f673782278a1d",
            "a53e571decaf44e1841df7ab9cac153e",
            "8f898cbf90f24699ac40a58cdd7315a9",
            "bc0d25a686ac41de96786ac7eb0a242d",
            "f0c1ec9749ac437dbc4f4f2413152d91",
            "ffd38b5edcf8448a88e337f9ed5b353d",
            "43515bf052fe493b9f44b96b6a0bfdd9",
            "f1b2f6cb197c460c8df69319c8c4ddd0",
            "1a74fe7e9e374e85b3df6ca3fdd7aabd",
            "2ea98d7c6a894391bfdb9832377104a5",
            "fb0876cf85974fb9afeaa94813211f3b",
            "ddebeef081c6442b956f05ad507b0134",
            "052793ad7dcd4814a8725635770181ed",
            "9ae806554fa048a0b44ec965fa43dff8",
            "1e727b01dca540ab8a0602f698b57edd",
            "187b20e2c2b14615a51ea5abca68e637",
            "04e2f64db8694b6d927d9e5b710c44f5",
            "3b957df949b9483981413af2e760810c",
            "c3cd53d48f804e798d80d56eeaac3457",
            "9f13fbe9cb8b43fbbc6517b29e51f48d",
            "d7d7d0cdb329477080157984237ab8c8",
            "9541e5791e364ac5b68236a7cf8be40e",
            "b494f53f396b4dae836f947ae0129152",
            "47298471b48e4894add9577cc16b7606",
            "6f92ba9883124f6a8bdd5430eebc3d07",
            "18ae55ab7d32482a9c9a620867e1e0ba",
            "b4804471feef4c7293169c37c4e32408",
            "e37487b83613439a95bf7ee2e1e15caf",
            "67aef88cdbb94cbdaec48414f0ab9007",
            "e687946ea77e40ab9c94631963dc740f",
            "25fc9d9068c14ddfa7df1a07aac0ad3a",
            "41df08630fcc4e4dba0d38bda51ecf75",
            "d2a1c2f0883e4838a4c6f6ddf35abf44",
            "dda2c1ee57e542a0b4f933d997cfaba2",
            "f57a4d39bcd7409494b9912fff2e98cf",
            "1f12bc0371c94a6aa822d9b5cf0897c6",
            "85aff0b207b84180b8107f963177bca0",
            "a99b63ab95064163ab99ce47f7406baa",
            "1e8266d495b9451c803d0c32cf35f76b",
            "cfe7094f747943ceab976edbcf7d773b",
            "e7c652de32754cf8a9adb37ef6e8001a",
            "d92fe46e5bb641f784c3b291c655c9e8"
          ]
        },
        "outputId": "ecc41bfc-5056-46a6-b3f2-253ad98a7570"
      },
      "source": [
        "## 設定driver\n",
        "ws_driver = CkipWordSegmenter(level=3,device=0)"
      ],
      "execution_count": 55,
      "outputs": [
        {
          "output_type": "display_data",
          "data": {
            "application/vnd.jupyter.widget-view+json": {
              "model_id": "18410f4c65da4c54b7117733c63e98fd",
              "version_minor": 0,
              "version_major": 2
            },
            "text/plain": [
              "Downloading:   0%|          | 0.00/804 [00:00<?, ?B/s]"
            ]
          },
          "metadata": {}
        },
        {
          "output_type": "display_data",
          "data": {
            "application/vnd.jupyter.widget-view+json": {
              "model_id": "c78cf57e4d57439eaaaf09c46de21390",
              "version_minor": 0,
              "version_major": 2
            },
            "text/plain": [
              "Downloading:   0%|          | 0.00/388M [00:00<?, ?B/s]"
            ]
          },
          "metadata": {}
        },
        {
          "output_type": "display_data",
          "data": {
            "application/vnd.jupyter.widget-view+json": {
              "model_id": "2ea98d7c6a894391bfdb9832377104a5",
              "version_minor": 0,
              "version_major": 2
            },
            "text/plain": [
              "Downloading:   0%|          | 0.00/107k [00:00<?, ?B/s]"
            ]
          },
          "metadata": {}
        },
        {
          "output_type": "display_data",
          "data": {
            "application/vnd.jupyter.widget-view+json": {
              "model_id": "d7d7d0cdb329477080157984237ab8c8",
              "version_minor": 0,
              "version_major": 2
            },
            "text/plain": [
              "Downloading:   0%|          | 0.00/112 [00:00<?, ?B/s]"
            ]
          },
          "metadata": {}
        },
        {
          "output_type": "display_data",
          "data": {
            "application/vnd.jupyter.widget-view+json": {
              "model_id": "41df08630fcc4e4dba0d38bda51ecf75",
              "version_minor": 0,
              "version_major": 2
            },
            "text/plain": [
              "Downloading:   0%|          | 0.00/301 [00:00<?, ?B/s]"
            ]
          },
          "metadata": {}
        }
      ]
    },
    {
      "cell_type": "markdown",
      "source": [
        "開始進行分詞"
      ],
      "metadata": {
        "id": "QQD46k4MrgGm"
      }
    },
    {
      "cell_type": "code",
      "metadata": {
        "colab": {
          "base_uri": "https://localhost:8080/"
        },
        "id": "s0wRCb3e7BYa",
        "outputId": "59d19ee0-73bf-487d-fab4-2b3056eb3b5a"
      },
      "source": [
        "%%time\n",
        "corpus_ws_org  = ws_driver(text)"
      ],
      "execution_count": 56,
      "outputs": [
        {
          "output_type": "stream",
          "name": "stderr",
          "text": [
            "Tokenization: 100%|██████████| 18369/18369 [00:04<00:00, 4429.72it/s]\n",
            "Inference: 100%|██████████| 66/66 [04:34<00:00,  4.16s/it]\n"
          ]
        },
        {
          "output_type": "stream",
          "name": "stdout",
          "text": [
            "CPU times: user 4min 41s, sys: 784 ms, total: 4min 42s\n",
            "Wall time: 4min 42s\n"
          ]
        }
      ]
    },
    {
      "cell_type": "code",
      "metadata": {
        "id": "lXUUUBu1Ujmz",
        "colab": {
          "base_uri": "https://localhost:8080/"
        },
        "outputId": "28d5efb2-ceb9-4ad6-a04f-e6242142ad29"
      },
      "source": [
        "corpus_ws_org[0:5]"
      ],
      "execution_count": 57,
      "outputs": [
        {
          "output_type": "execute_result",
          "data": {
            "text/plain": [
              "[['混凝土廠',\n",
              "  '國產',\n",
              "  ' ',\n",
              "  '(',\n",
              "  '2504-TW',\n",
              "  ')',\n",
              "  ' ',\n",
              "  '今',\n",
              "  ' ',\n",
              "  '(15) ',\n",
              "  '日',\n",
              "  '公告',\n",
              "  '，',\n",
              "  '將',\n",
              "  '高雄',\n",
              "  '「',\n",
              "  '悅誠',\n",
              "  '廣場',\n",
              "  '」',\n",
              "  '房地',\n",
              "  '持分',\n",
              "  '以',\n",
              "  '總價',\n",
              "  ' 23.5 億',\n",
              "  '元',\n",
              "  '，',\n",
              "  '出售予',\n",
              "  '興富發',\n",
              "  ' ',\n",
              "  '(',\n",
              "  '2542-TW',\n",
              "  ')',\n",
              "  ' ',\n",
              "  '子公司',\n",
              "  '碧江',\n",
              "  '企業',\n",
              "  '，',\n",
              "  '處分',\n",
              "  '利益',\n",
              "  '達',\n",
              "  ' 14.9 億',\n",
              "  '元',\n",
              "  '，',\n",
              "  '估',\n",
              "  '貢獻',\n",
              "  '每',\n",
              "  '股',\n",
              "  '純益',\n",
              "  '約',\n",
              "  ' 1.27',\n",
              "  ' ',\n",
              "  '元',\n",
              "  '。'],\n",
              " ['台泥',\n",
              "  ' ',\n",
              "  '(',\n",
              "  '1101-TW',\n",
              "  ') ',\n",
              "  '今',\n",
              "  ' ',\n",
              "  '(15) ',\n",
              "  '日',\n",
              "  '召開',\n",
              "  '法說',\n",
              "  '，',\n",
              "  '總經理',\n",
              "  '李鐘培',\n",
              "  '表示',\n",
              "  '，',\n",
              "  '10 ',\n",
              "  '月',\n",
              "  '以來',\n",
              "  '中國',\n",
              "  '能',\n",
              "  '耗',\n",
              "  '雙',\n",
              "  '控',\n",
              "  '持續',\n",
              "  '，',\n",
              "  '水泥',\n",
              "  '產銷量',\n",
              "  '減',\n",
              "  '但',\n",
              "  '價格',\n",
              "  '持穩',\n",
              "  '高檔',\n",
              "  '，',\n",
              "  '且',\n",
              "  '近期',\n",
              "  '煤價',\n",
              "  '大幅',\n",
              "  '回落',\n",
              "  '，',\n",
              "  '有利',\n",
              "  '毛利率',\n",
              "  '回升',\n",
              "  '到',\n",
              "  '過往',\n",
              "  '水準',\n",
              "  '之上',\n",
              "  '，',\n",
              "  '加上',\n",
              "  '廣東',\n",
              "  '韶關廠',\n",
              "  '投產',\n",
              "  '也',\n",
              "  '將',\n",
              "  '挹注',\n",
              "  '營收',\n",
              "  '表現',\n",
              "  '。'],\n",
              " ['台泥',\n",
              "  ' ',\n",
              "  '(',\n",
              "  '1101-TW',\n",
              "  ')',\n",
              "  ' ',\n",
              "  '董事長',\n",
              "  '張安平',\n",
              "  '今',\n",
              "  ' ',\n",
              "  '(15) ',\n",
              "  '日',\n",
              "  '在',\n",
              "  '法說會',\n",
              "  '前',\n",
              "  '致詞',\n",
              "  '時',\n",
              "  '指出',\n",
              "  '，',\n",
              "  '今天',\n",
              "  '的',\n",
              "  '氣候',\n",
              "  '災害',\n",
              "  '，',\n",
              "  '是',\n",
              "  '人類',\n",
              "  '打造',\n",
              "  '繁榮',\n",
              "  '的',\n",
              "  '副作用',\n",
              "  '漸漸',\n",
              "  '浮現',\n",
              "  '、',\n",
              "  '失衡',\n",
              "  '的',\n",
              "  '大自然',\n",
              "  '對',\n",
              "  '人類',\n",
              "  '的',\n",
              "  '反撲',\n",
              "  '；',\n",
              "  '與',\n",
              "  '人類',\n",
              "  '文明',\n",
              "  '與',\n",
              "  '大自然',\n",
              "  '息息相關',\n",
              "  '的',\n",
              "  '水泥業',\n",
              "  '「',\n",
              "  '站',\n",
              "  '在',\n",
              "  '生命',\n",
              "  '的',\n",
              "  '第一',\n",
              "  '現場',\n",
              "  '」',\n",
              "  '。'],\n",
              " ['聚醯亞胺',\n",
              "  '（',\n",
              "  'PI',\n",
              "  '）',\n",
              "  '薄膜廠',\n",
              "  '達邁 ',\n",
              "  '(',\n",
              "  '3645-TW',\n",
              "  ')',\n",
              "  ' ',\n",
              "  '積極',\n",
              "  '展開',\n",
              "  '產品',\n",
              "  '應用',\n",
              "  '多元化',\n",
              "  '的',\n",
              "  '布局',\n",
              "  '，',\n",
              "  '由',\n",
              "  '以往',\n",
              "  '高達',\n",
              "  ' 98%',\n",
              "  ' ',\n",
              "  '的',\n",
              "  '軟板',\n",
              "  '應用',\n",
              "  '，',\n",
              "  '在',\n",
              "  '今年',\n",
              "  '前',\n",
              "  '三',\n",
              "  '季',\n",
              "  '的',\n",
              "  '比重',\n",
              "  '已',\n",
              "  '降至',\n",
              "  ' 64%',\n",
              "  '，',\n",
              "  '而',\n",
              "  '在',\n",
              "  '非',\n",
              "  '軟板',\n",
              "  '的',\n",
              "  '應用',\n",
              "  '的',\n",
              "  '成長到',\n",
              "  ' 36%',\n",
              "  ' ',\n",
              "  '則',\n",
              "  '以',\n",
              "  '車用',\n",
              "  '、',\n",
              "  '散熱',\n",
              "  '產品',\n",
              "  '為主',\n",
              "  '。'],\n",
              " ['22 ',\n",
              "  '家',\n",
              "  '壽險',\n",
              "  '前',\n",
              "  ' 3 ',\n",
              "  '季',\n",
              "  '合賺',\n",
              "  ' 3389',\n",
              "  ' 億',\n",
              "  '元',\n",
              "  '破紀錄',\n",
              "  ' ',\n",
              "  '淨值',\n",
              "  '比',\n",
              "  ' all',\n",
              "  ' pass',\n",
              "  '！']]"
            ]
          },
          "metadata": {},
          "execution_count": 57
        }
      ]
    },
    {
      "cell_type": "markdown",
      "metadata": {
        "id": "nXmh27G5A1zc"
      },
      "source": [
        "### 中研院Bi-LSTM斷詞\n",
        "\n",
        "先前推出的，速度較快"
      ]
    },
    {
      "cell_type": "code",
      "source": [
        "%%capture\n",
        "!pip install -U ckiptagger[gdown]"
      ],
      "metadata": {
        "id": "IHEweniOrm_t"
      },
      "execution_count": null,
      "outputs": []
    },
    {
      "cell_type": "code",
      "metadata": {
        "id": "emprvDRr9iSR"
      },
      "source": [
        "\n",
        "from ckiptagger import data_utils, construct_dictionary, WS, POS, NER\n",
        "data_utils.download_data_url(\"./\")\n",
        "ws = WS(\"./data\", disable_cuda=False)"
      ],
      "execution_count": null,
      "outputs": []
    },
    {
      "cell_type": "code",
      "metadata": {
        "colab": {
          "base_uri": "https://localhost:8080/"
        },
        "id": "NYgAPRaq7yaN",
        "outputId": "84c2257b-6ef6-4102-dfdf-66aa7a9caeed"
      },
      "source": [
        "%%time\n",
        "corpus_ws_org  = ws(text)"
      ],
      "execution_count": null,
      "outputs": [
        {
          "output_type": "stream",
          "name": "stdout",
          "text": [
            "CPU times: user 1min 3s, sys: 7.24 s, total: 1min 11s\n",
            "Wall time: 1min 11s\n"
          ]
        }
      ]
    },
    {
      "cell_type": "markdown",
      "metadata": {
        "id": "bTcECls4bqLe"
      },
      "source": [
        "## 將處理完的分詞進一步進行清理（停用詞、符號等）\n",
        "\n",
        "詞性判斷\n",
        "股票dict\n",
        "\n",
        "最後在把詞彙用空白join以利套件使用"
      ]
    },
    {
      "cell_type": "code",
      "metadata": {
        "id": "yKycyH-PVAvt"
      },
      "source": [
        "## 刪除標點\n",
        "corpus_ws = [list(map(lambda x: remove_punctuation(x), corpus)) for corpus in corpus_ws_org]"
      ],
      "execution_count": null,
      "outputs": []
    },
    {
      "cell_type": "code",
      "metadata": {
        "id": "mKpNaUdLCqbC"
      },
      "source": [
        "## 刪除空白的element\n",
        "corpus_ws = [list(filter(lambda x: x!=\"\" and x!=\" \", corpus)) for corpus in corpus_ws]"
      ],
      "execution_count": null,
      "outputs": []
    },
    {
      "cell_type": "code",
      "source": [
        "## 刪除element裡的空白\n",
        "pattern = re.compile(r'\\s+')\n",
        "corpus_ws = [list(map(lambda x: re.sub(pattern, '', x), corpus)) for corpus in corpus_ws]"
      ],
      "metadata": {
        "id": "v1Epcmow1KjO"
      },
      "execution_count": null,
      "outputs": []
    },
    {
      "cell_type": "code",
      "metadata": {
        "id": "7Da3AVN_4_LR"
      },
      "source": [
        "## 把停用詞刪除\n",
        "corpus_ws = [[x for x in sentence if x not in stop_words] for sentence in corpus_ws]"
      ],
      "execution_count": null,
      "outputs": []
    },
    {
      "cell_type": "code",
      "source": [
        "corpus_ws[0]"
      ],
      "metadata": {
        "colab": {
          "base_uri": "https://localhost:8080/"
        },
        "id": "OtuBnHZk1bFh",
        "outputId": "c83c3df7-fdfa-4037-dcc5-6438cb317871"
      },
      "execution_count": null,
      "outputs": [
        {
          "output_type": "execute_result",
          "data": {
            "text/plain": [
              "['混凝土廠',\n",
              " '國產',\n",
              " '2504TW',\n",
              " '15',\n",
              " '日',\n",
              " '公告',\n",
              " '高雄',\n",
              " '悅誠',\n",
              " '廣場',\n",
              " '房地',\n",
              " '持分',\n",
              " '總價',\n",
              " '235',\n",
              " '億',\n",
              " '元',\n",
              " '出售',\n",
              " '予',\n",
              " '興富',\n",
              " '發',\n",
              " '2542',\n",
              " 'TW',\n",
              " '子公司',\n",
              " '碧江',\n",
              " '企業',\n",
              " '處分',\n",
              " '利益',\n",
              " '達',\n",
              " '149',\n",
              " '億',\n",
              " '元',\n",
              " '估',\n",
              " '貢獻',\n",
              " '股',\n",
              " '純益',\n",
              " '約',\n",
              " '127',\n",
              " '元']"
            ]
          },
          "metadata": {},
          "execution_count": 37
        }
      ]
    },
    {
      "cell_type": "code",
      "source": [
        "org_corpus_df['summary_seg'] = corpus_ws"
      ],
      "metadata": {
        "id": "z1OEKr1TtkSX"
      },
      "execution_count": null,
      "outputs": []
    },
    {
      "cell_type": "code",
      "source": [
        "org_corpus_df['summart_list_len'] = org_corpus_df['summary_seg'].apply(lambda x: len(x))"
      ],
      "metadata": {
        "id": "YXU-vYDItnJL"
      },
      "execution_count": null,
      "outputs": []
    },
    {
      "cell_type": "code",
      "source": [
        "org_corpus_df['summary_seg_join']  = org_corpus_df['summary_seg'].apply(lambda x: \" \".join(x))"
      ],
      "metadata": {
        "id": "xeHntJ9D2JsZ"
      },
      "execution_count": null,
      "outputs": []
    },
    {
      "cell_type": "code",
      "source": [
        "org_corpus_df['summary_seg_join'] "
      ],
      "metadata": {
        "colab": {
          "base_uri": "https://localhost:8080/"
        },
        "id": "Y8TIEyVi3oV4",
        "outputId": "598c8ff2-0ea7-4d15-be3b-d0f7bb12277e"
      },
      "execution_count": null,
      "outputs": [
        {
          "output_type": "execute_result",
          "data": {
            "text/plain": [
              "0        混凝土廠 國產 2504TW 15 日 公告 高雄 悅誠 廣場 房地 持分 總價 235 億...\n",
              "1        台泥 1101TW 15 日 召開 法 說 總經理 李鐘培 表示 10 月 中國 耗 雙控 ...\n",
              "2        台泥 1101TW 董事長 張安平 15 日 法說會 前 致詞 時 指出 今天 氣候 災害 ...\n",
              "3        聚醯亞胺 PI 薄膜廠 達邁 3645 TW 積極 展開 產品 應用 多元化 布局 以往 高...\n",
              "4                  22 家 壽險 前 3季 合賺 3389 億 元 破紀錄 淨值 allpass\n",
              "                               ...                        \n",
              "18364    泛國 巨 2327TW 集團 電感廠 奇力 新 2456TW 受惠 5G 手機 伺服器 基地...\n",
              "18365    環宇 KY 4991TW 去年 受 中國 基礎 建設 招標 遞延 影響 加上 轉投資 晶成 ...\n",
              "18366    閎暉 3311 TW 近年 積極 調整 體質 過去 手機 按鍵 業務 比例 降低 聚焦 車用...\n",
              "18367                            潛力股 搭 電動車 成長 順風車 獲利 動能 加溫\n",
              "18368    全球 車市 需求 可望 新冠肺炎 疫苗 研發 有成 帶動 進一步 扭轉 汽車板廠 過去 淡季...\n",
              "Name: summary_seg_join, Length: 18369, dtype: object"
            ]
          },
          "metadata": {},
          "execution_count": 41
        }
      ]
    },
    {
      "cell_type": "markdown",
      "metadata": {
        "id": "Yq9xhMI8BBe3"
      },
      "source": [
        "# Text mining"
      ]
    },
    {
      "cell_type": "markdown",
      "source": [
        "## 關鍵字萃取"
      ],
      "metadata": {
        "id": "PbLwmbJWAIdf"
      }
    },
    {
      "cell_type": "code",
      "metadata": {
        "id": "2Cj5XJICBZAX"
      },
      "source": [
        "import pandas as pd\n",
        "from sklearn.feature_extraction.text import TfidfVectorizer"
      ],
      "execution_count": null,
      "outputs": []
    },
    {
      "cell_type": "markdown",
      "metadata": {
        "id": "BPzurNX-u-YX"
      },
      "source": [
        "### 中文TF-IDF\n",
        "\n",
        "`token_pattern='\\\\b\\\\w+\\\\b'` : 讓TF-IDF認得單字詞\n",
        "\n",
        "`lowercase=False`"
      ]
    },
    {
      "cell_type": "code",
      "metadata": {
        "id": "_eqcnPS0zD0d",
        "colab": {
          "base_uri": "https://localhost:8080/"
        },
        "outputId": "e2206081-4b04-4ca4-fbdc-9971fe1981e7"
      },
      "source": [
        "!pip3 install jieba"
      ],
      "execution_count": null,
      "outputs": [
        {
          "output_type": "stream",
          "name": "stdout",
          "text": [
            "Requirement already satisfied: jieba in /usr/local/lib/python3.7/dist-packages (0.42.1)\n"
          ]
        }
      ]
    },
    {
      "cell_type": "code",
      "metadata": {
        "id": "fSFNRerAE4QA"
      },
      "source": [
        "import jieba\n",
        "import jieba.analyse"
      ],
      "execution_count": null,
      "outputs": []
    },
    {
      "cell_type": "code",
      "metadata": {
        "colab": {
          "base_uri": "https://localhost:8080/",
          "height": 311
        },
        "id": "P9t7QRz8FDtR",
        "outputId": "f2ac81c9-ba58-4bd5-9535-803dcfd27447"
      },
      "source": [
        "tags = jieba.analyse.extract_tags(corpus_white_join, topK=10)"
      ],
      "execution_count": null,
      "outputs": [
        {
          "output_type": "error",
          "ename": "AttributeError",
          "evalue": "ignored",
          "traceback": [
            "\u001b[0;31m---------------------------------------------------------------------------\u001b[0m",
            "\u001b[0;31mAttributeError\u001b[0m                            Traceback (most recent call last)",
            "\u001b[0;32m<ipython-input-86-4077cb6cc934>\u001b[0m in \u001b[0;36m<module>\u001b[0;34m()\u001b[0m\n\u001b[0;32m----> 1\u001b[0;31m \u001b[0mtags\u001b[0m \u001b[0;34m=\u001b[0m \u001b[0mjieba\u001b[0m\u001b[0;34m.\u001b[0m\u001b[0manalyse\u001b[0m\u001b[0;34m.\u001b[0m\u001b[0mextract_tags\u001b[0m\u001b[0;34m(\u001b[0m\u001b[0mcorpus_white_join\u001b[0m\u001b[0;34m,\u001b[0m \u001b[0mtopK\u001b[0m\u001b[0;34m=\u001b[0m\u001b[0;36m10\u001b[0m\u001b[0;34m)\u001b[0m\u001b[0;34m\u001b[0m\u001b[0;34m\u001b[0m\u001b[0m\n\u001b[0m",
            "\u001b[0;32m/usr/local/lib/python3.7/dist-packages/jieba/analyse/tfidf.py\u001b[0m in \u001b[0;36mextract_tags\u001b[0;34m(self, sentence, topK, withWeight, allowPOS, withFlag)\u001b[0m\n\u001b[1;32m     92\u001b[0m             \u001b[0mwords\u001b[0m \u001b[0;34m=\u001b[0m \u001b[0mself\u001b[0m\u001b[0;34m.\u001b[0m\u001b[0mtokenizer\u001b[0m\u001b[0;34m.\u001b[0m\u001b[0mcut\u001b[0m\u001b[0;34m(\u001b[0m\u001b[0msentence\u001b[0m\u001b[0;34m)\u001b[0m\u001b[0;34m\u001b[0m\u001b[0;34m\u001b[0m\u001b[0m\n\u001b[1;32m     93\u001b[0m         \u001b[0mfreq\u001b[0m \u001b[0;34m=\u001b[0m \u001b[0;34m{\u001b[0m\u001b[0;34m}\u001b[0m\u001b[0;34m\u001b[0m\u001b[0;34m\u001b[0m\u001b[0m\n\u001b[0;32m---> 94\u001b[0;31m         \u001b[0;32mfor\u001b[0m \u001b[0mw\u001b[0m \u001b[0;32min\u001b[0m \u001b[0mwords\u001b[0m\u001b[0;34m:\u001b[0m\u001b[0;34m\u001b[0m\u001b[0;34m\u001b[0m\u001b[0m\n\u001b[0m\u001b[1;32m     95\u001b[0m             \u001b[0;32mif\u001b[0m \u001b[0mallowPOS\u001b[0m\u001b[0;34m:\u001b[0m\u001b[0;34m\u001b[0m\u001b[0;34m\u001b[0m\u001b[0m\n\u001b[1;32m     96\u001b[0m                 \u001b[0;32mif\u001b[0m \u001b[0mw\u001b[0m\u001b[0;34m.\u001b[0m\u001b[0mflag\u001b[0m \u001b[0;32mnot\u001b[0m \u001b[0;32min\u001b[0m \u001b[0mallowPOS\u001b[0m\u001b[0;34m:\u001b[0m\u001b[0;34m\u001b[0m\u001b[0;34m\u001b[0m\u001b[0m\n",
            "\u001b[0;32m/usr/local/lib/python3.7/dist-packages/jieba/__init__.py\u001b[0m in \u001b[0;36mcut\u001b[0;34m(self, sentence, cut_all, HMM, use_paddle)\u001b[0m\n\u001b[1;32m    298\u001b[0m         \"\"\"\n\u001b[1;32m    299\u001b[0m         \u001b[0mis_paddle_installed\u001b[0m \u001b[0;34m=\u001b[0m \u001b[0mcheck_paddle_install\u001b[0m\u001b[0;34m[\u001b[0m\u001b[0;34m'is_paddle_installed'\u001b[0m\u001b[0;34m]\u001b[0m\u001b[0;34m\u001b[0m\u001b[0;34m\u001b[0m\u001b[0m\n\u001b[0;32m--> 300\u001b[0;31m         \u001b[0msentence\u001b[0m \u001b[0;34m=\u001b[0m \u001b[0mstrdecode\u001b[0m\u001b[0;34m(\u001b[0m\u001b[0msentence\u001b[0m\u001b[0;34m)\u001b[0m\u001b[0;34m\u001b[0m\u001b[0;34m\u001b[0m\u001b[0m\n\u001b[0m\u001b[1;32m    301\u001b[0m         \u001b[0;32mif\u001b[0m \u001b[0muse_paddle\u001b[0m \u001b[0;32mand\u001b[0m \u001b[0mis_paddle_installed\u001b[0m\u001b[0;34m:\u001b[0m\u001b[0;34m\u001b[0m\u001b[0;34m\u001b[0m\u001b[0m\n\u001b[1;32m    302\u001b[0m             \u001b[0;31m# if sentence is null, it will raise core exception in paddle.\u001b[0m\u001b[0;34m\u001b[0m\u001b[0;34m\u001b[0m\u001b[0;34m\u001b[0m\u001b[0m\n",
            "\u001b[0;32m/usr/local/lib/python3.7/dist-packages/jieba/_compat.py\u001b[0m in \u001b[0;36mstrdecode\u001b[0;34m(sentence)\u001b[0m\n\u001b[1;32m     77\u001b[0m     \u001b[0;32mif\u001b[0m \u001b[0;32mnot\u001b[0m \u001b[0misinstance\u001b[0m\u001b[0;34m(\u001b[0m\u001b[0msentence\u001b[0m\u001b[0;34m,\u001b[0m \u001b[0mtext_type\u001b[0m\u001b[0;34m)\u001b[0m\u001b[0;34m:\u001b[0m\u001b[0;34m\u001b[0m\u001b[0;34m\u001b[0m\u001b[0m\n\u001b[1;32m     78\u001b[0m         \u001b[0;32mtry\u001b[0m\u001b[0;34m:\u001b[0m\u001b[0;34m\u001b[0m\u001b[0;34m\u001b[0m\u001b[0m\n\u001b[0;32m---> 79\u001b[0;31m             \u001b[0msentence\u001b[0m \u001b[0;34m=\u001b[0m \u001b[0msentence\u001b[0m\u001b[0;34m.\u001b[0m\u001b[0mdecode\u001b[0m\u001b[0;34m(\u001b[0m\u001b[0;34m'utf-8'\u001b[0m\u001b[0;34m)\u001b[0m\u001b[0;34m\u001b[0m\u001b[0;34m\u001b[0m\u001b[0m\n\u001b[0m\u001b[1;32m     80\u001b[0m         \u001b[0;32mexcept\u001b[0m \u001b[0mUnicodeDecodeError\u001b[0m\u001b[0;34m:\u001b[0m\u001b[0;34m\u001b[0m\u001b[0;34m\u001b[0m\u001b[0m\n\u001b[1;32m     81\u001b[0m             \u001b[0msentence\u001b[0m \u001b[0;34m=\u001b[0m \u001b[0msentence\u001b[0m\u001b[0;34m.\u001b[0m\u001b[0mdecode\u001b[0m\u001b[0;34m(\u001b[0m\u001b[0;34m'gbk'\u001b[0m\u001b[0;34m,\u001b[0m \u001b[0;34m'ignore'\u001b[0m\u001b[0;34m)\u001b[0m\u001b[0;34m\u001b[0m\u001b[0;34m\u001b[0m\u001b[0m\n",
            "\u001b[0;31mAttributeError\u001b[0m: 'list' object has no attribute 'decode'"
          ]
        }
      ]
    },
    {
      "cell_type": "code",
      "metadata": {
        "id": "e1E1eS3mFY3l"
      },
      "source": [
        "from sklearn.feature_extraction.text import CountVectorizer\n",
        "from sklearn.feature_extraction.text import TfidfTransformer"
      ],
      "execution_count": null,
      "outputs": []
    },
    {
      "cell_type": "code",
      "metadata": {
        "id": "1WK1PIviHomL"
      },
      "source": [
        "text_cv = CountVectorizer(max_df=0.7, min_df=5)\n",
        "\n",
        "td_matrix = text_cv.fit_transform(corpus_white_join)"
      ],
      "execution_count": null,
      "outputs": []
    },
    {
      "cell_type": "code",
      "metadata": {
        "id": "KJh9qxryImfW"
      },
      "source": [
        "tfidf = TfidfTransformer()\n",
        "\n",
        "tfidf_matrix = tfidf.fit_transform(td_matrix)"
      ],
      "execution_count": null,
      "outputs": []
    },
    {
      "cell_type": "code",
      "metadata": {
        "id": "mxA4iOG2NIps"
      },
      "source": [
        "topk_arr = np.argsort(-tfidf_matrix.toarray(), axis=1)[:,0:5]"
      ],
      "execution_count": null,
      "outputs": []
    },
    {
      "cell_type": "code",
      "metadata": {
        "id": "qSBfDtc8Xp7M"
      },
      "source": [
        "indices = np.nonzero(-tfidf_matrix.toarray())[0]\n",
        "#indices[np.argsort(-tfidf_matrix.toarray()[indices])][:,0:5]"
      ],
      "execution_count": null,
      "outputs": []
    },
    {
      "cell_type": "code",
      "metadata": {
        "colab": {
          "base_uri": "https://localhost:8080/"
        },
        "id": "w1TcTSH3SzPm",
        "outputId": "337150cb-6b87-449d-fdfa-d310f5665783"
      },
      "source": [
        "corpus_white_join[20:30]"
      ],
      "execution_count": null,
      "outputs": [
        {
          "output_type": "execute_result",
          "data": {
            "text/plain": [
              "['統包 工程 承攬商 中鼎 9933TW  集團 攜手 欣陸 3703TW 旗下 欣達 環工 執行 桃園市 中壢 地區 污水 下水道 系統 建設 BOT 計畫 今 15 日 就 水 資源 回收 中心 舉行 開工 動土',\n",
              " '封測 龍頭 日月光 投控 3711TW 今 15 日 宣布 連續 第六 年 整體 成績 獲 道瓊 永續 指數 半導體 及 半導體 設備 產業 產業 最 高分 為 台灣 首 家 連續 六 度 獲得 產業 最 高分 的 公司',\n",
              " '漢磊 3707TW 今 15 日 表示 SiC 產線 第四 季 全數 滿載 整體 毛利率 將 持續 向 上 進一步 提升 至 1518 看好 明年 仍 產能 供不應求 全 年 營收 成長 2 成 起跳 毛利率 也 將 續揚',\n",
              " '國產署 近期 與 高雄 屏東 兩 縣市 地方 政府 合作 辦理 2 件 國有 土地 開發案 預計 可 吸引 民間 投資 60億 元 創造 415億 元 產值 與 1422 個 就業 機會',\n",
              " '國銀 人民幣 存款 連 3 減 個人戶 連 8 個 月 下滑',\n",
              " 'PMOLED 廠 錸寶 8104TW 今 15 日 召開 法說 展望 第四 季 錸寶 表示 PMOLED 業務 受 整體 供應鏈 缺料 歐美 塞港 影響 客戶 下單 轉趨 保守 估 本 季 相關 業務 將 面臨 修正 電池 模組 業務 則 在 上游 材料 提前 備貨 下 可望 保持 成長',\n",
              " '聯強 2347TW 今 15 日 舉行 法說 副總裁 杜書全 表示 雖然 資訊 商用 成長 力道 放緩 不過 資訊 商用 與 ic 元件 業務 則 受惠 企業 數位 轉型 資料 中心 伺服器 缺料 舒緩 業績 將 明顯 成長 法人 看好 本業 每 股 純益 衝破 6 元',\n",
              " '偉詮電 2436TW 今 15 日 公布 10 月 自結 稅 後 純益 053億 元 年增 179 每 股 稅 後 純益 03 元 累計 前 10 月 稅 後 純益 62億 元 年增 204 每 股 稅 後 純益 35 元 受惠 USBPD 出貨 續 旺 加上 10 月 開始 漲',\n",
              " '嘉晶 3016TW 今 15 日 表示 部分 客戶 訂單 已 看 至 明年 底 明年 將 持續 調漲 價格 對 展望 樂觀 看待 營收 將 有 雙位數 成長 毛利 也 將 續 揚 並 看好 元宇宙 將 推升 伺服器 需求 對 化合物 半導體 來說 是 不錯 機會',\n",
              " '國賓 飯店 2704TW  的 台北館 及 高雄館 將 分別 投入 危老 改建 而 欣陸 3703TW  旗下 大陸 建設 與 國賓 及 厚生 2107TW  今 15 日 正式 簽約 將 就 高雄 國賓 大 飯店 現址 購入 部分 土地 並 簽約 後續 的 申請 危 老 合建 開發案']"
            ]
          },
          "metadata": {},
          "execution_count": 96
        }
      ]
    },
    {
      "cell_type": "code",
      "metadata": {
        "colab": {
          "base_uri": "https://localhost:8080/"
        },
        "id": "W5IVwNPyRT2w",
        "outputId": "40355e06-047c-4525-f60d-bcd047e934ef"
      },
      "source": [
        "text_cv.get_feature_names_out()[topk_arr][20:30]"
      ],
      "execution_count": null,
      "outputs": [
        {
          "output_type": "execute_result",
          "data": {
            "text/plain": [
              "array([['承攬商', 'bot', '3703tw', '9933tw', '欣陸'],\n",
              "       ['產業', '連續', '半導體', '第六', '3711tw'],\n",
              "       ['毛利率', '續揚', '3707tw', '漢磊', 'sic'],\n",
              "       ['國有', '屏東', '國產署', '60億', '民間'],\n",
              "       ['存款', '國銀', '人民幣', '下滑', '001'],\n",
              "       ['錸寶', 'pmoled', '業務', '8104tw', '轉趨'],\n",
              "       ['商用', '資訊', '副總裁', '聯強', '2347tw'],\n",
              "       ['純益', '10', 'usbpd', '62億', '2436tw'],\n",
              "       ['嘉晶', '明年', '化合物', '毛利', '元宇宙'],\n",
              "       ['國賓', '飯店', '簽約', '合建', '改建']], dtype=object)"
            ]
          },
          "metadata": {},
          "execution_count": 95
        }
      ]
    },
    {
      "cell_type": "code",
      "metadata": {
        "colab": {
          "base_uri": "https://localhost:8080/",
          "height": 185
        },
        "id": "WRa43ideJKl3",
        "outputId": "85e17310-f94c-49b9-d91b-05769af8e141"
      },
      "source": [
        "\n",
        "np.array(text_cv.get_feature_names_out())[importance][0:100]"
      ],
      "execution_count": null,
      "outputs": [
        {
          "output_type": "error",
          "ename": "NameError",
          "evalue": "ignored",
          "traceback": [
            "\u001b[0;31m---------------------------------------------------------------------------\u001b[0m",
            "\u001b[0;31mNameError\u001b[0m                                 Traceback (most recent call last)",
            "\u001b[0;32m<ipython-input-94-55fd48ba0915>\u001b[0m in \u001b[0;36m<module>\u001b[0;34m()\u001b[0m\n\u001b[1;32m      1\u001b[0m \u001b[0;34m\u001b[0m\u001b[0m\n\u001b[0;32m----> 2\u001b[0;31m \u001b[0mnp\u001b[0m\u001b[0;34m.\u001b[0m\u001b[0marray\u001b[0m\u001b[0;34m(\u001b[0m\u001b[0mtext_cv\u001b[0m\u001b[0;34m.\u001b[0m\u001b[0mget_feature_names_out\u001b[0m\u001b[0;34m(\u001b[0m\u001b[0;34m)\u001b[0m\u001b[0;34m)\u001b[0m\u001b[0;34m[\u001b[0m\u001b[0mimportance\u001b[0m\u001b[0;34m]\u001b[0m\u001b[0;34m[\u001b[0m\u001b[0;36m0\u001b[0m\u001b[0;34m:\u001b[0m\u001b[0;36m100\u001b[0m\u001b[0;34m]\u001b[0m\u001b[0;34m\u001b[0m\u001b[0;34m\u001b[0m\u001b[0m\n\u001b[0m",
            "\u001b[0;31mNameError\u001b[0m: name 'importance' is not defined"
          ]
        }
      ]
    },
    {
      "cell_type": "code",
      "metadata": {
        "colab": {
          "base_uri": "https://localhost:8080/"
        },
        "id": "K5iL_IcLLVmQ",
        "outputId": "bb602bd9-bd4f-464d-a51c-34363f690acf"
      },
      "source": [
        "text_cv.get_feature_names_out()"
      ],
      "execution_count": null,
      "outputs": [
        {
          "output_type": "execute_result",
          "data": {
            "text/plain": [
              "array(['001', '003', '004', ..., '龍頭廠', '龐大', '龔明鑫'], dtype=object)"
            ]
          },
          "metadata": {},
          "execution_count": 136
        }
      ]
    },
    {
      "cell_type": "code",
      "metadata": {
        "id": "jTPRcGfROmvw"
      },
      "source": [
        "from gensim.summarization import keywords"
      ],
      "execution_count": null,
      "outputs": []
    },
    {
      "cell_type": "code",
      "source": [
        "keywords"
      ],
      "metadata": {
        "id": "0xf4_LjcAGPq"
      },
      "execution_count": null,
      "outputs": []
    },
    {
      "cell_type": "code",
      "source": [
        "from gensim.summarization.summarizer import summarize\n",
        "from gensim.summarization import keywords"
      ],
      "metadata": {
        "id": "wDzoY5iC4-5T"
      },
      "execution_count": null,
      "outputs": []
    },
    {
      "cell_type": "code",
      "source": [
        "test=\".\".join(org_corpus_df[org_corpus_df['summart_list_len']!=0]['summary_seg_join'].tolist()[0:10])"
      ],
      "metadata": {
        "id": "eiIs8GUe5c-a"
      },
      "execution_count": null,
      "outputs": []
    },
    {
      "cell_type": "code",
      "source": [
        "keywords(test , ratio=0.5)"
      ],
      "metadata": {
        "id": "rPg4KbJ55TPK",
        "outputId": "56f6cd4a-17be-43e4-dc71-96f60e93bd26",
        "colab": {
          "base_uri": "https://localhost:8080/",
          "height": 35
        }
      },
      "execution_count": null,
      "outputs": [
        {
          "output_type": "execute_result",
          "data": {
            "application/vnd.google.colaboratory.intrinsic+json": {
              "type": "string"
            },
            "text/plain": [
              "'董事長\\n息息相關\\n總經理 李鐘培\\n化合物 半導體'"
            ]
          },
          "metadata": {},
          "execution_count": 55
        }
      ]
    },
    {
      "cell_type": "markdown",
      "source": [
        "## 主題模型"
      ],
      "metadata": {
        "id": "lVymc9PZAOYH"
      }
    },
    {
      "cell_type": "markdown",
      "source": [
        "## Word Embedding"
      ],
      "metadata": {
        "id": "c23YDeUwAS-U"
      }
    },
    {
      "cell_type": "code",
      "source": [
        ""
      ],
      "metadata": {
        "id": "kc61pJoSAaMR"
      },
      "execution_count": null,
      "outputs": []
    },
    {
      "cell_type": "markdown",
      "source": [
        "## BERT"
      ],
      "metadata": {
        "id": "iZtaKiFsA-2-"
      }
    },
    {
      "cell_type": "code",
      "source": [
        ""
      ],
      "metadata": {
        "id": "kKlSPkGDBALK"
      },
      "execution_count": null,
      "outputs": []
    }
  ]
}