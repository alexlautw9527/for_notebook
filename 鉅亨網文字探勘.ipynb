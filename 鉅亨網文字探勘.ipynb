{
  "nbformat": 4,
  "nbformat_minor": 0,
  "metadata": {
    "colab": {
      "name": "鉅亨網文字探勘.ipynb",
      "provenance": [],
      "collapsed_sections": [],
      "toc_visible": true,
      "mount_file_id": "1lohCOT_F2mYmi2XN2rbiCABDnlCtqV8g",
      "authorship_tag": "ABX9TyPlJxZgU9xA5eCocCrRztm2",
      "include_colab_link": true
    },
    "kernelspec": {
      "name": "python3",
      "display_name": "Python 3"
    },
    "language_info": {
      "name": "python"
    }
  },
  "cells": [
    {
      "cell_type": "markdown",
      "metadata": {
        "id": "view-in-github",
        "colab_type": "text"
      },
      "source": [
        "<a href=\"https://colab.research.google.com/github/alexlautw9527/for_notebook/blob/main/%E9%89%85%E4%BA%A8%E7%B6%B2%E6%96%87%E5%AD%97%E6%8E%A2%E5%8B%98.ipynb\" target=\"_parent\"><img src=\"https://colab.research.google.com/assets/colab-badge.svg\" alt=\"Open In Colab\"/></a>"
      ]
    },
    {
      "cell_type": "code",
      "metadata": {
        "id": "5PPCcAlNk0qs"
      },
      "source": [
        "%%capture\n",
        "!pip install transformers\n",
        "!pip install gdown\n",
        "!pip install opencc-python-reimplemented\n",
        "!pip install googletrans==3.1.0a0\n",
        "!pip install fake_useragent"
      ],
      "execution_count": 4,
      "outputs": []
    },
    {
      "cell_type": "code",
      "metadata": {
        "id": "uSodDKDFzQeG"
      },
      "source": [
        "import torch\n",
        "import numpy as np\n",
        "import pandas as pd"
      ],
      "execution_count": 119,
      "outputs": []
    },
    {
      "cell_type": "code",
      "metadata": {
        "id": "J607x67mXyur"
      },
      "source": [
        "from transformers import BertModel, BertTokenizer\n",
        "PATH = '/content/FinBERT_L-12_H-768_A-12_pytorch'"
      ],
      "execution_count": 7,
      "outputs": []
    },
    {
      "cell_type": "code",
      "metadata": {
        "id": "3SqHaeLpX3dM"
      },
      "source": [
        "import requests\n",
        "from bs4 import BeautifulSoup\n",
        "from fake_useragent import UserAgent\n"
      ],
      "execution_count": 15,
      "outputs": []
    },
    {
      "cell_type": "code",
      "metadata": {
        "id": "7Io2dAqz9j3S"
      },
      "source": [
        "import time\n",
        "import datetime as dt\n",
        "\n",
        "import time\n",
        "import tqdm"
      ],
      "execution_count": 144,
      "outputs": []
    },
    {
      "cell_type": "code",
      "metadata": {
        "id": "IgoewQgH58DB"
      },
      "source": [
        "from opencc import OpenCC\n",
        "cc = OpenCC('t2s')"
      ],
      "execution_count": 6,
      "outputs": []
    },
    {
      "cell_type": "code",
      "metadata": {
        "id": "yI2jmfXtx4rA"
      },
      "source": [
        "#!gdown https://drive.google.com/uc?id=1qW1YWtw3q9Q28QThrIY-rDU9Gl-SLIKO\n",
        "#!unzip /content/FinBERT_L-12_H-768_A-12_pytorch.zip"
      ],
      "execution_count": null,
      "outputs": []
    },
    {
      "cell_type": "markdown",
      "metadata": {
        "id": "9nbtOxLCVplM"
      },
      "source": [
        "# 財金BERT"
      ]
    },
    {
      "cell_type": "code",
      "metadata": {
        "id": "eSj-CMFhyunj"
      },
      "source": [
        "\n",
        "\n",
        "tokenizer = BertTokenizer.from_pretrained(PATH ,local_files_only=True)\n",
        "model = BertModel.from_pretrained(PATH ,local_files_only=True)"
      ],
      "execution_count": null,
      "outputs": []
    },
    {
      "cell_type": "code",
      "metadata": {
        "id": "ECJLJOaX1T5G"
      },
      "source": [
        "sector_dict = {\n",
        "'健護': '醫療保健服務類股',\n",
        "'科技': '科技類股', \n",
        "'公用事業': '公用事業類股',\n",
        "'生技':'生技類股', \n",
        "'能源':'能源類股',\n",
        "'替代能源':'替代能源類股',\n",
        "'消費':'消費品類股',\n",
        "'金融':'金融類股', \n",
        "'礦業':'礦業',\n",
        "'天然資源':'天然資源', \n",
        "'貴金屬現貨':'貴金屬',\n",
        "'農產品':'農產品',\n",
        "'貴金屬類股':'貴金屬',\n",
        "}"
      ],
      "execution_count": null,
      "outputs": []
    },
    {
      "cell_type": "code",
      "metadata": {
        "id": "J-vIxrf41PCa"
      },
      "source": [
        "mkt_dict= [\n",
        "'新興市場債',\n",
        "'高收益債',\n",
        "'全球債',\n",
        "'投資等級公司債',\n",
        "'美國公債',\n",
        "'亞債',\n",
        "'REITs不動產投資信託',\n",
        "'新臺幣類貨幣',\n",
        "'外幣類貨幣',\n",
        "'亞太股市', '美國股市', '全球新興市場', \n",
        "'全球型股市', '大中華股市', '中國A股', '印度股市','歐洲股市', \n",
        "'東南亞股市', '拉丁美洲股市', \n",
        "'韓國股市', '新興歐洲股市', '德國股市', '台灣股市','俄羅斯股市',\n",
        "'中國H股', '日本股市', '英國股市','泰國股市',\n",
        "'香港股市', '澳洲股市', '印尼股市', '巴西股市', '歐非中東股市'\n",
        "]\n"
      ],
      "execution_count": null,
      "outputs": []
    },
    {
      "cell_type": "code",
      "metadata": {
        "id": "5kh-1eUE3rqZ"
      },
      "source": [
        "mkt_dict = {x:x for x in mkt_dict}\n",
        "mkt_dict['亞債'] = '亞洲債券'\n",
        "mkt_dict['REITs不動產投資信託'] = '不動產'"
      ],
      "execution_count": null,
      "outputs": []
    },
    {
      "cell_type": "code",
      "metadata": {
        "id": "Z8FFfHT64XWY"
      },
      "source": [
        "total_sec_dict = {**sector_dict, **mkt_dict}"
      ],
      "execution_count": null,
      "outputs": []
    },
    {
      "cell_type": "code",
      "metadata": {
        "id": "nFw0cRYL5Pgv"
      },
      "source": [
        "sentences = list(set(total_sec_dict.values()))\n",
        "sentences = [cc.convert(x) for x in sentences]"
      ],
      "execution_count": null,
      "outputs": []
    },
    {
      "cell_type": "code",
      "metadata": {
        "id": "6xqHjsUqzNHK"
      },
      "source": [
        "inputs = tokenizer(sentences, padding=True, return_tensors=\"pt\")\n"
      ],
      "execution_count": null,
      "outputs": []
    },
    {
      "cell_type": "code",
      "metadata": {
        "id": "pCIKFK1GzNdl"
      },
      "source": [
        "## 單純forward pass 沒要計算梯度\n",
        "with torch.no_grad():\n",
        "  outputs = model(**inputs)"
      ],
      "execution_count": null,
      "outputs": []
    },
    {
      "cell_type": "code",
      "metadata": {
        "id": "WTjCxA4PzPZ0"
      },
      "source": [
        "x = outputs['last_hidden_state']\n",
        "np.savetxt('bert_mkt_emb.tsv', x[:,0].cpu().detach().numpy(), delimiter=\"\\t\")\n",
        "pd.DataFrame(sentences).to_csv('bert_mkt_emb_meta.tsv', header=False, index=False, sep=\"\\t\")"
      ],
      "execution_count": null,
      "outputs": []
    },
    {
      "cell_type": "markdown",
      "metadata": {
        "id": "Mz_Yj3-iVrtq"
      },
      "source": [
        "# 鉅亨網爬蟲\n"
      ]
    },
    {
      "cell_type": "code",
      "metadata": {
        "id": "wtqC0cdAYc1Q"
      },
      "source": [
        "res = requests.get('https://news.cnyes.com/news/cat/wd_stock')"
      ],
      "execution_count": 16,
      "outputs": []
    },
    {
      "cell_type": "code",
      "metadata": {
        "id": "F98QSMUQbQHw"
      },
      "source": [
        "#res2 = requests.get('https://blog.anuefund.com/page/2/?utm_campaign=bloglink&utm_medium=fund_mainlist&utm_source=anuefundapp')"
      ],
      "execution_count": 10,
      "outputs": []
    },
    {
      "cell_type": "code",
      "metadata": {
        "id": "5zAYS_t7Yily"
      },
      "source": [
        "soup = BeautifulSoup(res.text, 'html.parser')"
      ],
      "execution_count": 11,
      "outputs": []
    },
    {
      "cell_type": "code",
      "metadata": {
        "id": "MryeH3kbZGTO"
      },
      "source": [
        "news_list = soup.find_all(\"a\", attrs={\"class\":\"_1Zdp\"})"
      ],
      "execution_count": 12,
      "outputs": []
    },
    {
      "cell_type": "code",
      "metadata": {
        "id": "tMfxXS-ozeSE"
      },
      "source": [
        "[x['href'] for x in news_list]\n",
        "[x.find('h3').get_text(strip=True) for x in news_list]\n",
        "\n",
        "## .get_text(strip=True) 可避免不必用空白符亂碼"
      ],
      "execution_count": null,
      "outputs": []
    },
    {
      "cell_type": "code",
      "metadata": {
        "id": "HO7i8Ifj2pZK"
      },
      "source": [
        "ua = UserAgent()\n",
        "headers = {'user-agent': ua.random}"
      ],
      "execution_count": 17,
      "outputs": []
    },
    {
      "cell_type": "code",
      "metadata": {
        "id": "WDJx3VtS9hSu"
      },
      "source": [
        "start_unix_timestamp = int(time.mktime(dt.date(2021,1,1).timetuple()))\n",
        "end_unix_timestamp = int(time.mktime(dt.date(2021,11,15).timetuple()))"
      ],
      "execution_count": 145,
      "outputs": []
    },
    {
      "cell_type": "code",
      "metadata": {
        "id": "3PMpVrrPZ5fX"
      },
      "source": [
        "url_api = 'https://api.cnyes.com/media/api/v1/newslist/category/tw_stock?startAt={}&endAt={}&limit=30&page={}'.format(start_unix_timestamp, end_unix_timestamp, 1)\n",
        "res = requests.get(url_api, headers=headers)\n",
        "res_json = res.json()"
      ],
      "execution_count": 149,
      "outputs": []
    },
    {
      "cell_type": "code",
      "metadata": {
        "id": "J7lkV1wB-a9k"
      },
      "source": [
        "last_page = res_json['items']['last_page']"
      ],
      "execution_count": 147,
      "outputs": []
    },
    {
      "cell_type": "code",
      "metadata": {
        "id": "HGaM75fQJczm",
        "outputId": "4a3a6f01-e24e-4318-c61e-02dfc7262968",
        "colab": {
          "base_uri": "https://localhost:8080/"
        }
      },
      "source": [
        "last_page"
      ],
      "execution_count": 148,
      "outputs": [
        {
          "output_type": "execute_result",
          "data": {
            "text/plain": [
              "613"
            ]
          },
          "metadata": {},
          "execution_count": 148
        }
      ]
    },
    {
      "cell_type": "code",
      "metadata": {
        "id": "Cnh95b848-HQ"
      },
      "source": [
        "news_data_list"
      ],
      "execution_count": null,
      "outputs": []
    },
    {
      "cell_type": "code",
      "metadata": {
        "id": "gAk1bWHr8yEG",
        "colab": {
          "base_uri": "https://localhost:8080/"
        },
        "outputId": "66a024b3-f957-45b7-d5fb-72f0fc28b351"
      },
      "source": [
        "news_data_list = []\n",
        "\n",
        "for i in tqdm.tqdm(range(1,last_page+1)):\n",
        "  url_api = 'https://api.cnyes.com/media/api/v1/newslist/category/tw_stock?startAt={}&endAt={}&limit=30&page={}'.format(start_unix_timestamp, end_unix_timestamp, i)\n",
        "  res = requests.get(url_api, headers=headers)\n",
        "  res_json = res.json()\n",
        "  news_data_list.append(res_json)\n",
        "  time.sleep(1)"
      ],
      "execution_count": null,
      "outputs": [
        {
          "output_type": "stream",
          "name": "stderr",
          "text": [
            "  2%|▏         | 14/613 [00:27<18:13,  1.83s/it]"
          ]
        }
      ]
    },
    {
      "cell_type": "code",
      "metadata": {
        "id": "zsmGXhNjoN9h"
      },
      "source": [
        "import re"
      ],
      "execution_count": 65,
      "outputs": []
    },
    {
      "cell_type": "code",
      "metadata": {
        "id": "fQkzgRdDnuoS"
      },
      "source": [
        "## 只保留英文中文數字 \n",
        "\n",
        "def remove_punctuation(line):\n",
        "  rule = re.compile(\"[^a-z A-Z \\u4e00-\\u9fa5]\")\n",
        "  #rule = re.compile(\"[^a-z A-Z 0-9 \\u4e00-\\u9fa5]\")\n",
        "  line = rule.sub('',line)\n",
        "  return line"
      ],
      "execution_count": 112,
      "outputs": []
    },
    {
      "cell_type": "code",
      "metadata": {
        "id": "99VhF48nFQw1",
        "outputId": "fcb34d7d-ddb8-437b-c331-1418df081a14",
        "colab": {
          "base_uri": "https://localhost:8080/",
          "height": 35
        }
      },
      "source": [
        "remove_punctuation('')"
      ],
      "execution_count": 113,
      "outputs": [
        {
          "output_type": "execute_result",
          "data": {
            "application/vnd.google.colaboratory.intrinsic+json": {
              "type": "string"
            },
            "text/plain": [
              "''"
            ]
          },
          "metadata": {},
          "execution_count": 113
        }
      ]
    },
    {
      "cell_type": "code",
      "metadata": {
        "id": "jpMFP--mpuvB",
        "outputId": "351c8999-cbde-4ce6-9b0a-51f281ac8526",
        "colab": {
          "base_uri": "https://localhost:8080/"
        }
      },
      "source": [
        "from datetime import datetime\n",
        "ts = int('1284101485')\n",
        "\n",
        "# if you encounter a \"year is out of range\" error the timestamp\n",
        "# may be in milliseconds, try `ts /= 1000` in that case\n",
        "print(dt.datetime.utcfromtimestamp(ts).strftime('%Y-%m-%d %H:%M:%S'))"
      ],
      "execution_count": 52,
      "outputs": [
        {
          "output_type": "stream",
          "name": "stdout",
          "text": [
            "2010-09-10 06:51:25\n"
          ]
        }
      ]
    },
    {
      "cell_type": "code",
      "metadata": {
        "id": "WqxkUE-NHPcg"
      },
      "source": [
        "news_data_list[0]"
      ],
      "execution_count": null,
      "outputs": []
    },
    {
      "cell_type": "code",
      "metadata": {
        "id": "al-Lftq69Zh1"
      },
      "source": [
        "\n",
        "news_extracted_list=[]\n",
        "\n",
        "for chunk in news_data_list:\n",
        "  article_content = chunk['items']['data']\n",
        "  data_dict = [{\n",
        "      'id':x['newsId'], \n",
        "      'title':x['title'], \n",
        "      'summary':x['summary'],  \n",
        "      'unix_timestamp':x['publishAt'],\n",
        "      'datetime':dt.datetime.utcfromtimestamp(x['publishAt']).strftime('%Y-%m-%d')\n",
        "      } for x in article_content\n",
        "  ]\n",
        "  news_extracted_list.extend(data_dict)\n"
      ],
      "execution_count": 131,
      "outputs": []
    },
    {
      "cell_type": "code",
      "metadata": {
        "id": "ccixGnYrHyGa"
      },
      "source": [
        "news_data_list[19]"
      ],
      "execution_count": null,
      "outputs": []
    },
    {
      "cell_type": "code",
      "metadata": {
        "id": "znktSdeo9SF5",
        "outputId": "0e7331b0-9b80-4c7e-f999-a1ee55a4f325",
        "colab": {
          "base_uri": "https://localhost:8080/",
          "height": 589
        }
      },
      "source": [
        "pd.DataFrame(news_extracted_list)"
      ],
      "execution_count": 133,
      "outputs": [
        {
          "output_type": "execute_result",
          "data": {
            "text/html": [
              "<div>\n",
              "<style scoped>\n",
              "    .dataframe tbody tr th:only-of-type {\n",
              "        vertical-align: middle;\n",
              "    }\n",
              "\n",
              "    .dataframe tbody tr th {\n",
              "        vertical-align: top;\n",
              "    }\n",
              "\n",
              "    .dataframe thead th {\n",
              "        text-align: right;\n",
              "    }\n",
              "</style>\n",
              "<table border=\"1\" class=\"dataframe\">\n",
              "  <thead>\n",
              "    <tr style=\"text-align: right;\">\n",
              "      <th></th>\n",
              "      <th>id</th>\n",
              "      <th>title</th>\n",
              "      <th>summary</th>\n",
              "      <th>unix_timestamp</th>\n",
              "      <th>datetime</th>\n",
              "    </tr>\n",
              "  </thead>\n",
              "  <tbody>\n",
              "    <tr>\n",
              "      <th>0</th>\n",
              "      <td>4771793</td>\n",
              "      <td>國產出售高雄悅誠廣場資產 貢獻EPS 1.27元</td>\n",
              "      <td>混凝土廠國產 (2504-TW) 今 (15) 日公告，將高雄「悅誠廣場」房地持分以總價 2...</td>\n",
              "      <td>1636984978</td>\n",
              "      <td>2021-11-15</td>\n",
              "    </tr>\n",
              "    <tr>\n",
              "      <th>1</th>\n",
              "      <td>4771790</td>\n",
              "      <td>〈台泥法說〉Q4煤價下滑成本壓力減 毛利率將回升至平均之上</td>\n",
              "      <td>台泥 (1101-TW) 今 (15) 日召開法說，總經理李鐘培表示，10 月以來中國能耗雙...</td>\n",
              "      <td>1636984833</td>\n",
              "      <td>2021-11-15</td>\n",
              "    </tr>\n",
              "    <tr>\n",
              "      <th>2</th>\n",
              "      <td>4771785</td>\n",
              "      <td>〈台泥法說〉張安平談氣候變遷「水泥業站在生命第一現場」 承擔減碳責無旁貸</td>\n",
              "      <td>台泥 (1101-TW) 董事長張安平今 (15) 日在法說會前致詞時指出，今天的氣候災害，...</td>\n",
              "      <td>1636984795</td>\n",
              "      <td>2021-11-15</td>\n",
              "    </tr>\n",
              "    <tr>\n",
              "      <th>3</th>\n",
              "      <td>4771771</td>\n",
              "      <td>達邁調整產品組合 看好高頻高速傳輸及汽車市場應用</td>\n",
              "      <td>聚醯亞胺（PI）薄膜廠達邁 (3645-TW) 積極展開產品應用多元化的布局，由以往高達 9...</td>\n",
              "      <td>1636980649</td>\n",
              "      <td>2021-11-15</td>\n",
              "    </tr>\n",
              "    <tr>\n",
              "      <th>4</th>\n",
              "      <td>4771770</td>\n",
              "      <td>22家壽險前3季合賺3389億元破紀錄 淨值比all pass！</td>\n",
              "      <td>22 家壽險前 3 季合賺 3389 億元破紀錄 淨值比 all pass！</td>\n",
              "      <td>1636980334</td>\n",
              "      <td>2021-11-15</td>\n",
              "    </tr>\n",
              "    <tr>\n",
              "      <th>...</th>\n",
              "      <td>...</td>\n",
              "      <td>...</td>\n",
              "      <td>...</td>\n",
              "      <td>...</td>\n",
              "      <td>...</td>\n",
              "    </tr>\n",
              "    <tr>\n",
              "      <th>585</th>\n",
              "      <td>4762178</td>\n",
              "      <td>權證投資人一定要了解的權證投資人看多標的TOP5</td>\n",
              "      <td></td>\n",
              "      <td>1636076093</td>\n",
              "      <td>2021-11-05</td>\n",
              "    </tr>\n",
              "    <tr>\n",
              "      <th>586</th>\n",
              "      <td>4762084</td>\n",
              "      <td>Dish Network用戶數下滑+5G佈建遙遙無期 股價重挫近14%</td>\n",
              "      <td>衛星電視供應商 Dish Network (DISH-US) 周四 (4 日) 表示該公司用...</td>\n",
              "      <td>1636075112</td>\n",
              "      <td>2021-11-05</td>\n",
              "    </tr>\n",
              "    <tr>\n",
              "      <th>587</th>\n",
              "      <td>4762115</td>\n",
              "      <td>〈台股盤前〉美股續創高待帶量上攻 類股持續輪動</td>\n",
              "      <td>台股昨 (4) 日在權王台積電走弱，貨櫃三雄賣壓湧現下，翻黑下挫，下跌 43.3 點，收 1...</td>\n",
              "      <td>1636072504</td>\n",
              "      <td>2021-11-05</td>\n",
              "    </tr>\n",
              "    <tr>\n",
              "      <th>588</th>\n",
              "      <td>4761480</td>\n",
              "      <td>操盤手看台股：輪動格局 缺料緩解股進入第二回合</td>\n",
              "      <td></td>\n",
              "      <td>1636070423</td>\n",
              "      <td>2021-11-05</td>\n",
              "    </tr>\n",
              "    <tr>\n",
              "      <th>589</th>\n",
              "      <td>4761937</td>\n",
              "      <td>〈台股盤前要聞〉央行數位理事關切通膨、華航Q3獲利大驚奇 今日必看財經新聞</td>\n",
              "      <td>關注台股盤前要聞重點，央行公布第三季理監事會議議事錄摘要，數位理事表達關切通膨動向，提醒央行...</td>\n",
              "      <td>1636060205</td>\n",
              "      <td>2021-11-04</td>\n",
              "    </tr>\n",
              "  </tbody>\n",
              "</table>\n",
              "<p>590 rows × 5 columns</p>\n",
              "</div>"
            ],
            "text/plain": [
              "          id                                  title  ... unix_timestamp    datetime\n",
              "0    4771793               國產出售高雄悅誠廣場資產 貢獻EPS 1.27元  ...     1636984978  2021-11-15\n",
              "1    4771790          〈台泥法說〉Q4煤價下滑成本壓力減 毛利率將回升至平均之上  ...     1636984833  2021-11-15\n",
              "2    4771785   〈台泥法說〉張安平談氣候變遷「水泥業站在生命第一現場」 承擔減碳責無旁貸  ...     1636984795  2021-11-15\n",
              "3    4771771               達邁調整產品組合 看好高頻高速傳輸及汽車市場應用  ...     1636980649  2021-11-15\n",
              "4    4771770       22家壽險前3季合賺3389億元破紀錄 淨值比all pass！  ...     1636980334  2021-11-15\n",
              "..       ...                                    ...  ...            ...         ...\n",
              "585  4762178               權證投資人一定要了解的權證投資人看多標的TOP5  ...     1636076093  2021-11-05\n",
              "586  4762084    Dish Network用戶數下滑+5G佈建遙遙無期 股價重挫近14%  ...     1636075112  2021-11-05\n",
              "587  4762115                〈台股盤前〉美股續創高待帶量上攻 類股持續輪動  ...     1636072504  2021-11-05\n",
              "588  4761480                操盤手看台股：輪動格局 缺料緩解股進入第二回合  ...     1636070423  2021-11-05\n",
              "589  4761937  〈台股盤前要聞〉央行數位理事關切通膨、華航Q3獲利大驚奇 今日必看財經新聞  ...     1636060205  2021-11-04\n",
              "\n",
              "[590 rows x 5 columns]"
            ]
          },
          "metadata": {},
          "execution_count": 133
        }
      ]
    },
    {
      "cell_type": "code",
      "metadata": {
        "id": "KWx8NO9OqUzO"
      },
      "source": [
        ""
      ],
      "execution_count": null,
      "outputs": []
    }
  ]
}