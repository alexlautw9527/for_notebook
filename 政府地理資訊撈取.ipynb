{
  "nbformat": 4,
  "nbformat_minor": 0,
  "metadata": {
    "colab": {
      "name": "政府地理資訊撈取.ipynb",
      "provenance": [],
      "collapsed_sections": [],
      "toc_visible": true,
      "mount_file_id": "1ly0uJlNyEJYFcu8IizEk4hLvZLy1e52U",
      "authorship_tag": "ABX9TyM1kPKuilhioJjxinSreEAF",
      "include_colab_link": true
    },
    "kernelspec": {
      "name": "python3",
      "display_name": "Python 3"
    },
    "language_info": {
      "name": "python"
    }
  },
  "cells": [
    {
      "cell_type": "markdown",
      "metadata": {
        "id": "view-in-github",
        "colab_type": "text"
      },
      "source": [
        "<a href=\"https://colab.research.google.com/github/alexlautw9527/for_notebook/blob/main/%E6%94%BF%E5%BA%9C%E5%9C%B0%E7%90%86%E8%B3%87%E8%A8%8A%E6%92%88%E5%8F%96.ipynb\" target=\"_parent\"><img src=\"https://colab.research.google.com/assets/colab-badge.svg\" alt=\"Open In Colab\"/></a>"
      ]
    },
    {
      "cell_type": "markdown",
      "metadata": {
        "id": "hhhJBvQJk7-I"
      },
      "source": [
        "## 抓周圍API"
      ]
    },
    {
      "cell_type": "code",
      "metadata": {
        "id": "Ozizc1gO6YOK"
      },
      "source": [
        "import re\n",
        "import time\n",
        "import os\n",
        "from datetime import datetime\n",
        "from bs4 import BeautifulSoup\n",
        "import pandas as pd\n",
        "import numpy as np\n",
        "from string import Template\n",
        "import urllib\n",
        "import json\n",
        "import pickle"
      ],
      "execution_count": null,
      "outputs": []
    },
    {
      "cell_type": "markdown",
      "metadata": {
        "id": "unsOkAHflIov"
      },
      "source": [
        "## 載入分行點位資料"
      ]
    },
    {
      "cell_type": "code",
      "metadata": {
        "id": "Z9Tlw0V48SFA"
      },
      "source": [
        "import pickle\n",
        "with open('/content/drive/MyDrive/03_RESOURCE/GIS/brn_poi.pickle', 'rb') as f:\n",
        "  poi = pickle.load(f)"
      ],
      "execution_count": null,
      "outputs": []
    },
    {
      "cell_type": "code",
      "metadata": {
        "id": "_ercbtHP8VRc"
      },
      "source": [
        "brn_df = pd.read_csv('/content/drive/MyDrive/03_RESOURCE/GIS/taishin_brn.csv').drop_duplicates()\n",
        "brn_xy_df = pd.read_csv('/content/drive/MyDrive/03_RESOURCE/GIS/brn_xy_df.csv')\n",
        "brn_df = brn_df.merge(brn_xy_df,how='left' ,on = 'addr').copy()\n",
        "brn_df = brn_df.drop_duplicates()"
      ],
      "execution_count": null,
      "outputs": []
    },
    {
      "cell_type": "markdown",
      "metadata": {
        "id": "VXN4UQHUlkb2"
      },
      "source": [
        "## API 設定模板"
      ]
    },
    {
      "cell_type": "code",
      "metadata": {
        "id": "9ijrqPGAPtSq"
      },
      "source": [
        "imp_poi_tpl = Template(\"https://egis.moea.gov.tw/MoeaEGFxData_WebAPI_Inside/InnoServe/LandMark?resptype=GeoJson&x=$x&y=$y&buffer=$dist\")\n",
        "factory_tpl = Template(\"https://egis.moea.gov.tw/MoeaEGFxData_WebAPI_Inside/InnoServe/Factory?resptype=GeoJson&x=$x&y=$y&buffer=$dist\")\n",
        "bu_tpl = Template(\"https://egis.moea.gov.tw/MoeaEGFxData_WebAPI_Inside/InnoServe/BusinessBUSM?resptype=GeoJson&x=$x&y=$y&buffer=$dist\")\n",
        "cmp_tpl = Template(\"https://egis.moea.gov.tw/MoeaEGFxData_WebAPI_Inside/InnoServe/BusinessCMPY?resptype=GeoJson&x=$x&y=$y&buffer=$dist\")\n",
        "stk_tpl = Template(\"https://egis.moea.gov.tw/MoeaEGFxData_WebAPI_Inside/InnoServe/Stock?resptype=GeoJson&x=$x&y=$y&buffer=$dist\")\n",
        "code3_tpl = Template(\"https://egis.moea.gov.tw/MoeaEGFxData_WebAPI_Inside/InnoServe/CodeSearchEcon/GetInfo?resptype=GeoJson&x=$x&y=$y\")"
      ],
      "execution_count": null,
      "outputs": []
    },
    {
      "cell_type": "markdown",
      "source": [
        "- imp_poi_tpl: 周圍重要地標\n",
        "- factory_tpl: 周圍工廠 (工商登記資料)\n",
        "- bu_tpl: 周圍商家 (工商登記資料)\n",
        "- cmp_tpl: 周圍公司 (工商登記資料)\n",
        "- stk_tpl: 周圍上市櫃公司 (工商登記資料)\n",
        "- code3_tpl: 所屬經濟三級統計區代碼\n",
        "\n",
        "[來源 經濟地理圖資中心](https://egis.moea.gov.tw/OpenData/)"
      ],
      "metadata": {
        "id": "Ycd4MvJntspT"
      }
    },
    {
      "cell_type": "code",
      "metadata": {
        "id": "C6xyWrnKQKm6"
      },
      "source": [
        "res = {}\n",
        "failed_list = []"
      ],
      "execution_count": null,
      "outputs": []
    },
    {
      "cell_type": "markdown",
      "metadata": {
        "id": "dX3S2epElTzQ"
      },
      "source": [
        "## For loop 爬取"
      ]
    },
    {
      "cell_type": "code",
      "metadata": {
        "id": "wb0zSdcjxBQK"
      },
      "source": [
        "\n",
        "for qry in list(zip(brn_df['brn'], brn_df['lon'], brn_df['lat'])):\n",
        "    print('獲取資訊', qry[0])\n",
        "    api_sub_dict = {\n",
        "        'x' : qry[1], \n",
        "        'y':qry[2], \n",
        "        'dist':500\n",
        "    }\n",
        "    imp_poi_url = imp_poi_tpl.substitute(api_sub_dict)\n",
        "    factory_url = factory_tpl.substitute(api_sub_dict)\n",
        "    bu_url= bu_tpl.substitute(api_sub_dict)\n",
        "    cmp_url = cmp_tpl.substitute(api_sub_dict)\n",
        "    stk_url = stk_tpl.substitute(api_sub_dict)\n",
        "    code3_url = code3_tpl.substitute(api_sub_dict)\n",
        "\n",
        "    try: \n",
        "        with urllib.request.urlopen(imp_poi_url) as url:\n",
        "            imp_poi_data = json.loads(url.read().decode())\n",
        "\n",
        "        with urllib.request.urlopen(factory_url) as url:\n",
        "            factory_data = json.loads(url.read().decode())\n",
        "\n",
        "        with urllib.request.urlopen(bu_url) as url:\n",
        "            bu_data = json.loads(url.read().decode())\n",
        "\n",
        "        with urllib.request.urlopen(cmp_url) as url:\n",
        "            cmp_data = json.loads(url.read().decode())\n",
        "\n",
        "        with urllib.request.urlopen(stk_url) as url:\n",
        "            stk_data = json.loads(url.read().decode())\n",
        "\n",
        "        with urllib.request.urlopen(code3_url) as url:\n",
        "            code3_data = json.loads(url.read().decode())\n",
        "\n",
        "        factory_num = len(factory_data['features'])\n",
        "        bu_num = len(bu_data['features'])\n",
        "        cmp_num = len(cmp_data['features'])\n",
        "        stk_num = len(stk_data['features'])\n",
        "        try:\n",
        "            all_dict = {\n",
        "              'poi_raw_data': [imp_poi_data, factory_data, bu_data, cmp_data, stk_data] ,\n",
        "              'around_num': {'factory_num':factory_num, 'bu_num':bu_num, 'cmp_num':cmp_num, 'stk_num':stk_num},\n",
        "              'code3_data': code3_data\n",
        "            }\n",
        "        except Exception as e:\n",
        "            all_dict = {\n",
        "              'poi_raw_data': [imp_poi_data, factory_data, bu_data, cmp_data, stk_data] ,\n",
        "              'around_num': {'factory_num':factory_num, 'bu_num':bu_num, 'cmp_num':cmp_num, 'stk_num':stk_num},\n",
        "              'code3_data': code3_data\n",
        "            }\n",
        "\n",
        "        print('成功')\n",
        "        res[qry[0]] = all_dict\n",
        "    except Exception as e:\n",
        "        print(e)\n",
        "        failed_list.append(qry[0])\n",
        "        print('失敗')\n",
        "    time.sleep(5)"
      ],
      "execution_count": null,
      "outputs": []
    },
    {
      "cell_type": "code",
      "metadata": {
        "id": "NA566Kj8BFeN"
      },
      "source": [
        "res = {}\n",
        "failed_list = []"
      ],
      "execution_count": null,
      "outputs": []
    },
    {
      "cell_type": "code",
      "metadata": {
        "id": "rtB20KGYQNQa",
        "colab": {
          "base_uri": "https://localhost:8080/"
        },
        "outputId": "c8a07539-9d8f-49b5-8988-f45cabbf4c00"
      },
      "source": [
        "## 失敗的重爬\n",
        "\n",
        "#failed_df = brn_df[brn_df['brn'].isin([failed_list])]\n",
        "failed_df = brn_df[brn_df['brn'].isin(['南崁分行'])]\n",
        "\n",
        "for qry in list(zip(failed_df['brn'], failed_df['lon'], failed_df['lat'])):\n",
        "    print('獲取資訊', qry[0])\n",
        "    api_sub_dict = {\n",
        "        'x' : qry[1], \n",
        "        'y':qry[2], \n",
        "        'dist':500\n",
        "    }\n",
        "    imp_poi_url = imp_poi_tpl.substitute(api_sub_dict)\n",
        "    factory_url = factory_tpl.substitute(api_sub_dict)\n",
        "    bu_url= bu_tpl.substitute(api_sub_dict)\n",
        "    cmp_url = cmp_tpl.substitute(api_sub_dict)\n",
        "    stk_url = stk_tpl.substitute(api_sub_dict)\n",
        "    code3_url = code3_tpl.substitute(api_sub_dict)\n",
        "\n",
        "    try:\n",
        "        with urllib.request.urlopen(imp_poi_url) as url:\n",
        "            imp_poi_data = json.loads(url.read().decode())\n",
        "\n",
        "        with urllib.request.urlopen(factory_url) as url:\n",
        "            factory_data = json.loads(url.read().decode())\n",
        "\n",
        "        with urllib.request.urlopen(bu_url) as url:\n",
        "            bu_data = json.loads(url.read().decode())\n",
        "\n",
        "        with urllib.request.urlopen(cmp_url) as url:\n",
        "            cmp_data = json.loads(url.read().decode())\n",
        "\n",
        "        with urllib.request.urlopen(stk_url) as url:\n",
        "            stk_data = json.loads(url.read().decode())\n",
        "\n",
        "\n",
        "        with urllib.request.urlopen(code3_url) as url:\n",
        "            code3_data = json.loads(url.read().decode())\n",
        "\n",
        "\n",
        "        factory_num = len(factory_data['features'])\n",
        "        bu_num = len(bu_data['features'])\n",
        "        cmp_num = len(cmp_data['features'])\n",
        "        stk_num = len(stk_data['features'])\n",
        "\n",
        "        all_dict = {\n",
        "          'poi_raw_data': [imp_poi_data, factory_data, bu_data, cmp_data, stk_data] ,\n",
        "          'around_num': {'factory_num':factory_num, 'bu_num':bu_num, 'cmp_num':cmp_num, 'stk_num':stk_num},\n",
        "          'code3_data': code3_data\n",
        "        }\n",
        "        print('成功')\n",
        "        res[qry[0]] = all_dict\n",
        "\n",
        "    except Exception as e:\n",
        "        print(e)\n",
        "        failed_list.append(qry[0])\n",
        "        print('失敗')\n",
        "    time.sleep(5)"
      ],
      "execution_count": null,
      "outputs": [
        {
          "output_type": "stream",
          "text": [
            "獲取資訊 南崁分行\n",
            "HTTP Error 500: Internal Server Error\n",
            "失敗\n"
          ],
          "name": "stdout"
        }
      ]
    },
    {
      "cell_type": "markdown",
      "source": [
        "南崁分行還是會無法爬到所屬經濟三級統計區，直接設定A6800005028"
      ],
      "metadata": {
        "id": "iPYWJze8RFX4"
      }
    },
    {
      "cell_type": "code",
      "metadata": {
        "id": "OsIXoJs9Ucim"
      },
      "source": [
        "'''\n",
        "import pickle\n",
        "\n",
        "with open ('/content/drive/MyDrive/03_RESOURCE/GIS/gis_open_api.pickle', 'wb') as f:\n",
        "    pickle.dump(res, f)\n",
        "'''"
      ],
      "execution_count": null,
      "outputs": []
    },
    {
      "cell_type": "markdown",
      "metadata": {
        "id": "iHn_DdnGl0eI"
      },
      "source": [
        "## 資料源整理"
      ]
    },
    {
      "cell_type": "markdown",
      "metadata": {
        "id": "dzdA2kOyUc52"
      },
      "source": [
        "- 抓電子發票資料連結\n",
        "\n",
        "https://egis.moea.gov.tw/EGIS_FILE/EGP_SD/107_B2C_SalesAmount.csv\n",
        "https://egis.moea.gov.tw/EGIS_FILE/EGP_SD/107_B2C_StoreCount.csv\n",
        "https://egis.moea.gov.tw/EGIS_FILE/EGP_SD/107_B2C_InvoiceCount.csv\n"
      ]
    },
    {
      "cell_type": "markdown",
      "metadata": {
        "id": "m04LdjO9jVXo"
      },
      "source": [
        "- 二級發布區人口資料\n",
        "- 二級發布區人口指標\n",
        "\n",
        "https://data.gov.tw/dataset/18681\n",
        "https://data.gov.tw/dataset/18624\n",
        "\n",
        "\n",
        "- 村里綜合所得稅年收\n",
        "\n",
        "https://data.gov.tw/dataset/103066\n"
      ]
    },
    {
      "cell_type": "markdown",
      "metadata": {
        "id": "lUmCCnXqrxzD"
      },
      "source": [
        "- 統計區比對服務: 給定地址就可以查詢所屬統計區，批次上傳最高筆數10000筆\n",
        "\n",
        "https://moisagis.moi.gov.tw/moiap/match/system_common.cfm"
      ]
    },
    {
      "cell_type": "markdown",
      "metadata": {
        "id": "vMnDuL0QALg6"
      },
      "source": [
        "經濟三級發布區之代碼應與二級發布區代碼需有對應關係存在，取得二級發布區之後兩碼作為擴充碼\n",
        "- 經濟三級發布區: A6300003042\n",
        "- 統計區二級發布區: A6303-42\t\n",
        "\n",
        "經濟三級發布區和二級發布區的劃分方式相同，但編碼格式不同"
      ]
    },
    {
      "cell_type": "code",
      "metadata": {
        "id": "q3HYuiXvGG3j"
      },
      "source": [
        "with open('/content/drive/MyDrive/03_RESOURCE/GIS/gis_open_api.pickle', 'rb') as f:\n",
        "    api_data = pickle.load(f)"
      ],
      "execution_count": null,
      "outputs": []
    },
    {
      "cell_type": "markdown",
      "source": [
        "# 抓人口統計資料"
      ],
      "metadata": {
        "id": "BdUCcbKoyl53"
      }
    },
    {
      "cell_type": "code",
      "metadata": {
        "id": "IYVG4bSJg0um"
      },
      "source": [
        "%%capture\n",
        "\n",
        "\n",
        "!mkdir pop_data\n",
        "city_list = [\n",
        "    '連江縣', '金門縣', '宜蘭縣', '新竹縣', '苗栗縣', '彰化縣', '南投縣', '雲林縣', '嘉義縣',\n",
        "    '屏東縣', '臺東縣', '花蓮縣', '澎湖縣', '基隆市', '新竹市', '嘉義市', '臺北市', '高雄市',\n",
        "    '新北市', '臺中市', '臺南市', '桃園市'\n",
        "]\n",
        "\n",
        "\n",
        "for city in city_list:\n",
        "    city_zip = \"'/content/pop_data/{}.zip'\".format(city)\n",
        "    pop_url = \"'https://segis.moi.gov.tw/STAT/Generic/Project/GEN_STAT.ashx?method=downloadproductfile&code=3B0651D2CB3FE4C9933AB5B1C03BD952&STTIME=109Y12M&STUNIT=U0202&BOUNDARY={}'\".format(city)\n",
        "    ! wget {pop_url} -O {city_zip}\n",
        "    !unzip {city_zip} -d /content/pop_data\n",
        "\n",
        "files = Path('/content/pop_data').glob('**/*.csv')\n",
        "csv_list = [str(x) for x in files]\n",
        "csv_list.sort()\n",
        "city_list.sort()\n",
        "\n",
        "df_list = []\n",
        "for file, city in zip(csv_list,city_list):\n",
        "   df = pd.read_csv(file, encoding = 'CP950')\n",
        "   df = df.iloc[1:,:].copy()\n",
        "   df.insert(loc=0, column='city', value=city)\n",
        "   df_list.append(df)\n",
        "pd.concat(df_list,axis=0).to_csv('/content/drive/MyDrive/03_RESOURCE/GIS/台灣二級統計區人口資料', index=False)"
      ],
      "execution_count": null,
      "outputs": []
    },
    {
      "cell_type": "code",
      "metadata": {
        "id": "yCwD9t5IoGbE"
      },
      "source": [
        "pd.concat(df_list,axis=0).to_csv('/content/drive/MyDrive/03_RESOURCE/GIS/台灣二級統計區人口資料.csv', index=False)"
      ],
      "execution_count": null,
      "outputs": []
    },
    {
      "cell_type": "code",
      "metadata": {
        "id": "X6TzKKpxfYnh"
      },
      "source": [
        "%%capture\n",
        "\n",
        "\n",
        "!mkdir pop_ratio\n",
        "city_list = [\n",
        "    '連江縣', '金門縣', '宜蘭縣', '新竹縣', '苗栗縣', '彰化縣', '南投縣', '雲林縣', '嘉義縣',\n",
        "    '屏東縣', '臺東縣', '花蓮縣', '澎湖縣', '基隆市', '新竹市', '嘉義市', '臺北市', '高雄市',\n",
        "    '新北市', '臺中市', '臺南市', '桃園市'\n",
        "]\n",
        "\n",
        "\n",
        "for city in city_list:\n",
        "    city_zip = \"'/content/pop_ratio/{}.zip'\".format(city)\n",
        "    pop_url = \"'https://segis.moi.gov.tw/STAT/Generic/Project/GEN_STAT.ashx?method=downloadproductfile&code=D71B7495F95BC7C4184F1603ADC8AF64&STTIME=109Y12M&STUNIT=U0202&BOUNDARY={}'\".format(city)\n",
        "    ! wget {pop_url} -O {city_zip}\n",
        "    !unzip {city_zip} -d /content/pop_ratio\n",
        "\n",
        "files = Path('/content/pop_ratio').glob('**/*.csv')\n",
        "csv_list = [str(x) for x in files]\n",
        "csv_list.sort()\n",
        "city_list.sort()\n",
        "\n",
        "df_list = []\n",
        "for file, city in zip(csv_list,city_list):\n",
        "   df = pd.read_csv(file, encoding = 'CP950')\n",
        "   df = df.iloc[1:,:].copy()\n",
        "   df.insert(loc=0, column='city', value=city)\n",
        "   df_list.append(df)\n",
        "pd.concat(df_list,axis=0).to_csv('/content/drive/MyDrive/03_RESOURCE/GIS/台灣二級統計區人口指標.csv', index=False)"
      ],
      "execution_count": null,
      "outputs": []
    }
  ]
}