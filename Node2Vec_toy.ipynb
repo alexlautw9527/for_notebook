{
  "nbformat": 4,
  "nbformat_minor": 0,
  "metadata": {
    "colab": {
      "name": "Node2Vec_toy.ipynb",
      "provenance": [],
      "collapsed_sections": [],
      "authorship_tag": "ABX9TyMfp/1fDst6FQSB9E9cCGi1",
      "include_colab_link": true
    },
    "kernelspec": {
      "name": "python3",
      "display_name": "Python 3"
    },
    "language_info": {
      "name": "python"
    },
    "widgets": {
      "application/vnd.jupyter.widget-state+json": {
        "e95181e804a045149fc55579d593f181": {
          "model_module": "@jupyter-widgets/controls",
          "model_name": "HBoxModel",
          "model_module_version": "1.5.0",
          "state": {
            "_view_name": "HBoxView",
            "_dom_classes": [],
            "_model_name": "HBoxModel",
            "_view_module": "@jupyter-widgets/controls",
            "_model_module_version": "1.5.0",
            "_view_count": null,
            "_view_module_version": "1.5.0",
            "box_style": "",
            "layout": "IPY_MODEL_175511d54d9742f1b85456530ce01512",
            "_model_module": "@jupyter-widgets/controls",
            "children": [
              "IPY_MODEL_7186d57474b84216bff69353920de848",
              "IPY_MODEL_3c6dfde1118240508469746285434c0b",
              "IPY_MODEL_89242831136d41e797fbf47386d001e1"
            ]
          }
        },
        "175511d54d9742f1b85456530ce01512": {
          "model_module": "@jupyter-widgets/base",
          "model_name": "LayoutModel",
          "model_module_version": "1.2.0",
          "state": {
            "_view_name": "LayoutView",
            "grid_template_rows": null,
            "right": null,
            "justify_content": null,
            "_view_module": "@jupyter-widgets/base",
            "overflow": null,
            "_model_module_version": "1.2.0",
            "_view_count": null,
            "flex_flow": null,
            "width": null,
            "min_width": null,
            "border": null,
            "align_items": null,
            "bottom": null,
            "_model_module": "@jupyter-widgets/base",
            "top": null,
            "grid_column": null,
            "overflow_y": null,
            "overflow_x": null,
            "grid_auto_flow": null,
            "grid_area": null,
            "grid_template_columns": null,
            "flex": null,
            "_model_name": "LayoutModel",
            "justify_items": null,
            "grid_row": null,
            "max_height": null,
            "align_content": null,
            "visibility": null,
            "align_self": null,
            "height": null,
            "min_height": null,
            "padding": null,
            "grid_auto_rows": null,
            "grid_gap": null,
            "max_width": null,
            "order": null,
            "_view_module_version": "1.2.0",
            "grid_template_areas": null,
            "object_position": null,
            "object_fit": null,
            "grid_auto_columns": null,
            "margin": null,
            "display": null,
            "left": null
          }
        },
        "7186d57474b84216bff69353920de848": {
          "model_module": "@jupyter-widgets/controls",
          "model_name": "HTMLModel",
          "model_module_version": "1.5.0",
          "state": {
            "_view_name": "HTMLView",
            "style": "IPY_MODEL_c05445bfe926404a871d6402fd422e93",
            "_dom_classes": [],
            "description": "",
            "_model_name": "HTMLModel",
            "placeholder": "​",
            "_view_module": "@jupyter-widgets/controls",
            "_model_module_version": "1.5.0",
            "value": "Computing transition probabilities: 100%",
            "_view_count": null,
            "_view_module_version": "1.5.0",
            "description_tooltip": null,
            "_model_module": "@jupyter-widgets/controls",
            "layout": "IPY_MODEL_5432e1f682f64f9abebf36f2c8f0fe2d"
          }
        },
        "3c6dfde1118240508469746285434c0b": {
          "model_module": "@jupyter-widgets/controls",
          "model_name": "FloatProgressModel",
          "model_module_version": "1.5.0",
          "state": {
            "_view_name": "ProgressView",
            "style": "IPY_MODEL_e1f7c816caa449f69750804cd44ab71a",
            "_dom_classes": [],
            "description": "",
            "_model_name": "FloatProgressModel",
            "bar_style": "success",
            "max": 20,
            "_view_module": "@jupyter-widgets/controls",
            "_model_module_version": "1.5.0",
            "value": 20,
            "_view_count": null,
            "_view_module_version": "1.5.0",
            "orientation": "horizontal",
            "min": 0,
            "description_tooltip": null,
            "_model_module": "@jupyter-widgets/controls",
            "layout": "IPY_MODEL_6a2fa7e0be644e9184902692a330125e"
          }
        },
        "89242831136d41e797fbf47386d001e1": {
          "model_module": "@jupyter-widgets/controls",
          "model_name": "HTMLModel",
          "model_module_version": "1.5.0",
          "state": {
            "_view_name": "HTMLView",
            "style": "IPY_MODEL_4780df31bd4944bda0319485a45ffabd",
            "_dom_classes": [],
            "description": "",
            "_model_name": "HTMLModel",
            "placeholder": "​",
            "_view_module": "@jupyter-widgets/controls",
            "_model_module_version": "1.5.0",
            "value": " 20/20 [00:00&lt;00:00, 271.39it/s]",
            "_view_count": null,
            "_view_module_version": "1.5.0",
            "description_tooltip": null,
            "_model_module": "@jupyter-widgets/controls",
            "layout": "IPY_MODEL_db57f272780d4742a756fe2c33836ac9"
          }
        },
        "c05445bfe926404a871d6402fd422e93": {
          "model_module": "@jupyter-widgets/controls",
          "model_name": "DescriptionStyleModel",
          "model_module_version": "1.5.0",
          "state": {
            "_view_name": "StyleView",
            "_model_name": "DescriptionStyleModel",
            "description_width": "",
            "_view_module": "@jupyter-widgets/base",
            "_model_module_version": "1.5.0",
            "_view_count": null,
            "_view_module_version": "1.2.0",
            "_model_module": "@jupyter-widgets/controls"
          }
        },
        "5432e1f682f64f9abebf36f2c8f0fe2d": {
          "model_module": "@jupyter-widgets/base",
          "model_name": "LayoutModel",
          "model_module_version": "1.2.0",
          "state": {
            "_view_name": "LayoutView",
            "grid_template_rows": null,
            "right": null,
            "justify_content": null,
            "_view_module": "@jupyter-widgets/base",
            "overflow": null,
            "_model_module_version": "1.2.0",
            "_view_count": null,
            "flex_flow": null,
            "width": null,
            "min_width": null,
            "border": null,
            "align_items": null,
            "bottom": null,
            "_model_module": "@jupyter-widgets/base",
            "top": null,
            "grid_column": null,
            "overflow_y": null,
            "overflow_x": null,
            "grid_auto_flow": null,
            "grid_area": null,
            "grid_template_columns": null,
            "flex": null,
            "_model_name": "LayoutModel",
            "justify_items": null,
            "grid_row": null,
            "max_height": null,
            "align_content": null,
            "visibility": null,
            "align_self": null,
            "height": null,
            "min_height": null,
            "padding": null,
            "grid_auto_rows": null,
            "grid_gap": null,
            "max_width": null,
            "order": null,
            "_view_module_version": "1.2.0",
            "grid_template_areas": null,
            "object_position": null,
            "object_fit": null,
            "grid_auto_columns": null,
            "margin": null,
            "display": null,
            "left": null
          }
        },
        "e1f7c816caa449f69750804cd44ab71a": {
          "model_module": "@jupyter-widgets/controls",
          "model_name": "ProgressStyleModel",
          "model_module_version": "1.5.0",
          "state": {
            "_view_name": "StyleView",
            "_model_name": "ProgressStyleModel",
            "description_width": "",
            "_view_module": "@jupyter-widgets/base",
            "_model_module_version": "1.5.0",
            "_view_count": null,
            "_view_module_version": "1.2.0",
            "bar_color": null,
            "_model_module": "@jupyter-widgets/controls"
          }
        },
        "6a2fa7e0be644e9184902692a330125e": {
          "model_module": "@jupyter-widgets/base",
          "model_name": "LayoutModel",
          "model_module_version": "1.2.0",
          "state": {
            "_view_name": "LayoutView",
            "grid_template_rows": null,
            "right": null,
            "justify_content": null,
            "_view_module": "@jupyter-widgets/base",
            "overflow": null,
            "_model_module_version": "1.2.0",
            "_view_count": null,
            "flex_flow": null,
            "width": null,
            "min_width": null,
            "border": null,
            "align_items": null,
            "bottom": null,
            "_model_module": "@jupyter-widgets/base",
            "top": null,
            "grid_column": null,
            "overflow_y": null,
            "overflow_x": null,
            "grid_auto_flow": null,
            "grid_area": null,
            "grid_template_columns": null,
            "flex": null,
            "_model_name": "LayoutModel",
            "justify_items": null,
            "grid_row": null,
            "max_height": null,
            "align_content": null,
            "visibility": null,
            "align_self": null,
            "height": null,
            "min_height": null,
            "padding": null,
            "grid_auto_rows": null,
            "grid_gap": null,
            "max_width": null,
            "order": null,
            "_view_module_version": "1.2.0",
            "grid_template_areas": null,
            "object_position": null,
            "object_fit": null,
            "grid_auto_columns": null,
            "margin": null,
            "display": null,
            "left": null
          }
        },
        "4780df31bd4944bda0319485a45ffabd": {
          "model_module": "@jupyter-widgets/controls",
          "model_name": "DescriptionStyleModel",
          "model_module_version": "1.5.0",
          "state": {
            "_view_name": "StyleView",
            "_model_name": "DescriptionStyleModel",
            "description_width": "",
            "_view_module": "@jupyter-widgets/base",
            "_model_module_version": "1.5.0",
            "_view_count": null,
            "_view_module_version": "1.2.0",
            "_model_module": "@jupyter-widgets/controls"
          }
        },
        "db57f272780d4742a756fe2c33836ac9": {
          "model_module": "@jupyter-widgets/base",
          "model_name": "LayoutModel",
          "model_module_version": "1.2.0",
          "state": {
            "_view_name": "LayoutView",
            "grid_template_rows": null,
            "right": null,
            "justify_content": null,
            "_view_module": "@jupyter-widgets/base",
            "overflow": null,
            "_model_module_version": "1.2.0",
            "_view_count": null,
            "flex_flow": null,
            "width": null,
            "min_width": null,
            "border": null,
            "align_items": null,
            "bottom": null,
            "_model_module": "@jupyter-widgets/base",
            "top": null,
            "grid_column": null,
            "overflow_y": null,
            "overflow_x": null,
            "grid_auto_flow": null,
            "grid_area": null,
            "grid_template_columns": null,
            "flex": null,
            "_model_name": "LayoutModel",
            "justify_items": null,
            "grid_row": null,
            "max_height": null,
            "align_content": null,
            "visibility": null,
            "align_self": null,
            "height": null,
            "min_height": null,
            "padding": null,
            "grid_auto_rows": null,
            "grid_gap": null,
            "max_width": null,
            "order": null,
            "_view_module_version": "1.2.0",
            "grid_template_areas": null,
            "object_position": null,
            "object_fit": null,
            "grid_auto_columns": null,
            "margin": null,
            "display": null,
            "left": null
          }
        }
      }
    }
  },
  "cells": [
    {
      "cell_type": "markdown",
      "metadata": {
        "id": "view-in-github",
        "colab_type": "text"
      },
      "source": [
        "<a href=\"https://colab.research.google.com/github/alexlautw9527/for_notebook/blob/main/Node2Vec_toy.ipynb\" target=\"_parent\"><img src=\"https://colab.research.google.com/assets/colab-badge.svg\" alt=\"Open In Colab\"/></a>"
      ]
    },
    {
      "cell_type": "code",
      "metadata": {
        "id": "cvxQEALq44pu"
      },
      "source": [
        "%%capture\n",
        "!pip install node2vec\n",
        "!pip install pyvis"
      ],
      "execution_count": null,
      "outputs": []
    },
    {
      "cell_type": "code",
      "metadata": {
        "id": "ElsTqpcp5CUp"
      },
      "source": [
        "import matplotlib.pyplot as plt\n",
        "from itertools import combinations\n",
        "import random\n",
        "\n",
        "\n",
        "import networkx as nx\n",
        "\n",
        "from node2vec import Node2Vec\n",
        "import gensim\n",
        "from gensim.models.word2vec import Word2Vec"
      ],
      "execution_count": null,
      "outputs": []
    },
    {
      "cell_type": "code",
      "metadata": {
        "id": "780sUhjj35yk"
      },
      "source": [
        "## 生成隨機graph\n",
        "def ER(n, p):\n",
        "    V = set([v for v in range(n)])\n",
        "    E = set()\n",
        "    for combination in combinations(V, 2):\n",
        "        a = random.random()\n",
        "        if a < p:\n",
        "            E.add(combination)\n",
        "\n",
        "    g = nx.Graph()\n",
        "    g.add_nodes_from(V)\n",
        "    g.add_edges_from(E)\n",
        "\n",
        "    return g\n",
        "\n",
        "\n",
        "n = 20\n",
        "p = 0.4\n",
        "G = ER(n, p)\n",
        "\n",
        "\n",
        "## 隨機加權重\n",
        "for (u,v,w) in G.edges(data=True):\n",
        "    w['weight'] = random.randint(0,50)\n"
      ],
      "execution_count": null,
      "outputs": []
    },
    {
      "cell_type": "code",
      "metadata": {
        "colab": {
          "base_uri": "https://localhost:8080/",
          "height": 264
        },
        "id": "ugqbYAa87bzL",
        "outputId": "10ef8e33-bbfd-480c-9953-b0d45998e2a7"
      },
      "source": [
        "pos = nx.spring_layout(G)\n",
        "nx.draw_networkx(G, pos)\n",
        "\n",
        "\n",
        "plt.title(\"Random Graph Generation Example\")\n",
        "plt.show()"
      ],
      "execution_count": null,
      "outputs": [
        {
          "output_type": "display_data",
          "data": {
            "image/png": "[encoded data removed]",
            "text/plain": [
              "<Figure size 432x288 with 1 Axes>"
            ]
          },
          "metadata": {}
        }
      ]
    },
    {
      "cell_type": "code",
      "metadata": {
        "colab": {
          "base_uri": "https://localhost:8080/",
          "height": 538
        },
        "id": "nXLim_FL5Oo7",
        "outputId": "4590c38a-7b14-4e98-be79-d2f2c13b8e84"
      },
      "source": [
        "# pyvis part\n",
        "from pyvis.network import Network\n",
        "from IPython.core.display import display, HTML\n",
        "\n",
        "\n",
        "## 互動式視覺化\n",
        "nt = Network(\"500px\", \"1000px\", notebook=False)\n",
        "nt.from_nx(G)\n",
        "nt.show('network.html')\n",
        "display(HTML('network.html'))"
      ],
      "execution_count": null,
      "outputs": [
        {
          "output_type": "display_data",
          "data": {
            "text/html": [
              "<html>\n",
              "<head>\n",
              "<link rel=\"stylesheet\" href=\"https://cdnjs.cloudflare.com/ajax/libs/vis/4.16.1/vis.css\" type=\"text/css\" />\n",
              "<script type=\"text/javascript\" src=\"https://cdnjs.cloudflare.com/ajax/libs/vis/4.16.1/vis-network.min.js\"> </script>\n",
              "<center>\n",
              "<h1></h1>\n",
              "</center>\n",
              "\n",
              "<!-- <link rel=\"stylesheet\" href=\"../node_modules/vis/dist/vis.min.css\" type=\"text/css\" />\n",
              "<script type=\"text/javascript\" src=\"../node_modules/vis/dist/vis.js\"> </script>-->\n",
              "\n",
              "<style type=\"text/css\">\n",
              "\n",
              "        #mynetwork {\n",
              "            width: 1000px;\n",
              "            height: 500px;\n",
              "            background-color: #ffffff;\n",
              "            border: 1px solid lightgray;\n",
              "            position: relative;\n",
              "            float: left;\n",
              "        }\n",
              "\n",
              "        \n",
              "\n",
              "        \n",
              "\n",
              "        \n",
              "</style>\n",
              "\n",
              "</head>\n",
              "\n",
              "<body>\n",
              "<div id = \"mynetwork\"></div>\n",
              "\n",
              "\n",
              "<script type=\"text/javascript\">\n",
              "\n",
              "    // initialize global variables.\n",
              "    var edges;\n",
              "    var nodes;\n",
              "    var network; \n",
              "    var container;\n",
              "    var options, data;\n",
              "\n",
              "    \n",
              "    // This method is responsible for drawing the graph, returns the drawn network\n",
              "    function drawGraph() {\n",
              "        var container = document.getElementById('mynetwork');\n",
              "        \n",
              "        \n",
              "\n",
              "        // parsing and collecting nodes and edges from the python\n",
              "        nodes = new vis.DataSet([{\"id\": 0, \"label\": 0, \"shape\": \"dot\", \"size\": 10}, {\"id\": 14, \"label\": 14, \"shape\": \"dot\", \"size\": 10}, {\"id\": 2, \"label\": 2, \"shape\": \"dot\", \"size\": 10}, {\"id\": 16, \"label\": 16, \"shape\": \"dot\", \"size\": 10}, {\"id\": 15, \"label\": 15, \"shape\": \"dot\", \"size\": 10}, {\"id\": 13, \"label\": 13, \"shape\": \"dot\", \"size\": 10}, {\"id\": 9, \"label\": 9, \"shape\": \"dot\", \"size\": 10}, {\"id\": 1, \"label\": 1, \"shape\": \"dot\", \"size\": 10}, {\"id\": 3, \"label\": 3, \"shape\": \"dot\", \"size\": 10}, {\"id\": 10, \"label\": 10, \"shape\": \"dot\", \"size\": 10}, {\"id\": 4, \"label\": 4, \"shape\": \"dot\", \"size\": 10}, {\"id\": 12, \"label\": 12, \"shape\": \"dot\", \"size\": 10}, {\"id\": 5, \"label\": 5, \"shape\": \"dot\", \"size\": 10}, {\"id\": 19, \"label\": 19, \"shape\": \"dot\", \"size\": 10}, {\"id\": 6, \"label\": 6, \"shape\": \"dot\", \"size\": 10}, {\"id\": 7, \"label\": 7, \"shape\": \"dot\", \"size\": 10}, {\"id\": 11, \"label\": 11, \"shape\": \"dot\", \"size\": 10}, {\"id\": 18, \"label\": 18, \"shape\": \"dot\", \"size\": 10}, {\"id\": 8, \"label\": 8, \"shape\": \"dot\", \"size\": 10}, {\"id\": 17, \"label\": 17, \"shape\": \"dot\", \"size\": 10}]);\n",
              "        edges = new vis.DataSet([{\"from\": 0, \"to\": 14, \"weight\": 6}, {\"from\": 0, \"to\": 2, \"weight\": 39}, {\"from\": 0, \"to\": 16, \"weight\": 10}, {\"from\": 0, \"to\": 15, \"weight\": 11}, {\"from\": 0, \"to\": 13, \"weight\": 43}, {\"from\": 0, \"to\": 9, \"weight\": 12}, {\"from\": 1, \"to\": 3, \"weight\": 30}, {\"from\": 1, \"to\": 15, \"weight\": 34}, {\"from\": 1, \"to\": 16, \"weight\": 36}, {\"from\": 1, \"to\": 14, \"weight\": 19}, {\"from\": 1, \"to\": 10, \"weight\": 48}, {\"from\": 1, \"to\": 13, \"weight\": 33}, {\"from\": 1, \"to\": 4, \"weight\": 6}, {\"from\": 2, \"to\": 12, \"weight\": 33}, {\"from\": 2, \"to\": 5, \"weight\": 19}, {\"from\": 2, \"to\": 19, \"weight\": 1}, {\"from\": 2, \"to\": 9, \"weight\": 17}, {\"from\": 2, \"to\": 15, \"weight\": 29}, {\"from\": 2, \"to\": 6, \"weight\": 39}, {\"from\": 2, \"to\": 14, \"weight\": 5}, {\"from\": 2, \"to\": 7, \"weight\": 21}, {\"from\": 2, \"to\": 4, \"weight\": 4}, {\"from\": 3, \"to\": 15, \"weight\": 18}, {\"from\": 3, \"to\": 11, \"weight\": 33}, {\"from\": 3, \"to\": 14, \"weight\": 27}, {\"from\": 3, \"to\": 10, \"weight\": 37}, {\"from\": 3, \"to\": 16, \"weight\": 18}, {\"from\": 3, \"to\": 19, \"weight\": 7}, {\"from\": 3, \"to\": 5, \"weight\": 18}, {\"from\": 3, \"to\": 12, \"weight\": 21}, {\"from\": 3, \"to\": 18, \"weight\": 28}, {\"from\": 4, \"to\": 8, \"weight\": 29}, {\"from\": 4, \"to\": 10, \"weight\": 29}, {\"from\": 4, \"to\": 14, \"weight\": 29}, {\"from\": 4, \"to\": 11, \"weight\": 32}, {\"from\": 4, \"to\": 15, \"weight\": 16}, {\"from\": 4, \"to\": 17, \"weight\": 49}, {\"from\": 5, \"to\": 6, \"weight\": 22}, {\"from\": 5, \"to\": 18, \"weight\": 37}, {\"from\": 5, \"to\": 15, \"weight\": 6}, {\"from\": 6, \"to\": 17, \"weight\": 50}, {\"from\": 6, \"to\": 12, \"weight\": 22}, {\"from\": 7, \"to\": 11, \"weight\": 9}, {\"from\": 7, \"to\": 9, \"weight\": 34}, {\"from\": 8, \"to\": 19, \"weight\": 27}, {\"from\": 8, \"to\": 12, \"weight\": 40}, {\"from\": 8, \"to\": 18, \"weight\": 3}, {\"from\": 9, \"to\": 11, \"weight\": 7}, {\"from\": 9, \"to\": 17, \"weight\": 4}, {\"from\": 9, \"to\": 16, \"weight\": 18}, {\"from\": 9, \"to\": 13, \"weight\": 25}, {\"from\": 9, \"to\": 12, \"weight\": 7}, {\"from\": 10, \"to\": 13, \"weight\": 36}, {\"from\": 10, \"to\": 16, \"weight\": 35}, {\"from\": 11, \"to\": 19, \"weight\": 10}, {\"from\": 13, \"to\": 17, \"weight\": 45}, {\"from\": 13, \"to\": 18, \"weight\": 12}, {\"from\": 14, \"to\": 16, \"weight\": 49}]);\n",
              "\n",
              "        // adding nodes and edges to the graph\n",
              "        data = {nodes: nodes, edges: edges};\n",
              "\n",
              "        var options = {\n",
              "    \"configure\": {\n",
              "        \"enabled\": false\n",
              "    },\n",
              "    \"edges\": {\n",
              "        \"color\": {\n",
              "            \"inherit\": true\n",
              "        },\n",
              "        \"smooth\": {\n",
              "            \"enabled\": false,\n",
              "            \"type\": \"continuous\"\n",
              "        }\n",
              "    },\n",
              "    \"interaction\": {\n",
              "        \"dragNodes\": true,\n",
              "        \"hideEdgesOnDrag\": false,\n",
              "        \"hideNodesOnDrag\": false\n",
              "    },\n",
              "    \"physics\": {\n",
              "        \"enabled\": true,\n",
              "        \"stabilization\": {\n",
              "            \"enabled\": true,\n",
              "            \"fit\": true,\n",
              "            \"iterations\": 1000,\n",
              "            \"onlyDynamicEdges\": false,\n",
              "            \"updateInterval\": 50\n",
              "        }\n",
              "    }\n",
              "};\n",
              "        \n",
              "        \n",
              "\n",
              "        \n",
              "\n",
              "        network = new vis.Network(container, data, options);\n",
              "\t \n",
              "        \n",
              "\n",
              "\n",
              "        \n",
              "\n",
              "        return network;\n",
              "\n",
              "    }\n",
              "\n",
              "    drawGraph();\n",
              "\n",
              "</script>\n",
              "</body>\n",
              "</html>"
            ],
            "text/plain": [
              "<IPython.core.display.HTML object>"
            ]
          },
          "metadata": {}
        }
      ]
    },
    {
      "cell_type": "code",
      "metadata": {
        "colab": {
          "base_uri": "https://localhost:8080/",
          "height": 49,
          "referenced_widgets": [
            "e95181e804a045149fc55579d593f181",
            "175511d54d9742f1b85456530ce01512",
            "7186d57474b84216bff69353920de848",
            "3c6dfde1118240508469746285434c0b",
            "89242831136d41e797fbf47386d001e1",
            "c05445bfe926404a871d6402fd422e93",
            "5432e1f682f64f9abebf36f2c8f0fe2d",
            "e1f7c816caa449f69750804cd44ab71a",
            "6a2fa7e0be644e9184902692a330125e",
            "4780df31bd4944bda0319485a45ffabd",
            "db57f272780d4742a756fe2c33836ac9"
          ]
        },
        "id": "sxyPFHi-5nDE",
        "outputId": "dfae50ec-8142-43f9-c5e1-c54c0aec7e4d"
      },
      "source": [
        "\n",
        "'''\n",
        ":param graph: Input graph\n",
        ":param dimensions: Embedding dimensions (default: 128)\n",
        ":param walk_length: Number of nodes in each walk (default: 80)\n",
        ":param num_walks: Number of walks per node (default: 10)\n",
        ":param p: Return hyper parameter (default: 1)\n",
        ":param q: Inout parameter (default: 1)\n",
        ":param weight_key: On weighted graphs, this is the key for the weight attribute (default: 'weight')\n",
        ":param workers: Number of workers for parallel execution (default: 1)\n",
        ":param sampling_strategy: Node specific sampling strategies, supports setting node specific 'q', 'p', 'num_walks' and 'walk_length'.\n",
        ":param seed: Seed for the random number generator.\n",
        "'''\n",
        "\n",
        "# Precompute probabilities and generate walks - **ON WINDOWS ONLY WORKS WITH workers=1**\n",
        "# node2vec分成2步: 先用graph生成序列(walks), 再用序列直接套word2vec的skip-gram\n",
        "# 這個套件可以end to end完成, 但我偏好先生成序列, 後續自己拿序列來train\n",
        "node2vec = Node2Vec(G, dimensions=64, walk_length=20, num_walks=10, workers=8)  # Use temp_folder for big graphs"
      ],
      "execution_count": null,
      "outputs": [
        {
          "output_type": "display_data",
          "data": {
            "application/vnd.jupyter.widget-view+json": {
              "model_id": "e95181e804a045149fc55579d593f181",
              "version_minor": 0,
              "version_major": 2
            },
            "text/plain": [
              "Computing transition probabilities:   0%|          | 0/20 [00:00<?, ?it/s]"
            ]
          },
          "metadata": {}
        }
      ]
    },
    {
      "cell_type": "code",
      "metadata": {
        "colab": {
          "base_uri": "https://localhost:8080/"
        },
        "id": "6MrjHPDH57bE",
        "outputId": "5007162c-d7f7-4f83-c4c9-b9b36514e1fd"
      },
      "source": [
        "# 叫出序列\n",
        "node2vec.walks[0:2]"
      ],
      "execution_count": null,
      "outputs": [
        {
          "output_type": "execute_result",
          "data": {
            "text/plain": [
              "[['14',\n",
              "  '16',\n",
              "  '9',\n",
              "  '7',\n",
              "  '11',\n",
              "  '3',\n",
              "  '15',\n",
              "  '1',\n",
              "  '15',\n",
              "  '2',\n",
              "  '15',\n",
              "  '3',\n",
              "  '5',\n",
              "  '15',\n",
              "  '4',\n",
              "  '14',\n",
              "  '16',\n",
              "  '14',\n",
              "  '3',\n",
              "  '11'],\n",
              " ['3',\n",
              "  '14',\n",
              "  '16',\n",
              "  '1',\n",
              "  '13',\n",
              "  '18',\n",
              "  '3',\n",
              "  '10',\n",
              "  '4',\n",
              "  '14',\n",
              "  '3',\n",
              "  '12',\n",
              "  '3',\n",
              "  '1',\n",
              "  '10',\n",
              "  '1',\n",
              "  '15',\n",
              "  '4',\n",
              "  '17',\n",
              "  '6']]"
            ]
          },
          "metadata": {},
          "execution_count": 39
        }
      ]
    },
    {
      "cell_type": "code",
      "metadata": {
        "id": "1EzrX8Lo6OvQ"
      },
      "source": [
        "# 用genism skip-gram\n",
        "\n",
        "node_corpus = node2vec.walks\n",
        "n2v_model = Word2Vec(node_corpus, size=64, iter=20, window=5, sg=1, negative=20, min_count=1, workers=16)"
      ],
      "execution_count": null,
      "outputs": []
    },
    {
      "cell_type": "code",
      "metadata": {
        "colab": {
          "base_uri": "https://localhost:8080/"
        },
        "id": "mmYpV4IJ8yNU",
        "outputId": "8f7c2cff-e1e5-4cc2-f3ab-ec9ea19fa7b9"
      },
      "source": [
        "G[1]"
      ],
      "execution_count": null,
      "outputs": [
        {
          "output_type": "execute_result",
          "data": {
            "text/plain": [
              "AtlasView({3: {'weight': 30}, 15: {'weight': 34}, 16: {'weight': 36}, 14: {'weight': 19}, 10: {'weight': 48}, 13: {'weight': 33}, 4: {'weight': 6}})"
            ]
          },
          "metadata": {},
          "execution_count": 42
        }
      ]
    },
    {
      "cell_type": "code",
      "metadata": {
        "colab": {
          "base_uri": "https://localhost:8080/"
        },
        "id": "WjCBTdCy6eVD",
        "outputId": "e1f17125-5082-486e-a30f-64553c57e074"
      },
      "source": [
        "# 找最近\n",
        "\n",
        "n2v_model.wv.most_similar('1', topn=3)"
      ],
      "execution_count": null,
      "outputs": [
        {
          "output_type": "execute_result",
          "data": {
            "text/plain": [
              "[('3', 0.9983296990394592),\n",
              " ('10', 0.9980359077453613),\n",
              " ('16', 0.9957547187805176)]"
            ]
          },
          "metadata": {},
          "execution_count": 41
        }
      ]
    }
  ]
}