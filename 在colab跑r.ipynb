{
  "nbformat": 4,
  "nbformat_minor": 0,
  "metadata": {
    "colab": {
      "name": "在colab跑r",
      "provenance": [],
      "authorship_tag": "ABX9TyPNhkjokSNWZf97Z1j0XwSK",
      "include_colab_link": true
    },
    "kernelspec": {
      "name": "python3",
      "display_name": "Python 3"
    },
    "language_info": {
      "name": "python"
    }
  },
  "cells": [
    {
      "cell_type": "markdown",
      "metadata": {
        "id": "view-in-github",
        "colab_type": "text"
      },
      "source": [
        "<a href=\"https://colab.research.google.com/github/alexlautw9527/for_notebook/blob/main/%E5%9C%A8colab%E8%B7%91r.ipynb\" target=\"_parent\"><img src=\"https://colab.research.google.com/assets/colab-badge.svg\" alt=\"Open In Colab\"/></a>"
      ]
    },
    {
      "cell_type": "code",
      "metadata": {
        "id": "PQtfd4OHYeU9"
      },
      "source": [
        "# Add new user called \"rstudio\" and define password (here \"password123\")\n",
        "!sudo useradd -m -s /bin/bash rstudio\n",
        "!echo rstudio:password123 | chpasswd\n",
        "\n",
        "# Install R and RStudio Server (Don't forget to update version to latest version)\n",
        "!apt-get update\n",
        "!apt-get install r-base\n",
        "!apt-get install gdebi-core\n",
        "!apt-get install dbus\n",
        "\n",
        "!wget https://download2.rstudio.org/server/bionic/amd64/rstudio-server-1.4.1103-amd64.deb\n",
        "!gdebi -n rstudio-server-1.4.1103-amd64.deb\n",
        "\n",
        "#===============================================================================\n",
        "# ALTERNATIVE 1: Use ngrok \n",
        "#===============================================================================\n",
        "# Advantage: Runs in the background\n",
        "# Disadvantage: Not so stable \n",
        "# (often 429 errors during RStudio usage due to max 20 connections without account)\n",
        "# Optionally register for a free accoount which gets this number up to 40 connections:\n",
        "# https://ngrok.com/pricing \n",
        "\n",
        "# Install ngrok (https://ngrok.com/)\n",
        "!wget -c https://bin.equinox.io/c/4VmDzA7iaHb/ngrok-stable-linux-amd64.zip\n",
        "!unzip -o ngrok-stable-linux-amd64.zip\n",
        "\n",
        "# Run ngrok to tunnel RStudio app port 8787 to the outside world. \n",
        "# This command runs in the background.\n",
        "get_ipython().system_raw('./ngrok http 8787 &')\n",
        "\n",
        "# Get the public URL where you can access the Dash app. Copy this URL.\n",
        "! printf \"\\n\\nClick on the following link: \"\n",
        "! curl -s http://localhost:4040/api/tunnels | python3 -c \\\n",
        "    \"import sys, json; print(json.load(sys.stdin)['tunnels'][0]['public_url'])\"\n",
        "\n",
        " # ==> To access to the RStudio server \n",
        " #     - click on this link and \n",
        " #     - use the username \"rstudio\" and \n",
        " #     - the password you defined at the first cell (\"password123\" in this example).\n",
        "\n",
        "#===============================================================================\n",
        "# ALTERNATIVE 2 (preferred): Use localtunnel \n",
        "#===============================================================================\n",
        "# (see also: https://github.com/naru-T/RstudioServer_on_Colab/blob/master/Rstudio_server.ipynb)\n",
        "# Advantage: Stable usage of RStudio\n",
        "# Disadvantage: Does not run in the background (i.e. Colab blocked)\n",
        "\n",
        "# Install localtunnel\n",
        "!npm install -g npm\n",
        "!npm install -g localtunnel\n",
        "\n",
        "# Run localtunnel to tunnel RStudio app port 8787 to the outside world. \n",
        "# This command runs in the background.\n",
        "!lt --port 8787 \n",
        "\n",
        " # ==> To access to the RStudio server \n",
        " #     - click on this link, \n",
        " #     - click button \"Click to Continue\" on the \"friendly reminder\" page,\n",
        " #     - use the username \"rstudio\" and \n",
        " #     - the password you defined at the first cell (\"password123\" in this example)."
      ],
      "execution_count": null,
      "outputs": []
    }
  ]
}